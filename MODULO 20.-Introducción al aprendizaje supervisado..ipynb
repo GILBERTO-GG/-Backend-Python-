{
 "cells": [
  {
   "cell_type": "markdown",
   "id": "c4543f29",
   "metadata": {},
   "source": [
    "# Regresión Lineal simple"
   ]
  },
  {
   "cell_type": "code",
   "execution_count": 1,
   "id": "498f1370",
   "metadata": {},
   "outputs": [],
   "source": [
    "import matplotlib.pyplot as plt\n",
    "import pandas as pd\n",
    "import pylab as pl\n",
    "import numpy as np\n",
    "import os\n",
    "os.chdir(\"/Users/gilgu/OneDrive/Escritorio\")"
   ]
  },
  {
   "cell_type": "code",
   "execution_count": 4,
   "id": "85a32546",
   "metadata": {},
   "outputs": [
    {
     "data": {
      "text/html": [
       "<div>\n",
       "<style scoped>\n",
       "    .dataframe tbody tr th:only-of-type {\n",
       "        vertical-align: middle;\n",
       "    }\n",
       "\n",
       "    .dataframe tbody tr th {\n",
       "        vertical-align: top;\n",
       "    }\n",
       "\n",
       "    .dataframe thead th {\n",
       "        text-align: right;\n",
       "    }\n",
       "</style>\n",
       "<table border=\"1\" class=\"dataframe\">\n",
       "  <thead>\n",
       "    <tr style=\"text-align: right;\">\n",
       "      <th></th>\n",
       "      <th>MODELYEAR</th>\n",
       "      <th>MAKE</th>\n",
       "      <th>MODEL</th>\n",
       "      <th>VEHICLECLASS</th>\n",
       "      <th>ENGINESIZE</th>\n",
       "      <th>CYLINDERS</th>\n",
       "      <th>TRANSMISSION</th>\n",
       "      <th>FUELTYPE</th>\n",
       "      <th>FUELCONSUMPTION_CITY</th>\n",
       "      <th>FUELCONSUMPTION_HWY</th>\n",
       "      <th>FUELCONSUMPTION_COMB</th>\n",
       "      <th>FUELCONSUMPTION_COMB_MPG</th>\n",
       "      <th>CO2EMISSIONS</th>\n",
       "    </tr>\n",
       "  </thead>\n",
       "  <tbody>\n",
       "    <tr>\n",
       "      <th>0</th>\n",
       "      <td>2022</td>\n",
       "      <td>Acura</td>\n",
       "      <td>ILX</td>\n",
       "      <td>Compact</td>\n",
       "      <td>2.4</td>\n",
       "      <td>4</td>\n",
       "      <td>AM8</td>\n",
       "      <td>Z</td>\n",
       "      <td>9.9</td>\n",
       "      <td>7.0</td>\n",
       "      <td>8.6</td>\n",
       "      <td>33</td>\n",
       "      <td>200</td>\n",
       "    </tr>\n",
       "    <tr>\n",
       "      <th>1</th>\n",
       "      <td>2022</td>\n",
       "      <td>Acura</td>\n",
       "      <td>MDX SH-AWD</td>\n",
       "      <td>SUV: Small</td>\n",
       "      <td>3.5</td>\n",
       "      <td>6</td>\n",
       "      <td>AS10</td>\n",
       "      <td>Z</td>\n",
       "      <td>12.6</td>\n",
       "      <td>9.4</td>\n",
       "      <td>11.2</td>\n",
       "      <td>25</td>\n",
       "      <td>263</td>\n",
       "    </tr>\n",
       "    <tr>\n",
       "      <th>2</th>\n",
       "      <td>2022</td>\n",
       "      <td>Acura</td>\n",
       "      <td>RDX SH-AWD</td>\n",
       "      <td>SUV: Small</td>\n",
       "      <td>2.0</td>\n",
       "      <td>4</td>\n",
       "      <td>AS10</td>\n",
       "      <td>Z</td>\n",
       "      <td>11.0</td>\n",
       "      <td>8.6</td>\n",
       "      <td>9.9</td>\n",
       "      <td>29</td>\n",
       "      <td>232</td>\n",
       "    </tr>\n",
       "    <tr>\n",
       "      <th>3</th>\n",
       "      <td>2022</td>\n",
       "      <td>Acura</td>\n",
       "      <td>RDX SH-AWD A-SPEC</td>\n",
       "      <td>SUV: Small</td>\n",
       "      <td>2.0</td>\n",
       "      <td>4</td>\n",
       "      <td>AS10</td>\n",
       "      <td>Z</td>\n",
       "      <td>11.3</td>\n",
       "      <td>9.1</td>\n",
       "      <td>10.3</td>\n",
       "      <td>27</td>\n",
       "      <td>242</td>\n",
       "    </tr>\n",
       "    <tr>\n",
       "      <th>4</th>\n",
       "      <td>2022</td>\n",
       "      <td>Acura</td>\n",
       "      <td>TLX SH-AWD</td>\n",
       "      <td>Compact</td>\n",
       "      <td>2.0</td>\n",
       "      <td>4</td>\n",
       "      <td>AS10</td>\n",
       "      <td>Z</td>\n",
       "      <td>11.2</td>\n",
       "      <td>8.0</td>\n",
       "      <td>9.8</td>\n",
       "      <td>29</td>\n",
       "      <td>230</td>\n",
       "    </tr>\n",
       "  </tbody>\n",
       "</table>\n",
       "</div>"
      ],
      "text/plain": [
       "   MODELYEAR   MAKE              MODEL VEHICLECLASS  ENGINESIZE  CYLINDERS  \\\n",
       "0       2022  Acura                ILX      Compact         2.4          4   \n",
       "1       2022  Acura         MDX SH-AWD   SUV: Small         3.5          6   \n",
       "2       2022  Acura         RDX SH-AWD   SUV: Small         2.0          4   \n",
       "3       2022  Acura  RDX SH-AWD A-SPEC   SUV: Small         2.0          4   \n",
       "4       2022  Acura         TLX SH-AWD      Compact         2.0          4   \n",
       "\n",
       "  TRANSMISSION FUELTYPE  FUELCONSUMPTION_CITY  FUELCONSUMPTION_HWY  \\\n",
       "0          AM8        Z                   9.9                  7.0   \n",
       "1         AS10        Z                  12.6                  9.4   \n",
       "2         AS10        Z                  11.0                  8.6   \n",
       "3         AS10        Z                  11.3                  9.1   \n",
       "4         AS10        Z                  11.2                  8.0   \n",
       "\n",
       "   FUELCONSUMPTION_COMB  FUELCONSUMPTION_COMB_MPG  CO2EMISSIONS  \n",
       "0                   8.6                        33           200  \n",
       "1                  11.2                        25           263  \n",
       "2                   9.9                        29           232  \n",
       "3                  10.3                        27           242  \n",
       "4                   9.8                        29           230  "
      ]
     },
     "execution_count": 4,
     "metadata": {},
     "output_type": "execute_result"
    }
   ],
   "source": [
    "df = pd.read_excel(\"FuelConsumptionCo2.xlsx\")\n",
    "df.head()"
   ]
  },
  {
   "cell_type": "markdown",
   "id": "ae59f5d4",
   "metadata": {},
   "source": [
    "# Exploración de datos"
   ]
  },
  {
   "cell_type": "code",
   "execution_count": 5,
   "id": "8d7176a8",
   "metadata": {},
   "outputs": [
    {
     "data": {
      "text/html": [
       "<div>\n",
       "<style scoped>\n",
       "    .dataframe tbody tr th:only-of-type {\n",
       "        vertical-align: middle;\n",
       "    }\n",
       "\n",
       "    .dataframe tbody tr th {\n",
       "        vertical-align: top;\n",
       "    }\n",
       "\n",
       "    .dataframe thead th {\n",
       "        text-align: right;\n",
       "    }\n",
       "</style>\n",
       "<table border=\"1\" class=\"dataframe\">\n",
       "  <thead>\n",
       "    <tr style=\"text-align: right;\">\n",
       "      <th></th>\n",
       "      <th>MODELYEAR</th>\n",
       "      <th>ENGINESIZE</th>\n",
       "      <th>CYLINDERS</th>\n",
       "      <th>FUELCONSUMPTION_CITY</th>\n",
       "      <th>FUELCONSUMPTION_HWY</th>\n",
       "      <th>FUELCONSUMPTION_COMB</th>\n",
       "      <th>FUELCONSUMPTION_COMB_MPG</th>\n",
       "      <th>CO2EMISSIONS</th>\n",
       "    </tr>\n",
       "  </thead>\n",
       "  <tbody>\n",
       "    <tr>\n",
       "      <th>count</th>\n",
       "      <td>945.0</td>\n",
       "      <td>945.000000</td>\n",
       "      <td>945.000000</td>\n",
       "      <td>945.000000</td>\n",
       "      <td>945.000000</td>\n",
       "      <td>945.000000</td>\n",
       "      <td>945.000000</td>\n",
       "      <td>945.000000</td>\n",
       "    </tr>\n",
       "    <tr>\n",
       "      <th>mean</th>\n",
       "      <td>2022.0</td>\n",
       "      <td>3.201058</td>\n",
       "      <td>5.670899</td>\n",
       "      <td>12.515767</td>\n",
       "      <td>9.374603</td>\n",
       "      <td>11.102222</td>\n",
       "      <td>27.222222</td>\n",
       "      <td>259.410582</td>\n",
       "    </tr>\n",
       "    <tr>\n",
       "      <th>std</th>\n",
       "      <td>0.0</td>\n",
       "      <td>1.374256</td>\n",
       "      <td>1.932837</td>\n",
       "      <td>3.452369</td>\n",
       "      <td>2.290217</td>\n",
       "      <td>2.878074</td>\n",
       "      <td>7.684409</td>\n",
       "      <td>64.486225</td>\n",
       "    </tr>\n",
       "    <tr>\n",
       "      <th>min</th>\n",
       "      <td>2022.0</td>\n",
       "      <td>1.200000</td>\n",
       "      <td>3.000000</td>\n",
       "      <td>4.000000</td>\n",
       "      <td>3.900000</td>\n",
       "      <td>4.000000</td>\n",
       "      <td>11.000000</td>\n",
       "      <td>94.000000</td>\n",
       "    </tr>\n",
       "    <tr>\n",
       "      <th>25%</th>\n",
       "      <td>2022.0</td>\n",
       "      <td>2.000000</td>\n",
       "      <td>4.000000</td>\n",
       "      <td>10.200000</td>\n",
       "      <td>7.700000</td>\n",
       "      <td>9.100000</td>\n",
       "      <td>22.000000</td>\n",
       "      <td>214.000000</td>\n",
       "    </tr>\n",
       "    <tr>\n",
       "      <th>50%</th>\n",
       "      <td>2022.0</td>\n",
       "      <td>3.000000</td>\n",
       "      <td>6.000000</td>\n",
       "      <td>12.200000</td>\n",
       "      <td>9.200000</td>\n",
       "      <td>10.800000</td>\n",
       "      <td>26.000000</td>\n",
       "      <td>258.000000</td>\n",
       "    </tr>\n",
       "    <tr>\n",
       "      <th>75%</th>\n",
       "      <td>2022.0</td>\n",
       "      <td>3.800000</td>\n",
       "      <td>6.000000</td>\n",
       "      <td>14.700000</td>\n",
       "      <td>10.700000</td>\n",
       "      <td>12.900000</td>\n",
       "      <td>31.000000</td>\n",
       "      <td>301.000000</td>\n",
       "    </tr>\n",
       "    <tr>\n",
       "      <th>max</th>\n",
       "      <td>2022.0</td>\n",
       "      <td>8.000000</td>\n",
       "      <td>16.000000</td>\n",
       "      <td>30.300000</td>\n",
       "      <td>20.900000</td>\n",
       "      <td>26.100000</td>\n",
       "      <td>71.000000</td>\n",
       "      <td>608.000000</td>\n",
       "    </tr>\n",
       "  </tbody>\n",
       "</table>\n",
       "</div>"
      ],
      "text/plain": [
       "       MODELYEAR  ENGINESIZE   CYLINDERS  FUELCONSUMPTION_CITY  \\\n",
       "count      945.0  945.000000  945.000000            945.000000   \n",
       "mean      2022.0    3.201058    5.670899             12.515767   \n",
       "std          0.0    1.374256    1.932837              3.452369   \n",
       "min       2022.0    1.200000    3.000000              4.000000   \n",
       "25%       2022.0    2.000000    4.000000             10.200000   \n",
       "50%       2022.0    3.000000    6.000000             12.200000   \n",
       "75%       2022.0    3.800000    6.000000             14.700000   \n",
       "max       2022.0    8.000000   16.000000             30.300000   \n",
       "\n",
       "       FUELCONSUMPTION_HWY  FUELCONSUMPTION_COMB  FUELCONSUMPTION_COMB_MPG  \\\n",
       "count           945.000000            945.000000                945.000000   \n",
       "mean              9.374603             11.102222                 27.222222   \n",
       "std               2.290217              2.878074                  7.684409   \n",
       "min               3.900000              4.000000                 11.000000   \n",
       "25%               7.700000              9.100000                 22.000000   \n",
       "50%               9.200000             10.800000                 26.000000   \n",
       "75%              10.700000             12.900000                 31.000000   \n",
       "max              20.900000             26.100000                 71.000000   \n",
       "\n",
       "       CO2EMISSIONS  \n",
       "count    945.000000  \n",
       "mean     259.410582  \n",
       "std       64.486225  \n",
       "min       94.000000  \n",
       "25%      214.000000  \n",
       "50%      258.000000  \n",
       "75%      301.000000  \n",
       "max      608.000000  "
      ]
     },
     "execution_count": 5,
     "metadata": {},
     "output_type": "execute_result"
    }
   ],
   "source": [
    "df.describe()"
   ]
  },
  {
   "cell_type": "code",
   "execution_count": 6,
   "id": "d2839331",
   "metadata": {},
   "outputs": [
    {
     "data": {
      "text/html": [
       "<div>\n",
       "<style scoped>\n",
       "    .dataframe tbody tr th:only-of-type {\n",
       "        vertical-align: middle;\n",
       "    }\n",
       "\n",
       "    .dataframe tbody tr th {\n",
       "        vertical-align: top;\n",
       "    }\n",
       "\n",
       "    .dataframe thead th {\n",
       "        text-align: right;\n",
       "    }\n",
       "</style>\n",
       "<table border=\"1\" class=\"dataframe\">\n",
       "  <thead>\n",
       "    <tr style=\"text-align: right;\">\n",
       "      <th></th>\n",
       "      <th>ENGINESIZE</th>\n",
       "      <th>CYLINDERS</th>\n",
       "      <th>FUELCONSUMPTION_COMB</th>\n",
       "      <th>CO2EMISSIONS</th>\n",
       "    </tr>\n",
       "  </thead>\n",
       "  <tbody>\n",
       "    <tr>\n",
       "      <th>0</th>\n",
       "      <td>2.4</td>\n",
       "      <td>4</td>\n",
       "      <td>8.6</td>\n",
       "      <td>200</td>\n",
       "    </tr>\n",
       "    <tr>\n",
       "      <th>1</th>\n",
       "      <td>3.5</td>\n",
       "      <td>6</td>\n",
       "      <td>11.2</td>\n",
       "      <td>263</td>\n",
       "    </tr>\n",
       "    <tr>\n",
       "      <th>2</th>\n",
       "      <td>2.0</td>\n",
       "      <td>4</td>\n",
       "      <td>9.9</td>\n",
       "      <td>232</td>\n",
       "    </tr>\n",
       "    <tr>\n",
       "      <th>3</th>\n",
       "      <td>2.0</td>\n",
       "      <td>4</td>\n",
       "      <td>10.3</td>\n",
       "      <td>242</td>\n",
       "    </tr>\n",
       "    <tr>\n",
       "      <th>4</th>\n",
       "      <td>2.0</td>\n",
       "      <td>4</td>\n",
       "      <td>9.8</td>\n",
       "      <td>230</td>\n",
       "    </tr>\n",
       "    <tr>\n",
       "      <th>5</th>\n",
       "      <td>2.0</td>\n",
       "      <td>4</td>\n",
       "      <td>9.8</td>\n",
       "      <td>231</td>\n",
       "    </tr>\n",
       "    <tr>\n",
       "      <th>6</th>\n",
       "      <td>3.0</td>\n",
       "      <td>6</td>\n",
       "      <td>11.0</td>\n",
       "      <td>256</td>\n",
       "    </tr>\n",
       "    <tr>\n",
       "      <th>7</th>\n",
       "      <td>3.0</td>\n",
       "      <td>6</td>\n",
       "      <td>11.2</td>\n",
       "      <td>261</td>\n",
       "    </tr>\n",
       "    <tr>\n",
       "      <th>8</th>\n",
       "      <td>2.0</td>\n",
       "      <td>4</td>\n",
       "      <td>8.7</td>\n",
       "      <td>205</td>\n",
       "    </tr>\n",
       "  </tbody>\n",
       "</table>\n",
       "</div>"
      ],
      "text/plain": [
       "   ENGINESIZE  CYLINDERS  FUELCONSUMPTION_COMB  CO2EMISSIONS\n",
       "0         2.4          4                   8.6           200\n",
       "1         3.5          6                  11.2           263\n",
       "2         2.0          4                   9.9           232\n",
       "3         2.0          4                  10.3           242\n",
       "4         2.0          4                   9.8           230\n",
       "5         2.0          4                   9.8           231\n",
       "6         3.0          6                  11.0           256\n",
       "7         3.0          6                  11.2           261\n",
       "8         2.0          4                   8.7           205"
      ]
     },
     "execution_count": 6,
     "metadata": {},
     "output_type": "execute_result"
    }
   ],
   "source": [
    "cdf = df[['ENGINESIZE', 'CYLINDERS', 'FUELCONSUMPTION_COMB', 'CO2EMISSIONS']]\n",
    "cdf.head(9)"
   ]
  },
  {
   "cell_type": "code",
   "execution_count": 7,
   "id": "c680a36f",
   "metadata": {},
   "outputs": [
    {
     "data": {
      "text/plain": [
       "<function matplotlib.pyplot.show(close=None, block=None)>"
      ]
     },
     "execution_count": 7,
     "metadata": {},
     "output_type": "execute_result"
    },
    {
     "data": {
      "image/png": "[encoded data removed]",
      "text/plain": [
       "<Figure size 640x480 with 4 Axes>"
      ]
     },
     "metadata": {},
     "output_type": "display_data"
    }
   ],
   "source": [
    "viz = cdf[['ENGINESIZE', 'CYLINDERS', 'FUELCONSUMPTION_COMB', 'CO2EMISSIONS']]\n",
    "viz.hist()\n",
    "plt.show"
   ]
  },
  {
   "cell_type": "code",
   "execution_count": 8,
   "id": "4ff255ca",
   "metadata": {},
   "outputs": [
    {
     "data": {
      "image/png": "[encoded data removed]",
      "text/plain": [
       "<Figure size 640x480 with 1 Axes>"
      ]
     },
     "metadata": {},
     "output_type": "display_data"
    }
   ],
   "source": [
    "plt.scatter(cdf.FUELCONSUMPTION_COMB, cdf.CO2EMISSIONS, color = 'blue')\n",
    "plt.xlabel('FUELCONSUMPTION_COMB')\n",
    "plt.ylabel('CO2EMISSIONS')\n",
    "plt.show()"
   ]
  },
  {
   "cell_type": "code",
   "execution_count": 9,
   "id": "4329b137",
   "metadata": {},
   "outputs": [
    {
     "data": {
      "image/png": "[encoded data removed]",
      "text/plain": [
       "<Figure size 640x480 with 1 Axes>"
      ]
     },
     "metadata": {},
     "output_type": "display_data"
    }
   ],
   "source": [
    "plt.scatter(cdf.ENGINESIZE, cdf.CO2EMISSIONS, color = 'blue')\n",
    "plt.xlabel('ENGINESIZE')\n",
    "plt.ylabel('CO2EMISSIONS')\n",
    "plt.show()"
   ]
  },
  {
   "cell_type": "code",
   "execution_count": 10,
   "id": "ae4778ca",
   "metadata": {},
   "outputs": [
    {
     "data": {
      "image/png": "[encoded data removed]",
      "text/plain": [
       "<Figure size 640x480 with 1 Axes>"
      ]
     },
     "metadata": {},
     "output_type": "display_data"
    }
   ],
   "source": [
    "plt.scatter(cdf.CYLINDERS, cdf.CO2EMISSIONS, color = 'blue')\n",
    "plt.xlabel('CYLINDERS')\n",
    "plt.ylabel('CO2EMISSIONS')\n",
    "plt.show()"
   ]
  },
  {
   "cell_type": "markdown",
   "id": "77f33aee",
   "metadata": {},
   "source": [
    "# Separar la base de datos en 2 partes(una para entrenamiento y otra para la prueba)"
   ]
  },
  {
   "cell_type": "code",
   "execution_count": 11,
   "id": "e3c7107a",
   "metadata": {},
   "outputs": [
    {
     "data": {
      "text/plain": [
       "array([ True,  True,  True,  True,  True, False, False,  True,  True,\n",
       "        True,  True,  True,  True, False,  True,  True,  True,  True,\n",
       "        True, False,  True,  True, False,  True, False,  True,  True,\n",
       "       False,  True,  True,  True,  True,  True, False,  True,  True,\n",
       "        True,  True,  True,  True,  True,  True, False,  True,  True,\n",
       "        True,  True,  True,  True,  True,  True,  True,  True,  True,\n",
       "        True,  True,  True, False,  True,  True,  True,  True,  True,\n",
       "       False,  True,  True,  True,  True,  True,  True,  True, False,\n",
       "       False,  True,  True,  True, False,  True,  True,  True,  True,\n",
       "        True,  True,  True,  True, False, False,  True,  True,  True,\n",
       "        True,  True,  True, False,  True, False,  True,  True,  True,\n",
       "       False,  True,  True,  True, False,  True,  True,  True,  True,\n",
       "        True, False,  True,  True,  True,  True, False,  True,  True,\n",
       "        True,  True,  True,  True,  True,  True,  True,  True,  True,\n",
       "        True,  True,  True,  True,  True,  True,  True, False, False,\n",
       "        True,  True,  True, False,  True,  True, False, False, False,\n",
       "        True,  True, False,  True, False,  True,  True,  True, False,\n",
       "        True,  True,  True,  True,  True,  True,  True,  True,  True,\n",
       "        True,  True,  True,  True,  True,  True,  True, False,  True,\n",
       "        True, False, False,  True,  True, False, False,  True,  True,\n",
       "        True,  True,  True,  True,  True,  True,  True,  True,  True,\n",
       "        True, False, False, False,  True,  True,  True, False,  True,\n",
       "        True, False,  True,  True,  True, False,  True,  True,  True,\n",
       "        True, False,  True,  True,  True, False,  True,  True, False,\n",
       "        True,  True,  True,  True,  True,  True, False,  True,  True,\n",
       "        True,  True,  True,  True,  True, False,  True,  True, False,\n",
       "        True, False, False,  True,  True,  True,  True,  True,  True,\n",
       "       False,  True, False, False,  True,  True, False, False,  True,\n",
       "        True,  True,  True, False,  True, False,  True,  True,  True,\n",
       "        True,  True,  True,  True,  True,  True,  True, False,  True,\n",
       "       False,  True, False,  True,  True,  True, False,  True,  True,\n",
       "        True,  True,  True,  True,  True, False,  True,  True,  True,\n",
       "        True,  True,  True, False,  True,  True,  True, False,  True,\n",
       "        True,  True,  True,  True, False,  True, False,  True, False,\n",
       "       False,  True, False, False,  True,  True,  True,  True, False,\n",
       "        True, False, False,  True,  True,  True,  True,  True,  True,\n",
       "        True,  True,  True, False,  True,  True,  True, False,  True,\n",
       "        True,  True,  True,  True, False,  True,  True, False, False,\n",
       "        True,  True,  True,  True,  True,  True,  True, False,  True,\n",
       "        True,  True,  True,  True,  True,  True,  True,  True,  True,\n",
       "        True,  True,  True, False,  True, False,  True,  True,  True,\n",
       "        True,  True,  True,  True,  True,  True,  True, False,  True,\n",
       "        True,  True,  True, False,  True,  True,  True,  True,  True,\n",
       "        True,  True,  True,  True, False,  True,  True,  True,  True,\n",
       "        True,  True, False,  True,  True, False, False,  True, False,\n",
       "        True,  True,  True,  True,  True,  True,  True,  True,  True,\n",
       "       False,  True,  True,  True, False,  True,  True,  True,  True,\n",
       "        True, False,  True,  True,  True, False, False, False,  True,\n",
       "        True,  True, False,  True,  True,  True,  True,  True, False,\n",
       "       False,  True,  True,  True,  True,  True,  True, False,  True,\n",
       "        True,  True,  True,  True,  True,  True,  True, False,  True,\n",
       "        True,  True, False,  True,  True,  True, False,  True,  True,\n",
       "        True,  True,  True,  True,  True,  True,  True,  True,  True,\n",
       "        True,  True,  True,  True,  True,  True,  True, False, False,\n",
       "        True,  True,  True,  True, False,  True,  True,  True,  True,\n",
       "        True,  True,  True,  True, False,  True,  True,  True,  True,\n",
       "        True,  True,  True,  True,  True,  True,  True,  True,  True,\n",
       "        True,  True,  True,  True,  True,  True,  True,  True,  True,\n",
       "        True, False,  True,  True, False,  True,  True, False,  True,\n",
       "        True,  True,  True,  True,  True,  True, False,  True,  True,\n",
       "        True,  True,  True,  True,  True,  True,  True, False,  True,\n",
       "        True, False,  True,  True,  True, False, False,  True, False,\n",
       "        True,  True,  True,  True,  True,  True,  True,  True, False,\n",
       "       False, False,  True, False,  True,  True,  True,  True, False,\n",
       "        True,  True,  True, False, False,  True, False,  True,  True,\n",
       "        True,  True, False, False,  True,  True,  True,  True,  True,\n",
       "        True, False,  True,  True, False,  True, False,  True,  True,\n",
       "        True,  True,  True,  True,  True,  True,  True,  True,  True,\n",
       "        True,  True,  True,  True,  True, False, False,  True,  True,\n",
       "       False,  True,  True,  True,  True,  True,  True,  True,  True,\n",
       "        True,  True, False,  True,  True,  True, False,  True,  True,\n",
       "        True, False,  True,  True,  True,  True, False,  True,  True,\n",
       "        True,  True,  True, False,  True, False,  True,  True, False,\n",
       "        True, False,  True,  True,  True,  True,  True,  True,  True,\n",
       "        True,  True,  True,  True,  True,  True, False,  True, False,\n",
       "       False,  True,  True, False,  True, False,  True,  True,  True,\n",
       "        True, False,  True,  True,  True,  True, False,  True, False,\n",
       "        True,  True,  True,  True,  True, False,  True, False,  True,\n",
       "        True, False,  True,  True,  True,  True,  True,  True,  True,\n",
       "        True,  True,  True, False,  True,  True,  True,  True, False,\n",
       "       False,  True, False,  True,  True, False,  True,  True, False,\n",
       "        True,  True,  True,  True,  True,  True,  True, False,  True,\n",
       "        True,  True,  True,  True,  True,  True,  True, False,  True,\n",
       "        True,  True,  True,  True,  True,  True,  True,  True,  True,\n",
       "        True, False,  True,  True,  True,  True, False, False,  True,\n",
       "       False,  True, False,  True,  True, False,  True,  True, False,\n",
       "       False,  True,  True,  True,  True,  True,  True, False,  True,\n",
       "        True, False,  True,  True,  True,  True,  True,  True,  True,\n",
       "       False,  True, False, False,  True,  True,  True,  True, False,\n",
       "        True, False,  True,  True,  True,  True,  True,  True,  True,\n",
       "        True, False,  True,  True,  True,  True, False, False,  True,\n",
       "        True,  True,  True,  True,  True, False,  True, False,  True,\n",
       "        True,  True,  True, False, False,  True,  True,  True, False,\n",
       "        True,  True,  True,  True, False,  True,  True,  True, False,\n",
       "        True,  True, False,  True, False,  True,  True,  True,  True,\n",
       "        True,  True,  True, False,  True,  True,  True,  True, False,\n",
       "       False,  True,  True, False,  True, False, False,  True,  True,\n",
       "        True,  True,  True,  True,  True, False,  True,  True,  True,\n",
       "        True,  True,  True,  True,  True,  True,  True,  True,  True,\n",
       "        True,  True,  True,  True,  True, False, False,  True,  True,\n",
       "        True,  True, False,  True,  True, False,  True,  True,  True,\n",
       "        True,  True,  True,  True, False, False,  True,  True, False,\n",
       "        True, False,  True, False,  True,  True,  True,  True, False,\n",
       "        True,  True,  True,  True,  True,  True,  True,  True,  True,\n",
       "        True,  True,  True,  True,  True,  True, False,  True,  True])"
      ]
     },
     "execution_count": 11,
     "metadata": {},
     "output_type": "execute_result"
    }
   ],
   "source": [
    "msk = np.random.rand(len(df)) <= 0.80     # TRUE = ese dato será contemplado como parte del grupo de entrenamiento.\n",
    "msk                                       # FALSE = el dato no será parte del grupo de entrenamiento."
   ]
  },
  {
   "cell_type": "code",
   "execution_count": 12,
   "id": "d31a5e5d",
   "metadata": {},
   "outputs": [
    {
     "data": {
      "text/html": [
       "<div>\n",
       "<style scoped>\n",
       "    .dataframe tbody tr th:only-of-type {\n",
       "        vertical-align: middle;\n",
       "    }\n",
       "\n",
       "    .dataframe tbody tr th {\n",
       "        vertical-align: top;\n",
       "    }\n",
       "\n",
       "    .dataframe thead th {\n",
       "        text-align: right;\n",
       "    }\n",
       "</style>\n",
       "<table border=\"1\" class=\"dataframe\">\n",
       "  <thead>\n",
       "    <tr style=\"text-align: right;\">\n",
       "      <th></th>\n",
       "      <th>ENGINESIZE</th>\n",
       "      <th>CYLINDERS</th>\n",
       "      <th>FUELCONSUMPTION_COMB</th>\n",
       "      <th>CO2EMISSIONS</th>\n",
       "    </tr>\n",
       "  </thead>\n",
       "  <tbody>\n",
       "    <tr>\n",
       "      <th>0</th>\n",
       "      <td>2.4</td>\n",
       "      <td>4</td>\n",
       "      <td>8.6</td>\n",
       "      <td>200</td>\n",
       "    </tr>\n",
       "    <tr>\n",
       "      <th>1</th>\n",
       "      <td>3.5</td>\n",
       "      <td>6</td>\n",
       "      <td>11.2</td>\n",
       "      <td>263</td>\n",
       "    </tr>\n",
       "    <tr>\n",
       "      <th>2</th>\n",
       "      <td>2.0</td>\n",
       "      <td>4</td>\n",
       "      <td>9.9</td>\n",
       "      <td>232</td>\n",
       "    </tr>\n",
       "    <tr>\n",
       "      <th>3</th>\n",
       "      <td>2.0</td>\n",
       "      <td>4</td>\n",
       "      <td>10.3</td>\n",
       "      <td>242</td>\n",
       "    </tr>\n",
       "    <tr>\n",
       "      <th>4</th>\n",
       "      <td>2.0</td>\n",
       "      <td>4</td>\n",
       "      <td>9.8</td>\n",
       "      <td>230</td>\n",
       "    </tr>\n",
       "    <tr>\n",
       "      <th>...</th>\n",
       "      <td>...</td>\n",
       "      <td>...</td>\n",
       "      <td>...</td>\n",
       "      <td>...</td>\n",
       "    </tr>\n",
       "    <tr>\n",
       "      <th>939</th>\n",
       "      <td>2.0</td>\n",
       "      <td>4</td>\n",
       "      <td>9.3</td>\n",
       "      <td>217</td>\n",
       "    </tr>\n",
       "    <tr>\n",
       "      <th>940</th>\n",
       "      <td>2.0</td>\n",
       "      <td>4</td>\n",
       "      <td>9.4</td>\n",
       "      <td>219</td>\n",
       "    </tr>\n",
       "    <tr>\n",
       "      <th>941</th>\n",
       "      <td>2.0</td>\n",
       "      <td>4</td>\n",
       "      <td>9.4</td>\n",
       "      <td>219</td>\n",
       "    </tr>\n",
       "    <tr>\n",
       "      <th>943</th>\n",
       "      <td>2.0</td>\n",
       "      <td>4</td>\n",
       "      <td>10.1</td>\n",
       "      <td>236</td>\n",
       "    </tr>\n",
       "    <tr>\n",
       "      <th>944</th>\n",
       "      <td>2.0</td>\n",
       "      <td>4</td>\n",
       "      <td>10.8</td>\n",
       "      <td>252</td>\n",
       "    </tr>\n",
       "  </tbody>\n",
       "</table>\n",
       "<p>743 rows × 4 columns</p>\n",
       "</div>"
      ],
      "text/plain": [
       "     ENGINESIZE  CYLINDERS  FUELCONSUMPTION_COMB  CO2EMISSIONS\n",
       "0           2.4          4                   8.6           200\n",
       "1           3.5          6                  11.2           263\n",
       "2           2.0          4                   9.9           232\n",
       "3           2.0          4                  10.3           242\n",
       "4           2.0          4                   9.8           230\n",
       "..          ...        ...                   ...           ...\n",
       "939         2.0          4                   9.3           217\n",
       "940         2.0          4                   9.4           219\n",
       "941         2.0          4                   9.4           219\n",
       "943         2.0          4                  10.1           236\n",
       "944         2.0          4                  10.8           252\n",
       "\n",
       "[743 rows x 4 columns]"
      ]
     },
     "execution_count": 12,
     "metadata": {},
     "output_type": "execute_result"
    }
   ],
   "source": [
    "train = cdf[msk]       #valores que fueron sorteados de acuerdo a lo anterior.\n",
    "train"
   ]
  },
  {
   "cell_type": "code",
   "execution_count": 14,
   "id": "980e110b",
   "metadata": {},
   "outputs": [
    {
     "data": {
      "text/html": [
       "<div>\n",
       "<style scoped>\n",
       "    .dataframe tbody tr th:only-of-type {\n",
       "        vertical-align: middle;\n",
       "    }\n",
       "\n",
       "    .dataframe tbody tr th {\n",
       "        vertical-align: top;\n",
       "    }\n",
       "\n",
       "    .dataframe thead th {\n",
       "        text-align: right;\n",
       "    }\n",
       "</style>\n",
       "<table border=\"1\" class=\"dataframe\">\n",
       "  <thead>\n",
       "    <tr style=\"text-align: right;\">\n",
       "      <th></th>\n",
       "      <th>ENGINESIZE</th>\n",
       "      <th>CYLINDERS</th>\n",
       "      <th>FUELCONSUMPTION_COMB</th>\n",
       "      <th>CO2EMISSIONS</th>\n",
       "    </tr>\n",
       "  </thead>\n",
       "  <tbody>\n",
       "    <tr>\n",
       "      <th>5</th>\n",
       "      <td>2.0</td>\n",
       "      <td>4</td>\n",
       "      <td>9.8</td>\n",
       "      <td>231</td>\n",
       "    </tr>\n",
       "    <tr>\n",
       "      <th>6</th>\n",
       "      <td>3.0</td>\n",
       "      <td>6</td>\n",
       "      <td>11.0</td>\n",
       "      <td>256</td>\n",
       "    </tr>\n",
       "    <tr>\n",
       "      <th>13</th>\n",
       "      <td>2.9</td>\n",
       "      <td>6</td>\n",
       "      <td>12.3</td>\n",
       "      <td>288</td>\n",
       "    </tr>\n",
       "    <tr>\n",
       "      <th>19</th>\n",
       "      <td>2.0</td>\n",
       "      <td>4</td>\n",
       "      <td>7.6</td>\n",
       "      <td>178</td>\n",
       "    </tr>\n",
       "    <tr>\n",
       "      <th>22</th>\n",
       "      <td>2.0</td>\n",
       "      <td>4</td>\n",
       "      <td>8.9</td>\n",
       "      <td>208</td>\n",
       "    </tr>\n",
       "    <tr>\n",
       "      <th>...</th>\n",
       "      <td>...</td>\n",
       "      <td>...</td>\n",
       "      <td>...</td>\n",
       "      <td>...</td>\n",
       "    </tr>\n",
       "    <tr>\n",
       "      <th>917</th>\n",
       "      <td>3.6</td>\n",
       "      <td>6</td>\n",
       "      <td>12.2</td>\n",
       "      <td>286</td>\n",
       "    </tr>\n",
       "    <tr>\n",
       "      <th>919</th>\n",
       "      <td>3.6</td>\n",
       "      <td>6</td>\n",
       "      <td>11.7</td>\n",
       "      <td>275</td>\n",
       "    </tr>\n",
       "    <tr>\n",
       "      <th>921</th>\n",
       "      <td>2.0</td>\n",
       "      <td>4</td>\n",
       "      <td>8.5</td>\n",
       "      <td>198</td>\n",
       "    </tr>\n",
       "    <tr>\n",
       "      <th>926</th>\n",
       "      <td>2.0</td>\n",
       "      <td>4</td>\n",
       "      <td>7.9</td>\n",
       "      <td>185</td>\n",
       "    </tr>\n",
       "    <tr>\n",
       "      <th>942</th>\n",
       "      <td>2.0</td>\n",
       "      <td>4</td>\n",
       "      <td>9.9</td>\n",
       "      <td>232</td>\n",
       "    </tr>\n",
       "  </tbody>\n",
       "</table>\n",
       "<p>202 rows × 4 columns</p>\n",
       "</div>"
      ],
      "text/plain": [
       "     ENGINESIZE  CYLINDERS  FUELCONSUMPTION_COMB  CO2EMISSIONS\n",
       "5           2.0          4                   9.8           231\n",
       "6           3.0          6                  11.0           256\n",
       "13          2.9          6                  12.3           288\n",
       "19          2.0          4                   7.6           178\n",
       "22          2.0          4                   8.9           208\n",
       "..          ...        ...                   ...           ...\n",
       "917         3.6          6                  12.2           286\n",
       "919         3.6          6                  11.7           275\n",
       "921         2.0          4                   8.5           198\n",
       "926         2.0          4                   7.9           185\n",
       "942         2.0          4                   9.9           232\n",
       "\n",
       "[202 rows x 4 columns]"
      ]
     },
     "execution_count": 14,
     "metadata": {},
     "output_type": "execute_result"
    }
   ],
   "source": [
    "test = cdf[~msk]       #sacar el complemento ~\n",
    "test"
   ]
  },
  {
   "cell_type": "code",
   "execution_count": 15,
   "id": "f0cf8017",
   "metadata": {},
   "outputs": [
    {
     "data": {
      "image/png": "[encoded data removed]",
      "text/plain": [
       "<Figure size 640x480 with 1 Axes>"
      ]
     },
     "metadata": {},
     "output_type": "display_data"
    }
   ],
   "source": [
    "plt.scatter(cdf.ENGINESIZE, cdf.CO2EMISSIONS, color = 'blue')\n",
    "plt.xlabel('ENGINESIZE')\n",
    "plt.ylabel('CO2EMISSIONS')\n",
    "plt.show()"
   ]
  },
  {
   "cell_type": "markdown",
   "id": "3400f86f",
   "metadata": {},
   "source": [
    "# empezamos la regresión"
   ]
  },
  {
   "cell_type": "code",
   "execution_count": 19,
   "id": "36183767",
   "metadata": {},
   "outputs": [
    {
     "data": {
      "text/html": [
       "<style>#sk-container-id-1 {color: black;}#sk-container-id-1 pre{padding: 0;}#sk-container-id-1 div.sk-toggleable {background-color: white;}#sk-container-id-1 label.sk-toggleable__label {cursor: pointer;display: block;width: 100%;margin-bottom: 0;padding: 0.3em;box-sizing: border-box;text-align: center;}#sk-container-id-1 label.sk-toggleable__label-arrow:before {content: \"▸\";float: left;margin-right: 0.25em;color: #696969;}#sk-container-id-1 label.sk-toggleable__label-arrow:hover:before {color: black;}#sk-container-id-1 div.sk-estimator:hover label.sk-toggleable__label-arrow:before {color: black;}#sk-container-id-1 div.sk-toggleable__content {max-height: 0;max-width: 0;overflow: hidden;text-align: left;background-color: #f0f8ff;}#sk-container-id-1 div.sk-toggleable__content pre {margin: 0.2em;color: black;border-radius: 0.25em;background-color: #f0f8ff;}#sk-container-id-1 input.sk-toggleable__control:checked~div.sk-toggleable__content {max-height: 200px;max-width: 100%;overflow: auto;}#sk-container-id-1 input.sk-toggleable__control:checked~label.sk-toggleable__label-arrow:before {content: \"▾\";}#sk-container-id-1 div.sk-estimator input.sk-toggleable__control:checked~label.sk-toggleable__label {background-color: #d4ebff;}#sk-container-id-1 div.sk-label input.sk-toggleable__control:checked~label.sk-toggleable__label {background-color: #d4ebff;}#sk-container-id-1 input.sk-hidden--visually {border: 0;clip: rect(1px 1px 1px 1px);clip: rect(1px, 1px, 1px, 1px);height: 1px;margin: -1px;overflow: hidden;padding: 0;position: absolute;width: 1px;}#sk-container-id-1 div.sk-estimator {font-family: monospace;background-color: #f0f8ff;border: 1px dotted black;border-radius: 0.25em;box-sizing: border-box;margin-bottom: 0.5em;}#sk-container-id-1 div.sk-estimator:hover {background-color: #d4ebff;}#sk-container-id-1 div.sk-parallel-item::after {content: \"\";width: 100%;border-bottom: 1px solid gray;flex-grow: 1;}#sk-container-id-1 div.sk-label:hover label.sk-toggleable__label {background-color: #d4ebff;}#sk-container-id-1 div.sk-serial::before {content: \"\";position: absolute;border-left: 1px solid gray;box-sizing: border-box;top: 0;bottom: 0;left: 50%;z-index: 0;}#sk-container-id-1 div.sk-serial {display: flex;flex-direction: column;align-items: center;background-color: white;padding-right: 0.2em;padding-left: 0.2em;position: relative;}#sk-container-id-1 div.sk-item {position: relative;z-index: 1;}#sk-container-id-1 div.sk-parallel {display: flex;align-items: stretch;justify-content: center;background-color: white;position: relative;}#sk-container-id-1 div.sk-item::before, #sk-container-id-1 div.sk-parallel-item::before {content: \"\";position: absolute;border-left: 1px solid gray;box-sizing: border-box;top: 0;bottom: 0;left: 50%;z-index: -1;}#sk-container-id-1 div.sk-parallel-item {display: flex;flex-direction: column;z-index: 1;position: relative;background-color: white;}#sk-container-id-1 div.sk-parallel-item:first-child::after {align-self: flex-end;width: 50%;}#sk-container-id-1 div.sk-parallel-item:last-child::after {align-self: flex-start;width: 50%;}#sk-container-id-1 div.sk-parallel-item:only-child::after {width: 0;}#sk-container-id-1 div.sk-dashed-wrapped {border: 1px dashed gray;margin: 0 0.4em 0.5em 0.4em;box-sizing: border-box;padding-bottom: 0.4em;background-color: white;}#sk-container-id-1 div.sk-label label {font-family: monospace;font-weight: bold;display: inline-block;line-height: 1.2em;}#sk-container-id-1 div.sk-label-container {text-align: center;}#sk-container-id-1 div.sk-container {/* jupyter's `normalize.less` sets `[hidden] { display: none; }` but bootstrap.min.css set `[hidden] { display: none !important; }` so we also need the `!important` here to be able to override the default hidden behavior on the sphinx rendered scikit-learn.org. See: https://github.com/scikit-learn/scikit-learn/issues/21755 */display: inline-block !important;position: relative;}#sk-container-id-1 div.sk-text-repr-fallback {display: none;}</style><div id=\"sk-container-id-1\" class=\"sk-top-container\"><div class=\"sk-text-repr-fallback\"><pre>LinearRegression()</pre><b>In a Jupyter environment, please rerun this cell to show the HTML representation or trust the notebook. <br />On GitHub, the HTML representation is unable to render, please try loading this page with nbviewer.org.</b></div><div class=\"sk-container\" hidden><div class=\"sk-item\"><div class=\"sk-estimator sk-toggleable\"><input class=\"sk-toggleable__control sk-hidden--visually\" id=\"sk-estimator-id-1\" type=\"checkbox\" checked><label for=\"sk-estimator-id-1\" class=\"sk-toggleable__label sk-toggleable__label-arrow\">LinearRegression</label><div class=\"sk-toggleable__content\"><pre>LinearRegression()</pre></div></div></div></div></div>"
      ],
      "text/plain": [
       "LinearRegression()"
      ]
     },
     "execution_count": 19,
     "metadata": {},
     "output_type": "execute_result"
    }
   ],
   "source": [
    "from sklearn import linear_model\n",
    "regr = linear_model.LinearRegression()\n",
    "\n",
    "#Definir los datos que se van a aplicar para este caso\n",
    "\n",
    "train_x = np.asanyarray(train[['ENGINESIZE']])   #se convierte el dataframe en un arreglo\n",
    "train_y = np.asanyarray(train[['CO2EMISSIONS']])\n",
    "regr.fit(train_x, train_y)"
   ]
  },
  {
   "cell_type": "code",
   "execution_count": 20,
   "id": "5e88f4e0",
   "metadata": {},
   "outputs": [
    {
     "name": "stdout",
     "output_type": "stream",
     "text": [
      "Coeficiente de pendiente [[38.4239764]]\n",
      "Coeficiente de intercepto [136.60981666]\n"
     ]
    }
   ],
   "source": [
    "print('Coeficiente de pendiente', regr.coef_)\n",
    "print('Coeficiente de intercepto', regr.intercept_)"
   ]
  },
  {
   "cell_type": "markdown",
   "id": "258bd143",
   "metadata": {},
   "source": [
    "# Ecuación para hacer las predicciones."
   ]
  },
  {
   "cell_type": "markdown",
   "id": "9fa50ce4",
   "metadata": {},
   "source": [
    "#         CO2EMISSIONS = 136.60 + 38.42 (ENGINESIZE)"
   ]
  },
  {
   "cell_type": "code",
   "execution_count": 21,
   "id": "f8990855",
   "metadata": {},
   "outputs": [
    {
     "data": {
      "text/plain": [
       "Text(0, 0.5, 'Emission')"
      ]
     },
     "execution_count": 21,
     "metadata": {},
     "output_type": "execute_result"
    },
    {
     "data": {
      "image/png": "[encoded data removed]",
      "text/plain": [
       "<Figure size 640x480 with 1 Axes>"
      ]
     },
     "metadata": {},
     "output_type": "display_data"
    }
   ],
   "source": [
    "plt.scatter(train.ENGINESIZE, train.CO2EMISSIONS,  color = 'blue')\n",
    "plt.plot(train_x, regr.coef_[0][0] * train_x + regr.intercept_[0], '-r')\n",
    "plt.xlabel(\"Engine size\")\n",
    "plt.ylabel(\"Emission\")"
   ]
  },
  {
   "cell_type": "markdown",
   "id": "d31c47bc",
   "metadata": {},
   "source": [
    "# Evaluación del Error (¿qué tan bueno es el modelo?)"
   ]
  },
  {
   "cell_type": "code",
   "execution_count": 22,
   "id": "1825c6de",
   "metadata": {},
   "outputs": [],
   "source": [
    "from sklearn.metrics import r2_score\n",
    "test_x = np.asanyarray(test[['ENGINESIZE']])\n",
    "test_y = np.asanyarray(test[['CO2EMISSIONS']])\n",
    "test_y_hat = regr.predict(test_x)"
   ]
  },
  {
   "cell_type": "code",
   "execution_count": 23,
   "id": "1efbd728",
   "metadata": {},
   "outputs": [
    {
     "data": {
      "text/plain": [
       "array([[213.45776945],\n",
       "       [251.88174585],\n",
       "       [248.03934821],\n",
       "       [213.45776945],\n",
       "       [213.45776945],\n",
       "       [213.45776945],\n",
       "       [251.88174585],\n",
       "       [213.45776945],\n",
       "       [336.41449392],\n",
       "       [251.88174585],\n",
       "       [290.30572225],\n",
       "       [213.45776945],\n",
       "       [213.45776945],\n",
       "       [305.6753128 ],\n",
       "       [251.88174585],\n",
       "       [251.88174585],\n",
       "       [251.88174585],\n",
       "       [305.6753128 ],\n",
       "       [305.6753128 ],\n",
       "       [305.6753128 ],\n",
       "       [213.45776945],\n",
       "       [251.88174585],\n",
       "       [444.00162783],\n",
       "       [274.93613169],\n",
       "       [182.71858834],\n",
       "       [213.45776945],\n",
       "       [213.45776945],\n",
       "       [213.45776945],\n",
       "       [240.35455293],\n",
       "       [240.35455293],\n",
       "       [251.88174585],\n",
       "       [213.45776945],\n",
       "       [274.93613169],\n",
       "       [213.45776945],\n",
       "       [274.93613169],\n",
       "       [374.83847032],\n",
       "       [194.24578126],\n",
       "       [194.24578126],\n",
       "       [194.24578126],\n",
       "       [340.25689156],\n",
       "       [340.25689156],\n",
       "       [251.88174585],\n",
       "       [340.25689156],\n",
       "       [340.25689156],\n",
       "       [340.25689156],\n",
       "       [374.83847032],\n",
       "       [340.25689156],\n",
       "       [374.83847032],\n",
       "       [340.25689156],\n",
       "       [340.25689156],\n",
       "       [186.56098598],\n",
       "       [274.93613169],\n",
       "       [274.93613169],\n",
       "       [274.93613169],\n",
       "       [355.62648212],\n",
       "       [274.93613169],\n",
       "       [355.62648212],\n",
       "       [355.62648212],\n",
       "       [274.93613169],\n",
       "       [374.83847032],\n",
       "       [186.56098598],\n",
       "       [224.98496237],\n",
       "       [213.45776945],\n",
       "       [194.24578126],\n",
       "       [271.09373405],\n",
       "       [271.09373405],\n",
       "       [224.98496237],\n",
       "       [224.98496237],\n",
       "       [251.88174585],\n",
       "       [263.40893877],\n",
       "       [271.09373405],\n",
       "       [328.72969864],\n",
       "       [328.72969864],\n",
       "       [328.72969864],\n",
       "       [271.09373405],\n",
       "       [271.09373405],\n",
       "       [224.98496237],\n",
       "       [224.98496237],\n",
       "       [224.98496237],\n",
       "       [213.45776945],\n",
       "       [213.45776945],\n",
       "       [274.93613169],\n",
       "       [274.93613169],\n",
       "       [240.35455293],\n",
       "       [340.25689156],\n",
       "       [340.25689156],\n",
       "       [340.25689156],\n",
       "       [340.25689156],\n",
       "       [340.25689156],\n",
       "       [340.25689156],\n",
       "       [251.88174585],\n",
       "       [374.83847032],\n",
       "       [194.24578126],\n",
       "       [194.24578126],\n",
       "       [194.24578126],\n",
       "       [213.45776945],\n",
       "       [194.24578126],\n",
       "       [271.09373405],\n",
       "       [213.45776945],\n",
       "       [213.45776945],\n",
       "       [282.62092697],\n",
       "       [251.88174585],\n",
       "       [213.45776945],\n",
       "       [213.45776945],\n",
       "       [259.56654113],\n",
       "       [274.93613169],\n",
       "       [251.88174585],\n",
       "       [274.93613169],\n",
       "       [232.66975765],\n",
       "       [232.66975765],\n",
       "       [213.45776945],\n",
       "       [263.40893877],\n",
       "       [282.62092697],\n",
       "       [386.36566324],\n",
       "       [328.72969864],\n",
       "       [213.45776945],\n",
       "       [251.88174585],\n",
       "       [213.45776945],\n",
       "       [328.72969864],\n",
       "       [251.88174585],\n",
       "       [328.72969864],\n",
       "       [232.66975765],\n",
       "       [213.45776945],\n",
       "       [271.09373405],\n",
       "       [271.09373405],\n",
       "       [228.82736001],\n",
       "       [232.66975765],\n",
       "       [251.88174585],\n",
       "       [251.88174585],\n",
       "       [251.88174585],\n",
       "       [213.45776945],\n",
       "       [232.66975765],\n",
       "       [213.45776945],\n",
       "       [213.45776945],\n",
       "       [213.45776945],\n",
       "       [213.45776945],\n",
       "       [213.45776945],\n",
       "       [251.88174585],\n",
       "       [251.88174585],\n",
       "       [213.45776945],\n",
       "       [213.45776945],\n",
       "       [251.88174585],\n",
       "       [251.88174585],\n",
       "       [213.45776945],\n",
       "       [290.30572225],\n",
       "       [213.45776945],\n",
       "       [194.24578126],\n",
       "       [194.24578126],\n",
       "       [213.45776945],\n",
       "       [213.45776945],\n",
       "       [232.66975765],\n",
       "       [213.45776945],\n",
       "       [228.82736001],\n",
       "       [351.78408448],\n",
       "       [198.0881789 ],\n",
       "       [232.66975765],\n",
       "       [198.0881789 ],\n",
       "       [213.45776945],\n",
       "       [290.30572225],\n",
       "       [290.30572225],\n",
       "       [290.30572225],\n",
       "       [251.88174585],\n",
       "       [251.88174585],\n",
       "       [251.88174585],\n",
       "       [251.88174585],\n",
       "       [251.88174585],\n",
       "       [251.88174585],\n",
       "       [251.88174585],\n",
       "       [251.88174585],\n",
       "       [278.77852933],\n",
       "       [251.88174585],\n",
       "       [248.03934821],\n",
       "       [248.03934821],\n",
       "       [248.03934821],\n",
       "       [248.03934821],\n",
       "       [251.88174585],\n",
       "       [274.93613169],\n",
       "       [355.62648212],\n",
       "       [355.62648212],\n",
       "       [274.93613169],\n",
       "       [394.05045852],\n",
       "       [394.05045852],\n",
       "       [228.82736001],\n",
       "       [213.45776945],\n",
       "       [228.82736001],\n",
       "       [228.82736001],\n",
       "       [228.82736001],\n",
       "       [213.45776945],\n",
       "       [232.66975765],\n",
       "       [271.09373405],\n",
       "       [205.77297417],\n",
       "       [205.77297417],\n",
       "       [232.66975765],\n",
       "       [232.66975765],\n",
       "       [232.66975765],\n",
       "       [267.25133641],\n",
       "       [267.25133641],\n",
       "       [274.93613169],\n",
       "       [274.93613169],\n",
       "       [213.45776945],\n",
       "       [213.45776945],\n",
       "       [213.45776945]])"
      ]
     },
     "execution_count": 23,
     "metadata": {},
     "output_type": "execute_result"
    }
   ],
   "source": [
    "test_y_hat"
   ]
  },
  {
   "cell_type": "code",
   "execution_count": 24,
   "id": "199d1fe2",
   "metadata": {},
   "outputs": [
    {
     "data": {
      "text/plain": [
       "array([[231],\n",
       "       [256],\n",
       "       [288],\n",
       "       [178],\n",
       "       [208],\n",
       "       [205],\n",
       "       [224],\n",
       "       [217],\n",
       "       [356],\n",
       "       [262],\n",
       "       [309],\n",
       "       [195],\n",
       "       [202],\n",
       "       [279],\n",
       "       [296],\n",
       "       [214],\n",
       "       [224],\n",
       "       [322],\n",
       "       [322],\n",
       "       [322],\n",
       "       [207],\n",
       "       [241],\n",
       "       [608],\n",
       "       [263],\n",
       "       [184],\n",
       "       [209],\n",
       "       [220],\n",
       "       [206],\n",
       "       [233],\n",
       "       [244],\n",
       "       [252],\n",
       "       [221],\n",
       "       [259],\n",
       "       [222],\n",
       "       [281],\n",
       "       [281],\n",
       "       [198],\n",
       "       [208],\n",
       "       [175],\n",
       "       [341],\n",
       "       [304],\n",
       "       [265],\n",
       "       [358],\n",
       "       [347],\n",
       "       [361],\n",
       "       [385],\n",
       "       [336],\n",
       "       [353],\n",
       "       [327],\n",
       "       [332],\n",
       "       [178],\n",
       "       [260],\n",
       "       [277],\n",
       "       [242],\n",
       "       [289],\n",
       "       [242],\n",
       "       [307],\n",
       "       [289],\n",
       "       [258],\n",
       "       [368],\n",
       "       [221],\n",
       "       [310],\n",
       "       [219],\n",
       "       [182],\n",
       "       [317],\n",
       "       [326],\n",
       "       [252],\n",
       "       [269],\n",
       "       [277],\n",
       "       [225],\n",
       "       [275],\n",
       "       [300],\n",
       "       [298],\n",
       "       [308],\n",
       "       [359],\n",
       "       [395],\n",
       "       [220],\n",
       "       [231],\n",
       "       [252],\n",
       "       [216],\n",
       "       [219],\n",
       "       [252],\n",
       "       [263],\n",
       "       [306],\n",
       "       [358],\n",
       "       [318],\n",
       "       [347],\n",
       "       [338],\n",
       "       [327],\n",
       "       [354],\n",
       "       [281],\n",
       "       [353],\n",
       "       [168],\n",
       "       [176],\n",
       "       [166],\n",
       "       [165],\n",
       "       [180],\n",
       "       [265],\n",
       "       [223],\n",
       "       [174],\n",
       "       [265],\n",
       "       [259],\n",
       "       [228],\n",
       "       [245],\n",
       "       [240],\n",
       "       [277],\n",
       "       [275],\n",
       "       [285],\n",
       "       [207],\n",
       "       [234],\n",
       "       [187],\n",
       "       [280],\n",
       "       [266],\n",
       "       [498],\n",
       "       [339],\n",
       "       [306],\n",
       "       [287],\n",
       "       [271],\n",
       "       [305],\n",
       "       [269],\n",
       "       [294],\n",
       "       [195],\n",
       "       [221],\n",
       "       [253],\n",
       "       [216],\n",
       "       [221],\n",
       "       [140],\n",
       "       [271],\n",
       "       [271],\n",
       "       [308],\n",
       "       [189],\n",
       "       [216],\n",
       "       [178],\n",
       "       [181],\n",
       "       [186],\n",
       "       [194],\n",
       "       [221],\n",
       "       [252],\n",
       "       [258],\n",
       "       [217],\n",
       "       [200],\n",
       "       [218],\n",
       "       [225],\n",
       "       [237],\n",
       "       [301],\n",
       "       [267],\n",
       "       [170],\n",
       "       [170],\n",
       "       [174],\n",
       "       [198],\n",
       "       [208],\n",
       "       [206],\n",
       "       [218],\n",
       "       [362],\n",
       "       [169],\n",
       "       [190],\n",
       "       [181],\n",
       "       [245],\n",
       "       [260],\n",
       "       [284],\n",
       "       [286],\n",
       "       [275],\n",
       "       [274],\n",
       "       [275],\n",
       "       [275],\n",
       "       [278],\n",
       "       [288],\n",
       "       [278],\n",
       "       [296],\n",
       "       [321],\n",
       "       [289],\n",
       "       [305],\n",
       "       [274],\n",
       "       [292],\n",
       "       [292],\n",
       "       [238],\n",
       "       [245],\n",
       "       [325],\n",
       "       [284],\n",
       "       [295],\n",
       "       [387],\n",
       "       [382],\n",
       "       [247],\n",
       "       [220],\n",
       "       [205],\n",
       "       [262],\n",
       "       [254],\n",
       "       [189],\n",
       "       [178],\n",
       "       [215],\n",
       "       [165],\n",
       "       [111],\n",
       "       [184],\n",
       "       [200],\n",
       "       [154],\n",
       "       [274],\n",
       "       [287],\n",
       "       [286],\n",
       "       [275],\n",
       "       [198],\n",
       "       [185],\n",
       "       [232]], dtype=int64)"
      ]
     },
     "execution_count": 24,
     "metadata": {},
     "output_type": "execute_result"
    }
   ],
   "source": [
    "test_y"
   ]
  },
  {
   "cell_type": "markdown",
   "id": "8b851634",
   "metadata": {},
   "source": [
    "# Error absoluto medio"
   ]
  },
  {
   "cell_type": "code",
   "execution_count": 25,
   "id": "0f672e1c",
   "metadata": {},
   "outputs": [
    {
     "name": "stdout",
     "output_type": "stream",
     "text": [
      "Mean absolute error: 25.94\n",
      "Residual sum of squares (MSE): 1232.87\n",
      "R2-score: 0.54\n"
     ]
    }
   ],
   "source": [
    "print(\"Mean absolute error: %.2f\" % np.mean(np.absolute(test_y_hat - test_y)))\n",
    "print(\"Residual sum of squares (MSE): %.2f\" % np.mean((test_y_hat - test_y) ** 2))\n",
    "print(\"R2-score: %.2f\" % r2_score(test_y_hat, test_y))"
   ]
  },
  {
   "cell_type": "markdown",
   "id": "de8b957e",
   "metadata": {},
   "source": [
    "# que hacer para mejorar el nivel de pronostico  (uso de una regresión múltiple)"
   ]
  },
  {
   "cell_type": "code",
   "execution_count": 28,
   "id": "426f8351",
   "metadata": {},
   "outputs": [
    {
     "data": {
      "text/html": [
       "<div>\n",
       "<style scoped>\n",
       "    .dataframe tbody tr th:only-of-type {\n",
       "        vertical-align: middle;\n",
       "    }\n",
       "\n",
       "    .dataframe tbody tr th {\n",
       "        vertical-align: top;\n",
       "    }\n",
       "\n",
       "    .dataframe thead th {\n",
       "        text-align: right;\n",
       "    }\n",
       "</style>\n",
       "<table border=\"1\" class=\"dataframe\">\n",
       "  <thead>\n",
       "    <tr style=\"text-align: right;\">\n",
       "      <th></th>\n",
       "      <th>ENGINESIZE</th>\n",
       "      <th>CYLINDERS</th>\n",
       "      <th>FUELCONSUMPTION_CITY</th>\n",
       "      <th>FUELCONSUMPTION_HWY</th>\n",
       "      <th>FUELCONSUMPTION_COMB</th>\n",
       "      <th>CO2EMISSIONS</th>\n",
       "    </tr>\n",
       "  </thead>\n",
       "  <tbody>\n",
       "    <tr>\n",
       "      <th>0</th>\n",
       "      <td>2.4</td>\n",
       "      <td>4</td>\n",
       "      <td>9.9</td>\n",
       "      <td>7.0</td>\n",
       "      <td>8.6</td>\n",
       "      <td>200</td>\n",
       "    </tr>\n",
       "    <tr>\n",
       "      <th>1</th>\n",
       "      <td>3.5</td>\n",
       "      <td>6</td>\n",
       "      <td>12.6</td>\n",
       "      <td>9.4</td>\n",
       "      <td>11.2</td>\n",
       "      <td>263</td>\n",
       "    </tr>\n",
       "    <tr>\n",
       "      <th>2</th>\n",
       "      <td>2.0</td>\n",
       "      <td>4</td>\n",
       "      <td>11.0</td>\n",
       "      <td>8.6</td>\n",
       "      <td>9.9</td>\n",
       "      <td>232</td>\n",
       "    </tr>\n",
       "    <tr>\n",
       "      <th>3</th>\n",
       "      <td>2.0</td>\n",
       "      <td>4</td>\n",
       "      <td>11.3</td>\n",
       "      <td>9.1</td>\n",
       "      <td>10.3</td>\n",
       "      <td>242</td>\n",
       "    </tr>\n",
       "    <tr>\n",
       "      <th>4</th>\n",
       "      <td>2.0</td>\n",
       "      <td>4</td>\n",
       "      <td>11.2</td>\n",
       "      <td>8.0</td>\n",
       "      <td>9.8</td>\n",
       "      <td>230</td>\n",
       "    </tr>\n",
       "    <tr>\n",
       "      <th>5</th>\n",
       "      <td>2.0</td>\n",
       "      <td>4</td>\n",
       "      <td>11.3</td>\n",
       "      <td>8.1</td>\n",
       "      <td>9.8</td>\n",
       "      <td>231</td>\n",
       "    </tr>\n",
       "    <tr>\n",
       "      <th>6</th>\n",
       "      <td>3.0</td>\n",
       "      <td>6</td>\n",
       "      <td>12.3</td>\n",
       "      <td>9.4</td>\n",
       "      <td>11.0</td>\n",
       "      <td>256</td>\n",
       "    </tr>\n",
       "    <tr>\n",
       "      <th>7</th>\n",
       "      <td>3.0</td>\n",
       "      <td>6</td>\n",
       "      <td>12.3</td>\n",
       "      <td>9.8</td>\n",
       "      <td>11.2</td>\n",
       "      <td>261</td>\n",
       "    </tr>\n",
       "    <tr>\n",
       "      <th>8</th>\n",
       "      <td>2.0</td>\n",
       "      <td>4</td>\n",
       "      <td>10.0</td>\n",
       "      <td>7.2</td>\n",
       "      <td>8.7</td>\n",
       "      <td>205</td>\n",
       "    </tr>\n",
       "    <tr>\n",
       "      <th>9</th>\n",
       "      <td>2.0</td>\n",
       "      <td>4</td>\n",
       "      <td>10.5</td>\n",
       "      <td>7.7</td>\n",
       "      <td>9.2</td>\n",
       "      <td>217</td>\n",
       "    </tr>\n",
       "    <tr>\n",
       "      <th>10</th>\n",
       "      <td>2.9</td>\n",
       "      <td>6</td>\n",
       "      <td>13.5</td>\n",
       "      <td>9.3</td>\n",
       "      <td>11.6</td>\n",
       "      <td>271</td>\n",
       "    </tr>\n",
       "    <tr>\n",
       "      <th>11</th>\n",
       "      <td>2.0</td>\n",
       "      <td>4</td>\n",
       "      <td>10.3</td>\n",
       "      <td>8.1</td>\n",
       "      <td>9.3</td>\n",
       "      <td>218</td>\n",
       "    </tr>\n",
       "    <tr>\n",
       "      <th>12</th>\n",
       "      <td>2.0</td>\n",
       "      <td>4</td>\n",
       "      <td>10.8</td>\n",
       "      <td>8.3</td>\n",
       "      <td>9.6</td>\n",
       "      <td>226</td>\n",
       "    </tr>\n",
       "    <tr>\n",
       "      <th>13</th>\n",
       "      <td>2.9</td>\n",
       "      <td>6</td>\n",
       "      <td>13.9</td>\n",
       "      <td>10.3</td>\n",
       "      <td>12.3</td>\n",
       "      <td>288</td>\n",
       "    </tr>\n",
       "    <tr>\n",
       "      <th>14</th>\n",
       "      <td>4.0</td>\n",
       "      <td>8</td>\n",
       "      <td>13.0</td>\n",
       "      <td>9.8</td>\n",
       "      <td>11.5</td>\n",
       "      <td>271</td>\n",
       "    </tr>\n",
       "  </tbody>\n",
       "</table>\n",
       "</div>"
      ],
      "text/plain": [
       "    ENGINESIZE  CYLINDERS  FUELCONSUMPTION_CITY  FUELCONSUMPTION_HWY  \\\n",
       "0          2.4          4                   9.9                  7.0   \n",
       "1          3.5          6                  12.6                  9.4   \n",
       "2          2.0          4                  11.0                  8.6   \n",
       "3          2.0          4                  11.3                  9.1   \n",
       "4          2.0          4                  11.2                  8.0   \n",
       "5          2.0          4                  11.3                  8.1   \n",
       "6          3.0          6                  12.3                  9.4   \n",
       "7          3.0          6                  12.3                  9.8   \n",
       "8          2.0          4                  10.0                  7.2   \n",
       "9          2.0          4                  10.5                  7.7   \n",
       "10         2.9          6                  13.5                  9.3   \n",
       "11         2.0          4                  10.3                  8.1   \n",
       "12         2.0          4                  10.8                  8.3   \n",
       "13         2.9          6                  13.9                 10.3   \n",
       "14         4.0          8                  13.0                  9.8   \n",
       "\n",
       "    FUELCONSUMPTION_COMB  CO2EMISSIONS  \n",
       "0                    8.6           200  \n",
       "1                   11.2           263  \n",
       "2                    9.9           232  \n",
       "3                   10.3           242  \n",
       "4                    9.8           230  \n",
       "5                    9.8           231  \n",
       "6                   11.0           256  \n",
       "7                   11.2           261  \n",
       "8                    8.7           205  \n",
       "9                    9.2           217  \n",
       "10                  11.6           271  \n",
       "11                   9.3           218  \n",
       "12                   9.6           226  \n",
       "13                  12.3           288  \n",
       "14                  11.5           271  "
      ]
     },
     "execution_count": 28,
     "metadata": {},
     "output_type": "execute_result"
    }
   ],
   "source": [
    "cdf = df [['ENGINESIZE', 'CYLINDERS', 'FUELCONSUMPTION_CITY', 'FUELCONSUMPTION_HWY', 'FUELCONSUMPTION_COMB', \n",
    "           'CO2EMISSIONS']]\n",
    "cdf.head(15)"
   ]
  },
  {
   "cell_type": "code",
   "execution_count": 29,
   "id": "70c06d15",
   "metadata": {},
   "outputs": [
    {
     "name": "stdout",
     "output_type": "stream",
     "text": [
      "Coeficientes  de variables independientes [[ 0.70634335  2.44747778 20.36597987]]\n",
      "Coeficiente de intercepto [17.42603579]\n"
     ]
    }
   ],
   "source": [
    "x = np.asanyarray(train[['ENGINESIZE', 'CYLINDERS', 'FUELCONSUMPTION_COMB']])\n",
    "y = np.asanyarray(train[['CO2EMISSIONS']])\n",
    "regr.fit(x, y)\n",
    "\n",
    "print('Coeficientes  de variables independientes', regr.coef_)\n",
    "print('Coeficiente de intercepto', regr.intercept_)"
   ]
  },
  {
   "cell_type": "markdown",
   "id": "021fbec0",
   "metadata": {},
   "source": [
    "#   CO2EMISSIONS = 17.42603579 +  0.70634335(ENGINESIZE) +      2.44747778(CYLINDERS) + 20.36597987(FUELCONSUMPTION_COMB)"
   ]
  },
  {
   "cell_type": "code",
   "execution_count": 30,
   "id": "1c58b67b",
   "metadata": {},
   "outputs": [
    {
     "name": "stderr",
     "output_type": "stream",
     "text": [
      "C:\\Users\\gilgu\\AppData\\Local\\Programs\\Python\\Python311\\Lib\\site-packages\\sklearn\\base.py:458: UserWarning: X has feature names, but LinearRegression was fitted without feature names\n",
      "  warnings.warn(\n"
     ]
    }
   ],
   "source": [
    "y_hat = regr.predict(test[['ENGINESIZE', 'CYLINDERS', 'FUELCONSUMPTION_COMB']])\n",
    "x = np.asanyarray(test[['ENGINESIZE', 'CYLINDERS', 'FUELCONSUMPTION_COMB']])\n",
    "y = np.asanyarray(test[['CO2EMISSIONS']])"
   ]
  },
  {
   "cell_type": "markdown",
   "id": "ce0f86ff",
   "metadata": {},
   "source": [
    "# Evaluación de los Errores:"
   ]
  },
  {
   "cell_type": "code",
   "execution_count": 31,
   "id": "2e2f18ef",
   "metadata": {},
   "outputs": [
    {
     "name": "stdout",
     "output_type": "stream",
     "text": [
      "Mean absolute error: 6.28\n",
      "Residual sum of squares (MSE): 271.74\n",
      "R2-score: 0.93\n"
     ]
    }
   ],
   "source": [
    "print(\"Mean absolute error: %.2f\" % np.mean(np.absolute(y_hat - y)))\n",
    "print(\"Residual sum of squares (MSE): %.2f\" % np.mean((y_hat - y) ** 2))\n",
    "print(\"R2-score: %.2f\" % r2_score(y_hat, y))"
   ]
  },
  {
   "cell_type": "markdown",
   "id": "db70449b",
   "metadata": {},
   "source": [
    "# Otros modelos de regresión"
   ]
  },
  {
   "cell_type": "code",
   "execution_count": 32,
   "id": "eaac43e0",
   "metadata": {},
   "outputs": [],
   "source": [
    "def pol_grado1(x, Beta_0, Beta_1):\n",
    "    y = Beta_0 + Beta_1 * x\n",
    "    return y"
   ]
  },
  {
   "cell_type": "code",
   "execution_count": 33,
   "id": "53582353",
   "metadata": {},
   "outputs": [],
   "source": [
    "x = np.arange(-5.0, 5.0, 0.1)\n",
    "y = pol_grado1(x, 3, 2)\n",
    "y_noise = np.random.normal(0, 1, size = x.size)\n",
    "ydata = y + y_noise"
   ]
  },
  {
   "cell_type": "code",
   "execution_count": 42,
   "id": "7e8a9159",
   "metadata": {},
   "outputs": [
    {
     "data": {
      "image/png": "[encoded data removed]",
      "text/plain": [
       "<Figure size 640x480 with 1 Axes>"
      ]
     },
     "metadata": {},
     "output_type": "display_data"
    }
   ],
   "source": [
    "plt.plot(x, ydata, 'bo')\n",
    "plt.plot(x,y, 'r')\n",
    "plt.ylabel('Variable dependiente')\n",
    "plt.xlabel('Variable independiente')\n",
    "plt.show()"
   ]
  },
  {
   "cell_type": "code",
   "execution_count": 35,
   "id": "0f2339a3",
   "metadata": {},
   "outputs": [],
   "source": [
    "from scipy.optimize import curve_fit\n",
    "popt, pcov = curve_fit(pol_grado1, x, ydata)"
   ]
  },
  {
   "cell_type": "code",
   "execution_count": 36,
   "id": "c3f418a2",
   "metadata": {},
   "outputs": [
    {
     "name": "stdout",
     "output_type": "stream",
     "text": [
      "beta_0 =  3.13750327079275 beta_1 =  1.9434319449220712\n"
     ]
    }
   ],
   "source": [
    "print(\"beta_0 = \", popt[0], \"beta_1 = \", popt[1])"
   ]
  },
  {
   "cell_type": "code",
   "execution_count": 37,
   "id": "2c0a0299",
   "metadata": {},
   "outputs": [
    {
     "data": {
      "image/png": "[encoded data removed]",
      "text/plain": [
       "<Figure size 640x480 with 1 Axes>"
      ]
     },
     "metadata": {},
     "output_type": "display_data"
    }
   ],
   "source": [
    "y_ajust = pol_grado1(x, popt[0], popt[1])\n",
    "plt.plot(x, ydata, 'bo')\n",
    "plt.plot(x, y_ajust, 'r')\n",
    "plt.ylabel('Variable dependiente')\n",
    "plt.xlabel('Variable independiente')\n",
    "plt.show() "
   ]
  },
  {
   "cell_type": "markdown",
   "id": "e2363e3d",
   "metadata": {},
   "source": [
    "# Definir un modelo polinomial de tercer grado para tener un mejor ajuste"
   ]
  },
  {
   "cell_type": "code",
   "execution_count": 39,
   "id": "358c018a",
   "metadata": {},
   "outputs": [],
   "source": [
    "def pol_grado3(x, Beta_0, Beta_1, Beta_2, Beta_3):\n",
    "    y = Beta_0 + Beta_1 * x + Beta_2 * (x**2) + Beta_3 * (x**3)\n",
    "    return y "
   ]
  },
  {
   "cell_type": "code",
   "execution_count": 40,
   "id": "d759be3b",
   "metadata": {},
   "outputs": [],
   "source": [
    "x = np.arange(-5.0, 5.0, 0.1)\n",
    "y = pol_grado3(x, 3, 1, 1, 1)\n",
    "y_noise = 20 * np.random.normal(0, 1, size = x.size)\n",
    "ydata = y + y_noise"
   ]
  },
  {
   "cell_type": "code",
   "execution_count": 44,
   "id": "59c01ca2",
   "metadata": {},
   "outputs": [
    {
     "data": {
      "image/png": "[encoded data removed]",
      "text/plain": [
       "<Figure size 640x480 with 1 Axes>"
      ]
     },
     "metadata": {},
     "output_type": "display_data"
    }
   ],
   "source": [
    "plt.plot(x, ydata, 'bo')\n",
    "plt.plot(x,y, 'r')\n",
    "plt.ylabel('Variable dependiente')\n",
    "plt.xlabel('Variable independiente')\n",
    "plt.show()"
   ]
  },
  {
   "cell_type": "code",
   "execution_count": 45,
   "id": "3bff1a09",
   "metadata": {},
   "outputs": [
    {
     "data": {
      "text/plain": [
       "array([ True,  True,  True,  True,  True,  True, False,  True,  True,\n",
       "        True,  True, False,  True,  True, False,  True, False, False,\n",
       "        True,  True,  True,  True,  True,  True,  True,  True,  True,\n",
       "       False, False, False,  True,  True,  True,  True, False,  True,\n",
       "        True,  True,  True,  True,  True,  True,  True,  True,  True,\n",
       "        True,  True,  True,  True,  True,  True,  True, False, False,\n",
       "        True,  True, False, False,  True, False,  True,  True,  True,\n",
       "        True,  True, False,  True,  True, False,  True,  True,  True,\n",
       "        True, False,  True,  True,  True, False,  True,  True, False,\n",
       "       False,  True,  True,  True,  True,  True, False,  True,  True,\n",
       "        True,  True,  True,  True,  True,  True,  True, False,  True,\n",
       "        True])"
      ]
     },
     "execution_count": 45,
     "metadata": {},
     "output_type": "execute_result"
    }
   ],
   "source": [
    "msk = np.random.rand(len(x)) <= 0.8\n",
    "msk"
   ]
  },
  {
   "cell_type": "code",
   "execution_count": 46,
   "id": "78d9ee67",
   "metadata": {},
   "outputs": [],
   "source": [
    "train_x = x[msk]\n",
    "test_x = x[~msk]\n",
    "train_y = ydata[msk]\n",
    "test_y = ydata[~msk]"
   ]
  },
  {
   "cell_type": "code",
   "execution_count": 47,
   "id": "700f82d0",
   "metadata": {},
   "outputs": [],
   "source": [
    "popt, pcov = curve_fit(pol_grado3, train_x, train_y)"
   ]
  },
  {
   "cell_type": "code",
   "execution_count": 48,
   "id": "6939f42b",
   "metadata": {},
   "outputs": [
    {
     "name": "stdout",
     "output_type": "stream",
     "text": [
      "beta_0 =   2.5000655932086486 beta_1 =  1.2994635479215528 beta_2 =  1.2374797785086102 beta_3 =  0.9049127978303336\n"
     ]
    }
   ],
   "source": [
    "print(\"beta_0 =  \", popt[0], \"beta_1 = \", popt[1], \"beta_2 = \", popt[2], \"beta_3 = \", popt[3])"
   ]
  },
  {
   "cell_type": "markdown",
   "id": "ee428989",
   "metadata": {},
   "source": [
    "# Predicción"
   ]
  },
  {
   "cell_type": "code",
   "execution_count": 50,
   "id": "148b02ad",
   "metadata": {},
   "outputs": [],
   "source": [
    "y_hat = pol_grado3(test_x, *popt)"
   ]
  },
  {
   "cell_type": "code",
   "execution_count": 51,
   "id": "81923235",
   "metadata": {},
   "outputs": [
    {
     "name": "stdout",
     "output_type": "stream",
     "text": [
      "Mean absolute error: 19.61\n",
      "Residual sum of squares (MSE): 617.32\n",
      "R2-score: 0.58\n"
     ]
    }
   ],
   "source": [
    "print(\"Mean absolute error: %.2f\" % np.mean(np.absolute(y_hat - test_y)))\n",
    "print(\"Residual sum of squares (MSE): %.2f\" % np.mean((y_hat - test_y) ** 2))\n",
    "from sklearn.metrics import r2_score\n",
    "print(\"R2-score: %.2f\" % r2_score(y_hat, test_y))"
   ]
  },
  {
   "cell_type": "code",
   "execution_count": 52,
   "id": "17856da9",
   "metadata": {},
   "outputs": [
    {
     "data": {
      "image/png": "[encoded data removed]",
      "text/plain": [
       "<Figure size 640x480 with 1 Axes>"
      ]
     },
     "metadata": {},
     "output_type": "display_data"
    }
   ],
   "source": [
    "plt.plot(test_x, test_y, 'bo')\n",
    "plt.plot(test_x,y_hat, 'r')\n",
    "plt.ylabel('Variable dependiente')\n",
    "plt.xlabel('Variable independiente')\n",
    "plt.show()"
   ]
  },
  {
   "cell_type": "markdown",
   "id": "e454da8d",
   "metadata": {},
   "source": [
    "# Modelo exponencial."
   ]
  },
  {
   "cell_type": "markdown",
   "id": "8dd7e7b5",
   "metadata": {},
   "source": [
    "# Y = a + b *  exp (X)"
   ]
  },
  {
   "cell_type": "code",
   "execution_count": 53,
   "id": "261fe6b6",
   "metadata": {},
   "outputs": [
    {
     "data": {
      "image/png": "[encoded data removed]",
      "text/plain": [
       "<Figure size 640x480 with 1 Axes>"
      ]
     },
     "metadata": {},
     "output_type": "display_data"
    }
   ],
   "source": [
    "X = np.arange(-5.0, 5.0, 0.1)\n",
    "Y = 5 + 7 * np.exp(X)\n",
    "\n",
    "plt.plot(X, Y)\n",
    "plt.ylabel('Variable Y')\n",
    "plt.xlabel('Variable X')\n",
    "plt.show()"
   ]
  },
  {
   "cell_type": "markdown",
   "id": "346654ce",
   "metadata": {},
   "source": [
    "# Modelo logarítmico"
   ]
  },
  {
   "cell_type": "markdown",
   "id": "a405ce0e",
   "metadata": {},
   "source": [
    "# Y = a + b * ln (X)"
   ]
  },
  {
   "cell_type": "code",
   "execution_count": 54,
   "id": "75aec2fc",
   "metadata": {},
   "outputs": [
    {
     "name": "stderr",
     "output_type": "stream",
     "text": [
      "C:\\Users\\gilgu\\AppData\\Local\\Temp\\ipykernel_22376\\2690962801.py:2: RuntimeWarning: invalid value encountered in log\n",
      "  Y = 2 + 6 * np.log(X)\n"
     ]
    },
    {
     "data": {
      "image/png": "[encoded data removed]",
      "text/plain": [
       "<Figure size 640x480 with 1 Axes>"
      ]
     },
     "metadata": {},
     "output_type": "display_data"
    }
   ],
   "source": [
    "X = np.arange(-5.0, 5.0, 0.1)\n",
    "Y = 2 + 6 * np.log(X)\n",
    "\n",
    "plt.plot(X, Y)\n",
    "plt.ylabel('Variable Y')\n",
    "plt.xlabel('Variable X')\n",
    "plt.show()"
   ]
  },
  {
   "cell_type": "markdown",
   "id": "3752ce74",
   "metadata": {},
   "source": [
    "# Modelo Sigmoidal ó Logístico"
   ]
  },
  {
   "cell_type": "markdown",
   "id": "90c2a3ef",
   "metadata": {},
   "source": [
    "#   Y = a + (b / (1 + c ** (X - d)))"
   ]
  },
  {
   "cell_type": "code",
   "execution_count": 56,
   "id": "50c682ed",
   "metadata": {},
   "outputs": [
    {
     "data": {
      "image/png": "[encoded data removed]",
      "text/plain": [
       "<Figure size 640x480 with 1 Axes>"
      ]
     },
     "metadata": {},
     "output_type": "display_data"
    }
   ],
   "source": [
    "X = np.arange(-5.0, 5.0, 0.1)\n",
    "Y = 1-4 / (1 + np.power(3, X - 2))\n",
    "\n",
    "plt.plot(X, Y)\n",
    "plt.ylabel('Variable Y')\n",
    "plt.xlabel('Variable X')\n",
    "plt.show()"
   ]
  },
  {
   "cell_type": "code",
   "execution_count": null,
   "id": "6f194122",
   "metadata": {},
   "outputs": [],
   "source": []
  }
 ],
 "metadata": {
  "kernelspec": {
   "display_name": "Python 3 (ipykernel)",
   "language": "python",
   "name": "python3"
  },
  "language_info": {
   "codemirror_mode": {
    "name": "ipython",
    "version": 3
   },
   "file_extension": ".py",
   "mimetype": "text/x-python",
   "name": "python",
   "nbconvert_exporter": "python",
   "pygments_lexer": "ipython3",
   "version": "3.11.3"
  }
 },
 "nbformat": 4,
 "nbformat_minor": 5
}
