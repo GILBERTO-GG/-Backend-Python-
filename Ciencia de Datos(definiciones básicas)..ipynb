{
 "cells": [
  {
   "cell_type": "markdown",
   "id": "5f8d2df7",
   "metadata": {},
   "source": [
    "# DEFINICIONES BASICAS DE LA CIENCIA DE DATOS."
   ]
  },
  {
   "cell_type": "markdown",
   "id": "51c85ce2",
   "metadata": {},
   "source": [
    "# Negocio."
   ]
  },
  {
   "cell_type": "code",
   "execution_count": null,
   "id": "d2ceb1e1",
   "metadata": {},
   "outputs": [],
   "source": [
    "Un negocio es una actividad económica que busca obtener utilidades pricipalmente a través de la venta ó intercambio\n",
    "de productos ó servicios que satisfagan las necesidades de los clientes.\n",
    "Puede incluir una ó varias etapas de la cadena de producción tales como:\n",
    "    --Extracción de recursos.\n",
    "    --Fabricación\n",
    "    --Distribución\n",
    "    --Almacenamiento\n",
    "    --Venta ó reventa"
   ]
  },
  {
   "cell_type": "markdown",
   "id": "8ab13ab2",
   "metadata": {},
   "source": [
    "# Modelo"
   ]
  },
  {
   "cell_type": "code",
   "execution_count": null,
   "id": "9593e497",
   "metadata": {},
   "outputs": [],
   "source": [
    "Abstracción de la realidad para comprender un proceso ó fenómeno, utilizando herramientas matemáticas.\n",
    "La función principal de los modelos es la de comprender y explicar la realidad a fin de poder hacer predicciones.\n",
    "FUNCION DE LOS MODELOS:\n",
    "    \n",
    "    --Representar\n",
    "    --Explicar\n",
    "    --Predecir\n",
    "    --Guiar"
   ]
  },
  {
   "cell_type": "markdown",
   "id": "2d355ec5",
   "metadata": {},
   "source": [
    "# Ciencia"
   ]
  },
  {
   "cell_type": "code",
   "execution_count": null,
   "id": "e2de7940",
   "metadata": {},
   "outputs": [],
   "source": [
    "Cualquier sistema de conocimiento que se ocupe del mundo físico y sus fenómenos, y que implique observaciones imparciales\n",
    "y experimentación sistemática.\n",
    "En general, una ciencia implica la búsqueda de conocimientos, que abarquen \"verdades generales\" ó el funcionamiento de leyes\n",
    "fundamentales.\n",
    "--Base confiable para interpretar el universo.\n",
    "--Conjunto de conocimientos en constante evolución."
   ]
  },
  {
   "cell_type": "markdown",
   "id": "20f51e1d",
   "metadata": {},
   "source": [
    "# Estadística"
   ]
  },
  {
   "cell_type": "code",
   "execution_count": null,
   "id": "304f8b95",
   "metadata": {},
   "outputs": [],
   "source": [
    "Es una ciencia, rama de las matemáticas que recolecta, describe, organiza e interpreta datos e información.\n",
    "Su objetivo:\n",
    "    --Interpretar\n",
    "    --Tomar decisiones\n",
    "    --Inferir en la población"
   ]
  },
  {
   "cell_type": "markdown",
   "id": "d845971a",
   "metadata": {},
   "source": [
    "# Tipos de Estadística"
   ]
  },
  {
   "cell_type": "markdown",
   "id": "95bc503e",
   "metadata": {},
   "source": [
    "# Estadística Teórica"
   ]
  },
  {
   "cell_type": "code",
   "execution_count": null,
   "id": "a794e037",
   "metadata": {},
   "outputs": [],
   "source": [
    "Consiste en validar ciertos supuestos que se presentan y establecer cuales son las consecuencias de la existencia y \n",
    "cumplimiento de esos supuestos. "
   ]
  },
  {
   "cell_type": "markdown",
   "id": "13df4690",
   "metadata": {},
   "source": [
    "# Estadística Aplicada"
   ]
  },
  {
   "cell_type": "code",
   "execution_count": null,
   "id": "8ac5d2ac",
   "metadata": {},
   "outputs": [],
   "source": [
    "Le interesa encontrar una manera de resolver problemas con datos tangibles."
   ]
  },
  {
   "cell_type": "markdown",
   "id": "fda340f9",
   "metadata": {},
   "source": [
    "# Descriptiva e Inferencial"
   ]
  },
  {
   "cell_type": "markdown",
   "id": "fc609dd7",
   "metadata": {},
   "source": [
    "# Analítica de Datos"
   ]
  },
  {
   "cell_type": "code",
   "execution_count": null,
   "id": "8b8d6be2",
   "metadata": {},
   "outputs": [],
   "source": [
    "La analítica de datos permite a las organizaciones analizar todos sus datos para identificar patrones y generar conocimien-\n",
    "tos para informar y, en algunos casos, automatizar decisiones, conectando la inteligencia y la acción.\n",
    "La analítica de datos permite a las organizaciones transformar digitalmente su empresa, volviéndose más innovadoras y con \n",
    "visión de futuro en la toma de decisiones."
   ]
  },
  {
   "cell_type": "code",
   "execution_count": null,
   "id": "c6d4895d",
   "metadata": {},
   "outputs": [],
   "source": [
    "Otro concepto es que es un proceso que consiste en inspeccionar, limpiar y transformar datos. También la analítica es una \n",
    "mezcla de ciencia y arte.\n",
    "Es CIENCIA porque obtenemos información por medio de técnicas que permiten obtener y procesar los datos para llegar a ana-\n",
    "lizarla.\n",
    "Es ARTE en cuanto a que no hay ninguna técnica, metodología ó praxis que funcione en todos los casos. Cada fuente de datos\n",
    "con formatos, modelos de negocios y objetivos, son diferentes."
   ]
  },
  {
   "cell_type": "markdown",
   "id": "a05512c1",
   "metadata": {},
   "source": [
    "# Minería de datos"
   ]
  },
  {
   "cell_type": "code",
   "execution_count": null,
   "id": "404ac9d7",
   "metadata": {},
   "outputs": [],
   "source": [
    "La minería de datos es la aplicacion de algoritmos especificos para extraer patrones de datos.\n",
    "La minería de datos es el proceso de detectar la información procesable de los conjuntos grandes de datos.\n",
    "Utiliza el análisis matemático para deducir los patrones y tendencias que existen en los datos que no se pueden detectar \n",
    "mediante la exploración tradicional de los datos porque las relaciones son demasiado complejas ó porque hay demasiados \n",
    "datos."
   ]
  },
  {
   "cell_type": "markdown",
   "id": "e1d047a2",
   "metadata": {},
   "source": [
    "# Inteligencia de Negocios (business intelligence)"
   ]
  },
  {
   "cell_type": "code",
   "execution_count": null,
   "id": "bde33cb2",
   "metadata": {},
   "outputs": [],
   "source": [
    "La inteligencia de negocio (BI) aprovecha el software y los servicios para transformar los datos en conocimientos prácticos \n",
    "que informan las decisiones empresariales estratégicas y tácticas de una organización."
   ]
  },
  {
   "cell_type": "markdown",
   "id": "7906c062",
   "metadata": {},
   "source": [
    "# Herramientas de Business Intelligence"
   ]
  },
  {
   "cell_type": "code",
   "execution_count": null,
   "id": "78041c99",
   "metadata": {},
   "outputs": [],
   "source": [
    "--Bases de datos\n",
    "--Dashboards con Machine Learning\n",
    "--Spreadsheets\n",
    "--Software de reportes\n",
    "--Software de Dashboards\n",
    "--Herramientas de minería de datos"
   ]
  },
  {
   "cell_type": "code",
   "execution_count": null,
   "id": "4836d9cd",
   "metadata": {},
   "outputs": [],
   "source": []
  }
 ],
 "metadata": {
  "kernelspec": {
   "display_name": "Python 3 (ipykernel)",
   "language": "python",
   "name": "python3"
  },
  "language_info": {
   "codemirror_mode": {
    "name": "ipython",
    "version": 3
   },
   "file_extension": ".py",
   "mimetype": "text/x-python",
   "name": "python",
   "nbconvert_exporter": "python",
   "pygments_lexer": "ipython3",
   "version": "3.11.3"
  }
 },
 "nbformat": 4,
 "nbformat_minor": 5
}
