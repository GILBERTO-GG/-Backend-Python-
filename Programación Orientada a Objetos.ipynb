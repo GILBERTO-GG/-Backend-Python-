{
 "cells": [
  {
   "cell_type": "markdown",
   "id": "dfd81f8a",
   "metadata": {},
   "source": [
    "# ¿Qué es una clase?"
   ]
  },
  {
   "cell_type": "code",
   "execution_count": null,
   "id": "855e98e3",
   "metadata": {},
   "outputs": [],
   "source": [
    "--Una clase es un constructor de objetos, es decir, un \"plano\" para crear objetos.\n",
    "\n",
    "--Para crear una clase vamos a emplear la palabra reservada \"class\" seguido de un nombre escrito en minúscula, a excepción\n",
    "  de la primera letra de cada palabra, que se escribe en mayúscula y sin guiones bajos.\n",
    "    \n",
    "--Los atributos son las variables que pertenecen a una clase.\n",
    "\n",
    "--Los atributos son siempre públicos y se puede acceder a ellos mediante el punto (.)"
   ]
  },
  {
   "cell_type": "markdown",
   "id": "a9551cd6",
   "metadata": {},
   "source": [
    "# Creación de una nueva clase"
   ]
  },
  {
   "cell_type": "code",
   "execution_count": 3,
   "id": "4afa1e6b",
   "metadata": {},
   "outputs": [],
   "source": [
    "class Mi_clase:\n",
    "    pass"
   ]
  },
  {
   "cell_type": "markdown",
   "id": "a9ef0bc9",
   "metadata": {},
   "source": [
    "# Creación de un nuevo objeto"
   ]
  },
  {
   "cell_type": "code",
   "execution_count": 4,
   "id": "c671c75d",
   "metadata": {},
   "outputs": [
    {
     "name": "stdout",
     "output_type": "stream",
     "text": [
      "5\n",
      "10\n"
     ]
    }
   ],
   "source": [
    "objeto = Mi_clase\n",
    "objeto.x = 5\n",
    "objeto.y = 10 \n",
    "\n",
    "print(objeto.x)\n",
    "print(objeto.y)"
   ]
  },
  {
   "cell_type": "markdown",
   "id": "dc668959",
   "metadata": {},
   "source": [
    "# Creación de una nueva clase con atributos iniciales"
   ]
  },
  {
   "cell_type": "code",
   "execution_count": 5,
   "id": "21ec51ed",
   "metadata": {},
   "outputs": [],
   "source": [
    "class Mi_clase:\n",
    "    x = 5\n",
    "    y = 10"
   ]
  },
  {
   "cell_type": "code",
   "execution_count": 6,
   "id": "7595a709",
   "metadata": {},
   "outputs": [
    {
     "name": "stdout",
     "output_type": "stream",
     "text": [
      "5\n",
      "10\n"
     ]
    }
   ],
   "source": [
    "objeto = Mi_clase()\n",
    "print(objeto.x)\n",
    "print(objeto.y)"
   ]
  },
  {
   "cell_type": "markdown",
   "id": "bef9a39f",
   "metadata": {},
   "source": [
    "# Definición de un método para una clase"
   ]
  },
  {
   "cell_type": "code",
   "execution_count": 7,
   "id": "884cf81c",
   "metadata": {},
   "outputs": [],
   "source": [
    "class Aviso:\n",
    "    def saludar(self):\n",
    "        print(\"¡Hola, buen día!\")    "
   ]
  },
  {
   "cell_type": "code",
   "execution_count": 9,
   "id": "913158a6",
   "metadata": {},
   "outputs": [
    {
     "name": "stdout",
     "output_type": "stream",
     "text": [
      "¡Hola, buen día!\n"
     ]
    }
   ],
   "source": [
    "texto = Aviso()\n",
    "texto.saludar()"
   ]
  },
  {
   "cell_type": "markdown",
   "id": "041c78b0",
   "metadata": {},
   "source": [
    "# Definición de una clase para almacenar los datos de estudiantes"
   ]
  },
  {
   "cell_type": "code",
   "execution_count": 10,
   "id": "ee7f987f",
   "metadata": {},
   "outputs": [],
   "source": [
    "class Estudiante:\n",
    "    def aprobado(self):\n",
    "        if self.calif >= 60:\n",
    "            return True\n",
    "        else:\n",
    "            return False"
   ]
  },
  {
   "cell_type": "code",
   "execution_count": 11,
   "id": "2bd87bef",
   "metadata": {},
   "outputs": [
    {
     "name": "stdout",
     "output_type": "stream",
     "text": [
      "True\n"
     ]
    }
   ],
   "source": [
    "estudiante1 = Estudiante()\n",
    "estudiante1.nombre = \"Juan\"\n",
    "estudiante1.calif = 80\n",
    "aprobo1 = estudiante1.aprobado()\n",
    "print(aprobo1)"
   ]
  },
  {
   "cell_type": "code",
   "execution_count": 12,
   "id": "a3c630ee",
   "metadata": {},
   "outputs": [
    {
     "name": "stdout",
     "output_type": "stream",
     "text": [
      "False\n"
     ]
    }
   ],
   "source": [
    "estudiante2 = Estudiante()\n",
    "estudiante2.nombre = \"Araceli\"\n",
    "estudiante2.calif = 50\n",
    "aprobo2 = estudiante2.aprobado()\n",
    "print(aprobo2)"
   ]
  },
  {
   "cell_type": "markdown",
   "id": "99344b02",
   "metadata": {},
   "source": [
    "# Manejo de un constructor"
   ]
  },
  {
   "cell_type": "code",
   "execution_count": 13,
   "id": "db966ec9",
   "metadata": {},
   "outputs": [],
   "source": [
    "class Estudiante:\n",
    "    def aprobado(self):\n",
    "        if self.calif >= 60:\n",
    "            return True\n",
    "        else:\n",
    "            return False\n",
    "    \n",
    "    def __init__(self, nombre, calif):\n",
    "        self.nombre = nombre\n",
    "        self.calif = calif"
   ]
  },
  {
   "cell_type": "code",
   "execution_count": 14,
   "id": "203bd467",
   "metadata": {},
   "outputs": [
    {
     "name": "stdout",
     "output_type": "stream",
     "text": [
      "Juan\n",
      "80\n"
     ]
    }
   ],
   "source": [
    "estudiante1 = Estudiante(\"Juan\", 80)\n",
    "print(estudiante1.nombre)\n",
    "print(estudiante1.calif)"
   ]
  },
  {
   "cell_type": "code",
   "execution_count": 15,
   "id": "a7ca2663",
   "metadata": {},
   "outputs": [
    {
     "name": "stdout",
     "output_type": "stream",
     "text": [
      "Araceli\n",
      "50\n"
     ]
    }
   ],
   "source": [
    "estudiante2 = Estudiante(\"Araceli\", 50)\n",
    "print(estudiante2.nombre)\n",
    "print(estudiante2.calif)"
   ]
  },
  {
   "cell_type": "code",
   "execution_count": 16,
   "id": "04e7cb3a",
   "metadata": {},
   "outputs": [
    {
     "name": "stdout",
     "output_type": "stream",
     "text": [
      "True\n",
      "False\n"
     ]
    }
   ],
   "source": [
    "aprobo1 = estudiante1.aprobado()\n",
    "aprobo2 = estudiante2.aprobado()\n",
    "print(aprobo1)\n",
    "print(aprobo2)"
   ]
  },
  {
   "cell_type": "markdown",
   "id": "a61e1e8d",
   "metadata": {},
   "source": [
    "# Ejercicio\n"
   ]
  },
  {
   "cell_type": "code",
   "execution_count": null,
   "id": "9315e16b",
   "metadata": {},
   "outputs": [],
   "source": [
    "Desarrolle una clase en Python que le permita al usuario calcular la suma de dos números complejos.\n",
    "NOTA: Un número complejo se compone de una parte real y una imaginaria. De esta manera, la suma de dos números de \n",
    "    este tipo considera la suma separada de sus partes."
   ]
  },
  {
   "cell_type": "code",
   "execution_count": 20,
   "id": "ca13cda7",
   "metadata": {},
   "outputs": [
    {
     "name": "stdout",
     "output_type": "stream",
     "text": [
      "Parte real:  5\n",
      "Parte imaginaria:  7\n"
     ]
    }
   ],
   "source": [
    "class Complejo:\n",
    "    def __init__(self, real, imaginario):\n",
    "        self.real = real\n",
    "        self.imaginario = imaginario\n",
    "        \n",
    "    def agregar(self, numero):   \n",
    "        real = self.real + numero.real\n",
    "        imaginario = self.imaginario + numero.imaginario\n",
    "        resultado = Complejo(real, imaginario)\n",
    "        return resultado\n",
    "    \n",
    "numero1 = Complejo(2,3)\n",
    "numero2 = Complejo(3,4)\n",
    "\n",
    "suma = numero1.agregar(numero2)\n",
    "print(\"Parte real: \", suma.real)\n",
    "print(\"Parte imaginaria: \", suma.imaginario)"
   ]
  },
  {
   "cell_type": "markdown",
   "id": "74f9aedb",
   "metadata": {},
   "source": [
    "# La referencia \"self\" puede tomar cualquier otra deniminación"
   ]
  },
  {
   "cell_type": "code",
   "execution_count": 22,
   "id": "731e20c1",
   "metadata": {},
   "outputs": [
    {
     "name": "stdout",
     "output_type": "stream",
     "text": [
      "Hola mi nombre es:  Juan\n"
     ]
    }
   ],
   "source": [
    "class Persona:\n",
    "    def __init__(objeto, nombre, edad):\n",
    "        objeto.nombre = nombre\n",
    "        objeto.edad = edad\n",
    "        \n",
    "    def mensaje(objeto):   \n",
    "        print(\"Hola mi nombre es:  \" + objeto.nombre)\n",
    "        \n",
    "persona1 = Persona(\"Juan\", 36)\n",
    "persona1.mensaje()"
   ]
  },
  {
   "cell_type": "markdown",
   "id": "ad71f5b1",
   "metadata": {},
   "source": [
    "#  Ejercicio"
   ]
  },
  {
   "cell_type": "code",
   "execution_count": null,
   "id": "5fbc01f5",
   "metadata": {},
   "outputs": [],
   "source": [
    "Crea una clase denominada \"Triangulo\". Crea un objeto a partir de dicha clase, el cual deberá tener los atributos a, b y c\n",
    "que representan los lados de dicho triangulo.\n",
    "La clase triangulo deberá tener 2 métodos:\n",
    "    1) El constructor init se usará para inicializar los lados del triángulo\n",
    "    2)El método perim que deberá usarse para calcular el perímetro total del triángulo.\n",
    "    \n",
    "El perímetro del triángulo deberá ser impreso desde fuera de la clase.    "
   ]
  },
  {
   "cell_type": "code",
   "execution_count": 30,
   "id": "a8da91df",
   "metadata": {},
   "outputs": [
    {
     "name": "stdout",
     "output_type": "stream",
     "text": [
      "El perímetro del triángulo es:   9\n"
     ]
    }
   ],
   "source": [
    "class Triangulo:\n",
    "    def __init__(self, a,b,c):\n",
    "        self.a = a\n",
    "        self.b = b\n",
    "        self.c = c\n",
    "        \n",
    "    def perim(self):\n",
    "        return self.a + self.b + self.c\n",
    "    \n",
    "triangulo1 = Triangulo(2, 3, 4)\n",
    "perimetro1 = triangulo1.perim()\n",
    "print(\"El perímetro del triángulo es:  \", perimetro1)"
   ]
  },
  {
   "cell_type": "markdown",
   "id": "2b02afa2",
   "metadata": {},
   "source": [
    "# Tipos de Constructores"
   ]
  },
  {
   "cell_type": "code",
   "execution_count": null,
   "id": "2897269b",
   "metadata": {},
   "outputs": [],
   "source": [
    "--CONSTRUCTOR PREDETERMINADO.- Es un constructor simple que no acepta ningún argumento. Su definición tiene solo un \n",
    "argumento que es una referencia a la instancia que se está construyendo."
   ]
  },
  {
   "cell_type": "code",
   "execution_count": 31,
   "id": "73ce98c5",
   "metadata": {},
   "outputs": [
    {
     "name": "stdout",
     "output_type": "stream",
     "text": [
      "Sesión experta\n"
     ]
    }
   ],
   "source": [
    "class Expertos:\n",
    "    def __init__(self):\n",
    "        self.texto = \"Sesión experta\"\n",
    "        \n",
    "    def imprime_texto(self):\n",
    "        print(self.texto)\n",
    "        \n",
    "elemento = Expertos()\n",
    "elemento.imprime_texto()"
   ]
  },
  {
   "cell_type": "code",
   "execution_count": null,
   "id": "54eacb47",
   "metadata": {},
   "outputs": [],
   "source": [
    "--CONSTRUCTOR PARAMETRIZADO.- Es aquel constructor con parámetros que toma su primer argumento como una referencia a la\n",
    "instancia que se está construyendo conocida como self y el resto de los argumentos son proporcionados por el programador."
   ]
  },
  {
   "cell_type": "code",
   "execution_count": 32,
   "id": "bb1fdf7f",
   "metadata": {},
   "outputs": [
    {
     "name": "stdout",
     "output_type": "stream",
     "text": [
      "Primer número = 1000\n",
      "Segundo número = 2000\n",
      "Adición de dos números = 3000\n"
     ]
    }
   ],
   "source": [
    "class Adicion:\n",
    "    respuesta = 0\n",
    "    \n",
    "    def __init__(self, primero, segundo):\n",
    "        self.primero = primero\n",
    "        self.segundo = segundo\n",
    "             \n",
    "    def calcula(self):\n",
    "        self.respuesta = self.primero + self.segundo\n",
    "        \n",
    "    def mostrar(self):\n",
    "        print(\"Primer número = \" + str(self.primero))\n",
    "        print(\"Segundo número = \" +str(self.segundo))\n",
    "        print(\"Adición de dos números = \" + str(self.respuesta))    \n",
    "        \n",
    "obj = Adicion(1000, 2000)   \n",
    "obj.calcula()\n",
    "obj.mostrar()"
   ]
  },
  {
   "cell_type": "markdown",
   "id": "219268dd",
   "metadata": {},
   "source": [
    "# Herencia"
   ]
  },
  {
   "cell_type": "code",
   "execution_count": null,
   "id": "8f73f59a",
   "metadata": {},
   "outputs": [],
   "source": [
    "--La HERENCIA es un proceso mediante el cual se puede crear una clase hija que hereda de una clase padre, compartiendo sus\n",
    "  métodos y atributos.\n",
    "--Una clase hija puede sobreescribir los métodos ó atributos, o incluso definir unos nuevos.\n",
    "--Se puede crear una clase hija con tan solo pasar como parámetro la clase de la que queremos heredar.\n",
    "\n",
    "--La HERENCIA SIMPLE.- tiene lugar cuando una clase hija hereda los atributos y métodos de una única clase padre."
   ]
  },
  {
   "cell_type": "code",
   "execution_count": 34,
   "id": "c6cab686",
   "metadata": {},
   "outputs": [
    {
     "name": "stdout",
     "output_type": "stream",
     "text": [
      "Soy Manuel Gómez tengo 26 años y estudio Derecho\n"
     ]
    }
   ],
   "source": [
    "class Estudiante(object):                   #------------------->clase padre\n",
    "    def __init__(self, edad, nombre):\n",
    "        self.edad = edad\n",
    "        self.nombre = nombre\n",
    "        \n",
    "\n",
    "class Derecho(Estudiante):                  #------------------->clase hija\n",
    "    def presentarse(self):\n",
    "        print(f\"Soy {self.nombre} tengo {self.edad} años y estudio Derecho\")\n",
    "    \n",
    "Manuel = Derecho(26, \"Manuel Gómez\")    \n",
    "Manuel.presentarse()"
   ]
  },
  {
   "cell_type": "markdown",
   "id": "0aebe5fe",
   "metadata": {},
   "source": [
    "# Herencia Múltiple"
   ]
  },
  {
   "cell_type": "code",
   "execution_count": null,
   "id": "ab7d35b6",
   "metadata": {},
   "outputs": [],
   "source": [
    "--Los casos de HERENCIA MÚLTIPLE en Python se dan cuando una clase secundaria ó hija hereda atributos y métodos de más de \n",
    "  una clase principal ó padre. Basta con separar con una coma ambas clases principales a la hora de crear la clase  \n",
    "    secundaria."
   ]
  },
  {
   "cell_type": "code",
   "execution_count": 37,
   "id": "a1314517",
   "metadata": {},
   "outputs": [
    {
     "name": "stdout",
     "output_type": "stream",
     "text": [
      "Soy Manuel Contreras tengo 26 años y estudio Derecho\n",
      "Estudio en el Instituto de Leyes\n"
     ]
    }
   ],
   "source": [
    "class Estudiante(object):                   #------------------->clase padre Nó: 1\n",
    "    def __init__(self, edad, nombre):\n",
    "        self.edad = edad\n",
    "        self.nombre = nombre\n",
    "        \n",
    "        \n",
    "class Instituto(object):                   #------------------->clase padre Nó: 1\n",
    "    def presentarInstituto(self):\n",
    "        print(\"Estudio en el Instituto de Leyes\")\n",
    "        \n",
    "        \n",
    "class Derecho(Estudiante, Instituto):       #------------------->clase hija\n",
    "    def presentarse(self):\n",
    "        print(f\"Soy {self.nombre} tengo {self.edad} años y estudio Derecho\")\n",
    "\n",
    "\n",
    "Manuel = Derecho(26, \"Manuel Contreras\")\n",
    "Manuel.presentarse()\n",
    "Manuel.presentarInstituto()        "
   ]
  },
  {
   "cell_type": "markdown",
   "id": "83f51b1f",
   "metadata": {},
   "source": [
    "#  Ejercicio"
   ]
  },
  {
   "cell_type": "code",
   "execution_count": null,
   "id": "ee923bf9",
   "metadata": {},
   "outputs": [],
   "source": [
    "Defina una clase padre denominada \"Figura\". A partir de ella desarrolle dos clases hijas, denominadas \"Circulo\" y \n",
    "\"Triangulo\", las cuales deben ser capaces de calcular el área en cada caso a partir de los parámetros requeridos \n",
    "por cada figura (para el círculo se requiere el radio, y para el triángulo la base y su altura).\n",
    "Al final pruebe que funcionan adecuadamente con datos hipotéticos."
   ]
  },
  {
   "cell_type": "code",
   "execution_count": 42,
   "id": "b8d01545",
   "metadata": {},
   "outputs": [
    {
     "data": {
      "text/plain": [
       "50.2656"
      ]
     },
     "execution_count": 42,
     "metadata": {},
     "output_type": "execute_result"
    }
   ],
   "source": [
    "class Figura(object):\n",
    "    def area(self):\n",
    "        pass\n",
    "    \n",
    "    \n",
    "class Circulo(Figura):\n",
    "    def __init__(self, radio=0):\n",
    "        self.radio = radio\n",
    "        \n",
    "    def area(self):\n",
    "        return 3.1416 * (self.radio ** 2)\n",
    "    \n",
    "class Triangulo(Figura):    \n",
    "    def __init__(self, base=0, altura=0):\n",
    "        self.base = base\n",
    "        self.altura = altura\n",
    "        \n",
    "    def area(self):    \n",
    "        return (self.base * self.altura) / 2\n",
    "    \n",
    "c = Circulo(4)\n",
    "c.area()\n"
   ]
  },
  {
   "cell_type": "code",
   "execution_count": 43,
   "id": "559a1c74",
   "metadata": {},
   "outputs": [
    {
     "data": {
      "text/plain": [
       "7.5"
      ]
     },
     "execution_count": 43,
     "metadata": {},
     "output_type": "execute_result"
    }
   ],
   "source": [
    "t = Triangulo(3,5)\n",
    "t.area()"
   ]
  }
 ],
 "metadata": {
  "kernelspec": {
   "display_name": "Python 3 (ipykernel)",
   "language": "python",
   "name": "python3"
  },
  "language_info": {
   "codemirror_mode": {
    "name": "ipython",
    "version": 3
   },
   "file_extension": ".py",
   "mimetype": "text/x-python",
   "name": "python",
   "nbconvert_exporter": "python",
   "pygments_lexer": "ipython3",
   "version": "3.11.3"
  }
 },
 "nbformat": 4,
 "nbformat_minor": 5
}
