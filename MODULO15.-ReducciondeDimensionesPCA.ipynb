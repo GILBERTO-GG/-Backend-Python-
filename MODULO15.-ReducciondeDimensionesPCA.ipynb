{
 "cells": [
  {
   "cell_type": "markdown",
   "id": "ab5801ba",
   "metadata": {},
   "source": [
    "# TRATAMIENTO DE DATOS."
   ]
  },
  {
   "cell_type": "code",
   "execution_count": 3,
   "id": "618cb1ef",
   "metadata": {},
   "outputs": [],
   "source": [
    "import numpy as np\n",
    "import pandas as pd\n",
    "\n",
    "#----->Gráficos\n",
    "\n",
    "import matplotlib.pyplot as plt\n",
    "\n",
    "#----->Preprocesado y modelado\n",
    "\n",
    "from sklearn.decomposition import PCA       #----->llamado de bibliotecas\n",
    "from sklearn.preprocessing import StandardScaler   #----->se encarga de cambiar la escala de cada una de las observaciones\n",
    "from sklearn.pipeline import make_pipeline       #----->se encargará de revisar el proceso completo de aplicación de PCA\n",
    "from numpy import linalg as LA                   #----->cálculo de operaciones de álgebra lineal \n",
    "\n",
    "#-------> error se resolvió instalando  ---->   pip install -U scikit-learn"
   ]
  },
  {
   "cell_type": "markdown",
   "id": "5b751f0d",
   "metadata": {},
   "source": [
    "# Generar dataframe para los datos que se muestran"
   ]
  },
  {
   "cell_type": "code",
   "execution_count": 4,
   "id": "d2386155",
   "metadata": {},
   "outputs": [
    {
     "data": {
      "text/html": [
       "<div>\n",
       "<style scoped>\n",
       "    .dataframe tbody tr th:only-of-type {\n",
       "        vertical-align: middle;\n",
       "    }\n",
       "\n",
       "    .dataframe tbody tr th {\n",
       "        vertical-align: top;\n",
       "    }\n",
       "\n",
       "    .dataframe thead th {\n",
       "        text-align: right;\n",
       "    }\n",
       "</style>\n",
       "<table border=\"1\" class=\"dataframe\">\n",
       "  <thead>\n",
       "    <tr style=\"text-align: right;\">\n",
       "      <th></th>\n",
       "      <th>Matematicas</th>\n",
       "      <th>Ciencias</th>\n",
       "      <th>Español</th>\n",
       "      <th>Historia</th>\n",
       "      <th>EdFisica</th>\n",
       "    </tr>\n",
       "  </thead>\n",
       "  <tbody>\n",
       "    <tr>\n",
       "      <th>Lucia</th>\n",
       "      <td>7.0</td>\n",
       "      <td>6.5</td>\n",
       "      <td>9.2</td>\n",
       "      <td>8.6</td>\n",
       "      <td>8.0</td>\n",
       "    </tr>\n",
       "    <tr>\n",
       "      <th>Pedro</th>\n",
       "      <td>7.5</td>\n",
       "      <td>9.4</td>\n",
       "      <td>7.3</td>\n",
       "      <td>7.0</td>\n",
       "      <td>7.0</td>\n",
       "    </tr>\n",
       "    <tr>\n",
       "      <th>Ines</th>\n",
       "      <td>7.6</td>\n",
       "      <td>9.2</td>\n",
       "      <td>8.0</td>\n",
       "      <td>8.0</td>\n",
       "      <td>7.5</td>\n",
       "    </tr>\n",
       "    <tr>\n",
       "      <th>Luis</th>\n",
       "      <td>5.0</td>\n",
       "      <td>6.5</td>\n",
       "      <td>6.5</td>\n",
       "      <td>7.0</td>\n",
       "      <td>9.0</td>\n",
       "    </tr>\n",
       "    <tr>\n",
       "      <th>Andres</th>\n",
       "      <td>6.0</td>\n",
       "      <td>6.0</td>\n",
       "      <td>7.8</td>\n",
       "      <td>8.9</td>\n",
       "      <td>7.3</td>\n",
       "    </tr>\n",
       "    <tr>\n",
       "      <th>Ana</th>\n",
       "      <td>7.8</td>\n",
       "      <td>9.6</td>\n",
       "      <td>7.7</td>\n",
       "      <td>8.0</td>\n",
       "      <td>6.5</td>\n",
       "    </tr>\n",
       "    <tr>\n",
       "      <th>Carlos</th>\n",
       "      <td>6.3</td>\n",
       "      <td>6.4</td>\n",
       "      <td>8.2</td>\n",
       "      <td>9.0</td>\n",
       "      <td>7.2</td>\n",
       "    </tr>\n",
       "    <tr>\n",
       "      <th>Jose</th>\n",
       "      <td>7.9</td>\n",
       "      <td>9.7</td>\n",
       "      <td>7.5</td>\n",
       "      <td>8.0</td>\n",
       "      <td>6.0</td>\n",
       "    </tr>\n",
       "    <tr>\n",
       "      <th>Sonia</th>\n",
       "      <td>6.0</td>\n",
       "      <td>6.0</td>\n",
       "      <td>6.5</td>\n",
       "      <td>5.5</td>\n",
       "      <td>8.7</td>\n",
       "    </tr>\n",
       "    <tr>\n",
       "      <th>Maria</th>\n",
       "      <td>6.8</td>\n",
       "      <td>7.2</td>\n",
       "      <td>8.7</td>\n",
       "      <td>9.0</td>\n",
       "      <td>7.0</td>\n",
       "    </tr>\n",
       "  </tbody>\n",
       "</table>\n",
       "</div>"
      ],
      "text/plain": [
       "        Matematicas  Ciencias  Español  Historia  EdFisica\n",
       "Lucia           7.0       6.5      9.2       8.6       8.0\n",
       "Pedro           7.5       9.4      7.3       7.0       7.0\n",
       "Ines            7.6       9.2      8.0       8.0       7.5\n",
       "Luis            5.0       6.5      6.5       7.0       9.0\n",
       "Andres          6.0       6.0      7.8       8.9       7.3\n",
       "Ana             7.8       9.6      7.7       8.0       6.5\n",
       "Carlos          6.3       6.4      8.2       9.0       7.2\n",
       "Jose            7.9       9.7      7.5       8.0       6.0\n",
       "Sonia           6.0       6.0      6.5       5.5       8.7\n",
       "Maria           6.8       7.2      8.7       9.0       7.0"
      ]
     },
     "execution_count": 4,
     "metadata": {},
     "output_type": "execute_result"
    }
   ],
   "source": [
    "df = pd.DataFrame(np.array([[7, 6.5, 9.2, 8.6, 8],\n",
    "                            [7.5, 9.4, 7.3, 7, 7],\n",
    "                            [7.6, 9.2, 8, 8, 7.5],\n",
    "                            [5, 6.5, 6.5, 7, 9],\n",
    "                            [6, 6 , 7.8, 8.9, 7.3],\n",
    "                            [7.8, 9.6, 7.7, 8, 6.5],\n",
    "                            [6.3, 6.4, 8.2, 9, 7.2],\n",
    "                            [7.9, 9.7, 7.5, 8, 6],\n",
    "                            [6, 6, 6.5, 5.5, 8.7],\n",
    "                            [6.8, 7.2, 8.7, 9, 7]]),\n",
    "            index = ['Lucia','Pedro','Ines','Luis','Andres','Ana','Carlos','Jose','Sonia','Maria'],\n",
    "          columns = ['Matematicas','Ciencias','Español','Historia','EdFisica'])\n",
    "df"
   ]
  },
  {
   "cell_type": "markdown",
   "id": "591ebb1e",
   "metadata": {},
   "source": [
    "# Vamos ahora a revisar el número de renglones de la base de datos"
   ]
  },
  {
   "cell_type": "markdown",
   "id": "a489ea42",
   "metadata": {},
   "source": [
    "# Se lo vamos a asignar a una variable, para después a través de ella poder"
   ]
  },
  {
   "cell_type": "markdown",
   "id": "af259a97",
   "metadata": {},
   "source": [
    "# calcular las correlaciones que existen entre cada una de las columnas que "
   ]
  },
  {
   "cell_type": "markdown",
   "id": "d3f222bf",
   "metadata": {},
   "source": [
    "# estamos observando."
   ]
  },
  {
   "cell_type": "markdown",
   "id": "a02b343c",
   "metadata": {},
   "source": [
    "# -----------------------------------------------------------------------------------------"
   ]
  },
  {
   "cell_type": "markdown",
   "id": "a1aedb84",
   "metadata": {},
   "source": [
    "# Determinar el número de renglones de la base de datos."
   ]
  },
  {
   "cell_type": "code",
   "execution_count": 5,
   "id": "e1441fc0",
   "metadata": {},
   "outputs": [
    {
     "data": {
      "text/plain": [
       "10"
      ]
     },
     "execution_count": 5,
     "metadata": {},
     "output_type": "execute_result"
    }
   ],
   "source": [
    "index = df.index\n",
    "renglones = len(index)\n",
    "renglones"
   ]
  },
  {
   "cell_type": "markdown",
   "id": "2320e32d",
   "metadata": {},
   "source": [
    "# Estandarización de las variables de nuestra base de datos"
   ]
  },
  {
   "cell_type": "code",
   "execution_count": null,
   "id": "30547d8a",
   "metadata": {},
   "outputs": [],
   "source": [
    "---La idea es que para cada columna seamos capaces de transformarla en una escala común sin importar de que columna \n",
    "   hablemos. Esto se hace restándole a cada elemento de cada columna la media por columna y dividirla entre su \n",
    "   desviación estándar."
   ]
  },
  {
   "cell_type": "code",
   "execution_count": 6,
   "id": "138b6f8f",
   "metadata": {},
   "outputs": [
    {
     "data": {
      "text/plain": [
       "array([[ 0.23263076, -0.7529862 ,  1.78848525,  0.65792263,  0.65858084],\n",
       "       [ 0.78651352,  1.14584856, -0.53899555, -0.84590053, -0.47690337],\n",
       "       [ 0.89729007,  1.01489444,  0.31849737,  0.09398895,  0.09083874],\n",
       "       [-1.98290027, -0.7529862 , -1.51898747, -0.84590053,  1.79406505],\n",
       "       [-0.87513476, -1.0803715 ,  0.07349939,  0.93988948, -0.13625811],\n",
       "       [ 1.11884317,  1.27680268, -0.0489996 ,  0.09398895, -1.04464547],\n",
       "       [-0.5428051 , -0.81846326,  0.56349535,  1.03387842, -0.24980653],\n",
       "       [ 1.22961972,  1.34227974, -0.29399757,  0.09398895, -1.61238758],\n",
       "       [-0.87513476, -1.0803715 , -1.51898747, -2.25573474,  1.45341979],\n",
       "       [ 0.01107766, -0.29464677,  1.1759903 ,  1.03387842, -0.47690337]])"
      ]
     },
     "execution_count": 6,
     "metadata": {},
     "output_type": "execute_result"
    }
   ],
   "source": [
    "df2 = StandardScaler().fit_transform(df)     #------> aplica una transformación a la base de datos original\n",
    "df2"
   ]
  },
  {
   "cell_type": "markdown",
   "id": "cc1b675f",
   "metadata": {},
   "source": [
    "# Calcular la matriz de correlaciones para la matriz transformada"
   ]
  },
  {
   "cell_type": "code",
   "execution_count": 7,
   "id": "3e203413",
   "metadata": {},
   "outputs": [
    {
     "data": {
      "text/plain": [
       "array([[ 1.        ,  0.85407878,  0.38457424,  0.20719425, -0.78716269],\n",
       "       [ 0.85407878,  1.        , -0.02005218, -0.02153942, -0.68772056],\n",
       "       [ 0.38457424, -0.02005218,  1.        ,  0.82091619, -0.36554342],\n",
       "       [ 0.20719425, -0.02153942,  0.82091619,  1.        , -0.50800132],\n",
       "       [-0.78716269, -0.68772056, -0.36554342, -0.50800132,  1.        ]])"
      ]
     },
     "execution_count": 7,
     "metadata": {},
     "output_type": "execute_result"
    }
   ],
   "source": [
    "A = (1/renglones) * np.dot(df2.T, df2)\n",
    "A"
   ]
  },
  {
   "cell_type": "code",
   "execution_count": null,
   "id": "40ac4746",
   "metadata": {},
   "outputs": [],
   "source": [
    "--Esto es parte de lo que hace el análisis de componentes principales, identificar donde se encuentran las coincidencias\n",
    "  y a partir de ahí empezar el análisis respectivo."
   ]
  },
  {
   "cell_type": "code",
   "execution_count": null,
   "id": "0e9ea757",
   "metadata": {},
   "outputs": [],
   "source": [
    "--Lo que sigue es el cálculo de lo que se refiere al estudio de pca, de las 5 columnas en la matriz es transformarla en una\n",
    "nueva escala que podamos observar, cambiando la orientación."
   ]
  },
  {
   "cell_type": "markdown",
   "id": "927c6eeb",
   "metadata": {},
   "source": [
    "# Entrenamiento del modelo PCA con escalado de los datos"
   ]
  },
  {
   "cell_type": "code",
   "execution_count": 8,
   "id": "3fd84417",
   "metadata": {},
   "outputs": [
    {
     "name": "stdout",
     "output_type": "stream",
     "text": [
      "Eigenvalores: \n",
      "[2.89324967 1.62865042 0.34659605 0.00889139 0.12261246]\n"
     ]
    }
   ],
   "source": [
    "pca_pipe = make_pipeline(StandardScaler(),PCA())   #---> accion de hacer un pipeline \n",
    "pca_pipe.fit(df)         #--->aplicar componentes principales a la bd original. Hace la estandarización.\n",
    "\n",
    "\n",
    "# Se extrae el modelo entrenado del pipeline\n",
    "modelo_pca = pca_pipe.named_steps['pca']\n",
    "\n",
    "print(\"Eigenvalores: \")\n",
    "results = LA.eigvals(A)                 #------> definir una variable results que aplique el módulo de álgebra lineal a los\n",
    "                                        #------> eigenvalores de la matriz A que se había obtenido\n",
    "print(results)"
   ]
  },
  {
   "cell_type": "code",
   "execution_count": null,
   "id": "085a3137",
   "metadata": {},
   "outputs": [],
   "source": [
    "--Todos estos comandos son propios de la librería que estamos utilizando.\n",
    "--El objetivo principal es calcular lo que son los valores de la matriz transformada que nos van a devolver el porcentaje\n",
    "  de explicación de la varianza que tienen los nuevos 5 componentes que vamos a generar. Y estos componenetes están \n",
    "  expresados a manera de eigenvalores ó los indicadores de explicación de varianza."
   ]
  },
  {
   "cell_type": "code",
   "execution_count": null,
   "id": "4e8ef76a",
   "metadata": {},
   "outputs": [],
   "source": [
    "Eigenvalores: \n",
    "[2.89324967 1.62865042 0.34659605 0.00889139 0.12261246]\n",
    "\n",
    "explicacion:\n",
    "    estos indicadores que son 5, nos indican el peso que tiene cada nueva variable que vamos a generar a partir de la 5 \n",
    "    sobre la lista final de mis variables originales al transformarlas la que tiene mayor peso es la primera y la segunda.\n",
    "    De manera proporcional nosotros podríamos determinar el porcentaje de varianza explicada por cada nuevo componente."
   ]
  },
  {
   "cell_type": "markdown",
   "id": "37a93da6",
   "metadata": {},
   "source": [
    "# Porcentaje de la varianza explicada por cada nuevo componente"
   ]
  },
  {
   "cell_type": "code",
   "execution_count": 9,
   "id": "35015356",
   "metadata": {},
   "outputs": [
    {
     "name": "stdout",
     "output_type": "stream",
     "text": [
      "Porcentaje de varianza explicada por componente\n",
      "[0.57864993 0.32573008 0.06931921 0.02452249 0.00177828]\n"
     ]
    }
   ],
   "source": [
    "print(\"Porcentaje de varianza explicada por componente\")\n",
    "print(modelo_pca.explained_variance_ratio_)"
   ]
  },
  {
   "cell_type": "code",
   "execution_count": null,
   "id": "2624f009",
   "metadata": {},
   "outputs": [],
   "source": [
    "estos resultados los pudimos también haber calculado de la parte superior\n",
    "0.57864993 viene de dividir 2.89324967 entre la suma de 2.89324967 + 1.62865042 y así sucesivamente hasta llegar a \n",
    "0.12261246  "
   ]
  },
  {
   "cell_type": "markdown",
   "id": "8771f37f",
   "metadata": {},
   "source": [
    "# Cálculo de eigenvectores "
   ]
  },
  {
   "cell_type": "code",
   "execution_count": 10,
   "id": "4d323c22",
   "metadata": {},
   "outputs": [
    {
     "name": "stdout",
     "output_type": "stream",
     "text": [
      "Eigenvectores (por renglón): \n"
     ]
    },
    {
     "data": {
      "text/html": [
       "<div>\n",
       "<style scoped>\n",
       "    .dataframe tbody tr th:only-of-type {\n",
       "        vertical-align: middle;\n",
       "    }\n",
       "\n",
       "    .dataframe tbody tr th {\n",
       "        vertical-align: top;\n",
       "    }\n",
       "\n",
       "    .dataframe thead th {\n",
       "        text-align: right;\n",
       "    }\n",
       "</style>\n",
       "<table border=\"1\" class=\"dataframe\">\n",
       "  <thead>\n",
       "    <tr style=\"text-align: right;\">\n",
       "      <th></th>\n",
       "      <th>Matematicas</th>\n",
       "      <th>Ciencias</th>\n",
       "      <th>Español</th>\n",
       "      <th>Historia</th>\n",
       "      <th>EdFisica</th>\n",
       "    </tr>\n",
       "  </thead>\n",
       "  <tbody>\n",
       "    <tr>\n",
       "      <th>PC1</th>\n",
       "      <td>-0.526644</td>\n",
       "      <td>-0.424936</td>\n",
       "      <td>-0.359147</td>\n",
       "      <td>-0.352697</td>\n",
       "      <td>0.537302</td>\n",
       "    </tr>\n",
       "    <tr>\n",
       "      <th>PC2</th>\n",
       "      <td>-0.270496</td>\n",
       "      <td>-0.508072</td>\n",
       "      <td>0.562082</td>\n",
       "      <td>0.586490</td>\n",
       "      <td>0.093746</td>\n",
       "    </tr>\n",
       "    <tr>\n",
       "      <th>PC3</th>\n",
       "      <td>0.438201</td>\n",
       "      <td>0.040495</td>\n",
       "      <td>0.562276</td>\n",
       "      <td>-0.394180</td>\n",
       "      <td>0.578626</td>\n",
       "    </tr>\n",
       "    <tr>\n",
       "      <th>PC4</th>\n",
       "      <td>-0.261218</td>\n",
       "      <td>0.673627</td>\n",
       "      <td>-0.070086</td>\n",
       "      <td>0.446645</td>\n",
       "      <td>0.523056</td>\n",
       "    </tr>\n",
       "    <tr>\n",
       "      <th>PC5</th>\n",
       "      <td>-0.623878</td>\n",
       "      <td>0.325390</td>\n",
       "      <td>0.483747</td>\n",
       "      <td>-0.420433</td>\n",
       "      <td>-0.306794</td>\n",
       "    </tr>\n",
       "  </tbody>\n",
       "</table>\n",
       "</div>"
      ],
      "text/plain": [
       "     Matematicas  Ciencias   Español  Historia  EdFisica\n",
       "PC1    -0.526644 -0.424936 -0.359147 -0.352697  0.537302\n",
       "PC2    -0.270496 -0.508072  0.562082  0.586490  0.093746\n",
       "PC3     0.438201  0.040495  0.562276 -0.394180  0.578626\n",
       "PC4    -0.261218  0.673627 -0.070086  0.446645  0.523056\n",
       "PC5    -0.623878  0.325390  0.483747 -0.420433 -0.306794"
      ]
     },
     "execution_count": 10,
     "metadata": {},
     "output_type": "execute_result"
    }
   ],
   "source": [
    "print(\"Eigenvectores (por renglón): \")\n",
    "pd.DataFrame(data = modelo_pca.components_,\n",
    "          columns = df.columns, \n",
    "            index = ['PC1','PC2', 'PC3', 'PC4', 'PC5'])"
   ]
  },
  {
   "cell_type": "markdown",
   "id": "680f8ed2",
   "metadata": {},
   "source": [
    "# Proyecciones de los componentes."
   ]
  },
  {
   "cell_type": "code",
   "execution_count": 11,
   "id": "ce07c665",
   "metadata": {},
   "outputs": [
    {
     "data": {
      "text/html": [
       "<div>\n",
       "<style scoped>\n",
       "    .dataframe tbody tr th:only-of-type {\n",
       "        vertical-align: middle;\n",
       "    }\n",
       "\n",
       "    .dataframe tbody tr th {\n",
       "        vertical-align: top;\n",
       "    }\n",
       "\n",
       "    .dataframe thead th {\n",
       "        text-align: right;\n",
       "    }\n",
       "</style>\n",
       "<table border=\"1\" class=\"dataframe\">\n",
       "  <thead>\n",
       "    <tr style=\"text-align: right;\">\n",
       "      <th></th>\n",
       "      <th>PC1</th>\n",
       "      <th>PC2</th>\n",
       "      <th>PC3</th>\n",
       "      <th>PC4</th>\n",
       "      <th>PC5</th>\n",
       "    </tr>\n",
       "  </thead>\n",
       "  <tbody>\n",
       "    <tr>\n",
       "      <th>Lucia</th>\n",
       "      <td>-0.323063</td>\n",
       "      <td>1.772525</td>\n",
       "      <td>1.198801</td>\n",
       "      <td>-0.055015</td>\n",
       "      <td>-0.003633</td>\n",
       "    </tr>\n",
       "    <tr>\n",
       "      <th>Pedro</th>\n",
       "      <td>-0.665441</td>\n",
       "      <td>-1.638702</td>\n",
       "      <td>0.145476</td>\n",
       "      <td>-0.023065</td>\n",
       "      <td>0.123377</td>\n",
       "    </tr>\n",
       "    <tr>\n",
       "      <th>Ines</th>\n",
       "      <td>-1.002547</td>\n",
       "      <td>-0.515692</td>\n",
       "      <td>0.628888</td>\n",
       "      <td>0.516444</td>\n",
       "      <td>-0.142876</td>\n",
       "    </tr>\n",
       "    <tr>\n",
       "      <th>Luis</th>\n",
       "      <td>3.172095</td>\n",
       "      <td>-0.262782</td>\n",
       "      <td>-0.381960</td>\n",
       "      <td>0.677777</td>\n",
       "      <td>0.062504</td>\n",
       "    </tr>\n",
       "    <tr>\n",
       "      <th>Andres</th>\n",
       "      <td>0.488868</td>\n",
       "      <td>1.365402</td>\n",
       "      <td>-0.835236</td>\n",
       "      <td>-0.155792</td>\n",
       "      <td>-0.123367</td>\n",
       "    </tr>\n",
       "    <tr>\n",
       "      <th>Ana</th>\n",
       "      <td>-1.708633</td>\n",
       "      <td>-1.021700</td>\n",
       "      <td>-0.127077</td>\n",
       "      <td>0.066833</td>\n",
       "      <td>-0.025292</td>\n",
       "    </tr>\n",
       "    <tr>\n",
       "      <th>Carlos</th>\n",
       "      <td>-0.067586</td>\n",
       "      <td>1.462336</td>\n",
       "      <td>-0.506240</td>\n",
       "      <td>-0.117928</td>\n",
       "      <td>-0.013124</td>\n",
       "    </tr>\n",
       "    <tr>\n",
       "      <th>Jose</th>\n",
       "      <td>-2.011855</td>\n",
       "      <td>-1.275865</td>\n",
       "      <td>-0.542150</td>\n",
       "      <td>-0.197787</td>\n",
       "      <td>-0.017434</td>\n",
       "    </tr>\n",
       "    <tr>\n",
       "      <th>Sonia</th>\n",
       "      <td>3.042030</td>\n",
       "      <td>-1.254881</td>\n",
       "      <td>0.448829</td>\n",
       "      <td>-0.639999</td>\n",
       "      <td>-0.037885</td>\n",
       "    </tr>\n",
       "    <tr>\n",
       "      <th>Maria</th>\n",
       "      <td>-0.923869</td>\n",
       "      <td>1.369359</td>\n",
       "      <td>-0.029330</td>\n",
       "      <td>-0.071467</td>\n",
       "      <td>0.177730</td>\n",
       "    </tr>\n",
       "  </tbody>\n",
       "</table>\n",
       "</div>"
      ],
      "text/plain": [
       "             PC1       PC2       PC3       PC4       PC5\n",
       "Lucia  -0.323063  1.772525  1.198801 -0.055015 -0.003633\n",
       "Pedro  -0.665441 -1.638702  0.145476 -0.023065  0.123377\n",
       "Ines   -1.002547 -0.515692  0.628888  0.516444 -0.142876\n",
       "Luis    3.172095 -0.262782 -0.381960  0.677777  0.062504\n",
       "Andres  0.488868  1.365402 -0.835236 -0.155792 -0.123367\n",
       "Ana    -1.708633 -1.021700 -0.127077  0.066833 -0.025292\n",
       "Carlos -0.067586  1.462336 -0.506240 -0.117928 -0.013124\n",
       "Jose   -2.011855 -1.275865 -0.542150 -0.197787 -0.017434\n",
       "Sonia   3.042030 -1.254881  0.448829 -0.639999 -0.037885\n",
       "Maria  -0.923869  1.369359 -0.029330 -0.071467  0.177730"
      ]
     },
     "execution_count": 11,
     "metadata": {},
     "output_type": "execute_result"
    }
   ],
   "source": [
    "proyecciones = np.dot(modelo_pca.components_, df2.T)\n",
    "proyecciones = pd.DataFrame(proyecciones, index = ['PC1','PC2', 'PC3', 'PC4', 'PC5'])\n",
    "proyecciones = proyecciones.transpose().set_index(df.index)\n",
    "proyecciones"
   ]
  },
  {
   "cell_type": "code",
   "execution_count": null,
   "id": "edba7e35",
   "metadata": {},
   "outputs": [],
   "source": [
    "lo que acabamos de hacer es representar a nuestra base original en un nuevo espacio de 5 variables, donde las relaciones\n",
    "que tenían entre ellas siguen siendo las mismas, lógicamente de manera proporcional y de acuerdo a una matriz de \n",
    "correlación. Es como si estuviéramos volteando la vista en las observaciones desde una perspectiva diferente \n",
    "matemáticamente hablando. Vamos a ver esto en una gráfica si lo manifestamos en un diagrama de dispersión. Vamos a hacer la\n",
    "gráfica y vamos a ver si las observaciones se agrupan de alguna manera en concreto al momento de tener una perspectiva como \n",
    "aparecerán agrupadas, si existe algún tipo de manera de colocarlas. Y vamos a ver lo que conoce como el mapa de las \n",
    "observaciones, de forma tal que veamos elementos que tienen cosas en común. Se busca que se agrupen las observaciones por \n",
    "correlaciones que éstas puedan llegar a tener."
   ]
  },
  {
   "cell_type": "code",
   "execution_count": 12,
   "id": "3f8a65fe",
   "metadata": {},
   "outputs": [
    {
     "data": {
      "text/plain": [
       "<matplotlib.collections.PathCollection at 0x19d19ee87d0>"
      ]
     },
     "execution_count": 12,
     "metadata": {},
     "output_type": "execute_result"
    },
    {
     "data": {
      "image/png": "[encoded data removed]",
      "text/plain": [
       "<Figure size 640x480 with 1 Axes>"
      ]
     },
     "metadata": {},
     "output_type": "display_data"
    }
   ],
   "source": [
    "x = proyecciones.iloc[:,0]   #------> todas las observaciones sobre la columna cero\n",
    "y = proyecciones.iloc[:,1]   #------> todas las observaciones sobre la columna uno \n",
    "z = df.index                 #------> lista de todos los nombres que tenemos en nuestra base de datos \n",
    "                             #--->(index se asocia a los nombres de cada renglon)\n",
    "#---> para poder graficar vamos a convertir en un arreglo.\n",
    "\n",
    "x = x.to_numpy()\n",
    "y = y.to_numpy()\n",
    "\n",
    "#---> Definir nuestra subgráfica\n",
    "\n",
    "fig, ax = plt.subplots()    #--->definir 2 elementos, un elemento de figura y un elemento de eje que se va a usar para\n",
    "                            #--->crear subgráficas con el comando plt.subplots()\n",
    "ax.set_title(\"Mapa de observaciones\")    #---> título de la gráfica\n",
    "ax.scatter(x,y)                          #--->Realizamos la gráfica"
   ]
  },
  {
   "cell_type": "markdown",
   "id": "e5aac1eb",
   "metadata": {},
   "source": [
    "# Asociar los nombres a la gráfica (primera y segunda columna)."
   ]
  },
  {
   "cell_type": "code",
   "execution_count": 13,
   "id": "5a4636a1",
   "metadata": {},
   "outputs": [
    {
     "data": {
      "image/png": "[encoded data removed]",
      "text/plain": [
       "<Figure size 640x480 with 1 Axes>"
      ]
     },
     "metadata": {},
     "output_type": "display_data"
    }
   ],
   "source": [
    "x = proyecciones.iloc[:,0]   #------> todas las observaciones sobre la columna cero\n",
    "y = proyecciones.iloc[:,1]   #------> todas las observaciones sobre la columna uno \n",
    "z = df.index                 #------> lista de todos los nombres que tenemos en nuestra base de datos \n",
    "                             #--->(index se asocia a los nombres de cada renglon)\n",
    "#---> para poder graficar vamos a convertir en un arreglo.\n",
    "\n",
    "x = x.to_numpy()\n",
    "y = y.to_numpy()\n",
    "\n",
    "#---> Definir nuestra subgráfica\n",
    "\n",
    "fig, ax = plt.subplots()    #--->definir 2 elementos, un elemento de figura y un elemento de eje que se va a usar para\n",
    "                            #--->crear subgráficas con el comando plt.subplots()\n",
    "ax.set_title(\"Mapa de observaciones\")    #---> título de la gráfica\n",
    "ax.scatter(x,y)  \n",
    "\n",
    "for i, txt in enumerate(z):\n",
    "    ax.annotate(txt, (x[i], y[i]))\n",
    "    \n",
    "#--> para todo i (donde i se mueve de 1 a 10), colocar el texto que corresponda a la lista que aparezca en z  y la vas a\n",
    "#--> colocar en cada punto x y y sobre la gráfica que ya habíamos generado.\n",
    "    "
   ]
  },
  {
   "cell_type": "code",
   "execution_count": 14,
   "id": "d415c3c0",
   "metadata": {},
   "outputs": [
    {
     "data": {
      "text/html": [
       "<div>\n",
       "<style scoped>\n",
       "    .dataframe tbody tr th:only-of-type {\n",
       "        vertical-align: middle;\n",
       "    }\n",
       "\n",
       "    .dataframe tbody tr th {\n",
       "        vertical-align: top;\n",
       "    }\n",
       "\n",
       "    .dataframe thead th {\n",
       "        text-align: right;\n",
       "    }\n",
       "</style>\n",
       "<table border=\"1\" class=\"dataframe\">\n",
       "  <thead>\n",
       "    <tr style=\"text-align: right;\">\n",
       "      <th></th>\n",
       "      <th>Matematicas</th>\n",
       "      <th>Ciencias</th>\n",
       "      <th>Español</th>\n",
       "      <th>Historia</th>\n",
       "      <th>EdFisica</th>\n",
       "    </tr>\n",
       "  </thead>\n",
       "  <tbody>\n",
       "    <tr>\n",
       "      <th>PC1</th>\n",
       "      <td>-0.526644</td>\n",
       "      <td>-0.424936</td>\n",
       "      <td>-0.359147</td>\n",
       "      <td>-0.352697</td>\n",
       "      <td>0.537302</td>\n",
       "    </tr>\n",
       "    <tr>\n",
       "      <th>PC2</th>\n",
       "      <td>-0.270496</td>\n",
       "      <td>-0.508072</td>\n",
       "      <td>0.562082</td>\n",
       "      <td>0.586490</td>\n",
       "      <td>0.093746</td>\n",
       "    </tr>\n",
       "  </tbody>\n",
       "</table>\n",
       "</div>"
      ],
      "text/plain": [
       "     Matematicas  Ciencias   Español  Historia  EdFisica\n",
       "PC1    -0.526644 -0.424936 -0.359147 -0.352697  0.537302\n",
       "PC2    -0.270496 -0.508072  0.562082  0.586490  0.093746"
      ]
     },
     "execution_count": 14,
     "metadata": {},
     "output_type": "execute_result"
    }
   ],
   "source": [
    "componentes_2 = pd.DataFrame(data = modelo_pca.components_,\n",
    "                             columns = df.columns,\n",
    "                             index = ['PC1','PC2', 'PC3', 'PC4', 'PC5'])\n",
    "componentes_2 = componentes_2.iloc[0:2, :]   #--->del 0 al 2 (sin tomar en cuenta el 2) y para todas las columnas.\n",
    "componentes_2"
   ]
  },
  {
   "cell_type": "code",
   "execution_count": 16,
   "id": "2938ca37",
   "metadata": {},
   "outputs": [
    {
     "data": {
      "text/html": [
       "<div>\n",
       "<style scoped>\n",
       "    .dataframe tbody tr th:only-of-type {\n",
       "        vertical-align: middle;\n",
       "    }\n",
       "\n",
       "    .dataframe tbody tr th {\n",
       "        vertical-align: top;\n",
       "    }\n",
       "\n",
       "    .dataframe thead th {\n",
       "        text-align: right;\n",
       "    }\n",
       "</style>\n",
       "<table border=\"1\" class=\"dataframe\">\n",
       "  <thead>\n",
       "    <tr style=\"text-align: right;\">\n",
       "      <th></th>\n",
       "      <th>PC1</th>\n",
       "      <th>PC2</th>\n",
       "    </tr>\n",
       "  </thead>\n",
       "  <tbody>\n",
       "    <tr>\n",
       "      <th>Matematicas</th>\n",
       "      <td>-0.526644</td>\n",
       "      <td>-0.270496</td>\n",
       "    </tr>\n",
       "    <tr>\n",
       "      <th>Ciencias</th>\n",
       "      <td>-0.424936</td>\n",
       "      <td>-0.508072</td>\n",
       "    </tr>\n",
       "    <tr>\n",
       "      <th>Español</th>\n",
       "      <td>-0.359147</td>\n",
       "      <td>0.562082</td>\n",
       "    </tr>\n",
       "    <tr>\n",
       "      <th>Historia</th>\n",
       "      <td>-0.352697</td>\n",
       "      <td>0.586490</td>\n",
       "    </tr>\n",
       "    <tr>\n",
       "      <th>EdFisica</th>\n",
       "      <td>0.537302</td>\n",
       "      <td>0.093746</td>\n",
       "    </tr>\n",
       "  </tbody>\n",
       "</table>\n",
       "</div>"
      ],
      "text/plain": [
       "                  PC1       PC2\n",
       "Matematicas -0.526644 -0.270496\n",
       "Ciencias    -0.424936 -0.508072\n",
       "Español     -0.359147  0.562082\n",
       "Historia    -0.352697  0.586490\n",
       "EdFisica     0.537302  0.093746"
      ]
     },
     "execution_count": 16,
     "metadata": {},
     "output_type": "execute_result"
    }
   ],
   "source": [
    "componentes_2 = pd.DataFrame(data = modelo_pca.components_,\n",
    "                          columns = df.columns,\n",
    "                            index = ['PC1','PC2', 'PC3', 'PC4', 'PC5'])\n",
    "componentes_2 = componentes_2.iloc[0:2, :]\n",
    "componentes_2 = componentes_2.T\n",
    "componentes_2"
   ]
  },
  {
   "cell_type": "code",
   "execution_count": 17,
   "id": "d926d265",
   "metadata": {},
   "outputs": [
    {
     "data": {
      "image/png": "[encoded data removed]",
      "text/plain": [
       "<Figure size 640x480 with 1 Axes>"
      ]
     },
     "metadata": {},
     "output_type": "display_data"
    }
   ],
   "source": [
    "x = componentes_2.iloc[:,0]   \n",
    "y = componentes_2.iloc[:,1]   \n",
    "z = componentes_2.index                 \n",
    "                             \n",
    "\n",
    "x = x.to_numpy()\n",
    "y = y.to_numpy()\n",
    "\n",
    "\n",
    "fig, ax = plt.subplots()    \n",
    "                            \n",
    "ax.set_title(\"Mapa de Factores\")    \n",
    "ax.scatter(x,y)  \n",
    "\n",
    "for i, txt in enumerate(z):\n",
    "    ax.annotate(txt, (x[i], y[i]))"
   ]
  },
  {
   "cell_type": "markdown",
   "id": "3cd2ca92",
   "metadata": {},
   "source": [
    "# Procedimiento para obtener la matriz estandarizada original a partir de los \n",
    "eigenvalores y los valores proyectados de las observaciones."
   ]
  },
  {
   "cell_type": "code",
   "execution_count": 18,
   "id": "59a56630",
   "metadata": {},
   "outputs": [
    {
     "name": "stdout",
     "output_type": "stream",
     "text": [
      "[[ 0.23263076 -0.7529862   1.78848525  0.65792263  0.65858084]\n",
      " [ 0.78651352  1.14584856 -0.53899555 -0.84590053 -0.47690337]\n",
      " [ 0.89729007  1.01489444  0.31849737  0.09398895  0.09083874]\n",
      " [-1.98290027 -0.7529862  -1.51898747 -0.84590053  1.79406505]\n",
      " [-0.87513476 -1.0803715   0.07349939  0.93988948 -0.13625811]\n",
      " [ 1.11884317  1.27680268 -0.0489996   0.09398895 -1.04464547]\n",
      " [-0.5428051  -0.81846326  0.56349535  1.03387842 -0.24980653]\n",
      " [ 1.22961972  1.34227974 -0.29399757  0.09398895 -1.61238758]\n",
      " [-0.87513476 -1.0803715  -1.51898747 -2.25573474  1.45341979]\n",
      " [ 0.01107766 -0.29464677  1.1759903   1.03387842 -0.47690337]]\n"
     ]
    }
   ],
   "source": [
    "original = np.dot(modelo_pca.components_.T, proyecciones.T)\n",
    "original = original.T\n",
    "print(original)"
   ]
  }
 ],
 "metadata": {
  "kernelspec": {
   "display_name": "Python 3 (ipykernel)",
   "language": "python",
   "name": "python3"
  },
  "language_info": {
   "codemirror_mode": {
    "name": "ipython",
    "version": 3
   },
   "file_extension": ".py",
   "mimetype": "text/x-python",
   "name": "python",
   "nbconvert_exporter": "python",
   "pygments_lexer": "ipython3",
   "version": "3.11.3"
  }
 },
 "nbformat": 4,
 "nbformat_minor": 5
}
