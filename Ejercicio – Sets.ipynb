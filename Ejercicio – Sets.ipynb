{
 "cells": [
  {
   "cell_type": "code",
   "execution_count": 1,
   "id": "dc133df4",
   "metadata": {},
   "outputs": [
    {
     "name": "stdout",
     "output_type": "stream",
     "text": [
      "{'7DAD', '3AAA', '6AAD', '8AAA', '7ACC', '3ADA', '5DBB', '3CBB', '5AAB', '7BAD', '7DDA', '9BCA', '5BAA', '5CDA', '6DDA', '9CAD', '9DCA', '9DDB', '8BAB', '5ABD', '4ADD', '8ADB', '9DCD', '5CAC', '9CBC', '3DAD', '7DBB', '6DBB', '9DBC', '4CDD', '1ABA', '2BAB', '8BAD', '2DCB', '4BCB', '1BAA', '5BDD', '3BDD', '6CAC', '4BBA', '5CCB', '6DDB', '8ACC', '9DCB', '3DBA', '6ABB', '8CCA', '8ABB', '1BDB', '6DDD', '8BCC', '3CAA', '4DAD', '7BBD', '4CAB', '3CBA', '0CAD', '7CDC', '0CDA', '2BBC', '4CDB', '6BCD', '4CDA', '0ADA', '4DAC', '0BAD', '6DCA', '1DAB', '9CDA', '1DBD', '2ACD', '2BDC', '0ABD', '0ADD', '6ADB', '9BDC', '0ABC', '1ACB', '8CAD', '3DCD', '3DDD', '5ADB', '4CBC', '0BAA', '3BDA', '5CAA', '8BDC', '1BCB', '4ADA', '2CCB', '7CBD', '1BBD', '8DCB', '6BAA', '6BAB', '1BAD', '2DAA', '3BDB', '4BCA', '1CCC', '5CCC', '8BCA', '9BDB', '3DCA', '7CDD', '3CAD', '4CBA', '9DDD', '7DDD', '9CCB', '1CDD', '9ABD', '1DDA', '1CBC', '4CAC', '5DBD', '3BAD', '3CBD', '6DBA', '5BAC', '4BDB', '6ADC', '4CAD', '8CBC', '3BBD', '2DBA', '3BCD', '8ADC', '2BAD', '5ADD', '6ACB', '2BBA', '2ACB', '3ACC', '4ABA', '3BDC', '7DCA', '4BAA', '7AAD', '5BBD', '9DDA', '2CDC', '6CAB', '9BBC', '3BCB', '7ACA', '7CAA', '1CBB', '7DAC', '3BBC', '1CAA', '7DAB', '5ACD', '0BCD', '7BCC', '7CDA', '8AAC', '5DAA', '6CDD', '8ACB', '2ABC', '6DCD', '2DCC', '8BBB', '4CCD', '4ACA', '0BDB', '0AAB', '8DDC', '4DAA', '9DAD', '5BBA', '0BDC', '2DBC', '7ADC', '9CAB', '1CAB', '4DCB', '0AAD', '0CDB', '6CCD', '6ABA', '8AAB', '2DAC', '7CCB', '5CBC', '5AAC', '9ABC', '4DBB', '6CBD', '9BCC', '4DCA', '5DDC', '3CCC', '5BDC', '0DCB', '1DCD', '8BDA', '0DAB', '2DAD', '5AAA', '3ACA', '5ABC', '8ACA', '4DBA', '1DCB', '2DAB', '5CAB', '6CCA', '3ADC', '7CAC', '1DAA', '5CDB', '3ABB', '7CBB', '5CCD', '0BDA', '6ACD', '2CCC', '2CDB', '4CBD', '7CAB', '4AAD', '2DCD', '2BBD', '6BAC', '5DBC', '3DCC', '1CAC', '4ABD', '8DCD', '0DDC', '0ACD', '5BAB', '9CDD', '1CBA', '9DDC', '9BBD', '8BDD', '3DAB', '5DBA', '8BAA', '1DCA', '9BBA', '6CBC', '3DDA', '1DBB', '2AAC', '4ABB', '7BCD', '5AAD', '6BCB', '9AAD', '0CBC', '9AAC', '0CBB', '9DAC', '2CAA', '7CCC', '0AAC', '3CCA', '2CAB', '3BAB', '2ADA', '1AAC', '1CCB', '8CAB', '9DAB', '4AAC', '7BAB', '8DDD', '0ADC', '7BDC', '9ADD', '5CBA', '3ACB', '6ABC', '9ADC', '9ABA', '0CBD', '7DBC', '0DCD', '6CBB', '8CDC', '0CAC', '5DAB', '1CCA', '5BCB', '9ACD', '6AAA', '5BCC', '3AAB', '1CDA', '3DBB', '1DAC', '7ACB', '0DDA', '8CCB', '9CBD', '3CCD', '8CDB', '0BCC', '1BCC', '9ACC', '1ADC', '5CBB', '6AAB', '0CCA', '9ADB', '9CCA', '0BCA', '6DCB', '1DBA', '7DBA', '1CCD', '8DDA', '8DAA', '7DBD', '5CCA', '7CBA', '2BDB', '4DAB', '2AAD', '2BCD', '4ADB', '8CCC', '3DBC', '0ABB', '1BBB', '0AAA', '2CBD', '0DBD', '0CDD', '1DBC', '8BBC', '1ADA', '3BCA', '6BDC', '4DBD', '2AAB', '4BBB', '8CAA', '9CAA', '1DDC', '6BBD', '7DCC', '2BAA', '2ADD', '9BDA', '4CDC', '6CBA', '1CAD', '3ABD', '8ADD', '9AAB', '9DBB', '9CDB', '0CCC', '1BBC', '3AAD', '5DAD', '9BAD', '6BDB', '9ABB', '1ACC', '3DAA', '0BCB', '9ACB', '9CBB', '2ABD', '6DBD', '9CAC', '4BDD', '2ACC', '3BBB', '9AAA', '7BBA', '6CCB', '8ACD', '8CBA', '7CCA', '4BBC', '0ADB', '1BAC', '9DAA', '0DAD', '9BAC', '7CAD', '2BCC', '0CDC', '8DAD', '2CDD', '7CBC', '3DCB', '4ADC', '4BCD', '5ABB', '5CAD', '7ABC', '4CCA', '7DDC', '2BDD', '2BDA', '6BCA', '1ABC', '7CDB', '5BCD', '5ADA', '3BAC', '0DCC', '3CDA', '6CCC', '3ABC', '9DCC', '0DBC', '4CAA', '0CBA', '7BAC', '8DDB', '4BAC', '5CDD', '7BCB', '2CBB', '2DBB', '2CAD', '5BDA', '5BBB', '0BBB', '3ABA', '7ACD', '6CAA', '0CCB', '3BCC', '0DAC', '2BCB', '6DBC', '2DDC', '8CBB', '2DCA', '4ACC', '6CAD', '7AAA', '4BDC', '2DDB', '2ABB', '8DBD', '8ABD', '6DDC', '1CDB', '6DAA', '7ABB', '0CAB', '7ADD', '5ACA', '4DBC', '5ADC', '8ABA', '2DBD', '8CCD', '9CDC', '1ABB', '2CAC', '2AAA', '3CAB', '8BCB', '1ADB', '7DDB', '3ADD', '6CDB', '9CCC', '8DBA', '6ACC', '5ACC', '8CDA', '1DCC', '2BAC', '0BBC', '4DCC', '1CDC', '8DBB', '3CDD', '1DAD', '6CDC', '1BAB', '8CAC', '6DAD', '1BDD', '8DBC', '4DDC', '7BCA', '2CBA', '3DAC', '4BAB', '6DCC', '7BAA', '6BDD', '4AAA', '7BBB', '4BAD', '8AAD', '3DDB', '3AAC', '9ADA', '3CDC', '5CBD', '2CCA', '9BAA', '0DAA', '9CCD', '0BDD', '1ACD', '4DCD', '2DDA', '6DAC', '9DBD', '6BAD', '8BDB', '0CCD', '7ABD', '0DBB', '4BCC', '7DCD', '9BCB', '6ACA', '8BCD', '8DCC', '0ACA', '5CDC', '6BBC', '3CAC', '7ADA', '3CDB', '5ACB', '4DDD', '8CBD', '6ADD', '3BBA', '0DDD', '5DDB', '8BBA', '2ACA', '9BDD', '6BBB', '1BDA', '5DAC', '1ABD', '9CBA', '8ADA', '0BBA', '3ACD', '1BDC', '2ADB', '5DCB', '7AAC', '8DAB', '8DAC', '0DCA', '6BCC', '1ACA', '6BDA', '1AAA', '2CDA', '4ACD', '4BDA', '4CBB', '5DDA', '7DAA', '9DBA', '0ACC', '9ACA', '8DCA', '9BAB', '7BBC', '4CCC', '4ACB', '0DDB', '2CBC', '4ABC', '1DDD', '0DBA', '1BCD', '4DDA', '5BCA', '1AAD', '5DCA', '5BDB', '2BCA', '5BBC', '1ADD', '7BDD', '5DCC', '3CBC', '4CCB', '2ADC', '3CCB', '5DDD', '2BBB', '6BBA', '7BDB', '8BAC', '0BAB', '0BAC', '4DDB', '3BAA', '6CDA', '9BCD', '6AAC', '7DCB', '2DDD', '8BBD', '1DDB', '1AAB', '3DBD', '3DDC', '5BAD', '8ABC', '8CDD', '6ABD', '5DCD', '2ABA', '0BBD', '7ABA', '1BCA', '6DAB', '2CCD', '7AAB', '7BDA', '9BBB', '7CCD', '0CAA', '0ACB', '3ADB', '1CBD', '4AAB', '0ABA', '1BBA', '5ABA', '6ADA', '7ADB', '4BBD'}\n"
     ]
    }
   ],
   "source": [
    "numbers = ['0', '1', '2', '3', '4', '5', '6', '7', '8', '9']\n",
    "letters = ['A', 'B', 'C', 'D']  # Agregamos 'D' a la lista de letras\n",
    "\n",
    "unique_combinations = set()\n",
    "for number in numbers:\n",
    "    for letter1 in letters:  # Primera letra\n",
    "        for letter2 in letters:  # Segunda letra\n",
    "            for letter3 in letters:  # Tercera letra\n",
    "                for letter4 in letters:  # Cuarta letra\n",
    "                    # Generar la combinación y agregarla al conjunto\n",
    "                    unique_combinations.add(\"{}{}{}{}\".format(number, letter1, letter2, letter3, letter4))\n",
    "\n",
    "print(unique_combinations)"
   ]
  }
 ],
 "metadata": {
  "kernelspec": {
   "display_name": "Python 3 (ipykernel)",
   "language": "python",
   "name": "python3"
  },
  "language_info": {
   "codemirror_mode": {
    "name": "ipython",
    "version": 3
   },
   "file_extension": ".py",
   "mimetype": "text/x-python",
   "name": "python",
   "nbconvert_exporter": "python",
   "pygments_lexer": "ipython3",
   "version": "3.11.3"
  }
 },
 "nbformat": 4,
 "nbformat_minor": 5
}
