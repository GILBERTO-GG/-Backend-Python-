{
 "cells": [
  {
   "cell_type": "code",
   "execution_count": 1,
   "id": "1888423d",
   "metadata": {},
   "outputs": [],
   "source": [
    "a = -5\n",
    "b = 4"
   ]
  },
  {
   "cell_type": "code",
   "execution_count": 3,
   "id": "9b0e9dbc",
   "metadata": {},
   "outputs": [
    {
     "data": {
      "text/plain": [
       "True"
      ]
     },
     "execution_count": 3,
     "metadata": {},
     "output_type": "execute_result"
    }
   ],
   "source": [
    "a < 0"
   ]
  },
  {
   "cell_type": "code",
   "execution_count": 4,
   "id": "5f73b653",
   "metadata": {},
   "outputs": [
    {
     "data": {
      "text/plain": [
       "False"
      ]
     },
     "execution_count": 4,
     "metadata": {},
     "output_type": "execute_result"
    }
   ],
   "source": [
    "a >= 0"
   ]
  },
  {
   "cell_type": "code",
   "execution_count": 5,
   "id": "e0d64117",
   "metadata": {},
   "outputs": [
    {
     "data": {
      "text/plain": [
       "True"
      ]
     },
     "execution_count": 5,
     "metadata": {},
     "output_type": "execute_result"
    }
   ],
   "source": [
    "a == -5"
   ]
  },
  {
   "cell_type": "code",
   "execution_count": 6,
   "id": "8d24d84e",
   "metadata": {},
   "outputs": [
    {
     "data": {
      "text/plain": [
       "False"
      ]
     },
     "execution_count": 6,
     "metadata": {},
     "output_type": "execute_result"
    }
   ],
   "source": [
    "a != -5"
   ]
  },
  {
   "cell_type": "markdown",
   "id": "242cabf3",
   "metadata": {},
   "source": [
    "# Manejo de CONJUNCIONES(AND)"
   ]
  },
  {
   "cell_type": "code",
   "execution_count": 7,
   "id": "e0faaa5d",
   "metadata": {},
   "outputs": [],
   "source": [
    "a = -5\n",
    "b = 4"
   ]
  },
  {
   "cell_type": "code",
   "execution_count": 8,
   "id": "6d72155f",
   "metadata": {},
   "outputs": [
    {
     "data": {
      "text/plain": [
       "True"
      ]
     },
     "execution_count": 8,
     "metadata": {},
     "output_type": "execute_result"
    }
   ],
   "source": [
    "a < 0 and b > 0 "
   ]
  },
  {
   "cell_type": "code",
   "execution_count": 9,
   "id": "c9dfa3d6",
   "metadata": {},
   "outputs": [
    {
     "data": {
      "text/plain": [
       "False"
      ]
     },
     "execution_count": 9,
     "metadata": {},
     "output_type": "execute_result"
    }
   ],
   "source": [
    "a > 0 and b > 0"
   ]
  },
  {
   "cell_type": "markdown",
   "id": "08506d65",
   "metadata": {},
   "source": [
    "# Manejo de Disyunciones (OR)"
   ]
  },
  {
   "cell_type": "code",
   "execution_count": 10,
   "id": "310df6ea",
   "metadata": {},
   "outputs": [],
   "source": [
    "a = -5\n",
    "b = 4"
   ]
  },
  {
   "cell_type": "code",
   "execution_count": 11,
   "id": "e54416a3",
   "metadata": {},
   "outputs": [
    {
     "data": {
      "text/plain": [
       "True"
      ]
     },
     "execution_count": 11,
     "metadata": {},
     "output_type": "execute_result"
    }
   ],
   "source": [
    "a < 0 or b > 0 "
   ]
  },
  {
   "cell_type": "code",
   "execution_count": 14,
   "id": "0029d562",
   "metadata": {},
   "outputs": [
    {
     "data": {
      "text/plain": [
       "True"
      ]
     },
     "execution_count": 14,
     "metadata": {},
     "output_type": "execute_result"
    }
   ],
   "source": [
    "a > 0 or b > 0 "
   ]
  },
  {
   "cell_type": "markdown",
   "id": "d5c2ab5d",
   "metadata": {},
   "source": [
    "# El operador de negación NOT"
   ]
  },
  {
   "cell_type": "code",
   "execution_count": null,
   "id": "0ea45898",
   "metadata": {},
   "outputs": [],
   "source": [
    "a = -5\n",
    "b = 4"
   ]
  },
  {
   "cell_type": "code",
   "execution_count": 15,
   "id": "fdeb0be4",
   "metadata": {},
   "outputs": [
    {
     "data": {
      "text/plain": [
       "True"
      ]
     },
     "execution_count": 15,
     "metadata": {},
     "output_type": "execute_result"
    }
   ],
   "source": [
    "not a > 0"
   ]
  },
  {
   "cell_type": "markdown",
   "id": "72f3a0a7",
   "metadata": {},
   "source": [
    "# El operador de disyunción opuesta NOR (NOT OR)"
   ]
  },
  {
   "cell_type": "code",
   "execution_count": 16,
   "id": "944e8a48",
   "metadata": {},
   "outputs": [
    {
     "data": {
      "text/plain": [
       "False"
      ]
     },
     "execution_count": 16,
     "metadata": {},
     "output_type": "execute_result"
    }
   ],
   "source": [
    "not (a < 0 or b > 0)"
   ]
  },
  {
   "cell_type": "code",
   "execution_count": 17,
   "id": "ac35f977",
   "metadata": {},
   "outputs": [
    {
     "data": {
      "text/plain": [
       "True"
      ]
     },
     "execution_count": 17,
     "metadata": {},
     "output_type": "execute_result"
    }
   ],
   "source": [
    "not (a > 0 or b < 0) "
   ]
  },
  {
   "cell_type": "markdown",
   "id": "9f11f895",
   "metadata": {},
   "source": [
    "# Casos especiales"
   ]
  },
  {
   "cell_type": "code",
   "execution_count": null,
   "id": "bac1acfa",
   "metadata": {},
   "outputs": [],
   "source": [
    "a = -5\n",
    "b = 4"
   ]
  },
  {
   "cell_type": "code",
   "execution_count": 18,
   "id": "9eb1dbb7",
   "metadata": {},
   "outputs": [
    {
     "data": {
      "text/plain": [
       "False"
      ]
     },
     "execution_count": 18,
     "metadata": {},
     "output_type": "execute_result"
    }
   ],
   "source": [
    "a += 5     # Equivalente   a = a + 5\n",
    "a < 0 "
   ]
  },
  {
   "cell_type": "code",
   "execution_count": 19,
   "id": "98a4d211",
   "metadata": {},
   "outputs": [
    {
     "data": {
      "text/plain": [
       "0"
      ]
     },
     "execution_count": 19,
     "metadata": {},
     "output_type": "execute_result"
    }
   ],
   "source": [
    "a"
   ]
  },
  {
   "cell_type": "code",
   "execution_count": 23,
   "id": "f4d5f275",
   "metadata": {},
   "outputs": [
    {
     "data": {
      "text/plain": [
       "1"
      ]
     },
     "execution_count": 23,
     "metadata": {},
     "output_type": "execute_result"
    }
   ],
   "source": [
    "b %= 3    # equivale a:    b = b % 3\n",
    "b"
   ]
  },
  {
   "cell_type": "code",
   "execution_count": 24,
   "id": "085f294e",
   "metadata": {},
   "outputs": [
    {
     "data": {
      "text/plain": [
       "2"
      ]
     },
     "execution_count": 24,
     "metadata": {},
     "output_type": "execute_result"
    }
   ],
   "source": [
    "c = 5 \n",
    "c //= 2        # equivale a tomar la parte entera de la división de 5 entre 2\n",
    "c"
   ]
  },
  {
   "cell_type": "code",
   "execution_count": 25,
   "id": "a4dde28f",
   "metadata": {},
   "outputs": [
    {
     "data": {
      "text/plain": [
       "False"
      ]
     },
     "execution_count": 25,
     "metadata": {},
     "output_type": "execute_result"
    }
   ],
   "source": [
    "a = 4 \n",
    "b = 5 \n",
    "a is b                             # pregunta si a es igual a b"
   ]
  },
  {
   "cell_type": "code",
   "execution_count": 26,
   "id": "102c8e27",
   "metadata": {},
   "outputs": [
    {
     "data": {
      "text/plain": [
       "True"
      ]
     },
     "execution_count": 26,
     "metadata": {},
     "output_type": "execute_result"
    }
   ],
   "source": [
    "a is not b"
   ]
  },
  {
   "cell_type": "code",
   "execution_count": 30,
   "id": "c601ec61",
   "metadata": {},
   "outputs": [
    {
     "data": {
      "text/plain": [
       "True"
      ]
     },
     "execution_count": 30,
     "metadata": {},
     "output_type": "execute_result"
    }
   ],
   "source": [
    "texto1 = \"Hola\"\n",
    "texto2 = \"Hola\"\n",
    "texto3 = \"hola\"\n",
    "\n",
    "texto1 is texto2"
   ]
  },
  {
   "cell_type": "code",
   "execution_count": 31,
   "id": "18dcbe6f",
   "metadata": {},
   "outputs": [
    {
     "data": {
      "text/plain": [
       "False"
      ]
     },
     "execution_count": 31,
     "metadata": {},
     "output_type": "execute_result"
    }
   ],
   "source": [
    "texto1 is texto3"
   ]
  },
  {
   "cell_type": "code",
   "execution_count": 32,
   "id": "86f7a5cf",
   "metadata": {},
   "outputs": [],
   "source": [
    "a = [1,2,3,4,5]"
   ]
  },
  {
   "cell_type": "code",
   "execution_count": 33,
   "id": "9f84b18c",
   "metadata": {},
   "outputs": [
    {
     "data": {
      "text/plain": [
       "True"
      ]
     },
     "execution_count": 33,
     "metadata": {},
     "output_type": "execute_result"
    }
   ],
   "source": [
    "3 in a     # checar si el 3 está dentro de la lista a"
   ]
  },
  {
   "cell_type": "code",
   "execution_count": 34,
   "id": "1e974432",
   "metadata": {},
   "outputs": [
    {
     "data": {
      "text/plain": [
       "False"
      ]
     },
     "execution_count": 34,
     "metadata": {},
     "output_type": "execute_result"
    }
   ],
   "source": [
    "7 in a "
   ]
  },
  {
   "cell_type": "code",
   "execution_count": 36,
   "id": "fb12d882",
   "metadata": {},
   "outputs": [
    {
     "data": {
      "text/plain": [
       "True"
      ]
     },
     "execution_count": 36,
     "metadata": {},
     "output_type": "execute_result"
    }
   ],
   "source": [
    "texto = \"Hola mundo\"\n",
    "\"Hola\" in texto"
   ]
  },
  {
   "cell_type": "code",
   "execution_count": 37,
   "id": "e98b6e9b",
   "metadata": {},
   "outputs": [
    {
     "data": {
      "text/plain": [
       "False"
      ]
     },
     "execution_count": 37,
     "metadata": {},
     "output_type": "execute_result"
    }
   ],
   "source": [
    "\"hola\" in texto"
   ]
  }
 ],
 "metadata": {
  "kernelspec": {
   "display_name": "Python 3 (ipykernel)",
   "language": "python",
   "name": "python3"
  },
  "language_info": {
   "codemirror_mode": {
    "name": "ipython",
    "version": 3
   },
   "file_extension": ".py",
   "mimetype": "text/x-python",
   "name": "python",
   "nbconvert_exporter": "python",
   "pygments_lexer": "ipython3",
   "version": "3.11.3"
  }
 },
 "nbformat": 4,
 "nbformat_minor": 5
}
