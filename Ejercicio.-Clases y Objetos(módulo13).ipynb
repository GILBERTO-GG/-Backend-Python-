{
 "cells": [
  {
   "cell_type": "code",
   "execution_count": 1,
   "id": "39f80e4a",
   "metadata": {},
   "outputs": [
    {
     "name": "stdout",
     "output_type": "stream",
     "text": [
      "Información del Producto 1:\n",
      "Nombre: Camiseta\n",
      "Precio: $25.0\n",
      "Disponibilidad: 50 unidades\n",
      "Disponibilidad después de la actualización: 45\n",
      "\n",
      "Información del Producto 2:\n",
      "Nombre: Teléfono\n",
      "Precio: $499.99\n",
      "Disponibilidad: 10 unidades\n",
      "Marca: Samsung\n",
      "Modelo: Galaxy S22\n",
      "Garantía: 12 meses\n",
      "La garantía del Teléfono ha sido registrada por 12 meses\n"
     ]
    }
   ],
   "source": [
    "class Producto:\n",
    "    def __init__(self, nombre, precio, disponibilidad):\n",
    "        self.nombre = nombre\n",
    "        self.precio = precio\n",
    "        self.disponibilidad = disponibilidad\n",
    "\n",
    "    def mostrar_info(self):\n",
    "        print(f\"Nombre: {self.nombre}\")\n",
    "        print(f\"Precio: ${self.precio}\")\n",
    "        print(f\"Disponibilidad: {self.disponibilidad} unidades\")\n",
    "\n",
    "    def actualizar_disponibilidad(self, cantidad):\n",
    "        self.disponibilidad -= cantidad\n",
    "\n",
    "class ProductoElectronico(Producto):\n",
    "    def __init__(self, nombre, precio, disponibilidad, marca, modelo, garantia):\n",
    "        super().__init__(nombre, precio, disponibilidad)\n",
    "        self.marca = marca\n",
    "        self.modelo = modelo\n",
    "        self.garantia = garantia\n",
    "\n",
    "    def mostrar_info(self):\n",
    "        super().mostrar_info()\n",
    "        print(f\"Marca: {self.marca}\")\n",
    "        print(f\"Modelo: {self.modelo}\")\n",
    "        print(f\"Garantía: {self.garantia} meses\")\n",
    "\n",
    "    def registrar_garantia(self):\n",
    "        print(f\"La garantía del {self.nombre} ha sido registrada por {self.garantia} meses\")\n",
    "\n",
    "# Instanciación de objetos de ambas clases\n",
    "producto1 = Producto(\"Camiseta\", 25.0, 50)\n",
    "producto2 = ProductoElectronico(\"Teléfono\", 499.99, 10, \"Samsung\", \"Galaxy S22\", 12)\n",
    "\n",
    "# Uso de métodos y atributos de la clase base\n",
    "print(\"Información del Producto 1:\")\n",
    "producto1.mostrar_info()\n",
    "producto1.actualizar_disponibilidad(5)\n",
    "print(\"Disponibilidad después de la actualización:\", producto1.disponibilidad)\n",
    "\n",
    "# Uso de métodos y atributos de la clase hija\n",
    "print(\"\\nInformación del Producto 2:\")\n",
    "producto2.mostrar_info()\n",
    "producto2.registrar_garantia()\n"
   ]
  }
 ],
 "metadata": {
  "kernelspec": {
   "display_name": "Python 3 (ipykernel)",
   "language": "python",
   "name": "python3"
  },
  "language_info": {
   "codemirror_mode": {
    "name": "ipython",
    "version": 3
   },
   "file_extension": ".py",
   "mimetype": "text/x-python",
   "name": "python",
   "nbconvert_exporter": "python",
   "pygments_lexer": "ipython3",
   "version": "3.11.3"
  }
 },
 "nbformat": 4,
 "nbformat_minor": 5
}
