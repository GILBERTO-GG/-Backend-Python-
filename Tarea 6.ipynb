{
 "cells": [
  {
   "cell_type": "code",
   "execution_count": 2,
   "id": "499fc0b6",
   "metadata": {},
   "outputs": [
    {
     "name": "stdout",
     "output_type": "stream",
     "text": [
      "3986\n"
     ]
    }
   ],
   "source": [
    "#Programa que convierte un número romano a un número entero.\n",
    "\n",
    "class Conversion:\n",
    "    def __init__(self):      #esta clase contiene un diccionario romano_a_entero que mapea cada símbolo romano\n",
    "                             #a su valor entero correspondiente\n",
    "        self.romano_a_entero = {'I': 1, 'V': 5, 'X': 10, 'L': 50, 'C': 100, 'D': 500, 'M': 1000}\n",
    "\n",
    "    def romano_entero(self, numero_romano):   #este método recibe como argumento un número romano y realiza la conversión \n",
    "                                              #a número entero siguiendo las reglas de la numeración romana. \n",
    "                                              #Retorna el resultado de la conversión.\n",
    "        entero = 0\n",
    "        anterior = 0\n",
    "\n",
    "        for letra in numero_romano[::-1]:\n",
    "            valor = self.romano_a_entero[letra]\n",
    "            if valor >= anterior:\n",
    "                entero += valor\n",
    "            else:\n",
    "                entero -= valor\n",
    "            anterior = valor\n",
    "\n",
    "        return entero\n",
    "    \n",
    "numero = Conversion()\n",
    "resultado = numero.romano_entero('MMMCMLXXXVI')\n",
    "print(resultado)  # Output: 3986\n",
    "    \n"
   ]
  }
 ],
 "metadata": {
  "kernelspec": {
   "display_name": "Python 3 (ipykernel)",
   "language": "python",
   "name": "python3"
  },
  "language_info": {
   "codemirror_mode": {
    "name": "ipython",
    "version": 3
   },
   "file_extension": ".py",
   "mimetype": "text/x-python",
   "name": "python",
   "nbconvert_exporter": "python",
   "pygments_lexer": "ipython3",
   "version": "3.11.3"
  }
 },
 "nbformat": 4,
 "nbformat_minor": 5
}
