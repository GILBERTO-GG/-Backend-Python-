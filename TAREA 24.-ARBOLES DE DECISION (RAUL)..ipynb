{
 "cells": [
  {
   "cell_type": "code",
   "execution_count": 5,
   "id": "59c8a8e3",
   "metadata": {},
   "outputs": [],
   "source": [
    "import pandas as pd\n",
    "from sklearn.tree import DecisionTreeClassifier\n",
    "from sklearn.model_selection import train_test_split\n",
    "from sklearn import metrics\n",
    "import matplotlib.pyplot as plt\n",
    "import warnings\n",
    "warnings.filterwarnings('ignore')\n",
    "\n",
    "import os\n",
    "os.chdir(\"/Users/gilgu/OneDrive/Escritorio\")"
   ]
  },
  {
   "cell_type": "markdown",
   "id": "5679d2dc",
   "metadata": {},
   "source": [
    "# 1)Cargue la base de datos “drugs.csv” en Python e investigue cómo convertir las variables predictoras cualitativas de esta base a una escala numérica mediante la instrucción “pre-processing.LabelEncoder()”. Por ejemplo, si una variable tiene 3 posibles categorías, deberá cambiar sus resultados a 0, 1 ó 2."
   ]
  },
  {
   "cell_type": "code",
   "execution_count": 7,
   "id": "c3bd066b",
   "metadata": {},
   "outputs": [
    {
     "data": {
      "text/html": [
       "<div>\n",
       "<style scoped>\n",
       "    .dataframe tbody tr th:only-of-type {\n",
       "        vertical-align: middle;\n",
       "    }\n",
       "\n",
       "    .dataframe tbody tr th {\n",
       "        vertical-align: top;\n",
       "    }\n",
       "\n",
       "    .dataframe thead th {\n",
       "        text-align: right;\n",
       "    }\n",
       "</style>\n",
       "<table border=\"1\" class=\"dataframe\">\n",
       "  <thead>\n",
       "    <tr style=\"text-align: right;\">\n",
       "      <th></th>\n",
       "      <th>Age</th>\n",
       "      <th>Sex</th>\n",
       "      <th>BP</th>\n",
       "      <th>Cholesterol</th>\n",
       "      <th>Na_to_K</th>\n",
       "      <th>Drug</th>\n",
       "    </tr>\n",
       "  </thead>\n",
       "  <tbody>\n",
       "    <tr>\n",
       "      <th>0</th>\n",
       "      <td>23</td>\n",
       "      <td>F</td>\n",
       "      <td>HIGH</td>\n",
       "      <td>HIGH</td>\n",
       "      <td>25.355</td>\n",
       "      <td>drugY</td>\n",
       "    </tr>\n",
       "    <tr>\n",
       "      <th>1</th>\n",
       "      <td>47</td>\n",
       "      <td>M</td>\n",
       "      <td>LOW</td>\n",
       "      <td>HIGH</td>\n",
       "      <td>13.093</td>\n",
       "      <td>drugC</td>\n",
       "    </tr>\n",
       "    <tr>\n",
       "      <th>2</th>\n",
       "      <td>47</td>\n",
       "      <td>M</td>\n",
       "      <td>LOW</td>\n",
       "      <td>HIGH</td>\n",
       "      <td>10.114</td>\n",
       "      <td>drugC</td>\n",
       "    </tr>\n",
       "    <tr>\n",
       "      <th>3</th>\n",
       "      <td>28</td>\n",
       "      <td>F</td>\n",
       "      <td>NORMAL</td>\n",
       "      <td>HIGH</td>\n",
       "      <td>7.798</td>\n",
       "      <td>drugX</td>\n",
       "    </tr>\n",
       "    <tr>\n",
       "      <th>4</th>\n",
       "      <td>61</td>\n",
       "      <td>F</td>\n",
       "      <td>LOW</td>\n",
       "      <td>HIGH</td>\n",
       "      <td>18.043</td>\n",
       "      <td>drugY</td>\n",
       "    </tr>\n",
       "    <tr>\n",
       "      <th>5</th>\n",
       "      <td>22</td>\n",
       "      <td>F</td>\n",
       "      <td>NORMAL</td>\n",
       "      <td>HIGH</td>\n",
       "      <td>8.607</td>\n",
       "      <td>drugX</td>\n",
       "    </tr>\n",
       "    <tr>\n",
       "      <th>6</th>\n",
       "      <td>49</td>\n",
       "      <td>F</td>\n",
       "      <td>NORMAL</td>\n",
       "      <td>HIGH</td>\n",
       "      <td>16.275</td>\n",
       "      <td>drugY</td>\n",
       "    </tr>\n",
       "    <tr>\n",
       "      <th>7</th>\n",
       "      <td>41</td>\n",
       "      <td>M</td>\n",
       "      <td>LOW</td>\n",
       "      <td>HIGH</td>\n",
       "      <td>11.037</td>\n",
       "      <td>drugC</td>\n",
       "    </tr>\n",
       "    <tr>\n",
       "      <th>8</th>\n",
       "      <td>60</td>\n",
       "      <td>M</td>\n",
       "      <td>NORMAL</td>\n",
       "      <td>HIGH</td>\n",
       "      <td>15.171</td>\n",
       "      <td>drugY</td>\n",
       "    </tr>\n",
       "    <tr>\n",
       "      <th>9</th>\n",
       "      <td>43</td>\n",
       "      <td>M</td>\n",
       "      <td>LOW</td>\n",
       "      <td>NORMAL</td>\n",
       "      <td>19.368</td>\n",
       "      <td>drugY</td>\n",
       "    </tr>\n",
       "  </tbody>\n",
       "</table>\n",
       "</div>"
      ],
      "text/plain": [
       "   Age Sex      BP Cholesterol  Na_to_K   Drug\n",
       "0   23   F    HIGH        HIGH   25.355  drugY\n",
       "1   47   M     LOW        HIGH   13.093  drugC\n",
       "2   47   M     LOW        HIGH   10.114  drugC\n",
       "3   28   F  NORMAL        HIGH    7.798  drugX\n",
       "4   61   F     LOW        HIGH   18.043  drugY\n",
       "5   22   F  NORMAL        HIGH    8.607  drugX\n",
       "6   49   F  NORMAL        HIGH   16.275  drugY\n",
       "7   41   M     LOW        HIGH   11.037  drugC\n",
       "8   60   M  NORMAL        HIGH   15.171  drugY\n",
       "9   43   M     LOW      NORMAL   19.368  drugY"
      ]
     },
     "execution_count": 7,
     "metadata": {},
     "output_type": "execute_result"
    }
   ],
   "source": [
    "df = pd.read_csv(\"drugs.csv\")\n",
    "df.head(10)"
   ]
  },
  {
   "cell_type": "markdown",
   "id": "7f191142",
   "metadata": {},
   "source": [
    "# Renombrar las columnas:"
   ]
  },
  {
   "cell_type": "code",
   "execution_count": 8,
   "id": "02040dd0",
   "metadata": {},
   "outputs": [
    {
     "data": {
      "text/html": [
       "<div>\n",
       "<style scoped>\n",
       "    .dataframe tbody tr th:only-of-type {\n",
       "        vertical-align: middle;\n",
       "    }\n",
       "\n",
       "    .dataframe tbody tr th {\n",
       "        vertical-align: top;\n",
       "    }\n",
       "\n",
       "    .dataframe thead th {\n",
       "        text-align: right;\n",
       "    }\n",
       "</style>\n",
       "<table border=\"1\" class=\"dataframe\">\n",
       "  <thead>\n",
       "    <tr style=\"text-align: right;\">\n",
       "      <th></th>\n",
       "      <th>age</th>\n",
       "      <th>sex</th>\n",
       "      <th>bp</th>\n",
       "      <th>cholesterol</th>\n",
       "      <th>na_to_k</th>\n",
       "      <th>drug</th>\n",
       "    </tr>\n",
       "  </thead>\n",
       "  <tbody>\n",
       "    <tr>\n",
       "      <th>1</th>\n",
       "      <td>23</td>\n",
       "      <td>F</td>\n",
       "      <td>HIGH</td>\n",
       "      <td>HIGH</td>\n",
       "      <td>25.355</td>\n",
       "      <td>drugY</td>\n",
       "    </tr>\n",
       "    <tr>\n",
       "      <th>2</th>\n",
       "      <td>47</td>\n",
       "      <td>M</td>\n",
       "      <td>LOW</td>\n",
       "      <td>HIGH</td>\n",
       "      <td>13.093</td>\n",
       "      <td>drugC</td>\n",
       "    </tr>\n",
       "    <tr>\n",
       "      <th>3</th>\n",
       "      <td>47</td>\n",
       "      <td>M</td>\n",
       "      <td>LOW</td>\n",
       "      <td>HIGH</td>\n",
       "      <td>10.114</td>\n",
       "      <td>drugC</td>\n",
       "    </tr>\n",
       "    <tr>\n",
       "      <th>4</th>\n",
       "      <td>28</td>\n",
       "      <td>F</td>\n",
       "      <td>NORMAL</td>\n",
       "      <td>HIGH</td>\n",
       "      <td>7.798</td>\n",
       "      <td>drugX</td>\n",
       "    </tr>\n",
       "    <tr>\n",
       "      <th>5</th>\n",
       "      <td>61</td>\n",
       "      <td>F</td>\n",
       "      <td>LOW</td>\n",
       "      <td>HIGH</td>\n",
       "      <td>18.043</td>\n",
       "      <td>drugY</td>\n",
       "    </tr>\n",
       "  </tbody>\n",
       "</table>\n",
       "</div>"
      ],
      "text/plain": [
       "  age sex      bp cholesterol na_to_k   drug\n",
       "1  23   F    HIGH        HIGH  25.355  drugY\n",
       "2  47   M     LOW        HIGH  13.093  drugC\n",
       "3  47   M     LOW        HIGH  10.114  drugC\n",
       "4  28   F  NORMAL        HIGH   7.798  drugX\n",
       "5  61   F     LOW        HIGH  18.043  drugY"
      ]
     },
     "execution_count": 8,
     "metadata": {},
     "output_type": "execute_result"
    }
   ],
   "source": [
    "col_names = ['age', 'sex', 'bp', 'cholesterol', 'na_to_k', 'drug']\n",
    "df = pd.read_csv('drugs.csv', header=None, names=col_names)\n",
    "df = df.iloc[1:,:]\n",
    "df.head()"
   ]
  },
  {
   "cell_type": "markdown",
   "id": "8dc58448",
   "metadata": {},
   "source": [
    "# Establecer variables predictivas y a predecir."
   ]
  },
  {
   "cell_type": "code",
   "execution_count": 11,
   "id": "bcfc65ee",
   "metadata": {},
   "outputs": [],
   "source": [
    "feature_cols = ['age', 'sex', 'bp', 'cholesterol', 'na_to_k']\n",
    "x = df[feature_cols].values\n",
    "y = df.drug"
   ]
  },
  {
   "cell_type": "markdown",
   "id": "dc71a042",
   "metadata": {},
   "source": [
    "# Convertir variables predictivas cualitativas a numéricas."
   ]
  },
  {
   "cell_type": "code",
   "execution_count": 12,
   "id": "a3101826",
   "metadata": {},
   "outputs": [],
   "source": [
    "from sklearn import preprocessing\n",
    "\n",
    "cod_sex = preprocessing.LabelEncoder()\n",
    "cod_sex.fit(['M', 'F'])\n",
    "x[:,1] = cod_sex.transform(x[:,1])\n",
    "\n",
    "cod_bp = preprocessing.LabelEncoder()\n",
    "cod_bp.fit(['LOW','NORMAL','HIGH'])\n",
    "x[:,2] = cod_bp.transform(x[:,2])\n",
    "\n",
    "cod_chol = preprocessing.LabelEncoder()\n",
    "cod_chol.fit(['NORMAL','HIGH'])\n",
    "x[:,3] = cod_chol.transform(x[:,3])"
   ]
  },
  {
   "cell_type": "code",
   "execution_count": 13,
   "id": "48da785f",
   "metadata": {},
   "outputs": [
    {
     "data": {
      "text/plain": [
       "array([['23', 0, 0, 0, '25.355'],\n",
       "       ['47', 1, 1, 0, '13.093'],\n",
       "       ['47', 1, 1, 0, '10.114'],\n",
       "       ['28', 0, 2, 0, '7.798'],\n",
       "       ['61', 0, 1, 0, '18.043'],\n",
       "       ['22', 0, 2, 0, '8.607'],\n",
       "       ['49', 0, 2, 0, '16.275'],\n",
       "       ['41', 1, 1, 0, '11.037'],\n",
       "       ['60', 1, 2, 0, '15.171'],\n",
       "       ['43', 1, 1, 1, '19.368'],\n",
       "       ['47', 0, 1, 0, '11.767'],\n",
       "       ['34', 0, 0, 1, '19.199'],\n",
       "       ['43', 1, 1, 0, '15.376'],\n",
       "       ['74', 0, 1, 0, '20.942'],\n",
       "       ['50', 0, 2, 0, '12.703'],\n",
       "       ['16', 0, 0, 1, '15.516'],\n",
       "       ['69', 1, 1, 1, '11.455'],\n",
       "       ['43', 1, 0, 0, '13.972'],\n",
       "       ['23', 1, 1, 0, '7.298'],\n",
       "       ['32', 0, 0, 1, '25.974'],\n",
       "       ['57', 1, 1, 1, '19.128'],\n",
       "       ['63', 1, 2, 0, '25.917'],\n",
       "       ['47', 1, 1, 1, '30.568'],\n",
       "       ['48', 0, 1, 0, '15.036'],\n",
       "       ['33', 0, 1, 0, '33.486'],\n",
       "       ['28', 0, 0, 1, '18.809'],\n",
       "       ['31', 1, 0, 0, '30.366'],\n",
       "       ['49', 0, 2, 1, '9.381'],\n",
       "       ['39', 0, 1, 1, '22.697'],\n",
       "       ['45', 1, 1, 0, '17.951'],\n",
       "       ['18', 0, 2, 1, '8.75'],\n",
       "       ['74', 1, 0, 0, '9.567'],\n",
       "       ['49', 1, 1, 1, '11.014'],\n",
       "       ['65', 0, 0, 1, '31.876'],\n",
       "       ['53', 1, 2, 0, '14.133'],\n",
       "       ['46', 1, 2, 1, '7.285'],\n",
       "       ['32', 1, 0, 1, '9.445'],\n",
       "       ['39', 1, 1, 1, '13.938'],\n",
       "       ['39', 0, 2, 1, '9.709'],\n",
       "       ['15', 1, 2, 0, '9.084'],\n",
       "       ['73', 0, 2, 0, '19.221'],\n",
       "       ['58', 0, 0, 1, '14.239'],\n",
       "       ['50', 1, 2, 1, '15.79'],\n",
       "       ['23', 1, 2, 0, '12.26'],\n",
       "       ['50', 0, 2, 1, '12.295'],\n",
       "       ['66', 0, 2, 1, '8.107'],\n",
       "       ['37', 0, 0, 0, '13.091'],\n",
       "       ['68', 1, 1, 0, '10.291'],\n",
       "       ['23', 1, 2, 0, '31.686'],\n",
       "       ['28', 0, 1, 0, '19.796'],\n",
       "       ['58', 0, 0, 0, '19.416'],\n",
       "       ['67', 1, 2, 1, '10.898'],\n",
       "       ['62', 1, 1, 1, '27.183'],\n",
       "       ['24', 0, 0, 1, '18.457'],\n",
       "       ['68', 0, 0, 1, '10.189'],\n",
       "       ['26', 0, 1, 0, '14.16'],\n",
       "       ['65', 1, 0, 1, '11.34'],\n",
       "       ['40', 1, 0, 0, '27.826'],\n",
       "       ['60', 1, 2, 1, '10.091'],\n",
       "       ['34', 1, 0, 0, '18.703'],\n",
       "       ['38', 0, 1, 1, '29.875'],\n",
       "       ['24', 1, 0, 1, '9.475'],\n",
       "       ['67', 1, 1, 1, '20.693'],\n",
       "       ['45', 1, 1, 1, '8.37'],\n",
       "       ['60', 0, 0, 0, '13.303'],\n",
       "       ['68', 0, 2, 1, '27.05'],\n",
       "       ['29', 1, 0, 0, '12.856'],\n",
       "       ['17', 1, 2, 1, '10.832'],\n",
       "       ['54', 1, 2, 0, '24.658'],\n",
       "       ['18', 0, 0, 1, '24.276'],\n",
       "       ['70', 1, 0, 0, '13.967'],\n",
       "       ['28', 0, 2, 0, '19.675'],\n",
       "       ['24', 0, 2, 0, '10.605'],\n",
       "       ['41', 0, 2, 1, '22.905'],\n",
       "       ['31', 1, 0, 1, '17.069'],\n",
       "       ['26', 1, 1, 1, '20.909'],\n",
       "       ['36', 0, 0, 0, '11.198'],\n",
       "       ['26', 0, 0, 1, '19.161'],\n",
       "       ['19', 0, 0, 0, '13.313'],\n",
       "       ['32', 0, 1, 1, '10.84'],\n",
       "       ['60', 1, 0, 0, '13.934'],\n",
       "       ['64', 1, 2, 0, '7.761'],\n",
       "       ['32', 0, 1, 0, '9.712'],\n",
       "       ['38', 0, 0, 1, '11.326'],\n",
       "       ['47', 0, 1, 0, '10.067'],\n",
       "       ['59', 1, 0, 0, '13.935'],\n",
       "       ['51', 0, 2, 0, '13.597'],\n",
       "       ['69', 1, 1, 0, '15.478'],\n",
       "       ['37', 0, 0, 1, '23.091'],\n",
       "       ['50', 0, 2, 1, '17.211'],\n",
       "       ['62', 1, 2, 0, '16.594'],\n",
       "       ['41', 1, 0, 1, '15.156'],\n",
       "       ['29', 0, 0, 0, '29.45'],\n",
       "       ['42', 0, 1, 1, '29.271'],\n",
       "       ['56', 1, 1, 0, '15.015'],\n",
       "       ['36', 1, 1, 1, '11.424'],\n",
       "       ['58', 0, 1, 0, '38.247'],\n",
       "       ['56', 0, 0, 0, '25.395'],\n",
       "       ['20', 1, 0, 1, '35.639'],\n",
       "       ['15', 0, 0, 1, '16.725'],\n",
       "       ['31', 1, 0, 1, '11.871'],\n",
       "       ['45', 0, 0, 0, '12.854'],\n",
       "       ['28', 0, 1, 0, '13.127'],\n",
       "       ['56', 1, 2, 0, '8.966'],\n",
       "       ['22', 1, 0, 1, '28.294'],\n",
       "       ['37', 1, 1, 1, '8.968'],\n",
       "       ['22', 1, 2, 0, '11.953'],\n",
       "       ['42', 1, 1, 0, '20.013'],\n",
       "       ['72', 1, 0, 1, '9.677'],\n",
       "       ['23', 1, 2, 0, '16.85'],\n",
       "       ['50', 1, 0, 0, '7.49'],\n",
       "       ['47', 0, 2, 1, '6.683'],\n",
       "       ['35', 1, 1, 1, '9.17'],\n",
       "       ['65', 0, 1, 1, '13.769'],\n",
       "       ['20', 0, 2, 1, '9.281'],\n",
       "       ['51', 1, 0, 0, '18.295'],\n",
       "       ['67', 1, 2, 1, '9.514'],\n",
       "       ['40', 0, 2, 0, '10.103'],\n",
       "       ['32', 0, 0, 1, '10.292'],\n",
       "       ['61', 0, 0, 0, '25.475'],\n",
       "       ['28', 1, 2, 0, '27.064'],\n",
       "       ['15', 1, 0, 1, '17.206'],\n",
       "       ['34', 1, 2, 0, '22.456'],\n",
       "       ['36', 0, 2, 0, '16.753'],\n",
       "       ['53', 0, 0, 1, '12.495'],\n",
       "       ['19', 0, 0, 1, '25.969'],\n",
       "       ['66', 1, 0, 0, '16.347'],\n",
       "       ['35', 1, 2, 1, '7.845'],\n",
       "       ['47', 1, 1, 1, '33.542'],\n",
       "       ['32', 0, 2, 0, '7.477'],\n",
       "       ['70', 0, 2, 0, '20.489'],\n",
       "       ['52', 1, 1, 1, '32.922'],\n",
       "       ['49', 1, 1, 1, '13.598'],\n",
       "       ['24', 1, 2, 0, '25.786'],\n",
       "       ['42', 0, 0, 0, '21.036'],\n",
       "       ['74', 1, 1, 1, '11.939'],\n",
       "       ['55', 0, 0, 0, '10.977'],\n",
       "       ['35', 0, 0, 0, '12.894'],\n",
       "       ['51', 1, 0, 1, '11.343'],\n",
       "       ['69', 0, 2, 0, '10.065'],\n",
       "       ['49', 1, 0, 1, '6.269'],\n",
       "       ['64', 0, 1, 1, '25.741'],\n",
       "       ['60', 1, 0, 1, '8.621'],\n",
       "       ['74', 1, 0, 1, '15.436'],\n",
       "       ['39', 1, 0, 0, '9.664'],\n",
       "       ['61', 1, 2, 0, '9.443'],\n",
       "       ['37', 0, 1, 1, '12.006'],\n",
       "       ['26', 0, 0, 1, '12.307'],\n",
       "       ['61', 0, 1, 1, '7.34'],\n",
       "       ['22', 1, 1, 0, '8.151'],\n",
       "       ['49', 1, 0, 1, '8.7'],\n",
       "       ['68', 1, 0, 0, '11.009'],\n",
       "       ['55', 1, 2, 1, '7.261'],\n",
       "       ['72', 0, 1, 1, '14.642'],\n",
       "       ['37', 1, 1, 1, '16.724'],\n",
       "       ['49', 1, 1, 0, '10.537'],\n",
       "       ['31', 1, 0, 1, '11.227'],\n",
       "       ['53', 1, 1, 0, '22.963'],\n",
       "       ['59', 0, 1, 0, '10.444'],\n",
       "       ['34', 0, 1, 1, '12.923'],\n",
       "       ['30', 0, 2, 0, '10.443'],\n",
       "       ['57', 0, 0, 1, '9.945'],\n",
       "       ['43', 1, 2, 1, '12.859'],\n",
       "       ['21', 0, 0, 1, '28.632'],\n",
       "       ['16', 1, 0, 1, '19.007'],\n",
       "       ['38', 1, 1, 0, '18.295'],\n",
       "       ['58', 0, 1, 0, '26.645'],\n",
       "       ['57', 0, 2, 0, '14.216'],\n",
       "       ['51', 0, 1, 1, '23.003'],\n",
       "       ['20', 0, 0, 0, '11.262'],\n",
       "       ['28', 0, 2, 0, '12.879'],\n",
       "       ['45', 1, 1, 1, '10.017'],\n",
       "       ['39', 0, 2, 1, '17.225'],\n",
       "       ['41', 0, 1, 1, '18.739'],\n",
       "       ['42', 1, 0, 1, '12.766'],\n",
       "       ['73', 0, 0, 0, '18.348'],\n",
       "       ['48', 1, 0, 1, '10.446'],\n",
       "       ['25', 1, 2, 0, '19.011'],\n",
       "       ['39', 1, 2, 0, '15.969'],\n",
       "       ['67', 0, 2, 0, '15.891'],\n",
       "       ['22', 0, 0, 1, '22.818'],\n",
       "       ['59', 0, 2, 0, '13.884'],\n",
       "       ['20', 0, 1, 1, '11.686'],\n",
       "       ['36', 0, 0, 1, '15.49'],\n",
       "       ['18', 0, 0, 0, '37.188'],\n",
       "       ['57', 0, 2, 1, '25.893'],\n",
       "       ['70', 1, 0, 0, '9.849'],\n",
       "       ['47', 1, 0, 0, '10.403'],\n",
       "       ['65', 1, 0, 1, '34.997'],\n",
       "       ['64', 1, 0, 1, '20.932'],\n",
       "       ['58', 1, 0, 0, '18.991'],\n",
       "       ['23', 1, 0, 0, '8.011'],\n",
       "       ['72', 1, 1, 0, '16.31'],\n",
       "       ['72', 1, 1, 0, '6.769'],\n",
       "       ['46', 0, 0, 0, '34.686'],\n",
       "       ['56', 0, 1, 0, '11.567'],\n",
       "       ['16', 1, 1, 0, '12.006'],\n",
       "       ['52', 1, 2, 0, '9.894'],\n",
       "       ['23', 1, 2, 1, '14.02'],\n",
       "       ['40', 0, 1, 1, '11.349']], dtype=object)"
      ]
     },
     "execution_count": 13,
     "metadata": {},
     "output_type": "execute_result"
    }
   ],
   "source": [
    "x"
   ]
  },
  {
   "cell_type": "code",
   "execution_count": 17,
   "id": "ea354560",
   "metadata": {},
   "outputs": [
    {
     "data": {
      "text/plain": [
       "1      drugY\n",
       "2      drugC\n",
       "3      drugC\n",
       "4      drugX\n",
       "5      drugY\n",
       "       ...  \n",
       "196    drugC\n",
       "197    drugC\n",
       "198    drugX\n",
       "199    drugX\n",
       "200    drugX\n",
       "Name: drug, Length: 200, dtype: object"
      ]
     },
     "execution_count": 17,
     "metadata": {},
     "output_type": "execute_result"
    }
   ],
   "source": [
    "y"
   ]
  },
  {
   "cell_type": "markdown",
   "id": "31a96975",
   "metadata": {},
   "source": [
    "# Creación de grupos de entrenamiento y prueba."
   ]
  },
  {
   "cell_type": "code",
   "execution_count": 15,
   "id": "b76158ab",
   "metadata": {},
   "outputs": [],
   "source": [
    "x_train, x_test, y_train, y_test = train_test_split(x, y, test_size = 0.3, random_state = 1)"
   ]
  },
  {
   "cell_type": "markdown",
   "id": "f9413431",
   "metadata": {},
   "source": [
    "# Crear objeto de clasificación del árbol de decisión."
   ]
  },
  {
   "cell_type": "code",
   "execution_count": 16,
   "id": "cf5fbc3a",
   "metadata": {},
   "outputs": [],
   "source": [
    "clf = DecisionTreeClassifier(criterion = 'gini', max_depth = 5)"
   ]
  },
  {
   "cell_type": "markdown",
   "id": "44d047c1",
   "metadata": {},
   "source": [
    "# Aplicación del algoritmo de árboles de decisión a los grupos de entrenamiento"
   ]
  },
  {
   "cell_type": "code",
   "execution_count": 18,
   "id": "9ac5d61c",
   "metadata": {},
   "outputs": [],
   "source": [
    "clf = clf.fit(x_train, y_train)"
   ]
  },
  {
   "cell_type": "markdown",
   "id": "4305cfbc",
   "metadata": {},
   "source": [
    "# Predicción de la respuesta para el grupo de prueba."
   ]
  },
  {
   "cell_type": "code",
   "execution_count": 19,
   "id": "9ba6924d",
   "metadata": {},
   "outputs": [],
   "source": [
    "y_pred = clf.predict(x_test)"
   ]
  },
  {
   "cell_type": "markdown",
   "id": "846b2ca8",
   "metadata": {},
   "source": [
    "# Matriz de Confusión:"
   ]
  },
  {
   "cell_type": "code",
   "execution_count": 20,
   "id": "8a92bef7",
   "metadata": {},
   "outputs": [
    {
     "data": {
      "text/plain": [
       "array([[ 4,  0,  0,  0,  0],\n",
       "       [ 2,  4,  0,  0,  0],\n",
       "       [ 0,  0,  4,  0,  0],\n",
       "       [ 0,  0,  0, 19,  0],\n",
       "       [ 0,  0,  0,  0, 27]], dtype=int64)"
      ]
     },
     "execution_count": 20,
     "metadata": {},
     "output_type": "execute_result"
    }
   ],
   "source": [
    "from sklearn.metrics import confusion_matrix\n",
    "\n",
    "cm = confusion_matrix(y_test, y_pred)\n",
    "cm"
   ]
  },
  {
   "cell_type": "markdown",
   "id": "527df01e",
   "metadata": {},
   "source": [
    "# Estadísticas de desempeño."
   ]
  },
  {
   "cell_type": "code",
   "execution_count": 21,
   "id": "41b64e04",
   "metadata": {},
   "outputs": [
    {
     "name": "stdout",
     "output_type": "stream",
     "text": [
      "              precision    recall  f1-score   support\n",
      "\n",
      "       drugA       0.67      1.00      0.80         4\n",
      "       drugB       1.00      0.67      0.80         6\n",
      "       drugC       1.00      1.00      1.00         4\n",
      "       drugX       1.00      1.00      1.00        19\n",
      "       drugY       1.00      1.00      1.00        27\n",
      "\n",
      "    accuracy                           0.97        60\n",
      "   macro avg       0.93      0.93      0.92        60\n",
      "weighted avg       0.98      0.97      0.97        60\n",
      "\n"
     ]
    }
   ],
   "source": [
    "from sklearn.metrics import classification_report\n",
    "\n",
    "print(classification_report(y_test, y_pred))"
   ]
  },
  {
   "cell_type": "markdown",
   "id": "b53db099",
   "metadata": {},
   "source": [
    "# Probando con menor profundidad máxima"
   ]
  },
  {
   "cell_type": "code",
   "execution_count": 22,
   "id": "1a492944",
   "metadata": {},
   "outputs": [
    {
     "name": "stdout",
     "output_type": "stream",
     "text": [
      "              precision    recall  f1-score   support\n",
      "\n",
      "       drugA       0.67      1.00      0.80         4\n",
      "       drugB       1.00      0.67      0.80         6\n",
      "       drugC       0.00      0.00      0.00         4\n",
      "       drugX       0.83      1.00      0.90        19\n",
      "       drugY       1.00      1.00      1.00        27\n",
      "\n",
      "    accuracy                           0.90        60\n",
      "   macro avg       0.70      0.73      0.70        60\n",
      "weighted avg       0.86      0.90      0.87        60\n",
      "\n"
     ]
    }
   ],
   "source": [
    "clf = DecisionTreeClassifier(criterion = 'gini', max_depth = 3)\n",
    "clf = clf.fit(x_train, y_train)\n",
    "y_pred = clf.predict(x_test)\n",
    "print(classification_report(y_test, y_pred))"
   ]
  },
  {
   "cell_type": "markdown",
   "id": "3e2eee65",
   "metadata": {},
   "source": [
    "# Probando con menor profundidad máxima"
   ]
  },
  {
   "cell_type": "code",
   "execution_count": 23,
   "id": "ccd55202",
   "metadata": {},
   "outputs": [
    {
     "name": "stdout",
     "output_type": "stream",
     "text": [
      "              precision    recall  f1-score   support\n",
      "\n",
      "       drugA       0.67      1.00      0.80         4\n",
      "       drugB       1.00      0.67      0.80         6\n",
      "       drugC       1.00      1.00      1.00         4\n",
      "       drugX       1.00      1.00      1.00        19\n",
      "       drugY       1.00      1.00      1.00        27\n",
      "\n",
      "    accuracy                           0.97        60\n",
      "   macro avg       0.93      0.93      0.92        60\n",
      "weighted avg       0.98      0.97      0.97        60\n",
      "\n"
     ]
    }
   ],
   "source": [
    "clf = DecisionTreeClassifier(criterion = 'gini', max_depth = 4)\n",
    "clf = clf.fit(x_train, y_train)\n",
    "y_pred = clf.predict(x_test)\n",
    "print(classification_report(y_test, y_pred))"
   ]
  },
  {
   "cell_type": "markdown",
   "id": "495d90de",
   "metadata": {},
   "source": [
    "# Con el criterio gini, después de probar con profundidad máxima de 3, 4 5, vemos que entre 3 y 5 no hay diferencia en los índices de desempeño, y con profundidad 3 los indicadores disminuyen. Por lo tanto para este criterio la profundidad óptima es 4."
   ]
  },
  {
   "cell_type": "markdown",
   "id": "7d1fa46b",
   "metadata": {},
   "source": [
    "# Probando con criterio de entropía:"
   ]
  },
  {
   "cell_type": "code",
   "execution_count": 24,
   "id": "2e52aa0a",
   "metadata": {},
   "outputs": [
    {
     "name": "stdout",
     "output_type": "stream",
     "text": [
      "              precision    recall  f1-score   support\n",
      "\n",
      "       drugA       0.67      1.00      0.80         4\n",
      "       drugB       1.00      0.67      0.80         6\n",
      "       drugC       1.00      1.00      1.00         4\n",
      "       drugX       1.00      1.00      1.00        19\n",
      "       drugY       1.00      1.00      1.00        27\n",
      "\n",
      "    accuracy                           0.97        60\n",
      "   macro avg       0.93      0.93      0.92        60\n",
      "weighted avg       0.98      0.97      0.97        60\n",
      "\n"
     ]
    }
   ],
   "source": [
    "clf = DecisionTreeClassifier(criterion = 'entropy', max_depth=5)\n",
    "clf = clf.fit(x_train, y_train)\n",
    "y_pred = clf.predict(x_test)\n",
    "print(classification_report(y_test, y_pred))"
   ]
  },
  {
   "cell_type": "code",
   "execution_count": 25,
   "id": "4671ecf5",
   "metadata": {},
   "outputs": [
    {
     "name": "stdout",
     "output_type": "stream",
     "text": [
      "              precision    recall  f1-score   support\n",
      "\n",
      "       drugA       0.67      1.00      0.80         4\n",
      "       drugB       1.00      0.67      0.80         6\n",
      "       drugC       1.00      1.00      1.00         4\n",
      "       drugX       1.00      1.00      1.00        19\n",
      "       drugY       1.00      1.00      1.00        27\n",
      "\n",
      "    accuracy                           0.97        60\n",
      "   macro avg       0.93      0.93      0.92        60\n",
      "weighted avg       0.98      0.97      0.97        60\n",
      "\n"
     ]
    }
   ],
   "source": [
    "clf = DecisionTreeClassifier(criterion = 'entropy', max_depth=4)\n",
    "clf = clf.fit(x_train, y_train)\n",
    "y_pred = clf.predict(x_test)\n",
    "print(classification_report(y_test, y_pred))"
   ]
  },
  {
   "cell_type": "code",
   "execution_count": 26,
   "id": "705d9e18",
   "metadata": {},
   "outputs": [
    {
     "name": "stdout",
     "output_type": "stream",
     "text": [
      "              precision    recall  f1-score   support\n",
      "\n",
      "       drugA       0.67      1.00      0.80         4\n",
      "       drugB       1.00      0.67      0.80         6\n",
      "       drugC       0.00      0.00      0.00         4\n",
      "       drugX       0.83      1.00      0.90        19\n",
      "       drugY       1.00      1.00      1.00        27\n",
      "\n",
      "    accuracy                           0.90        60\n",
      "   macro avg       0.70      0.73      0.70        60\n",
      "weighted avg       0.86      0.90      0.87        60\n",
      "\n"
     ]
    }
   ],
   "source": [
    "clf = DecisionTreeClassifier(criterion = 'entropy', max_depth=3)\n",
    "clf = clf.fit(x_train, y_train)\n",
    "y_pred = clf.predict(x_test)\n",
    "print(classification_report(y_test, y_pred))"
   ]
  },
  {
   "cell_type": "markdown",
   "id": "9ace6f93",
   "metadata": {},
   "source": [
    "# Con el criterio de entropía el desempeño es igual del criterio gini. En ambos casos la profundiad óptima es 4."
   ]
  },
  {
   "cell_type": "markdown",
   "id": "f44277a3",
   "metadata": {},
   "source": [
    "# Reconstruyendo el árbol con la profundidad óptima:"
   ]
  },
  {
   "cell_type": "code",
   "execution_count": 28,
   "id": "221c2c02",
   "metadata": {},
   "outputs": [],
   "source": [
    "clf = DecisionTreeClassifier(criterion='entropy', max_depth=4)\n",
    "clf = clf.fit(x_train, y_train)"
   ]
  },
  {
   "cell_type": "code",
   "execution_count": 29,
   "id": "92cfdc5b",
   "metadata": {},
   "outputs": [],
   "source": [
    "from sklearn import tree\n",
    "import graphviz\n",
    "import pydotplus\n",
    "from PIL import Image"
   ]
  },
  {
   "cell_type": "markdown",
   "id": "61227bd7",
   "metadata": {},
   "source": [
    "# Creación de información para el árbol (reglas de decisión)"
   ]
  },
  {
   "cell_type": "code",
   "execution_count": 30,
   "id": "442c26c1",
   "metadata": {},
   "outputs": [],
   "source": [
    "class_names = ['drugA','drugB','drugC','drugX','drugY']\n",
    "dot_data = tree.export_graphviz(clf, out_file=None, feature_names=feature_cols, class_names=class_names)"
   ]
  },
  {
   "cell_type": "markdown",
   "id": "25d901fc",
   "metadata": {},
   "source": [
    "# Crear la gráfica del árbol."
   ]
  },
  {
   "cell_type": "code",
   "execution_count": 32,
   "id": "fcd746ce",
   "metadata": {},
   "outputs": [],
   "source": [
    "graph = pydotplus.graph_from_dot_data(dot_data)"
   ]
  },
  {
   "cell_type": "markdown",
   "id": "4805d936",
   "metadata": {},
   "source": [
    "# Creación del árbol en formato PDF"
   ]
  },
  {
   "cell_type": "code",
   "execution_count": 33,
   "id": "041f51e0",
   "metadata": {},
   "outputs": [
    {
     "data": {
      "text/plain": [
       "True"
      ]
     },
     "execution_count": 33,
     "metadata": {},
     "output_type": "execute_result"
    }
   ],
   "source": [
    "graph.write_pdf('farmacos.pd')"
   ]
  },
  {
   "cell_type": "markdown",
   "id": "79564a94",
   "metadata": {},
   "source": [
    "# Creación del árbol en formato PNG"
   ]
  },
  {
   "cell_type": "code",
   "execution_count": 34,
   "id": "a234e195",
   "metadata": {},
   "outputs": [
    {
     "data": {
      "text/plain": [
       "True"
      ]
     },
     "execution_count": 34,
     "metadata": {},
     "output_type": "execute_result"
    }
   ],
   "source": [
    "graph.write_png('farmacos.png')"
   ]
  },
  {
   "cell_type": "code",
   "execution_count": 35,
   "id": "d29d3936",
   "metadata": {},
   "outputs": [],
   "source": [
    "image=Image.open('farmacos.png')\n",
    "image.show()"
   ]
  },
  {
   "cell_type": "markdown",
   "id": "bdf9d24a",
   "metadata": {},
   "source": [
    "# 3) Explique verbalmente las reglas del árbol propuesto al momento de pronosticar."
   ]
  },
  {
   "cell_type": "code",
   "execution_count": null,
   "id": "7c2d5be7",
   "metadata": {},
   "outputs": [],
   "source": [
    "Al analizar el árbol obtenido se observa que el primer criterio corresponde al campo Na_to_K, si\n",
    "su valor es mayor a 14.83 el fármaco recomendado será el Y. Si el valor es menor o igual a 14.83\n",
    "entonces se observará el valor de la presión arterial, si es menor o igual 0.5, o sea, LOW se tendrá\n",
    "que ver el criterio de edad, si es menor o igual a 53 se recomienda el fármaco A, so es mayor entonces\n",
    "se recomienda el fármaco B. En caso de que la presión fuera MEDIUM o HIGH se recomienda el\n",
    "fármaco X."
   ]
  },
  {
   "cell_type": "markdown",
   "id": "80fa722d",
   "metadata": {},
   "source": [
    "# 4) ¿Qué medicamento recomendaría utilizar para un paciente con los siguientes datos? age: 50, sex: F, bp: HIGH, cholesterol: normal, na_to:k: 15.302"
   ]
  },
  {
   "cell_type": "code",
   "execution_count": null,
   "id": "80a7daf3",
   "metadata": {},
   "outputs": [],
   "source": [
    "Recodificando los valores cualitativos, los datos de entrada quedan: age: 50, sex: 1, bp: 2, choles-\n",
    "terol: 0, na_to:k: 15.302\n",
    "En este caso, según el árbol de decisión obtenido, el fármaco recomenado es el Y, dado que desde\n",
    "el primer nodo de decisión la condición 15.302 <= 14.839 es falsa"
   ]
  }
 ],
 "metadata": {
  "kernelspec": {
   "display_name": "Python 3 (ipykernel)",
   "language": "python",
   "name": "python3"
  },
  "language_info": {
   "codemirror_mode": {
    "name": "ipython",
    "version": 3
   },
   "file_extension": ".py",
   "mimetype": "text/x-python",
   "name": "python",
   "nbconvert_exporter": "python",
   "pygments_lexer": "ipython3",
   "version": "3.11.3"
  }
 },
 "nbformat": 4,
 "nbformat_minor": 5
}
