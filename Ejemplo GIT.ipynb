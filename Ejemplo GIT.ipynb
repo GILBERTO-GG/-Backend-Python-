{
 "cells": [
  {
   "cell_type": "code",
   "execution_count": 1,
   "id": "b43c320a",
   "metadata": {},
   "outputs": [
    {
     "name": "stdout",
     "output_type": "stream",
     "text": [
      "El resultado de la suma es:  15\n"
     ]
    }
   ],
   "source": [
    "# Archivo para agregar al repositorio\n",
    "\n",
    "# sume de dos números\n",
    "\n",
    "a= 5\n",
    "b=10\n",
    "c= a + b\n",
    "\n",
    "print(\"El resultado de la suma es: \", c)"
   ]
  }
 ],
 "metadata": {
  "kernelspec": {
   "display_name": "Python 3 (ipykernel)",
   "language": "python",
   "name": "python3"
  },
  "language_info": {
   "codemirror_mode": {
    "name": "ipython",
    "version": 3
   },
   "file_extension": ".py",
   "mimetype": "text/x-python",
   "name": "python",
   "nbconvert_exporter": "python",
   "pygments_lexer": "ipython3",
   "version": "3.11.3"
  }
 },
 "nbformat": 4,
 "nbformat_minor": 5
}
