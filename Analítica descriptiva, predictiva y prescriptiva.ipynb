{
 "cells": [
  {
   "cell_type": "markdown",
   "id": "dd9bd445",
   "metadata": {},
   "source": [
    "# La analítica de datos\n",
    "--La analítica es el análisis computacional sistemático de datos ó estadísticas.\n",
    "--Se utiliza para el descubrimiento, interpretación y comunicación de patrones significativos en los datos."
   ]
  },
  {
   "cell_type": "code",
   "execution_count": null,
   "id": "786a6dbc",
   "metadata": {},
   "outputs": [],
   "source": [
    "El objetivo de la analítica descriptiva es contestar a la pregunta ¿Qúe ha pasado? "
   ]
  },
  {
   "cell_type": "code",
   "execution_count": null,
   "id": "8a31ab12",
   "metadata": {},
   "outputs": [],
   "source": [
    "La analítica diagnóstica busca respuesta a la pregunta ¿Por qué ha pasado?"
   ]
  },
  {
   "cell_type": "code",
   "execution_count": null,
   "id": "e34d1177",
   "metadata": {},
   "outputs": [],
   "source": [
    "Una vez que se ha contestado la analítica predictiva quiere saber ¿Qué va a pasar?"
   ]
  },
  {
   "cell_type": "code",
   "execution_count": null,
   "id": "30018dc4",
   "metadata": {},
   "outputs": [],
   "source": [
    "La analítica prescriptiva plantea ¿Qué hacer para qué ocurra/ que NO ocurra?"
   ]
  },
  {
   "cell_type": "markdown",
   "id": "93347615",
   "metadata": {},
   "source": [
    "# Analítica Descriptiva\n",
    "*La analítica descriptiva se ocupa de estudiar el pasado.\n",
    "*Consiste en almacenar y realizar agregaciones de datos históricos, visualizándolos de forma que puedan ayudar a la \n",
    " comprensión del estado actual y pasado del negocio.\n",
    " \n",
    " SE PRETENDE DAR RESPUESTA AL ¿QUÉ SUCEDIÓ?"
   ]
  },
  {
   "cell_type": "code",
   "execution_count": null,
   "id": "224f4ae3",
   "metadata": {},
   "outputs": [],
   "source": [
    "--Es una etapa preeliminar del procesamiento de datos, que consiste en la recopilación y el ordenamiento de datos\n",
    "  históricos, por medio de recursos visuales con el propósito de comprender como ha cambiado el negocio dentro de un \n",
    "  intervalo de tiempo, permitiendo identificar tendencias y relaciones entre variables que ayudan a las empresas a tomar \n",
    "  mejores decisiones.\n",
    "--La analítica descriptiva ayuda a las organizaciones tanto para identificar las preferencias y comportamiento de los\n",
    "  clientes, como para rastrear el progreso hacia las metas, ayudando a los investigadores a comprender si los puestos \n",
    "  van por un buen camino o si es necesario realizar ajustes."
   ]
  },
  {
   "cell_type": "markdown",
   "id": "527c9bc6",
   "metadata": {},
   "source": [
    "# Analítica Diagnóstica\n",
    "--La analítica diagnóstica, profundiza e identifica patrones que pueden dar respuestas detalladas sobre una interrogante en \n",
    "  particular.\n",
    "  \n",
    "ENTENDER EL ¿POR QUÉ SUCEDIÓ ALGO?  "
   ]
  },
  {
   "cell_type": "markdown",
   "id": "5dc61f7b",
   "metadata": {},
   "source": [
    "# Analítica Predictiva\n",
    "--La analítica predictiva hace predicciones sobre resultados futuros. Analiza los patrones de datos actuales e históricos\n",
    "  para determinar si es probable que esos patrones vuelvan a surgir.\n",
    "--Además combina modelos estadísticos, técnicas de minería de datos y aprendizaje automático.\n",
    "\n",
    "PERMITE IDENTIFICAR LO QUE \"PROBABLEMENTE PUEDE SUCEDER\""
   ]
  },
  {
   "cell_type": "markdown",
   "id": "f96e4319",
   "metadata": {},
   "source": [
    "# Analítica Prescriptiva\n",
    "--El propósito de la analítica prescriptiva es prescribir literalmente que acción tomar para eliminar un problema futuro ó\n",
    "  aprovechar al máximo una tendencia prometedora.\n",
    "--Básicamente, utiliza simulación y optimización para preguntar ¿Qué debe hacer una empresa?\n",
    "\n",
    "NOS PRESCRIBE SOBRE \"QUE ACCIÓN TOMAR\" PARA EL FUTURO. "
   ]
  },
  {
   "cell_type": "markdown",
   "id": "aa9c123d",
   "metadata": {},
   "source": [
    "# ¿QUÉ ES EL BIG DATA Y PARA QUÉ SIRVE?"
   ]
  },
  {
   "cell_type": "code",
   "execution_count": null,
   "id": "8cb14f4b",
   "metadata": {},
   "outputs": [],
   "source": [
    "BIG DATA es también conocido como:\n",
    "                                  *MACRODATOS\n",
    "                                  *DATOS MASIVOS\n",
    "                                  *GRAN ESCALA\n",
    "                \n",
    "BIG DATA es un término que hace referencia a una cantidad de datos tal que supera la capacidad del software convencional,\n",
    "ésto para ser capturados, administrados y procesados en un tiempo razonable. Realmente el término BIG DATA tiende a \n",
    "referirse al análisis del comportamiento del usuario extrayendo el valor de los datos almacenados y formulando \n",
    "predicciones a través de los patrones observados.\n",
    "\n",
    "\n",
    "CATEGORIA 1 = Datos son generados por las propias personas (correos electrónicos, whatsapp, facebook, etc).       \n",
    "\n",
    "CATEGORIA 2 = Datos son obtenidos a partir de transacciones (facturación, llamadas telefónicas, accesos a redes wifi).\n",
    "\n",
    "CATEGORIA 3 = mercadotecnia electrónica.\n",
    "\n",
    "CATEGORIA 4 = Datos obtenidos a partir de las interacciones máquina - máquina (medidores, sensores de temperatura, luz, \n",
    "              altura, presión, sonido).\n",
    "\n",
    "CATEGORIA 5 = Datos biométricos (lectores biométricos, escaner de retina, escaner de huella digital, lectores de cadena\n",
    "                                de ADN).\n",
    "\n",
    "Para que BIG DATA tenga valor, es necesario dar un formato adecuado, aquí entran en juego las plataformas ETL (Extract,\n",
    "Transform,Load)  Extraer, Transformar y Cargar.\n",
    "\n",
    "Por otro lado, toda la información procesada puede presentarse en infografías donde se recojen los resultados de los \n",
    "diferentes análisis sobre diferentes datos y esos son un material atractivo, entretenido y simplificado para\n",
    "audiencias masivas."
   ]
  },
  {
   "cell_type": "markdown",
   "id": "ce30212a",
   "metadata": {},
   "source": [
    "# ¿Qué son los pipelines de datos?"
   ]
  },
  {
   "cell_type": "code",
   "execution_count": null,
   "id": "c7e57440",
   "metadata": {},
   "outputs": [],
   "source": [
    "Los pipelines de datos toman los datos sin procesar, los enrutan hacia un emplazamiento de almacenamiento adecuado y los \n",
    "transforman en información práctica"
   ]
  },
  {
   "cell_type": "markdown",
   "id": "8c4d9dac",
   "metadata": {},
   "source": [
    "# Data Analyst ó Analista de Datos"
   ]
  },
  {
   "cell_type": "code",
   "execution_count": null,
   "id": "6d77f128",
   "metadata": {},
   "outputs": [],
   "source": [
    "Trabaja con datos estructurados y datos NO estructurados para ayudar a las empresas a tomar mejores decisiones. Realiza\n",
    "Análisis de Datos para comprender que está sucediendo en el negocio y como se pueden mejorar los resultados.\n",
    "HERRAMIENTAS:\n",
    "    **Los analistas de datos se suelen centrar en crear visualizaciones e informes, por eso utilizan hojas de cálculo y \n",
    "      programas de BI(Power BI, Tableau). También deben saber SQL para acceder a las Bases de Datos y aunque los analistas\n",
    "      no suelen saber programar a veces lo hacen para hacer análisis más complejos."
   ]
  },
  {
   "cell_type": "markdown",
   "id": "6e0a48ad",
   "metadata": {},
   "source": [
    "# Data Scientist ó Científico de Datos"
   ]
  },
  {
   "cell_type": "code",
   "execution_count": null,
   "id": "1908f11e",
   "metadata": {},
   "outputs": [],
   "source": [
    "Trabaja con datos para descubrir patrones ó insights(perspectivas) ocultos. Utilizan técnicas de estadística, de Machine\n",
    "Learning para extraer información valiosa de los datos. Utilizan varias técnicas, incluido el aprendizaje automático ó\n",
    "Machine Learning, técnicas de estadística y minería de datos para encontrar e interpretar patrones en los datos.\n",
    "HERRAMIENTAS:\n",
    "      **Los científicos de datos si suelen saber programar(utilizan Python ó R ) para crear modelos de aprendizaje \n",
    "        automático, que utilizarán para predecir datos útiles para el negocio.\n",
    "      **Las habilidades de un científico se pueden resumir con un diagrama de Venn donde se juntan las habilidades de las\n",
    "        Ciencias de la Computación, matemáticas y estadística y las habilidades del negocio."
   ]
  },
  {
   "cell_type": "markdown",
   "id": "3afddc01",
   "metadata": {},
   "source": [
    "# Data engineer ó Ingeniero de Datos"
   ]
  },
  {
   "cell_type": "code",
   "execution_count": null,
   "id": "0a9067f4",
   "metadata": {},
   "outputs": [],
   "source": [
    "Trabaja con datos para construir y mantener sistemas de almacenamiento y procesamiento de datos, diseña y desarrolla \n",
    "sistemas para recopilar, limpiar, transformar y almacenar los datos.\n",
    "HERRAMIENTAS:\n",
    "      **Son programadores que se especializan en herramientas que procesan datos (sean de datos masivos ó datos no masivos).\n",
    "      **Suelen trabajar con herramientas Cloud (AWS, AZURE, GOOGLE CLOUD PLATFORM).  "
   ]
  }
 ],
 "metadata": {
  "kernelspec": {
   "display_name": "Python 3 (ipykernel)",
   "language": "python",
   "name": "python3"
  },
  "language_info": {
   "codemirror_mode": {
    "name": "ipython",
    "version": 3
   },
   "file_extension": ".py",
   "mimetype": "text/x-python",
   "name": "python",
   "nbconvert_exporter": "python",
   "pygments_lexer": "ipython3",
   "version": "3.11.3"
  }
 },
 "nbformat": 4,
 "nbformat_minor": 5
}
