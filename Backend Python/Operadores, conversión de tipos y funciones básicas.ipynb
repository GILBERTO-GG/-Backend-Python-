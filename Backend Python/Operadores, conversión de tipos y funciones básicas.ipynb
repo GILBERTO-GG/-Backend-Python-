{
 "cells": [
  {
   "cell_type": "markdown",
   "id": "fb3da98a",
   "metadata": {},
   "source": [
    "# OPERADORES y tipos de operadores\n"
   ]
  },
  {
   "cell_type": "markdown",
   "id": "3bad60ff",
   "metadata": {},
   "source": [
    "# ¿Qué son los operadores?"
   ]
  },
  {
   "cell_type": "code",
   "execution_count": null,
   "id": "35fd34b1",
   "metadata": {},
   "outputs": [],
   "source": [
    "--Son un conjunto de símbolos para un lenguaje de programación.\n",
    "\n",
    "--Pueden decirle al compilador o intérprete que ejecute ciertas acciones para producir un resultado final.\n",
    "\n",
    "--Pueden ser usados para aplicar operaciones en variables o valores.\n",
    "\n",
    "--Pueden ser clasificados según su tipo (aritméticos, relacionales, de asignación, de decremento, lógicos, afiliación, \n",
    "  y de identidad)."
   ]
  },
  {
   "cell_type": "code",
   "execution_count": null,
   "id": "bc2bddf1",
   "metadata": {},
   "outputs": [],
   "source": [
    " Tipos de Operadores:\n",
    "        \n",
    "--Aritméticos\n",
    "--Relacionales\n",
    "--De asignación\n",
    "--Lógicos\n",
    "--De afiliación\n",
    "--De identidad"
   ]
  },
  {
   "cell_type": "markdown",
   "id": "27e52b77",
   "metadata": {},
   "source": [
    "# Operadores Aritméticos\n",
    "+  suma\n",
    "\n",
    "- resta \n",
    "\n",
    "* multiplicación\n",
    "\n",
    "/ división\n",
    "\n",
    "// división especial con redondeo hacia abajo\n",
    "\n",
    "** exponente\n"
   ]
  },
  {
   "cell_type": "code",
   "execution_count": 4,
   "id": "68d492cc",
   "metadata": {},
   "outputs": [
    {
     "name": "stdout",
     "output_type": "stream",
     "text": [
      "El resultado de num1 +num2 es:  800\n"
     ]
    }
   ],
   "source": [
    "# + SUMA\n",
    "\n",
    "num1 = 500\n",
    "num2 = 300\n",
    "print(\"El resultado de num1 + num2 es: \", num1 + num2)\n"
   ]
  },
  {
   "cell_type": "code",
   "execution_count": 5,
   "id": "948b508f",
   "metadata": {},
   "outputs": [
    {
     "name": "stdout",
     "output_type": "stream",
     "text": [
      "El resultado de num1 - num2 es:  200\n"
     ]
    }
   ],
   "source": [
    "# - RESTA\n",
    "\n",
    "num1 = 500\n",
    "num2 = 300\n",
    "print(\"El resultado de num1 - num2 es: \", num1 - num2)"
   ]
  },
  {
   "cell_type": "code",
   "execution_count": 7,
   "id": "e9779b60",
   "metadata": {},
   "outputs": [
    {
     "name": "stdout",
     "output_type": "stream",
     "text": [
      "El resultado de num1 * num2 es:  20\n"
     ]
    }
   ],
   "source": [
    "# * MULTIPLICACION\n",
    "\n",
    "num1 = 5\n",
    "num2 = 4\n",
    "print(\"El resultado de num1 * num2 es: \", num1 * num2)"
   ]
  },
  {
   "cell_type": "code",
   "execution_count": 8,
   "id": "aa94a2fe",
   "metadata": {},
   "outputs": [
    {
     "name": "stdout",
     "output_type": "stream",
     "text": [
      "El resultado de num1 / num2 es:  5.0\n"
     ]
    }
   ],
   "source": [
    "# /  DIVISION\n",
    "\n",
    "num1 = 25\n",
    "num2 = 5\n",
    "print(\"El resultado de num1 / num2 es: \", num1 / num2)"
   ]
  },
  {
   "cell_type": "code",
   "execution_count": 9,
   "id": "d5f71441",
   "metadata": {},
   "outputs": [
    {
     "name": "stdout",
     "output_type": "stream",
     "text": [
      "El resultado de num1 // num2 es:   2\n"
     ]
    }
   ],
   "source": [
    "#  //    DIVISION CON REDONDEO HACIA ABAJO, LA PARTE ENTERA DEL RESULTADO\n",
    "\n",
    "num1 = 5\n",
    "num2 = 2\n",
    "print(\"El resultado de num1 // num2 es:  \", num1 // num2)"
   ]
  },
  {
   "cell_type": "code",
   "execution_count": 10,
   "id": "38380d18",
   "metadata": {},
   "outputs": [
    {
     "name": "stdout",
     "output_type": "stream",
     "text": [
      "El resultado de num1 ** num2 es:   32\n"
     ]
    }
   ],
   "source": [
    "#  ** EXPONENTE\n",
    "\n",
    "num1 = 2\n",
    "num2 = 5\n",
    "\n",
    "print(\"El resultado de num1 ** num2 es:  \", num1 ** num2)"
   ]
  },
  {
   "cell_type": "markdown",
   "id": "fb4bb1cd",
   "metadata": {},
   "source": [
    "# Operadores Relacionales\n"
   ]
  },
  {
   "cell_type": "markdown",
   "id": "76e0eab6",
   "metadata": {},
   "source": [
    "# ¿Que son los operadores relacionales?"
   ]
  },
  {
   "cell_type": "code",
   "execution_count": null,
   "id": "956fe472",
   "metadata": {},
   "outputs": [],
   "source": [
    "--Son también conocidos como operadores de comparación\n",
    "--Regresan un valor booleano (verdadero o falso)\n",
    "--En Python, son usados para comparar o relacionar los valores\n",
    "--Verdadero(True), es el resultado cuando la condición es exitosa\n",
    "--Falso(False), es el resultado cuando la condición no se cumple.\n",
    "--Estos operadores se encargan de las operaciones de comparación"
   ]
  },
  {
   "cell_type": "markdown",
   "id": "5bc5696f",
   "metadata": {},
   "source": [
    "# Tipos de Operadores Relacionales"
   ]
  },
  {
   "cell_type": "code",
   "execution_count": null,
   "id": "45cfd9ab",
   "metadata": {},
   "outputs": [],
   "source": [
    " ==   igual a\n",
    "    \n",
    "!=  diferente a\n",
    "\n",
    ">  mayor que              >=  mayor o igual que\n",
    "\n",
    "<   menor que             <=  menor o igual que  \n"
   ]
  },
  {
   "cell_type": "code",
   "execution_count": 11,
   "id": "fa279ac0",
   "metadata": {},
   "outputs": [
    {
     "name": "stdout",
     "output_type": "stream",
     "text": [
      "el resultado de num1 == num2 es:  False\n"
     ]
    }
   ],
   "source": [
    "##  IGUAL A\n",
    "\n",
    "num1 = 570      # asignación\n",
    "num2 = 420\n",
    "print(\"el resultado de num1 == num2 es: \", num1 == num2)"
   ]
  },
  {
   "cell_type": "code",
   "execution_count": 12,
   "id": "bfa122e8",
   "metadata": {},
   "outputs": [
    {
     "name": "stdout",
     "output_type": "stream",
     "text": [
      "el resultado de num1 == num2 es:  True\n"
     ]
    }
   ],
   "source": [
    "num1 = 420      # asignación\n",
    "num2 = 420\n",
    "print(\"el resultado de num1 == num2 es: \", num1 == num2)"
   ]
  },
  {
   "cell_type": "code",
   "execution_count": 13,
   "id": "55505014",
   "metadata": {},
   "outputs": [
    {
     "name": "stdout",
     "output_type": "stream",
     "text": [
      "el resultado de str_1 == str_2 es:  True\n"
     ]
    }
   ],
   "source": [
    "str_1 = \"Backend Python\"            # asignación \n",
    "str_2 = \"Backend Python\"\n",
    "print(\"el resultado de str_1 == str_2 es: \", str_1 == str_2)"
   ]
  },
  {
   "cell_type": "code",
   "execution_count": 14,
   "id": "03bebf96",
   "metadata": {},
   "outputs": [
    {
     "name": "stdout",
     "output_type": "stream",
     "text": [
      "el resultado de str_1 == str_2 es:  False\n"
     ]
    }
   ],
   "source": [
    "str_1 = \"Backend python\"            # asignación \n",
    "str_2 = \"Backend Python\"\n",
    "print(\"el resultado de str_1 == str_2 es: \", str_1 == str_2)"
   ]
  },
  {
   "cell_type": "code",
   "execution_count": 15,
   "id": "c85d402e",
   "metadata": {},
   "outputs": [
    {
     "name": "stdout",
     "output_type": "stream",
     "text": [
      "el resultado de num1 != num2 es:  True\n"
     ]
    }
   ],
   "source": [
    "##    !=      Diferente a \n",
    "\n",
    "num1 = 570     # asignación\n",
    "num2 = 420\n",
    "print(\"el resultado de num1 != num2 es: \", num1 != num2)"
   ]
  },
  {
   "cell_type": "markdown",
   "id": "d0a5d205",
   "metadata": {},
   "source": [
    "# Operadores de Asignación"
   ]
  },
  {
   "cell_type": "markdown",
   "id": "e8cc9295",
   "metadata": {},
   "source": [
    "# ¿Que son los operadores de asignación?"
   ]
  },
  {
   "cell_type": "code",
   "execution_count": null,
   "id": "8f8bdf6e",
   "metadata": {},
   "outputs": [],
   "source": [
    "--En Python son usados para asignar valores a variables.\n",
    "--Incluyen al operador de asignación que es el signo de igual (=).\n",
    "\n",
    "Tipos de operadores de Asignación:\n",
    "    \n",
    "    --   \"  =  \"      Operador de Asignación \n",
    "    --   \"  +=  \"     Sumar y Asignar\n",
    "    --   \"  -=  \"     restar y Asignar\n",
    "    --   \"  *=  \"     Multiplicar y Asignar\n",
    "    --   \"  /=  \"     Dividir y asignar\n",
    "    --   \"  //  \"     Dividir con redondeo hacia abajo y asignar\n",
    "    --   \"  %=  \"     Módulo y asignar\n",
    "    --   \"  **= \"     Exponente y asignar"
   ]
  },
  {
   "cell_type": "code",
   "execution_count": 1,
   "id": "600defc5",
   "metadata": {},
   "outputs": [
    {
     "data": {
      "text/plain": [
       "9"
      ]
     },
     "execution_count": 1,
     "metadata": {},
     "output_type": "execute_result"
    }
   ],
   "source": [
    "#   =    Asignación\n",
    "\n",
    "num1 = 5\n",
    "num2 = 4\n",
    "num1 + num2"
   ]
  },
  {
   "cell_type": "code",
   "execution_count": 2,
   "id": "b5b1834c",
   "metadata": {},
   "outputs": [
    {
     "name": "stdout",
     "output_type": "stream",
     "text": [
      "num1 antes de la operación:   20\n",
      "num1 después de la operación:   23\n"
     ]
    }
   ],
   "source": [
    "num1 = 20\n",
    "num2 = 3\n",
    "print(\"num1 antes de la operación:  \", num1)\n",
    "num1 += num2      # num1 = num1 + num2\n",
    "print(\"num1 después de la operación:  \", num1)"
   ]
  },
  {
   "cell_type": "code",
   "execution_count": 3,
   "id": "55076dca",
   "metadata": {},
   "outputs": [
    {
     "name": "stdout",
     "output_type": "stream",
     "text": [
      "num1 antes de la operación:   20\n",
      "num1 después de la operación:   17\n"
     ]
    }
   ],
   "source": [
    "num1 = 20\n",
    "num2 = 3\n",
    "print(\"num1 antes de la operación:  \", num1)\n",
    "num1 -= num2      # num1 = num1 - num2\n",
    "print(\"num1 después de la operación:  \", num1)"
   ]
  },
  {
   "cell_type": "code",
   "execution_count": 4,
   "id": "baeec617",
   "metadata": {},
   "outputs": [
    {
     "name": "stdout",
     "output_type": "stream",
     "text": [
      "num1 antes de la operación:   20\n",
      "num1 después de la operación:   60\n"
     ]
    }
   ],
   "source": [
    "num1 = 20\n",
    "num2 = 3\n",
    "print(\"num1 antes de la operación:  \", num1)\n",
    "num1 *= num2      # num1 = num1 * num2\n",
    "print(\"num1 después de la operación:  \", num1)"
   ]
  },
  {
   "cell_type": "code",
   "execution_count": 5,
   "id": "b1d0a151",
   "metadata": {},
   "outputs": [
    {
     "name": "stdout",
     "output_type": "stream",
     "text": [
      "num1 antes de la operación:   20\n",
      "num1 después de la operación:   6.666666666666667\n"
     ]
    }
   ],
   "source": [
    "num1 = 20\n",
    "num2 = 3\n",
    "print(\"num1 antes de la operación:  \", num1)\n",
    "num1 /= num2      # num1 = num1 / num2\n",
    "print(\"num1 después de la operación:  \", num1)"
   ]
  },
  {
   "cell_type": "code",
   "execution_count": 7,
   "id": "1e8a4d1f",
   "metadata": {},
   "outputs": [
    {
     "name": "stdout",
     "output_type": "stream",
     "text": [
      "num1 antes de la operación:   20\n",
      "num1 después de la operación:   6\n"
     ]
    }
   ],
   "source": [
    "num1 = 20\n",
    "num2 = 3\n",
    "print(\"num1 antes de la operación:  \", num1)\n",
    "num1 //= num2      # num1 = num1 //= num2\n",
    "print(\"num1 después de la operación:  \", num1)"
   ]
  },
  {
   "cell_type": "code",
   "execution_count": 8,
   "id": "db61dead",
   "metadata": {},
   "outputs": [
    {
     "name": "stdout",
     "output_type": "stream",
     "text": [
      "num1 antes de la operación:   20\n",
      "num1 después de la operación:   2\n"
     ]
    }
   ],
   "source": [
    "# Módulo .-  El número que queda después de haber dividido, residuo\n",
    "\n",
    "num1 = 20\n",
    "num2 = 3\n",
    "print(\"num1 antes de la operación:  \", num1)\n",
    "num1 %= num2      # num1 = num1 %= num2\n",
    "print(\"num1 después de la operación:  \", num1)"
   ]
  },
  {
   "cell_type": "code",
   "execution_count": 9,
   "id": "4593d9f3",
   "metadata": {},
   "outputs": [
    {
     "name": "stdout",
     "output_type": "stream",
     "text": [
      "num1 antes de la operación:   20\n",
      "num1 después de la operación:   8000\n"
     ]
    }
   ],
   "source": [
    "#  exponente\n",
    "\n",
    "num1 = 20\n",
    "num2 = 3\n",
    "print(\"num1 antes de la operación:  \", num1)\n",
    "num1 **= num2      # num1 = num1 **= num2                      ------------>   20  *  20  *  20\n",
    "print(\"num1 después de la operación:  \", num1)"
   ]
  },
  {
   "cell_type": "markdown",
   "id": "9f42d2fd",
   "metadata": {},
   "source": [
    "# Operadores Lógicos"
   ]
  },
  {
   "cell_type": "markdown",
   "id": "f238fd74",
   "metadata": {},
   "source": [
    "# ¿Qué son los operadores Lógicos ?"
   ]
  },
  {
   "cell_type": "code",
   "execution_count": null,
   "id": "91622acb",
   "metadata": {},
   "outputs": [],
   "source": [
    "--Son usados principalmente para declaraciones condicionales.\n",
    "--Son indicadores estructurales.\n",
    "--También se les conoce como conectores lógicos.\n",
    "--Hay 3 tipos de operadores lógicos:\n",
    "    \n",
    "    --AND  (y)     -regresa True si ambas operaciones son verdaderas.\n",
    "    --OR   (o)     -regresa True si por lo menos una de las operaciones es verdadera.\n",
    "    --NOT  (lo opuesto)   -- regresa True o verdadero si la operación es False"
   ]
  },
  {
   "cell_type": "markdown",
   "id": "6f78fb58",
   "metadata": {},
   "source": [
    "# AND \n",
    "#Todas las condiciones deben de ser verdaderas."
   ]
  },
  {
   "cell_type": "code",
   "execution_count": 12,
   "id": "76d8a502",
   "metadata": {},
   "outputs": [
    {
     "name": "stdout",
     "output_type": "stream",
     "text": [
      "num1 <= num2 and num1 != num2   ---->  True\n"
     ]
    }
   ],
   "source": [
    "num1 = 11\n",
    "num2 = 55\n",
    "\n",
    "print(\"num1 <= num2 and num1 != num2   ----> \", num1 <= num2 and num1 != num2)"
   ]
  },
  {
   "cell_type": "code",
   "execution_count": 13,
   "id": "8da393ae",
   "metadata": {},
   "outputs": [
    {
     "name": "stdout",
     "output_type": "stream",
     "text": [
      "num1 <= num2 and num1 != num2   ---->  False\n"
     ]
    }
   ],
   "source": [
    "num1 = 11\n",
    "num2 = 11\n",
    "\n",
    "print(\"num1 <= num2 and num1 != num2   ----> \", num1 <= num2 and num1 != num2)"
   ]
  },
  {
   "cell_type": "markdown",
   "id": "c676bbdf",
   "metadata": {},
   "source": [
    "# OR\n",
    "con que una de las condiciones se cumpla regresa TRUE"
   ]
  },
  {
   "cell_type": "code",
   "execution_count": 14,
   "id": "d5881174",
   "metadata": {},
   "outputs": [
    {
     "name": "stdout",
     "output_type": "stream",
     "text": [
      "num1 <= num2 or num1 != num2   ---->  True\n"
     ]
    }
   ],
   "source": [
    "num1 = 11\n",
    "num2 = 55\n",
    "\n",
    "print(\"num1 <= num2 or num1 != num2   ----> \", num1 <= num2 or num1 != num2)"
   ]
  },
  {
   "cell_type": "code",
   "execution_count": 15,
   "id": "9d10b02e",
   "metadata": {},
   "outputs": [
    {
     "name": "stdout",
     "output_type": "stream",
     "text": [
      "num1 <= num2 or num1 != num2   ---->  True\n"
     ]
    }
   ],
   "source": [
    "num1 = 11\n",
    "num2 = 11\n",
    "\n",
    "print(\"num1 <= num2 or num1 != num2   ----> \", num1 <= num2 or num1 != num2)"
   ]
  },
  {
   "cell_type": "markdown",
   "id": "08292e51",
   "metadata": {},
   "source": [
    "# NOT \n",
    "Lo opuesto"
   ]
  },
  {
   "cell_type": "code",
   "execution_count": 20,
   "id": "4cbb7eaf",
   "metadata": {},
   "outputs": [
    {
     "name": "stdout",
     "output_type": "stream",
     "text": [
      "not (num1 <= num2):    -------->    False\n"
     ]
    }
   ],
   "source": [
    "num1 = 11\n",
    "num2 = 55\n",
    "\n",
    "print(\"not (num1 <= num2):    -------->   \",not (num1 <= num2))"
   ]
  },
  {
   "cell_type": "markdown",
   "id": "5bad0f1d",
   "metadata": {},
   "source": [
    "# Operadores de Afiliación \n",
    "¿Qué son los operadores de afiliación?"
   ]
  },
  {
   "cell_type": "code",
   "execution_count": null,
   "id": "cb39bbf2",
   "metadata": {},
   "outputs": [],
   "source": [
    "--Son usados para validar los elementos en listas, cadenas y tuplas.\n",
    "--Validan si una variable está presente en una secuencia.\n",
    "--Regresan un valor booleano con el resultado que puede ser TRUE ó FALSE.\n",
    "--Regresan TRUE si el valor está presente en la secuencia\n",
    "--Regresan FALSE si el valor no está presente en la secuencia.\n",
    "--Hay 2 operadores de afiliación:\n",
    "    \n",
    "    IN   ------>  El valor está en la secuencia\n",
    "    NOT IN ---->  El valor no está  en la secuencia"
   ]
  },
  {
   "cell_type": "markdown",
   "id": "3ff55df9",
   "metadata": {},
   "source": [
    "#   IN    ¿El valor está presente en la secuencia?"
   ]
  },
  {
   "cell_type": "code",
   "execution_count": 22,
   "id": "84e9adcf",
   "metadata": {},
   "outputs": [
    {
     "name": "stdout",
     "output_type": "stream",
     "text": [
      " 'a' in my_string: ------>   True\n"
     ]
    }
   ],
   "source": [
    "my_string = \"Backend Python\"\n",
    "print(\" 'a' in my_string: ------>  \", 'a' in my_string)"
   ]
  },
  {
   "cell_type": "code",
   "execution_count": 23,
   "id": "e5fe8b01",
   "metadata": {},
   "outputs": [
    {
     "name": "stdout",
     "output_type": "stream",
     "text": [
      " 'a' in my_string: ------>   False\n"
     ]
    }
   ],
   "source": [
    "my_string = \"Backend Python\"\n",
    "print(\" 'a' in my_string: ------>  \", 'z' in my_string)"
   ]
  },
  {
   "cell_type": "code",
   "execution_count": 24,
   "id": "02a8ac63",
   "metadata": {},
   "outputs": [
    {
     "name": "stdout",
     "output_type": "stream",
     "text": [
      "5 in my_list:   ------>   False\n"
     ]
    }
   ],
   "source": [
    "my_list = [1, 154, 321, 22, 11]\n",
    "print(\"5 in my_list:   ------>  \",  5 in my_list)"
   ]
  },
  {
   "cell_type": "code",
   "execution_count": 25,
   "id": "76f56d1e",
   "metadata": {},
   "outputs": [
    {
     "name": "stdout",
     "output_type": "stream",
     "text": [
      "5 in my_list:   ------>   True\n"
     ]
    }
   ],
   "source": [
    "my_list = [1, 154, 321, 22, 11]\n",
    "print(\"5 in my_list:   ------>  \",  154 in my_list)"
   ]
  },
  {
   "cell_type": "code",
   "execution_count": 27,
   "id": "4940a808",
   "metadata": {},
   "outputs": [
    {
     "name": "stdout",
     "output_type": "stream",
     "text": [
      "5 in my_set:   ------>   True\n"
     ]
    }
   ],
   "source": [
    "my_set = {1, 154, 321, 22, 11, 5}\n",
    "print(\"5 in my_set:   ------>  \",  5 in my_set)"
   ]
  },
  {
   "cell_type": "code",
   "execution_count": 28,
   "id": "52103c8a",
   "metadata": {},
   "outputs": [
    {
     "data": {
      "text/plain": [
       "{1, 5, 11, 22, 154, 321}"
      ]
     },
     "execution_count": 28,
     "metadata": {},
     "output_type": "execute_result"
    }
   ],
   "source": [
    "my_set"
   ]
  },
  {
   "cell_type": "code",
   "execution_count": null,
   "id": "89fa217f",
   "metadata": {},
   "outputs": [],
   "source": [
    "# NOT IN  ¿El valor no está presente en la secuencia?\n"
   ]
  },
  {
   "cell_type": "code",
   "execution_count": 29,
   "id": "32835dbd",
   "metadata": {},
   "outputs": [
    {
     "name": "stdout",
     "output_type": "stream",
     "text": [
      " 'a' not in my_string: ------>   False\n"
     ]
    }
   ],
   "source": [
    "my_string = \"Backend Python\"\n",
    "print(\" 'a' not in my_string: ------>  \", 'a' not in my_string)"
   ]
  },
  {
   "cell_type": "code",
   "execution_count": 30,
   "id": "90b06d24",
   "metadata": {},
   "outputs": [
    {
     "name": "stdout",
     "output_type": "stream",
     "text": [
      " 'a' not in my_string: ------>   True\n"
     ]
    }
   ],
   "source": [
    "my_string = \"Backend Python\"\n",
    "print(\" 'a' not in my_string: ------>  \", 'z' not in my_string)"
   ]
  },
  {
   "cell_type": "markdown",
   "id": "b66a1da8",
   "metadata": {},
   "source": [
    "# Operadores de Identidad"
   ]
  },
  {
   "cell_type": "markdown",
   "id": "920809ee",
   "metadata": {},
   "source": [
    "# ¿Qué son los operadores de identidad?"
   ]
  },
  {
   "cell_type": "code",
   "execution_count": null,
   "id": "c9c9cc21",
   "metadata": {},
   "outputs": [],
   "source": [
    "--Son usados para comparar la ubicación en memoria de dos objetos.\n",
    "--Se utilizan para validar si los valores comparten el mismo espacio en memoria o no\n",
    "--Regresa TRUE si lo comparten, y FALSE si no lo comparten.\n",
    "--Hay 2 operadores de identidad:\n",
    "    \n",
    "    \n",
    "    --IS \n",
    "    --IS  NOT"
   ]
  },
  {
   "cell_type": "code",
   "execution_count": 32,
   "id": "38bd39ac",
   "metadata": {},
   "outputs": [
    {
     "name": "stdout",
     "output_type": "stream",
     "text": [
      "num_1 is num_2:   ----->    False\n"
     ]
    }
   ],
   "source": [
    "num_1 = 11\n",
    "num_2 = 55\n",
    "\n",
    "print(\"num_1 is num_2:   ----->   \" , num_1 is num_2)"
   ]
  },
  {
   "cell_type": "code",
   "execution_count": 33,
   "id": "6c1d9fc6",
   "metadata": {},
   "outputs": [
    {
     "name": "stdout",
     "output_type": "stream",
     "text": [
      "num_1 is num_2:   ----->    True\n"
     ]
    }
   ],
   "source": [
    "num_1 = 77\n",
    "num_2 = 77\n",
    "\n",
    "print(\"num_1 is num_2:   ----->   \" , num_1 is num_2)"
   ]
  },
  {
   "cell_type": "code",
   "execution_count": 34,
   "id": "62cf8d2b",
   "metadata": {},
   "outputs": [
    {
     "name": "stdout",
     "output_type": "stream",
     "text": [
      "num_1 is not num_2:   ----->    True\n"
     ]
    }
   ],
   "source": [
    "# IS NOT\n",
    "\n",
    "num_1 = 11\n",
    "num_2 = 55\n",
    "\n",
    "print(\"num_1 is not num_2:   ----->   \" , num_1 is not num_2)"
   ]
  },
  {
   "cell_type": "code",
   "execution_count": 35,
   "id": "04448e06",
   "metadata": {},
   "outputs": [
    {
     "name": "stdout",
     "output_type": "stream",
     "text": [
      "num_1 is not num_2:   ----->    False\n"
     ]
    }
   ],
   "source": [
    "num_1 = 77\n",
    "num_2 = 77\n",
    "\n",
    "print(\"num_1 is not num_2:   ----->   \" , num_1 is not num_2)"
   ]
  }
 ],
 "metadata": {
  "kernelspec": {
   "display_name": "Python 3 (ipykernel)",
   "language": "python",
   "name": "python3"
  },
  "language_info": {
   "codemirror_mode": {
    "name": "ipython",
    "version": 3
   },
   "file_extension": ".py",
   "mimetype": "text/x-python",
   "name": "python",
   "nbconvert_exporter": "python",
   "pygments_lexer": "ipython3",
   "version": "3.11.3"
  }
 },
 "nbformat": 4,
 "nbformat_minor": 5
}
