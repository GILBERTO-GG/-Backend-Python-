{
 "cells": [
  {
   "cell_type": "markdown",
   "id": "b67cbb7a",
   "metadata": {},
   "source": [
    "# Diferentes formas de crear tuplas"
   ]
  },
  {
   "cell_type": "code",
   "execution_count": 1,
   "id": "62210d42",
   "metadata": {},
   "outputs": [
    {
     "name": "stdout",
     "output_type": "stream",
     "text": [
      "<class 'tuple'>\n",
      "('Carlos', 'Test', 3000, 15.79)\n"
     ]
    }
   ],
   "source": [
    "my_tuple = (\"Carlos\", \"Test\", 3000, 15.79)\n",
    "print(type(my_tuple))\n",
    "print(my_tuple)"
   ]
  },
  {
   "cell_type": "code",
   "execution_count": 2,
   "id": "8b696b62",
   "metadata": {},
   "outputs": [
    {
     "name": "stdout",
     "output_type": "stream",
     "text": [
      "<class 'tuple'>\n",
      "('Carlos', 'Test', 3000, 15.79)\n"
     ]
    }
   ],
   "source": [
    "my_tuple = \"Carlos\", \"Test\", 3000, 15.79                      # sin paréntesis\n",
    "print(type(my_tuple))\n",
    "print(my_tuple)"
   ]
  },
  {
   "cell_type": "code",
   "execution_count": 3,
   "id": "9faf4342",
   "metadata": {},
   "outputs": [
    {
     "name": "stdout",
     "output_type": "stream",
     "text": [
      "<class 'tuple'>\n",
      "(100, 200, 300, 400, 500)\n"
     ]
    }
   ],
   "source": [
    "my_list = [100,200,300,400,500]\n",
    "my_tuple = tuple(my_list)                \n",
    "print(type(my_tuple))\n",
    "print(my_tuple)"
   ]
  },
  {
   "cell_type": "markdown",
   "id": "65740655",
   "metadata": {},
   "source": [
    "# Método sort en tuplas\n",
    "\n",
    "--Ordena"
   ]
  },
  {
   "cell_type": "code",
   "execution_count": 7,
   "id": "a074007a",
   "metadata": {},
   "outputs": [
    {
     "name": "stdout",
     "output_type": "stream",
     "text": [
      "<class 'tuple'>\n",
      "(5, 4, 2, 7, 9, 0, 1)\n",
      "\n",
      "\n",
      "<class 'list'>\n",
      "[0, 1, 2, 4, 5, 7, 9]\n",
      "\n",
      "\n",
      "<class 'tuple'>\n",
      "(0, 1, 2, 4, 5, 7, 9)\n"
     ]
    }
   ],
   "source": [
    "my_tuple = (5, 4, 2, 7, 9, 0, 1)\n",
    "my_sorted_tuple = sorted(my_tuple)\n",
    "my_sorted_tuple2 = tuple(sorted(my_tuple))\n",
    "\n",
    "print(type(my_tuple))\n",
    "print(my_tuple)\n",
    "\n",
    "print(\"\\n\")\n",
    "\n",
    "print(type(my_sorted_tuple))\n",
    "print(my_sorted_tuple)\n",
    "\n",
    "print(\"\\n\")\n",
    "\n",
    "print(type(my_sorted_tuple2))\n",
    "print(my_sorted_tuple2)"
   ]
  },
  {
   "cell_type": "markdown",
   "id": "ce92c55c",
   "metadata": {},
   "source": [
    "# Método all en Tuplas"
   ]
  },
  {
   "cell_type": "code",
   "execution_count": 8,
   "id": "9865f573",
   "metadata": {},
   "outputs": [
    {
     "name": "stdout",
     "output_type": "stream",
     "text": [
      "True\n"
     ]
    }
   ],
   "source": [
    "my_tuple = (5, 4, 2, 7, 9, 2, 1)          #Valida que todos los elementos de la tupla sean mayores que cero, true\n",
    "print(all(my_tuple))                      # que no haya elementos faltantes.\n"
   ]
  },
  {
   "cell_type": "code",
   "execution_count": 9,
   "id": "5bf5c036",
   "metadata": {},
   "outputs": [
    {
     "name": "stdout",
     "output_type": "stream",
     "text": [
      "False\n"
     ]
    }
   ],
   "source": [
    "my_tuple = (5, 4, 2, 7, 9, 0, 1)\n",
    "print(all(my_tuple))\n"
   ]
  },
  {
   "cell_type": "code",
   "execution_count": 10,
   "id": "87a67468",
   "metadata": {},
   "outputs": [
    {
     "name": "stdout",
     "output_type": "stream",
     "text": [
      "False\n"
     ]
    }
   ],
   "source": [
    "my_tuple = (5, 4, 2, 7, 9, \"\", 1)\n",
    "print(all(my_tuple))"
   ]
  },
  {
   "cell_type": "code",
   "execution_count": 13,
   "id": "183288d3",
   "metadata": {},
   "outputs": [
    {
     "name": "stdout",
     "output_type": "stream",
     "text": [
      "True\n"
     ]
    }
   ],
   "source": [
    "my_tuple = (5, 4, 2, 7, 9, \"test\", 1)\n",
    "print(all(my_tuple))\n"
   ]
  },
  {
   "cell_type": "code",
   "execution_count": 11,
   "id": "5f9f65ca",
   "metadata": {},
   "outputs": [
    {
     "name": "stdout",
     "output_type": "stream",
     "text": [
      "False\n"
     ]
    }
   ],
   "source": [
    "my_tuple = (5, 4, 2, 7, 9, None, 1)\n",
    "print(all(my_tuple))\n"
   ]
  },
  {
   "cell_type": "code",
   "execution_count": 12,
   "id": "4f11c3fd",
   "metadata": {},
   "outputs": [
    {
     "name": "stdout",
     "output_type": "stream",
     "text": [
      "False\n"
     ]
    }
   ],
   "source": [
    "my_tuple = (5, 4, 2, 7, 9, False, 1)\n",
    "print(all(my_tuple))"
   ]
  },
  {
   "cell_type": "code",
   "execution_count": 14,
   "id": "d1a63c49",
   "metadata": {},
   "outputs": [
    {
     "name": "stdout",
     "output_type": "stream",
     "text": [
      "True\n"
     ]
    }
   ],
   "source": [
    "my_tuple = (5, 4, 2, 7, 9, True, 1)\n",
    "print(all(my_tuple))"
   ]
  },
  {
   "cell_type": "markdown",
   "id": "d3bb6a74",
   "metadata": {},
   "source": [
    "# Método any en Tuplas"
   ]
  },
  {
   "cell_type": "code",
   "execution_count": 15,
   "id": "3643b786",
   "metadata": {},
   "outputs": [
    {
     "name": "stdout",
     "output_type": "stream",
     "text": [
      "True\n"
     ]
    }
   ],
   "source": [
    "my_tuple = (5, 4, 2, 7, 9, 2, 1)          # hay un elemento elemento diferente de cero y regresa true\n",
    "print(any(my_tuple)) "
   ]
  },
  {
   "cell_type": "code",
   "execution_count": 16,
   "id": "79a0e5f7",
   "metadata": {},
   "outputs": [
    {
     "name": "stdout",
     "output_type": "stream",
     "text": [
      "True\n"
     ]
    }
   ],
   "source": [
    "my_tuple = (5, 4, 2, 7, 9, 0, 1)\n",
    "print(any(my_tuple)) "
   ]
  },
  {
   "cell_type": "code",
   "execution_count": 17,
   "id": "2bebc4c5",
   "metadata": {},
   "outputs": [
    {
     "name": "stdout",
     "output_type": "stream",
     "text": [
      "True\n"
     ]
    }
   ],
   "source": [
    "my_tuple = (0, 0, 0, 0, 0, 0, 1) \n",
    "print(any(my_tuple))"
   ]
  },
  {
   "cell_type": "code",
   "execution_count": 18,
   "id": "2ca2f059",
   "metadata": {},
   "outputs": [
    {
     "name": "stdout",
     "output_type": "stream",
     "text": [
      "False\n"
     ]
    }
   ],
   "source": [
    "my_tuple = (0, 0, 0, 0, 0, 0, 0) \n",
    "print(any(my_tuple))"
   ]
  },
  {
   "cell_type": "code",
   "execution_count": 20,
   "id": "5dce7005",
   "metadata": {},
   "outputs": [
    {
     "name": "stdout",
     "output_type": "stream",
     "text": [
      "False\n"
     ]
    }
   ],
   "source": [
    "my_tuple = (\"\", \"\", \"\", \"\", \"\", \"\", \"\") \n",
    "print(any(my_tuple))"
   ]
  },
  {
   "cell_type": "code",
   "execution_count": 21,
   "id": "12913918",
   "metadata": {},
   "outputs": [
    {
     "name": "stdout",
     "output_type": "stream",
     "text": [
      "True\n"
     ]
    }
   ],
   "source": [
    "my_tuple = (\"\", \"\", \"\", \"\", \"g\", \"\", \"\") \n",
    "print(any(my_tuple))"
   ]
  },
  {
   "cell_type": "code",
   "execution_count": 22,
   "id": "f0b2450f",
   "metadata": {},
   "outputs": [
    {
     "name": "stdout",
     "output_type": "stream",
     "text": [
      "False\n"
     ]
    }
   ],
   "source": [
    "my_tuple = (None, None, None, None,) \n",
    "print(any(my_tuple))"
   ]
  },
  {
   "cell_type": "code",
   "execution_count": 23,
   "id": "9b60844f",
   "metadata": {},
   "outputs": [
    {
     "name": "stdout",
     "output_type": "stream",
     "text": [
      "True\n"
     ]
    }
   ],
   "source": [
    "my_tuple = (None, \"Gilberto\", None, None,) \n",
    "print(any(my_tuple))"
   ]
  },
  {
   "cell_type": "code",
   "execution_count": 24,
   "id": "46595c63",
   "metadata": {},
   "outputs": [
    {
     "name": "stdout",
     "output_type": "stream",
     "text": [
      "False\n"
     ]
    }
   ],
   "source": [
    "my_tuple = (False, False) \n",
    "print(any(my_tuple))"
   ]
  },
  {
   "cell_type": "code",
   "execution_count": 25,
   "id": "4ffdfba7",
   "metadata": {},
   "outputs": [
    {
     "name": "stdout",
     "output_type": "stream",
     "text": [
      "True\n"
     ]
    }
   ],
   "source": [
    "my_tuple = (False, False, True) \n",
    "print(any(my_tuple))"
   ]
  },
  {
   "cell_type": "markdown",
   "id": "44441e67",
   "metadata": {},
   "source": [
    "# Método len en Tuplas"
   ]
  },
  {
   "cell_type": "code",
   "execution_count": 26,
   "id": "75371cf2",
   "metadata": {},
   "outputs": [
    {
     "name": "stdout",
     "output_type": "stream",
     "text": [
      "<class 'tuple'>\n",
      "(5, 4, 2, 7, 9, 2, 1)\n",
      "7\n"
     ]
    }
   ],
   "source": [
    "my_tuple = (5, 4, 2, 7, 9, 2, 1)   \n",
    "print(type(my_tuple))\n",
    "print(my_tuple)\n",
    "print(len(my_tuple)) "
   ]
  },
  {
   "cell_type": "markdown",
   "id": "5f5d5d2b",
   "metadata": {},
   "source": [
    "# Indexación en Tuplas"
   ]
  },
  {
   "cell_type": "code",
   "execution_count": 27,
   "id": "0bb7bcd2",
   "metadata": {},
   "outputs": [
    {
     "name": "stdout",
     "output_type": "stream",
     "text": [
      "<class 'tuple'>\n",
      "(5, 4, 2, 7, 9, 2, 1)\n",
      "5\n",
      "1\n",
      "7\n",
      "7\n"
     ]
    }
   ],
   "source": [
    "my_tuple = (5, 4, 2, 7, 9, 2, 1)   \n",
    "print(type(my_tuple))\n",
    "print(my_tuple)\n",
    "print(my_tuple[0])\n",
    "print(my_tuple[-1])\n",
    "print(my_tuple[3])\n",
    "print(my_tuple[-4])"
   ]
  },
  {
   "cell_type": "markdown",
   "id": "b6bf3f66",
   "metadata": {},
   "source": [
    "# Conversión de Tuplas"
   ]
  },
  {
   "cell_type": "markdown",
   "id": "ad5bad28",
   "metadata": {},
   "source": [
    "# Cadena a Tupla"
   ]
  },
  {
   "cell_type": "code",
   "execution_count": 28,
   "id": "308e5efd",
   "metadata": {},
   "outputs": [
    {
     "name": "stdout",
     "output_type": "stream",
     "text": [
      "Backend Python\n",
      "('B', 'a', 'c', 'k', 'e', 'n', 'd', ' ', 'P', 'y', 't', 'h', 'o', 'n')\n"
     ]
    }
   ],
   "source": [
    "my_string = \"Backend Python\"\n",
    "my_tuple = tuple(my_string)\n",
    "\n",
    "print(my_string)\n",
    "print(my_tuple)"
   ]
  },
  {
   "cell_type": "markdown",
   "id": "8cbed7ff",
   "metadata": {},
   "source": [
    "# Lista a Tupla"
   ]
  },
  {
   "cell_type": "code",
   "execution_count": 29,
   "id": "39b98805",
   "metadata": {},
   "outputs": [
    {
     "name": "stdout",
     "output_type": "stream",
     "text": [
      "['Python', 'Javascript', 'Java', 'Go', 'Scala']\n",
      "('Python', 'Javascript', 'Java', 'Go', 'Scala')\n"
     ]
    }
   ],
   "source": [
    "my_list = [\"Python\", \"Javascript\", \"Java\", \"Go\", \"Scala\"]\n",
    "my_tuple = tuple(my_list)\n",
    "\n",
    "print(my_list)\n",
    "print(my_tuple)"
   ]
  },
  {
   "cell_type": "markdown",
   "id": "9677bd7d",
   "metadata": {},
   "source": [
    "# Tupla a Cadena"
   ]
  },
  {
   "cell_type": "code",
   "execution_count": 30,
   "id": "beb356db",
   "metadata": {},
   "outputs": [
    {
     "name": "stdout",
     "output_type": "stream",
     "text": [
      "('B', 'a', 'c', 'k', 'e', 'n', 'd', ' ', 'P', 'y', 't', 'h', 'o', 'n')\n",
      "Backend Python\n"
     ]
    }
   ],
   "source": [
    "my_tuple = ('B', 'a', 'c', 'k', 'e', 'n', 'd', ' ', 'P', 'y', 't', 'h', 'o', 'n')\n",
    "my_string = \"\".join(my_tuple)                 #la cadena vacía es para que no ponga separadores \n",
    "\n",
    "print(my_tuple)\n",
    "print(my_string)"
   ]
  },
  {
   "cell_type": "code",
   "execution_count": 31,
   "id": "21f08ec3",
   "metadata": {},
   "outputs": [
    {
     "name": "stdout",
     "output_type": "stream",
     "text": [
      "('B', 'a', 'c', 'k', 'e', 'n', 'd', ' ', 'P', 'y', 't', 'h', 'o', 'n')\n",
      "B-a-c-k-e-n-d- -P-y-t-h-o-n\n"
     ]
    }
   ],
   "source": [
    "my_tuple = ('B', 'a', 'c', 'k', 'e', 'n', 'd', ' ', 'P', 'y', 't', 'h', 'o', 'n')\n",
    "my_string = \"-\".join(my_tuple)                 #la cadena vacía es para que no ponga separadores \n",
    "\n",
    "print(my_tuple)\n",
    "print(my_string)"
   ]
  },
  {
   "cell_type": "markdown",
   "id": "206b5460",
   "metadata": {},
   "source": [
    "# Tupla a Lista"
   ]
  },
  {
   "cell_type": "code",
   "execution_count": 32,
   "id": "96dd9337",
   "metadata": {},
   "outputs": [
    {
     "name": "stdout",
     "output_type": "stream",
     "text": [
      "('Python', 'Javascript', 'Java', 'Go', 'Scala')\n",
      "['Python', 'Javascript', 'Java', 'Go', 'Scala']\n"
     ]
    }
   ],
   "source": [
    "my_tuple = (\"Python\", \"Javascript\", \"Java\", \"Go\", \"Scala\")\n",
    "my_list = list(my_tuple)\n",
    "\n",
    "print(my_tuple)\n",
    "print(my_list)"
   ]
  },
  {
   "cell_type": "markdown",
   "id": "14bb3c01",
   "metadata": {},
   "source": [
    "# Ventajas de la Tupla sobre la Lista"
   ]
  },
  {
   "cell_type": "raw",
   "id": "5ed62bfc",
   "metadata": {},
   "source": [
    "--Generalmente usamos tuplas para elementos heterogéneos (de diferente tipo de dato), y usamos listas para elementos \n",
    "  homogéneos (del mismo tipo de dato).\n",
    "--Las tuplas son inmutables, iterar a través de una tupla es más rápido que con una lista. Por lo tanto hay una pequeña    \n",
    "  mejora de rendimiento.\n",
    "--Las tuplas que contienen elementos inmutables  pueden ser usadas como llaves para un diccionario. Con listas no es\n",
    "  posible.\n",
    "--Si tienes data que no cambia el implementarla como tupla te garantiza que se mantendrá protegida a modificaciones"
   ]
  },
  {
   "cell_type": "code",
   "execution_count": 33,
   "id": "073f31cd",
   "metadata": {},
   "outputs": [
    {
     "ename": "TypeError",
     "evalue": "'tuple' object does not support item assignment",
     "output_type": "error",
     "traceback": [
      "\u001b[1;31m---------------------------------------------------------------------------\u001b[0m",
      "\u001b[1;31mTypeError\u001b[0m                                 Traceback (most recent call last)",
      "Cell \u001b[1;32mIn[33], line 1\u001b[0m\n\u001b[1;32m----> 1\u001b[0m \u001b[43mmy_tuple\u001b[49m\u001b[43m[\u001b[49m\u001b[38;5;241;43m0\u001b[39;49m\u001b[43m]\u001b[49m \u001b[38;5;241m=\u001b[39m \u001b[38;5;124m\"\u001b[39m\u001b[38;5;124mValor intruso\u001b[39m\u001b[38;5;124m\"\u001b[39m\n",
      "\u001b[1;31mTypeError\u001b[0m: 'tuple' object does not support item assignment"
     ]
    }
   ],
   "source": [
    "my_tuple[0] = \"Valor intruso\""
   ]
  },
  {
   "cell_type": "code",
   "execution_count": 34,
   "id": "fc9babfc",
   "metadata": {},
   "outputs": [],
   "source": [
    "my_list[0] = \"Valor intruso\""
   ]
  },
  {
   "cell_type": "code",
   "execution_count": 35,
   "id": "2c6215a3",
   "metadata": {},
   "outputs": [
    {
     "name": "stdout",
     "output_type": "stream",
     "text": [
      "('Python', 'Javascript', 'Java', 'Go', 'Scala')\n",
      "['Valor intruso', 'Javascript', 'Java', 'Go', 'Scala']\n"
     ]
    }
   ],
   "source": [
    "print(my_tuple)\n",
    "print(my_list)"
   ]
  }
 ],
 "metadata": {
  "kernelspec": {
   "display_name": "Python 3 (ipykernel)",
   "language": "python",
   "name": "python3"
  },
  "language_info": {
   "codemirror_mode": {
    "name": "ipython",
    "version": 3
   },
   "file_extension": ".py",
   "mimetype": "text/x-python",
   "name": "python",
   "nbconvert_exporter": "python",
   "pygments_lexer": "ipython3",
   "version": "3.11.3"
  }
 },
 "nbformat": 4,
 "nbformat_minor": 5
}
