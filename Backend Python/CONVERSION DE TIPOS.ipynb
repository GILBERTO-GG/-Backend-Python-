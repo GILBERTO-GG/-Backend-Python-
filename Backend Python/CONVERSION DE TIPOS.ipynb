{
 "cells": [
  {
   "cell_type": "markdown",
   "id": "aa25a366",
   "metadata": {},
   "source": [
    "# Conversión de Tipos."
   ]
  },
  {
   "cell_type": "markdown",
   "id": "111b80f1",
   "metadata": {},
   "source": [
    "# ¿Qué es la conversión de tipos?"
   ]
  },
  {
   "cell_type": "code",
   "execution_count": null,
   "id": "ec6f122b",
   "metadata": {},
   "outputs": [],
   "source": [
    "# --Es el proceso de conversión de un tipo de dato a otro tipo de dato.\n",
    "--Es un paso muy importante para combinar múltiples fuentes de datos en un formato específico.\n",
    "--Hay dos tipos:\n",
    "    \n",
    "    **Conversión Implícita---->  hecha de forma automática por el intérprete de Python.\n",
    "    **Conversión Explícita---->  "
   ]
  },
  {
   "cell_type": "code",
   "execution_count": 1,
   "id": "dd8ad9c2",
   "metadata": {},
   "outputs": [
    {
     "data": {
      "text/plain": [
       "16.0"
      ]
     },
     "execution_count": 1,
     "metadata": {},
     "output_type": "execute_result"
    }
   ],
   "source": [
    "# Conversión Implícita\n",
    "\n",
    "14 + 2.0"
   ]
  },
  {
   "cell_type": "code",
   "execution_count": 2,
   "id": "5c8eab95",
   "metadata": {},
   "outputs": [
    {
     "data": {
      "text/plain": [
       "19.0"
      ]
     },
     "execution_count": 2,
     "metadata": {},
     "output_type": "execute_result"
    }
   ],
   "source": [
    "14 + 2.0 + 3"
   ]
  },
  {
   "cell_type": "code",
   "execution_count": 3,
   "id": "c43b0bfc",
   "metadata": {},
   "outputs": [
    {
     "data": {
      "text/plain": [
       "199"
      ]
     },
     "execution_count": 3,
     "metadata": {},
     "output_type": "execute_result"
    }
   ],
   "source": [
    "# Conversión Explícita  \n",
    "\n",
    "int(199.99)"
   ]
  },
  {
   "cell_type": "code",
   "execution_count": 4,
   "id": "85f5d360",
   "metadata": {},
   "outputs": [
    {
     "data": {
      "text/plain": [
       "58.0"
      ]
     },
     "execution_count": 4,
     "metadata": {},
     "output_type": "execute_result"
    }
   ],
   "source": [
    "float(58)"
   ]
  },
  {
   "cell_type": "code",
   "execution_count": 5,
   "id": "384fa4ea",
   "metadata": {},
   "outputs": [
    {
     "data": {
      "text/plain": [
       "(4+0j)"
      ]
     },
     "execution_count": 5,
     "metadata": {},
     "output_type": "execute_result"
    }
   ],
   "source": [
    "complex(4)"
   ]
  },
  {
   "cell_type": "markdown",
   "id": "5782806f",
   "metadata": {},
   "source": [
    "# Conversiones int"
   ]
  },
  {
   "cell_type": "code",
   "execution_count": 6,
   "id": "cd52e223",
   "metadata": {},
   "outputs": [
    {
     "data": {
      "text/plain": [
       "10"
      ]
     },
     "execution_count": 6,
     "metadata": {},
     "output_type": "execute_result"
    }
   ],
   "source": [
    "int(10.78)   # float a int"
   ]
  },
  {
   "cell_type": "code",
   "execution_count": 7,
   "id": "8a6fc4c4",
   "metadata": {},
   "outputs": [
    {
     "data": {
      "text/plain": [
       "0"
      ]
     },
     "execution_count": 7,
     "metadata": {},
     "output_type": "execute_result"
    }
   ],
   "source": [
    "int(False)     # bool a int"
   ]
  },
  {
   "cell_type": "code",
   "execution_count": 8,
   "id": "c58d2ea9",
   "metadata": {},
   "outputs": [
    {
     "data": {
      "text/plain": [
       "1"
      ]
     },
     "execution_count": 8,
     "metadata": {},
     "output_type": "execute_result"
    }
   ],
   "source": [
    "int(True)     # bool a int"
   ]
  },
  {
   "cell_type": "code",
   "execution_count": 9,
   "id": "5d1747fe",
   "metadata": {},
   "outputs": [
    {
     "ename": "TypeError",
     "evalue": "int() argument must be a string, a bytes-like object or a real number, not 'complex'",
     "output_type": "error",
     "traceback": [
      "\u001b[1;31m---------------------------------------------------------------------------\u001b[0m",
      "\u001b[1;31mTypeError\u001b[0m                                 Traceback (most recent call last)",
      "Cell \u001b[1;32mIn[9], line 4\u001b[0m\n\u001b[0;32m      1\u001b[0m \u001b[38;5;66;03m# error\u001b[39;00m\n\u001b[1;32m----> 4\u001b[0m \u001b[38;5;28;43mint\u001b[39;49m\u001b[43m(\u001b[49m\u001b[38;5;241;43m5\u001b[39;49m\u001b[43m \u001b[49m\u001b[38;5;241;43m+\u001b[39;49m\u001b[43m \u001b[49m\u001b[38;5;241;43m3\u001b[39;49m\u001b[43mj\u001b[49m\u001b[43m)\u001b[49m   \u001b[38;5;66;03m# complex a int\u001b[39;00m\n",
      "\u001b[1;31mTypeError\u001b[0m: int() argument must be a string, a bytes-like object or a real number, not 'complex'"
     ]
    }
   ],
   "source": [
    "# error\n",
    "\n",
    "\n",
    "int(5 + 3j)   # complex a int  (NO SE PUEDE)"
   ]
  },
  {
   "cell_type": "code",
   "execution_count": 10,
   "id": "77f2f85c",
   "metadata": {},
   "outputs": [
    {
     "data": {
      "text/plain": [
       "120"
      ]
     },
     "execution_count": 10,
     "metadata": {},
     "output_type": "execute_result"
    }
   ],
   "source": [
    "int(\"120\")            # string a int  "
   ]
  },
  {
   "cell_type": "code",
   "execution_count": 11,
   "id": "9f28e31d",
   "metadata": {},
   "outputs": [
    {
     "ename": "ValueError",
     "evalue": "invalid literal for int() with base 10: '120.5'",
     "output_type": "error",
     "traceback": [
      "\u001b[1;31m---------------------------------------------------------------------------\u001b[0m",
      "\u001b[1;31mValueError\u001b[0m                                Traceback (most recent call last)",
      "Cell \u001b[1;32mIn[11], line 3\u001b[0m\n\u001b[0;32m      1\u001b[0m \u001b[38;5;66;03m# error\u001b[39;00m\n\u001b[1;32m----> 3\u001b[0m \u001b[38;5;28;43mint\u001b[39;49m\u001b[43m(\u001b[49m\u001b[38;5;124;43m\"\u001b[39;49m\u001b[38;5;124;43m120.5\u001b[39;49m\u001b[38;5;124;43m\"\u001b[39;49m\u001b[43m)\u001b[49m      \u001b[38;5;66;03m# string a int\u001b[39;00m\n",
      "\u001b[1;31mValueError\u001b[0m: invalid literal for int() with base 10: '120.5'"
     ]
    }
   ],
   "source": [
    "# error\n",
    "\n",
    "int(\"120.5\")      # string a int"
   ]
  },
  {
   "cell_type": "markdown",
   "id": "3bfb4968",
   "metadata": {},
   "source": [
    "# Conversiones float"
   ]
  },
  {
   "cell_type": "code",
   "execution_count": 12,
   "id": "d193aaf3",
   "metadata": {},
   "outputs": [
    {
     "data": {
      "text/plain": [
       "23.0"
      ]
     },
     "execution_count": 12,
     "metadata": {},
     "output_type": "execute_result"
    }
   ],
   "source": [
    "float(23)     # int a float"
   ]
  },
  {
   "cell_type": "code",
   "execution_count": 13,
   "id": "df684ad0",
   "metadata": {},
   "outputs": [
    {
     "ename": "TypeError",
     "evalue": "float() argument must be a string or a real number, not 'complex'",
     "output_type": "error",
     "traceback": [
      "\u001b[1;31m---------------------------------------------------------------------------\u001b[0m",
      "\u001b[1;31mTypeError\u001b[0m                                 Traceback (most recent call last)",
      "Cell \u001b[1;32mIn[13], line 1\u001b[0m\n\u001b[1;32m----> 1\u001b[0m \u001b[38;5;28;43mfloat\u001b[39;49m\u001b[43m(\u001b[49m\u001b[38;5;241;43m23\u001b[39;49m\u001b[38;5;241;43m+\u001b[39;49m\u001b[38;5;241;43m3\u001b[39;49m\u001b[43mj\u001b[49m\u001b[43m)\u001b[49m     \u001b[38;5;66;03m#complex a float\u001b[39;00m\n",
      "\u001b[1;31mTypeError\u001b[0m: float() argument must be a string or a real number, not 'complex'"
     ]
    }
   ],
   "source": [
    "float(23+3j)     #complex a float"
   ]
  },
  {
   "cell_type": "code",
   "execution_count": 14,
   "id": "d87ed473",
   "metadata": {},
   "outputs": [
    {
     "data": {
      "text/plain": [
       "1.0"
      ]
     },
     "execution_count": 14,
     "metadata": {},
     "output_type": "execute_result"
    }
   ],
   "source": [
    "float(True)     #bool a float"
   ]
  },
  {
   "cell_type": "code",
   "execution_count": 15,
   "id": "3e1afe3c",
   "metadata": {},
   "outputs": [
    {
     "data": {
      "text/plain": [
       "0.0"
      ]
     },
     "execution_count": 15,
     "metadata": {},
     "output_type": "execute_result"
    }
   ],
   "source": [
    "float(False)     #bool a float"
   ]
  },
  {
   "cell_type": "code",
   "execution_count": 16,
   "id": "997aef54",
   "metadata": {},
   "outputs": [
    {
     "data": {
      "text/plain": [
       "843.29"
      ]
     },
     "execution_count": 16,
     "metadata": {},
     "output_type": "execute_result"
    }
   ],
   "source": [
    "float(\"843.29\")      # string a float"
   ]
  },
  {
   "cell_type": "code",
   "execution_count": 17,
   "id": "9c4f4a02",
   "metadata": {},
   "outputs": [
    {
     "data": {
      "text/plain": [
       "843.0"
      ]
     },
     "execution_count": 17,
     "metadata": {},
     "output_type": "execute_result"
    }
   ],
   "source": [
    "float(\"843\")        #string a float"
   ]
  },
  {
   "cell_type": "code",
   "execution_count": 18,
   "id": "897cb946",
   "metadata": {},
   "outputs": [
    {
     "ename": "ValueError",
     "evalue": "could not convert string to float: '843t'",
     "output_type": "error",
     "traceback": [
      "\u001b[1;31m---------------------------------------------------------------------------\u001b[0m",
      "\u001b[1;31mValueError\u001b[0m                                Traceback (most recent call last)",
      "Cell \u001b[1;32mIn[18], line 3\u001b[0m\n\u001b[0;32m      1\u001b[0m \u001b[38;5;66;03m# error    \u001b[39;00m\n\u001b[1;32m----> 3\u001b[0m \u001b[38;5;28;43mfloat\u001b[39;49m\u001b[43m(\u001b[49m\u001b[38;5;124;43m\"\u001b[39;49m\u001b[38;5;124;43m843t\u001b[39;49m\u001b[38;5;124;43m\"\u001b[39;49m\u001b[43m)\u001b[49m       \u001b[38;5;66;03m#string a float\u001b[39;00m\n",
      "\u001b[1;31mValueError\u001b[0m: could not convert string to float: '843t'"
     ]
    }
   ],
   "source": [
    "# error    \n",
    "\n",
    "float(\"843t\")       #string a float"
   ]
  },
  {
   "cell_type": "code",
   "execution_count": 19,
   "id": "92a9bcaf",
   "metadata": {},
   "outputs": [
    {
     "ename": "ValueError",
     "evalue": "could not convert string to float: 'True'",
     "output_type": "error",
     "traceback": [
      "\u001b[1;31m---------------------------------------------------------------------------\u001b[0m",
      "\u001b[1;31mValueError\u001b[0m                                Traceback (most recent call last)",
      "Cell \u001b[1;32mIn[19], line 3\u001b[0m\n\u001b[0;32m      1\u001b[0m \u001b[38;5;66;03m# error  \u001b[39;00m\n\u001b[1;32m----> 3\u001b[0m \u001b[38;5;28;43mfloat\u001b[39;49m\u001b[43m(\u001b[49m\u001b[38;5;124;43m\"\u001b[39;49m\u001b[38;5;124;43mTrue\u001b[39;49m\u001b[38;5;124;43m\"\u001b[39;49m\u001b[43m)\u001b[49m     \u001b[38;5;66;03m# string a float     \u001b[39;00m\n",
      "\u001b[1;31mValueError\u001b[0m: could not convert string to float: 'True'"
     ]
    }
   ],
   "source": [
    "# error  \n",
    "\n",
    "float(\"True\")     # string a float     "
   ]
  },
  {
   "cell_type": "markdown",
   "id": "5b922f2f",
   "metadata": {},
   "source": [
    "# Conversiones complex"
   ]
  },
  {
   "cell_type": "code",
   "execution_count": 20,
   "id": "9420f87d",
   "metadata": {},
   "outputs": [
    {
     "data": {
      "text/plain": [
       "(42+0j)"
      ]
     },
     "execution_count": 20,
     "metadata": {},
     "output_type": "execute_result"
    }
   ],
   "source": [
    "complex(42)          # int a complex"
   ]
  },
  {
   "cell_type": "code",
   "execution_count": 21,
   "id": "288c7f78",
   "metadata": {},
   "outputs": [
    {
     "data": {
      "text/plain": [
       "(92.8+0j)"
      ]
     },
     "execution_count": 21,
     "metadata": {},
     "output_type": "execute_result"
    }
   ],
   "source": [
    "complex(92.8)        #float a complex"
   ]
  },
  {
   "cell_type": "code",
   "execution_count": 22,
   "id": "b537cc6e",
   "metadata": {},
   "outputs": [
    {
     "data": {
      "text/plain": [
       "(1+0j)"
      ]
     },
     "execution_count": 22,
     "metadata": {},
     "output_type": "execute_result"
    }
   ],
   "source": [
    "complex(True)          #bool a complex"
   ]
  },
  {
   "cell_type": "code",
   "execution_count": 23,
   "id": "edd51b57",
   "metadata": {},
   "outputs": [
    {
     "data": {
      "text/plain": [
       "0j"
      ]
     },
     "execution_count": 23,
     "metadata": {},
     "output_type": "execute_result"
    }
   ],
   "source": [
    "complex(False)          #bool a complex"
   ]
  },
  {
   "cell_type": "code",
   "execution_count": 25,
   "id": "6d7774de",
   "metadata": {},
   "outputs": [
    {
     "data": {
      "text/plain": [
       "(24+0j)"
      ]
     },
     "execution_count": 25,
     "metadata": {},
     "output_type": "execute_result"
    }
   ],
   "source": [
    "complex(\"24\")           #string a complex"
   ]
  },
  {
   "cell_type": "code",
   "execution_count": 26,
   "id": "db1d1432",
   "metadata": {},
   "outputs": [
    {
     "data": {
      "text/plain": [
       "(24.67+0j)"
      ]
     },
     "execution_count": 26,
     "metadata": {},
     "output_type": "execute_result"
    }
   ],
   "source": [
    "complex(\"24.67\")           #string a complex"
   ]
  },
  {
   "cell_type": "code",
   "execution_count": 27,
   "id": "3a941932",
   "metadata": {},
   "outputs": [
    {
     "ename": "ValueError",
     "evalue": "complex() arg is a malformed string",
     "output_type": "error",
     "traceback": [
      "\u001b[1;31m---------------------------------------------------------------------------\u001b[0m",
      "\u001b[1;31mValueError\u001b[0m                                Traceback (most recent call last)",
      "Cell \u001b[1;32mIn[27], line 3\u001b[0m\n\u001b[0;32m      1\u001b[0m \u001b[38;5;66;03m#   error\u001b[39;00m\n\u001b[1;32m----> 3\u001b[0m \u001b[38;5;28;43mcomplex\u001b[39;49m\u001b[43m(\u001b[49m\u001b[38;5;124;43m\"\u001b[39;49m\u001b[38;5;124;43mBackend\u001b[39;49m\u001b[38;5;124;43m\"\u001b[39;49m\u001b[43m)\u001b[49m         \u001b[38;5;66;03m# string  a complex\u001b[39;00m\n",
      "\u001b[1;31mValueError\u001b[0m: complex() arg is a malformed string"
     ]
    }
   ],
   "source": [
    "#   error\n",
    "\n",
    "complex(\"Backend\")         # string  a complex"
   ]
  },
  {
   "cell_type": "code",
   "execution_count": 28,
   "id": "a3de0577",
   "metadata": {},
   "outputs": [
    {
     "ename": "ValueError",
     "evalue": "complex() arg is a malformed string",
     "output_type": "error",
     "traceback": [
      "\u001b[1;31m---------------------------------------------------------------------------\u001b[0m",
      "\u001b[1;31mValueError\u001b[0m                                Traceback (most recent call last)",
      "Cell \u001b[1;32mIn[28], line 1\u001b[0m\n\u001b[1;32m----> 1\u001b[0m \u001b[38;5;28;43mcomplex\u001b[39;49m\u001b[43m(\u001b[49m\u001b[38;5;124;43m\"\u001b[39;49m\u001b[38;5;124;43m10c\u001b[39;49m\u001b[38;5;124;43m\"\u001b[39;49m\u001b[43m)\u001b[49m         \u001b[38;5;66;03m# string  a complex\u001b[39;00m\n",
      "\u001b[1;31mValueError\u001b[0m: complex() arg is a malformed string"
     ]
    }
   ],
   "source": [
    "complex(\"10c\")         # string  a complex"
   ]
  },
  {
   "cell_type": "code",
   "execution_count": 29,
   "id": "5a67c679",
   "metadata": {},
   "outputs": [
    {
     "data": {
      "text/plain": [
       "10j"
      ]
     },
     "execution_count": 29,
     "metadata": {},
     "output_type": "execute_result"
    }
   ],
   "source": [
    "complex(\"10j\")         # string  a complex    ------------> esto si es válido"
   ]
  },
  {
   "cell_type": "markdown",
   "id": "6a97f436",
   "metadata": {},
   "source": [
    "# Conversiones bool"
   ]
  },
  {
   "cell_type": "code",
   "execution_count": 30,
   "id": "e58523ae",
   "metadata": {},
   "outputs": [
    {
     "data": {
      "text/plain": [
       "False"
      ]
     },
     "execution_count": 30,
     "metadata": {},
     "output_type": "execute_result"
    }
   ],
   "source": [
    "bool(0)      #int a bool"
   ]
  },
  {
   "cell_type": "code",
   "execution_count": 31,
   "id": "8ba2c428",
   "metadata": {},
   "outputs": [
    {
     "data": {
      "text/plain": [
       "True"
      ]
     },
     "execution_count": 31,
     "metadata": {},
     "output_type": "execute_result"
    }
   ],
   "source": [
    "bool(7)      #int a bool"
   ]
  },
  {
   "cell_type": "code",
   "execution_count": 32,
   "id": "d83502bd",
   "metadata": {},
   "outputs": [
    {
     "data": {
      "text/plain": [
       "True"
      ]
     },
     "execution_count": 32,
     "metadata": {},
     "output_type": "execute_result"
    }
   ],
   "source": [
    "bool(1.8)    #float a bool"
   ]
  },
  {
   "cell_type": "code",
   "execution_count": 33,
   "id": "a0bcbb9b",
   "metadata": {},
   "outputs": [
    {
     "data": {
      "text/plain": [
       "True"
      ]
     },
     "execution_count": 33,
     "metadata": {},
     "output_type": "execute_result"
    }
   ],
   "source": [
    "bool(-1.8)    #float a bool"
   ]
  },
  {
   "cell_type": "code",
   "execution_count": 34,
   "id": "78d128f5",
   "metadata": {},
   "outputs": [
    {
     "data": {
      "text/plain": [
       "False"
      ]
     },
     "execution_count": 34,
     "metadata": {},
     "output_type": "execute_result"
    }
   ],
   "source": [
    "bool(0.0)    #float a bool"
   ]
  },
  {
   "cell_type": "code",
   "execution_count": 35,
   "id": "821fe4fb",
   "metadata": {},
   "outputs": [
    {
     "data": {
      "text/plain": [
       "True"
      ]
     },
     "execution_count": 35,
     "metadata": {},
     "output_type": "execute_result"
    }
   ],
   "source": [
    "bool(0+3j)    #complex a bool"
   ]
  },
  {
   "cell_type": "code",
   "execution_count": 36,
   "id": "c0108eef",
   "metadata": {},
   "outputs": [
    {
     "data": {
      "text/plain": [
       "False"
      ]
     },
     "execution_count": 36,
     "metadata": {},
     "output_type": "execute_result"
    }
   ],
   "source": [
    "bool(0+0j)    #complex a bool"
   ]
  },
  {
   "cell_type": "code",
   "execution_count": 37,
   "id": "559bcc26",
   "metadata": {},
   "outputs": [
    {
     "data": {
      "text/plain": [
       "True"
      ]
     },
     "execution_count": 37,
     "metadata": {},
     "output_type": "execute_result"
    }
   ],
   "source": [
    "bool(\"python\")          #string a bool\n"
   ]
  },
  {
   "cell_type": "code",
   "execution_count": 38,
   "id": "280e8a58",
   "metadata": {},
   "outputs": [
    {
     "data": {
      "text/plain": [
       "True"
      ]
     },
     "execution_count": 38,
     "metadata": {},
     "output_type": "execute_result"
    }
   ],
   "source": [
    "bool(\" \")          #string a bool"
   ]
  },
  {
   "cell_type": "code",
   "execution_count": 39,
   "id": "e35e4299",
   "metadata": {},
   "outputs": [
    {
     "data": {
      "text/plain": [
       "False"
      ]
     },
     "execution_count": 39,
     "metadata": {},
     "output_type": "execute_result"
    }
   ],
   "source": [
    "bool(\"\")          #string a bool"
   ]
  },
  {
   "cell_type": "code",
   "execution_count": 40,
   "id": "eebb99f2",
   "metadata": {},
   "outputs": [
    {
     "data": {
      "text/plain": [
       "True"
      ]
     },
     "execution_count": 40,
     "metadata": {},
     "output_type": "execute_result"
    }
   ],
   "source": [
    "bool(\"0\")          #string a bool"
   ]
  },
  {
   "cell_type": "markdown",
   "id": "458d026d",
   "metadata": {},
   "source": [
    "# Conversiones str"
   ]
  },
  {
   "cell_type": "code",
   "execution_count": 41,
   "id": "5f1add0b",
   "metadata": {},
   "outputs": [
    {
     "data": {
      "text/plain": [
       "'25'"
      ]
     },
     "execution_count": 41,
     "metadata": {},
     "output_type": "execute_result"
    }
   ],
   "source": [
    "str(25)           #int a str"
   ]
  },
  {
   "cell_type": "code",
   "execution_count": 42,
   "id": "1b09b38b",
   "metadata": {},
   "outputs": [
    {
     "data": {
      "text/plain": [
       "'36.9'"
      ]
     },
     "execution_count": 42,
     "metadata": {},
     "output_type": "execute_result"
    }
   ],
   "source": [
    "str(36.9)         #float a str"
   ]
  },
  {
   "cell_type": "code",
   "execution_count": 43,
   "id": "fd9d8dbb",
   "metadata": {},
   "outputs": [
    {
     "data": {
      "text/plain": [
       "'(6+8j)'"
      ]
     },
     "execution_count": 43,
     "metadata": {},
     "output_type": "execute_result"
    }
   ],
   "source": [
    "str(6+8j)           #complex a str"
   ]
  },
  {
   "cell_type": "code",
   "execution_count": 44,
   "id": "ebd7d48e",
   "metadata": {},
   "outputs": [
    {
     "data": {
      "text/plain": [
       "'True'"
      ]
     },
     "execution_count": 44,
     "metadata": {},
     "output_type": "execute_result"
    }
   ],
   "source": [
    "str(True)          #  bool a str"
   ]
  },
  {
   "cell_type": "markdown",
   "id": "031bb816",
   "metadata": {},
   "source": [
    "# Funciones Básicas"
   ]
  },
  {
   "cell_type": "markdown",
   "id": "765c6ade",
   "metadata": {},
   "source": [
    "# trunc()"
   ]
  },
  {
   "cell_type": "code",
   "execution_count": 47,
   "id": "01cf066c",
   "metadata": {},
   "outputs": [
    {
     "name": "stdout",
     "output_type": "stream",
     "text": [
      "num_1:   64.99\n",
      "num_2:   64.5\n",
      "num_3:   64.51\n",
      "num_4:   64.0\n"
     ]
    }
   ],
   "source": [
    "num_1 = 64.99\n",
    "num_2 = 64.5\n",
    "num_3 = 64.51\n",
    "num_4 = 64.000000000000001\n",
    "\n",
    "print(\"num_1:  \", num_1)\n",
    "print(\"num_2:  \", num_2)\n",
    "print(\"num_3:  \", num_3)\n",
    "print(\"num_4:  \", num_4)"
   ]
  },
  {
   "cell_type": "code",
   "execution_count": 48,
   "id": "55e8c859",
   "metadata": {},
   "outputs": [
    {
     "name": "stdout",
     "output_type": "stream",
     "text": [
      "trunc(num_1):   64\n",
      "trunc(num_2):   64\n",
      "trunc(num_3):   64\n",
      "trunc(num_4):   64\n"
     ]
    }
   ],
   "source": [
    "from math import trunc\n",
    "\n",
    "num_1 = 64.99\n",
    "num_2 = 64.5\n",
    "num_3 = 64.51\n",
    "num_4 = 64.000000000000001\n",
    "\n",
    "print(\"trunc(num_1):  \", trunc(num_1))\n",
    "print(\"trunc(num_2):  \", trunc(num_2))\n",
    "print(\"trunc(num_3):  \", trunc(num_3))\n",
    "print(\"trunc(num_4):  \", trunc(num_4))"
   ]
  },
  {
   "cell_type": "markdown",
   "id": "db40c30a",
   "metadata": {},
   "source": [
    "# Funciones round(), ceil() y floor()"
   ]
  },
  {
   "cell_type": "code",
   "execution_count": 49,
   "id": "e59a289e",
   "metadata": {},
   "outputs": [
    {
     "name": "stdout",
     "output_type": "stream",
     "text": [
      "round(num_1):   65\n",
      "round(num_2):   64\n",
      "round(num_3):   65\n",
      "round(num_4):   64\n"
     ]
    }
   ],
   "source": [
    "#  round\n",
    "\n",
    "num_1 = 64.99\n",
    "num_2 = 64.5\n",
    "num_3 = 64.51\n",
    "num_4 = 64.000000000000001\n",
    "\n",
    "print(\"round(num_1):  \", round(num_1))\n",
    "print(\"round(num_2):  \", round(num_2))\n",
    "print(\"round(num_3):  \", round(num_3))\n",
    "print(\"round(num_4):  \", round(num_4))"
   ]
  },
  {
   "cell_type": "code",
   "execution_count": 54,
   "id": "adbccf69",
   "metadata": {},
   "outputs": [
    {
     "name": "stdout",
     "output_type": "stream",
     "text": [
      "ceil(num_1):   65\n",
      "ceil(num_2):   65\n",
      "ceil(num_3):   65\n",
      "ceil(num_4):   64\n"
     ]
    }
   ],
   "source": [
    "#  ceil -  redondeo hacia arriba\n",
    "\n",
    "from math import ceil\n",
    "\n",
    "num_1 = 64.99\n",
    "num_2 = 64.5\n",
    "num_3 = 64.51\n",
    "num_4 = 64.000000000000001\n",
    "\n",
    "print(\"ceil(num_1):  \", ceil(num_1))\n",
    "print(\"ceil(num_2):  \", ceil(num_2))\n",
    "print(\"ceil(num_3):  \", ceil(num_3))\n",
    "print(\"ceil(num_4):  \", ceil(num_4))"
   ]
  },
  {
   "cell_type": "code",
   "execution_count": 55,
   "id": "cec9c70e",
   "metadata": {},
   "outputs": [
    {
     "name": "stdout",
     "output_type": "stream",
     "text": [
      "floor(num_1):   64\n",
      "floor(num_2):   64\n",
      "floor(num_3):   64\n",
      "floor(num_4):   64\n"
     ]
    }
   ],
   "source": [
    "#  floor\n",
    "\n",
    "from math import floor\n",
    "\n",
    "num_1 = 64.99\n",
    "num_2 = 64.5\n",
    "num_3 = 64.51\n",
    "num_4 = 64.000000000000001\n",
    "\n",
    "print(\"floor(num_1):  \", floor(num_1))\n",
    "print(\"floor(num_2):  \", floor(num_2))\n",
    "print(\"floor(num_3):  \", floor(num_3))\n",
    "print(\"floor(num_4):  \", floor(num_4))"
   ]
  },
  {
   "cell_type": "markdown",
   "id": "4db5bdfb",
   "metadata": {},
   "source": [
    "# Función % "
   ]
  },
  {
   "cell_type": "code",
   "execution_count": 57,
   "id": "8f99727b",
   "metadata": {},
   "outputs": [
    {
     "name": "stdout",
     "output_type": "stream",
     "text": [
      "'%.1f' % num_1:   65.0\n",
      "'%.3f' % num_2:   64.500\n",
      "'%.4f' % num_3:   64.5100\n",
      "'%.5f' % num_4:   64.00000\n"
     ]
    }
   ],
   "source": [
    "num_1 = 64.99\n",
    "num_2 = 64.5\n",
    "num_3 = 64.51\n",
    "num_4 = 64.000000000000001\n",
    "\n",
    "print(\"'%.1f' % num_1:  \", '%.1f' % num_1)\n",
    "print(\"'%.3f' % num_2:  \", '%.3f' % num_2)\n",
    "print(\"'%.4f' % num_3:  \", '%.4f' % num_3)\n",
    "print(\"'%.5f' % num_4:  \", '%.5f' % num_4)"
   ]
  },
  {
   "cell_type": "markdown",
   "id": "0881d2c6",
   "metadata": {},
   "source": [
    "# format()"
   ]
  },
  {
   "cell_type": "code",
   "execution_count": 59,
   "id": "0f0cb704",
   "metadata": {},
   "outputs": [
    {
     "name": "stdout",
     "output_type": "stream",
     "text": [
      "'{:.1f}' .format(num_1):   65.0\n",
      "'{:.3f}' .format(num_2):   64.500\n",
      "'{:.4f}' .format(num_3):   64.5100\n",
      "'{:.5f}' .format(num_4):   64.00000\n"
     ]
    }
   ],
   "source": [
    "num_1 = 64.99\n",
    "num_2 = 64.5\n",
    "num_3 = 64.51\n",
    "num_4 = 64.000000000000001\n",
    "\n",
    "print(\"'{:.1f}' .format(num_1):  \", '{:.1f}' .format(num_1))\n",
    "print(\"'{:.3f}' .format(num_2):  \", '{:.3f}' .format(num_2))\n",
    "print(\"'{:.4f}' .format(num_3):  \", '{:.4f}' .format(num_3))\n",
    "print(\"'{:.5f}' .format(num_4):  \", '{:.5f}' .format(num_4))"
   ]
  }
 ],
 "metadata": {
  "kernelspec": {
   "display_name": "Python 3 (ipykernel)",
   "language": "python",
   "name": "python3"
  },
  "language_info": {
   "codemirror_mode": {
    "name": "ipython",
    "version": 3
   },
   "file_extension": ".py",
   "mimetype": "text/x-python",
   "name": "python",
   "nbconvert_exporter": "python",
   "pygments_lexer": "ipython3",
   "version": "3.11.3"
  }
 },
 "nbformat": 4,
 "nbformat_minor": 5
}
