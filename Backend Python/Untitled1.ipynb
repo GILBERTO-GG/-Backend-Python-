{
 "cells": [
  {
   "cell_type": "code",
   "execution_count": 21,
   "id": "85251566",
   "metadata": {},
   "outputs": [
    {
     "name": "stdout",
     "output_type": "stream",
     "text": [
      "Ingrese un número:  40\n",
      "40 no puede ser expresado como 2^K = 40\n",
      "40 no puede ser expresado como 2^K = 40\n",
      "40 no puede ser expresado como 2^K = 40\n",
      "40 no puede ser expresado como 2^K = 40\n",
      "40 no puede ser expresado como 2^K = 40\n",
      "40 no puede ser expresado como 2^K = 40\n"
     ]
    }
   ],
   "source": [
    "n = int(input(\"Ingrese un número:  \"))\n",
    "\n",
    "k = 0\n",
    "while 2 ** k <= n:\n",
    "    if 2 ** k == n:\n",
    "        print(f\"{num} puede ser expresado como 2^K =\", num)\n",
    "    k += 1\n",
    "    print(f\"{num} no puede ser expresado como 2^K =\", num)\n",
    "\n",
    "\n",
    "\n"
   ]
  }
 ],
 "metadata": {
  "kernelspec": {
   "display_name": "Python 3 (ipykernel)",
   "language": "python",
   "name": "python3"
  },
  "language_info": {
   "codemirror_mode": {
    "name": "ipython",
    "version": 3
   },
   "file_extension": ".py",
   "mimetype": "text/x-python",
   "name": "python",
   "nbconvert_exporter": "python",
   "pygments_lexer": "ipython3",
   "version": "3.11.3"
  }
 },
 "nbformat": 4,
 "nbformat_minor": 5
}
