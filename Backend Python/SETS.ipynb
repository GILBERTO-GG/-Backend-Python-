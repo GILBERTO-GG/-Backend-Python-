{
 "cells": [
  {
   "cell_type": "markdown",
   "id": "0340346f",
   "metadata": {},
   "source": [
    "# Creación y modificación de sets"
   ]
  },
  {
   "cell_type": "code",
   "execution_count": 1,
   "id": "9a32d9dd",
   "metadata": {},
   "outputs": [
    {
     "name": "stdout",
     "output_type": "stream",
     "text": [
      "<class 'set'>\n",
      "1\n",
      "{'python'}\n"
     ]
    }
   ],
   "source": [
    "my_set = set()\n",
    "my_set.add(\"python\")\n",
    "\n",
    "print(type(my_set))\n",
    "print(len(my_set))\n",
    "print(my_set)"
   ]
  },
  {
   "cell_type": "markdown",
   "id": "404200d3",
   "metadata": {},
   "source": [
    "# Lista  --  [ ]\n",
    "# Tuplas -- ( )\n",
    "# Sets --  { }"
   ]
  },
  {
   "cell_type": "code",
   "execution_count": 2,
   "id": "8bca55c0",
   "metadata": {},
   "outputs": [
    {
     "name": "stdout",
     "output_type": "stream",
     "text": [
      "<class 'set'>\n",
      "4\n",
      "{'Backend', 3.1416, 'python', 23}\n"
     ]
    }
   ],
   "source": [
    "my_set = set()\n",
    "my_set.add(\"python\")\n",
    "my_set.update((23, \"Backend\", 3.1416))\n",
    "\n",
    "print(type(my_set))\n",
    "print(len(my_set))\n",
    "print(my_set)"
   ]
  },
  {
   "cell_type": "code",
   "execution_count": 3,
   "id": "3282919d",
   "metadata": {},
   "outputs": [
    {
     "name": "stdout",
     "output_type": "stream",
     "text": [
      "<class 'set'>\n",
      "4\n",
      "{'Backend', 3.1416, 'python', 23}\n"
     ]
    }
   ],
   "source": [
    "my_set = set()\n",
    "my_set.add(\"python\")\n",
    "my_set.update((23, \"Backend\", 3.1416))\n",
    "\n",
    "my_set.add(\"python\")\n",
    "my_set.add(\"python\")\n",
    "my_set.add(\"python\")\n",
    "my_set.add(23)\n",
    "my_set.add(23)\n",
    "my_set.add(3.1416)\n",
    "my_set.add(3.1416)\n",
    "my_set.add(3.1416)\n",
    "my_set.add(3.1416)\n",
    "\n",
    "print(type(my_set))\n",
    "print(len(my_set))\n",
    "print(my_set)"
   ]
  },
  {
   "cell_type": "markdown",
   "id": "f5483f98",
   "metadata": {},
   "source": [
    "# No se pueden repetir los elementos a diferencia de una lista o una tupla"
   ]
  },
  {
   "cell_type": "markdown",
   "id": "120db793",
   "metadata": {},
   "source": [
    "# Los sets se quedan solo con los  valores únicos."
   ]
  },
  {
   "cell_type": "code",
   "execution_count": 4,
   "id": "8c23903c",
   "metadata": {},
   "outputs": [
    {
     "name": "stdout",
     "output_type": "stream",
     "text": [
      "<class 'set'>\n",
      "4\n",
      "{'Backend', 3.1416, 'python', 23}\n"
     ]
    }
   ],
   "source": [
    "my_set = {3.1416, \"Backend\", \"python\", 23}\n",
    "\n",
    "print(type(my_set))\n",
    "print(len(my_set))\n",
    "print(my_set)"
   ]
  },
  {
   "cell_type": "markdown",
   "id": "ec8e89f0",
   "metadata": {},
   "source": [
    "# Métodos para manipulación de sets"
   ]
  },
  {
   "cell_type": "markdown",
   "id": "0cb7e649",
   "metadata": {},
   "source": [
    "# add\n",
    "Agregar un elemento a un set"
   ]
  },
  {
   "cell_type": "code",
   "execution_count": 1,
   "id": "58b4d368",
   "metadata": {},
   "outputs": [
    {
     "name": "stdout",
     "output_type": "stream",
     "text": [
      "<class 'set'>\n",
      "4\n",
      "{1, 11, 5, 23}\n"
     ]
    }
   ],
   "source": [
    "my_set = {1, 5, 11, 23}\n",
    "\n",
    "print(type(my_set))\n",
    "print(len(my_set))\n",
    "print(my_set)"
   ]
  },
  {
   "cell_type": "code",
   "execution_count": 2,
   "id": "a13e24d2",
   "metadata": {},
   "outputs": [
    {
     "name": "stdout",
     "output_type": "stream",
     "text": [
      "<class 'set'>\n",
      "6\n",
      "{1, 2, 3, 5, 11, 23}\n"
     ]
    }
   ],
   "source": [
    "my_set.add(1)\n",
    "my_set.add(2)\n",
    "my_set.add(3)\n",
    "\n",
    "print(type(my_set))\n",
    "print(len(my_set))\n",
    "print(my_set)"
   ]
  },
  {
   "cell_type": "markdown",
   "id": "2d2c0137",
   "metadata": {},
   "source": [
    "# clear\n",
    "Remueve todos los elementos del set"
   ]
  },
  {
   "cell_type": "code",
   "execution_count": 3,
   "id": "d3051483",
   "metadata": {},
   "outputs": [
    {
     "name": "stdout",
     "output_type": "stream",
     "text": [
      "<class 'set'>\n",
      "4\n",
      "{1, 11, 5, 23} \n",
      "\n",
      "<class 'set'>\n",
      "0\n",
      "set()\n"
     ]
    }
   ],
   "source": [
    "my_set = {1, 5, 11, 23}\n",
    "\n",
    "print(type(my_set))\n",
    "print(len(my_set))\n",
    "print(my_set, \"\\n\")\n",
    "\n",
    "my_set.clear()\n",
    "\n",
    "print(type(my_set))\n",
    "print(len(my_set))\n",
    "print(my_set)"
   ]
  },
  {
   "cell_type": "markdown",
   "id": "7738b861",
   "metadata": {},
   "source": [
    "# copy\n",
    "Copia los elementos en un nuevo set"
   ]
  },
  {
   "cell_type": "code",
   "execution_count": 4,
   "id": "2c6c0e1e",
   "metadata": {},
   "outputs": [
    {
     "name": "stdout",
     "output_type": "stream",
     "text": [
      "<class 'set'>\n",
      "4\n",
      "{1, 11, 5, 23} \n",
      "\n",
      "<class 'set'>\n",
      "4\n",
      "{1, 11, 5, 23} \n",
      "\n",
      "<class 'set'>\n",
      "4\n",
      "{1, 11, 5, 23} \n",
      "\n",
      "<class 'set'>\n",
      "0\n",
      "set() \n",
      "\n"
     ]
    }
   ],
   "source": [
    "my_set = {1, 5, 11, 23}\n",
    "my_set2 = my_set.copy()\n",
    "\n",
    "print(type(my_set))\n",
    "print(len(my_set))\n",
    "print(my_set, \"\\n\")\n",
    "\n",
    "\n",
    "print(type(my_set2))\n",
    "print(len(my_set2))\n",
    "print(my_set2, \"\\n\")\n",
    "\n",
    "my_set2.clear()\n",
    "\n",
    "print(type(my_set))\n",
    "print(len(my_set))\n",
    "print(my_set, \"\\n\")\n",
    "\n",
    "\n",
    "print(type(my_set2))\n",
    "print(len(my_set2))\n",
    "print(my_set2, \"\\n\")"
   ]
  },
  {
   "cell_type": "code",
   "execution_count": 5,
   "id": "c22c11df",
   "metadata": {},
   "outputs": [
    {
     "name": "stdout",
     "output_type": "stream",
     "text": [
      "<class 'set'>\n",
      "4\n",
      "{1, 11, 5, 23} \n",
      "\n",
      "<class 'set'>\n",
      "4\n",
      "{1, 11, 5, 23} \n",
      "\n",
      "<class 'set'>\n",
      "0\n",
      "set() \n",
      "\n",
      "<class 'set'>\n",
      "0\n",
      "set() \n",
      "\n"
     ]
    }
   ],
   "source": [
    "my_set = {1, 5, 11, 23}      # aquí no se usa copy\n",
    "my_set2 = my_set\n",
    "\n",
    "print(type(my_set))\n",
    "print(len(my_set))\n",
    "print(my_set, \"\\n\")\n",
    "\n",
    "\n",
    "print(type(my_set2))\n",
    "print(len(my_set2))\n",
    "print(my_set2, \"\\n\")\n",
    "\n",
    "my_set2.clear()                      # clear afecta a my_set,    copy evita estos problemas\n",
    "\n",
    "print(type(my_set))\n",
    "print(len(my_set))\n",
    "print(my_set, \"\\n\")\n",
    "\n",
    "\n",
    "print(type(my_set2))\n",
    "print(len(my_set2))\n",
    "print(my_set2, \"\\n\")"
   ]
  },
  {
   "cell_type": "markdown",
   "id": "a0e8cbba",
   "metadata": {},
   "source": [
    "# difference\n",
    "Obtiene los valores presentes en el primer set y faltantes en el segundo set"
   ]
  },
  {
   "cell_type": "code",
   "execution_count": 6,
   "id": "f95a074f",
   "metadata": {},
   "outputs": [
    {
     "name": "stdout",
     "output_type": "stream",
     "text": [
      "{8, 2, 4, 6}\n",
      "{9, 3, 5}\n"
     ]
    }
   ],
   "source": [
    "set_a = {1, 3, 5, 7, 9}\n",
    "set_b = {1, 2, 4, 6, 7, 8}\n",
    "\n",
    "#valores que hay en set_b faltantes en set_a\n",
    "print(set_b.difference(set_a))\n",
    "\n",
    "#valores que hay en set_a faltantes en set_b\n",
    "print(set_a.difference(set_b))\n"
   ]
  },
  {
   "cell_type": "markdown",
   "id": "993e7ef7",
   "metadata": {},
   "source": [
    "# difference_update\n",
    "conserva solo los valores diferentes entre el set solicitado y el que es mandado como parámetro"
   ]
  },
  {
   "cell_type": "code",
   "execution_count": 7,
   "id": "a082b5c6",
   "metadata": {},
   "outputs": [
    {
     "name": "stdout",
     "output_type": "stream",
     "text": [
      "{2, 4, 6, 8}\n",
      "{1, 3, 5, 7, 9}\n"
     ]
    }
   ],
   "source": [
    "set_a = {1, 3, 5, 7, 9}\n",
    "set_b = {1, 2, 4, 6, 7, 8}\n",
    "\n",
    "#valores que hay en set_b faltantes en set_a\n",
    "set_b.difference_update(set_a)\n",
    "print(set_b)\n",
    "\n",
    "#valores que hay en set_a faltantes en set_b\n",
    "set_a.difference_update(set_b)\n",
    "print(set_a)\n"
   ]
  },
  {
   "cell_type": "code",
   "execution_count": 8,
   "id": "e120ff6f",
   "metadata": {},
   "outputs": [
    {
     "name": "stdout",
     "output_type": "stream",
     "text": [
      "{3, 5, 9}\n",
      "{1, 2, 4, 6, 7, 8}\n"
     ]
    }
   ],
   "source": [
    "set_a = {1, 3, 5, 7, 9}\n",
    "set_b = {1, 2, 4, 6, 7, 8}\n",
    "\n",
    "#valores que hay en set_a faltantes en set_b\n",
    "set_a.difference_update(set_b)\n",
    "print(set_a)\n",
    "\n",
    "#valores que hay en set_b faltantes en set_a\n",
    "set_b.difference_update(set_a)\n",
    "print(set_b)\n"
   ]
  },
  {
   "cell_type": "markdown",
   "id": "e476bc47",
   "metadata": {},
   "source": [
    "# discard\n",
    "Elimina un elemento del set si está presente"
   ]
  },
  {
   "cell_type": "code",
   "execution_count": 10,
   "id": "b661818a",
   "metadata": {},
   "outputs": [
    {
     "name": "stdout",
     "output_type": "stream",
     "text": [
      "<class 'set'>\n",
      "4\n",
      "{'Scala', 'Go', 'JavaScript', 'Python'} \n",
      "\n",
      "<class 'set'>\n",
      "3\n",
      "{'Scala', 'JavaScript', 'Python'} \n",
      "\n",
      "<class 'set'>\n",
      "3\n",
      "{'Scala', 'JavaScript', 'Python'} \n",
      "\n"
     ]
    }
   ],
   "source": [
    "my_set = {\"Python\", \"JavaScript\", \"Go\", \"Scala\"}\n",
    "\n",
    "print(type(my_set))\n",
    "print(len(my_set))\n",
    "print(my_set,\"\\n\")\n",
    "\n",
    "my_set.discard(\"Go\")\n",
    "\n",
    "print(type(my_set))\n",
    "print(len(my_set))\n",
    "print(my_set,\"\\n\")\n",
    "\n",
    "my_set.discard(\"test\")       # no importa que el valor no esté presente\n",
    "\n",
    "print(type(my_set))\n",
    "print(len(my_set))\n",
    "print(my_set,\"\\n\")"
   ]
  },
  {
   "cell_type": "markdown",
   "id": "e9161b1d",
   "metadata": {},
   "source": [
    "# intersection\n",
    "obtiene los valores en común en 2 sets"
   ]
  },
  {
   "cell_type": "code",
   "execution_count": 11,
   "id": "b0a2d66c",
   "metadata": {},
   "outputs": [
    {
     "name": "stdout",
     "output_type": "stream",
     "text": [
      "{1, 7}\n",
      "{1, 7}\n"
     ]
    }
   ],
   "source": [
    "set_a = {1, 3, 5, 7, 9}\n",
    "set_b = {1, 2, 4, 6, 7, 8}\n",
    "\n",
    "print(set_a.intersection(set_b))\n",
    "print(set_b.intersection(set_a))"
   ]
  },
  {
   "cell_type": "markdown",
   "id": "54a6cb4f",
   "metadata": {},
   "source": [
    "# intersection_update\n",
    "Obtiene los valores en común en 2 sets y los asigna al set que manda llamar el método"
   ]
  },
  {
   "cell_type": "code",
   "execution_count": 12,
   "id": "2e31dc4f",
   "metadata": {},
   "outputs": [
    {
     "name": "stdout",
     "output_type": "stream",
     "text": [
      "<class 'set'>\n",
      "2\n",
      "{1, 7} \n",
      "\n",
      "<class 'set'>\n",
      "6\n",
      "{1, 2, 4, 6, 7, 8} \n",
      "\n"
     ]
    }
   ],
   "source": [
    "set_a = {1, 3, 5, 7, 9}\n",
    "set_b = {1, 2, 4, 6, 7, 8}\n",
    "\n",
    "set_a.intersection_update(set_b)\n",
    "print(type(set_a))\n",
    "print(len(set_a))\n",
    "print(set_a,\"\\n\")\n",
    "\n",
    "print(type(set_b))\n",
    "print(len(set_b))\n",
    "print(set_b,\"\\n\")"
   ]
  },
  {
   "cell_type": "markdown",
   "id": "aaab33e0",
   "metadata": {},
   "source": [
    "# isdisjoint\n",
    "Regresa True: si no hay valores compartidos por ambos sets\n",
    "---------------------------------------------------------------------------------------------------------------------------Regresa False : si hay por lo menos un valor compartido por ambos sets"
   ]
  },
  {
   "cell_type": "code",
   "execution_count": 13,
   "id": "544ca116",
   "metadata": {},
   "outputs": [
    {
     "name": "stdout",
     "output_type": "stream",
     "text": [
      "False\n"
     ]
    }
   ],
   "source": [
    "set_a = {1, 3, 5, 7, 9}\n",
    "set_b = {1, 2, 4, 6, 7, 8}\n",
    "\n",
    "print(set_a.isdisjoint(set_b))"
   ]
  },
  {
   "cell_type": "code",
   "execution_count": 14,
   "id": "47a4d03f",
   "metadata": {},
   "outputs": [
    {
     "name": "stdout",
     "output_type": "stream",
     "text": [
      "False\n"
     ]
    }
   ],
   "source": [
    "set_a = {1, 3}\n",
    "set_b = {1, 2, 4, 6, 7, 8}\n",
    "\n",
    "print(set_a.isdisjoint(set_b))"
   ]
  },
  {
   "cell_type": "code",
   "execution_count": 15,
   "id": "01b0654a",
   "metadata": {},
   "outputs": [
    {
     "name": "stdout",
     "output_type": "stream",
     "text": [
      "True\n"
     ]
    }
   ],
   "source": [
    "set_a = {0, 3}\n",
    "set_b = {1, 2, 4, 6, 7, 8}\n",
    "\n",
    "print(set_a.isdisjoint(set_b))"
   ]
  },
  {
   "cell_type": "markdown",
   "id": "308b4744",
   "metadata": {},
   "source": [
    "# issubset\n",
    "Regresa True: Si todos los valores del set llamado están en el set pasado como parámetro"
   ]
  },
  {
   "cell_type": "code",
   "execution_count": 16,
   "id": "4d8d8be9",
   "metadata": {},
   "outputs": [
    {
     "name": "stdout",
     "output_type": "stream",
     "text": [
      "True\n"
     ]
    }
   ],
   "source": [
    "set_a = {1, 8}\n",
    "set_b = {1, 2, 4, 6, 7, 8}\n",
    "\n",
    "print(set_a.issubset(set_b))"
   ]
  },
  {
   "cell_type": "code",
   "execution_count": 17,
   "id": "cd12efdb",
   "metadata": {},
   "outputs": [
    {
     "name": "stdout",
     "output_type": "stream",
     "text": [
      "False\n"
     ]
    }
   ],
   "source": [
    "set_a = {1, 3, 8}\n",
    "set_b = {1, 2, 4, 6, 7, 8}\n",
    "\n",
    "print(set_a.issubset(set_b))"
   ]
  },
  {
   "cell_type": "markdown",
   "id": "99f437ff",
   "metadata": {},
   "source": [
    "# issuperset\n",
    "En cierta forma es opuesto a issubset.      --Analiza si todos los valores del set pasado como parámetro están en el set llamado."
   ]
  },
  {
   "cell_type": "code",
   "execution_count": 18,
   "id": "5d6f5d97",
   "metadata": {},
   "outputs": [
    {
     "name": "stdout",
     "output_type": "stream",
     "text": [
      "True\n"
     ]
    }
   ],
   "source": [
    "set_a = {1, 8}\n",
    "set_b = {1, 2, 4, 6, 7, 8}\n",
    "\n",
    "print(set_b.issuperset(set_a))"
   ]
  },
  {
   "cell_type": "code",
   "execution_count": 19,
   "id": "74d25111",
   "metadata": {},
   "outputs": [
    {
     "name": "stdout",
     "output_type": "stream",
     "text": [
      "False\n"
     ]
    }
   ],
   "source": [
    "set_a = {1, 3, 8}\n",
    "set_b = {1, 2, 4, 6, 7, 8}\n",
    "\n",
    "print(set_b.issuperset(set_a))"
   ]
  },
  {
   "cell_type": "markdown",
   "id": "261699e3",
   "metadata": {},
   "source": [
    "# pop\n",
    "Elimina el primer elemento del set"
   ]
  },
  {
   "cell_type": "code",
   "execution_count": 21,
   "id": "f6c6a306",
   "metadata": {},
   "outputs": [
    {
     "name": "stdout",
     "output_type": "stream",
     "text": [
      "<class 'set'>\n",
      "6\n",
      "{1, 2, 4, 6, 7, 8} \n",
      "\n",
      "1\n",
      "2\n",
      "4 \n",
      "\n",
      "<class 'set'>\n",
      "3\n",
      "{6, 7, 8}\n"
     ]
    }
   ],
   "source": [
    "my_set = {1, 2, 4, 6, 7, 8}\n",
    "\n",
    "print(type(my_set))\n",
    "print(len(my_set))\n",
    "print(my_set,\"\\n\")\n",
    "\n",
    "print(my_set.pop())\n",
    "print(my_set.pop())\n",
    "print(my_set.pop(),\"\\n\")\n",
    "\n",
    "print(type(my_set))\n",
    "print(len(my_set))\n",
    "print(my_set)"
   ]
  },
  {
   "cell_type": "markdown",
   "id": "21b52ff7",
   "metadata": {},
   "source": [
    "# remove\n",
    "Elimina el elemento pasado como parámetro, debe estar presente en el set ó mandará un error."
   ]
  },
  {
   "cell_type": "code",
   "execution_count": 22,
   "id": "b5e01872",
   "metadata": {},
   "outputs": [
    {
     "name": "stdout",
     "output_type": "stream",
     "text": [
      "<class 'set'>\n",
      "6\n",
      "{1, 2, 4, 6, 7, 8} \n",
      "\n",
      "<class 'set'>\n",
      "5\n",
      "{1, 2, 6, 7, 8} \n",
      "\n"
     ]
    },
    {
     "ename": "KeyError",
     "evalue": "3",
     "output_type": "error",
     "traceback": [
      "\u001b[1;31m---------------------------------------------------------------------------\u001b[0m",
      "\u001b[1;31mKeyError\u001b[0m                                  Traceback (most recent call last)",
      "Cell \u001b[1;32mIn[22], line 13\u001b[0m\n\u001b[0;32m     10\u001b[0m \u001b[38;5;28mprint\u001b[39m(\u001b[38;5;28mlen\u001b[39m(my_set))\n\u001b[0;32m     11\u001b[0m \u001b[38;5;28mprint\u001b[39m(my_set,\u001b[38;5;124m\"\u001b[39m\u001b[38;5;130;01m\\n\u001b[39;00m\u001b[38;5;124m\"\u001b[39m)\n\u001b[1;32m---> 13\u001b[0m \u001b[43mmy_set\u001b[49m\u001b[38;5;241;43m.\u001b[39;49m\u001b[43mremove\u001b[49m\u001b[43m(\u001b[49m\u001b[38;5;241;43m3\u001b[39;49m\u001b[43m)\u001b[49m\n\u001b[0;32m     15\u001b[0m \u001b[38;5;28mprint\u001b[39m(\u001b[38;5;28mtype\u001b[39m(my_set))\n\u001b[0;32m     16\u001b[0m \u001b[38;5;28mprint\u001b[39m(\u001b[38;5;28mlen\u001b[39m(my_set))\n",
      "\u001b[1;31mKeyError\u001b[0m: 3"
     ]
    }
   ],
   "source": [
    "my_set = {1, 2, 4, 6, 7, 8}\n",
    "\n",
    "print(type(my_set))\n",
    "print(len(my_set))\n",
    "print(my_set,\"\\n\")\n",
    "\n",
    "my_set.remove(4)\n",
    "\n",
    "print(type(my_set))\n",
    "print(len(my_set))\n",
    "print(my_set,\"\\n\")\n",
    "\n",
    "my_set.remove(3)               # no se encuentra este elemento, marcará error.\n",
    "\n",
    "print(type(my_set))\n",
    "print(len(my_set))\n",
    "print(my_set,\"\\n\")"
   ]
  },
  {
   "cell_type": "markdown",
   "id": "fb5a4f9f",
   "metadata": {},
   "source": [
    "# union\n",
    "Combina 2 sets."
   ]
  },
  {
   "cell_type": "code",
   "execution_count": 23,
   "id": "324a80ef",
   "metadata": {},
   "outputs": [
    {
     "name": "stdout",
     "output_type": "stream",
     "text": [
      "{1, 2, 3, 4, 6, 7, 8}\n"
     ]
    }
   ],
   "source": [
    "set_a = {1, 3, 8}\n",
    "set_b = {1, 2, 4, 6, 7, 8}\n",
    "\n",
    "set_c = set_a.union(set_b)\n",
    "print(set_c)"
   ]
  },
  {
   "cell_type": "markdown",
   "id": "f541681a",
   "metadata": {},
   "source": [
    "# update\n",
    "Añade los valores del set pasado como parámetro al set llamado."
   ]
  },
  {
   "cell_type": "code",
   "execution_count": 24,
   "id": "fcbdd8df",
   "metadata": {},
   "outputs": [
    {
     "name": "stdout",
     "output_type": "stream",
     "text": [
      "{1, 2, 3, 4, 6, 7, 8}\n",
      "{1, 2, 4, 6, 7, 8}\n"
     ]
    }
   ],
   "source": [
    "set_a = {1, 3, 8}\n",
    "set_b = {1, 2, 4, 6, 7, 8}\n",
    "\n",
    "set_a.update(set_b)\n",
    "print(set_a)\n",
    "print(set_b)"
   ]
  },
  {
   "cell_type": "markdown",
   "id": "12d28661",
   "metadata": {},
   "source": [
    "# symmetric_difference\n",
    "Obtiene las diferencias en ambos sets"
   ]
  },
  {
   "cell_type": "code",
   "execution_count": 25,
   "id": "692e97fa",
   "metadata": {},
   "outputs": [
    {
     "name": "stdout",
     "output_type": "stream",
     "text": [
      "{2, 3, 4, 6, 7}\n",
      "{2, 3, 4, 6, 7}\n"
     ]
    }
   ],
   "source": [
    "set_a = {1, 3, 8}\n",
    "set_b = {1, 2, 4, 6, 7, 8}\n",
    "\n",
    "print(set_a.symmetric_difference(set_b))\n",
    "print(set_b.symmetric_difference(set_a))"
   ]
  },
  {
   "cell_type": "markdown",
   "id": "8d37e24a",
   "metadata": {},
   "source": [
    "# symmetric_difference_update\n",
    "Obtiene las diferencias de ambos sets y asigna los valores al set llamado"
   ]
  },
  {
   "cell_type": "code",
   "execution_count": 26,
   "id": "cc9169fa",
   "metadata": {},
   "outputs": [
    {
     "name": "stdout",
     "output_type": "stream",
     "text": [
      "{2, 3, 4, 6, 7}\n",
      "{1, 2, 4, 6, 7, 8}\n"
     ]
    }
   ],
   "source": [
    "set_a = {1, 3, 8}\n",
    "set_b = {1, 2, 4, 6, 7, 8}\n",
    "\n",
    "set_a.symmetric_difference_update(set_b)\n",
    "print(set_a)\n",
    "print(set_b)"
   ]
  },
  {
   "cell_type": "markdown",
   "id": "2d63b0fc",
   "metadata": {},
   "source": [
    "# Conversión de sets"
   ]
  },
  {
   "cell_type": "markdown",
   "id": "461fe9a2",
   "metadata": {},
   "source": [
    "# De cadena a set"
   ]
  },
  {
   "cell_type": "code",
   "execution_count": 1,
   "id": "1e377a13",
   "metadata": {},
   "outputs": [
    {
     "name": "stdout",
     "output_type": "stream",
     "text": [
      "<class 'str'>\n",
      "Backend Python \n",
      "\n",
      "<class 'set'>\n",
      "{'e', 'P', 'B', 'a', 'n', 'y', 'k', 'o', 'h', 't', 'd', ' ', 'c'} \n",
      "\n"
     ]
    }
   ],
   "source": [
    "my_string = \"Backend Python\"\n",
    "my_set = set(my_string)\n",
    "\n",
    "print(type(my_string))\n",
    "print(my_string, \"\\n\")\n",
    "\n",
    "print(type(my_set))\n",
    "print(my_set, \"\\n\")"
   ]
  },
  {
   "cell_type": "markdown",
   "id": "fb3e3bd4",
   "metadata": {},
   "source": [
    "# De Lista a set"
   ]
  },
  {
   "cell_type": "code",
   "execution_count": 3,
   "id": "20596116",
   "metadata": {},
   "outputs": [
    {
     "name": "stdout",
     "output_type": "stream",
     "text": [
      "<class 'list'>\n",
      "[1, 1, 1, 2, 2, 3, 3, 4, 4, 5] \n",
      "\n",
      "<class 'set'>\n",
      "{1, 2, 3, 4, 5} \n",
      "\n"
     ]
    }
   ],
   "source": [
    "my_list = [1, 1, 1, 2, 2, 3, 3 , 4, 4, 5]\n",
    "my_set = set(my_list)\n",
    "\n",
    "print(type(my_list))\n",
    "print(my_list, \"\\n\")\n",
    "\n",
    "print(type(my_set))\n",
    "print(my_set, \"\\n\")"
   ]
  },
  {
   "cell_type": "markdown",
   "id": "19e861ad",
   "metadata": {},
   "source": [
    "# De tupla a set"
   ]
  },
  {
   "cell_type": "code",
   "execution_count": 4,
   "id": "06958d29",
   "metadata": {},
   "outputs": [
    {
     "name": "stdout",
     "output_type": "stream",
     "text": [
      "<class 'tuple'>\n",
      "(1, 1, 1, 2, 2, 3, 3, 4, 4, 5) \n",
      "\n",
      "<class 'set'>\n",
      "{1, 2, 3, 4, 5} \n",
      "\n"
     ]
    }
   ],
   "source": [
    "my_tuple = (1, 1, 1, 2, 2, 3, 3 , 4, 4, 5)\n",
    "my_set = set(my_tuple)\n",
    "\n",
    "print(type(my_tuple))\n",
    "print(my_tuple, \"\\n\")\n",
    "\n",
    "print(type(my_set))\n",
    "print(my_set, \"\\n\")"
   ]
  },
  {
   "cell_type": "markdown",
   "id": "de1cf0a4",
   "metadata": {},
   "source": [
    "# De Set a cadena"
   ]
  },
  {
   "cell_type": "code",
   "execution_count": 5,
   "id": "54e951de",
   "metadata": {},
   "outputs": [
    {
     "name": "stdout",
     "output_type": "stream",
     "text": [
      "<class 'set'>\n",
      "{'e', 'P', 'B', 'a', 'n', 'y', 'k', 'o', 'h', 't', 'd', ' ', 'c'} \n",
      "\n",
      "<class 'str'>\n",
      "ePBanykohtd c \n",
      "\n"
     ]
    }
   ],
   "source": [
    "my_set = {'e', 'P', 'B', 'a', 'n', 'y', 'k', 'o', 'h', 't', 'd', ' ', 'c'} \n",
    "my_string = \"\".join(my_set)\n",
    "\n",
    "print(type(my_set))\n",
    "print(my_set, \"\\n\")\n",
    "\n",
    "print(type(my_string))\n",
    "print(my_string, \"\\n\")\n"
   ]
  },
  {
   "cell_type": "markdown",
   "id": "fd2b7f35",
   "metadata": {},
   "source": [
    "# de Set a Lista"
   ]
  },
  {
   "cell_type": "code",
   "execution_count": 6,
   "id": "09829c3d",
   "metadata": {},
   "outputs": [
    {
     "name": "stdout",
     "output_type": "stream",
     "text": [
      "<class 'set'>\n",
      "{1, 2, 3, 4, 5} \n",
      "\n",
      "<class 'list'>\n",
      "[1, 2, 3, 4, 5] \n",
      "\n"
     ]
    }
   ],
   "source": [
    "my_set = {1, 2, 3, 4, 5} \n",
    "my_list = list(my_set)\n",
    "\n",
    "print(type(my_set))\n",
    "print(my_set, \"\\n\")\n",
    "\n",
    "print(type(my_list))\n",
    "print(my_list, \"\\n\")"
   ]
  },
  {
   "cell_type": "markdown",
   "id": "af24efda",
   "metadata": {},
   "source": [
    "# De set a tupla"
   ]
  },
  {
   "cell_type": "code",
   "execution_count": 7,
   "id": "c2912b33",
   "metadata": {},
   "outputs": [
    {
     "name": "stdout",
     "output_type": "stream",
     "text": [
      "<class 'set'>\n",
      "{1, 2, 3, 4, 5} \n",
      "\n",
      "<class 'tuple'>\n",
      "(1, 2, 3, 4, 5) \n",
      "\n"
     ]
    }
   ],
   "source": [
    "my_set = {1, 2, 3, 4, 5} \n",
    "my_tuple = tuple(my_set)\n",
    "\n",
    "print(type(my_set))\n",
    "print(my_set, \"\\n\")\n",
    "\n",
    "print(type(my_tuple))\n",
    "print(my_tuple, \"\\n\")"
   ]
  }
 ],
 "metadata": {
  "kernelspec": {
   "display_name": "Python 3 (ipykernel)",
   "language": "python",
   "name": "python3"
  },
  "language_info": {
   "codemirror_mode": {
    "name": "ipython",
    "version": 3
   },
   "file_extension": ".py",
   "mimetype": "text/x-python",
   "name": "python",
   "nbconvert_exporter": "python",
   "pygments_lexer": "ipython3",
   "version": "3.11.3"
  }
 },
 "nbformat": 4,
 "nbformat_minor": 5
}
