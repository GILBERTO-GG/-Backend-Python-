{
 "cells": [
  {
   "cell_type": "code",
   "execution_count": 12,
   "id": "a4159b76",
   "metadata": {
    "scrolled": false
   },
   "outputs": [
    {
     "name": "stdout",
     "output_type": "stream",
     "text": [
      "Programa que dado un texto proporcionado por el usuario, imprime el número de veces que cada palabra se repite.\n",
      "\n",
      "\n",
      "Introduce una frase:  Hoy es un día Hermoso. Hoy va a ser un gran día. Hoy vamos a aprender muchas cosas nuevas.\n",
      "\n",
      "\n",
      "  La frase que introduciste es: \n",
      "\n",
      " Hoy es un día Hermoso. Hoy va a ser un gran día. Hoy vamos a aprender muchas cosas nuevas.\n",
      "\n",
      "\n",
      " Tu frase convertida en lista es:    ['Hoy', 'es', 'un', 'día', 'Hermoso.', 'Hoy', 'va', 'a', 'ser', 'un', 'gran', 'día.', 'Hoy', 'vamos', 'a', 'aprender', 'muchas', 'cosas', 'nuevas.']\n",
      "\n",
      "\n",
      " La palabra 'Hoy' se repite:  3 instancias\n"
     ]
    }
   ],
   "source": [
    "print(\"Programa que dado un texto proporcionado por el usuario, imprime el número de veces que cada palabra se repite.\\n\\n\")\n",
    "\n",
    "texto = input(\"Introduce una frase:  \")                         # texto introducido por el usuario con input\n",
    "print(\"\\n\\n  La frase que introduciste es: \\n\\n\", texto)        \n",
    "\n",
    "\n",
    "mi_lista = texto.split()                                        #\n",
    "print(\"\\n\\n Tu frase convertida en lista es:   \" ,mi_lista)\n",
    "\n",
    "print(\"\\n\\n La palabra 'Hoy' se repite: \" , mi_lista.count(\"Hoy\"), \"instancias\")"
   ]
  }
 ],
 "metadata": {
  "kernelspec": {
   "display_name": "Python 3 (ipykernel)",
   "language": "python",
   "name": "python3"
  },
  "language_info": {
   "codemirror_mode": {
    "name": "ipython",
    "version": 3
   },
   "file_extension": ".py",
   "mimetype": "text/x-python",
   "name": "python",
   "nbconvert_exporter": "python",
   "pygments_lexer": "ipython3",
   "version": "3.11.3"
  }
 },
 "nbformat": 4,
 "nbformat_minor": 5
}
