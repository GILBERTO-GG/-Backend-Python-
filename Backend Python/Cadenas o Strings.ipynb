{
 "cells": [
  {
   "cell_type": "markdown",
   "id": "7856025f",
   "metadata": {},
   "source": [
    "# Indexación de Cadenas"
   ]
  },
  {
   "cell_type": "markdown",
   "id": "95a361bd",
   "metadata": {},
   "source": [
    "# ¿Qué  es un índice?  ¿Por qué es necesario?"
   ]
  },
  {
   "cell_type": "code",
   "execution_count": null,
   "id": "bffe7cb3",
   "metadata": {},
   "outputs": [],
   "source": [
    "--INDEXACIÓN.- significa acceder a los elementos.\n",
    "--Para acceder a los elementos podemos usar corchetes []  \n",
    "--El índice o número que pongamos entre los corchetes se refiere a la posición dentro de la lista ordenada.\n",
    "--La indexación puede usarse para extraer elementos individuales de una estructura de datos.\n",
    "--En python toda la indexación parte desde el número 0 como primera posición.\n",
    "\n",
    "--En Python tenemos dos tipos de índices:\n",
    "    \n",
    "    --Positivos.- comienzan desde 0, éstos índices buscan de izquierda a derecha la posición solicitada.\n",
    "    --Negativos.- comienzan desde -1, éstos índices buscan de derecha a izquierda la posición solicitada."
   ]
  },
  {
   "cell_type": "markdown",
   "id": "c604eddb",
   "metadata": {},
   "source": [
    "# Segmentación de cadenas"
   ]
  },
  {
   "cell_type": "code",
   "execution_count": 3,
   "id": "3c809e8e",
   "metadata": {},
   "outputs": [
    {
     "name": "stdout",
     "output_type": "stream",
     "text": [
      "Curso de Backend Python\n",
      "<class 'str'>\n",
      "C\n",
      "Curso\n",
      "Curso\n",
      "Curso de Backend Python\n",
      "de Ba\n"
     ]
    }
   ],
   "source": [
    "# índices positivos\n",
    "\n",
    "my_string = \"Curso de Backend Python\"\n",
    "print(my_string)\n",
    "print(type(my_string))\n",
    "print(my_string[0])\n",
    "print(my_string[0:5])       # 0,1,2,3,4\n",
    "print(my_string[:5])\n",
    "print(my_string[:])          #todos\n",
    "print(my_string[6:11])       # 6,7,8,9,10\n"
   ]
  },
  {
   "cell_type": "code",
   "execution_count": 4,
   "id": "ab506545",
   "metadata": {},
   "outputs": [
    {
     "ename": "IndexError",
     "evalue": "string index out of range",
     "output_type": "error",
     "traceback": [
      "\u001b[1;31m---------------------------------------------------------------------------\u001b[0m",
      "\u001b[1;31mIndexError\u001b[0m                                Traceback (most recent call last)",
      "Cell \u001b[1;32mIn[4], line 4\u001b[0m\n\u001b[0;32m      1\u001b[0m \u001b[38;5;66;03m# error\u001b[39;00m\n\u001b[0;32m      3\u001b[0m my_string \u001b[38;5;241m=\u001b[39m \u001b[38;5;124m\"\u001b[39m\u001b[38;5;124mCurso de Backend Python\u001b[39m\u001b[38;5;124m\"\u001b[39m\n\u001b[1;32m----> 4\u001b[0m \u001b[38;5;28mprint\u001b[39m(\u001b[43mmy_string\u001b[49m\u001b[43m[\u001b[49m\u001b[38;5;241;43m9999\u001b[39;49m\u001b[43m]\u001b[49m)\n",
      "\u001b[1;31mIndexError\u001b[0m: string index out of range"
     ]
    }
   ],
   "source": [
    "# error\n",
    "\n",
    "my_string = \"Curso de Backend Python\"\n",
    "print(my_string[9999])"
   ]
  },
  {
   "cell_type": "code",
   "execution_count": 5,
   "id": "b00ad87a",
   "metadata": {},
   "outputs": [
    {
     "name": "stdout",
     "output_type": "stream",
     "text": [
      "n\n",
      "n\n",
      "ython\n"
     ]
    }
   ],
   "source": [
    "# índices negativos\n",
    "\n",
    "my_string = \"Curso de Backend Python\"\n",
    "print(my_string[len(my_string)-1])\n",
    "print(my_string[-1])\n",
    "print(my_string[-5:])\n"
   ]
  },
  {
   "cell_type": "markdown",
   "id": "6e468394",
   "metadata": {},
   "source": [
    "# Concatenación de Cadenas"
   ]
  },
  {
   "cell_type": "code",
   "execution_count": 8,
   "id": "4f4de2ad",
   "metadata": {},
   "outputs": [
    {
     "name": "stdout",
     "output_type": "stream",
     "text": [
      "Curso\n",
      "Backend Python\n",
      "CursoBackend Python\n",
      "Curso Backend Python\n",
      "Curso Backend Python\n"
     ]
    }
   ],
   "source": [
    "my_string_1 = \"Curso\"\n",
    "my_string_2 = \"Backend Python\"\n",
    "print(my_string_1)\n",
    "print(my_string_2)\n",
    "print(my_string_1 + my_string_2)\n",
    "print(my_string_1 + \" \" + my_string_2)\n",
    "print(\"{} {}\".format(my_string_1, my_string_2))"
   ]
  },
  {
   "cell_type": "code",
   "execution_count": 14,
   "id": "38ae6ad1",
   "metadata": {},
   "outputs": [
    {
     "name": "stdout",
     "output_type": "stream",
     "text": [
      "1020\n",
      "1020\n",
      "30\n",
      "30\n",
      "30\n"
     ]
    }
   ],
   "source": [
    "my_string_1 = \"10\"\n",
    "my_string_2 = \"20\"\n",
    "print(my_string_1 + my_string_2)\n",
    "print(eval(my_string_1 + my_string_2))\n",
    "print(eval(\"{}+{}\".format(my_string_1, my_string_2)))\n",
    "print(int(my_string_1)+int(my_string_2))\n",
    "print(eval(my_string_1) + eval(my_string_2))"
   ]
  },
  {
   "cell_type": "code",
   "execution_count": 15,
   "id": "4747d8f8",
   "metadata": {},
   "outputs": [
    {
     "ename": "TypeError",
     "evalue": "unsupported operand type(s) for +: 'int' and 'str'",
     "output_type": "error",
     "traceback": [
      "\u001b[1;31m---------------------------------------------------------------------------\u001b[0m",
      "\u001b[1;31mTypeError\u001b[0m                                 Traceback (most recent call last)",
      "Cell \u001b[1;32mIn[15], line 3\u001b[0m\n\u001b[0;32m      1\u001b[0m \u001b[38;5;66;03m# error\u001b[39;00m\n\u001b[1;32m----> 3\u001b[0m \u001b[38;5;241;43m10\u001b[39;49m\u001b[43m \u001b[49m\u001b[38;5;241;43m+\u001b[39;49m\u001b[43m \u001b[49m\u001b[38;5;124;43m\"\u001b[39;49m\u001b[38;5;124;43m10\u001b[39;49m\u001b[38;5;124;43m\"\u001b[39;49m\n",
      "\u001b[1;31mTypeError\u001b[0m: unsupported operand type(s) for +: 'int' and 'str'"
     ]
    }
   ],
   "source": [
    "# error\n",
    "\n",
    "10 + \"10\""
   ]
  },
  {
   "cell_type": "markdown",
   "id": "2ccf5e3d",
   "metadata": {},
   "source": [
    "# Multiplicación de cadenas"
   ]
  },
  {
   "cell_type": "code",
   "execution_count": 1,
   "id": "2750e596",
   "metadata": {},
   "outputs": [
    {
     "name": "stdout",
     "output_type": "stream",
     "text": [
      "cargando ...cargando ...cargando ...cargando ...cargando ...\n"
     ]
    }
   ],
   "source": [
    "my_string = \"cargando ...\"\n",
    "print(my_string * 5)"
   ]
  },
  {
   "cell_type": "code",
   "execution_count": 2,
   "id": "158a0cfc",
   "metadata": {},
   "outputs": [
    {
     "name": "stdout",
     "output_type": "stream",
     "text": [
      "cargando ...\n",
      "cargando ...\n",
      "cargando ...\n",
      "cargando ...\n",
      "cargando ...\n",
      "\n"
     ]
    }
   ],
   "source": [
    "my_string = \"cargando ...\\n\"\n",
    "print(my_string * 5)"
   ]
  },
  {
   "cell_type": "code",
   "execution_count": 4,
   "id": "2313b5a7",
   "metadata": {},
   "outputs": [
    {
     "name": "stdout",
     "output_type": "stream",
     "text": [
      "\n"
     ]
    }
   ],
   "source": [
    "# vacío\n",
    "\n",
    "my_string = \"cargando ...\\n\"                 # no lo va a imprimir\n",
    "print(my_string * 0)"
   ]
  },
  {
   "cell_type": "code",
   "execution_count": 5,
   "id": "ea95503b",
   "metadata": {},
   "outputs": [
    {
     "name": "stdout",
     "output_type": "stream",
     "text": [
      "\n"
     ]
    }
   ],
   "source": [
    "#número negativo\n",
    "\n",
    "my_string = \"cargando ...\\n\"              # también viene vacío\n",
    "print(my_string * -6)"
   ]
  },
  {
   "cell_type": "code",
   "execution_count": 6,
   "id": "c0a8c31d",
   "metadata": {},
   "outputs": [
    {
     "ename": "TypeError",
     "evalue": "can't multiply sequence by non-int of type 'float'",
     "output_type": "error",
     "traceback": [
      "\u001b[1;31m---------------------------------------------------------------------------\u001b[0m",
      "\u001b[1;31mTypeError\u001b[0m                                 Traceback (most recent call last)",
      "Cell \u001b[1;32mIn[6], line 4\u001b[0m\n\u001b[0;32m      1\u001b[0m \u001b[38;5;66;03m# error\u001b[39;00m\n\u001b[0;32m      3\u001b[0m my_string \u001b[38;5;241m=\u001b[39m \u001b[38;5;124m\"\u001b[39m\u001b[38;5;124mcargando ...\u001b[39m\u001b[38;5;130;01m\\n\u001b[39;00m\u001b[38;5;124m\"\u001b[39m\n\u001b[1;32m----> 4\u001b[0m \u001b[38;5;28mprint\u001b[39m(\u001b[43mmy_string\u001b[49m\u001b[43m \u001b[49m\u001b[38;5;241;43m*\u001b[39;49m\u001b[43m \u001b[49m\u001b[38;5;241;43m5.0\u001b[39;49m)\n",
      "\u001b[1;31mTypeError\u001b[0m: can't multiply sequence by non-int of type 'float'"
     ]
    }
   ],
   "source": [
    "# error\n",
    "\n",
    "my_string = \"cargando ...\\n\"\n",
    "print(my_string * 5.0)"
   ]
  },
  {
   "cell_type": "markdown",
   "id": "4b1559ff",
   "metadata": {},
   "source": [
    "# Comparación de Cadenas"
   ]
  },
  {
   "cell_type": "code",
   "execution_count": 8,
   "id": "d2eb1a18",
   "metadata": {},
   "outputs": [
    {
     "name": "stdout",
     "output_type": "stream",
     "text": [
      "False\n"
     ]
    }
   ],
   "source": [
    "my_string1 = \"Prueba\"\n",
    "my_string2 = \"prueba\"\n",
    "print(my_string1 == my_string2)"
   ]
  }
 ],
 "metadata": {
  "kernelspec": {
   "display_name": "Python 3 (ipykernel)",
   "language": "python",
   "name": "python3"
  },
  "language_info": {
   "codemirror_mode": {
    "name": "ipython",
    "version": 3
   },
   "file_extension": ".py",
   "mimetype": "text/x-python",
   "name": "python",
   "nbconvert_exporter": "python",
   "pygments_lexer": "ipython3",
   "version": "3.11.3"
  }
 },
 "nbformat": 4,
 "nbformat_minor": 5
}
