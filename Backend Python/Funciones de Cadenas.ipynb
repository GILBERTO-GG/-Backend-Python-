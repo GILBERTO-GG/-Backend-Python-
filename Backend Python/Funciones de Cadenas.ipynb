{
 "cells": [
  {
   "cell_type": "markdown",
   "id": "ecad956b",
   "metadata": {},
   "source": [
    "# Funciones de Cadenas"
   ]
  },
  {
   "cell_type": "markdown",
   "id": "6614fe66",
   "metadata": {},
   "source": [
    "# split\n",
    "\n",
    "--Divide la cadena basándose en el separador especificado"
   ]
  },
  {
   "cell_type": "code",
   "execution_count": 2,
   "id": "f18ff0d6",
   "metadata": {},
   "outputs": [
    {
     "name": "stdout",
     "output_type": "stream",
     "text": [
      "['El', 'curso', 'de', 'Backend', 'Python', 'de', 'EBAC', 'te', 'lleva', 'de', 'la', 'mano', 'para', 'que', 'aprendas', 'a', 'programar']\n"
     ]
    }
   ],
   "source": [
    "my_string = \"El curso de Backend Python de EBAC te lleva de la mano para que aprendas a programar\"\n",
    "\n",
    "split_result = my_string.split(\" \")\n",
    "\n",
    "print(split_result)"
   ]
  },
  {
   "cell_type": "code",
   "execution_count": 4,
   "id": "eb549180",
   "metadata": {},
   "outputs": [
    {
     "name": "stdout",
     "output_type": "stream",
     "text": [
      "user123\n",
      "gmail.com\n"
     ]
    }
   ],
   "source": [
    "my_string = \"user123@gmail.com\"\n",
    "\n",
    "username, domain = my_string.split(\"@\")\n",
    "\n",
    "print(username)\n",
    "print(domain)"
   ]
  },
  {
   "cell_type": "code",
   "execution_count": 8,
   "id": "623bae9b",
   "metadata": {},
   "outputs": [
    {
     "name": "stdout",
     "output_type": "stream",
     "text": [
      "date:  2022-09-28\n",
      "log_level:  error\n",
      "message:  Este es un mensaje de error\n",
      "date:  2022-09-27\n",
      "log_level:  warning\n",
      "message:  Este es un mensaje de advertencia\n",
      "date:  2022-09-25\n",
      "log_level:  info\n",
      "message:  Este es un mensaje informativo\n"
     ]
    }
   ],
   "source": [
    "my_string = \"\"\"2022-09-28|error|Este es un mensaje de error\n",
    "2022-09-27|warning|Este es un mensaje de advertencia\n",
    "2022-09-25|info|Este es un mensaje informativo\"\"\"\n",
    "\n",
    "logs = my_string.split(\"\\n\")\n",
    "\n",
    "for log in logs:\n",
    "    date, log_level, message = log.split(\"|\")\n",
    "    print(\"date: \", date)\n",
    "    print(\"log_level: \", log_level)\n",
    "    print(\"message: \", message)"
   ]
  },
  {
   "cell_type": "markdown",
   "id": "3dda0a38",
   "metadata": {},
   "source": [
    "# index / find \n",
    "---Busca la primer posición de la subcadena solicitada en la cadena deseada."
   ]
  },
  {
   "cell_type": "code",
   "execution_count": 9,
   "id": "9f659d77",
   "metadata": {},
   "outputs": [
    {
     "name": "stdout",
     "output_type": "stream",
     "text": [
      "La primera posición de 'Python' en my_string es:  20\n",
      "La primera posición de 'Python' en my_string es:  20\n"
     ]
    }
   ],
   "source": [
    "my_string = \"El curso de Backend Python de EBAC te lleva de la mano para que aprendas a programar\"\n",
    "\n",
    "print(\"La primera posición de 'Python' en my_string es: \", my_string.index(\"Python\"))\n",
    "print(\"La primera posición de 'Python' en my_string es: \", my_string.find(\"Python\"))"
   ]
  },
  {
   "cell_type": "code",
   "execution_count": 10,
   "id": "000c3270",
   "metadata": {},
   "outputs": [
    {
     "name": "stdout",
     "output_type": "stream",
     "text": [
      "La primera posición de 'Backend' en my_string es:  12\n",
      "La primera posición de 'Backend' en my_string es:  12\n"
     ]
    }
   ],
   "source": [
    "my_string = \"El curso de Backend Python de EBAC te lleva de la mano para que aprendas a programar\"\n",
    "\n",
    "print(\"La primera posición de 'Backend' en my_string es: \", my_string.index(\"Backend\"))\n",
    "print(\"La primera posición de 'Backend' en my_string es: \", my_string.find(\"Backend\"))"
   ]
  },
  {
   "cell_type": "code",
   "execution_count": 11,
   "id": "e10887c6",
   "metadata": {},
   "outputs": [
    {
     "name": "stdout",
     "output_type": "stream",
     "text": [
      "La primera posición de 'E' en my_string es:  0\n",
      "La primera posición de 'E' en my_string es:  0\n"
     ]
    }
   ],
   "source": [
    "my_string = \"El curso de Backend Python de EBAC te lleva de la mano para que aprendas a programar\"\n",
    "\n",
    "print(\"La primera posición de 'E' en my_string es: \", my_string.index(\"E\"))\n",
    "print(\"La primera posición de 'E' en my_string es: \", my_string.find(\"E\"))"
   ]
  },
  {
   "cell_type": "markdown",
   "id": "fb8c7652",
   "metadata": {},
   "source": [
    "# count\n",
    "--Cuenta el número de apariciones de la subcadena solicitada en la cadena completa."
   ]
  },
  {
   "cell_type": "code",
   "execution_count": 12,
   "id": "0b615b02",
   "metadata": {},
   "outputs": [
    {
     "name": "stdout",
     "output_type": "stream",
     "text": [
      "La cantidad de 'E' en my_string es:  2\n"
     ]
    }
   ],
   "source": [
    "my_string = \"El curso de Backend Python de EBAC te lleva de la mano para que aprendas a programar\"\n",
    "\n",
    "print(\"La cantidad de 'E' en my_string es: \", my_string.count(\"E\"))"
   ]
  },
  {
   "cell_type": "code",
   "execution_count": 13,
   "id": "1314f121",
   "metadata": {},
   "outputs": [
    {
     "name": "stdout",
     "output_type": "stream",
     "text": [
      "La cantidad de 'de' en my_string es:  3\n"
     ]
    }
   ],
   "source": [
    "my_string = \"El curso de Backend Python de EBAC te lleva de la mano para que aprendas a programar\"\n",
    "\n",
    "print(\"La cantidad de 'de' en my_string es: \", my_string.count(\"de\"))"
   ]
  },
  {
   "cell_type": "markdown",
   "id": "22a5713f",
   "metadata": {},
   "source": [
    "# len\n",
    "--Cuenta la longitud, ó cuantos caracteres hay"
   ]
  },
  {
   "cell_type": "code",
   "execution_count": 15,
   "id": "27e0beeb",
   "metadata": {},
   "outputs": [
    {
     "name": "stdout",
     "output_type": "stream",
     "text": [
      "La cantidad de caracteres en 'my_string' es:  84\n"
     ]
    }
   ],
   "source": [
    "my_string = \"El curso de Backend Python de EBAC te lleva de la mano para que aprendas a programar\"\n",
    "\n",
    "print(\"La cantidad de caracteres en 'my_string' es: \", len(my_string))"
   ]
  },
  {
   "cell_type": "markdown",
   "id": "882747f0",
   "metadata": {},
   "source": [
    "# strip\n",
    "--Remueve espacios"
   ]
  },
  {
   "cell_type": "code",
   "execution_count": 17,
   "id": "6d612f7b",
   "metadata": {},
   "outputs": [
    {
     "name": "stdout",
     "output_type": "stream",
     "text": [
      "          Backend Python    \n",
      "Backend Python\n"
     ]
    }
   ],
   "source": [
    "my_string = \"          Backend Python    \"\n",
    "print(my_string)\n",
    "print(my_string.strip())"
   ]
  },
  {
   "cell_type": "code",
   "execution_count": 19,
   "id": "431befbb",
   "metadata": {},
   "outputs": [
    {
     "name": "stdout",
     "output_type": "stream",
     "text": [
      "[          Backend Python    ]\n",
      "[Backend Python]\n"
     ]
    }
   ],
   "source": [
    "my_string = \"          Backend Python    \"\n",
    "print(\"[{}]\".format(my_string))\n",
    "print(\"[{}]\".format(my_string.strip()))"
   ]
  },
  {
   "cell_type": "code",
   "execution_count": 20,
   "id": "a84c2aca",
   "metadata": {},
   "outputs": [
    {
     "name": "stdout",
     "output_type": "stream",
     "text": [
      "[    \n",
      "\n",
      "\t\r",
      "      Backend Python   \n",
      "\n",
      "\t\r",
      "  ]\n",
      "[Backend Python]\n"
     ]
    }
   ],
   "source": [
    "my_string = \"    \\n\\n\\t\\r      Backend Python   \\n\\n\\t\\r  \"\n",
    "print(\"[{}]\".format(my_string))\n",
    "print(\"[{}]\".format(my_string.strip()))"
   ]
  },
  {
   "cell_type": "code",
   "execution_count": 23,
   "id": "4532241f",
   "metadata": {},
   "outputs": [
    {
     "name": "stdout",
     "output_type": "stream",
     "text": [
      "[Backend Python]\n",
      "[Backend Pytho]\n"
     ]
    }
   ],
   "source": [
    "my_string = \"Backend Python\"\n",
    "print(\"[{}]\".format(my_string))\n",
    "print(\"[{}]\".format(my_string.strip(\"n\")))"
   ]
  },
  {
   "cell_type": "markdown",
   "id": "5ace378a",
   "metadata": {},
   "source": [
    "# isdecimal / isnumeric /isdigit\n",
    "---Analiza si la cadena contiene solamente números enteros"
   ]
  },
  {
   "cell_type": "code",
   "execution_count": 24,
   "id": "c7fc1c61",
   "metadata": {},
   "outputs": [
    {
     "name": "stdout",
     "output_type": "stream",
     "text": [
      "True\n",
      "True\n",
      "True\n"
     ]
    }
   ],
   "source": [
    "my_string = \"1298751351246131\"\n",
    "print(my_string.isdecimal())\n",
    "print(my_string.isnumeric())\n",
    "print(my_string.isdigit())"
   ]
  },
  {
   "cell_type": "code",
   "execution_count": 25,
   "id": "cb87c852",
   "metadata": {},
   "outputs": [
    {
     "name": "stdout",
     "output_type": "stream",
     "text": [
      "False\n",
      "False\n",
      "False\n"
     ]
    }
   ],
   "source": [
    "my_string = \"129875.1351246131\"\n",
    "print(my_string.isdecimal())\n",
    "print(my_string.isnumeric())\n",
    "print(my_string.isdigit())"
   ]
  },
  {
   "cell_type": "code",
   "execution_count": 27,
   "id": "6a2bf322",
   "metadata": {},
   "outputs": [
    {
     "name": "stdout",
     "output_type": "stream",
     "text": [
      "False\n",
      "False\n",
      "False\n"
     ]
    }
   ],
   "source": [
    "my_string = \"1298751351246131test\"\n",
    "print(my_string.isdecimal())\n",
    "print(my_string.isnumeric())\n",
    "print(my_string.isdigit())"
   ]
  },
  {
   "cell_type": "code",
   "execution_count": 28,
   "id": "381fcc63",
   "metadata": {},
   "outputs": [
    {
     "name": "stdout",
     "output_type": "stream",
     "text": [
      "False\n",
      "False\n",
      "False\n"
     ]
    }
   ],
   "source": [
    "my_string = \"1298751 351246131test\"\n",
    "print(my_string.isdecimal())\n",
    "print(my_string.isnumeric())\n",
    "print(my_string.isdigit())"
   ]
  },
  {
   "cell_type": "markdown",
   "id": "709eb47c",
   "metadata": {},
   "source": [
    "# isalnum\n",
    "---Analiza si todos los caracteres son alfanuméricos (letras o números)"
   ]
  },
  {
   "cell_type": "code",
   "execution_count": 29,
   "id": "7edd9c4f",
   "metadata": {},
   "outputs": [
    {
     "name": "stdout",
     "output_type": "stream",
     "text": [
      "True\n"
     ]
    }
   ],
   "source": [
    "my_string = \"1298751351246131\"\n",
    "print(my_string.isalnum())"
   ]
  },
  {
   "cell_type": "code",
   "execution_count": 30,
   "id": "aee5c424",
   "metadata": {},
   "outputs": [
    {
     "name": "stdout",
     "output_type": "stream",
     "text": [
      "False\n"
     ]
    }
   ],
   "source": [
    "my_string = \"129875.1351246131\"\n",
    "print(my_string.isalnum())"
   ]
  },
  {
   "cell_type": "code",
   "execution_count": 31,
   "id": "14101b27",
   "metadata": {},
   "outputs": [
    {
     "name": "stdout",
     "output_type": "stream",
     "text": [
      "True\n"
     ]
    }
   ],
   "source": [
    "my_string = \"1298751351246131test\"\n",
    "print(my_string.isalnum())"
   ]
  },
  {
   "cell_type": "code",
   "execution_count": 32,
   "id": "92004bc6",
   "metadata": {},
   "outputs": [
    {
     "name": "stdout",
     "output_type": "stream",
     "text": [
      "False\n"
     ]
    }
   ],
   "source": [
    "my_string = \"1298751 351246131test\"\n",
    "print(my_string.isalnum())"
   ]
  },
  {
   "cell_type": "markdown",
   "id": "9670642a",
   "metadata": {},
   "source": [
    "# isupper\n",
    "--Analiza si todas las letras presentes en la cadena son mayúsculas"
   ]
  },
  {
   "cell_type": "code",
   "execution_count": 33,
   "id": "eba3a27b",
   "metadata": {},
   "outputs": [
    {
     "name": "stdout",
     "output_type": "stream",
     "text": [
      "False\n"
     ]
    }
   ],
   "source": [
    "my_string = \"test\"\n",
    "print(my_string.isupper())"
   ]
  },
  {
   "cell_type": "code",
   "execution_count": 34,
   "id": "9d3ccf75",
   "metadata": {},
   "outputs": [
    {
     "name": "stdout",
     "output_type": "stream",
     "text": [
      "True\n"
     ]
    }
   ],
   "source": [
    "my_string = \"TEST\"\n",
    "print(my_string.isupper())"
   ]
  },
  {
   "cell_type": "code",
   "execution_count": 35,
   "id": "84279243",
   "metadata": {},
   "outputs": [
    {
     "name": "stdout",
     "output_type": "stream",
     "text": [
      "False\n"
     ]
    }
   ],
   "source": [
    "my_string = \"Test\"\n",
    "print(my_string.isupper())"
   ]
  },
  {
   "cell_type": "code",
   "execution_count": 36,
   "id": "4bd1c424",
   "metadata": {},
   "outputs": [
    {
     "name": "stdout",
     "output_type": "stream",
     "text": [
      "True\n"
     ]
    }
   ],
   "source": [
    "my_string = \"TEST12345\"\n",
    "print(my_string.isupper())"
   ]
  },
  {
   "cell_type": "markdown",
   "id": "eeea0b8d",
   "metadata": {},
   "source": [
    "# islower\n",
    "--Analiza si todas las letras presentes en la cadena son minúsculas."
   ]
  },
  {
   "cell_type": "code",
   "execution_count": 37,
   "id": "a9260d92",
   "metadata": {},
   "outputs": [
    {
     "name": "stdout",
     "output_type": "stream",
     "text": [
      "True\n"
     ]
    }
   ],
   "source": [
    "my_string = \"test\"\n",
    "print(my_string.islower())"
   ]
  },
  {
   "cell_type": "code",
   "execution_count": 38,
   "id": "22cc385c",
   "metadata": {},
   "outputs": [
    {
     "name": "stdout",
     "output_type": "stream",
     "text": [
      "False\n"
     ]
    }
   ],
   "source": [
    "my_string = \"TEST\"\n",
    "print(my_string.islower())"
   ]
  },
  {
   "cell_type": "code",
   "execution_count": 39,
   "id": "2f1c2835",
   "metadata": {},
   "outputs": [
    {
     "name": "stdout",
     "output_type": "stream",
     "text": [
      "False\n"
     ]
    }
   ],
   "source": [
    "my_string = \"Test\"\n",
    "print(my_string.islower())"
   ]
  },
  {
   "cell_type": "code",
   "execution_count": 40,
   "id": "97dd5def",
   "metadata": {},
   "outputs": [
    {
     "name": "stdout",
     "output_type": "stream",
     "text": [
      "True\n"
     ]
    }
   ],
   "source": [
    "my_string = \"test12345\"\n",
    "print(my_string.islower())"
   ]
  },
  {
   "cell_type": "markdown",
   "id": "c4d30284",
   "metadata": {},
   "source": [
    "# join\n",
    "--Crea una cadena de una lista, usando el separador especificado."
   ]
  },
  {
   "cell_type": "code",
   "execution_count": 41,
   "id": "35b82596",
   "metadata": {},
   "outputs": [
    {
     "name": "stdout",
     "output_type": "stream",
     "text": [
      "132|22|389|39|13\n"
     ]
    }
   ],
   "source": [
    "num_list = [\"132\", \"22\", \"389\", \"39\", \"13\"]         # esto es una lista\n",
    "separator = \"|\"\n",
    "print(separator.join(num_list))"
   ]
  },
  {
   "cell_type": "code",
   "execution_count": 42,
   "id": "dd5ad813",
   "metadata": {},
   "outputs": [
    {
     "name": "stdout",
     "output_type": "stream",
     "text": [
      "132--22--389--39--13\n"
     ]
    }
   ],
   "source": [
    "num_list = [\"132\", \"22\", \"389\", \"39\", \"13\"]         # esto es una lista\n",
    "separator = \"--\"\n",
    "print(separator.join(num_list))"
   ]
  },
  {
   "cell_type": "markdown",
   "id": "140b8928",
   "metadata": {},
   "source": [
    "# capitalize\n",
    "--Hace mayúscula la primer letra"
   ]
  },
  {
   "cell_type": "code",
   "execution_count": 43,
   "id": "660547e0",
   "metadata": {},
   "outputs": [
    {
     "name": "stdout",
     "output_type": "stream",
     "text": [
      "Backend python\n"
     ]
    }
   ],
   "source": [
    "my_string = \"backend Python\"\n",
    "print(my_string.capitalize())"
   ]
  },
  {
   "cell_type": "markdown",
   "id": "3a28a5ed",
   "metadata": {},
   "source": [
    "# format\n",
    "--Nos ayuda a configurar valores dentro de una cadena que es nuestro molde"
   ]
  },
  {
   "cell_type": "code",
   "execution_count": 44,
   "id": "3735d64a",
   "metadata": {},
   "outputs": [
    {
     "name": "stdout",
     "output_type": "stream",
     "text": [
      "44 es el valor\n",
      "23 es el valor\n",
      "7 es el valor\n"
     ]
    }
   ],
   "source": [
    "my_string = \"{} es el valor\"\n",
    "print(my_string.format(\"44\"))\n",
    "print(my_string.format(\"23\"))\n",
    "print(my_string.format(\"7\"))"
   ]
  },
  {
   "cell_type": "code",
   "execution_count": 45,
   "id": "cf7dde83",
   "metadata": {},
   "outputs": [
    {
     "name": "stdout",
     "output_type": "stream",
     "text": [
      "año: 1995 hora: 9:40\n",
      "año: 2000 hora: 14:30\n",
      "año: 2022 hora: 3:21\n"
     ]
    }
   ],
   "source": [
    "my_string = \"año: {} hora: {}\"\n",
    "print(my_string.format(\"1995\", \"9:40\"))\n",
    "print(my_string.format(\"2000\", \"14:30\"))\n",
    "print(my_string.format(\"2022\", \"3:21\"))"
   ]
  },
  {
   "cell_type": "code",
   "execution_count": 46,
   "id": "9968ed62",
   "metadata": {},
   "outputs": [
    {
     "name": "stdout",
     "output_type": "stream",
     "text": [
      "hora: 9:40 año: 1995\n",
      "hora: 14:30 año: 2000\n",
      "hora: 3:21 año: 2022\n"
     ]
    }
   ],
   "source": [
    "my_string = \"hora: {1} año: {0}\"\n",
    "print(my_string.format(\"1995\", \"9:40\"))\n",
    "print(my_string.format(\"2000\", \"14:30\"))\n",
    "print(my_string.format(\"2022\", \"3:21\"))"
   ]
  },
  {
   "cell_type": "markdown",
   "id": "c8c396f4",
   "metadata": {},
   "source": [
    "# center\n",
    "--Centra el texto dada cierta longitud."
   ]
  },
  {
   "cell_type": "code",
   "execution_count": 48,
   "id": "5f6b0dc8",
   "metadata": {},
   "outputs": [
    {
     "name": "stdout",
     "output_type": "stream",
     "text": [
      "[ Probando funciones ]\n",
      "[      Probando funciones      ]\n",
      "[           Probando funciones           ]\n",
      "[                Probando funciones                ]\n"
     ]
    }
   ],
   "source": [
    "my_string = \"Probando funciones\"\n",
    "print(\"[{}]\".format(my_string.center(20)))\n",
    "print(\"[{}]\".format(my_string.center(30)))\n",
    "print(\"[{}]\".format(my_string.center(40)))\n",
    "print(\"[{}]\".format(my_string.center(50)))"
   ]
  },
  {
   "cell_type": "markdown",
   "id": "c5a5f40d",
   "metadata": {},
   "source": [
    "# endswith\n",
    "--Evalúa si la cadena termina con el caracter ó palabra solicitada."
   ]
  },
  {
   "cell_type": "code",
   "execution_count": 49,
   "id": "81f6efd0",
   "metadata": {},
   "outputs": [
    {
     "name": "stdout",
     "output_type": "stream",
     "text": [
      "True\n"
     ]
    }
   ],
   "source": [
    "my_string = \"Probando funciones\"\n",
    "print(my_string.endswith(\"s\"))"
   ]
  },
  {
   "cell_type": "code",
   "execution_count": 50,
   "id": "c17b4021",
   "metadata": {},
   "outputs": [
    {
     "name": "stdout",
     "output_type": "stream",
     "text": [
      "True\n"
     ]
    }
   ],
   "source": [
    "my_string = \"Probando funciones\"\n",
    "print(my_string.endswith(\"funciones\"))"
   ]
  },
  {
   "cell_type": "code",
   "execution_count": 51,
   "id": "9b2d7a91",
   "metadata": {},
   "outputs": [
    {
     "name": "stdout",
     "output_type": "stream",
     "text": [
      "True\n"
     ]
    }
   ],
   "source": [
    "my_string = \"Probando funciones\"\n",
    "print(my_string.endswith(\"ando funciones\"))"
   ]
  },
  {
   "cell_type": "code",
   "execution_count": 52,
   "id": "e85215c8",
   "metadata": {},
   "outputs": [
    {
     "name": "stdout",
     "output_type": "stream",
     "text": [
      "False\n"
     ]
    }
   ],
   "source": [
    "my_string = \"Probando funciones\"\n",
    "print(my_string.endswith(\"Probando\"))"
   ]
  },
  {
   "cell_type": "markdown",
   "id": "d0a34ac6",
   "metadata": {},
   "source": [
    "# swapcase\n",
    "--Invierte mayúsculas y minúsculas."
   ]
  },
  {
   "cell_type": "code",
   "execution_count": 53,
   "id": "5c150735",
   "metadata": {},
   "outputs": [
    {
     "name": "stdout",
     "output_type": "stream",
     "text": [
      "pROBANDO fUNCIONES\n"
     ]
    }
   ],
   "source": [
    "my_string = \"Probando Funciones\"\n",
    "print(my_string.swapcase())"
   ]
  },
  {
   "cell_type": "code",
   "execution_count": 54,
   "id": "aef60798",
   "metadata": {},
   "outputs": [
    {
     "name": "stdout",
     "output_type": "stream",
     "text": [
      "probando FUNCIONES\n"
     ]
    }
   ],
   "source": [
    "my_string = \"PROBANDO funciones\"\n",
    "print(my_string.swapcase())"
   ]
  },
  {
   "cell_type": "markdown",
   "id": "d19ba08a",
   "metadata": {},
   "source": [
    "# replace\n",
    "--Reemplaza una subcadena por otra subcadena dentro de una cadena"
   ]
  },
  {
   "cell_type": "code",
   "execution_count": 55,
   "id": "b2ce05fb",
   "metadata": {},
   "outputs": [
    {
     "name": "stdout",
     "output_type": "stream",
     "text": [
      "Usando Funciones\n"
     ]
    }
   ],
   "source": [
    "my_string = \"Probando Funciones\"\n",
    "print(my_string.replace(\"Probando\", \"Usando\"))"
   ]
  },
  {
   "cell_type": "code",
   "execution_count": 56,
   "id": "8680e1d3",
   "metadata": {},
   "outputs": [
    {
     "name": "stdout",
     "output_type": "stream",
     "text": [
      "Probando\n",
      "Funciones\n"
     ]
    }
   ],
   "source": [
    "my_string = \"Probando Funciones\"\n",
    "print(my_string.replace(\" \", \"\\n\"))"
   ]
  },
  {
   "cell_type": "code",
   "execution_count": 57,
   "id": "bf38805f",
   "metadata": {},
   "outputs": [
    {
     "name": "stdout",
     "output_type": "stream",
     "text": [
      "PrObandO FunciOnes\n"
     ]
    }
   ],
   "source": [
    "my_string = \"Probando Funciones\"\n",
    "print(my_string.replace(\"o\", \"O\"))"
   ]
  },
  {
   "cell_type": "markdown",
   "id": "d9e56605",
   "metadata": {},
   "source": [
    "# Formateo de cadenas y datetime"
   ]
  },
  {
   "cell_type": "code",
   "execution_count": 58,
   "id": "c13e8f7c",
   "metadata": {},
   "outputs": [
    {
     "name": "stdout",
     "output_type": "stream",
     "text": [
      "2023-05-30 18:13:43.784230\n"
     ]
    }
   ],
   "source": [
    "from datetime import datetime\n",
    "now = datetime.now()\n",
    "\n",
    "print(now)"
   ]
  },
  {
   "cell_type": "code",
   "execution_count": 59,
   "id": "e074d47c",
   "metadata": {},
   "outputs": [
    {
     "name": "stdout",
     "output_type": "stream",
     "text": [
      "Año:  2023\n",
      "Mes:  05\n",
      "Día:  30\n",
      "Hora:  18:13:43\n"
     ]
    }
   ],
   "source": [
    "year = now.strftime(\"%Y\")\n",
    "month = now.strftime(\"%m\")\n",
    "day = now.strftime(\"%d\")\n",
    "time = now.strftime(\"%H:%M:%S\")\n",
    "\n",
    "print(\"Año: \", year)\n",
    "print(\"Mes: \", month)\n",
    "print(\"Día: \", day)\n",
    "print(\"Hora: \", time)"
   ]
  },
  {
   "cell_type": "markdown",
   "id": "53558736",
   "metadata": {},
   "source": [
    "# reverse / reversa\n",
    "--Invertir una cadena"
   ]
  },
  {
   "cell_type": "code",
   "execution_count": 60,
   "id": "211e3acd",
   "metadata": {},
   "outputs": [
    {
     "name": "stdout",
     "output_type": "stream",
     "text": [
      "senoicnuf odnaborP\n"
     ]
    }
   ],
   "source": [
    "my_string = \"Probando funciones\"                                # invierte una cadena.\n",
    "print(my_string [::-1])\n"
   ]
  }
 ],
 "metadata": {
  "kernelspec": {
   "display_name": "Python 3 (ipykernel)",
   "language": "python",
   "name": "python3"
  },
  "language_info": {
   "codemirror_mode": {
    "name": "ipython",
    "version": 3
   },
   "file_extension": ".py",
   "mimetype": "text/x-python",
   "name": "python",
   "nbconvert_exporter": "python",
   "pygments_lexer": "ipython3",
   "version": "3.11.3"
  }
 },
 "nbformat": 4,
 "nbformat_minor": 5
}
