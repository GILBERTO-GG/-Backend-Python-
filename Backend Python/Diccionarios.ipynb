{
 "cells": [
  {
   "cell_type": "markdown",
   "id": "a48985a9",
   "metadata": {},
   "source": [
    "# Diferentes formas de crear diccionarios."
   ]
  },
  {
   "cell_type": "code",
   "execution_count": 1,
   "id": "874ac10f",
   "metadata": {},
   "outputs": [
    {
     "name": "stdout",
     "output_type": "stream",
     "text": [
      "<class 'dict'>\n",
      "{}\n"
     ]
    }
   ],
   "source": [
    "my_dict = {}\n",
    "\n",
    "print(type(my_dict))\n",
    "print(my_dict)"
   ]
  },
  {
   "cell_type": "code",
   "execution_count": 2,
   "id": "e879ba62",
   "metadata": {},
   "outputs": [
    {
     "name": "stdout",
     "output_type": "stream",
     "text": [
      "<class 'dict'>\n",
      "{}\n"
     ]
    }
   ],
   "source": [
    "my_dict = dict()\n",
    "\n",
    "print(type(my_dict))\n",
    "print(my_dict)"
   ]
  },
  {
   "cell_type": "markdown",
   "id": "01f9130b",
   "metadata": {},
   "source": [
    "# Representando el diccionario como tal"
   ]
  },
  {
   "cell_type": "code",
   "execution_count": 3,
   "id": "ec51fad3",
   "metadata": {},
   "outputs": [
    {
     "name": "stdout",
     "output_type": "stream",
     "text": [
      "{1: 'Uno', 2: 'Dos', 3: 'Tres', 4: 'Cuatro', 5: 'Cinco'}\n",
      "<class 'dict'>\n"
     ]
    }
   ],
   "source": [
    "my_dict = {1:\"Uno\",\n",
    "           2:\"Dos\",\n",
    "           3:\"Tres\",                              # Llave-Valor\n",
    "           4:\"Cuatro\",\n",
    "           5:\"Cinco\"\n",
    "}\n",
    "\n",
    "print(my_dict)\n",
    "print(type(my_dict))"
   ]
  },
  {
   "cell_type": "markdown",
   "id": "77cf0aad",
   "metadata": {},
   "source": [
    "# Usando nombres de las llaves con valores"
   ]
  },
  {
   "cell_type": "code",
   "execution_count": 6,
   "id": "dce77ef5",
   "metadata": {},
   "outputs": [
    {
     "name": "stdout",
     "output_type": "stream",
     "text": [
      "{'Uno': 1, 'Dos': 2, 'Tres': 3, 'Cuatro': 4, 'Cinco': 5}\n",
      "<class 'dict'>\n"
     ]
    }
   ],
   "source": [
    "my_dict = dict(Uno=1, Dos=2, Tres=3, Cuatro=4, Cinco=5)\n",
    "print(my_dict)\n",
    "print(type(my_dict))"
   ]
  },
  {
   "cell_type": "markdown",
   "id": "fe953119",
   "metadata": {},
   "source": [
    "# Usando una lista de tuplas"
   ]
  },
  {
   "cell_type": "code",
   "execution_count": 5,
   "id": "c3e434dc",
   "metadata": {},
   "outputs": [
    {
     "name": "stdout",
     "output_type": "stream",
     "text": [
      "{1: 'Uno', 2: 'Dos', 3: 'Tres', 4: 'Cuatro', 5: 'Cinco'}\n",
      "<class 'dict'>\n"
     ]
    }
   ],
   "source": [
    "my_dict = dict([\n",
    "    (1,\"Uno\"), \n",
    "    (2,\"Dos\"),\n",
    "    (3,\"Tres\"),\n",
    "    (4,\"Cuatro\"),\n",
    "    (5,\"Cinco\"),\n",
    "    \n",
    "])\n",
    "\n",
    "print(my_dict)\n",
    "print(type(my_dict))"
   ]
  },
  {
   "cell_type": "markdown",
   "id": "c8da00e7",
   "metadata": {},
   "source": [
    "# Actualizar los datos dentro de un diccionario"
   ]
  },
  {
   "cell_type": "markdown",
   "id": "edb3dd26",
   "metadata": {},
   "source": [
    "# Método update"
   ]
  },
  {
   "cell_type": "code",
   "execution_count": 7,
   "id": "6f91d2ed",
   "metadata": {},
   "outputs": [
    {
     "name": "stdout",
     "output_type": "stream",
     "text": [
      "{1: 'Uno', 2: 'Dos', 3: 'Tres', 4: 'Cuatro', 5: 'Cinco'}\n",
      "<class 'dict'>\n",
      "{6: 'Seis', 7: 'Siete', 8: 'Ocho', 9: 'Nueve'}\n",
      "<class 'dict'>\n"
     ]
    }
   ],
   "source": [
    "my_dict = {\n",
    "            1:\"Uno\",\n",
    "            2:\"Dos\",\n",
    "            3:\"Tres\",                            \n",
    "            4:\"Cuatro\",\n",
    "            5:\"Cinco\"\n",
    "}\n",
    "\n",
    "my_dict_2 = {\n",
    "            6:\"Seis\",\n",
    "            7:\"Siete\",\n",
    "            8:\"Ocho\",                            \n",
    "            9:\"Nueve\"\n",
    "           \n",
    "}\n",
    "\n",
    "print(my_dict)\n",
    "print(type(my_dict))\n",
    "\n",
    "print(my_dict_2)\n",
    "print(type(my_dict_2))"
   ]
  },
  {
   "cell_type": "code",
   "execution_count": 8,
   "id": "becb00f4",
   "metadata": {},
   "outputs": [
    {
     "name": "stdout",
     "output_type": "stream",
     "text": [
      "{1: 'Uno', 2: 'Dos', 3: 'Tres', 4: 'Cuatro', 5: 'Cinco', 6: 'Seis', 7: 'Siete', 8: 'Ocho', 9: 'Nueve'}\n",
      "<class 'dict'>\n"
     ]
    }
   ],
   "source": [
    "my_dict.update(my_dict_2)\n",
    "\n",
    "print(my_dict)\n",
    "print(type(my_dict))"
   ]
  },
  {
   "cell_type": "markdown",
   "id": "563c7eb9",
   "metadata": {},
   "source": [
    "# que pasa si se repitieran algunas de las llaves."
   ]
  },
  {
   "cell_type": "code",
   "execution_count": 9,
   "id": "5d36dd02",
   "metadata": {},
   "outputs": [
    {
     "name": "stdout",
     "output_type": "stream",
     "text": [
      "{1: 'Uno', 2: 'Dos', 3: 'Tres', 4: 'Cuatro', 5: 'Cinco'}\n",
      "<class 'dict'>\n",
      "{1: 'UNO', 3: 'TRES', 4: 'CUATRO'}\n",
      "<class 'dict'>\n",
      "{1: 'UNO', 2: 'Dos', 3: 'TRES', 4: 'CUATRO', 5: 'Cinco'}\n",
      "<class 'dict'>\n"
     ]
    }
   ],
   "source": [
    "my_dict = {\n",
    "            1:\"Uno\",\n",
    "            2:\"Dos\",\n",
    "            3:\"Tres\",                            \n",
    "            4:\"Cuatro\",\n",
    "            5:\"Cinco\"\n",
    "}\n",
    "\n",
    "my_dict_2 = {\n",
    "            1:\"UNO\",\n",
    "            3:\"TRES\",\n",
    "            4:\"CUATRO\"        \n",
    "    \n",
    "}\n",
    "\n",
    "print(my_dict)\n",
    "print(type(my_dict))\n",
    "\n",
    "print(my_dict_2)\n",
    "print(type(my_dict_2))\n",
    "\n",
    "my_dict.update(my_dict_2)\n",
    "print(my_dict)\n",
    "print(type(my_dict))"
   ]
  },
  {
   "cell_type": "code",
   "execution_count": 10,
   "id": "b346c477",
   "metadata": {},
   "outputs": [
    {
     "name": "stdout",
     "output_type": "stream",
     "text": [
      "{'name': 'Carlos', 'last_name': 'Ávila', 'role': 'Backend Engineer'}\n",
      "<class 'dict'>\n",
      "{'name': 'Carlos', 'last_name': 'Ávila', 'role': 'Data Engineer'}\n",
      "<class 'dict'>\n"
     ]
    }
   ],
   "source": [
    "my_user = {\n",
    "    \"name\": \"Carlos\",\n",
    "    \"last_name\": \"Ávila\",\n",
    "    \"role\": \"Backend Engineer\"\n",
    "}\n",
    "\n",
    "new_data = {\n",
    "    \"role\": \"Data Engineer\"\n",
    "}\n",
    "\n",
    "print(my_user)\n",
    "print(type(my_user))\n",
    "\n",
    "my_user.update(new_data)\n",
    "print(my_user)\n",
    "print(type(my_user))"
   ]
  },
  {
   "cell_type": "markdown",
   "id": "570df61d",
   "metadata": {},
   "source": [
    "# Copy & Alias"
   ]
  },
  {
   "cell_type": "code",
   "execution_count": 11,
   "id": "5462087f",
   "metadata": {},
   "outputs": [
    {
     "name": "stdout",
     "output_type": "stream",
     "text": [
      "{'HP': 11999.0, 'Apple': 24999.0, 'Acer': 12012.03, 'Lenovo': 17299.0, 'Dell': 15524.87}\n",
      "{'HP': 9999.0, 'Apple': 24999.0, 'Acer': 12012.03, 'Lenovo': 17299.0, 'Dell': 15524.87}\n",
      "{'HP': 9999.0, 'Apple': 24999.0, 'Acer': 12012.03, 'Lenovo': 17299.0, 'Dell': 15524.87}\n"
     ]
    }
   ],
   "source": [
    "laptops = {\n",
    "    \"HP\":11999.0,\n",
    "    \"Apple\": 24999.0,\n",
    "    \"Acer\": 12012.03,\n",
    "    \"Lenovo\": 17299.0,\n",
    "    \"Dell\": 15524.87\n",
    "}\n",
    "\n",
    "alias = laptops              #---------------------------------> no es recomendable\n",
    "copy = laptops.copy()        #---------------------------------> siempre es recomendable\n",
    "\n",
    "#---------> Usar un alias va a afectar al diccionario original.\n",
    "\n",
    "alias = laptops \n",
    "\n",
    "print(alias)\n",
    "alias[\"HP\"] = 9999.0\n",
    "print(alias)\n",
    "print(laptops)"
   ]
  },
  {
   "cell_type": "code",
   "execution_count": 14,
   "id": "6aa638f9",
   "metadata": {},
   "outputs": [
    {
     "name": "stdout",
     "output_type": "stream",
     "text": [
      "{'HP': 11999.0, 'Apple': 24999.0, 'Acer': 12012.03, 'Lenovo': 17299.0, 'Dell': 15524.87}\n",
      "{'HP': 9999.0, 'Apple': 24999.0, 'Acer': 12012.03, 'Lenovo': 17299.0, 'Dell': 15524.87}\n",
      "{'HP': 11999.0, 'Apple': 24999.0, 'Acer': 12012.03, 'Lenovo': 17299.0, 'Dell': 15524.87}\n"
     ]
    }
   ],
   "source": [
    "laptops = {\n",
    "    \"HP\":11999.0,\n",
    "    \"Apple\": 24999.0,\n",
    "    \"Acer\": 12012.03,\n",
    "    \"Lenovo\": 17299.0,\n",
    "    \"Dell\": 15524.87\n",
    "}\n",
    "\n",
    "copy = laptops.copy()\n",
    "\n",
    "#---------> Usar copy es la forma correcta, ya que mantiene los valores del diccionario original.\n",
    "\n",
    "print(copy)\n",
    "copy[\"HP\"] = 9999.0\n",
    "print(copy)\n",
    "print(laptops)"
   ]
  },
  {
   "cell_type": "markdown",
   "id": "9fc79a3a",
   "metadata": {},
   "source": [
    "# Obteniendo las keys(llaves) y los values (valores) por separado"
   ]
  },
  {
   "cell_type": "code",
   "execution_count": null,
   "id": "8dbfad78",
   "metadata": {},
   "outputs": [],
   "source": [
    "laptops = {\n",
    "    \"HP\":11999.0,\n",
    "    \"Apple\": 24999.0,\n",
    "    \"Acer\": 12012.03,\n",
    "    \"Lenovo\": 17299.0,\n",
    "    \"Dell\": 15524.87\n",
    "}\n"
   ]
  },
  {
   "cell_type": "markdown",
   "id": "ea5593ee",
   "metadata": {},
   "source": [
    "# keys"
   ]
  },
  {
   "cell_type": "code",
   "execution_count": 3,
   "id": "d61d8285",
   "metadata": {},
   "outputs": [
    {
     "name": "stdout",
     "output_type": "stream",
     "text": [
      "dict_keys(['HP', 'Apple', 'Acer', 'Lenovo', 'Dell'])\n"
     ]
    }
   ],
   "source": [
    "laptops = {\n",
    "    \"HP\":11999.0,\n",
    "    \"Apple\": 24999.0,\n",
    "    \"Acer\": 12012.03,\n",
    "    \"Lenovo\": 17299.0,\n",
    "    \"Dell\": 15524.87\n",
    "}\n",
    "\n",
    "print(laptops.keys())"
   ]
  },
  {
   "cell_type": "code",
   "execution_count": 4,
   "id": "4d6f9e0c",
   "metadata": {},
   "outputs": [
    {
     "name": "stdout",
     "output_type": "stream",
     "text": [
      "Para la llave 'HP' el valor es: 11999.0\n",
      "Para la llave 'Apple' el valor es: 24999.0\n",
      "Para la llave 'Acer' el valor es: 12012.03\n",
      "Para la llave 'Lenovo' el valor es: 17299.0\n",
      "Para la llave 'Dell' el valor es: 15524.87\n"
     ]
    }
   ],
   "source": [
    "for key in laptops.keys():\n",
    "    print(\"Para la llave '{}' el valor es: {}\".format(key, laptops[key]))"
   ]
  },
  {
   "cell_type": "markdown",
   "id": "db76aa07",
   "metadata": {},
   "source": [
    "# values"
   ]
  },
  {
   "cell_type": "code",
   "execution_count": 5,
   "id": "20fedf9b",
   "metadata": {},
   "outputs": [
    {
     "name": "stdout",
     "output_type": "stream",
     "text": [
      "dict_values([11999.0, 24999.0, 12012.03, 17299.0, 15524.87])\n"
     ]
    }
   ],
   "source": [
    "print(laptops.values())"
   ]
  },
  {
   "cell_type": "code",
   "execution_count": 7,
   "id": "3ebb1ff5",
   "metadata": {},
   "outputs": [
    {
     "name": "stdout",
     "output_type": "stream",
     "text": [
      "El valor es: 11999.0\n",
      "El valor es: 24999.0\n",
      "El valor es: 12012.03\n",
      "El valor es: 17299.0\n",
      "El valor es: 15524.87\n"
     ]
    }
   ],
   "source": [
    "for value in laptops.values():\n",
    "    print(\"El valor es: {}\".format(value))"
   ]
  },
  {
   "cell_type": "code",
   "execution_count": 8,
   "id": "3102da08",
   "metadata": {},
   "outputs": [
    {
     "name": "stdout",
     "output_type": "stream",
     "text": [
      "Para la llave 'HP' el valor es: 11999.0\n",
      "Para la llave 'Apple' el valor es: 24999.0\n",
      "Para la llave 'Acer' el valor es: 12012.03\n",
      "Para la llave 'Lenovo' el valor es: 17299.0\n",
      "Para la llave 'Dell' el valor es: 15524.87\n"
     ]
    }
   ],
   "source": [
    "def get_key(d, val):\n",
    "    keys = [k for k, v in d.items( ) if v == val]\n",
    "    if keys:\n",
    "          return keys[0]\n",
    "    return None  \n",
    "\n",
    "for value in laptops.values():\n",
    "    print(\"Para la llave '{}' el valor es: {}\".format(get_key(laptops, value), value))"
   ]
  },
  {
   "cell_type": "markdown",
   "id": "f190b471",
   "metadata": {},
   "source": [
    "# Obteniendo las keys y values al mismo tiempo"
   ]
  },
  {
   "cell_type": "markdown",
   "id": "5ab3a50e",
   "metadata": {},
   "source": [
    "# items"
   ]
  },
  {
   "cell_type": "code",
   "execution_count": 9,
   "id": "f93e4da2",
   "metadata": {},
   "outputs": [
    {
     "name": "stdout",
     "output_type": "stream",
     "text": [
      "Para la llave 'HP' el valor es: 11999.0\n",
      "Para la llave 'Apple' el valor es: 24999.0\n",
      "Para la llave 'Acer' el valor es: 12012.03\n",
      "Para la llave 'Lenovo' el valor es: 17299.0\n",
      "Para la llave 'Dell' el valor es: 15524.87\n"
     ]
    }
   ],
   "source": [
    "\n",
    "for key, value in laptops.items():\n",
    "    print(\"Para la llave '{}' el valor es: {}\".format(key, value))"
   ]
  },
  {
   "cell_type": "markdown",
   "id": "a46047aa",
   "metadata": {},
   "source": [
    "# Métodos para la manipulación de diccionarios"
   ]
  },
  {
   "cell_type": "markdown",
   "id": "72fca1b1",
   "metadata": {},
   "source": [
    "# clear\n",
    "Elimina los elementos de un diccionario."
   ]
  },
  {
   "cell_type": "code",
   "execution_count": 10,
   "id": "a657118a",
   "metadata": {},
   "outputs": [
    {
     "name": "stdout",
     "output_type": "stream",
     "text": [
      "{'HP': 11999.0, 'Apple': 24999.0, 'Acer': 12012.03, 'Lenovo': 17299.0, 'Dell': 15524.87}\n",
      "<class 'dict'>\n",
      "5\n",
      "{}\n",
      "<class 'dict'>\n",
      "0\n"
     ]
    }
   ],
   "source": [
    "laptops = {\n",
    "    \"HP\":11999.0,\n",
    "    \"Apple\": 24999.0,\n",
    "    \"Acer\": 12012.03,\n",
    "    \"Lenovo\": 17299.0,\n",
    "    \"Dell\": 15524.87\n",
    "}\n",
    "\n",
    "print(laptops)\n",
    "print(type(laptops))\n",
    "print(len(laptops))\n",
    "\n",
    "laptops.clear()\n",
    "\n",
    "print(laptops)\n",
    "print(type(laptops))\n",
    "print(len(laptops))"
   ]
  },
  {
   "cell_type": "markdown",
   "id": "1be3bb7a",
   "metadata": {},
   "source": [
    "# copy\n",
    "Hace una copia del diccionario"
   ]
  },
  {
   "cell_type": "code",
   "execution_count": 12,
   "id": "056dbb25",
   "metadata": {},
   "outputs": [
    {
     "name": "stdout",
     "output_type": "stream",
     "text": [
      "{'HP': 11999.0, 'Apple': 24999.0, 'Acer': 12012.03, 'Lenovo': 17299.0, 'Dell': 15524.87}\n",
      "<class 'dict'>\n",
      "5\n",
      "{'HP': 11999.0, 'Apple': 24999.0, 'Acer': 12012.03, 'Lenovo': 17299.0, 'Dell': 15524.87}\n",
      "<class 'dict'>\n",
      "5\n",
      "{'HP': 11999.0, 'Apple': 24999.0, 'Acer': 12012.03, 'Lenovo': 17299.0, 'Dell': 15524.87}\n",
      "<class 'dict'>\n",
      "5\n",
      "{}\n",
      "<class 'dict'>\n",
      "0\n"
     ]
    }
   ],
   "source": [
    "laptops = {\n",
    "    \"HP\":11999.0,\n",
    "    \"Apple\": 24999.0,\n",
    "    \"Acer\": 12012.03,\n",
    "    \"Lenovo\": 17299.0,\n",
    "    \"Dell\": 15524.87\n",
    "}\n",
    "\n",
    "print(laptops)\n",
    "print(type(laptops))\n",
    "print(len(laptops))\n",
    "\n",
    "copy =laptops.copy()\n",
    "\n",
    "print(copy)\n",
    "print(type(copy))\n",
    "print(len(copy))\n",
    "\n",
    "copy.clear()\n",
    "\n",
    "print(laptops)\n",
    "print(type(laptops))\n",
    "print(len(laptops))\n",
    "\n",
    "print(copy)\n",
    "print(type(copy))\n",
    "print(len(copy))"
   ]
  },
  {
   "cell_type": "markdown",
   "id": "677ba1ca",
   "metadata": {},
   "source": [
    "# fromkeys\n",
    "Construye un nuevo diccionario tomando como referencia las keys-llaves en un diccionario."
   ]
  },
  {
   "cell_type": "code",
   "execution_count": 13,
   "id": "db823d10",
   "metadata": {},
   "outputs": [
    {
     "name": "stdout",
     "output_type": "stream",
     "text": [
      "{'HP': 'Marca de Laptop', 'Apple': 'Marca de Laptop', 'Acer': 'Marca de Laptop', 'Lenovo': 'Marca de Laptop', 'Dell': 'Marca de Laptop'}\n"
     ]
    }
   ],
   "source": [
    "laptops = {\n",
    "    \"HP\":11999.0,\n",
    "    \"Apple\": 24999.0,\n",
    "    \"Acer\": 12012.03,\n",
    "    \"Lenovo\": 17299.0,\n",
    "    \"Dell\": 15524.87\n",
    "}\n",
    "\n",
    "category = \"Marca de Laptop\"\n",
    "new_dict = dict.fromkeys(laptops, category)\n",
    "print(new_dict)"
   ]
  },
  {
   "cell_type": "markdown",
   "id": "d26f247f",
   "metadata": {},
   "source": [
    "# get\n",
    "Obtiene el valor de un diccionario de forma segura y con la opción de configurar un valor por default"
   ]
  },
  {
   "cell_type": "code",
   "execution_count": 14,
   "id": "cb35f17e",
   "metadata": {},
   "outputs": [
    {
     "name": "stdout",
     "output_type": "stream",
     "text": [
      "17299.0\n",
      "17299.0\n"
     ]
    }
   ],
   "source": [
    "laptops = {\n",
    "    \"HP\":11999.0,\n",
    "    \"Apple\": 24999.0,\n",
    "    \"Acer\": 12012.03,\n",
    "    \"Lenovo\": 17299.0,\n",
    "    \"Dell\": 15524.87\n",
    "}\n",
    "\n",
    "print(laptops[\"Lenovo\"])         #----------->forma insegura de hacerlo\n",
    "\n",
    "print(laptops.get(\"Lenovo\"))     #----------->forma segura de hacerlo"
   ]
  },
  {
   "cell_type": "markdown",
   "id": "b0fdbadf",
   "metadata": {},
   "source": [
    "# forma insegura de obtener un valor"
   ]
  },
  {
   "cell_type": "code",
   "execution_count": 15,
   "id": "6d254b2e",
   "metadata": {},
   "outputs": [
    {
     "ename": "KeyError",
     "evalue": "'Asus'",
     "output_type": "error",
     "traceback": [
      "\u001b[1;31m---------------------------------------------------------------------------\u001b[0m",
      "\u001b[1;31mKeyError\u001b[0m                                  Traceback (most recent call last)",
      "Cell \u001b[1;32mIn[15], line 1\u001b[0m\n\u001b[1;32m----> 1\u001b[0m \u001b[38;5;28mprint\u001b[39m(\u001b[43mlaptops\u001b[49m\u001b[43m[\u001b[49m\u001b[38;5;124;43m\"\u001b[39;49m\u001b[38;5;124;43mAsus\u001b[39;49m\u001b[38;5;124;43m\"\u001b[39;49m\u001b[43m]\u001b[49m)\n",
      "\u001b[1;31mKeyError\u001b[0m: 'Asus'"
     ]
    }
   ],
   "source": [
    "print(laptops[\"Asus\"])"
   ]
  },
  {
   "cell_type": "markdown",
   "id": "6172adaf",
   "metadata": {},
   "source": [
    "# forma segura de obtener un valor"
   ]
  },
  {
   "cell_type": "code",
   "execution_count": 17,
   "id": "61599769",
   "metadata": {},
   "outputs": [
    {
     "name": "stdout",
     "output_type": "stream",
     "text": [
      "None\n"
     ]
    }
   ],
   "source": [
    "print(laptops.get(\"Asus\")) #----------------------no da error"
   ]
  },
  {
   "cell_type": "markdown",
   "id": "a6de85f7",
   "metadata": {},
   "source": [
    "# forma segura de obtener un valor y configurando valor por default"
   ]
  },
  {
   "cell_type": "code",
   "execution_count": 18,
   "id": "42c103d3",
   "metadata": {},
   "outputs": [
    {
     "name": "stdout",
     "output_type": "stream",
     "text": [
      "0\n",
      "No disponible\n"
     ]
    }
   ],
   "source": [
    "print(laptops.get(\"Asus\", 0))\n",
    "print(laptops.get(\"Asus\", \"No disponible\"))"
   ]
  },
  {
   "cell_type": "code",
   "execution_count": 19,
   "id": "ddbf5ab7",
   "metadata": {},
   "outputs": [
    {
     "name": "stdout",
     "output_type": "stream",
     "text": [
      "17299.0\n",
      "17299.0\n"
     ]
    }
   ],
   "source": [
    "print(laptops.get(\"Lenovo\", 0))\n",
    "print(laptops.get(\"Lenovo\", \"No disponible\"))"
   ]
  },
  {
   "cell_type": "markdown",
   "id": "0e8d895f",
   "metadata": {},
   "source": [
    "# items\n",
    "Obtiene cada llave y valor en el diccionario de forma simultánea"
   ]
  },
  {
   "cell_type": "code",
   "execution_count": 20,
   "id": "6de7806f",
   "metadata": {},
   "outputs": [
    {
     "name": "stdout",
     "output_type": "stream",
     "text": [
      "Para la llave 'HP' el valor es: 11999.0\n",
      "Para la llave 'Apple' el valor es: 24999.0\n",
      "Para la llave 'Acer' el valor es: 12012.03\n",
      "Para la llave 'Lenovo' el valor es: 17299.0\n",
      "Para la llave 'Dell' el valor es: 15524.87\n"
     ]
    }
   ],
   "source": [
    "laptops = {\n",
    "    \"HP\":11999.0,\n",
    "    \"Apple\": 24999.0,\n",
    "    \"Acer\": 12012.03,\n",
    "    \"Lenovo\": 17299.0,\n",
    "    \"Dell\": 15524.87\n",
    "}\n",
    "\n",
    "\n",
    "for key, value in laptops.items():\n",
    "    print(\"Para la llave '{}' el valor es: {}\".format(key, value))"
   ]
  },
  {
   "cell_type": "markdown",
   "id": "c881d9f0",
   "metadata": {},
   "source": [
    "# keys\n",
    "Obtiene las llaves de un diccionario"
   ]
  },
  {
   "cell_type": "code",
   "execution_count": 21,
   "id": "d3031aeb",
   "metadata": {},
   "outputs": [
    {
     "name": "stdout",
     "output_type": "stream",
     "text": [
      "Una llave del diccionario es  'HP' \n",
      "Una llave del diccionario es  'Apple' \n",
      "Una llave del diccionario es  'Acer' \n",
      "Una llave del diccionario es  'Lenovo' \n",
      "Una llave del diccionario es  'Dell' \n"
     ]
    }
   ],
   "source": [
    "laptops = {\n",
    "    \"HP\":11999.0,\n",
    "    \"Apple\": 24999.0,\n",
    "    \"Acer\": 12012.03,\n",
    "    \"Lenovo\": 17299.0,\n",
    "    \"Dell\": 15524.87\n",
    "}\n",
    "\n",
    "\n",
    "for key in laptops.keys():\n",
    "    print(\"Una llave del diccionario es  '{}' \".format(key))"
   ]
  },
  {
   "cell_type": "markdown",
   "id": "71c2c31c",
   "metadata": {},
   "source": [
    "# values\n",
    "obtiene los valores de un diccionario"
   ]
  },
  {
   "cell_type": "code",
   "execution_count": 22,
   "id": "31494be1",
   "metadata": {},
   "outputs": [
    {
     "name": "stdout",
     "output_type": "stream",
     "text": [
      "Un valor del diccionario es  '11999.0' \n",
      "Un valor del diccionario es  '24999.0' \n",
      "Un valor del diccionario es  '12012.03' \n",
      "Un valor del diccionario es  '17299.0' \n",
      "Un valor del diccionario es  '15524.87' \n"
     ]
    }
   ],
   "source": [
    "laptops = {\n",
    "    \"HP\":11999.0,\n",
    "    \"Apple\": 24999.0,\n",
    "    \"Acer\": 12012.03,\n",
    "    \"Lenovo\": 17299.0,\n",
    "    \"Dell\": 15524.87\n",
    "}\n",
    "\n",
    "\n",
    "for value in laptops.values():\n",
    "    print(\"Un valor del diccionario es  '{}' \".format(value))"
   ]
  },
  {
   "cell_type": "markdown",
   "id": "2439ffe4",
   "metadata": {},
   "source": [
    "# pop\n",
    "Elimina la llave y valor de un diccionario pasando la llave como parámetro"
   ]
  },
  {
   "cell_type": "code",
   "execution_count": 24,
   "id": "77ec2b6b",
   "metadata": {},
   "outputs": [
    {
     "name": "stdout",
     "output_type": "stream",
     "text": [
      "{'HP': 11999.0, 'Apple': 24999.0, 'Acer': 12012.03, 'Lenovo': 17299.0, 'Dell': 15524.87}\n",
      "5\n",
      "{'HP': 11999.0, 'Apple': 24999.0, 'Acer': 12012.03, 'Dell': 15524.87}\n",
      "4\n"
     ]
    }
   ],
   "source": [
    "laptops = {\n",
    "    \"HP\":11999.0,\n",
    "    \"Apple\": 24999.0,\n",
    "    \"Acer\": 12012.03,\n",
    "    \"Lenovo\": 17299.0,\n",
    "    \"Dell\": 15524.87\n",
    "}\n",
    "\n",
    "print(laptops)\n",
    "print(len(laptops))\n",
    "\n",
    "laptops.pop(\"Lenovo\")   #------------->la llave debe estar presente\n",
    "print(laptops)\n",
    "print(len(laptops))"
   ]
  },
  {
   "cell_type": "code",
   "execution_count": 25,
   "id": "dffe8fd2",
   "metadata": {},
   "outputs": [
    {
     "ename": "KeyError",
     "evalue": "'Asus'",
     "output_type": "error",
     "traceback": [
      "\u001b[1;31m---------------------------------------------------------------------------\u001b[0m",
      "\u001b[1;31mKeyError\u001b[0m                                  Traceback (most recent call last)",
      "Cell \u001b[1;32mIn[25], line 1\u001b[0m\n\u001b[1;32m----> 1\u001b[0m \u001b[43mlaptops\u001b[49m\u001b[38;5;241;43m.\u001b[39;49m\u001b[43mpop\u001b[49m\u001b[43m(\u001b[49m\u001b[38;5;124;43m\"\u001b[39;49m\u001b[38;5;124;43mAsus\u001b[39;49m\u001b[38;5;124;43m\"\u001b[39;49m\u001b[43m)\u001b[49m   \n\u001b[0;32m      2\u001b[0m \u001b[38;5;28mprint\u001b[39m(laptops)\n\u001b[0;32m      3\u001b[0m \u001b[38;5;28mprint\u001b[39m(\u001b[38;5;28mlen\u001b[39m(laptops))\n",
      "\u001b[1;31mKeyError\u001b[0m: 'Asus'"
     ]
    }
   ],
   "source": [
    "laptops.pop(\"Asus\")   #------------> marca error por que no se encuentra la llave en el diccionario.\n",
    "print(laptops)\n",
    "print(len(laptops))"
   ]
  },
  {
   "cell_type": "code",
   "execution_count": 27,
   "id": "f84e1a36",
   "metadata": {},
   "outputs": [
    {
     "name": "stdout",
     "output_type": "stream",
     "text": [
      "{'HP': 11999.0, 'Apple': 24999.0, 'Acer': 12012.03, 'Dell': 15524.87}\n",
      "4\n",
      "La llave Asus no está en el diccionario.\n"
     ]
    }
   ],
   "source": [
    "print(laptops)\n",
    "print(len(laptops))\n",
    "\n",
    "if \"Asus\" in laptops.keys():\n",
    "    laptops.pop(\"Asus\")  \n",
    "    print(laptops)\n",
    "    print(len(laptops))\n",
    "else:\n",
    "    print(\"La llave Asus no está en el diccionario.\")"
   ]
  },
  {
   "cell_type": "markdown",
   "id": "d8b231e3",
   "metadata": {},
   "source": [
    "# popitem\n",
    "Elimina el índice -1 (el último elemento llave-valor)"
   ]
  },
  {
   "cell_type": "code",
   "execution_count": 28,
   "id": "bd0582cd",
   "metadata": {},
   "outputs": [
    {
     "name": "stdout",
     "output_type": "stream",
     "text": [
      "{'HP': 11999.0, 'Apple': 24999.0, 'Acer': 12012.03, 'Lenovo': 17299.0, 'Dell': 15524.87}\n",
      "5\n",
      "{'HP': 11999.0, 'Apple': 24999.0, 'Acer': 12012.03, 'Lenovo': 17299.0}\n",
      "4\n",
      "{'HP': 11999.0, 'Apple': 24999.0, 'Acer': 12012.03}\n",
      "3\n",
      "{'HP': 11999.0, 'Apple': 24999.0}\n",
      "2\n"
     ]
    }
   ],
   "source": [
    "laptops = {\n",
    "    \"HP\":11999.0,\n",
    "    \"Apple\": 24999.0,\n",
    "    \"Acer\": 12012.03,\n",
    "    \"Lenovo\": 17299.0,\n",
    "    \"Dell\": 15524.87\n",
    "}\n",
    "\n",
    "print(laptops)\n",
    "print(len(laptops))\n",
    "\n",
    "laptops.popitem()       # índice -1 (el último elemento llave-valor)\n",
    "print(laptops)\n",
    "print(len(laptops))\n",
    "\n",
    "laptops.popitem()       # índice -1 (el último elemento llave-valor)\n",
    "print(laptops)\n",
    "print(len(laptops))\n",
    "\n",
    "laptops.popitem()       # índice -1 (el último elemento llave-valor)\n",
    "print(laptops)\n",
    "print(len(laptops))"
   ]
  },
  {
   "cell_type": "markdown",
   "id": "58457e6c",
   "metadata": {},
   "source": [
    "# setdefault\n",
    "Configura un valor por default para cierta llave en caso de que no esté presente en el diccionario.\n",
    "\n",
    "--Si la llave está presente no tendrá  ningún efecto. Pero si la llave no está entonces configurará en valor para esa llave."
   ]
  },
  {
   "cell_type": "code",
   "execution_count": 29,
   "id": "ccd19445",
   "metadata": {},
   "outputs": [
    {
     "name": "stdout",
     "output_type": "stream",
     "text": [
      "11999.0\n",
      "10000.0\n"
     ]
    }
   ],
   "source": [
    "laptops_store_1 = {\n",
    "    \"HP\":11999.0,\n",
    "    \"Apple\": 24999.0,\n",
    "    \"Acer\": 12012.03,\n",
    "    \"Lenovo\": 17299.0,\n",
    "    \"Dell\": 15524.87\n",
    "}\n",
    "\n",
    "laptops_store_2 = {\n",
    "    \"Apple\": 24999.0,\n",
    "    \"Acer\": 12012.03,\n",
    "    \"Lenovo\": 17299.0,\n",
    "    \"Dell\": 15524.87\n",
    "}\n",
    "\n",
    "laptops_store_1.setdefault(\"HP\", 10000.0)\n",
    "laptops_store_2.setdefault(\"HP\", 10000.0)\n",
    "\n",
    "print(laptops_store_1.get(\"HP\"))\n",
    "print(laptops_store_2.get(\"HP\"))"
   ]
  },
  {
   "cell_type": "code",
   "execution_count": null,
   "id": "68755a78",
   "metadata": {},
   "outputs": [],
   "source": []
  }
 ],
 "metadata": {
  "kernelspec": {
   "display_name": "Python 3 (ipykernel)",
   "language": "python",
   "name": "python3"
  },
  "language_info": {
   "codemirror_mode": {
    "name": "ipython",
    "version": 3
   },
   "file_extension": ".py",
   "mimetype": "text/x-python",
   "name": "python",
   "nbconvert_exporter": "python",
   "pygments_lexer": "ipython3",
   "version": "3.11.3"
  }
 },
 "nbformat": 4,
 "nbformat_minor": 5
}
