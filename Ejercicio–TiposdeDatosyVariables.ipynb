{
 "cells": [
  {
   "cell_type": "code",
   "execution_count": 11,
   "id": "4fcea842",
   "metadata": {},
   "outputs": [
    {
     "name": "stdout",
     "output_type": "stream",
     "text": [
      "Seleccione una operación (suma, resta, multiplicación, división o potencia): otra\n",
      "Ingrese el primer número: 5\n",
      "Ingrese el segundo número: 4\n",
      "Operación no válida. Por favor, seleccione una operación válida.\n"
     ]
    }
   ],
   "source": [
    "# Programa que pide al usuario que seleccione una operación y la ejecute (suma, resta, multiplicación, división, potencia)\n",
    "operacion = input(\"Seleccione una operación (suma, resta, multiplicación, división o potencia): \")\n",
    "num1 = input(\"Ingrese el primer número: \")\n",
    "num2 = input(\"Ingrese el segundo número: \")\n",
    "\n",
    "# Convierte los números a enteros si son decimales\n",
    "if \".\" in num1 or \".\" in num2:\n",
    "    num1 = float(num1)\n",
    "    num2 = float(num2)\n",
    "else:\n",
    "    num1 = int(num1)\n",
    "    num2 = int(num2)\n",
    "\n",
    "# Realiza la operación seleccionada por el usuario\n",
    "if operacion == \"suma\":\n",
    "    resultado = num1 + num2\n",
    "elif operacion == \"resta\":\n",
    "    resultado = num1 - num2\n",
    "elif operacion == \"multiplicación\":\n",
    "    resultado = num1 * num2\n",
    "elif operacion == \"división\":\n",
    "    resultado = num1 / num2\n",
    "elif operacion == \"potencia\":\n",
    "    resultado = num1 ** num2\n",
    "else:\n",
    "    print(\"Operación no válida. Por favor, seleccione una operación válida.\")\n",
    "    resultado = None\n",
    "\n",
    "# Imprime los valores de entrada, la operación y el resultado\n",
    "if resultado is not None:\n",
    "    print(\"Primer número:\", num1)\n",
    "    print(\"Segundo número:\", num2)\n",
    "    print(\"Operación:\", operacion)\n",
    "    print(\"Resultado:\", resultado)\n",
    "\n",
    "    "
   ]
  }
 ],
 "metadata": {
  "kernelspec": {
   "display_name": "Python 3 (ipykernel)",
   "language": "python",
   "name": "python3"
  },
  "language_info": {
   "codemirror_mode": {
    "name": "ipython",
    "version": 3
   },
   "file_extension": ".py",
   "mimetype": "text/x-python",
   "name": "python",
   "nbconvert_exporter": "python",
   "pygments_lexer": "ipython3",
   "version": "3.11.3"
  }
 },
 "nbformat": 4,
 "nbformat_minor": 5
}
