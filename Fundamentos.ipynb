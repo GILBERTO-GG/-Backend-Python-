{
 "cells": [
  {
   "cell_type": "markdown",
   "id": "4fd7d889",
   "metadata": {},
   "source": [
    "# Python distingue entre mayúsculas y minúsculas"
   ]
  },
  {
   "cell_type": "code",
   "execution_count": 2,
   "id": "742b85a2",
   "metadata": {},
   "outputs": [
    {
     "name": "stdout",
     "output_type": "stream",
     "text": [
      "El curso es:  Backend Python\n"
     ]
    }
   ],
   "source": [
    "A= \"Backend Python\"\n",
    "print(\"El curso es: \", A)"
   ]
  },
  {
   "cell_type": "markdown",
   "id": "7ec89e51",
   "metadata": {},
   "source": [
    "## Palabras reservadas en Python"
   ]
  },
  {
   "cell_type": "code",
   "execution_count": 3,
   "id": "1883eb21",
   "metadata": {},
   "outputs": [
    {
     "name": "stdout",
     "output_type": "stream",
     "text": [
      "\n",
      "Here is a list of the Python keywords.  Enter any keyword to get more help.\n",
      "\n",
      "False               class               from                or\n",
      "None                continue            global              pass\n",
      "True                def                 if                  raise\n",
      "and                 del                 import              return\n",
      "as                  elif                in                  try\n",
      "assert              else                is                  while\n",
      "async               except              lambda              with\n",
      "await               finally             nonlocal            yield\n",
      "break               for                 not                 \n",
      "\n"
     ]
    }
   ],
   "source": [
    "help(\"keywords\")"
   ]
  },
  {
   "cell_type": "markdown",
   "id": "32c28064",
   "metadata": {},
   "source": [
    "## Caracteres de Escape en Python"
   ]
  },
  {
   "cell_type": "code",
   "execution_count": 4,
   "id": "4c026815",
   "metadata": {},
   "outputs": [
    {
     "data": {
      "text/plain": [
       "\"'\""
      ]
     },
     "execution_count": 4,
     "metadata": {},
     "output_type": "execute_result"
    }
   ],
   "source": [
    "\"\\'\" # Single Quote / Comilla sencilla "
   ]
  },
  {
   "cell_type": "code",
   "execution_count": 5,
   "id": "f39c1a80",
   "metadata": {},
   "outputs": [
    {
     "data": {
      "text/plain": [
       "'\"'"
      ]
     },
     "execution_count": 5,
     "metadata": {},
     "output_type": "execute_result"
    }
   ],
   "source": [
    "\"\\\"\" # Double Quote / Comilla doble"
   ]
  },
  {
   "cell_type": "code",
   "execution_count": 6,
   "id": "0bb722fd",
   "metadata": {},
   "outputs": [
    {
     "data": {
      "text/plain": [
       "'\\n'"
      ]
     },
     "execution_count": 6,
     "metadata": {},
     "output_type": "execute_result"
    }
   ],
   "source": [
    "\"\\n\"  # New Line  /  Salto de línea"
   ]
  },
  {
   "cell_type": "code",
   "execution_count": 7,
   "id": "f554cd65",
   "metadata": {},
   "outputs": [
    {
     "data": {
      "text/plain": [
       "'\\t'"
      ]
     },
     "execution_count": 7,
     "metadata": {},
     "output_type": "execute_result"
    }
   ],
   "source": [
    "\"\\t\"  # Tab"
   ]
  },
  {
   "cell_type": "code",
   "execution_count": 8,
   "id": "3430784f",
   "metadata": {},
   "outputs": [
    {
     "data": {
      "text/plain": [
       "'\\r'"
      ]
     },
     "execution_count": 8,
     "metadata": {},
     "output_type": "execute_result"
    }
   ],
   "source": [
    "\"\\r\" # Carriage return / Retorno de Carro"
   ]
  },
  {
   "cell_type": "code",
   "execution_count": 9,
   "id": "c5bce3a8",
   "metadata": {},
   "outputs": [
    {
     "data": {
      "text/plain": [
       "'\\x08'"
      ]
     },
     "execution_count": 9,
     "metadata": {},
     "output_type": "execute_result"
    }
   ],
   "source": [
    "\"\\b\" # Backspace / Retorno"
   ]
  },
  {
   "cell_type": "markdown",
   "id": "98c9c68c",
   "metadata": {},
   "source": [
    "# Función eval()"
   ]
  },
  {
   "cell_type": "code",
   "execution_count": 10,
   "id": "25215a33",
   "metadata": {},
   "outputs": [
    {
     "name": "stdout",
     "output_type": "stream",
     "text": [
      "my_number+1000\n"
     ]
    }
   ],
   "source": [
    "my_number = 22\n",
    "print(\"my_number+1000\")"
   ]
  },
  {
   "cell_type": "code",
   "execution_count": 11,
   "id": "a2d5d31d",
   "metadata": {},
   "outputs": [
    {
     "name": "stdout",
     "output_type": "stream",
     "text": [
      "1022\n"
     ]
    }
   ],
   "source": [
    "my_number = 22\n",
    "print(eval (\"my_number+1000\"))"
   ]
  },
  {
   "cell_type": "code",
   "execution_count": 12,
   "id": "e49e9cf8",
   "metadata": {},
   "outputs": [
    {
     "name": "stdout",
     "output_type": "stream",
     "text": [
      "Ingresa un número: 123\n"
     ]
    }
   ],
   "source": [
    "my_input = input(\"Ingresa un número: \")"
   ]
  },
  {
   "cell_type": "code",
   "execution_count": 13,
   "id": "b862ee37",
   "metadata": {},
   "outputs": [
    {
     "data": {
      "text/plain": [
       "'123'"
      ]
     },
     "execution_count": 13,
     "metadata": {},
     "output_type": "execute_result"
    }
   ],
   "source": [
    "my_input"
   ]
  },
  {
   "cell_type": "code",
   "execution_count": 14,
   "id": "19ce03a2",
   "metadata": {},
   "outputs": [
    {
     "data": {
      "text/plain": [
       "123"
      ]
     },
     "execution_count": 14,
     "metadata": {},
     "output_type": "execute_result"
    }
   ],
   "source": [
    "eval(my_input)"
   ]
  },
  {
   "cell_type": "code",
   "execution_count": 15,
   "id": "c83e7b92",
   "metadata": {},
   "outputs": [
    {
     "name": "stdout",
     "output_type": "stream",
     "text": [
      "Ingresa un número: 345\n",
      "345\n",
      "<class 'str'>\n"
     ]
    }
   ],
   "source": [
    "my_input = input(\"Ingresa un número: \")\n",
    "print(my_input)\n",
    "print(type(my_input))\n",
    "# Cadena / String"
   ]
  },
  {
   "cell_type": "code",
   "execution_count": 16,
   "id": "e84d0606",
   "metadata": {},
   "outputs": [
    {
     "name": "stdout",
     "output_type": "stream",
     "text": [
      "Ingresa un número: 678\n",
      "678\n",
      "<class 'int'>\n"
     ]
    }
   ],
   "source": [
    "my_input = eval(input(\"Ingresa un número: \"))\n",
    "print(my_input)\n",
    "print(type(my_input))\n",
    "# Entero / Int"
   ]
  },
  {
   "cell_type": "markdown",
   "id": "9ba3d18b",
   "metadata": {},
   "source": [
    "## Función range() y xrange()\n"
   ]
  },
  {
   "cell_type": "code",
   "execution_count": 17,
   "id": "a773b215",
   "metadata": {},
   "outputs": [],
   "source": [
    "x = range(10)"
   ]
  },
  {
   "cell_type": "code",
   "execution_count": 18,
   "id": "1335e843",
   "metadata": {},
   "outputs": [
    {
     "data": {
      "text/plain": [
       "range(0, 10)"
      ]
     },
     "execution_count": 18,
     "metadata": {},
     "output_type": "execute_result"
    }
   ],
   "source": [
    "x"
   ]
  },
  {
   "cell_type": "code",
   "execution_count": 19,
   "id": "e2094db7",
   "metadata": {},
   "outputs": [
    {
     "name": "stdout",
     "output_type": "stream",
     "text": [
      "0\n",
      "1\n",
      "2\n",
      "3\n",
      "4\n",
      "5\n",
      "6\n",
      "7\n",
      "8\n",
      "9\n"
     ]
    }
   ],
   "source": [
    "for number in x:\n",
    "    print(number)"
   ]
  },
  {
   "cell_type": "code",
   "execution_count": 21,
   "id": "1b5361c8",
   "metadata": {},
   "outputs": [
    {
     "name": "stdout",
     "output_type": "stream",
     "text": [
      "3\n",
      "4\n",
      "5\n"
     ]
    }
   ],
   "source": [
    "x= range(3,6)\n",
    "for number in x:\n",
    "    print(number)"
   ]
  },
  {
   "cell_type": "code",
   "execution_count": 24,
   "id": "21cf7899",
   "metadata": {},
   "outputs": [
    {
     "name": "stdout",
     "output_type": "stream",
     "text": [
      "3\n",
      "5\n",
      "7\n",
      "9\n",
      "11\n",
      "13\n",
      "15\n",
      "17\n",
      "19\n"
     ]
    }
   ],
   "source": [
    "x= range(3,20,2)\n",
    "for number in x:\n",
    "    print(number)"
   ]
  },
  {
   "cell_type": "markdown",
   "id": "7d291415",
   "metadata": {},
   "source": [
    "## Mutabilidad e Inmutabilidad"
   ]
  },
  {
   "cell_type": "code",
   "execution_count": 1,
   "id": "7d5307f5",
   "metadata": {},
   "outputs": [],
   "source": [
    "tupla1 = (1,2,3,4,5)"
   ]
  },
  {
   "cell_type": "code",
   "execution_count": 2,
   "id": "f35c2424",
   "metadata": {},
   "outputs": [
    {
     "data": {
      "text/plain": [
       "(1, 2, 3, 4, 5)"
      ]
     },
     "execution_count": 2,
     "metadata": {},
     "output_type": "execute_result"
    }
   ],
   "source": [
    "tupla1"
   ]
  },
  {
   "cell_type": "code",
   "execution_count": 4,
   "id": "aa9e8821",
   "metadata": {},
   "outputs": [],
   "source": [
    "# tuplas son INMUTABLES"
   ]
  },
  {
   "cell_type": "code",
   "execution_count": 5,
   "id": "09f7009e",
   "metadata": {},
   "outputs": [],
   "source": [
    "colores = [\"rojo\", \"azul\", \"verde\", \"negro\"]"
   ]
  },
  {
   "cell_type": "code",
   "execution_count": 6,
   "id": "f6e846bd",
   "metadata": {},
   "outputs": [
    {
     "data": {
      "text/plain": [
       "['rojo', 'azul', 'verde', 'negro']"
      ]
     },
     "execution_count": 6,
     "metadata": {},
     "output_type": "execute_result"
    }
   ],
   "source": [
    "colores"
   ]
  },
  {
   "cell_type": "code",
   "execution_count": 7,
   "id": "099e5126",
   "metadata": {},
   "outputs": [],
   "source": [
    "# lista son MUTABLES"
   ]
  },
  {
   "cell_type": "markdown",
   "id": "127d1d8c",
   "metadata": {},
   "source": [
    "## Función print()"
   ]
  },
  {
   "cell_type": "code",
   "execution_count": 8,
   "id": "07cc613e",
   "metadata": {},
   "outputs": [],
   "source": [
    "## Muestra un resultado"
   ]
  },
  {
   "cell_type": "code",
   "execution_count": 9,
   "id": "03e1770f",
   "metadata": {},
   "outputs": [
    {
     "name": "stdout",
     "output_type": "stream",
     "text": [
      "El valor de my_variable es:  567\n"
     ]
    }
   ],
   "source": [
    "my_variable = 567;\n",
    "print(\"El valor de my_variable es: \", my_variable)"
   ]
  },
  {
   "cell_type": "code",
   "execution_count": 10,
   "id": "f57a25d8",
   "metadata": {},
   "outputs": [
    {
     "name": "stdout",
     "output_type": "stream",
     "text": [
      "El valor de d es: 800\n"
     ]
    }
   ],
   "source": [
    "a=100\n",
    "b=500\n",
    "c=200\n",
    "d=a+b+c\n",
    "print(\"El valor de d es:\", d)"
   ]
  },
  {
   "cell_type": "code",
   "execution_count": 11,
   "id": "b6264ea3",
   "metadata": {},
   "outputs": [],
   "source": [
    "import builtins"
   ]
  },
  {
   "cell_type": "code",
   "execution_count": 12,
   "id": "bf8cbd77",
   "metadata": {},
   "outputs": [
    {
     "name": "stdout",
     "output_type": "stream",
     "text": [
      "Help on built-in function print in module builtins:\n",
      "\n",
      "print(*args, sep=' ', end='\\n', file=None, flush=False)\n",
      "    Prints the values to a stream, or to sys.stdout by default.\n",
      "    \n",
      "    sep\n",
      "      string inserted between values, default a space.\n",
      "    end\n",
      "      string appended after the last value, default a newline.\n",
      "    file\n",
      "      a file-like object (stream); defaults to the current sys.stdout.\n",
      "    flush\n",
      "      whether to forcibly flush the stream.\n",
      "\n"
     ]
    }
   ],
   "source": [
    "help(builtins.print)"
   ]
  },
  {
   "cell_type": "code",
   "execution_count": 13,
   "id": "0c685607",
   "metadata": {},
   "outputs": [
    {
     "data": {
      "text/plain": [
       "['ArithmeticError',\n",
       " 'AssertionError',\n",
       " 'AttributeError',\n",
       " 'BaseException',\n",
       " 'BaseExceptionGroup',\n",
       " 'BlockingIOError',\n",
       " 'BrokenPipeError',\n",
       " 'BufferError',\n",
       " 'BytesWarning',\n",
       " 'ChildProcessError',\n",
       " 'ConnectionAbortedError',\n",
       " 'ConnectionError',\n",
       " 'ConnectionRefusedError',\n",
       " 'ConnectionResetError',\n",
       " 'DeprecationWarning',\n",
       " 'EOFError',\n",
       " 'Ellipsis',\n",
       " 'EncodingWarning',\n",
       " 'EnvironmentError',\n",
       " 'Exception',\n",
       " 'ExceptionGroup',\n",
       " 'False',\n",
       " 'FileExistsError',\n",
       " 'FileNotFoundError',\n",
       " 'FloatingPointError',\n",
       " 'FutureWarning',\n",
       " 'GeneratorExit',\n",
       " 'IOError',\n",
       " 'ImportError',\n",
       " 'ImportWarning',\n",
       " 'IndentationError',\n",
       " 'IndexError',\n",
       " 'InterruptedError',\n",
       " 'IsADirectoryError',\n",
       " 'KeyError',\n",
       " 'KeyboardInterrupt',\n",
       " 'LookupError',\n",
       " 'MemoryError',\n",
       " 'ModuleNotFoundError',\n",
       " 'NameError',\n",
       " 'None',\n",
       " 'NotADirectoryError',\n",
       " 'NotImplemented',\n",
       " 'NotImplementedError',\n",
       " 'OSError',\n",
       " 'OverflowError',\n",
       " 'PendingDeprecationWarning',\n",
       " 'PermissionError',\n",
       " 'ProcessLookupError',\n",
       " 'RecursionError',\n",
       " 'ReferenceError',\n",
       " 'ResourceWarning',\n",
       " 'RuntimeError',\n",
       " 'RuntimeWarning',\n",
       " 'StopAsyncIteration',\n",
       " 'StopIteration',\n",
       " 'SyntaxError',\n",
       " 'SyntaxWarning',\n",
       " 'SystemError',\n",
       " 'SystemExit',\n",
       " 'TabError',\n",
       " 'TimeoutError',\n",
       " 'True',\n",
       " 'TypeError',\n",
       " 'UnboundLocalError',\n",
       " 'UnicodeDecodeError',\n",
       " 'UnicodeEncodeError',\n",
       " 'UnicodeError',\n",
       " 'UnicodeTranslateError',\n",
       " 'UnicodeWarning',\n",
       " 'UserWarning',\n",
       " 'ValueError',\n",
       " 'Warning',\n",
       " 'WindowsError',\n",
       " 'ZeroDivisionError',\n",
       " '__IPYTHON__',\n",
       " '__build_class__',\n",
       " '__debug__',\n",
       " '__doc__',\n",
       " '__import__',\n",
       " '__loader__',\n",
       " '__name__',\n",
       " '__package__',\n",
       " '__spec__',\n",
       " 'abs',\n",
       " 'aiter',\n",
       " 'all',\n",
       " 'anext',\n",
       " 'any',\n",
       " 'ascii',\n",
       " 'bin',\n",
       " 'bool',\n",
       " 'breakpoint',\n",
       " 'bytearray',\n",
       " 'bytes',\n",
       " 'callable',\n",
       " 'chr',\n",
       " 'classmethod',\n",
       " 'compile',\n",
       " 'complex',\n",
       " 'copyright',\n",
       " 'credits',\n",
       " 'delattr',\n",
       " 'dict',\n",
       " 'dir',\n",
       " 'display',\n",
       " 'divmod',\n",
       " 'enumerate',\n",
       " 'eval',\n",
       " 'exec',\n",
       " 'execfile',\n",
       " 'filter',\n",
       " 'float',\n",
       " 'format',\n",
       " 'frozenset',\n",
       " 'get_ipython',\n",
       " 'getattr',\n",
       " 'globals',\n",
       " 'hasattr',\n",
       " 'hash',\n",
       " 'help',\n",
       " 'hex',\n",
       " 'id',\n",
       " 'input',\n",
       " 'int',\n",
       " 'isinstance',\n",
       " 'issubclass',\n",
       " 'iter',\n",
       " 'len',\n",
       " 'license',\n",
       " 'list',\n",
       " 'locals',\n",
       " 'map',\n",
       " 'max',\n",
       " 'memoryview',\n",
       " 'min',\n",
       " 'next',\n",
       " 'object',\n",
       " 'oct',\n",
       " 'open',\n",
       " 'ord',\n",
       " 'pow',\n",
       " 'print',\n",
       " 'property',\n",
       " 'range',\n",
       " 'repr',\n",
       " 'reversed',\n",
       " 'round',\n",
       " 'runfile',\n",
       " 'set',\n",
       " 'setattr',\n",
       " 'slice',\n",
       " 'sorted',\n",
       " 'staticmethod',\n",
       " 'str',\n",
       " 'sum',\n",
       " 'super',\n",
       " 'tuple',\n",
       " 'type',\n",
       " 'vars',\n",
       " 'zip']"
      ]
     },
     "execution_count": 13,
     "metadata": {},
     "output_type": "execute_result"
    }
   ],
   "source": [
    "dir(builtins)"
   ]
  },
  {
   "cell_type": "markdown",
   "id": "e61dc5da",
   "metadata": {},
   "source": [
    "## Función type()"
   ]
  },
  {
   "cell_type": "code",
   "execution_count": 15,
   "id": "2b7b1611",
   "metadata": {},
   "outputs": [
    {
     "name": "stdout",
     "output_type": "stream",
     "text": [
      "2023\n"
     ]
    }
   ],
   "source": [
    "my_number = 2023\n",
    "print( my_number )"
   ]
  },
  {
   "cell_type": "code",
   "execution_count": 16,
   "id": "6f6fbe01",
   "metadata": {},
   "outputs": [
    {
     "name": "stdout",
     "output_type": "stream",
     "text": [
      "2023\n",
      "<class 'int'>\n"
     ]
    }
   ],
   "source": [
    "# Entero / int\n",
    "my_number = 2023\n",
    "print(my_number)\n",
    "print(type(my_number))"
   ]
  },
  {
   "cell_type": "code",
   "execution_count": 17,
   "id": "9f380cbf",
   "metadata": {},
   "outputs": [
    {
     "name": "stdout",
     "output_type": "stream",
     "text": [
      "[1, 7, 4, 2]\n",
      "<class 'list'>\n"
     ]
    }
   ],
   "source": [
    "# Listas /list\n",
    "my_list = [1,7,4,2]\n",
    "print(my_list)\n",
    "print(type(my_list))"
   ]
  },
  {
   "cell_type": "code",
   "execution_count": 1,
   "id": "d4db8dc1",
   "metadata": {},
   "outputs": [
    {
     "name": "stdout",
     "output_type": "stream",
     "text": [
      "(3, 8, 2, 5)\n",
      "<class 'tuple'>\n"
     ]
    }
   ],
   "source": [
    "# Tuplas / tuple\n",
    "my_tuple = (3,8,2,5)\n",
    "print(my_tuple)\n",
    "print(type(my_tuple))"
   ]
  },
  {
   "cell_type": "code",
   "execution_count": 2,
   "id": "5af0f4ec",
   "metadata": {},
   "outputs": [
    {
     "name": "stdout",
     "output_type": "stream",
     "text": [
      "{1, 2.5, 4, 'Python'}\n",
      "<class 'set'>\n"
     ]
    }
   ],
   "source": [
    "# Set\n",
    "my_set = {4,1,\"Python\",2.5}\n",
    "print(my_set)\n",
    "print(type(my_set))"
   ]
  },
  {
   "cell_type": "code",
   "execution_count": 4,
   "id": "7d7ede0e",
   "metadata": {},
   "outputs": [
    {
     "name": "stdout",
     "output_type": "stream",
     "text": [
      "{'a': 20, 'b': 50, 'c': 35}\n",
      "<class 'dict'>\n"
     ]
    }
   ],
   "source": [
    "# Diccionarios / dict\n",
    "my_dictionary = {\"a\":20, \"b\":50, \"c\":35}\n",
    "print(my_dictionary)\n",
    "print(type(my_dictionary))"
   ]
  },
  {
   "cell_type": "markdown",
   "id": "b57b70fc",
   "metadata": {},
   "source": [
    "## Función id()"
   ]
  },
  {
   "cell_type": "markdown",
   "id": "eda2a2a9",
   "metadata": {},
   "source": [
    "#### id() función para obtener la dirección de memoria"
   ]
  },
  {
   "cell_type": "code",
   "execution_count": 5,
   "id": "80af2a8f",
   "metadata": {},
   "outputs": [
    {
     "name": "stdout",
     "output_type": "stream",
     "text": [
      "Python\n",
      "<class 'str'>\n",
      "140721378789456\n"
     ]
    }
   ],
   "source": [
    "# Cadena / String\n",
    "my_string = \"Python\"\n",
    "print(my_string)\n",
    "print(type(my_string))\n",
    "print(id(my_string))"
   ]
  },
  {
   "cell_type": "code",
   "execution_count": 6,
   "id": "ddc43ea2",
   "metadata": {},
   "outputs": [
    {
     "data": {
      "text/plain": [
       "86400"
      ]
     },
     "execution_count": 6,
     "metadata": {},
     "output_type": "execute_result"
    }
   ],
   "source": [
    "seconds_in_a_day = 24 * 60 * 60\n",
    "seconds_in_a_day"
   ]
  },
  {
   "cell_type": "code",
   "execution_count": 10,
   "id": "f451bca9",
   "metadata": {},
   "outputs": [],
   "source": [
    "nombre = \"Gilberto\""
   ]
  },
  {
   "cell_type": "code",
   "execution_count": 12,
   "id": "daeb6801",
   "metadata": {},
   "outputs": [
    {
     "data": {
      "text/plain": [
       "'Gilberto'"
      ]
     },
     "execution_count": 12,
     "metadata": {},
     "output_type": "execute_result"
    }
   ],
   "source": [
    "nombre"
   ]
  },
  {
   "cell_type": "markdown",
   "id": "7df7da3c",
   "metadata": {},
   "source": [
    "## Múltiples Valores de Entrada"
   ]
  },
  {
   "cell_type": "code",
   "execution_count": 15,
   "id": "2392980b",
   "metadata": {},
   "outputs": [
    {
     "name": "stdout",
     "output_type": "stream",
     "text": [
      "Ingresa el valor de my_number: 39\n",
      "El valor de my_number es:  39\n"
     ]
    }
   ],
   "source": [
    "my_number = input (\"Ingresa el valor de my_number: \")\n",
    "print(\"El valor de my_number es: \", my_number)"
   ]
  },
  {
   "cell_type": "code",
   "execution_count": 1,
   "id": "bdb34077",
   "metadata": {},
   "outputs": [
    {
     "name": "stdout",
     "output_type": "stream",
     "text": [
      "Ingresa los 3 valores: 1 2 3\n",
      "El valor de a es: 1\n",
      "El valor de b es: 2\n",
      "El valor de c es: 3\n"
     ]
    }
   ],
   "source": [
    "a,b,c = input(\"Ingresa los 3 valores: \").split()\n",
    "print(\"El valor de a es:\",a)\n",
    "\n",
    "print(\"El valor de b es:\",b)\n",
    "\n",
    "print(\"El valor de c es:\",c)"
   ]
  },
  {
   "cell_type": "code",
   "execution_count": null,
   "id": "8b7af224",
   "metadata": {},
   "outputs": [],
   "source": [
    "a,b,c = input(\"Ingresa los 3 valores separados por coma: \").split(\",\")\n",
    "print(\"El valor de a es:\",a)\n",
    "\n",
    "print(\"El valor de b es:\",b)\n",
    "\n",
    "print(\"El valor de c es:\",c)"
   ]
  },
  {
   "cell_type": "code",
   "execution_count": 3,
   "id": "5f4eda71",
   "metadata": {},
   "outputs": [
    {
     "data": {
      "text/plain": [
       "'3.11.3 (tags/v3.11.3:f3909b8, Apr  4 2023, 23:49:59) [MSC v.1934 64 bit (AMD64)]'"
      ]
     },
     "execution_count": 3,
     "metadata": {},
     "output_type": "execute_result"
    }
   ],
   "source": [
    "import sys\n",
    "sys.version"
   ]
  }
 ],
 "metadata": {
  "kernelspec": {
   "display_name": "Python 3 (ipykernel)",
   "language": "python",
   "name": "python3"
  },
  "language_info": {
   "codemirror_mode": {
    "name": "ipython",
    "version": 3
   },
   "file_extension": ".py",
   "mimetype": "text/x-python",
   "name": "python",
   "nbconvert_exporter": "python",
   "pygments_lexer": "ipython3",
   "version": "3.11.3"
  }
 },
 "nbformat": 4,
 "nbformat_minor": 5
}
