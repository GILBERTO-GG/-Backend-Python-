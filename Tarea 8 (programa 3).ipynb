{
 "cells": [
  {
   "cell_type": "code",
   "execution_count": 2,
   "id": "8eee208c",
   "metadata": {},
   "outputs": [
    {
     "name": "stdout",
     "output_type": "stream",
     "text": [
      "Unión de los dos arreglos: [ 0 10 20 30]\n"
     ]
    }
   ],
   "source": [
    "import numpy as np\n",
    "\n",
    "def encontrar_union(arreglo1, arreglo2):\n",
    "    union = np.union1d(arreglo1, arreglo2)\n",
    "    return union\n",
    "\n",
    "# Ejemplo de uso\n",
    "if __name__ == \"__main__\":\n",
    "    arreglo1 = np.array([0, 10, 20])\n",
    "    arreglo2 = np.array([20, 10, 30])\n",
    "    \n",
    "    resultado_union = encontrar_union(arreglo1, arreglo2)\n",
    "    print(\"Unión de los dos arreglos:\", resultado_union)"
   ]
  }
 ],
 "metadata": {
  "kernelspec": {
   "display_name": "Python 3 (ipykernel)",
   "language": "python",
   "name": "python3"
  },
  "language_info": {
   "codemirror_mode": {
    "name": "ipython",
    "version": 3
   },
   "file_extension": ".py",
   "mimetype": "text/x-python",
   "name": "python",
   "nbconvert_exporter": "python",
   "pygments_lexer": "ipython3",
   "version": "3.11.3"
  }
 },
 "nbformat": 4,
 "nbformat_minor": 5
}
