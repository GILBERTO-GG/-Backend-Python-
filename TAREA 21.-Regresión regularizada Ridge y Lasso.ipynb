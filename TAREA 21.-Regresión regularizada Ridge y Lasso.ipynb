{
 "cells": [
  {
   "cell_type": "code",
   "execution_count": 3,
   "id": "aef2c18a",
   "metadata": {},
   "outputs": [],
   "source": [
    "import os\n",
    "import numpy as np         \n",
    "import pandas as pd                \n",
    "import matplotlib.pyplot as plt     \n",
    "%matplotlib inline     \n",
    "import seaborn as sns   \n",
    "import warnings     \n",
    "warnings.filterwarnings('ignore')\n",
    "\n",
    "from sklearn.model_selection import train_test_split\n",
    "from sklearn.preprocessing import StandardScaler\n",
    "from sklearn.linear_model import Ridge, Lasso\n",
    "from sklearn.metrics import mean_squared_error, r2_score"
   ]
  },
  {
   "cell_type": "code",
   "execution_count": 4,
   "id": "4b7aac6b",
   "metadata": {},
   "outputs": [
    {
     "data": {
      "text/html": [
       "<div>\n",
       "<style scoped>\n",
       "    .dataframe tbody tr th:only-of-type {\n",
       "        vertical-align: middle;\n",
       "    }\n",
       "\n",
       "    .dataframe tbody tr th {\n",
       "        vertical-align: top;\n",
       "    }\n",
       "\n",
       "    .dataframe thead th {\n",
       "        text-align: right;\n",
       "    }\n",
       "</style>\n",
       "<table border=\"1\" class=\"dataframe\">\n",
       "  <thead>\n",
       "    <tr style=\"text-align: right;\">\n",
       "      <th></th>\n",
       "      <th>MODELYEAR</th>\n",
       "      <th>MAKE</th>\n",
       "      <th>MODEL</th>\n",
       "      <th>VEHICLECLASS</th>\n",
       "      <th>ENGINESIZE</th>\n",
       "      <th>CYLINDERS</th>\n",
       "      <th>TRANSMISSION</th>\n",
       "      <th>FUELTYPE</th>\n",
       "      <th>FUELCONSUMPTION_CITY</th>\n",
       "      <th>FUELCONSUMPTION_HWY</th>\n",
       "      <th>FUELCONSUMPTION_COMB</th>\n",
       "      <th>FUELCONSUMPTION_COMB_MPG</th>\n",
       "      <th>CO2EMISSIONS</th>\n",
       "    </tr>\n",
       "  </thead>\n",
       "  <tbody>\n",
       "    <tr>\n",
       "      <th>0</th>\n",
       "      <td>2022</td>\n",
       "      <td>Acura</td>\n",
       "      <td>ILX</td>\n",
       "      <td>Compact</td>\n",
       "      <td>2.4</td>\n",
       "      <td>4</td>\n",
       "      <td>AM8</td>\n",
       "      <td>Z</td>\n",
       "      <td>9.9</td>\n",
       "      <td>7.0</td>\n",
       "      <td>8.6</td>\n",
       "      <td>33</td>\n",
       "      <td>200</td>\n",
       "    </tr>\n",
       "    <tr>\n",
       "      <th>1</th>\n",
       "      <td>2022</td>\n",
       "      <td>Acura</td>\n",
       "      <td>MDX SH-AWD</td>\n",
       "      <td>SUV: Small</td>\n",
       "      <td>3.5</td>\n",
       "      <td>6</td>\n",
       "      <td>AS10</td>\n",
       "      <td>Z</td>\n",
       "      <td>12.6</td>\n",
       "      <td>9.4</td>\n",
       "      <td>11.2</td>\n",
       "      <td>25</td>\n",
       "      <td>263</td>\n",
       "    </tr>\n",
       "    <tr>\n",
       "      <th>2</th>\n",
       "      <td>2022</td>\n",
       "      <td>Acura</td>\n",
       "      <td>RDX SH-AWD</td>\n",
       "      <td>SUV: Small</td>\n",
       "      <td>2.0</td>\n",
       "      <td>4</td>\n",
       "      <td>AS10</td>\n",
       "      <td>Z</td>\n",
       "      <td>11.0</td>\n",
       "      <td>8.6</td>\n",
       "      <td>9.9</td>\n",
       "      <td>29</td>\n",
       "      <td>232</td>\n",
       "    </tr>\n",
       "    <tr>\n",
       "      <th>3</th>\n",
       "      <td>2022</td>\n",
       "      <td>Acura</td>\n",
       "      <td>RDX SH-AWD A-SPEC</td>\n",
       "      <td>SUV: Small</td>\n",
       "      <td>2.0</td>\n",
       "      <td>4</td>\n",
       "      <td>AS10</td>\n",
       "      <td>Z</td>\n",
       "      <td>11.3</td>\n",
       "      <td>9.1</td>\n",
       "      <td>10.3</td>\n",
       "      <td>27</td>\n",
       "      <td>242</td>\n",
       "    </tr>\n",
       "    <tr>\n",
       "      <th>4</th>\n",
       "      <td>2022</td>\n",
       "      <td>Acura</td>\n",
       "      <td>TLX SH-AWD</td>\n",
       "      <td>Compact</td>\n",
       "      <td>2.0</td>\n",
       "      <td>4</td>\n",
       "      <td>AS10</td>\n",
       "      <td>Z</td>\n",
       "      <td>11.2</td>\n",
       "      <td>8.0</td>\n",
       "      <td>9.8</td>\n",
       "      <td>29</td>\n",
       "      <td>230</td>\n",
       "    </tr>\n",
       "    <tr>\n",
       "      <th>5</th>\n",
       "      <td>2022</td>\n",
       "      <td>Acura</td>\n",
       "      <td>TLX SH-AWD A-SPEC</td>\n",
       "      <td>Compact</td>\n",
       "      <td>2.0</td>\n",
       "      <td>4</td>\n",
       "      <td>AS10</td>\n",
       "      <td>Z</td>\n",
       "      <td>11.3</td>\n",
       "      <td>8.1</td>\n",
       "      <td>9.8</td>\n",
       "      <td>29</td>\n",
       "      <td>231</td>\n",
       "    </tr>\n",
       "    <tr>\n",
       "      <th>6</th>\n",
       "      <td>2022</td>\n",
       "      <td>Acura</td>\n",
       "      <td>TLX Type S</td>\n",
       "      <td>Compact</td>\n",
       "      <td>3.0</td>\n",
       "      <td>6</td>\n",
       "      <td>AS10</td>\n",
       "      <td>Z</td>\n",
       "      <td>12.3</td>\n",
       "      <td>9.4</td>\n",
       "      <td>11.0</td>\n",
       "      <td>26</td>\n",
       "      <td>256</td>\n",
       "    </tr>\n",
       "    <tr>\n",
       "      <th>7</th>\n",
       "      <td>2022</td>\n",
       "      <td>Acura</td>\n",
       "      <td>TLX Type S (Performance Tire)</td>\n",
       "      <td>Compact</td>\n",
       "      <td>3.0</td>\n",
       "      <td>6</td>\n",
       "      <td>AS10</td>\n",
       "      <td>Z</td>\n",
       "      <td>12.3</td>\n",
       "      <td>9.8</td>\n",
       "      <td>11.2</td>\n",
       "      <td>25</td>\n",
       "      <td>261</td>\n",
       "    </tr>\n",
       "    <tr>\n",
       "      <th>8</th>\n",
       "      <td>2022</td>\n",
       "      <td>Alfa Romeo</td>\n",
       "      <td>Giulia</td>\n",
       "      <td>Mid-size</td>\n",
       "      <td>2.0</td>\n",
       "      <td>4</td>\n",
       "      <td>A8</td>\n",
       "      <td>Z</td>\n",
       "      <td>10.0</td>\n",
       "      <td>7.2</td>\n",
       "      <td>8.7</td>\n",
       "      <td>32</td>\n",
       "      <td>205</td>\n",
       "    </tr>\n",
       "    <tr>\n",
       "      <th>9</th>\n",
       "      <td>2022</td>\n",
       "      <td>Alfa Romeo</td>\n",
       "      <td>Giulia AWD</td>\n",
       "      <td>Mid-size</td>\n",
       "      <td>2.0</td>\n",
       "      <td>4</td>\n",
       "      <td>A8</td>\n",
       "      <td>Z</td>\n",
       "      <td>10.5</td>\n",
       "      <td>7.7</td>\n",
       "      <td>9.2</td>\n",
       "      <td>31</td>\n",
       "      <td>217</td>\n",
       "    </tr>\n",
       "    <tr>\n",
       "      <th>10</th>\n",
       "      <td>2022</td>\n",
       "      <td>Alfa Romeo</td>\n",
       "      <td>Giulia Quadrifoglio</td>\n",
       "      <td>Mid-size</td>\n",
       "      <td>2.9</td>\n",
       "      <td>6</td>\n",
       "      <td>A8</td>\n",
       "      <td>Z</td>\n",
       "      <td>13.5</td>\n",
       "      <td>9.3</td>\n",
       "      <td>11.6</td>\n",
       "      <td>24</td>\n",
       "      <td>271</td>\n",
       "    </tr>\n",
       "    <tr>\n",
       "      <th>11</th>\n",
       "      <td>2022</td>\n",
       "      <td>Alfa Romeo</td>\n",
       "      <td>Stelvio</td>\n",
       "      <td>SUV: Small</td>\n",
       "      <td>2.0</td>\n",
       "      <td>4</td>\n",
       "      <td>A8</td>\n",
       "      <td>Z</td>\n",
       "      <td>10.3</td>\n",
       "      <td>8.1</td>\n",
       "      <td>9.3</td>\n",
       "      <td>30</td>\n",
       "      <td>218</td>\n",
       "    </tr>\n",
       "    <tr>\n",
       "      <th>12</th>\n",
       "      <td>2022</td>\n",
       "      <td>Alfa Romeo</td>\n",
       "      <td>Stelvio AWD</td>\n",
       "      <td>SUV: Small</td>\n",
       "      <td>2.0</td>\n",
       "      <td>4</td>\n",
       "      <td>A8</td>\n",
       "      <td>Z</td>\n",
       "      <td>10.8</td>\n",
       "      <td>8.3</td>\n",
       "      <td>9.6</td>\n",
       "      <td>29</td>\n",
       "      <td>226</td>\n",
       "    </tr>\n",
       "    <tr>\n",
       "      <th>13</th>\n",
       "      <td>2022</td>\n",
       "      <td>Alfa Romeo</td>\n",
       "      <td>Stelvio AWD Quadrifoglio</td>\n",
       "      <td>SUV: Small</td>\n",
       "      <td>2.9</td>\n",
       "      <td>6</td>\n",
       "      <td>A8</td>\n",
       "      <td>Z</td>\n",
       "      <td>13.9</td>\n",
       "      <td>10.3</td>\n",
       "      <td>12.3</td>\n",
       "      <td>23</td>\n",
       "      <td>288</td>\n",
       "    </tr>\n",
       "    <tr>\n",
       "      <th>14</th>\n",
       "      <td>2022</td>\n",
       "      <td>Aston Martin</td>\n",
       "      <td>DB11 V8</td>\n",
       "      <td>Minicompact</td>\n",
       "      <td>4.0</td>\n",
       "      <td>8</td>\n",
       "      <td>A8</td>\n",
       "      <td>Z</td>\n",
       "      <td>13.0</td>\n",
       "      <td>9.8</td>\n",
       "      <td>11.5</td>\n",
       "      <td>25</td>\n",
       "      <td>271</td>\n",
       "    </tr>\n",
       "  </tbody>\n",
       "</table>\n",
       "</div>"
      ],
      "text/plain": [
       "    MODELYEAR          MAKE                          MODEL VEHICLECLASS  \\\n",
       "0        2022         Acura                            ILX      Compact   \n",
       "1        2022         Acura                     MDX SH-AWD   SUV: Small   \n",
       "2        2022         Acura                     RDX SH-AWD   SUV: Small   \n",
       "3        2022         Acura              RDX SH-AWD A-SPEC   SUV: Small   \n",
       "4        2022         Acura                     TLX SH-AWD      Compact   \n",
       "5        2022         Acura              TLX SH-AWD A-SPEC      Compact   \n",
       "6        2022         Acura                     TLX Type S      Compact   \n",
       "7        2022         Acura  TLX Type S (Performance Tire)      Compact   \n",
       "8        2022    Alfa Romeo                         Giulia     Mid-size   \n",
       "9        2022    Alfa Romeo                     Giulia AWD     Mid-size   \n",
       "10       2022    Alfa Romeo            Giulia Quadrifoglio     Mid-size   \n",
       "11       2022    Alfa Romeo                        Stelvio   SUV: Small   \n",
       "12       2022    Alfa Romeo                    Stelvio AWD   SUV: Small   \n",
       "13       2022    Alfa Romeo       Stelvio AWD Quadrifoglio   SUV: Small   \n",
       "14       2022  Aston Martin                        DB11 V8  Minicompact   \n",
       "\n",
       "    ENGINESIZE  CYLINDERS TRANSMISSION FUELTYPE  FUELCONSUMPTION_CITY  \\\n",
       "0          2.4          4          AM8        Z                   9.9   \n",
       "1          3.5          6         AS10        Z                  12.6   \n",
       "2          2.0          4         AS10        Z                  11.0   \n",
       "3          2.0          4         AS10        Z                  11.3   \n",
       "4          2.0          4         AS10        Z                  11.2   \n",
       "5          2.0          4         AS10        Z                  11.3   \n",
       "6          3.0          6         AS10        Z                  12.3   \n",
       "7          3.0          6         AS10        Z                  12.3   \n",
       "8          2.0          4           A8        Z                  10.0   \n",
       "9          2.0          4           A8        Z                  10.5   \n",
       "10         2.9          6           A8        Z                  13.5   \n",
       "11         2.0          4           A8        Z                  10.3   \n",
       "12         2.0          4           A8        Z                  10.8   \n",
       "13         2.9          6           A8        Z                  13.9   \n",
       "14         4.0          8           A8        Z                  13.0   \n",
       "\n",
       "    FUELCONSUMPTION_HWY  FUELCONSUMPTION_COMB  FUELCONSUMPTION_COMB_MPG  \\\n",
       "0                   7.0                   8.6                        33   \n",
       "1                   9.4                  11.2                        25   \n",
       "2                   8.6                   9.9                        29   \n",
       "3                   9.1                  10.3                        27   \n",
       "4                   8.0                   9.8                        29   \n",
       "5                   8.1                   9.8                        29   \n",
       "6                   9.4                  11.0                        26   \n",
       "7                   9.8                  11.2                        25   \n",
       "8                   7.2                   8.7                        32   \n",
       "9                   7.7                   9.2                        31   \n",
       "10                  9.3                  11.6                        24   \n",
       "11                  8.1                   9.3                        30   \n",
       "12                  8.3                   9.6                        29   \n",
       "13                 10.3                  12.3                        23   \n",
       "14                  9.8                  11.5                        25   \n",
       "\n",
       "    CO2EMISSIONS  \n",
       "0            200  \n",
       "1            263  \n",
       "2            232  \n",
       "3            242  \n",
       "4            230  \n",
       "5            231  \n",
       "6            256  \n",
       "7            261  \n",
       "8            205  \n",
       "9            217  \n",
       "10           271  \n",
       "11           218  \n",
       "12           226  \n",
       "13           288  \n",
       "14           271  "
      ]
     },
     "execution_count": 4,
     "metadata": {},
     "output_type": "execute_result"
    }
   ],
   "source": [
    "os.chdir(\"/Users/gilgu/OneDrive/Escritorio\")\n",
    "df = pd.read_excel(\"FuelConsumptionCo2.xlsx\")\n",
    "df.head(15)"
   ]
  },
  {
   "cell_type": "code",
   "execution_count": 5,
   "id": "56dc8201",
   "metadata": {},
   "outputs": [
    {
     "data": {
      "text/plain": [
       "(945, 13)"
      ]
     },
     "execution_count": 5,
     "metadata": {},
     "output_type": "execute_result"
    }
   ],
   "source": [
    "df.shape"
   ]
  },
  {
   "cell_type": "code",
   "execution_count": 7,
   "id": "9688f2bb",
   "metadata": {},
   "outputs": [
    {
     "name": "stdout",
     "output_type": "stream",
     "text": [
      "Index(['MODELYEAR', 'MAKE', 'MODEL', 'VEHICLECLASS', 'ENGINESIZE', 'CYLINDERS',\n",
      "       'TRANSMISSION', 'FUELTYPE', 'FUELCONSUMPTION_CITY',\n",
      "       'FUELCONSUMPTION_HWY', 'FUELCONSUMPTION_COMB',\n",
      "       'FUELCONSUMPTION_COMB_MPG', 'CO2EMISSIONS'],\n",
      "      dtype='object')\n"
     ]
    }
   ],
   "source": [
    "print(df.columns)"
   ]
  },
  {
   "cell_type": "code",
   "execution_count": 8,
   "id": "4b2b26e8",
   "metadata": {},
   "outputs": [
    {
     "data": {
      "text/plain": [
       "count    945.000000\n",
       "mean     259.410582\n",
       "std       64.486225\n",
       "min       94.000000\n",
       "25%      214.000000\n",
       "50%      258.000000\n",
       "75%      301.000000\n",
       "max      608.000000\n",
       "Name: CO2EMISSIONS, dtype: float64"
      ]
     },
     "execution_count": 8,
     "metadata": {},
     "output_type": "execute_result"
    }
   ],
   "source": [
    "df['CO2EMISSIONS'].describe()"
   ]
  },
  {
   "cell_type": "markdown",
   "id": "4d91fbc6",
   "metadata": {},
   "source": [
    "# ver cuanta información tenemos en huecos para visualizarla y después filtrarla y eliminar esos registros."
   ]
  },
  {
   "cell_type": "markdown",
   "id": "5288cb59",
   "metadata": {},
   "source": [
    "# Elaboración del mapa de calor"
   ]
  },
  {
   "cell_type": "code",
   "execution_count": 12,
   "id": "d8794f7b",
   "metadata": {},
   "outputs": [
    {
     "data": {
      "text/plain": [
       "<Axes: >"
      ]
     },
     "execution_count": 12,
     "metadata": {},
     "output_type": "execute_result"
    },
    {
     "data": {
      "image/png": "[encoded data removed]",
      "text/plain": [
       "<Figure size 2000x600 with 1 Axes>"
      ]
     },
     "metadata": {},
     "output_type": "display_data"
    }
   ],
   "source": [
    "plt.figure(figsize=(20,6))\n",
    "sns.heatmap(df.isnull(),yticklabels=False, cbar=False,cmap='viridis') "
   ]
  },
  {
   "cell_type": "markdown",
   "id": "6c4fa7fc",
   "metadata": {},
   "source": [
    "# Se puede observar que el mapa de calor no arroja huecos para eliminar."
   ]
  },
  {
   "cell_type": "markdown",
   "id": "01ba0679",
   "metadata": {},
   "source": [
    "# Remover las características categóricas:"
   ]
  },
  {
   "cell_type": "code",
   "execution_count": 10,
   "id": "d9b43227",
   "metadata": {},
   "outputs": [
    {
     "data": {
      "text/html": [
       "<div>\n",
       "<style scoped>\n",
       "    .dataframe tbody tr th:only-of-type {\n",
       "        vertical-align: middle;\n",
       "    }\n",
       "\n",
       "    .dataframe tbody tr th {\n",
       "        vertical-align: top;\n",
       "    }\n",
       "\n",
       "    .dataframe thead th {\n",
       "        text-align: right;\n",
       "    }\n",
       "</style>\n",
       "<table border=\"1\" class=\"dataframe\">\n",
       "  <thead>\n",
       "    <tr style=\"text-align: right;\">\n",
       "      <th></th>\n",
       "      <th>ENGINESIZE</th>\n",
       "      <th>CYLINDERS</th>\n",
       "      <th>FUELCONSUMPTION_CITY</th>\n",
       "      <th>FUELCONSUMPTION_HWY</th>\n",
       "      <th>FUELCONSUMPTION_COMB</th>\n",
       "      <th>FUELCONSUMPTION_COMB_MPG</th>\n",
       "      <th>CO2EMISSIONS</th>\n",
       "    </tr>\n",
       "  </thead>\n",
       "  <tbody>\n",
       "    <tr>\n",
       "      <th>0</th>\n",
       "      <td>2.4</td>\n",
       "      <td>4</td>\n",
       "      <td>9.9</td>\n",
       "      <td>7.0</td>\n",
       "      <td>8.6</td>\n",
       "      <td>33</td>\n",
       "      <td>200</td>\n",
       "    </tr>\n",
       "    <tr>\n",
       "      <th>1</th>\n",
       "      <td>3.5</td>\n",
       "      <td>6</td>\n",
       "      <td>12.6</td>\n",
       "      <td>9.4</td>\n",
       "      <td>11.2</td>\n",
       "      <td>25</td>\n",
       "      <td>263</td>\n",
       "    </tr>\n",
       "    <tr>\n",
       "      <th>2</th>\n",
       "      <td>2.0</td>\n",
       "      <td>4</td>\n",
       "      <td>11.0</td>\n",
       "      <td>8.6</td>\n",
       "      <td>9.9</td>\n",
       "      <td>29</td>\n",
       "      <td>232</td>\n",
       "    </tr>\n",
       "    <tr>\n",
       "      <th>3</th>\n",
       "      <td>2.0</td>\n",
       "      <td>4</td>\n",
       "      <td>11.3</td>\n",
       "      <td>9.1</td>\n",
       "      <td>10.3</td>\n",
       "      <td>27</td>\n",
       "      <td>242</td>\n",
       "    </tr>\n",
       "    <tr>\n",
       "      <th>4</th>\n",
       "      <td>2.0</td>\n",
       "      <td>4</td>\n",
       "      <td>11.2</td>\n",
       "      <td>8.0</td>\n",
       "      <td>9.8</td>\n",
       "      <td>29</td>\n",
       "      <td>230</td>\n",
       "    </tr>\n",
       "    <tr>\n",
       "      <th>...</th>\n",
       "      <td>...</td>\n",
       "      <td>...</td>\n",
       "      <td>...</td>\n",
       "      <td>...</td>\n",
       "      <td>...</td>\n",
       "      <td>...</td>\n",
       "      <td>...</td>\n",
       "    </tr>\n",
       "    <tr>\n",
       "      <th>940</th>\n",
       "      <td>2.0</td>\n",
       "      <td>4</td>\n",
       "      <td>10.7</td>\n",
       "      <td>7.7</td>\n",
       "      <td>9.4</td>\n",
       "      <td>30</td>\n",
       "      <td>219</td>\n",
       "    </tr>\n",
       "    <tr>\n",
       "      <th>941</th>\n",
       "      <td>2.0</td>\n",
       "      <td>4</td>\n",
       "      <td>10.5</td>\n",
       "      <td>8.1</td>\n",
       "      <td>9.4</td>\n",
       "      <td>30</td>\n",
       "      <td>219</td>\n",
       "    </tr>\n",
       "    <tr>\n",
       "      <th>942</th>\n",
       "      <td>2.0</td>\n",
       "      <td>4</td>\n",
       "      <td>11.0</td>\n",
       "      <td>8.7</td>\n",
       "      <td>9.9</td>\n",
       "      <td>29</td>\n",
       "      <td>232</td>\n",
       "    </tr>\n",
       "    <tr>\n",
       "      <th>943</th>\n",
       "      <td>2.0</td>\n",
       "      <td>4</td>\n",
       "      <td>11.5</td>\n",
       "      <td>8.4</td>\n",
       "      <td>10.1</td>\n",
       "      <td>28</td>\n",
       "      <td>236</td>\n",
       "    </tr>\n",
       "    <tr>\n",
       "      <th>944</th>\n",
       "      <td>2.0</td>\n",
       "      <td>4</td>\n",
       "      <td>12.4</td>\n",
       "      <td>8.9</td>\n",
       "      <td>10.8</td>\n",
       "      <td>26</td>\n",
       "      <td>252</td>\n",
       "    </tr>\n",
       "  </tbody>\n",
       "</table>\n",
       "<p>945 rows × 7 columns</p>\n",
       "</div>"
      ],
      "text/plain": [
       "     ENGINESIZE  CYLINDERS  FUELCONSUMPTION_CITY  FUELCONSUMPTION_HWY  \\\n",
       "0           2.4          4                   9.9                  7.0   \n",
       "1           3.5          6                  12.6                  9.4   \n",
       "2           2.0          4                  11.0                  8.6   \n",
       "3           2.0          4                  11.3                  9.1   \n",
       "4           2.0          4                  11.2                  8.0   \n",
       "..          ...        ...                   ...                  ...   \n",
       "940         2.0          4                  10.7                  7.7   \n",
       "941         2.0          4                  10.5                  8.1   \n",
       "942         2.0          4                  11.0                  8.7   \n",
       "943         2.0          4                  11.5                  8.4   \n",
       "944         2.0          4                  12.4                  8.9   \n",
       "\n",
       "     FUELCONSUMPTION_COMB  FUELCONSUMPTION_COMB_MPG  CO2EMISSIONS  \n",
       "0                     8.6                        33           200  \n",
       "1                    11.2                        25           263  \n",
       "2                     9.9                        29           232  \n",
       "3                    10.3                        27           242  \n",
       "4                     9.8                        29           230  \n",
       "..                    ...                       ...           ...  \n",
       "940                   9.4                        30           219  \n",
       "941                   9.4                        30           219  \n",
       "942                   9.9                        29           232  \n",
       "943                  10.1                        28           236  \n",
       "944                  10.8                        26           252  \n",
       "\n",
       "[945 rows x 7 columns]"
      ]
     },
     "execution_count": 10,
     "metadata": {},
     "output_type": "execute_result"
    }
   ],
   "source": [
    "#este código elimina las columnas mencionadas:\n",
    "\n",
    "df.drop(['MODELYEAR', 'MAKE', 'MODEL', 'VEHICLECLASS', 'TRANSMISSION', 'FUELTYPE'], axis=1, inplace=True)     \n",
    "df"
   ]
  },
  {
   "cell_type": "code",
   "execution_count": 11,
   "id": "23b2f862",
   "metadata": {},
   "outputs": [
    {
     "data": {
      "text/plain": [
       "(945, 7)"
      ]
     },
     "execution_count": 11,
     "metadata": {},
     "output_type": "execute_result"
    }
   ],
   "source": [
    "df.shape"
   ]
  },
  {
   "cell_type": "code",
   "execution_count": 14,
   "id": "90a3d9bd",
   "metadata": {},
   "outputs": [],
   "source": [
    "X = df.drop('CO2EMISSIONS',axis=1)\n",
    "y = df['CO2EMISSIONS']"
   ]
  },
  {
   "cell_type": "code",
   "execution_count": 15,
   "id": "0b9e753c",
   "metadata": {},
   "outputs": [
    {
     "data": {
      "text/html": [
       "<div>\n",
       "<style scoped>\n",
       "    .dataframe tbody tr th:only-of-type {\n",
       "        vertical-align: middle;\n",
       "    }\n",
       "\n",
       "    .dataframe tbody tr th {\n",
       "        vertical-align: top;\n",
       "    }\n",
       "\n",
       "    .dataframe thead th {\n",
       "        text-align: right;\n",
       "    }\n",
       "</style>\n",
       "<table border=\"1\" class=\"dataframe\">\n",
       "  <thead>\n",
       "    <tr style=\"text-align: right;\">\n",
       "      <th></th>\n",
       "      <th>ENGINESIZE</th>\n",
       "      <th>CYLINDERS</th>\n",
       "      <th>FUELCONSUMPTION_CITY</th>\n",
       "      <th>FUELCONSUMPTION_HWY</th>\n",
       "      <th>FUELCONSUMPTION_COMB</th>\n",
       "      <th>FUELCONSUMPTION_COMB_MPG</th>\n",
       "    </tr>\n",
       "  </thead>\n",
       "  <tbody>\n",
       "    <tr>\n",
       "      <th>0</th>\n",
       "      <td>2.4</td>\n",
       "      <td>4</td>\n",
       "      <td>9.9</td>\n",
       "      <td>7.0</td>\n",
       "      <td>8.6</td>\n",
       "      <td>33</td>\n",
       "    </tr>\n",
       "    <tr>\n",
       "      <th>1</th>\n",
       "      <td>3.5</td>\n",
       "      <td>6</td>\n",
       "      <td>12.6</td>\n",
       "      <td>9.4</td>\n",
       "      <td>11.2</td>\n",
       "      <td>25</td>\n",
       "    </tr>\n",
       "    <tr>\n",
       "      <th>2</th>\n",
       "      <td>2.0</td>\n",
       "      <td>4</td>\n",
       "      <td>11.0</td>\n",
       "      <td>8.6</td>\n",
       "      <td>9.9</td>\n",
       "      <td>29</td>\n",
       "    </tr>\n",
       "    <tr>\n",
       "      <th>3</th>\n",
       "      <td>2.0</td>\n",
       "      <td>4</td>\n",
       "      <td>11.3</td>\n",
       "      <td>9.1</td>\n",
       "      <td>10.3</td>\n",
       "      <td>27</td>\n",
       "    </tr>\n",
       "    <tr>\n",
       "      <th>4</th>\n",
       "      <td>2.0</td>\n",
       "      <td>4</td>\n",
       "      <td>11.2</td>\n",
       "      <td>8.0</td>\n",
       "      <td>9.8</td>\n",
       "      <td>29</td>\n",
       "    </tr>\n",
       "    <tr>\n",
       "      <th>...</th>\n",
       "      <td>...</td>\n",
       "      <td>...</td>\n",
       "      <td>...</td>\n",
       "      <td>...</td>\n",
       "      <td>...</td>\n",
       "      <td>...</td>\n",
       "    </tr>\n",
       "    <tr>\n",
       "      <th>940</th>\n",
       "      <td>2.0</td>\n",
       "      <td>4</td>\n",
       "      <td>10.7</td>\n",
       "      <td>7.7</td>\n",
       "      <td>9.4</td>\n",
       "      <td>30</td>\n",
       "    </tr>\n",
       "    <tr>\n",
       "      <th>941</th>\n",
       "      <td>2.0</td>\n",
       "      <td>4</td>\n",
       "      <td>10.5</td>\n",
       "      <td>8.1</td>\n",
       "      <td>9.4</td>\n",
       "      <td>30</td>\n",
       "    </tr>\n",
       "    <tr>\n",
       "      <th>942</th>\n",
       "      <td>2.0</td>\n",
       "      <td>4</td>\n",
       "      <td>11.0</td>\n",
       "      <td>8.7</td>\n",
       "      <td>9.9</td>\n",
       "      <td>29</td>\n",
       "    </tr>\n",
       "    <tr>\n",
       "      <th>943</th>\n",
       "      <td>2.0</td>\n",
       "      <td>4</td>\n",
       "      <td>11.5</td>\n",
       "      <td>8.4</td>\n",
       "      <td>10.1</td>\n",
       "      <td>28</td>\n",
       "    </tr>\n",
       "    <tr>\n",
       "      <th>944</th>\n",
       "      <td>2.0</td>\n",
       "      <td>4</td>\n",
       "      <td>12.4</td>\n",
       "      <td>8.9</td>\n",
       "      <td>10.8</td>\n",
       "      <td>26</td>\n",
       "    </tr>\n",
       "  </tbody>\n",
       "</table>\n",
       "<p>945 rows × 6 columns</p>\n",
       "</div>"
      ],
      "text/plain": [
       "     ENGINESIZE  CYLINDERS  FUELCONSUMPTION_CITY  FUELCONSUMPTION_HWY  \\\n",
       "0           2.4          4                   9.9                  7.0   \n",
       "1           3.5          6                  12.6                  9.4   \n",
       "2           2.0          4                  11.0                  8.6   \n",
       "3           2.0          4                  11.3                  9.1   \n",
       "4           2.0          4                  11.2                  8.0   \n",
       "..          ...        ...                   ...                  ...   \n",
       "940         2.0          4                  10.7                  7.7   \n",
       "941         2.0          4                  10.5                  8.1   \n",
       "942         2.0          4                  11.0                  8.7   \n",
       "943         2.0          4                  11.5                  8.4   \n",
       "944         2.0          4                  12.4                  8.9   \n",
       "\n",
       "     FUELCONSUMPTION_COMB  FUELCONSUMPTION_COMB_MPG  \n",
       "0                     8.6                        33  \n",
       "1                    11.2                        25  \n",
       "2                     9.9                        29  \n",
       "3                    10.3                        27  \n",
       "4                     9.8                        29  \n",
       "..                    ...                       ...  \n",
       "940                   9.4                        30  \n",
       "941                   9.4                        30  \n",
       "942                   9.9                        29  \n",
       "943                  10.1                        28  \n",
       "944                  10.8                        26  \n",
       "\n",
       "[945 rows x 6 columns]"
      ]
     },
     "execution_count": 15,
     "metadata": {},
     "output_type": "execute_result"
    }
   ],
   "source": [
    "X"
   ]
  },
  {
   "cell_type": "code",
   "execution_count": 16,
   "id": "c86d97f5",
   "metadata": {},
   "outputs": [
    {
     "data": {
      "text/plain": [
       "0      200\n",
       "1      263\n",
       "2      232\n",
       "3      242\n",
       "4      230\n",
       "      ... \n",
       "940    219\n",
       "941    219\n",
       "942    232\n",
       "943    236\n",
       "944    252\n",
       "Name: CO2EMISSIONS, Length: 945, dtype: int64"
      ]
     },
     "execution_count": 16,
     "metadata": {},
     "output_type": "execute_result"
    }
   ],
   "source": [
    "y"
   ]
  },
  {
   "cell_type": "markdown",
   "id": "ab753e31",
   "metadata": {},
   "source": [
    "# División en grupos de entrenamiento (training) y de prueba (testing):"
   ]
  },
  {
   "cell_type": "code",
   "execution_count": 17,
   "id": "5d0e7e6b",
   "metadata": {},
   "outputs": [],
   "source": [
    "from sklearn.model_selection import train_test_split\n",
    "\n",
    "# se usa el 0.2 por el tamaño grande de la base\n",
    "X_train, X_test, y_train, y_test = train_test_split(X, y, test_size=0.20, random_state=1)"
   ]
  },
  {
   "cell_type": "markdown",
   "id": "065db666",
   "metadata": {},
   "source": [
    "# Construcción de un modelo de regresión lineal múltiple:"
   ]
  },
  {
   "cell_type": "code",
   "execution_count": 42,
   "id": "efea3f0e",
   "metadata": {},
   "outputs": [
    {
     "data": {
      "text/html": [
       "<style>#sk-container-id-4 {color: black;}#sk-container-id-4 pre{padding: 0;}#sk-container-id-4 div.sk-toggleable {background-color: white;}#sk-container-id-4 label.sk-toggleable__label {cursor: pointer;display: block;width: 100%;margin-bottom: 0;padding: 0.3em;box-sizing: border-box;text-align: center;}#sk-container-id-4 label.sk-toggleable__label-arrow:before {content: \"▸\";float: left;margin-right: 0.25em;color: #696969;}#sk-container-id-4 label.sk-toggleable__label-arrow:hover:before {color: black;}#sk-container-id-4 div.sk-estimator:hover label.sk-toggleable__label-arrow:before {color: black;}#sk-container-id-4 div.sk-toggleable__content {max-height: 0;max-width: 0;overflow: hidden;text-align: left;background-color: #f0f8ff;}#sk-container-id-4 div.sk-toggleable__content pre {margin: 0.2em;color: black;border-radius: 0.25em;background-color: #f0f8ff;}#sk-container-id-4 input.sk-toggleable__control:checked~div.sk-toggleable__content {max-height: 200px;max-width: 100%;overflow: auto;}#sk-container-id-4 input.sk-toggleable__control:checked~label.sk-toggleable__label-arrow:before {content: \"▾\";}#sk-container-id-4 div.sk-estimator input.sk-toggleable__control:checked~label.sk-toggleable__label {background-color: #d4ebff;}#sk-container-id-4 div.sk-label input.sk-toggleable__control:checked~label.sk-toggleable__label {background-color: #d4ebff;}#sk-container-id-4 input.sk-hidden--visually {border: 0;clip: rect(1px 1px 1px 1px);clip: rect(1px, 1px, 1px, 1px);height: 1px;margin: -1px;overflow: hidden;padding: 0;position: absolute;width: 1px;}#sk-container-id-4 div.sk-estimator {font-family: monospace;background-color: #f0f8ff;border: 1px dotted black;border-radius: 0.25em;box-sizing: border-box;margin-bottom: 0.5em;}#sk-container-id-4 div.sk-estimator:hover {background-color: #d4ebff;}#sk-container-id-4 div.sk-parallel-item::after {content: \"\";width: 100%;border-bottom: 1px solid gray;flex-grow: 1;}#sk-container-id-4 div.sk-label:hover label.sk-toggleable__label {background-color: #d4ebff;}#sk-container-id-4 div.sk-serial::before {content: \"\";position: absolute;border-left: 1px solid gray;box-sizing: border-box;top: 0;bottom: 0;left: 50%;z-index: 0;}#sk-container-id-4 div.sk-serial {display: flex;flex-direction: column;align-items: center;background-color: white;padding-right: 0.2em;padding-left: 0.2em;position: relative;}#sk-container-id-4 div.sk-item {position: relative;z-index: 1;}#sk-container-id-4 div.sk-parallel {display: flex;align-items: stretch;justify-content: center;background-color: white;position: relative;}#sk-container-id-4 div.sk-item::before, #sk-container-id-4 div.sk-parallel-item::before {content: \"\";position: absolute;border-left: 1px solid gray;box-sizing: border-box;top: 0;bottom: 0;left: 50%;z-index: -1;}#sk-container-id-4 div.sk-parallel-item {display: flex;flex-direction: column;z-index: 1;position: relative;background-color: white;}#sk-container-id-4 div.sk-parallel-item:first-child::after {align-self: flex-end;width: 50%;}#sk-container-id-4 div.sk-parallel-item:last-child::after {align-self: flex-start;width: 50%;}#sk-container-id-4 div.sk-parallel-item:only-child::after {width: 0;}#sk-container-id-4 div.sk-dashed-wrapped {border: 1px dashed gray;margin: 0 0.4em 0.5em 0.4em;box-sizing: border-box;padding-bottom: 0.4em;background-color: white;}#sk-container-id-4 div.sk-label label {font-family: monospace;font-weight: bold;display: inline-block;line-height: 1.2em;}#sk-container-id-4 div.sk-label-container {text-align: center;}#sk-container-id-4 div.sk-container {/* jupyter's `normalize.less` sets `[hidden] { display: none; }` but bootstrap.min.css set `[hidden] { display: none !important; }` so we also need the `!important` here to be able to override the default hidden behavior on the sphinx rendered scikit-learn.org. See: https://github.com/scikit-learn/scikit-learn/issues/21755 */display: inline-block !important;position: relative;}#sk-container-id-4 div.sk-text-repr-fallback {display: none;}</style><div id=\"sk-container-id-4\" class=\"sk-top-container\"><div class=\"sk-text-repr-fallback\"><pre>LinearRegression()</pre><b>In a Jupyter environment, please rerun this cell to show the HTML representation or trust the notebook. <br />On GitHub, the HTML representation is unable to render, please try loading this page with nbviewer.org.</b></div><div class=\"sk-container\" hidden><div class=\"sk-item\"><div class=\"sk-estimator sk-toggleable\"><input class=\"sk-toggleable__control sk-hidden--visually\" id=\"sk-estimator-id-4\" type=\"checkbox\" checked><label for=\"sk-estimator-id-4\" class=\"sk-toggleable__label sk-toggleable__label-arrow\">LinearRegression</label><div class=\"sk-toggleable__content\"><pre>LinearRegression()</pre></div></div></div></div></div>"
      ],
      "text/plain": [
       "LinearRegression()"
      ]
     },
     "execution_count": 42,
     "metadata": {},
     "output_type": "execute_result"
    }
   ],
   "source": [
    "from sklearn.linear_model import LinearRegression\n",
    "linreg = LinearRegression()\n",
    "linreg.fit(X_train, y_train)"
   ]
  },
  {
   "cell_type": "markdown",
   "id": "b9675c20",
   "metadata": {},
   "source": [
    "# Impresión de coeficientes de regresión"
   ]
  },
  {
   "cell_type": "code",
   "execution_count": 19,
   "id": "acfac696",
   "metadata": {},
   "outputs": [
    {
     "name": "stdout",
     "output_type": "stream",
     "text": [
      "Intercepto:  121.9061104627929\n",
      "Coeficientes:  [ 0.43160223  5.50285227 -0.6614582   1.15989448 13.74061389 -1.85532002]\n"
     ]
    }
   ],
   "source": [
    "print(\"Intercepto: \", linreg.intercept_)\n",
    "print(\"Coeficientes: \", linreg.coef_)"
   ]
  },
  {
   "cell_type": "code",
   "execution_count": 20,
   "id": "76c971fc",
   "metadata": {},
   "outputs": [
    {
     "data": {
      "text/plain": [
       "array([320.44592329, 322.45141208, 346.24417982, 174.38112389,\n",
       "       196.8708055 , 250.03840032, 241.40574334, 332.70807469,\n",
       "       328.07208911, 173.25534359, 276.01260717, 226.83817563,\n",
       "       323.59586634, 264.44421938, 176.39654449, 267.6669802 ,\n",
       "       162.10975292, 221.21298827, 338.62730234, 326.71432991,\n",
       "       322.45141208, 339.3464554 , 258.96340179, 221.21298827,\n",
       "       340.63058185, 201.87136311, 366.08024545, 332.59359737,\n",
       "       288.99231194, 137.51686587, 178.802307  , 176.39654449,\n",
       "       239.69720483, 292.42838916, 313.2920352 , 290.12838279,\n",
       "       330.67442902, 317.06241246, 328.07208911, 219.34248912,\n",
       "       302.06652534, 293.60042335, 229.3999543 , 182.84139017,\n",
       "       169.79398329, 249.13213529, 193.30963353, 344.3229224 ,\n",
       "       152.60407682, 184.41729927, 292.01427499, 240.57140435,\n",
       "       170.00578756, 261.89353542, 111.41565875, 313.87280401,\n",
       "       343.62286446, 335.7074666 , 307.18607061, 383.7212297 ,\n",
       "       198.49302356, 150.49885433, 186.4540574 , 305.77476097,\n",
       "       186.88447375, 349.94271504, 187.94410823, 165.38897796,\n",
       "       246.01586954, 324.18293619, 306.33354639, 275.48918697,\n",
       "       221.89217444, 178.90211867, 239.29596875, 253.10082559,\n",
       "       322.45141208, 219.30882327, 257.90307015, 269.33516946,\n",
       "       284.71899656, 340.83650624, 214.23074244, 229.59158394,\n",
       "       278.23718533, 229.70757339, 122.289494  , 293.20178981,\n",
       "       246.42738472, 221.09158887, 224.11106784, 189.26889873,\n",
       "       146.99027043, 214.49040093, 283.95129211, 173.51980245,\n",
       "       340.25901477, 182.44580257, 259.79534426, 251.16418062,\n",
       "       285.2647052 , 238.21144684, 206.57449316, 179.64683752,\n",
       "       227.38648326, 241.54752935, 192.06786378, 182.48896279,\n",
       "       353.39838269, 222.22277912, 230.56399479, 239.88883447,\n",
       "       344.3229224 , 206.45850371, 194.47622527, 297.41415184,\n",
       "       216.69199349, 352.81021097, 226.04300001, 307.09526458,\n",
       "       249.82419954, 326.71432991, 206.69048261, 174.59292816,\n",
       "       266.71265491, 240.98213481, 179.93827883, 199.70231334,\n",
       "       224.88945254, 229.35679407,  79.92351753, 290.77250524,\n",
       "       193.6414241 , 254.96772904, 353.39838269, 364.56723376,\n",
       "       176.39654449, 305.81622184, 292.11338951, 249.13213529,\n",
       "       364.56723376, 215.84746297, 339.38861342, 188.39139952,\n",
       "       263.97294029, 326.62181479, 261.52926488, 197.31739963,\n",
       "       243.94384522, 248.75677004, 212.58553878, 304.94281849,\n",
       "       112.078054  , 339.28969759, 293.60042335, 191.71308762,\n",
       "       277.6409359 , 209.17353338, 213.23843965, 228.7975942 ,\n",
       "       263.97294029, 268.29970645, 262.81489201, 260.653366  ,\n",
       "       285.00974071, 191.40546853, 353.4967777 , 248.75677004,\n",
       "       348.22548568, 229.80738506, 258.96340179, 182.59545787,\n",
       "       303.08849712, 256.19172067, 301.28724481, 386.751175  ,\n",
       "       275.81979165, 364.81500137, 289.63031994, 143.89318067,\n",
       "       220.50074939, 265.79599232, 267.33588679, 188.2758988 ,\n",
       "       220.49533944, 390.3275261 , 177.05893974, 197.5325036 ,\n",
       "       255.3751598 ])"
      ]
     },
     "execution_count": 20,
     "metadata": {},
     "output_type": "execute_result"
    }
   ],
   "source": [
    "y_pred = linreg.predict(X_test)\n",
    "y_pred"
   ]
  },
  {
   "cell_type": "markdown",
   "id": "818ade8e",
   "metadata": {},
   "source": [
    "# Cálculo de indicadores de error(de la bondad de ajuste):"
   ]
  },
  {
   "cell_type": "code",
   "execution_count": 21,
   "id": "cc23035c",
   "metadata": {},
   "outputs": [],
   "source": [
    "from sklearn.metrics import r2_score\n",
    "from sklearn import metrics"
   ]
  },
  {
   "cell_type": "markdown",
   "id": "b3d2ebe2",
   "metadata": {},
   "source": [
    "# Impresión de indicadores de bondad de ajuste:"
   ]
  },
  {
   "cell_type": "code",
   "execution_count": 22,
   "id": "71cb429c",
   "metadata": {},
   "outputs": [
    {
     "name": "stdout",
     "output_type": "stream",
     "text": [
      "Valor de R cuadrada:  0.9859198995539085\n",
      "Error absoluto medio:  5.725511226830304\n",
      "Error cuadrático medio:  62.05323405498587\n",
      "Raíz del Error cuadrático medio:  7.877387514587935\n"
     ]
    }
   ],
   "source": [
    "print(\"Valor de R cuadrada: \", r2_score(y_test,y_pred))\n",
    "print(\"Error absoluto medio: \", metrics.mean_absolute_error(y_test,y_pred))\n",
    "print(\"Error cuadrático medio: \", metrics.mean_squared_error(y_test,y_pred))\n",
    "print(\"Raíz del Error cuadrático medio: \", np.sqrt(metrics.mean_squared_error(y_test,y_pred)))"
   ]
  },
  {
   "cell_type": "markdown",
   "id": "888b64fa",
   "metadata": {},
   "source": [
    "# Regresión Ridge"
   ]
  },
  {
   "cell_type": "code",
   "execution_count": 29,
   "id": "7711a22a",
   "metadata": {},
   "outputs": [
    {
     "name": "stdout",
     "output_type": "stream",
     "text": [
      "Valor de R cuadrada:  0.9775327964689399\n",
      "Error absoluto medio:  6.418322097986066\n",
      "Error cuadrático medio:  85.97881014782098\n",
      "Raíz del Error cuadrático medio:  9.272475944849951\n"
     ]
    }
   ],
   "source": [
    "# Alpha = 0 (Equivalente a una regresión lineal)\n",
    "\n",
    "from sklearn.linear_model import Ridge\n",
    "\n",
    "scaler = StandardScaler()\n",
    "X_train_scaled = scaler.fit_transform(X_train)\n",
    "X_test_scaled = scaler.transform(X_test)\n",
    "\n",
    "ridgereg = Ridge(alpha=0)   #<-----ridgereg = Ridge(alpha=0, normalize=True)\n",
    "ridgereg.fit(X_train, y_train)\n",
    "y_pred = ridgereg.predict(X_test)\n",
    "\n",
    "# Impresión de indicadores de bondad de ajuste:\n",
    "print(\"Valor de R cuadrada: \", r2_score(y_test,y_pred))\n",
    "print(\"Error absoluto medio: \", metrics.mean_absolute_error(y_test,y_pred))\n",
    "print(\"Error cuadrático medio: \", metrics.mean_squared_error(y_test,y_pred))\n",
    "print(\"Raíz del Error cuadrático medio: \", np.sqrt(metrics.mean_squared_error(y_test,y_pred)))"
   ]
  },
  {
   "cell_type": "code",
   "execution_count": 30,
   "id": "c53ec384",
   "metadata": {},
   "outputs": [
    {
     "name": "stdout",
     "output_type": "stream",
     "text": [
      "Valor de R cuadrada:  0.9775405388157287\n",
      "Error absoluto medio:  6.4151358962504546\n",
      "Error cuadrático medio:  85.94918128173926\n",
      "Raíz del Error cuadrático medio:  9.27087812894438\n"
     ]
    }
   ],
   "source": [
    "# Alpha = 0.1 \n",
    "\n",
    "from sklearn.linear_model import Ridge\n",
    "\n",
    "scaler = StandardScaler()\n",
    "X_train_scaled = scaler.fit_transform(X_train)\n",
    "X_test_scaled = scaler.transform(X_test)\n",
    "\n",
    "ridgereg = Ridge(alpha=0.1)   #<-----ridgereg = Ridge(alpha=0, normalize=True)\n",
    "ridgereg.fit(X_train, y_train)\n",
    "y_pred = ridgereg.predict(X_test)\n",
    "\n",
    "# Impresión de indicadores de bondad de ajuste:\n",
    "print(\"Valor de R cuadrada: \", r2_score(y_test,y_pred))\n",
    "print(\"Error absoluto medio: \", metrics.mean_absolute_error(y_test,y_pred))\n",
    "print(\"Error cuadrático medio: \", metrics.mean_squared_error(y_test,y_pred))\n",
    "print(\"Raíz del Error cuadrático medio: \", np.sqrt(metrics.mean_squared_error(y_test,y_pred)))"
   ]
  },
  {
   "cell_type": "markdown",
   "id": "6a481c96",
   "metadata": {},
   "source": [
    "# Examinación de los coeficientes de la regresión Ridge:¶"
   ]
  },
  {
   "cell_type": "code",
   "execution_count": 31,
   "id": "7f4f2133",
   "metadata": {},
   "outputs": [
    {
     "name": "stdout",
     "output_type": "stream",
     "text": [
      "Intercepto:  123.99617710865991\n",
      "Coeficientes:  [-0.017015    6.42593926 -0.50568931  1.19661489 13.05363848 -1.88187263]\n"
     ]
    }
   ],
   "source": [
    "print(\"Intercepto: \", ridgereg.intercept_)\n",
    "print(\"Coeficientes: \", ridgereg.coef_)"
   ]
  },
  {
   "cell_type": "markdown",
   "id": "8feec9ef",
   "metadata": {},
   "source": [
    "# Definición de un rango de prueba para Alpha"
   ]
  },
  {
   "cell_type": "code",
   "execution_count": 32,
   "id": "e1415fe8",
   "metadata": {},
   "outputs": [
    {
     "data": {
      "text/plain": [
       "array([1.e-02, 1.e-01, 1.e+00, 1.e+01, 1.e+02])"
      ]
     },
     "execution_count": 32,
     "metadata": {},
     "output_type": "execute_result"
    }
   ],
   "source": [
    "alpha_range = 10.**np.arange(-2,3)\n",
    "alpha_range"
   ]
  },
  {
   "cell_type": "code",
   "execution_count": 33,
   "id": "1166a7dc",
   "metadata": {},
   "outputs": [
    {
     "data": {
      "text/plain": [
       "100.0"
      ]
     },
     "execution_count": 33,
     "metadata": {},
     "output_type": "execute_result"
    }
   ],
   "source": [
    "from sklearn.linear_model import RidgeCV         \n",
    "\n",
    "ridgeregcv = RidgeCV(alphas=alpha_range, scoring='neg_mean_squared_error')\n",
    "ridgeregcv.fit(X_train, y_train)\n",
    "ridgeregcv.alpha_"
   ]
  },
  {
   "cell_type": "markdown",
   "id": "7b571408",
   "metadata": {},
   "source": [
    "# Predicción mediante el mejor valor de Alpha:"
   ]
  },
  {
   "cell_type": "code",
   "execution_count": 34,
   "id": "b0442c2b",
   "metadata": {},
   "outputs": [
    {
     "name": "stdout",
     "output_type": "stream",
     "text": [
      "Valor de R cuadrada:  0.9779646398338566\n",
      "Error absoluto medio:  6.348640227908465\n",
      "Error cuadrático medio:  84.32620667029262\n",
      "Raíz del Error cuadrático medio:  9.182930178885856\n"
     ]
    }
   ],
   "source": [
    "y_pred = ridgeregcv.predict(X_test)\n",
    "\n",
    "# Impresión de indicadores de bondad de ajuste:\n",
    "print(\"Valor de R cuadrada: \", r2_score(y_test,y_pred))\n",
    "print(\"Error absoluto medio: \", metrics.mean_absolute_error(y_test,y_pred))\n",
    "print(\"Error cuadrático medio: \", metrics.mean_squared_error(y_test,y_pred))\n",
    "print(\"Raíz del Error cuadrático medio: \", np.sqrt(metrics.mean_squared_error(y_test,y_pred)))"
   ]
  },
  {
   "cell_type": "code",
   "execution_count": 35,
   "id": "003dfd16",
   "metadata": {},
   "outputs": [
    {
     "name": "stdout",
     "output_type": "stream",
     "text": [
      "Intercepto:  129.9870201361167\n",
      "Coeficientes:  [ 1.15258677  5.30842335  4.44225152  4.49815493  4.55653156 -1.95117901]\n"
     ]
    }
   ],
   "source": [
    "#Examinación de los coeficientes de la regresión Ridge:\n",
    "print(\"Intercepto: \", ridgeregcv.intercept_)\n",
    "print(\"Coeficientes: \", ridgeregcv.coef_)"
   ]
  },
  {
   "cell_type": "markdown",
   "id": "a7c172b5",
   "metadata": {},
   "source": [
    "# Regresión Lasso"
   ]
  },
  {
   "cell_type": "code",
   "execution_count": 36,
   "id": "a6d25f1a",
   "metadata": {},
   "outputs": [
    {
     "name": "stdout",
     "output_type": "stream",
     "text": [
      "Intercepto:  123.13486003787813\n",
      "Coeficientes:  [-0.05568687  6.39362175  7.1821322   7.48383257 -0.85056791 -1.86749083]\n"
     ]
    }
   ],
   "source": [
    "# Prueba con Alpha = 0.001\n",
    "\n",
    "from sklearn.linear_model import Lasso\n",
    "\n",
    "from sklearn.preprocessing import StandardScaler\n",
    "from sklearn.linear_model import Lasso\n",
    "\n",
    "# Normalizar los datos\n",
    "scaler = StandardScaler()\n",
    "X_train_scaled = scaler.fit_transform(X_train)\n",
    "X_test_scaled = scaler.transform(X_test)\n",
    "\n",
    "lassoreg = Lasso(alpha=0.001)\n",
    "lassoreg.fit(X_train, y_train)\n",
    "\n",
    "#Examinación de los coeficientes de la regresión Lasso:\n",
    "print(\"Intercepto: \", lassoreg.intercept_)\n",
    "print(\"Coeficientes: \", lassoreg.coef_)"
   ]
  },
  {
   "cell_type": "code",
   "execution_count": 37,
   "id": "ac70efbb",
   "metadata": {},
   "outputs": [
    {
     "name": "stdout",
     "output_type": "stream",
     "text": [
      "Intercepto:  123.34866942884366\n",
      "Coeficientes:  [-0.          6.36561443  6.29526617  6.74930805  0.75481726 -1.87010303]\n"
     ]
    }
   ],
   "source": [
    "# Prueba con Alpha = 0.01\n",
    "\n",
    "from sklearn.linear_model import Lasso\n",
    "\n",
    "from sklearn.preprocessing import StandardScaler\n",
    "from sklearn.linear_model import Lasso\n",
    "\n",
    "# Normalizar los datos\n",
    "scaler = StandardScaler()\n",
    "X_train_scaled = scaler.fit_transform(X_train)\n",
    "X_test_scaled = scaler.transform(X_test)\n",
    "\n",
    "lassoreg = Lasso(alpha=0.01)\n",
    "lassoreg.fit(X_train, y_train)\n",
    "\n",
    "#Examinación de los coeficientes de la regresión Lasso:\n",
    "print(\"Intercepto: \", lassoreg.intercept_)\n",
    "print(\"Coeficientes: \", lassoreg.coef_)"
   ]
  },
  {
   "cell_type": "markdown",
   "id": "cd280e02",
   "metadata": {},
   "source": [
    "# Determinación del grado de bondad de ajuste con Alpha = 0.01"
   ]
  },
  {
   "cell_type": "code",
   "execution_count": 38,
   "id": "d8416ad5",
   "metadata": {},
   "outputs": [
    {
     "name": "stdout",
     "output_type": "stream",
     "text": [
      "Valor de R cuadrada:  0.977565671226078\n",
      "Error absoluto medio:  6.402295982607703\n",
      "Error cuadrático medio:  85.85300310206556\n",
      "Raíz del Error cuadrático medio:  9.26568956430473\n"
     ]
    }
   ],
   "source": [
    "y_pred = lassoreg.predict(X_test)\n",
    "\n",
    "# Impresión de indicadores de bondad de ajuste:\n",
    "print(\"Valor de R cuadrada: \", r2_score(y_test,y_pred))\n",
    "print(\"Error absoluto medio: \", metrics.mean_absolute_error(y_test,y_pred))\n",
    "print(\"Error cuadrático medio: \", metrics.mean_squared_error(y_test,y_pred))\n",
    "print(\"Raíz del Error cuadrático medio: \", np.sqrt(metrics.mean_squared_error(y_test,y_pred)))"
   ]
  },
  {
   "cell_type": "markdown",
   "id": "ede1a10e",
   "metadata": {},
   "source": [
    "# Selección del valor óptimo de Alpha para la regresión Lasso:"
   ]
  },
  {
   "cell_type": "code",
   "execution_count": 39,
   "id": "bc0a4e46",
   "metadata": {},
   "outputs": [
    {
     "name": "stdout",
     "output_type": "stream",
     "text": [
      "Alpha óptimo:  0.45442206714715017\n"
     ]
    }
   ],
   "source": [
    "from sklearn.linear_model import LassoCV\n",
    "lassoregcv = LassoCV(n_alphas=100, random_state=1)\n",
    "lassoregcv.fit(X_train, y_train)\n",
    "print(\"Alpha óptimo: \", lassoregcv.alpha_)"
   ]
  },
  {
   "cell_type": "code",
   "execution_count": 40,
   "id": "cf71c082",
   "metadata": {},
   "outputs": [
    {
     "name": "stdout",
     "output_type": "stream",
     "text": [
      "Intercepto:  126.10535289477255\n",
      "Coeficientes:  [ 0.          6.14099602  5.4462973   5.62023828  2.61988286 -1.90585504]\n"
     ]
    }
   ],
   "source": [
    "print(\"Intercepto: \", lassoregcv.intercept_)\n",
    "print(\"Coeficientes: \", lassoregcv.coef_)"
   ]
  },
  {
   "cell_type": "markdown",
   "id": "359243c6",
   "metadata": {},
   "source": [
    "# Predicción mediante regresión de Lasso con un Alpha óptimo:"
   ]
  },
  {
   "cell_type": "code",
   "execution_count": 41,
   "id": "a441bf10",
   "metadata": {},
   "outputs": [
    {
     "name": "stdout",
     "output_type": "stream",
     "text": [
      "Valor de R cuadrada:  0.9775539332111336\n",
      "Error absoluto medio:  6.405732289229932\n",
      "Error cuadrático medio:  85.89792282503058\n",
      "Raíz del Error cuadrático medio:  9.26811322897118\n"
     ]
    }
   ],
   "source": [
    "y_pred = lassoregcv.predict(X_test)\n",
    "\n",
    "# Impresión de indicadores de bondad de ajuste:\n",
    "print(\"Valor de R cuadrada: \", r2_score(y_test,y_pred))\n",
    "print(\"Error absoluto medio: \", metrics.mean_absolute_error(y_test,y_pred))\n",
    "print(\"Error cuadrático medio: \", metrics.mean_squared_error(y_test,y_pred))\n",
    "print(\"Raíz del Error cuadrático medio: \", np.sqrt(metrics.mean_squared_error(y_test,y_pred)))"
   ]
  }
 ],
 "metadata": {
  "kernelspec": {
   "display_name": "Python 3 (ipykernel)",
   "language": "python",
   "name": "python3"
  },
  "language_info": {
   "codemirror_mode": {
    "name": "ipython",
    "version": 3
   },
   "file_extension": ".py",
   "mimetype": "text/x-python",
   "name": "python",
   "nbconvert_exporter": "python",
   "pygments_lexer": "ipython3",
   "version": "3.11.3"
  }
 },
 "nbformat": 4,
 "nbformat_minor": 5
}
