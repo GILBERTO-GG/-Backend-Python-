{
 "cells": [
  {
   "cell_type": "markdown",
   "id": "8621b1f5",
   "metadata": {},
   "source": [
    "# RECURSIVIDAD"
   ]
  },
  {
   "cell_type": "code",
   "execution_count": null,
   "id": "73da9f33",
   "metadata": {},
   "outputs": [],
   "source": [
    "--La recursividad consiste en funciones que se llaman a sí mismas, evitando el uso de bucles y otros iteradores.\n",
    "--Las llamadas recursivas suelen ser muy útiles en casos muy puntuales, pero debido a su gran factibilidad de caer en\n",
    "  iteraciones infinitas, deben extremarse las medidas preventivas adecuadas."
   ]
  },
  {
   "cell_type": "code",
   "execution_count": 1,
   "id": "d6ba2dc0",
   "metadata": {},
   "outputs": [
    {
     "name": "stdout",
     "output_type": "stream",
     "text": [
      "1\n",
      "2\n",
      "3\n"
     ]
    }
   ],
   "source": [
    "def imprimir(x):\n",
    "    if x > 0:\n",
    "        imprimir(x-1)\n",
    "        print(x)\n",
    "        \n",
    "imprimir(3)        "
   ]
  },
  {
   "cell_type": "code",
   "execution_count": 2,
   "id": "02c650b0",
   "metadata": {},
   "outputs": [
    {
     "name": "stdout",
     "output_type": "stream",
     "text": [
      "25\n"
     ]
    }
   ],
   "source": [
    "# Suma de una lista sin recursividad\n",
    "\n",
    "def suma(lista):\n",
    "    suma = 0\n",
    "    for i in range(0,len(lista)):\n",
    "        suma = suma + lista[i]\n",
    "    return suma\n",
    "\n",
    "print(suma([6,3,4,2,10]))"
   ]
  },
  {
   "cell_type": "code",
   "execution_count": 3,
   "id": "23a931e5",
   "metadata": {},
   "outputs": [
    {
     "name": "stdout",
     "output_type": "stream",
     "text": [
      "25\n"
     ]
    }
   ],
   "source": [
    "# versión recursiva\n",
    "\n",
    "def suma(lista):\n",
    "    if len(lista) == 1:\n",
    "        return lista[0]\n",
    "    else:\n",
    "        return lista[0] + suma(lista[1:])\n",
    "    \n",
    "print(suma([6,3,4,2,10]))    "
   ]
  },
  {
   "cell_type": "code",
   "execution_count": 4,
   "id": "0efe7a9a",
   "metadata": {},
   "outputs": [
    {
     "name": "stdout",
     "output_type": "stream",
     "text": [
      "3628800\n"
     ]
    }
   ],
   "source": [
    "#   factorial  \n",
    "\n",
    "def factorial(n):\n",
    "    if n == 1:\n",
    "        return 1\n",
    "    else:\n",
    "        return n * factorial(n-1)\n",
    "    \n",
    "print(factorial(10))"
   ]
  }
 ],
 "metadata": {
  "kernelspec": {
   "display_name": "Python 3 (ipykernel)",
   "language": "python",
   "name": "python3"
  },
  "language_info": {
   "codemirror_mode": {
    "name": "ipython",
    "version": 3
   },
   "file_extension": ".py",
   "mimetype": "text/x-python",
   "name": "python",
   "nbconvert_exporter": "python",
   "pygments_lexer": "ipython3",
   "version": "3.11.3"
  }
 },
 "nbformat": 4,
 "nbformat_minor": 5
}
