{
 "cells": [
  {
   "cell_type": "code",
   "execution_count": 1,
   "id": "496a6312",
   "metadata": {},
   "outputs": [
    {
     "name": "stdout",
     "output_type": "stream",
     "text": [
      "Ingresa la palabra que te gustaría buscar (por ejemplo, 'rock'):\n",
      "opera\n",
      "Lista de Reproducción:\n",
      "\n",
      "Artista: D Savage, Canción: Opera\n",
      "Artista: Gabry Ponte, Canción: Opera\n",
      "Artista: Emmanuel Santarromana, Canción: Opéra\n",
      "Artista: Aklipe44, Canción: Ópera\n",
      "Artista: Opera, Canción: Différent (feat. J9ueve)\n",
      "Artista: R.Kelly, Canción: The Opera\n",
      "Artista: Ballarak, Canción: Opera\n",
      "Artista: Cigarettes After Sex, Canción: Opera House\n",
      "Artista: Bertrand Belin, Canción: L'Opéra\n",
      "Artista: Daniel Lanois, Canción: Opera\n",
      "Artista: Cream, Canción: Opera House - Sped Up\n",
      "Artista: Don Bosco, Canción: OPORA\n",
      "Artista: D Savage, Canción: Opera\n",
      "Artista: The Durutti Column, Canción: Opera 1\n",
      "Artista: Vitas, Canción: Opera2\n",
      "Artista: Cake, Canción: Opera Singer\n",
      "Artista: Opera, Canción: Piano of Pigs\n",
      "Artista: Gaby Amarantos, Canción: Opará\n",
      "Artista: Cigarettes After Sex, Canción: Opera House\n",
      "Artista: Royville, Canción: Opra\n",
      "Artista: Arnaldo Antunes, Canción: O Peru\n",
      "Artista: Opera, Canción: The Prophet\n",
      "Artista: Opera, Canción: Love Me Down\n",
      "Artista: Opera, Canción: Turn (Original Mix)\n",
      "Artista: Opera, Canción: Love & Peace\n"
     ]
    }
   ],
   "source": [
    "import requests\n",
    "\n",
    "\n",
    "print(\"Ingresa la palabra que te gustaría buscar (por ejemplo, 'rock'):\")\n",
    "word_to_search = input()\n",
    "\n",
    "\n",
    "url = \"https://deezerdevs-deezer.p.rapidapi.com/search\"\n",
    "querystring = {\"q\": word_to_search}\n",
    "headers = {\n",
    "    \"X-RapidAPI-Key\": \"3ed98f551fmshe4e6260228c4eadp13db17jsn8c893e1194da\",\n",
    "    \"X-RapidAPI-Host\": \"deezerdevs-deezer.p.rapidapi.com\"\n",
    "}\n",
    "\n",
    "\n",
    "response = requests.get(url, headers=headers, params=querystring).json()\n",
    "\n",
    "\n",
    "my_list = [{\"artista\": element['artist']['name'], \"canción\": element['title']} for element in response['data']]\n",
    "\n",
    "\n",
    "print(\"Lista de Reproducción:\\n\")\n",
    "for item in my_list:\n",
    "    print(f\"Artista: {item['artista']}, Canción: {item['canción']}\")\n"
   ]
  },
  {
   "cell_type": "code",
   "execution_count": null,
   "id": "6bc407e3",
   "metadata": {},
   "outputs": [],
   "source": []
  }
 ],
 "metadata": {
  "kernelspec": {
   "display_name": "Python 3 (ipykernel)",
   "language": "python",
   "name": "python3"
  },
  "language_info": {
   "codemirror_mode": {
    "name": "ipython",
    "version": 3
   },
   "file_extension": ".py",
   "mimetype": "text/x-python",
   "name": "python",
   "nbconvert_exporter": "python",
   "pygments_lexer": "ipython3",
   "version": "3.11.3"
  }
 },
 "nbformat": 4,
 "nbformat_minor": 5
}
