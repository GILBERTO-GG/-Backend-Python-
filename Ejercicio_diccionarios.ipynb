{
 "cells": [
  {
   "cell_type": "code",
   "execution_count": 1,
   "id": "9eb0f92a",
   "metadata": {},
   "outputs": [
    {
     "name": "stdout",
     "output_type": "stream",
     "text": [
      "Ingresa el nombre de un Pokémon\n",
      "\n",
      "bulbasaur\n",
      "ID:  1\n",
      "Nombre:  bulbasaur\n",
      "Altura:  7 dm\n",
      "Peso:  69 hg\n",
      "Descripción:  Le encanta comer\n"
     ]
    }
   ],
   "source": [
    "import pokebase as pb\n",
    "import requests\n",
    "import json\n",
    "\n",
    "pokemon_to_search = input(\"Ingresa el nombre de un Pokémon\\n\\n\")\n",
    "data = pb.pokemon(pokemon_to_search).__dict__\n",
    "id_ = data.get('id_')\n",
    "name = data.get('name')\n",
    "height = data.get('height')  # Obtiene la altura del Pokémon\n",
    "weight = data.get('weight')  # Obtiene el peso del Pokémon\n",
    "\n",
    "print(\"ID: \", id_)\n",
    "print(\"Nombre: \", name)\n",
    "print(\"Altura: \", height, \"dm\")  # Imprime la altura en decímetros (dm)\n",
    "print(\"Peso: \", weight, \"hg\")    # Imprime el peso en hectogramos (hg)\n",
    "\n",
    "url = \"https://pokeapi.co/api/v2/characteristic/{id}/\".format(id=id_)\n",
    "response = requests.get(url)\n",
    "for description_dict in response.json().get(\"descriptions\"):\n",
    "    if description_dict.get(\"language\", {}).get(\"name\") == \"es\":\n",
    "        description = description_dict.get(\"description\")\n",
    "        print(\"Descripción: \", description)"
   ]
  },
  {
   "cell_type": "code",
   "execution_count": null,
   "id": "cab2c0e9",
   "metadata": {},
   "outputs": [],
   "source": []
  }
 ],
 "metadata": {
  "kernelspec": {
   "display_name": "Python 3 (ipykernel)",
   "language": "python",
   "name": "python3"
  },
  "language_info": {
   "codemirror_mode": {
    "name": "ipython",
    "version": 3
   },
   "file_extension": ".py",
   "mimetype": "text/x-python",
   "name": "python",
   "nbconvert_exporter": "python",
   "pygments_lexer": "ipython3",
   "version": "3.11.3"
  }
 },
 "nbformat": 4,
 "nbformat_minor": 5
}
