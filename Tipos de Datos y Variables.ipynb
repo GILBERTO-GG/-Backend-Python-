{
 "cells": [
  {
   "cell_type": "markdown",
   "id": "93b29bcd",
   "metadata": {},
   "source": [
    "# Panorama\n",
    "int - Integer / Enteros\n",
    "\n",
    "float - Float / Números co Decimales\n",
    "\n",
    "complex - Complex / Complejos (Números con una parte real y una imaginaria)\n",
    "\n",
    "bool - Boolean / Booleanoa (Valores Lógicos- True-False)\n",
    "\n",
    "str - Strings / Cadenas de Texto\n"
   ]
  },
  {
   "cell_type": "markdown",
   "id": "efa3a78a",
   "metadata": {},
   "source": [
    "# Int  Integers/Enteros"
   ]
  },
  {
   "cell_type": "code",
   "execution_count": 1,
   "id": "4f3e30f2",
   "metadata": {},
   "outputs": [
    {
     "name": "stdout",
     "output_type": "stream",
     "text": [
      "El valor de my_integer es:  11\n",
      "El tipo de dato de my_integer es:  <class 'int'>\n"
     ]
    }
   ],
   "source": [
    "my_integer = 11\n",
    "print(\"El valor de my_integer es: \", my_integer)\n",
    "print(\"El tipo de dato de my_integer es: \", type(my_integer))"
   ]
  },
  {
   "cell_type": "markdown",
   "id": "c8da09c7",
   "metadata": {},
   "source": [
    "# Float Flotantes / Números con Decimales"
   ]
  },
  {
   "cell_type": "code",
   "execution_count": 2,
   "id": "d5ea8ed6",
   "metadata": {},
   "outputs": [
    {
     "name": "stdout",
     "output_type": "stream",
     "text": [
      "El valor de my_float es:  11.1\n",
      "El tipo de dato de my_float es:  <class 'float'>\n"
     ]
    }
   ],
   "source": [
    "my_float = 11.1\n",
    "print(\"El valor de my_float es: \", my_float)\n",
    "print(\"El tipo de dato de my_float es: \", type(my_float))"
   ]
  },
  {
   "cell_type": "code",
   "execution_count": 3,
   "id": "df7e03d3",
   "metadata": {},
   "outputs": [
    {
     "name": "stdout",
     "output_type": "stream",
     "text": [
      "El valor de my_float es:  2000.0\n",
      "El tipo de dato de my_float es:  <class 'float'>\n"
     ]
    }
   ],
   "source": [
    "#  notación científica\n",
    "my_float = 2e3    #----> 2.0*10**3\n",
    "print(\"El valor de my_float es: \", my_float)\n",
    "print(\"El tipo de dato de my_float es: \", type(my_float))"
   ]
  },
  {
   "cell_type": "markdown",
   "id": "3b56172f",
   "metadata": {},
   "source": [
    "# Complex - Complex/Complejos (Números con una parte real y una imaginaria)\n",
    "\n",
    "complex = x + yj\n",
    "\n",
    "x = parte real\n",
    "\n",
    "yj = parte imaginaria"
   ]
  },
  {
   "cell_type": "code",
   "execution_count": 6,
   "id": "da43bfbb",
   "metadata": {},
   "outputs": [
    {
     "name": "stdout",
     "output_type": "stream",
     "text": [
      "El valor de my_complex es:  (3+9j)\n",
      "El tipo de dato de my_complex es:  <class 'complex'>\n"
     ]
    }
   ],
   "source": [
    "my_complex = 3 + 9j\n",
    "print(\"El valor de my_complex es: \", my_complex)\n",
    "print(\"El tipo de dato de my_complex es: \", type(my_complex))"
   ]
  },
  {
   "cell_type": "markdown",
   "id": "c404dda0",
   "metadata": {},
   "source": [
    "# bool - Boolean / Booleanoa (Valores Lógicos- True-False)"
   ]
  },
  {
   "cell_type": "code",
   "execution_count": 7,
   "id": "b18986e8",
   "metadata": {},
   "outputs": [
    {
     "name": "stdout",
     "output_type": "stream",
     "text": [
      "El valor de my_boolean es:  False\n",
      "El tipo de dato de my_boolean es:  <class 'bool'>\n"
     ]
    }
   ],
   "source": [
    "my_boolean = False\n",
    "print(\"El valor de my_boolean es: \", my_boolean)\n",
    "print(\"El tipo de dato de my_boolean es: \", type(my_boolean))"
   ]
  },
  {
   "cell_type": "markdown",
   "id": "a93af639",
   "metadata": {},
   "source": [
    "# True = 1\n",
    "# False = 0"
   ]
  },
  {
   "cell_type": "code",
   "execution_count": 8,
   "id": "0efb51b1",
   "metadata": {},
   "outputs": [
    {
     "name": "stdout",
     "output_type": "stream",
     "text": [
      "3\n"
     ]
    }
   ],
   "source": [
    "# 3\n",
    "print(True+True+True)"
   ]
  },
  {
   "cell_type": "markdown",
   "id": "58865b7e",
   "metadata": {},
   "source": [
    "# str - Strings / Cadenas de Texto"
   ]
  },
  {
   "cell_type": "code",
   "execution_count": 9,
   "id": "cb1bbf70",
   "metadata": {},
   "outputs": [
    {
     "name": "stdout",
     "output_type": "stream",
     "text": [
      "El valor de my_string es:  Backend Python\n",
      "El tipo de dato de my_string es:  <class 'str'>\n"
     ]
    }
   ],
   "source": [
    "my_string = \"Backend Python\"\n",
    "print(\"El valor de my_string es: \", my_string)\n",
    "print(\"El tipo de dato de my_string es: \", type(my_string))"
   ]
  },
  {
   "cell_type": "markdown",
   "id": "b242015d",
   "metadata": {},
   "source": [
    "# Variables\n",
    "\n",
    "#¿Qué es una Variable?\n",
    "\n",
    "-Son un espacio temporal en memoria para guardar un valor con un nombre específico.\n",
    "-No hay necesidad de declarar el tipo de dato explícitamente\n",
    "-Python es un lenguaje tipado dinámicamente, lo que quiere decir que el tipo de dato se define mientras corre el programa.\n",
    "-Las variables en Python funcionan diferente que en otros Lenguajes de Programación.\n",
    "-No necesitamos crear las variables, solo asignamos un nombre a un valor usando el operador de asignación (=).\n",
    "\n",
    "\n",
    "###Tipos de Variables:\n",
    "\n",
    "-Variables Globales:  Son aquellas que se utilizarán para todo el programa.\n",
    "\n",
    "-Variables Locales:  Son aquellas que se van a utilizar solo en un bloque en específico."
   ]
  },
  {
   "cell_type": "markdown",
   "id": "b8ffaddc",
   "metadata": {},
   "source": [
    "# Variables Globales\n",
    "-Declaramos Variables Globales afuera de funciones.\n",
    "\n",
    "-El valor de la variable puede ser constante para todo el programa.\n",
    "\n",
    "-Cualquier función podrá acceder a estas variables.\n",
    "\n",
    "-Podemos decir que las variables globales tienen un alcance que es global.\n",
    "\n",
    "-Normalmente son mas usadas para constantes.\n",
    "\n",
    "-Las variables globales mantienen sus valores a través de la ejecución completa de tu programa.\n",
    "\n",
    "-Una variable global puede ser accesada por cualquier función.\n"
   ]
  },
  {
   "cell_type": "code",
   "execution_count": null,
   "id": "aaca4364",
   "metadata": {},
   "outputs": [],
   "source": [
    "# Variable Global\n",
    "my_global_variable = 50\n",
    "\n",
    "def my_function_1():\n",
    "    pass\n",
    "\n",
    "def my_function_2():\n",
    "    pass"
   ]
  },
  {
   "cell_type": "code",
   "execution_count": null,
   "id": "047bf671",
   "metadata": {},
   "outputs": [],
   "source": [
    "def my_function_1():\n",
    "    my_local_variable = 5\n",
    "\n",
    "def my_function_2():\n",
    "    my_local_variable = 35"
   ]
  },
  {
   "cell_type": "code",
   "execution_count": null,
   "id": "6873b9d3",
   "metadata": {},
   "outputs": [],
   "source": [
    "# Variable Global\n",
    "my_global_variable = 50\n",
    "\n",
    "def funcion1():\n",
    "    print(\"funcion1 - El valor de my_global_variable es: \", my_global_variable)\n",
    "\n",
    "def my_function_2():\n",
    "    print(\"my_function_2 - El valor de my_global_variable es: \", my_global_variable)"
   ]
  },
  {
   "cell_type": "code",
   "execution_count": 2,
   "id": "74602c0a",
   "metadata": {},
   "outputs": [
    {
     "ename": "NameError",
     "evalue": "name 'funcion1' is not defined",
     "output_type": "error",
     "traceback": [
      "\u001b[1;31m---------------------------------------------------------------------------\u001b[0m",
      "\u001b[1;31mNameError\u001b[0m                                 Traceback (most recent call last)",
      "Cell \u001b[1;32mIn[2], line 1\u001b[0m\n\u001b[1;32m----> 1\u001b[0m \u001b[43mfuncion1\u001b[49m()\n",
      "\u001b[1;31mNameError\u001b[0m: name 'funcion1' is not defined"
     ]
    }
   ],
   "source": [
    "funcion1()"
   ]
  },
  {
   "cell_type": "code",
   "execution_count": null,
   "id": "e882e718",
   "metadata": {},
   "outputs": [],
   "source": [
    "# Preferencia al valor Local, y después al global\n",
    "my_variable = 50   #Global\n",
    "\n",
    "def my_function_1():\n",
    "    my_variable = 10  #Local\n",
    "    print(\"my_function_1 - El valor de my_variable es: \", my_variable)\n",
    "\n",
    "def my_function_2():\n",
    "    my_variable = 20  #Local\n",
    "    print(\"my_function_2 - El valor de my_variable es: \", my_variable)\n",
    "    \n",
    "def my_function_3():\n",
    "    print(\"my_function_2 - El valor de my_variable es: \", my_variable)"
   ]
  },
  {
   "cell_type": "code",
   "execution_count": 31,
   "id": "65779945",
   "metadata": {},
   "outputs": [
    {
     "ename": "NameError",
     "evalue": "name 'my_function_1' is not defined",
     "output_type": "error",
     "traceback": [
      "\u001b[1;31m---------------------------------------------------------------------------\u001b[0m",
      "\u001b[1;31mNameError\u001b[0m                                 Traceback (most recent call last)",
      "Cell \u001b[1;32mIn[31], line 1\u001b[0m\n\u001b[1;32m----> 1\u001b[0m \u001b[43mmy_function_1\u001b[49m()\n",
      "\u001b[1;31mNameError\u001b[0m: name 'my_function_1' is not defined"
     ]
    }
   ],
   "source": [
    "my_function_1()"
   ]
  },
  {
   "cell_type": "code",
   "execution_count": 2,
   "id": "bb7e8a4d",
   "metadata": {},
   "outputs": [
    {
     "ename": "NameError",
     "evalue": "name 'my_function_2' is not defined",
     "output_type": "error",
     "traceback": [
      "\u001b[1;31m---------------------------------------------------------------------------\u001b[0m",
      "\u001b[1;31mNameError\u001b[0m                                 Traceback (most recent call last)",
      "Cell \u001b[1;32mIn[2], line 1\u001b[0m\n\u001b[1;32m----> 1\u001b[0m \u001b[43mmy_function_2\u001b[49m()\n",
      "\u001b[1;31mNameError\u001b[0m: name 'my_function_2' is not defined"
     ]
    }
   ],
   "source": [
    "my_function_2()"
   ]
  },
  {
   "cell_type": "code",
   "execution_count": 1,
   "id": "aef39ca7",
   "metadata": {},
   "outputs": [
    {
     "ename": "NameError",
     "evalue": "name 'my_function_3' is not defined",
     "output_type": "error",
     "traceback": [
      "\u001b[1;31m---------------------------------------------------------------------------\u001b[0m",
      "\u001b[1;31mNameError\u001b[0m                                 Traceback (most recent call last)",
      "Cell \u001b[1;32mIn[1], line 1\u001b[0m\n\u001b[1;32m----> 1\u001b[0m \u001b[43mmy_function_3\u001b[49m()\n",
      "\u001b[1;31mNameError\u001b[0m: name 'my_function_3' is not defined"
     ]
    }
   ],
   "source": [
    "my_function_3()"
   ]
  },
  {
   "cell_type": "markdown",
   "id": "2fc87cf8",
   "metadata": {},
   "source": [
    "# Variables Locales\n",
    "-Podemos usarlas dentro de una función.\n",
    "\n",
    "-Podemos tener una restricción al acceder a una variable local desde otra función.\n",
    "\n",
    "-No podemos usarlas durante todo el programa.\n",
    "\n",
    "-El alcance y/o visibilidad se limita al interior de la función.\n",
    "\n",
    "-Lo que dure la función será lo que dure el alcance de nuestra variable.\n"
   ]
  },
  {
   "cell_type": "markdown",
   "id": "3c8e9c14",
   "metadata": {},
   "source": [
    "# Palabra reservada \"global\"\n"
   ]
  },
  {
   "cell_type": "code",
   "execution_count": null,
   "id": "f626bf70",
   "metadata": {},
   "outputs": [],
   "source": []
  }
 ],
 "metadata": {
  "kernelspec": {
   "display_name": "Python 3 (ipykernel)",
   "language": "python",
   "name": "python3"
  },
  "language_info": {
   "codemirror_mode": {
    "name": "ipython",
    "version": 3
   },
   "file_extension": ".py",
   "mimetype": "text/x-python",
   "name": "python",
   "nbconvert_exporter": "python",
   "pygments_lexer": "ipython3",
   "version": "3.11.3"
  }
 },
 "nbformat": 4,
 "nbformat_minor": 5
}
