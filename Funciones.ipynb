{
 "cells": [
  {
   "cell_type": "code",
   "execution_count": 1,
   "id": "6857f496",
   "metadata": {},
   "outputs": [
    {
     "name": "stdout",
     "output_type": "stream",
     "text": [
      "Productos disponibles: ['producto1', 'producto2', 'producto3']\n",
      "2 producto1(s) añadido(s) al carrito.\n",
      "1 producto2(s) añadido(s) al carrito.\n",
      "producto4 no está disponible.\n",
      "Total en el carrito: 27.97\n",
      "Mis órdenes: []\n",
      "Información de mi cuenta: {'nombre': 'Usuario de ejemplo', 'email': 'usuario@example.com', 'direccion': '123 Calle Ejemplo, Ciudad'}\n"
     ]
    }
   ],
   "source": [
    "def ecommerce_app():\n",
    "    # Base de datos ficticia de productos disponibles\n",
    "    products = {\n",
    "        'producto1': 10.99,\n",
    "        'producto2': 5.99,\n",
    "        'producto3': 7.49,\n",
    "    }\n",
    "    \n",
    "    # Carrito de compras del usuario\n",
    "    cart = {}\n",
    "\n",
    "    def calcular_total(cart):\n",
    "        total = 0\n",
    "        for product, quantity in cart.items():\n",
    "            if product in products:\n",
    "                total += products[product] * quantity\n",
    "        return total\n",
    "\n",
    "    def list_items_available():\n",
    "        return list(products.keys())\n",
    "\n",
    "    def add_to_cart(product, quantity):\n",
    "        if product in products:\n",
    "            if product in cart:\n",
    "                cart[product] += quantity\n",
    "            else:\n",
    "                cart[product] = quantity\n",
    "            return f\"{quantity} {product}(s) añadido(s) al carrito.\"\n",
    "        else:\n",
    "            return f\"{product} no está disponible.\"\n",
    "\n",
    "    def list_my_orders():\n",
    "        # Simulamos una lista vacía de pedidos para este ejemplo\n",
    "        return []\n",
    "\n",
    "    def get_my_account_info():\n",
    "        # Simulamos información de la cuenta del usuario\n",
    "        user_info = {\n",
    "            'nombre': 'Usuario de ejemplo',\n",
    "            'email': 'usuario@example.com',\n",
    "            'direccion': '123 Calle Ejemplo, Ciudad',\n",
    "        }\n",
    "        return user_info\n",
    "\n",
    "    # Ejemplos de uso\n",
    "    print(\"Productos disponibles:\", list_items_available())\n",
    "    print(add_to_cart('producto1', 2))\n",
    "    print(add_to_cart('producto2', 1))\n",
    "    print(add_to_cart('producto4', 3))  # Producto no disponible\n",
    "    print(\"Total en el carrito:\", calcular_total(cart))\n",
    "    print(\"Mis órdenes:\", list_my_orders())\n",
    "    print(\"Información de mi cuenta:\", get_my_account_info())\n",
    "\n",
    "# Ejecutar la función principal\n",
    "ecommerce_app()"
   ]
  },
  {
   "cell_type": "code",
   "execution_count": null,
   "id": "472e5e18",
   "metadata": {},
   "outputs": [],
   "source": []
  }
 ],
 "metadata": {
  "kernelspec": {
   "display_name": "Python 3 (ipykernel)",
   "language": "python",
   "name": "python3"
  },
  "language_info": {
   "codemirror_mode": {
    "name": "ipython",
    "version": 3
   },
   "file_extension": ".py",
   "mimetype": "text/x-python",
   "name": "python",
   "nbconvert_exporter": "python",
   "pygments_lexer": "ipython3",
   "version": "3.11.3"
  }
 },
 "nbformat": 4,
 "nbformat_minor": 5
}
