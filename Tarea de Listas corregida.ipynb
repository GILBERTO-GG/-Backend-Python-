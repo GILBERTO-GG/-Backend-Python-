{
 "cells": [
  {
   "cell_type": "code",
   "execution_count": 1,
   "id": "aff70b73",
   "metadata": {},
   "outputs": [
    {
     "name": "stdout",
     "output_type": "stream",
     "text": [
      "Carrito de compras\n",
      "\n",
      "\n",
      "Productos Disponibles:\n",
      "1.- Pan\n",
      "2.- Jamón\n",
      "3.- Crema\n",
      "4.- Mayonesa\n",
      "5.- Lechuga\n",
      "6.- Queso\n",
      "7.- Tomate\n",
      "8.- Manzana\n",
      "\n",
      "Ingresa una lista con los productos en este formato: [[Cantidad, Producto]]\n",
      "Por ejemplo: [[1, 1], [3, 2]] significa 1 Pan y 3 Jamón\n",
      "[[5,2],[3,3],[1,2]]\n",
      "\n",
      "\n",
      "Tu carrito es:\n",
      "[[5, 'Jamón'], [3, 'Crema'], [1, 'Jamón']]\n"
     ]
    }
   ],
   "source": [
    "print(\"Carrito de compras\\n\")\n",
    "print(\"\"\"\n",
    "Productos Disponibles:\n",
    "1.- Pan\n",
    "2.- Jamón\n",
    "3.- Crema\n",
    "4.- Mayonesa\n",
    "5.- Lechuga\n",
    "6.- Queso\n",
    "7.- Tomate\n",
    "8.- Manzana\n",
    "\"\"\")\n",
    "print(\"Ingresa una lista con los productos en este formato: [[Cantidad, Producto]]\")\n",
    "print(\"Por ejemplo: [[1, 1], [3, 2]] significa 1 Pan y 3 Jamón\")\n",
    "my_shopping_cart = eval(input())\n",
    "print(\"\\n\\nTu carrito es:\")\n",
    "\n",
    "if type(my_shopping_cart) == list:\n",
    "    if type(my_shopping_cart[0]) == list:\n",
    "        shopping_cart_list = []  # Lista de listas que almacenará el carrito\n",
    "\n",
    "        for element in my_shopping_cart:\n",
    "            product = \"\"\n",
    "            if element[1] == 1:\n",
    "                product = \"Pan\"\n",
    "            elif element[1] == 2:\n",
    "                product = \"Jamón\"\n",
    "            elif element[1] == 3:\n",
    "                product = \"Crema\"\n",
    "            elif element[1] == 4:\n",
    "                product = \"Mayonesa\"\n",
    "            elif element[1] == 5:\n",
    "                product = \"Lechuga\"\n",
    "            elif element[1] == 6:\n",
    "                product = \"Queso\"\n",
    "            elif element[1] == 7:\n",
    "                product = \"Tomate\"\n",
    "            elif element[1] == 8:\n",
    "                product = \"Manzana\"\n",
    "            else:\n",
    "                product = \"Producto desconocido\"\n",
    "\n",
    "            shopping_cart_list.append([element[0], product])  # Agregar el elemento como una lista a shopping_cart_list\n",
    "\n",
    "        print(shopping_cart_list)  # Imprimir la lista de listas completa\n",
    "    else:\n",
    "        print(\"Formato incorrecto, debes ingresar una lista de listas\")\n",
    "else:\n",
    "    print(\"Formato incorrecto, debes ingresar una lista de listas\")\n"
   ]
  }
 ],
 "metadata": {
  "kernelspec": {
   "display_name": "Python 3 (ipykernel)",
   "language": "python",
   "name": "python3"
  },
  "language_info": {
   "codemirror_mode": {
    "name": "ipython",
    "version": 3
   },
   "file_extension": ".py",
   "mimetype": "text/x-python",
   "name": "python",
   "nbconvert_exporter": "python",
   "pygments_lexer": "ipython3",
   "version": "3.11.3"
  }
 },
 "nbformat": 4,
 "nbformat_minor": 5
}
