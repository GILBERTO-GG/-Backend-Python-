{
 "cells": [
  {
   "cell_type": "code",
   "execution_count": 4,
   "id": "843cef81",
   "metadata": {},
   "outputs": [
    {
     "name": "stdout",
     "output_type": "stream",
     "text": [
      "Seleccione una operación (suma, resta, multiplicación, división o potencia): potencia\n",
      "Ingrese una lista con 5 números separados por comas: 2,4,6,8,10\n",
      "Ingrese un set con 5 números separados por comas: 1,2,3,4,5\n",
      "Ingrese un diccionario con 5 números (clave:valor separados por comas): 1:uno, 2:dos, 3:tres, 4:cuatro, 5:cinco\n",
      "Valores de entrada:\n",
      "Lista: ['2', '4', '6', '8', '10']\n",
      "Set: {'1', '5', '4', '2', '3'}\n",
      "Diccionario: {'1': 'uno', ' 2': 'dos', ' 3': 'tres', ' 4': 'cuatro', ' 5': 'cinco'}\n",
      "Operación seleccionada: potencia\n",
      "Resultado: 94971145180789141405469863695884969990692470634685116742800956330585166286696033875105787408321105016172948848387979899381078776548058719274153038481919330076987462588432197778346974895637755344856609332899271782077461008182119361693275785914457910967149403472811089067095457018656127063791202559391107981952290497413671516189054715030212151457729925746607341068107450556036691253445520158175442766273106804460580598760425795931407058821363012979657287013264796313022267140908229491284859997425339970007394059640858536497878915778164024704513828250590897948604589281308443672576\n"
     ]
    }
   ],
   "source": [
    "# Solicitar al usuario que seleccione una operación\n",
    "operacion = input(\"Seleccione una operación (suma, resta, multiplicación, división o potencia): \")\n",
    "\n",
    "# Verificar si la operación seleccionada es válida\n",
    "if operacion not in [\"suma\", \"resta\", \"multiplicación\", \"división\", \"potencia\"]:\n",
    "    print(\"Operación inválida\")\n",
    "else:\n",
    "    # Pedir al usuario que ingrese una lista\n",
    "    lista_str = input(\"Ingrese una lista con 5 números separados por comas: \")\n",
    "    \n",
    "    # Convertir la cadena de caracteres en una lista\n",
    "    lista = lista_str.split(\",\")\n",
    "    \n",
    "    # Verificar si el tamaño de la lista es correcto\n",
    "    if len(lista) != 5:\n",
    "        print(\"Tamaño inválido en la lista\")\n",
    "    else:\n",
    "        # Pedir al usuario que ingrese un set\n",
    "        set_str = input(\"Ingrese un set con 5 números separados por comas: \")\n",
    "        \n",
    "        # Convertir la cadena de caracteres en un set\n",
    "        set_numeros = set(set_str.split(\",\"))\n",
    "        \n",
    "        # Verificar si el tamaño del set es correcto\n",
    "        if len(set_numeros) != 5:\n",
    "            print(\"Tamaño inválido en el set\")\n",
    "        else:\n",
    "            # Pedir al usuario que ingrese un diccionario\n",
    "            diccionario_str = input(\"Ingrese un diccionario con 5 números (clave:valor separados por comas): \")\n",
    "            \n",
    "            # Convertir la cadena de caracteres en un diccionario\n",
    "            elementos = diccionario_str.split(\",\")\n",
    "            diccionario = {}\n",
    "            for elemento in elementos:\n",
    "                clave, valor = elemento.split(\":\")\n",
    "                diccionario[clave] = valor\n",
    "            \n",
    "            # Verificar si el tamaño del diccionario es correcto\n",
    "            if len(diccionario) != 5:\n",
    "                print(\"Tamaño inválido en el diccionario\")\n",
    "            else:\n",
    "                # Imprimir los valores de entrada y la operación solicitada\n",
    "                print(\"Valores de entrada:\")\n",
    "                print(\"Lista:\", lista)\n",
    "                print(\"Set:\", set_numeros)\n",
    "                print(\"Diccionario:\", diccionario)\n",
    "                print(\"Operación seleccionada:\", operacion)\n",
    "                \n",
    "                # Realizar la operación solicitada y mostrar el resultado\n",
    "                if operacion == \"suma\":\n",
    "                    resultado = sum([int(num) for num in lista])\n",
    "                elif operacion == \"resta\":\n",
    "                    resultado = int(lista[0]) - sum([int(num) for num in lista[1:]])\n",
    "                elif operacion == \"multiplicación\":\n",
    "                    resultado = 1\n",
    "                    for num in lista:\n",
    "                        resultado *= int(num)\n",
    "                elif operacion == \"división\":\n",
    "                    resultado = int(lista[0])\n",
    "                    for num in lista[1:]:\n",
    "                        resultado /= int(num)\n",
    "                elif operacion == \"potencia\":\n",
    "                    resultado = int(lista[0])\n",
    "                    for num in lista[1:]:\n",
    "                        resultado **= int(num)\n",
    "                \n",
    "                print(\"Resultado:\", resultado)"
   ]
  }
 ],
 "metadata": {
  "kernelspec": {
   "display_name": "Python 3 (ipykernel)",
   "language": "python",
   "name": "python3"
  },
  "language_info": {
   "codemirror_mode": {
    "name": "ipython",
    "version": 3
   },
   "file_extension": ".py",
   "mimetype": "text/x-python",
   "name": "python",
   "nbconvert_exporter": "python",
   "pygments_lexer": "ipython3",
   "version": "3.11.3"
  }
 },
 "nbformat": 4,
 "nbformat_minor": 5
}
