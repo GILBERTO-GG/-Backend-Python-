{
 "cells": [
  {
   "cell_type": "code",
   "execution_count": 6,
   "id": "1610e812",
   "metadata": {},
   "outputs": [],
   "source": [
    "from itertools import combinations\n",
    "from collections import defaultdict"
   ]
  },
  {
   "cell_type": "code",
   "execution_count": 7,
   "id": "071eab7d",
   "metadata": {},
   "outputs": [],
   "source": [
    "# Lista de compras\n",
    "my_basket=[['bread', 'butter','wine','bananas','coffee','carrots'],\n",
    "           ['tomatoes', 'onions', 'cheese', 'milk', 'potatoes'],\n",
    "           ['beer', 'chips ', 'asparagus', 'salsa', 'milk', 'apples'],\n",
    "           ['olive oil', 'bread', 'butter', 'tomatoes', 'steak', 'carrots'],\n",
    "           ['tomatoes', 'onions', 'chips', 'wine', 'ketchup', 'orange juice'],\n",
    "           ['bread', 'butter', 'beer', 'chips', 'milk'],\n",
    "           ['butter', 'tomatoes', 'carrots', 'coffee', 'sugar'],\n",
    "           ['tomatoes', 'onions', 'cheese', 'milk', 'potatoes'],\n",
    "           ['bread', 'butter', 'ketchup', 'coffee', 'chicken wings'],\n",
    "           ['butter', 'beer', 'chips', 'asparagus', 'apples'],\n",
    "           ['tomatoes', 'onion', 'beer', 'chips', 'milk', 'coffee']]"
   ]
  },
  {
   "cell_type": "code",
   "execution_count": 8,
   "id": "1b5cb7d9",
   "metadata": {},
   "outputs": [
    {
     "data": {
      "text/plain": [
       "[['bread', 'butter', 'wine', 'bananas', 'coffee', 'carrots'],\n",
       " ['tomatoes', 'onions', 'cheese', 'milk', 'potatoes'],\n",
       " ['beer', 'chips ', 'asparagus', 'salsa', 'milk', 'apples'],\n",
       " ['olive oil', 'bread', 'butter', 'tomatoes', 'steak', 'carrots'],\n",
       " ['tomatoes', 'onions', 'chips', 'wine', 'ketchup', 'orange juice'],\n",
       " ['bread', 'butter', 'beer', 'chips', 'milk'],\n",
       " ['butter', 'tomatoes', 'carrots', 'coffee', 'sugar'],\n",
       " ['tomatoes', 'onions', 'cheese', 'milk', 'potatoes'],\n",
       " ['bread', 'butter', 'ketchup', 'coffee', 'chicken wings'],\n",
       " ['butter', 'beer', 'chips', 'asparagus', 'apples'],\n",
       " ['tomatoes', 'onion', 'beer', 'chips', 'milk', 'coffee']]"
      ]
     },
     "execution_count": 8,
     "metadata": {},
     "output_type": "execute_result"
    }
   ],
   "source": [
    "my_basket"
   ]
  },
  {
   "cell_type": "code",
   "execution_count": 9,
   "id": "8d5c63b1",
   "metadata": {},
   "outputs": [],
   "source": [
    "# Inicializar un diccionario para contar la frecuencia de cada combinación de productos\n",
    "combinations_count = defaultdict(int)"
   ]
  },
  {
   "cell_type": "code",
   "execution_count": 10,
   "id": "0da94ae8",
   "metadata": {},
   "outputs": [],
   "source": [
    "# Contar la frecuencia de cada combinación de productos\n",
    "for basket in my_basket:\n",
    "    for r in range(2, len(basket) + 1):  # Consideramos combinaciones de 2 o más productos\n",
    "        for combo in combinations(basket, r):\n",
    "            combinations_count[combo] += 1"
   ]
  },
  {
   "cell_type": "code",
   "execution_count": 11,
   "id": "9abf59f7",
   "metadata": {},
   "outputs": [],
   "source": [
    "# Determinar las combinaciones más frecuentes (las que tienen una frecuencia mayor a 1)\n",
    "frequent_combinations = {combo: count for combo, count in combinations_count.items() if count > 1}"
   ]
  },
  {
   "cell_type": "code",
   "execution_count": 12,
   "id": "bfb33b59",
   "metadata": {},
   "outputs": [
    {
     "name": "stdout",
     "output_type": "stream",
     "text": [
      "Combinaciones más frecuentes:\n",
      "('bread', 'butter'): 4\n",
      "('bread', 'coffee'): 2\n",
      "('bread', 'carrots'): 2\n",
      "('butter', 'coffee'): 3\n",
      "('butter', 'carrots'): 3\n",
      "('bread', 'butter', 'coffee'): 2\n",
      "('bread', 'butter', 'carrots'): 2\n",
      "('tomatoes', 'onions'): 3\n",
      "('tomatoes', 'cheese'): 2\n",
      "('tomatoes', 'milk'): 3\n",
      "('tomatoes', 'potatoes'): 2\n",
      "('onions', 'cheese'): 2\n",
      "('onions', 'milk'): 2\n",
      "('onions', 'potatoes'): 2\n",
      "('cheese', 'milk'): 2\n",
      "('cheese', 'potatoes'): 2\n",
      "('milk', 'potatoes'): 2\n",
      "('tomatoes', 'onions', 'cheese'): 2\n",
      "('tomatoes', 'onions', 'milk'): 2\n",
      "('tomatoes', 'onions', 'potatoes'): 2\n",
      "('tomatoes', 'cheese', 'milk'): 2\n",
      "('tomatoes', 'cheese', 'potatoes'): 2\n",
      "('tomatoes', 'milk', 'potatoes'): 2\n",
      "('onions', 'cheese', 'milk'): 2\n",
      "('onions', 'cheese', 'potatoes'): 2\n",
      "('onions', 'milk', 'potatoes'): 2\n",
      "('cheese', 'milk', 'potatoes'): 2\n",
      "('tomatoes', 'onions', 'cheese', 'milk'): 2\n",
      "('tomatoes', 'onions', 'cheese', 'potatoes'): 2\n",
      "('tomatoes', 'onions', 'milk', 'potatoes'): 2\n",
      "('tomatoes', 'cheese', 'milk', 'potatoes'): 2\n",
      "('onions', 'cheese', 'milk', 'potatoes'): 2\n",
      "('tomatoes', 'onions', 'cheese', 'milk', 'potatoes'): 2\n",
      "('beer', 'asparagus'): 2\n",
      "('beer', 'milk'): 3\n",
      "('beer', 'apples'): 2\n",
      "('asparagus', 'apples'): 2\n",
      "('beer', 'asparagus', 'apples'): 2\n",
      "('butter', 'tomatoes'): 2\n",
      "('tomatoes', 'carrots'): 2\n",
      "('butter', 'tomatoes', 'carrots'): 2\n",
      "('tomatoes', 'chips'): 2\n",
      "('butter', 'beer'): 2\n",
      "('butter', 'chips'): 2\n",
      "('beer', 'chips'): 3\n",
      "('chips', 'milk'): 2\n",
      "('butter', 'beer', 'chips'): 2\n",
      "('beer', 'chips', 'milk'): 2\n",
      "('tomatoes', 'coffee'): 2\n"
     ]
    }
   ],
   "source": [
    "# Imprimir las combinaciones más frecuentes y sus frecuencias\n",
    "print(\"Combinaciones más frecuentes:\")\n",
    "for combo, count in frequent_combinations.items():\n",
    "    print(f\"{combo}: {count}\")"
   ]
  },
  {
   "cell_type": "code",
   "execution_count": 13,
   "id": "599661e9",
   "metadata": {},
   "outputs": [
    {
     "name": "stdout",
     "output_type": "stream",
     "text": [
      "\n",
      "Análisis de patrones de consumo:\n",
      "La combinación ('bread', 'butter') aparece 4 veces en la lista de compras.\n",
      "La combinación ('bread', 'coffee') aparece 2 veces en la lista de compras.\n",
      "La combinación ('bread', 'carrots') aparece 2 veces en la lista de compras.\n",
      "La combinación ('butter', 'coffee') aparece 3 veces en la lista de compras.\n",
      "La combinación ('butter', 'carrots') aparece 3 veces en la lista de compras.\n",
      "La combinación ('bread', 'butter', 'coffee') aparece 2 veces en la lista de compras.\n",
      "La combinación ('bread', 'butter', 'carrots') aparece 2 veces en la lista de compras.\n",
      "La combinación ('tomatoes', 'onions') aparece 3 veces en la lista de compras.\n",
      "La combinación ('tomatoes', 'cheese') aparece 2 veces en la lista de compras.\n",
      "La combinación ('tomatoes', 'milk') aparece 3 veces en la lista de compras.\n",
      "La combinación ('tomatoes', 'potatoes') aparece 2 veces en la lista de compras.\n",
      "La combinación ('onions', 'cheese') aparece 2 veces en la lista de compras.\n",
      "La combinación ('onions', 'milk') aparece 2 veces en la lista de compras.\n",
      "La combinación ('onions', 'potatoes') aparece 2 veces en la lista de compras.\n",
      "La combinación ('cheese', 'milk') aparece 2 veces en la lista de compras.\n",
      "La combinación ('cheese', 'potatoes') aparece 2 veces en la lista de compras.\n",
      "La combinación ('milk', 'potatoes') aparece 2 veces en la lista de compras.\n",
      "La combinación ('tomatoes', 'onions', 'cheese') aparece 2 veces en la lista de compras.\n",
      "La combinación ('tomatoes', 'onions', 'milk') aparece 2 veces en la lista de compras.\n",
      "La combinación ('tomatoes', 'onions', 'potatoes') aparece 2 veces en la lista de compras.\n",
      "La combinación ('tomatoes', 'cheese', 'milk') aparece 2 veces en la lista de compras.\n",
      "La combinación ('tomatoes', 'cheese', 'potatoes') aparece 2 veces en la lista de compras.\n",
      "La combinación ('tomatoes', 'milk', 'potatoes') aparece 2 veces en la lista de compras.\n",
      "La combinación ('onions', 'cheese', 'milk') aparece 2 veces en la lista de compras.\n",
      "La combinación ('onions', 'cheese', 'potatoes') aparece 2 veces en la lista de compras.\n",
      "La combinación ('onions', 'milk', 'potatoes') aparece 2 veces en la lista de compras.\n",
      "La combinación ('cheese', 'milk', 'potatoes') aparece 2 veces en la lista de compras.\n",
      "La combinación ('tomatoes', 'onions', 'cheese', 'milk') aparece 2 veces en la lista de compras.\n",
      "La combinación ('tomatoes', 'onions', 'cheese', 'potatoes') aparece 2 veces en la lista de compras.\n",
      "La combinación ('tomatoes', 'onions', 'milk', 'potatoes') aparece 2 veces en la lista de compras.\n",
      "La combinación ('tomatoes', 'cheese', 'milk', 'potatoes') aparece 2 veces en la lista de compras.\n",
      "La combinación ('onions', 'cheese', 'milk', 'potatoes') aparece 2 veces en la lista de compras.\n",
      "La combinación ('tomatoes', 'onions', 'cheese', 'milk', 'potatoes') aparece 2 veces en la lista de compras.\n",
      "La combinación ('beer', 'asparagus') aparece 2 veces en la lista de compras.\n",
      "La combinación ('beer', 'milk') aparece 3 veces en la lista de compras.\n",
      "La combinación ('beer', 'apples') aparece 2 veces en la lista de compras.\n",
      "La combinación ('asparagus', 'apples') aparece 2 veces en la lista de compras.\n",
      "La combinación ('beer', 'asparagus', 'apples') aparece 2 veces en la lista de compras.\n",
      "La combinación ('butter', 'tomatoes') aparece 2 veces en la lista de compras.\n",
      "La combinación ('tomatoes', 'carrots') aparece 2 veces en la lista de compras.\n",
      "La combinación ('butter', 'tomatoes', 'carrots') aparece 2 veces en la lista de compras.\n",
      "La combinación ('tomatoes', 'chips') aparece 2 veces en la lista de compras.\n",
      "La combinación ('butter', 'beer') aparece 2 veces en la lista de compras.\n",
      "La combinación ('butter', 'chips') aparece 2 veces en la lista de compras.\n",
      "La combinación ('beer', 'chips') aparece 3 veces en la lista de compras.\n",
      "La combinación ('chips', 'milk') aparece 2 veces en la lista de compras.\n",
      "La combinación ('butter', 'beer', 'chips') aparece 2 veces en la lista de compras.\n",
      "La combinación ('beer', 'chips', 'milk') aparece 2 veces en la lista de compras.\n",
      "La combinación ('tomatoes', 'coffee') aparece 2 veces en la lista de compras.\n"
     ]
    }
   ],
   "source": [
    "# Análisis de patrones de consumo\n",
    "print(\"\\nAnálisis de patrones de consumo:\")\n",
    "for combo, count in frequent_combinations.items():\n",
    "    print(f\"La combinación {combo} aparece {count} veces en la lista de compras.\")"
   ]
  },
  {
   "cell_type": "code",
   "execution_count": 14,
   "id": "10622522",
   "metadata": {},
   "outputs": [
    {
     "name": "stdout",
     "output_type": "stream",
     "text": [
      "\n",
      "Conclusiones:\n",
      "Se observan ciertos patrones de consumo en la lista de compras:\n",
      "- Los productos bread y butter tienden a ser comprados juntos en múltiples ocasiones.\n",
      "- También se observa una asociación entre beer, chips y butter en varias compras.\n",
      "- Hay una preferencia por productos lácteos como milk y cheese, que suelen comprarse con tomatoes y onions.\n",
      "- La combinación de coffee y carrots también es frecuente.\n"
     ]
    }
   ],
   "source": [
    "# Conclusiones\n",
    "print(\"\\n Conclusiones:\")\n",
    "print(\"Se observan ciertos patrones de consumo en la lista de compras:\")\n",
    "print(\"- Los productos bread y butter tienden a ser comprados juntos en múltiples ocasiones.\")\n",
    "print(\"- También se observa una asociación entre beer, chips y butter en varias compras.\")\n",
    "print(\"- Hay una preferencia por productos lácteos como milk y cheese, que suelen comprarse con tomatoes y onions.\")\n",
    "print(\"- La combinación de coffee y carrots también es frecuente.\")"
   ]
  }
 ],
 "metadata": {
  "kernelspec": {
   "display_name": "Python 3 (ipykernel)",
   "language": "python",
   "name": "python3"
  },
  "language_info": {
   "codemirror_mode": {
    "name": "ipython",
    "version": 3
   },
   "file_extension": ".py",
   "mimetype": "text/x-python",
   "name": "python",
   "nbconvert_exporter": "python",
   "pygments_lexer": "ipython3",
   "version": "3.11.3"
  }
 },
 "nbformat": 4,
 "nbformat_minor": 5
}
