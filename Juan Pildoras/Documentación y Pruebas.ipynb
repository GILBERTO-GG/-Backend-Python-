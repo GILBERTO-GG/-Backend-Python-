{
 "cells": [
  {
   "cell_type": "code",
   "execution_count": 4,
   "id": "7d03c309",
   "metadata": {},
   "outputs": [
    {
     "name": "stdout",
     "output_type": "stream",
     "text": [
      "**********************************************************************\n",
      "File \"__main__\", line 5, in __main__.areaTriangulo\n",
      "Failed example:\n",
      "    areaTriangulo(3,6)\n",
      "Expected:\n",
      "    9.0 \n",
      "Got:\n",
      "    9.0\n",
      "**********************************************************************\n",
      "1 items had failures:\n",
      "   1 of   1 in __main__.areaTriangulo\n",
      "***Test Failed*** 1 failures.\n"
     ]
    },
    {
     "data": {
      "text/plain": [
       "TestResults(failed=1, attempted=1)"
      ]
     },
     "execution_count": 4,
     "metadata": {},
     "output_type": "execute_result"
    }
   ],
   "source": [
    "def areaTriangulo(base,altura):\n",
    "    \n",
    "    \"\"\"\n",
    "    Calcula el área de un triángulo dado\n",
    "    \n",
    "    >>> areaTriangulo(3,6)\n",
    "    9.0 \n",
    "    \n",
    "    \n",
    "    \"\"\"\n",
    "    \n",
    "    return(base*altura)/2\n",
    "\n",
    "\n",
    "import doctest                    #----------> instrucciones para\n",
    "doctest.testmod()                 #----------> realizar una prueba"
   ]
  },
  {
   "cell_type": "code",
   "execution_count": 6,
   "id": "df2e0b9b",
   "metadata": {},
   "outputs": [
    {
     "name": "stdout",
     "output_type": "stream",
     "text": [
      "**********************************************************************\n",
      "File \"__main__\", line 5, in __main__.areaTriangulo\n",
      "Failed example:\n",
      "    areaTriangulo(3,6)\n",
      "Expected:\n",
      "    9.0 \n",
      "Got:\n",
      "    9.0\n",
      "**********************************************************************\n",
      "File \"__main__\", line 16, in __main__.compruebaMail\n",
      "Failed example:\n",
      "    compruebaMail('juancursos@.es')\n",
      "Expected:\n",
      "    False\n",
      "Got:\n",
      "    True\n",
      "**********************************************************************\n",
      "2 items had failures:\n",
      "   1 of   1 in __main__.areaTriangulo\n",
      "   1 of   4 in __main__.compruebaMail\n",
      "***Test Failed*** 2 failures.\n"
     ]
    },
    {
     "data": {
      "text/plain": [
       "TestResults(failed=2, attempted=5)"
      ]
     },
     "execution_count": 6,
     "metadata": {},
     "output_type": "execute_result"
    }
   ],
   "source": [
    "def compruebaMail(mailUsuario):\n",
    "\n",
    "    \"\"\"\n",
    "    La función compruebaMail evalúa un mail recibido en busca de la @.\n",
    "    Si tiene una @ es correcto, si tiene más de una @ es incorrecto.\n",
    "    Si la @ está al final es incorrecto.\n",
    "    \n",
    "    >>> compruebaMail('juan@cursos.es')\n",
    "    True\n",
    "    \n",
    "    >>> compruebaMail('juancursos.es@')\n",
    "    False\n",
    "    \n",
    "    >>> compruebaMail('juancursos.es')\n",
    "    False\n",
    "    \n",
    "    >>> compruebaMail('juancursos@.es')\n",
    "    False\n",
    "    \n",
    "    \n",
    "    \"\"\"\n",
    "    \n",
    "    arroba=mailUsuario.count('@')\n",
    "    \n",
    "    if(arroba!=1 or mailUsuario.rfind('@')==(len(mailUsuario)-1)or mailUsuario.find('@')==0):\n",
    "        \n",
    "        return False\n",
    "    \n",
    "    else: \n",
    "        \n",
    "        return True\n",
    "    \n",
    "    \n",
    "import doctest\n",
    "doctest.testmod()"
   ]
  },
  {
   "cell_type": "markdown",
   "id": "fbf24f1c",
   "metadata": {},
   "source": [
    "# Módulo doctest"
   ]
  },
  {
   "cell_type": "code",
   "execution_count": 7,
   "id": "5863911b",
   "metadata": {},
   "outputs": [
    {
     "name": "stdout",
     "output_type": "stream",
     "text": [
      "[3.0, 4.0, 5.0, 6.0]\n"
     ]
    }
   ],
   "source": [
    "import math\n",
    "\n",
    "def raizCuadrada(listaNumeros):\n",
    "    \n",
    "    \"\"\"\n",
    "    La función devuelve una lista con la\n",
    "    raíz cuadrada de los elementos numéricos\n",
    "    pasados por parámetros en otra lista\n",
    "    \n",
    "    \n",
    "    >>> lista=[]\n",
    "    \n",
    "    >>> for i in [4, 9, 16]:\n",
    "    ...     lista.append(i)\n",
    "    >>> raizCuadrada(lista)\n",
    "    [2.0, 3.0, 4.0]\n",
    "    \n",
    "    \"\"\"\n",
    "    \n",
    "    \n",
    "    return [math.sqrt(n)  for n in listaNumeros] \n",
    "\n",
    "#print(raizCuadrada([9, 16, 25, 36]))\n",
    "\n",
    "import doctest\n",
    "doctest.testmod"
   ]
  }
 ],
 "metadata": {
  "kernelspec": {
   "display_name": "Python 3 (ipykernel)",
   "language": "python",
   "name": "python3"
  },
  "language_info": {
   "codemirror_mode": {
    "name": "ipython",
    "version": 3
   },
   "file_extension": ".py",
   "mimetype": "text/x-python",
   "name": "python",
   "nbconvert_exporter": "python",
   "pygments_lexer": "ipython3",
   "version": "3.11.3"
  }
 },
 "nbformat": 4,
 "nbformat_minor": 5
}
