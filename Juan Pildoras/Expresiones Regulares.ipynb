{
 "cells": [
  {
   "cell_type": "markdown",
   "id": "12ee7b3a",
   "metadata": {},
   "source": [
    "# Expresiones Regulares"
   ]
  },
  {
   "cell_type": "markdown",
   "id": "26e3ecc1",
   "metadata": {},
   "source": [
    "# ¿Qué son?"
   ]
  },
  {
   "cell_type": "code",
   "execution_count": null,
   "id": "06e64672",
   "metadata": {},
   "outputs": [],
   "source": [
    "--Las expresiones regulares son una secuencia de caracteres que forman un patrón de búsqueda."
   ]
  },
  {
   "cell_type": "markdown",
   "id": "384c34e0",
   "metadata": {},
   "source": [
    "# ¿Para qué sirven?"
   ]
  },
  {
   "cell_type": "code",
   "execution_count": null,
   "id": "ef6e69c8",
   "metadata": {},
   "outputs": [],
   "source": [
    "--Para el trabajo y procesamiento de texto."
   ]
  },
  {
   "cell_type": "markdown",
   "id": "3afe2fdd",
   "metadata": {},
   "source": [
    "# Ejemplos"
   ]
  },
  {
   "cell_type": "code",
   "execution_count": null,
   "id": "9a9fc8f9",
   "metadata": {},
   "outputs": [],
   "source": [
    "--Buscar un texto que se ajusta a un formato determinado(correo electrónico).\n",
    "--Buscar si existe o no una cadena de caracteres dentro de un texto.\n",
    "--Contar el número de coincidencias dentro de un texto.\n",
    "--Etc."
   ]
  },
  {
   "cell_type": "code",
   "execution_count": 7,
   "id": "2e288338",
   "metadata": {},
   "outputs": [
    {
     "name": "stdout",
     "output_type": "stream",
     "text": [
      "<re.Match object; span=(8, 16), match='aprender'>\n"
     ]
    }
   ],
   "source": [
    "import re\n",
    "\n",
    "cadena=\"Vamos a aprender expresiones regulares\"\n",
    "\n",
    "print(re.search(\"aprender\", cadena))"
   ]
  },
  {
   "cell_type": "code",
   "execution_count": 10,
   "id": "d04d07db",
   "metadata": {},
   "outputs": [
    {
     "name": "stdout",
     "output_type": "stream",
     "text": [
      "He encontrado el texto\n"
     ]
    }
   ],
   "source": [
    "import re\n",
    "\n",
    "cadena=\"Vamos a aprender expresiones regulares\"\n",
    "\n",
    "textoBuscar=\"aprender\"\n",
    "\n",
    "if re.search(textoBuscar, cadena) is not None:\n",
    "    \n",
    "    print(\"He encontrado el texto\")\n",
    "\n",
    "else:    \n",
    "    \n",
    "    print(\"No he encontrado el texto\")"
   ]
  },
  {
   "cell_type": "code",
   "execution_count": 12,
   "id": "bf5ba17c",
   "metadata": {},
   "outputs": [
    {
     "name": "stdout",
     "output_type": "stream",
     "text": [
      "8\n"
     ]
    }
   ],
   "source": [
    "import re                                                   #devuelve la posición donde comienza el texto a buscar\n",
    "\n",
    "cadena=\"Vamos a aprender expresiones regulares\"\n",
    "\n",
    "textoBuscar=\"aprender\"\n",
    "\n",
    "textoEncontrado=re.search(textoBuscar, cadena)\n",
    "\n",
    "print(textoEncontrado.start())"
   ]
  },
  {
   "cell_type": "code",
   "execution_count": 13,
   "id": "6d1692c6",
   "metadata": {},
   "outputs": [
    {
     "name": "stdout",
     "output_type": "stream",
     "text": [
      "16\n"
     ]
    }
   ],
   "source": [
    "import re                                                   #devuelve la posición donde termina el texto a buscar\n",
    "\n",
    "cadena=\"Vamos a aprender expresiones regulares\"\n",
    "\n",
    "textoBuscar=\"aprender\"\n",
    "\n",
    "textoEncontrado=re.search(textoBuscar, cadena)\n",
    "\n",
    "print(textoEncontrado.end())"
   ]
  },
  {
   "cell_type": "code",
   "execution_count": 14,
   "id": "f46c109c",
   "metadata": {},
   "outputs": [
    {
     "name": "stdout",
     "output_type": "stream",
     "text": [
      "(8, 16)\n"
     ]
    }
   ],
   "source": [
    "import re                                              #devuelve las posiciones donde comienza y termina el texto a buscar\n",
    "\n",
    "cadena=\"Vamos a aprender expresiones regulares\"\n",
    "\n",
    "textoBuscar=\"aprender\"\n",
    "\n",
    "textoEncontrado=re.search(textoBuscar, cadena)\n",
    "\n",
    "print(textoEncontrado.span())"
   ]
  },
  {
   "cell_type": "code",
   "execution_count": 15,
   "id": "5d76dc58",
   "metadata": {},
   "outputs": [
    {
     "name": "stdout",
     "output_type": "stream",
     "text": [
      "['Python', 'Python']\n"
     ]
    }
   ],
   "source": [
    "import re                                    #devuelve en una lista la palabra buscada(se repite).\n",
    "\n",
    "cadena=\"Vamos a aprender expresiones regulares en Python. Python es un lenguaje de sintáxis sencilla \"\n",
    "\n",
    "textoBuscar=\"Python\"\n",
    "\n",
    "print(re.findall(textoBuscar, cadena))"
   ]
  },
  {
   "cell_type": "code",
   "execution_count": 18,
   "id": "0f07395b",
   "metadata": {},
   "outputs": [
    {
     "name": "stdout",
     "output_type": "stream",
     "text": [
      "2\n"
     ]
    }
   ],
   "source": [
    "import re                                    #devuelve la longitud de la lista.\n",
    "\n",
    "cadena=\"Vamos a aprender expresiones regulares en Python. Python es un lenguaje de sintáxis sencilla \"\n",
    "\n",
    "textoBuscar=\"Python\"\n",
    "\n",
    "print(len(re.findall(textoBuscar, cadena)))"
   ]
  },
  {
   "cell_type": "code",
   "execution_count": 3,
   "id": "8c998583",
   "metadata": {},
   "outputs": [
    {
     "name": "stdout",
     "output_type": "stream",
     "text": [
      "Sandra López\n",
      "Sandra Fernández\n"
     ]
    }
   ],
   "source": [
    "import re\n",
    "\n",
    "lista_nombres = ['Ana Gómez',\n",
    "                 'María Martín',\n",
    "                 'Sandra López',\n",
    "                 'Sandra Fernández',\n",
    "                 'Santiago Martín']  \n",
    "\n",
    "for elemento in lista_nombres:\n",
    "    \n",
    "    if re.findall('^Sandra', elemento):\n",
    "    \n",
    "       print(elemento)"
   ]
  },
  {
   "cell_type": "code",
   "execution_count": 6,
   "id": "ea97152b",
   "metadata": {},
   "outputs": [
    {
     "name": "stdout",
     "output_type": "stream",
     "text": [
      "María Martín\n",
      "Santiago Martín\n"
     ]
    }
   ],
   "source": [
    "import re\n",
    "\n",
    "lista_nombres = ['Ana Gómez',\n",
    "                 'María Martín',\n",
    "                 'Sandra López',\n",
    "                 'Sandra Fernández',\n",
    "                 'Santiago Martín']  \n",
    "\n",
    "for elemento in lista_nombres:\n",
    "    \n",
    "    if re.findall('Martín$', elemento):\n",
    "    \n",
    "       print(elemento)"
   ]
  },
  {
   "cell_type": "code",
   "execution_count": 7,
   "id": "4316753d",
   "metadata": {},
   "outputs": [
    {
     "name": "stdout",
     "output_type": "stream",
     "text": [
      "http://pildorasinformaticas.es\n",
      "ftp://pildorasinformaticas.es\n"
     ]
    }
   ],
   "source": [
    "import re\n",
    "\n",
    "lista_nombres = ['http://pildorasinformaticas.es',\n",
    "                 'ftp://pildorasinformaticas.es',\n",
    "                 'http://pildorasinformaticas.com',\n",
    "                 'ftp://pildorasinformaticas.com'\n",
    "                 ]  \n",
    "\n",
    "for elemento in lista_nombres:\n",
    "    \n",
    "    if re.findall('es$', elemento):\n",
    "    \n",
    "       print(elemento)"
   ]
  },
  {
   "cell_type": "code",
   "execution_count": 8,
   "id": "f23e5103",
   "metadata": {},
   "outputs": [
    {
     "name": "stdout",
     "output_type": "stream",
     "text": [
      "ftp://pildorasinformaticas.es\n",
      "ftp://pildorasinformaticas.com\n"
     ]
    }
   ],
   "source": [
    "import re\n",
    "\n",
    "lista_nombres = ['http://pildorasinformaticas.es',\n",
    "                 'ftp://pildorasinformaticas.es',\n",
    "                 'http://pildorasinformaticas.com',\n",
    "                 'ftp://pildorasinformaticas.com'\n",
    "                 ]  \n",
    "\n",
    "for elemento in lista_nombres:\n",
    "    \n",
    "    if re.findall('^ftp', elemento):\n",
    "    \n",
    "       print(elemento)"
   ]
  },
  {
   "cell_type": "code",
   "execution_count": 9,
   "id": "3fe8d0c3",
   "metadata": {},
   "outputs": [
    {
     "name": "stdout",
     "output_type": "stream",
     "text": [
      "http://informaticaenespaña.es\n"
     ]
    }
   ],
   "source": [
    "import re\n",
    "\n",
    "lista_nombres = ['http://informaticaenespaña.es',\n",
    "                 'http://pildorasinformaticas.es',\n",
    "                 'http://pildorasinformaticas.com'\n",
    "                 ]  \n",
    "\n",
    "for elemento in lista_nombres:\n",
    "    \n",
    "    if re.findall('[ñ]', elemento):\n",
    "    \n",
    "       print(elemento)"
   ]
  },
  {
   "cell_type": "code",
   "execution_count": 10,
   "id": "cfd3ab00",
   "metadata": {},
   "outputs": [
    {
     "name": "stdout",
     "output_type": "stream",
     "text": [
      "niños\n",
      "niñas\n"
     ]
    }
   ],
   "source": [
    "import re\n",
    "\n",
    "lista_nombres = ['hombres',\n",
    "                 'mujeres',\n",
    "                 'mascotas',\n",
    "                 'niños',\n",
    "                 'niñas'\n",
    "                 ]  \n",
    "\n",
    "for elemento in lista_nombres:\n",
    "    \n",
    "    if re.findall('niñ[oa]s', elemento):\n",
    "    \n",
    "       print(elemento)"
   ]
  },
  {
   "cell_type": "code",
   "execution_count": 11,
   "id": "ea4bf125",
   "metadata": {},
   "outputs": [
    {
     "name": "stdout",
     "output_type": "stream",
     "text": [
      "camión\n",
      "camion\n"
     ]
    }
   ],
   "source": [
    "import re\n",
    "\n",
    "lista_nombres = ['hombres',\n",
    "                 'mujeres',\n",
    "                 'mascotas',\n",
    "                 'camión',\n",
    "                 'camion'\n",
    "                 ]  \n",
    "\n",
    "for elemento in lista_nombres:\n",
    "    \n",
    "    if re.findall('cami[oó]n', elemento):\n",
    "    \n",
    "       print(elemento)"
   ]
  },
  {
   "cell_type": "markdown",
   "id": "1630751a",
   "metadata": {},
   "source": [
    "# Rangos"
   ]
  },
  {
   "cell_type": "code",
   "execution_count": 12,
   "id": "d92c5e1c",
   "metadata": {},
   "outputs": [
    {
     "name": "stdout",
     "output_type": "stream",
     "text": [
      "Pedro\n",
      "María\n",
      "Rosa\n",
      "Sandra\n"
     ]
    }
   ],
   "source": [
    "import re\n",
    "\n",
    "lista_nombres = ['Ana',\n",
    "                 'Pedro',\n",
    "                 'María',\n",
    "                 'Rosa',\n",
    "                 'Sandra',\n",
    "                 'Celia'\n",
    "                 ]  \n",
    "\n",
    "for elemento in lista_nombres:\n",
    "    \n",
    "    if re.findall('[o-t]', elemento):\n",
    "    \n",
    "       print(elemento)"
   ]
  },
  {
   "cell_type": "code",
   "execution_count": 13,
   "id": "54258626",
   "metadata": {},
   "outputs": [
    {
     "name": "stdout",
     "output_type": "stream",
     "text": [
      "Ma1\n",
      "Ma2\n",
      "Ma3\n"
     ]
    }
   ],
   "source": [
    "import re\n",
    "\n",
    "lista_nombres = ['Ma1',\n",
    "                 'Se1',\n",
    "                 'Ma2',\n",
    "                 'Ba1',\n",
    "                 'Ma3',\n",
    "                 'Va1',\n",
    "                 'Va2',\n",
    "                 'Ma4'\n",
    "                 ]  \n",
    "\n",
    "for elemento in lista_nombres:\n",
    "    \n",
    "    if re.findall('Ma[0-3]', elemento):\n",
    "    \n",
    "       print(elemento)"
   ]
  },
  {
   "cell_type": "code",
   "execution_count": 15,
   "id": "294d9cf0",
   "metadata": {},
   "outputs": [
    {
     "name": "stdout",
     "output_type": "stream",
     "text": [
      "Ma4\n"
     ]
    }
   ],
   "source": [
    "import re\n",
    "\n",
    "lista_nombres = ['Ma1',\n",
    "                 'Se1',\n",
    "                 'Ma2',\n",
    "                 'Ba1',\n",
    "                 'Ma3',\n",
    "                 'Va1',\n",
    "                 'Va2',\n",
    "                 'Ma4'\n",
    "                 ]  \n",
    "\n",
    "for elemento in lista_nombres:\n",
    "    \n",
    "    if re.findall('Ma[^0-3]', elemento):            # devuelve el que no cumple, el contrario\n",
    "    \n",
    "       print(elemento)"
   ]
  },
  {
   "cell_type": "code",
   "execution_count": 16,
   "id": "3d8b3851",
   "metadata": {},
   "outputs": [
    {
     "name": "stdout",
     "output_type": "stream",
     "text": [
      "Ma1\n",
      "Ma2\n",
      "Ma3\n",
      "MaA\n",
      "MaB\n"
     ]
    }
   ],
   "source": [
    "import re\n",
    "\n",
    "lista_nombres = ['Ma1',\n",
    "                 'Se1',\n",
    "                 'Ma2',\n",
    "                 'Ba1',\n",
    "                 'Ma3',\n",
    "                 'Va1',\n",
    "                 'Va2',\n",
    "                 'Ma4',\n",
    "                 'MaA',\n",
    "                 'Ma5',\n",
    "                 'MaB',\n",
    "                 'MaC'\n",
    "                 ]  \n",
    "\n",
    "for elemento in lista_nombres:\n",
    "    \n",
    "    if re.findall('Ma[0-3A-B]', elemento):            \n",
    "    \n",
    "       print(elemento)"
   ]
  },
  {
   "cell_type": "code",
   "execution_count": 17,
   "id": "ca8643d1",
   "metadata": {},
   "outputs": [
    {
     "name": "stdout",
     "output_type": "stream",
     "text": [
      "Ma.1\n",
      "Ma:3\n",
      "Ma.5\n",
      "Ma:C\n"
     ]
    }
   ],
   "source": [
    "import re\n",
    "\n",
    "lista_nombres = ['Ma.1',\n",
    "                 'Se1',\n",
    "                 'Ma2',\n",
    "                 'Ba1',\n",
    "                 'Ma:3',\n",
    "                 'Va1',\n",
    "                 'Va2',\n",
    "                 'Ma4',\n",
    "                 'MaA',\n",
    "                 'Ma.5',\n",
    "                 'MaB',\n",
    "                 'Ma:C'\n",
    "                 ]  \n",
    "\n",
    "for elemento in lista_nombres:\n",
    "    \n",
    "    if re.findall('Ma[.:]', elemento):            \n",
    "    \n",
    "       print(elemento)"
   ]
  },
  {
   "cell_type": "code",
   "execution_count": 18,
   "id": "4c3f12a9",
   "metadata": {},
   "outputs": [
    {
     "name": "stdout",
     "output_type": "stream",
     "text": [
      "Hemos encontrado el nombre\n"
     ]
    }
   ],
   "source": [
    "import re\n",
    "\n",
    "nombre1 = \"Sandra López\"\n",
    "nombre2 = \"Antonio Gómez\"\n",
    "nombre3 = \"María López\"\n",
    "\n",
    "if re.match(\"Sandra\", nombre1):\n",
    "    \n",
    "    print(\"Hemos encontrado el nombre\")\n",
    "    \n",
    "else:\n",
    "     print(\"No lo hemos encontrado\")\n",
    "        "
   ]
  },
  {
   "cell_type": "code",
   "execution_count": 19,
   "id": "df96aa02",
   "metadata": {},
   "outputs": [
    {
     "name": "stdout",
     "output_type": "stream",
     "text": [
      "Hemos encontrado el nombre\n"
     ]
    }
   ],
   "source": [
    "import re\n",
    "\n",
    "nombre1 = \"Sandra López\"\n",
    "nombre2 = \"Antonio Gómez\"\n",
    "nombre3 = \"sandra López\"\n",
    "\n",
    "if re.match(\"Sandra\", nombre3, re.IGNORECASE):\n",
    "    \n",
    "    print(\"Hemos encontrado el nombre\")\n",
    "    \n",
    "else:\n",
    "     print(\"No lo hemos encontrado\")"
   ]
  },
  {
   "cell_type": "code",
   "execution_count": 20,
   "id": "4384f166",
   "metadata": {},
   "outputs": [
    {
     "name": "stdout",
     "output_type": "stream",
     "text": [
      "Hemos encontrado el nombre\n"
     ]
    }
   ],
   "source": [
    "import re\n",
    "\n",
    "nombre1 = \"Jara López\"\n",
    "nombre2 = \"Antonio Gómez\"\n",
    "nombre3 = \"Lara López\"\n",
    "\n",
    "if re.match(\".ara\", nombre1, re.IGNORECASE):\n",
    "    \n",
    "    print(\"Hemos encontrado el nombre\")\n",
    "    \n",
    "else:\n",
    "     print(\"No lo hemos encontrado\")"
   ]
  },
  {
   "cell_type": "code",
   "execution_count": 23,
   "id": "6df6641a",
   "metadata": {},
   "outputs": [
    {
     "name": "stdout",
     "output_type": "stream",
     "text": [
      "No lo hemos encontrado\n"
     ]
    }
   ],
   "source": [
    "import re\n",
    "\n",
    "cadena1 = \"Jara López\"\n",
    "cadena2 = \"546546546\"\n",
    "cadena3 = \"a546546546\"\n",
    "\n",
    "if re.match(\"\\d\", cadena1):\n",
    "    \n",
    "    print(\"Hemos encontrado el número\")\n",
    "    \n",
    "else:\n",
    "     print(\"No lo hemos encontrado\")"
   ]
  },
  {
   "cell_type": "code",
   "execution_count": 25,
   "id": "18c88c9d",
   "metadata": {},
   "outputs": [
    {
     "name": "stdout",
     "output_type": "stream",
     "text": [
      "Hemos encontrado el nombre\n"
     ]
    }
   ],
   "source": [
    "import re\n",
    "\n",
    "nombre1 = \"Jara López\"\n",
    "nombre2 = \"Antonio Gómez\"\n",
    "nombre3 = \"Lara López\"\n",
    "\n",
    "if re.search(\"López\", nombre1, re.IGNORECASE):\n",
    "    \n",
    "    print(\"Hemos encontrado el nombre\")\n",
    "    \n",
    "else:\n",
    "     print(\"No lo hemos encontrado\")"
   ]
  },
  {
   "cell_type": "code",
   "execution_count": 26,
   "id": "79c7f8ca",
   "metadata": {},
   "outputs": [
    {
     "name": "stdout",
     "output_type": "stream",
     "text": [
      "Hemos encontrado el nombre\n"
     ]
    }
   ],
   "source": [
    "import re\n",
    "\n",
    "codigo1 = \"fgdfgdfhgjhgjjkjgkhjkhjkjkhjhjhj71ggfhfhgfjgfjgfjggf\"\n",
    "codigo2 = \"jshshss71kfklkflflflfkfkjgjgjg\"\n",
    "codigo3 = \"dsfsfds  kkkjjs  hhjkllls yyttwuopsja\"\n",
    "\n",
    "if re.search(\"71\", codigo1):\n",
    "    \n",
    "    print(\"Hemos encontrado el nombre\")\n",
    "    \n",
    "else:\n",
    "     print(\"No lo hemos encontrado\")"
   ]
  }
 ],
 "metadata": {
  "kernelspec": {
   "display_name": "Python 3 (ipykernel)",
   "language": "python",
   "name": "python3"
  },
  "language_info": {
   "codemirror_mode": {
    "name": "ipython",
    "version": 3
   },
   "file_extension": ".py",
   "mimetype": "text/x-python",
   "name": "python",
   "nbconvert_exporter": "python",
   "pygments_lexer": "ipython3",
   "version": "3.11.3"
  }
 },
 "nbformat": 4,
 "nbformat_minor": 5
}
