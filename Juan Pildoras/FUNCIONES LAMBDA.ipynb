{
 "cells": [
  {
   "cell_type": "code",
   "execution_count": 1,
   "id": "d66483de",
   "metadata": {},
   "outputs": [
    {
     "name": "stdout",
     "output_type": "stream",
     "text": [
      "17.5\n",
      "27.0\n"
     ]
    }
   ],
   "source": [
    "# Área de un triángulo\n",
    "\n",
    "'''def area_triangulo(base,altura):\n",
    "\n",
    "     return(base * altura)/2\n",
    "     \n",
    "triangulo1=area_triangulo(5,7)\n",
    "\n",
    "triangulo2=area_triangulo(9,6)\n",
    "\n",
    "print(triangulo1)\n",
    "\n",
    "print(triangulo2)'''\n",
    "\n",
    "#-------------función lambda\n",
    "\n",
    "area_triangulo=lambda base, altura: (base*altura)/2  \n",
    "\n",
    "print(area_triangulo(7,5))\n",
    "\n",
    "print(area_triangulo(9,6))\n"
   ]
  },
  {
   "cell_type": "code",
   "execution_count": 3,
   "id": "e0987c44",
   "metadata": {},
   "outputs": [
    {
     "name": "stdout",
     "output_type": "stream",
     "text": [
      "2197\n"
     ]
    }
   ],
   "source": [
    "# elevar al cubo\n",
    "\n",
    "#al_cubo=lambda numero:pow(numero, 3)\n",
    "\n",
    "al_cubo=lambda numero:numero**3\n",
    "\n",
    "print(al_cubo(13))\n"
   ]
  },
  {
   "cell_type": "code",
   "execution_count": 4,
   "id": "3df173d5",
   "metadata": {},
   "outputs": [
    {
     "name": "stdout",
     "output_type": "stream",
     "text": [
      "¡15585! €\n"
     ]
    }
   ],
   "source": [
    "#aplica un formato específico.\n",
    "\n",
    "destacar_valor=lambda comision: \"¡{}! €\".format(comision)\n",
    "\n",
    "\n",
    "comision_Ana= 15585\n",
    "\n",
    "print(destacar_valor(comision_Ana))"
   ]
  }
 ],
 "metadata": {
  "kernelspec": {
   "display_name": "Python 3 (ipykernel)",
   "language": "python",
   "name": "python3"
  },
  "language_info": {
   "codemirror_mode": {
    "name": "ipython",
    "version": 3
   },
   "file_extension": ".py",
   "mimetype": "text/x-python",
   "name": "python",
   "nbconvert_exporter": "python",
   "pygments_lexer": "ipython3",
   "version": "3.11.3"
  }
 },
 "nbformat": 4,
 "nbformat_minor": 5
}
