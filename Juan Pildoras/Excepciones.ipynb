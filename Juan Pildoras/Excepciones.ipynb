{
 "cells": [
  {
   "cell_type": "markdown",
   "id": "42a2db27",
   "metadata": {},
   "source": [
    "# Excepciones\n",
    "--Son errores que ocurren durante la ejecución de un programa. La sintáxis del código es correcta, pero durante la ejecución ha ocurrido algo \"inesperado\"."
   ]
  },
  {
   "cell_type": "code",
   "execution_count": 24,
   "id": "b0de11f5",
   "metadata": {},
   "outputs": [
    {
     "name": "stdout",
     "output_type": "stream",
     "text": [
      "Introduce el primer número:  8\n",
      "Introduce el segundo número:  0\n",
      "No se puede dividir entre 0\n",
      "Cálculo finalizado\n"
     ]
    }
   ],
   "source": [
    "def divide():\n",
    "    \n",
    "             try:\n",
    "    \n",
    "                 op1 = (float(input(\"Introduce el primer número:  \")))\n",
    "    \n",
    "                 op2 = (float(input(\"Introduce el segundo número:  \")))\n",
    "    \n",
    "                 print(\"La división es:  \" + str(op1/op2))\n",
    "    \n",
    "             except ValueError:\n",
    "        \n",
    "                         print(\"El valor introducido es erróneo\")\n",
    "            \n",
    "             except   ZeroDivisionError:\n",
    "    \n",
    "                       print(\"No se puede dividir entre 0\")\n",
    "    \n",
    "             \n",
    "             finally:\n",
    "        \n",
    "                     print(\"Cálculo finalizado\")\n",
    "    \n",
    "divide()    "
   ]
  },
  {
   "cell_type": "code",
   "execution_count": 25,
   "id": "fac18652",
   "metadata": {},
   "outputs": [
    {
     "name": "stdout",
     "output_type": "stream",
     "text": [
      "Eres muy jóven\n"
     ]
    }
   ],
   "source": [
    "def evaluaEdad(edad):\n",
    "    \n",
    "    if edad < 20:\n",
    "        return \"Eres muy jóven\"\n",
    "    elif edad<40:\n",
    "        return \"Eres jóven\"\n",
    "    elif edad <65:\n",
    "        return \"Eres maduro\"\n",
    "    elif edad <100:\n",
    "        return \"Cuídate ...\"\n",
    "    \n",
    "print(evaluaEdad(18))    \n",
    "    "
   ]
  },
  {
   "cell_type": "markdown",
   "id": "286c0aa6",
   "metadata": {},
   "source": [
    "# raise \n",
    "Personaliza la excepción"
   ]
  },
  {
   "cell_type": "code",
   "execution_count": 27,
   "id": "d3d6d509",
   "metadata": {},
   "outputs": [
    {
     "ename": "TypeError",
     "evalue": "No se permiten edades negativas",
     "output_type": "error",
     "traceback": [
      "\u001b[1;31m---------------------------------------------------------------------------\u001b[0m",
      "\u001b[1;31mTypeError\u001b[0m                                 Traceback (most recent call last)",
      "Cell \u001b[1;32mIn[27], line 15\u001b[0m\n\u001b[0;32m     12\u001b[0m     \u001b[38;5;28;01melif\u001b[39;00m edad \u001b[38;5;241m<\u001b[39m\u001b[38;5;241m100\u001b[39m:\n\u001b[0;32m     13\u001b[0m         \u001b[38;5;28;01mreturn\u001b[39;00m \u001b[38;5;124m\"\u001b[39m\u001b[38;5;124mCuídate ...\u001b[39m\u001b[38;5;124m\"\u001b[39m\n\u001b[1;32m---> 15\u001b[0m \u001b[38;5;28mprint\u001b[39m(\u001b[43mevaluaEdad\u001b[49m\u001b[43m(\u001b[49m\u001b[38;5;241;43m-\u001b[39;49m\u001b[38;5;241;43m18\u001b[39;49m\u001b[43m)\u001b[49m)  \n",
      "Cell \u001b[1;32mIn[27], line 4\u001b[0m, in \u001b[0;36mevaluaEdad\u001b[1;34m(edad)\u001b[0m\n\u001b[0;32m      1\u001b[0m \u001b[38;5;28;01mdef\u001b[39;00m \u001b[38;5;21mevaluaEdad\u001b[39m(edad):\n\u001b[0;32m      3\u001b[0m     \u001b[38;5;28;01mif\u001b[39;00m edad \u001b[38;5;241m<\u001b[39m\u001b[38;5;241m0\u001b[39m:\n\u001b[1;32m----> 4\u001b[0m         \u001b[38;5;28;01mraise\u001b[39;00m \u001b[38;5;167;01mTypeError\u001b[39;00m (\u001b[38;5;124m\"\u001b[39m\u001b[38;5;124mNo se permiten edades negativas\u001b[39m\u001b[38;5;124m\"\u001b[39m) \n\u001b[0;32m      6\u001b[0m     \u001b[38;5;28;01mif\u001b[39;00m edad \u001b[38;5;241m<\u001b[39m \u001b[38;5;241m20\u001b[39m:\n\u001b[0;32m      7\u001b[0m         \u001b[38;5;28;01mreturn\u001b[39;00m \u001b[38;5;124m\"\u001b[39m\u001b[38;5;124mEres muy jóven\u001b[39m\u001b[38;5;124m\"\u001b[39m\n",
      "\u001b[1;31mTypeError\u001b[0m: No se permiten edades negativas"
     ]
    }
   ],
   "source": [
    "def evaluaEdad(edad):\n",
    "    \n",
    "    if edad <0:\n",
    "        raise TypeError (\"No se permiten edades negativas\") \n",
    "    \n",
    "    if edad < 20:\n",
    "        return \"Eres muy jóven\"\n",
    "    elif edad<40:\n",
    "        return \"Eres jóven\"\n",
    "    elif edad <65:\n",
    "        return \"Eres maduro\"\n",
    "    elif edad <100:\n",
    "        return \"Cuídate ...\"\n",
    "    \n",
    "print(evaluaEdad(-18))  "
   ]
  },
  {
   "cell_type": "code",
   "execution_count": 32,
   "id": "312f4dde",
   "metadata": {},
   "outputs": [
    {
     "name": "stdout",
     "output_type": "stream",
     "text": [
      "Introduce un número:  -144\n",
      "El número no puede ser negativo\n",
      "Programa terminado\n"
     ]
    }
   ],
   "source": [
    "import math\n",
    "\n",
    "def calculaRaiz(num1):\n",
    "    \n",
    "    if num1 < 0:\n",
    "        raise ValueError(\"El número no puede ser negativo\")\n",
    "    else:    \n",
    "        return math.sqrt(num1)\n",
    "    \n",
    "op1 = (int(input(\"Introduce un número:  \")))\n",
    "\n",
    "try:\n",
    "\n",
    "    print(calculaRaiz(op1))\n",
    "    \n",
    "except ValueError as ErrorDeNumeroNegativo:\n",
    "    \n",
    "    print(ErrorDeNumeroNegativo)\n",
    "\n",
    "print(\"Programa terminado\")\n",
    "    "
   ]
  }
 ],
 "metadata": {
  "kernelspec": {
   "display_name": "Python 3 (ipykernel)",
   "language": "python",
   "name": "python3"
  },
  "language_info": {
   "codemirror_mode": {
    "name": "ipython",
    "version": 3
   },
   "file_extension": ".py",
   "mimetype": "text/x-python",
   "name": "python",
   "nbconvert_exporter": "python",
   "pygments_lexer": "ipython3",
   "version": "3.11.3"
  }
 },
 "nbformat": 4,
 "nbformat_minor": 5
}
