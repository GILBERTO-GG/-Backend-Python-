{
 "cells": [
  {
   "cell_type": "markdown",
   "id": "d9cef289",
   "metadata": {},
   "source": [
    "# Documentar un programa"
   ]
  },
  {
   "cell_type": "markdown",
   "id": "8ef75f87",
   "metadata": {},
   "source": [
    "# ¿Qué es?"
   ]
  },
  {
   "cell_type": "code",
   "execution_count": null,
   "id": "92631601",
   "metadata": {},
   "outputs": [],
   "source": [
    "--Incluir comentarios en clases, métodos, módulos, etc."
   ]
  },
  {
   "cell_type": "markdown",
   "id": "3a895f69",
   "metadata": {},
   "source": [
    "# ¿Para qué?"
   ]
  },
  {
   "cell_type": "code",
   "execution_count": null,
   "id": "3e7563c7",
   "metadata": {},
   "outputs": [],
   "source": [
    "--Para ayudar en el trabajo en equipo. Especialmente útil en aplicaciones complejas."
   ]
  },
  {
   "cell_type": "code",
   "execution_count": 8,
   "id": "5cfcfe27",
   "metadata": {},
   "outputs": [
    {
     "name": "stdout",
     "output_type": "stream",
     "text": [
      "El área del cuadrado es: 9\n",
      "Calcula el área de un cuadrado\n",
      "       elevando al cuadrado el lado pasado por parámetro\n",
      "El área del triángulo es: 7.0\n",
      "\n",
      "\n",
      "\n",
      "Help on function areaCuadrado in module __main__:\n",
      "\n",
      "areaCuadrado(lado)\n",
      "    Calcula el área de un cuadrado\n",
      "    elevando al cuadrado el lado pasado por parámetro\n",
      "\n",
      "Help on function areaTriangulo in module __main__:\n",
      "\n",
      "areaTriangulo(base, altura)\n",
      "    Calcula el área de un triángulo utilizando los parámetros base y altura\n",
      "\n"
     ]
    }
   ],
   "source": [
    "def areaCuadrado(lado):\n",
    "    \n",
    "    \"\"\"Calcula el área de un cuadrado\n",
    "       elevando al cuadrado el lado pasado por parámetro\"\"\"\n",
    "    \n",
    "    return \"El área del cuadrado es: \" + str(lado*lado)\n",
    "\n",
    "def areaTriangulo(base,altura):\n",
    "    \n",
    "    \"\"\"Calcula el área de un triángulo utilizando los parámetros base y altura\"\"\"\n",
    "    \n",
    "    return \"El área del triángulo es: \" + str((base*altura)/2)\n",
    "\n",
    "print(areaCuadrado(3))\n",
    "print(areaCuadrado.__doc__)      #--------> le estamos diciendo que imprima la documentación del comentario en esa función\n",
    "\n",
    "print(areaTriangulo(2,7))\n",
    "\n",
    "print(\"\\n\\n\")\n",
    "help(areaCuadrado)\n",
    "help(areaTriangulo)\n",
    "\n",
    "\n"
   ]
  },
  {
   "cell_type": "code",
   "execution_count": 39,
   "id": "244149b9",
   "metadata": {},
   "outputs": [
    {
     "name": "stdout",
     "output_type": "stream",
     "text": [
      "El área del cuadrado es: 9\n",
      "Calcula el área de un cuadrado\n",
      "         elevando al cuadrado el lado pasado por parámetro\n",
      "El área del triángulo es: 7.0\n",
      "\n",
      "\n",
      "\n",
      "Help on function areaCuadrado in module __main__:\n",
      "\n",
      "areaCuadrado(lado)\n",
      "    Calcula el área de un cuadrado\n",
      "    elevando al cuadrado el lado pasado por parámetro\n",
      "\n",
      "Help on function areaTriangulo in module __main__:\n",
      "\n",
      "areaTriangulo(base, altura)\n",
      "    Calcula el área de un triángulo utilizando los parámetros base y altura\n",
      "\n",
      "\n",
      "-----------------\n",
      "\n",
      "Help on class Areas in module __main__:\n",
      "\n",
      "class Areas(builtins.object)\n",
      " |  Esta clase calcula las áreas de diferentes figuras geométricas\n",
      " |  \n",
      " |  Methods defined here:\n",
      " |  \n",
      " |  areaCuadrado(lado)\n",
      " |      Calcula el área de un cuadrado\n",
      " |      elevando al cuadrado el lado pasado por parámetro\n",
      " |  \n",
      " |  areaTriangulo(base, altura)\n",
      " |      Calcula el área de un triángulo utilizando los parámetros base y altura\n",
      " |  \n",
      " |  ----------------------------------------------------------------------\n",
      " |  Data descriptors defined here:\n",
      " |  \n",
      " |  __dict__\n",
      " |      dictionary for instance variables (if defined)\n",
      " |  \n",
      " |  __weakref__\n",
      " |      list of weak references to the object (if defined)\n",
      "\n"
     ]
    }
   ],
   "source": [
    "class Areas:\n",
    "    \n",
    "    \"\"\"Esta clase calcula las áreas de diferentes figuras geométricas\"\"\"\n",
    "\n",
    "    def areaCuadrado(lado):\n",
    "        \n",
    "         \"\"\"Calcula el área de un cuadrado\n",
    "         elevando al cuadrado el lado pasado por parámetro\"\"\"\n",
    "        \n",
    "         return \"El área del cuadrado es: \" + str(lado*lado)\n",
    "\n",
    "    def areaTriangulo(base,altura):\n",
    "        \n",
    "        \"\"\"Calcula el área de un triángulo utilizando los parámetros base y altura\"\"\"\n",
    "        \n",
    "        return \"El área del triángulo es: \" + str((base*altura)/2)\n",
    "\n",
    "    print(areaCuadrado(3))\n",
    "    print(areaCuadrado.__doc__)      #--------> le estamos diciendo que imprima la documentación del comentario en esa función\n",
    "\n",
    "    print(areaTriangulo(2,7))\n",
    "\n",
    "    print(\"\\n\\n\")\n",
    "help(Areas.areaCuadrado)\n",
    "help(Areas.areaTriangulo)\n",
    "\n",
    "print(\"\\n-----------------\\n\")\n",
    "\n",
    "help(Areas)\n"
   ]
  }
 ],
 "metadata": {
  "kernelspec": {
   "display_name": "Python 3 (ipykernel)",
   "language": "python",
   "name": "python3"
  },
  "language_info": {
   "codemirror_mode": {
    "name": "ipython",
    "version": 3
   },
   "file_extension": ".py",
   "mimetype": "text/x-python",
   "name": "python",
   "nbconvert_exporter": "python",
   "pygments_lexer": "ipython3",
   "version": "3.11.3"
  }
 },
 "nbformat": 4,
 "nbformat_minor": 5
}
