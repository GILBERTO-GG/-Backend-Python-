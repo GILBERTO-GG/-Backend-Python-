{
 "cells": [
  {
   "cell_type": "code",
   "execution_count": 5,
   "id": "0a6906b7",
   "metadata": {},
   "outputs": [],
   "source": [
    "from tkinter import *\n",
    "\n",
    "root=Tk()\n",
    "\n",
    "varOpcion=IntVar()\n",
    "\n",
    "def imprimir():\n",
    "    \n",
    "    #print(varOpcion.get())\n",
    "    \n",
    "    if varOpcion.get()==1:\n",
    "        \n",
    "        etiqueta.config(text=\"Has elegido masculino\")\n",
    "    \n",
    "    else:\n",
    "        \n",
    "        etiqueta.config(text=\"Has elegido femenino\")\n",
    "    \n",
    "    \n",
    "Label(root, text=\"Género: \").pack()\n",
    "\n",
    "Radiobutton(root, text=\"Masculino\", variable=varOpcion, value=1, command=imprimir).pack()\n",
    "\n",
    "Radiobutton(root, text=\"Femenino\", variable=varOpcion, value=2, command=imprimir).pack()\n",
    "\n",
    "\n",
    "etiqueta=Label(root)\n",
    "etiqueta.pack()\n",
    "\n",
    "\n",
    "root.mainloop()"
   ]
  }
 ],
 "metadata": {
  "kernelspec": {
   "display_name": "Python 3 (ipykernel)",
   "language": "python",
   "name": "python3"
  },
  "language_info": {
   "codemirror_mode": {
    "name": "ipython",
    "version": 3
   },
   "file_extension": ".py",
   "mimetype": "text/x-python",
   "name": "python",
   "nbconvert_exporter": "python",
   "pygments_lexer": "ipython3",
   "version": "3.11.3"
  }
 },
 "nbformat": 4,
 "nbformat_minor": 5
}
