{
 "cells": [
  {
   "cell_type": "code",
   "execution_count": 20,
   "id": "8cc1e7a4",
   "metadata": {},
   "outputs": [
    {
     "name": "stdout",
     "output_type": "stream",
     "text": [
      "[('BALÓN', 15, 'DEPORTES')]\n"
     ]
    }
   ],
   "source": [
    "import sqlite3\n",
    "\n",
    "miConexion=sqlite3.connect(\"PrimeraBase\")\n",
    "\n",
    "\n",
    "miCursor=miConexion.cursor()                                       #creamos el cursor\n",
    "\n",
    "#miCursor.execute(\"CREATE TABLE PRODUCTOS (NOMBRE_ARTICULO VARCHAR(50), PRECIO INTEGER, SECCION VARCHAR (20))\")\n",
    "\n",
    "#miCursor.execute(\"INSERT INTO PRODUCTOS VALUES('BALÓN', 15, 'DEPORTES')\")\n",
    "\n",
    "# miConexion.commit()                ------->     # confirma los cambios hechos en la tabla\n",
    "\n",
    "\n",
    "\n",
    "#variosProductos=[       \n",
    "\n",
    "  # (\"Camiseta\", 10, \"Deportes\"),\n",
    "  # (\"Jarrón\", 90, \"Cerámica\"),\n",
    "   #(\"Camión\", 20, \"Juguetería\")\n",
    "\n",
    "\n",
    "#]\n",
    "\n",
    "miCursor.execute(\"SELECT * FROM PRODUCTOS\")\n",
    "variosProductos=miCursor.fetchall()\n",
    "print(variosProductos)\n",
    "\n",
    "\n",
    "\n",
    "#miCursor.executemany(\"INSERT INTO PRODUCTOS VALUES(?,?,?)\", variosProductos)\n",
    "\n",
    "\n",
    "\n",
    "\n",
    "\n",
    "miConexion.close()"
   ]
  }
 ],
 "metadata": {
  "kernelspec": {
   "display_name": "Python 3 (ipykernel)",
   "language": "python",
   "name": "python3"
  },
  "language_info": {
   "codemirror_mode": {
    "name": "ipython",
    "version": 3
   },
   "file_extension": ".py",
   "mimetype": "text/x-python",
   "name": "python",
   "nbconvert_exporter": "python",
   "pygments_lexer": "ipython3",
   "version": "3.11.3"
  }
 },
 "nbformat": 4,
 "nbformat_minor": 5
}
