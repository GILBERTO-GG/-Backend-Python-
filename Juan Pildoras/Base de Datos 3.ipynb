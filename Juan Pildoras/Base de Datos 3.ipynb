{
 "cells": [
  {
   "cell_type": "code",
   "execution_count": 1,
   "id": "c55ad349",
   "metadata": {},
   "outputs": [
    {
     "ename": "OperationalError",
     "evalue": "table PRODUCTOS has 3 columns but 4 values were supplied",
     "output_type": "error",
     "traceback": [
      "\u001b[1;31m---------------------------------------------------------------------------\u001b[0m",
      "\u001b[1;31mOperationalError\u001b[0m                          Traceback (most recent call last)",
      "Cell \u001b[1;32mIn[1], line 28\u001b[0m\n\u001b[0;32m      9\u001b[0m miCursor\u001b[38;5;241m.\u001b[39mexecute(\u001b[38;5;124m'''\u001b[39m\n\u001b[0;32m     10\u001b[0m \u001b[38;5;124m    CREATE TABLE PRODUCTOS (\u001b[39m\n\u001b[0;32m     11\u001b[0m \u001b[38;5;124m    CODIGO_ARTICULO VARCHAR(4) PRIMARY KEY,\u001b[39m\n\u001b[1;32m   (...)\u001b[0m\n\u001b[0;32m     14\u001b[0m \u001b[38;5;124m    SECCION VARCHAR(20))\u001b[39m\n\u001b[0;32m     15\u001b[0m \u001b[38;5;124m'''\u001b[39m)\n\u001b[0;32m     18\u001b[0m productos\u001b[38;5;241m=\u001b[39m[\n\u001b[0;32m     19\u001b[0m     \n\u001b[0;32m     20\u001b[0m     (\u001b[38;5;124m\"\u001b[39m\u001b[38;5;124mAR01\u001b[39m\u001b[38;5;124m\"\u001b[39m, \u001b[38;5;124m\"\u001b[39m\u001b[38;5;124mpelota\u001b[39m\u001b[38;5;124m\"\u001b[39m, \u001b[38;5;241m20\u001b[39m, \u001b[38;5;124m\"\u001b[39m\u001b[38;5;124mjuguetería\u001b[39m\u001b[38;5;124m\"\u001b[39m),\n\u001b[1;32m   (...)\u001b[0m\n\u001b[0;32m     24\u001b[0m     \n\u001b[0;32m     25\u001b[0m ]\n\u001b[1;32m---> 28\u001b[0m \u001b[43mmiCursor\u001b[49m\u001b[38;5;241;43m.\u001b[39;49m\u001b[43mexecutemany\u001b[49m\u001b[43m(\u001b[49m\u001b[38;5;124;43m\"\u001b[39;49m\u001b[38;5;124;43mINSERT INTO PRODUCTOS VALUES (?,?,?,?)\u001b[39;49m\u001b[38;5;124;43m\"\u001b[39;49m\u001b[43m,\u001b[49m\u001b[43m \u001b[49m\u001b[43mproductos\u001b[49m\u001b[43m)\u001b[49m\n\u001b[0;32m     31\u001b[0m miConexion\u001b[38;5;241m.\u001b[39mcommit()\n\u001b[0;32m     33\u001b[0m miConexion\u001b[38;5;241m.\u001b[39mclose()\n",
      "\u001b[1;31mOperationalError\u001b[0m: table PRODUCTOS has 3 columns but 4 values were supplied"
     ]
    }
   ],
   "source": [
    "import sqlite3\n",
    "\n",
    "miConexion=sqlite3.connect(\"GestionProductos\")\n",
    "\n",
    "miCursor=miConexion.cursor()\n",
    "\n",
    "\n",
    "\n",
    "miCursor.execute('''\n",
    "    CREATE TABLE PRODUCTOS (\n",
    "    CODIGO_ARTICULO VARCHAR(4) PRIMARY KEY,\n",
    "    NOMBRE_ARTICULO VARCHAR(50),\n",
    "    PRECIO INTEGER\n",
    "    SECCION VARCHAR(20))\n",
    "''')\n",
    "\n",
    "\n",
    "productos=[\n",
    "    \n",
    "    (\"AR01\", \"pelota\", 20, \"juguetería\"),\n",
    "    (\"AR02\", \"pantalón\", 15, \"confeción\"),\n",
    "    (\"AR03\", \"destornillador\", 25, \"ferretería\"),\n",
    "    (\"AR04\", \"jarrón\", 45, \"cerámica\"),\n",
    "    \n",
    "]\n",
    "\n",
    "\n",
    "miCursor.executemany(\"INSERT INTO PRODUCTOS VALUES (?,?,?,?)\", productos)\n",
    "\n",
    "\n",
    "miConexion.commit()\n",
    "\n",
    "miConexion.close()"
   ]
  }
 ],
 "metadata": {
  "kernelspec": {
   "display_name": "Python 3 (ipykernel)",
   "language": "python",
   "name": "python3"
  },
  "language_info": {
   "codemirror_mode": {
    "name": "ipython",
    "version": 3
   },
   "file_extension": ".py",
   "mimetype": "text/x-python",
   "name": "python",
   "nbconvert_exporter": "python",
   "pygments_lexer": "ipython3",
   "version": "3.11.3"
  }
 },
 "nbformat": 4,
 "nbformat_minor": 5
}
