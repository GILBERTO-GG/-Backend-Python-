{
 "cells": [
  {
   "cell_type": "code",
   "execution_count": null,
   "id": "ce1d9d2e",
   "metadata": {},
   "outputs": [],
   "source": [
    "from tkinter import *\n",
    "\n",
    "raiz = Tk()\n",
    "\n",
    "raiz.title(\"Ventana de pruebas\")                           #da título a la ventana\n",
    "\n",
    "#raiz.resizable(1,0) o tambien (True,False)               # width and height (no permite redimensionar la ventana)\n",
    "\n",
    "#  raiz.iconbitmap(\"gato.ico\")     -----------> cambia la imágen por defecto que nos dá la ventana\n",
    "\n",
    "#raiz.geometry(\"650x350\")                       # cambia las dimensiones de mi ventana\n",
    "\n",
    "raiz.config(bg=\"blue\")                        # cambia el color de la ventana \n",
    "\n",
    "miFrame = Frame()                             # construimos un frame\n",
    "\n",
    "miFrame.pack(side=\"right\")                             # empaquetamos el frame , side indica la posicion del frame\n",
    "\n",
    "miFrame.config(bg=\"red\")                   # da color al frame\n",
    "\n",
    "miFrame.config(width=\"650\", height=\"350\")    # da tamaño al frame\n",
    "\n",
    "miFrame.config(bd=35)\n",
    "\n",
    "miFrame.config(relief= \"groove\")             # da borde al frame\n",
    "\n",
    "miFrame.config(cursor=\"hand2\")              # cambia la apariencia del cursor\n",
    "\n",
    "raiz.mainloop()                          # este método tiene que estar siempre al final"
   ]
  },
  {
   "cell_type": "code",
   "execution_count": null,
   "id": "5d856215",
   "metadata": {},
   "outputs": [],
   "source": []
  }
 ],
 "metadata": {
  "kernelspec": {
   "display_name": "Python 3 (ipykernel)",
   "language": "python",
   "name": "python3"
  },
  "language_info": {
   "codemirror_mode": {
    "name": "ipython",
    "version": 3
   },
   "file_extension": ".py",
   "mimetype": "text/x-python",
   "name": "python",
   "nbconvert_exporter": "python",
   "pygments_lexer": "ipython3",
   "version": "3.11.3"
  }
 },
 "nbformat": 4,
 "nbformat_minor": 5
}
