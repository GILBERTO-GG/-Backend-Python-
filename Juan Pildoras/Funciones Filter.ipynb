{
 "cells": [
  {
   "cell_type": "markdown",
   "id": "b91e30a4",
   "metadata": {},
   "source": [
    "# Función Filter"
   ]
  },
  {
   "cell_type": "code",
   "execution_count": null,
   "id": "6d92e656",
   "metadata": {},
   "outputs": [],
   "source": [
    "--Verifica que los elementos de una secuencia cumplen una condición, devolviendo un iterador con los elementos que cumplen \n",
    "  dicha condición."
   ]
  },
  {
   "cell_type": "code",
   "execution_count": null,
   "id": "2f358e2b",
   "metadata": {},
   "outputs": [],
   "source": [
    "# que números son pares y cuales no lo son"
   ]
  },
  {
   "cell_type": "code",
   "execution_count": 3,
   "id": "c1740b34",
   "metadata": {},
   "outputs": [
    {
     "name": "stdout",
     "output_type": "stream",
     "text": [
      "[24, 8, 92]\n"
     ]
    }
   ],
   "source": [
    "def numero_par(num):\n",
    "    \n",
    "    if num % 2 == 0:\n",
    "        \n",
    "        return True\n",
    "    \n",
    "    \n",
    "numeros = [17,24,7,39,8,51,92]    \n",
    "\n",
    "print(list(filter(numero_par, numeros)))"
   ]
  },
  {
   "cell_type": "code",
   "execution_count": 4,
   "id": "99313323",
   "metadata": {},
   "outputs": [
    {
     "name": "stdout",
     "output_type": "stream",
     "text": [
      "[24, 8, 92]\n"
     ]
    }
   ],
   "source": [
    "numeros = [17,24,7,39,8,51,92]    \n",
    "\n",
    "print(list(filter(lambda numero_par: numero_par % 2 ==0, numeros)))"
   ]
  },
  {
   "cell_type": "code",
   "execution_count": 6,
   "id": "2f238d79",
   "metadata": {},
   "outputs": [
    {
     "name": "stdout",
     "output_type": "stream",
     "text": [
      "Juan que trabaja como Director tiene un salario de 750000 €\n",
      "Rodrigo que trabaja como Gerente tiene un salario de 850000 €\n"
     ]
    }
   ],
   "source": [
    "class Empleado:\n",
    "    \n",
    "    def __init__(self, nombre, cargo, salario):\n",
    "        \n",
    "        self.nombre=nombre\n",
    "        \n",
    "        self.cargo=cargo\n",
    "        \n",
    "        self.salario=salario\n",
    "        \n",
    "    def __str__(self):\n",
    "        \n",
    "        return\"{} que trabaja como {} tiene un salario de {} €\".format(self.nombre, self.cargo, self.salario)\n",
    "    \n",
    "    \n",
    "    \n",
    "listaEmpleados = [\n",
    "    \n",
    "    Empleado(\"Juan\", \"Director\", 750000), \n",
    "    \n",
    "    Empleado(\"Rodrigo\", \"Gerente\", 850000),\n",
    "    \n",
    "    Empleado(\"Tadeo\", \"Médico\", 25000),\n",
    "    \n",
    "    Empleado(\"María Guadalupe\", \"Jefa\", 27000),\n",
    "    \n",
    "    Empleado(\"Javier\", \"Asociado\", 21000),\n",
    "]    \n",
    "  \n",
    "    \n",
    "salarios_altos=filter(lambda empleado: empleado.salario > 50000, listaEmpleados)\n",
    "\n",
    "for empleado_salario in salarios_altos:\n",
    "    \n",
    "    print(empleado_salario)\n",
    "    \n",
    "    "
   ]
  }
 ],
 "metadata": {
  "kernelspec": {
   "display_name": "Python 3 (ipykernel)",
   "language": "python",
   "name": "python3"
  },
  "language_info": {
   "codemirror_mode": {
    "name": "ipython",
    "version": 3
   },
   "file_extension": ".py",
   "mimetype": "text/x-python",
   "name": "python",
   "nbconvert_exporter": "python",
   "pygments_lexer": "ipython3",
   "version": "3.11.3"
  }
 },
 "nbformat": 4,
 "nbformat_minor": 5
}
