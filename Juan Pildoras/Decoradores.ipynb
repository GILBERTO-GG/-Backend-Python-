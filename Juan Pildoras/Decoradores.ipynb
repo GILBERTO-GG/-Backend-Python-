{
 "cells": [
  {
   "cell_type": "markdown",
   "id": "0582300d",
   "metadata": {},
   "source": [
    "# Decoradores ¿Qué son?"
   ]
  },
  {
   "cell_type": "code",
   "execution_count": null,
   "id": "fcb12ab7",
   "metadata": {},
   "outputs": [],
   "source": [
    "--Funciones que a su vez añaden funcionalidades a otras funciones.\n",
    "--Por eso se les denomina \"decoradores\", por que decoran a otras funciones. Les añaden funcionalidades."
   ]
  },
  {
   "cell_type": "markdown",
   "id": "14aef96b",
   "metadata": {},
   "source": [
    "# Estructura de un decorador."
   ]
  },
  {
   "cell_type": "code",
   "execution_count": null,
   "id": "2c962423",
   "metadata": {},
   "outputs": [],
   "source": [
    "--3 funciones (A,B y C) donde A recibe como parámetro  a B para devolver C.\n",
    "--Un decorador devuelve una función."
   ]
  },
  {
   "cell_type": "code",
   "execution_count": 5,
   "id": "ca262715",
   "metadata": {},
   "outputs": [
    {
     "name": "stdout",
     "output_type": "stream",
     "text": [
      "Vamos a realizar un cálculo: \n",
      "35\n",
      "Hemos terminado el cálculo\n",
      "Vamos a realizar un cálculo: \n",
      "20\n",
      "Hemos terminado el cálculo\n"
     ]
    }
   ],
   "source": [
    "def funcion_decoradora(funcion_parametro):\n",
    "\n",
    "    def funcion_interior():\n",
    "        \n",
    "        # Acciones adicionales que decoran\n",
    "        \n",
    "        print(\"Vamos a realizar un cálculo: \")\n",
    "\n",
    "        funcion_parametro()\n",
    "        \n",
    "        #  Acciones adicionales que decoran\n",
    "        \n",
    "        print(\"Hemos terminado el cálculo\")\n",
    "\n",
    "    return funcion_interior\n",
    "        \n",
    "        \n",
    "\n",
    "        \n",
    "\n",
    "\n",
    "\n",
    "@funcion_decoradora\n",
    "def suma():\n",
    "    print(15+20)\n",
    "    \n",
    "\n",
    "@funcion_decoradora\n",
    "def resta():\n",
    "    print(30-10)\n",
    "    \n",
    "suma()\n",
    "\n",
    "resta()\n",
    "    "
   ]
  },
  {
   "cell_type": "markdown",
   "id": "8b789809",
   "metadata": {},
   "source": [
    "# Decoradores con parámetros"
   ]
  },
  {
   "cell_type": "code",
   "execution_count": 7,
   "id": "ed0b41e3",
   "metadata": {},
   "outputs": [
    {
     "name": "stdout",
     "output_type": "stream",
     "text": [
      "Vamos a realizar un cálculo: \n",
      "20\n",
      "Hemos terminado el cálculo\n",
      "Vamos a realizar un cálculo: \n",
      "2\n",
      "Hemos terminado el cálculo\n"
     ]
    }
   ],
   "source": [
    "def funcion_decoradora(funcion_parametro):\n",
    "\n",
    "    def funcion_interior(*args):                     # *args con esto le decimos a una función en Python que \n",
    "        #                                                puede recibir un número indeterminado de parámetros\n",
    "        \n",
    "        # Acciones adicionales que decoran\n",
    "        \n",
    "        print(\"Vamos a realizar un cálculo: \")\n",
    "\n",
    "        funcion_parametro(*args)\n",
    "        \n",
    "        #  Acciones adicionales que decoran\n",
    "        \n",
    "        print(\"Hemos terminado el cálculo\")\n",
    "\n",
    "    return funcion_interior\n",
    "        \n",
    "        \n",
    "\n",
    "        \n",
    "\n",
    "\n",
    "\n",
    "@funcion_decoradora\n",
    "def suma(num1, num2, num3):\n",
    "    print(num1 + num2 + num3)\n",
    "    \n",
    "\n",
    "@funcion_decoradora\n",
    "def resta(num1, num2):\n",
    "    print(num1 - num2)\n",
    "    \n",
    "suma(7,5, 8)\n",
    "\n",
    "resta(12, 10)"
   ]
  },
  {
   "cell_type": "code",
   "execution_count": 11,
   "id": "77252d0c",
   "metadata": {},
   "outputs": [
    {
     "name": "stdout",
     "output_type": "stream",
     "text": [
      "Vamos a realizar un cálculo: \n",
      "20\n",
      "Hemos terminado el cálculo\n",
      "Vamos a realizar un cálculo: \n",
      "2\n",
      "Hemos terminado el cálculo\n",
      "Vamos a realizar un cálculo: \n",
      "125\n",
      "Hemos terminado el cálculo\n"
     ]
    }
   ],
   "source": [
    "def funcion_decoradora(funcion_parametro):\n",
    "\n",
    "    def funcion_interior(*args, **kwargs):      #   argumentos con keywords o con clave valor             \n",
    "        #                                       #         \n",
    "        \n",
    "        # Acciones adicionales que decoran\n",
    "        \n",
    "        print(\"Vamos a realizar un cálculo: \")\n",
    "\n",
    "        funcion_parametro(*args, **kwargs)\n",
    "        \n",
    "        #  Acciones adicionales que decoran\n",
    "        \n",
    "        print(\"Hemos terminado el cálculo\")\n",
    "\n",
    "    return funcion_interior\n",
    "        \n",
    "        \n",
    "\n",
    "        \n",
    "\n",
    "\n",
    "\n",
    "@funcion_decoradora\n",
    "def suma(num1, num2, num3):\n",
    "    print(num1 + num2 + num3)\n",
    "    \n",
    "\n",
    "@funcion_decoradora\n",
    "def resta(num1, num2):\n",
    "    print(num1 - num2)\n",
    "    \n",
    "\n",
    "@funcion_decoradora    \n",
    "def potencia(base, exponente):    \n",
    "   \n",
    "    print(pow(base, exponente))\n",
    "\n",
    "\n",
    "\n",
    "\n",
    "    \n",
    "suma(7,5, 8)\n",
    "\n",
    "resta(12, 10)\n",
    "\n",
    "potencia(5,3)"
   ]
  }
 ],
 "metadata": {
  "kernelspec": {
   "display_name": "Python 3 (ipykernel)",
   "language": "python",
   "name": "python3"
  },
  "language_info": {
   "codemirror_mode": {
    "name": "ipython",
    "version": 3
   },
   "file_extension": ".py",
   "mimetype": "text/x-python",
   "name": "python",
   "nbconvert_exporter": "python",
   "pygments_lexer": "ipython3",
   "version": "3.11.3"
  }
 },
 "nbformat": 4,
 "nbformat_minor": 5
}
