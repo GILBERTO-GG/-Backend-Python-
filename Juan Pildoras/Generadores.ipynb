{
 "cells": [
  {
   "cell_type": "markdown",
   "id": "622d5a16",
   "metadata": {},
   "source": [
    "# GENERADORES \n",
    "--Son estructuras que extraen valores de una función y se almacenan en objetos iterables (que se pueden recorrer).\n",
    "\n",
    "--Estos valores se almacenan de uno en uno.\n",
    "\n",
    "--Cada vez que un generador almacena un valor, ésta permanece en un estado pausado hasta que se solicita el siguiente. Esta característica es conocida como \"Suspensión de estado\"."
   ]
  },
  {
   "cell_type": "code",
   "execution_count": 1,
   "id": "1fe16556",
   "metadata": {},
   "outputs": [
    {
     "name": "stdout",
     "output_type": "stream",
     "text": [
      "[2, 4, 6, 8, 10, 12, 14, 16, 18]\n"
     ]
    }
   ],
   "source": [
    "def generaPares(limite):                       #limita los numeros pares que va a generar la función\n",
    "    \n",
    "    num = 1\n",
    "    \n",
    "    miLista=[]\n",
    "    \n",
    "    while num < limite:\n",
    "        \n",
    "        miLista.append(num * 2)\n",
    "        \n",
    "        num = num + 1\n",
    "        \n",
    "    return miLista\n",
    "\n",
    "print(generaPares(10))       \n",
    "    "
   ]
  },
  {
   "cell_type": "code",
   "execution_count": 3,
   "id": "f11d89dd",
   "metadata": {},
   "outputs": [
    {
     "name": "stdout",
     "output_type": "stream",
     "text": [
      "2\n",
      "4\n",
      "6\n",
      "8\n",
      "10\n",
      "12\n",
      "14\n",
      "16\n",
      "18\n"
     ]
    }
   ],
   "source": [
    "def generaPares(limite):                      \n",
    "    \n",
    "    num = 1\n",
    "    \n",
    "    while num < limite:\n",
    "        \n",
    "        yield num * 2\n",
    "        \n",
    "        num = num + 1\n",
    "        \n",
    "devuelvePares = generaPares(10)    \n",
    "\n",
    "for i in devuelvePares: \n",
    "    \n",
    "    print(i)"
   ]
  },
  {
   "cell_type": "code",
   "execution_count": 4,
   "id": "f8ce7742",
   "metadata": {},
   "outputs": [
    {
     "name": "stdout",
     "output_type": "stream",
     "text": [
      "2\n",
      "Aquí podría ir más código....\n",
      "4\n",
      "Aquí podría ir más código....\n",
      "6\n"
     ]
    }
   ],
   "source": [
    "def generaPares(limite):                      \n",
    "    \n",
    "    num = 1\n",
    "    \n",
    "    while num < limite:\n",
    "        \n",
    "        yield num * 2\n",
    "        \n",
    "        num = num + 1\n",
    "        \n",
    "devuelvePares = generaPares(10)  \n",
    "\n",
    "\n",
    "print(next(devuelvePares))\n",
    "\n",
    "print(\"Aquí podría ir más código....\")\n",
    "\n",
    "print(next(devuelvePares))\n",
    "\n",
    "print(\"Aquí podría ir más código....\")\n",
    "\n",
    "print(next(devuelvePares))"
   ]
  },
  {
   "cell_type": "markdown",
   "id": "b2e0ecd2",
   "metadata": {},
   "source": [
    "# Yield from\n",
    "Simplifica el código de los generadores en el caso de utilizar bucles anidados."
   ]
  },
  {
   "cell_type": "code",
   "execution_count": 9,
   "id": "a9b0fa6b",
   "metadata": {},
   "outputs": [
    {
     "name": "stdout",
     "output_type": "stream",
     "text": [
      "Madrid\n",
      "Barcelona\n"
     ]
    }
   ],
   "source": [
    "def devuelveCiudades(*ciudades):                  # * indica que va a recibir un número indeterminado de elementos\n",
    "                                                  #   y los va a recibir en forma de tupla\n",
    "    for elemento in ciudades:\n",
    "        \n",
    "        yield elemento\n",
    "        \n",
    "ciudades_devueltas = devuelveCiudades(\"Madrid\", \"Barcelona\", \"Cordoba\", \"Mexico\")\n",
    "\n",
    "print(next(ciudades_devueltas))\n",
    "\n",
    "print(next(ciudades_devueltas))"
   ]
  },
  {
   "cell_type": "code",
   "execution_count": 11,
   "id": "d579149c",
   "metadata": {},
   "outputs": [
    {
     "name": "stdout",
     "output_type": "stream",
     "text": [
      "M\n",
      "a\n"
     ]
    }
   ],
   "source": [
    "def devuelveCiudades(*ciudades):                  \n",
    "                                                 \n",
    "    for elemento in ciudades:\n",
    "        \n",
    "        for subElemento in elemento:\n",
    "        \n",
    "             yield subElemento\n",
    "        \n",
    "ciudades_devueltas = devuelveCiudades(\"Madrid\", \"Barcelona\", \"Cordoba\", \"Mexico\")\n",
    "\n",
    "print(next(ciudades_devueltas))\n",
    "\n",
    "print(next(ciudades_devueltas))"
   ]
  },
  {
   "cell_type": "code",
   "execution_count": 12,
   "id": "f5bc377c",
   "metadata": {},
   "outputs": [
    {
     "name": "stdout",
     "output_type": "stream",
     "text": [
      "M\n",
      "a\n"
     ]
    }
   ],
   "source": [
    "def devuelveCiudades(*ciudades):                  \n",
    "                                                 \n",
    "    for elemento in ciudades:\n",
    "        \n",
    "       # for subElemento in elemento:\n",
    "        \n",
    "             yield from elemento                      #    <---------------------------------------------------\n",
    "        \n",
    "ciudades_devueltas = devuelveCiudades(\"Madrid\", \"Barcelona\", \"Cordoba\", \"Mexico\")\n",
    "\n",
    "print(next(ciudades_devueltas))\n",
    "\n",
    "print(next(ciudades_devueltas))"
   ]
  }
 ],
 "metadata": {
  "kernelspec": {
   "display_name": "Python 3 (ipykernel)",
   "language": "python",
   "name": "python3"
  },
  "language_info": {
   "codemirror_mode": {
    "name": "ipython",
    "version": 3
   },
   "file_extension": ".py",
   "mimetype": "text/x-python",
   "name": "python",
   "nbconvert_exporter": "python",
   "pygments_lexer": "ipython3",
   "version": "3.11.3"
  }
 },
 "nbformat": 4,
 "nbformat_minor": 5
}
