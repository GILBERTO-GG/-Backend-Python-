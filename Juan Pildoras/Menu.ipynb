{
 "cells": [
  {
   "cell_type": "code",
   "execution_count": 13,
   "id": "1403591b",
   "metadata": {},
   "outputs": [],
   "source": [
    "from tkinter import *\n",
    "\n",
    "root=Tk()\n",
    "\n",
    "\n",
    "barraMenu=Menu(root)\n",
    "root.config(menu=barraMenu, width=300, height=300)\n",
    "\n",
    "archivoMenu=Menu(barraMenu, tearoff=0)\n",
    "archivoMenu.add_command(label=\"Nuevo\")\n",
    "archivoMenu.add_command(label=\"Guardar\")\n",
    "archivoMenu.add_command(label=\"Guardar como\")\n",
    "archivoMenu.add_separator()\n",
    "archivoMenu.add_command(label=\"Cerrar\")\n",
    "archivoMenu.add_command(label=\"Salir\")\n",
    "\n",
    "\n",
    "archivoEdicion=Menu(barraMenu, tearoff=0)\n",
    "archivoEdicion.add_command(label=\"Copiar\")\n",
    "archivoEdicion.add_command(label=\"Cortar\")\n",
    "archivoEdicion.add_command(label=\"Pegar\")\n",
    "\n",
    "\n",
    "\n",
    "archivoHerramientas=Menu(barraMenu)\n",
    "\n",
    "archivoAyuda=Menu(barraMenu, tearoff=0)\n",
    "archivoAyuda.add_command(label=\"Licencia\")\n",
    "archivoAyuda.add_command(label=\"Acerca de..\")\n",
    "\n",
    "\n",
    "\n",
    "barraMenu.add_cascade(label=\"Archivo\", menu=archivoMenu)\n",
    "\n",
    "barraMenu.add_cascade(label=\"Edicion\", menu=archivoEdicion)\n",
    "\n",
    "barraMenu.add_cascade(label=\"Herramientas\", menu=archivoHerramientas)\n",
    "\n",
    "barraMenu.add_cascade(label=\"Ayuda\", menu=archivoAyuda)\n",
    "\n",
    "\n",
    "\n",
    "\n",
    "\n",
    "root.mainloop()"
   ]
  }
 ],
 "metadata": {
  "kernelspec": {
   "display_name": "Python 3 (ipykernel)",
   "language": "python",
   "name": "python3"
  },
  "language_info": {
   "codemirror_mode": {
    "name": "ipython",
    "version": 3
   },
   "file_extension": ".py",
   "mimetype": "text/x-python",
   "name": "python",
   "nbconvert_exporter": "python",
   "pygments_lexer": "ipython3",
   "version": "3.11.3"
  }
 },
 "nbformat": 4,
 "nbformat_minor": 5
}
