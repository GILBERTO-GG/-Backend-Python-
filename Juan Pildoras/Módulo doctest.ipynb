{
 "cells": [
  {
   "cell_type": "code",
   "execution_count": 3,
   "id": "2d078975",
   "metadata": {},
   "outputs": [
    {
     "data": {
      "text/plain": [
       "TestResults(failed=0, attempted=3)"
      ]
     },
     "execution_count": 3,
     "metadata": {},
     "output_type": "execute_result"
    }
   ],
   "source": [
    "import math\n",
    "\n",
    "def raizCuadrada(listaNumeros):\n",
    "    \n",
    "    \"\"\"\n",
    "    La función devuelve una lista con la\n",
    "    raíz cuadrada de los elementos numéricos\n",
    "    pasados por parámetros en otra lista\n",
    "    \n",
    "    \n",
    "    >>> lista=[]\n",
    "    \n",
    "    >>> for i in [4, 9, 16]:\n",
    "    ...     lista.append(i)\n",
    "    >>> raizCuadrada(lista)\n",
    "    [2.0, 3.0, 4.0]\n",
    "    \n",
    "    \"\"\"\n",
    "    \n",
    "    \n",
    "    return [math.sqrt(n)  for n in listaNumeros] \n",
    "\n",
    "#print(raizCuadrada([9, 16, 25, 36]))\n",
    "\n",
    "import doctest\n",
    "doctest.testmod()"
   ]
  }
 ],
 "metadata": {
  "kernelspec": {
   "display_name": "Python 3 (ipykernel)",
   "language": "python",
   "name": "python3"
  },
  "language_info": {
   "codemirror_mode": {
    "name": "ipython",
    "version": 3
   },
   "file_extension": ".py",
   "mimetype": "text/x-python",
   "name": "python",
   "nbconvert_exporter": "python",
   "pygments_lexer": "ipython3",
   "version": "3.11.3"
  }
 },
 "nbformat": 4,
 "nbformat_minor": 5
}
