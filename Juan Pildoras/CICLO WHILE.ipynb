{
 "cells": [
  {
   "cell_type": "code",
   "execution_count": 1,
   "id": "9db60e92",
   "metadata": {},
   "outputs": [
    {
     "name": "stdout",
     "output_type": "stream",
     "text": [
      "Ejecución 1\n",
      "Ejecución 2\n",
      "Ejecución 3\n",
      "Ejecución 4\n",
      "Ejecución 5\n",
      "Ejecución 6\n",
      "Ejecución 7\n",
      "Ejecución 8\n",
      "Ejecución 9\n",
      "Ejecución 10\n",
      "Terminó la ejecución\n"
     ]
    }
   ],
   "source": [
    "i=1\n",
    "\n",
    "while i <= 10:                                    # el ciclo se ejecutará 10 veces.\n",
    "    \n",
    "    print(\"Ejecución \" + str(i))\n",
    "    i = i + 1\n",
    "print(\"Terminó la ejecución\")    "
   ]
  },
  {
   "cell_type": "code",
   "execution_count": 3,
   "id": "29ce3b50",
   "metadata": {},
   "outputs": [
    {
     "name": "stdout",
     "output_type": "stream",
     "text": [
      "introduce la edad por favor: -3\n",
      "Has introducido una edad negativa. Vuelve a intentarlo\n",
      "introduce la edad por favor: 39\n",
      "Gracias por colaborar. Puedes pasar\n",
      "Edad del aspirante: 39\n"
     ]
    }
   ],
   "source": [
    "edad = int(input(\"introduce la edad por favor: \"))\n",
    "\n",
    "while edad<0:\n",
    "    print(\"Has introducido una edad negativa. Vuelve a intentarlo\")\n",
    "    edad = int(input(\"introduce la edad por favor: \"))\n",
    "    \n",
    "print(\"Gracias por colaborar. Puedes pasar\") \n",
    "print(\"Edad del aspirante: \" + str(edad))\n",
    "\n"
   ]
  },
  {
   "cell_type": "code",
   "execution_count": 6,
   "id": "d860ab76",
   "metadata": {},
   "outputs": [
    {
     "name": "stdout",
     "output_type": "stream",
     "text": [
      "Programa de cálculo de raíz cuadrada\n",
      "Introduce un número por favor:  -7\n",
      "No se puede hallar la raíz de un número negativo\n",
      "Introduce un número por favor:  -9\n",
      "No se puede hallar la raíz de un número negativo\n",
      "Introduce un número por favor:  -1\n",
      "No se puede hallar la raíz de un número negativo\n",
      "Has consumido demasiados intentos. El programa ha finalizado\n"
     ]
    }
   ],
   "source": [
    "import math\n",
    "\n",
    "print(\"Programa de cálculo de raíz cuadrada\")\n",
    "numero = int(input(\"Introduce un número por favor:  \"))\n",
    "\n",
    "intentos = 0\n",
    "\n",
    "while numero < 0:\n",
    "    print(\"No se puede hallar la raíz de un número negativo\")\n",
    "    \n",
    "    if intentos ==2:\n",
    "        print(\"Has consumido demasiados intentos. El programa ha finalizado\")\n",
    "        break;\n",
    "        \n",
    "    numero = int(input(\"Introduce un número por favor:  \"))\n",
    "    if numero <0:\n",
    "        intentos = intentos + 1\n",
    "\n",
    "if intentos < 2:\n",
    "    solucion = math.sqrt(numero)\n",
    "    print(\"La raíz cuadrada de: \" + str(numero) + \" es \" + str(solucion))\n",
    "    \n",
    "    "
   ]
  },
  {
   "cell_type": "markdown",
   "id": "6a45bb51",
   "metadata": {},
   "source": [
    "# Continue\n",
    "salta a la siguiente interacción del bucle"
   ]
  },
  {
   "cell_type": "code",
   "execution_count": 8,
   "id": "0a2c0051",
   "metadata": {},
   "outputs": [
    {
     "name": "stdout",
     "output_type": "stream",
     "text": [
      "Viendo la letra: P\n",
      "Viendo la letra: y\n",
      "Viendo la letra: t\n",
      "Viendo la letra: h\n",
      "Viendo la letra: o\n",
      "Viendo la letra: n\n"
     ]
    }
   ],
   "source": [
    "for letra in \"Python\":\n",
    "    print(\"Viendo la letra: \" + letra)"
   ]
  },
  {
   "cell_type": "code",
   "execution_count": 9,
   "id": "42706a5e",
   "metadata": {},
   "outputs": [
    {
     "name": "stdout",
     "output_type": "stream",
     "text": [
      "Viendo la letra: P\n",
      "Viendo la letra: y\n",
      "Viendo la letra: t\n",
      "Viendo la letra: o\n",
      "Viendo la letra: n\n"
     ]
    }
   ],
   "source": [
    "for letra in \"Python\":\n",
    "    \n",
    "    if letra == \"h\":\n",
    "        continue\n",
    "    print(\"Viendo la letra: \" + letra)"
   ]
  },
  {
   "cell_type": "code",
   "execution_count": 11,
   "id": "56161261",
   "metadata": {},
   "outputs": [
    {
     "name": "stdout",
     "output_type": "stream",
     "text": [
      "21\n"
     ]
    }
   ],
   "source": [
    "nombre = \"Pildoras Informaticas\"\n",
    "\n",
    "print(len(nombre))"
   ]
  },
  {
   "cell_type": "code",
   "execution_count": 12,
   "id": "17536597",
   "metadata": {},
   "outputs": [
    {
     "name": "stdout",
     "output_type": "stream",
     "text": [
      "21\n"
     ]
    }
   ],
   "source": [
    "nombre = \"Pildoras Informaticas\"\n",
    "\n",
    "contador =0\n",
    "\n",
    "for i in nombre:\n",
    "    contador+=1\n",
    "\n",
    "print(contador)"
   ]
  },
  {
   "cell_type": "code",
   "execution_count": 14,
   "id": "1305859e",
   "metadata": {},
   "outputs": [
    {
     "name": "stdout",
     "output_type": "stream",
     "text": [
      "Introduce tu email, por favor:  gilguto\n",
      "False\n"
     ]
    }
   ],
   "source": [
    "email = input(\"Introduce tu email, por favor:  \")\n",
    "\n",
    "for i in email:\n",
    "    \n",
    "    if i ==\"@\":\n",
    "        arroba=True\n",
    "        \n",
    "        break;\n",
    "else:\n",
    "      arroba=False\n",
    "        \n",
    "print(arroba)        "
   ]
  }
 ],
 "metadata": {
  "kernelspec": {
   "display_name": "Python 3 (ipykernel)",
   "language": "python",
   "name": "python3"
  },
  "language_info": {
   "codemirror_mode": {
    "name": "ipython",
    "version": 3
   },
   "file_extension": ".py",
   "mimetype": "text/x-python",
   "name": "python",
   "nbconvert_exporter": "python",
   "pygments_lexer": "ipython3",
   "version": "3.11.3"
  }
 },
 "nbformat": 4,
 "nbformat_minor": 5
}
