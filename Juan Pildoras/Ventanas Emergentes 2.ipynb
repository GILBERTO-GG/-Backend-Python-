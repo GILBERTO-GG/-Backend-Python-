{
 "cells": [
  {
   "cell_type": "code",
   "execution_count": 4,
   "id": "c730055c",
   "metadata": {},
   "outputs": [],
   "source": [
    "from tkinter import *\n",
    "from tkinter import filedialog\n",
    "\n",
    "\n",
    "root=Tk()\n",
    "\n",
    "def abreFichero():\n",
    "    \n",
    "    fichero=filedialog.askopenfilename(title=\"Abrir\", initialdir=\"C:\", filetypes=((\"Ficheros de texto\", \"*.txt\")))\n",
    "\n",
    "    print(fichero)\n",
    "    \n",
    "    \n",
    "Button (root,  text=\"Abrir fichero\",   command=abreFichero).pack()    \n",
    "    \n",
    "\n",
    "\n",
    "root.mainloop()"
   ]
  }
 ],
 "metadata": {
  "kernelspec": {
   "display_name": "Python 3 (ipykernel)",
   "language": "python",
   "name": "python3"
  },
  "language_info": {
   "codemirror_mode": {
    "name": "ipython",
    "version": 3
   },
   "file_extension": ".py",
   "mimetype": "text/x-python",
   "name": "python",
   "nbconvert_exporter": "python",
   "pygments_lexer": "ipython3",
   "version": "3.11.3"
  }
 },
 "nbformat": 4,
 "nbformat_minor": 5
}
