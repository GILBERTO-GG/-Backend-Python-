{
 "cells": [
  {
   "cell_type": "markdown",
   "id": "70e8fc0b",
   "metadata": {},
   "source": [
    "# Función Map"
   ]
  },
  {
   "cell_type": "code",
   "execution_count": null,
   "id": "e2fbe1dc",
   "metadata": {},
   "outputs": [],
   "source": [
    "--Aplica una función a cada elemento de una lista iterable(listas, tuplas, etc.) devolviendo una lista con los resultados."
   ]
  },
  {
   "cell_type": "code",
   "execution_count": 2,
   "id": "2ac30a6f",
   "metadata": {},
   "outputs": [
    {
     "name": "stdout",
     "output_type": "stream",
     "text": [
      "Juan que trabaja como Director tiene un salario de 6901.0 €\n",
      "Rodrigo que trabaja como Gerente tiene un salario de 7725.0 €\n",
      "Tadeo que trabaja como Médico tiene un salario de 2163.0 €\n",
      "María Guadalupe que trabaja como Jefa tiene un salario de 2214.5 €\n",
      "Javier que trabaja como Asociado tiene un salario de 1854.0 €\n"
     ]
    }
   ],
   "source": [
    "class Empleado:\n",
    "    \n",
    "    def __init__(self, nombre, cargo, salario):\n",
    "        \n",
    "        self.nombre=nombre\n",
    "        \n",
    "        self.cargo=cargo\n",
    "        \n",
    "        self.salario=salario\n",
    "        \n",
    "    def __str__(self):\n",
    "        \n",
    "        return\"{} que trabaja como {} tiene un salario de {} €\".format(self.nombre, self.cargo, self.salario)\n",
    "    \n",
    "    \n",
    "    \n",
    "listaEmpleados = [\n",
    "    \n",
    "    Empleado(\"Juan\", \"Director\", 6700), \n",
    "    \n",
    "    Empleado(\"Rodrigo\", \"Gerente\", 7500),\n",
    "    \n",
    "    Empleado(\"Tadeo\", \"Médico\", 2100),\n",
    "    \n",
    "    Empleado(\"María Guadalupe\", \"Jefa\", 2150),\n",
    "    \n",
    "    Empleado(\"Javier\", \"Asociado\", 1800),\n",
    "]    \n",
    "\n",
    "\n",
    "def calculo_comision(empleado):\n",
    "    \n",
    "    empleado.salario=empleado.salario*1.03\n",
    "    \n",
    "    return empleado\n",
    "\n",
    "\n",
    "listaEmpleadosComision = map(calculo_comision, listaEmpleados)\n",
    "\n",
    "for empleado in listaEmpleadosComision:\n",
    "    \n",
    "    print(empleado)\n",
    "\n",
    "  "
   ]
  }
 ],
 "metadata": {
  "kernelspec": {
   "display_name": "Python 3 (ipykernel)",
   "language": "python",
   "name": "python3"
  },
  "language_info": {
   "codemirror_mode": {
    "name": "ipython",
    "version": 3
   },
   "file_extension": ".py",
   "mimetype": "text/x-python",
   "name": "python",
   "nbconvert_exporter": "python",
   "pygments_lexer": "ipython3",
   "version": "3.11.3"
  }
 },
 "nbformat": 4,
 "nbformat_minor": 5
}
