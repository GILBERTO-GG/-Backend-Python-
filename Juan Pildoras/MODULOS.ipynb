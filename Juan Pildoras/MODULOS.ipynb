{
 "cells": [
  {
   "cell_type": "markdown",
   "id": "bfe2b202",
   "metadata": {},
   "source": [
    "# MÓDULOS\n",
    "\n",
    "--Un archivo con extensión .py  .pyc   (Python compilado) ó archivo escrito en C para CPython, que poseé su propio espacio de nombres y que puede contener variables, funciones, clases e incluso otros módulos.\n",
    "\n",
    "--Sirven para organizar y reutilizar el código (modularización y reutilización)."
   ]
  },
  {
   "cell_type": "markdown",
   "id": "3253148f",
   "metadata": {},
   "source": [
    "# ¿Cómo se crea un Módulo?\n",
    "\n",
    "--Tan sencillo como crear un archivo con extensión .py  (ó pyc ó archivo C) y guardarlo donde nos interese."
   ]
  },
  {
   "cell_type": "code",
   "execution_count": null,
   "id": "5685e260",
   "metadata": {},
   "outputs": [],
   "source": [
    "def sumar(op1, op2):\n",
    "    print(\"El resultado de la suma es:  \", op1 + op2)\n",
    "    \n",
    "def restar(op1, op2):\n",
    "    print(\"El resultado de la resta es:  \", op1 - op2)\n",
    "    \n",
    "def multiplicar(op1, op2):\n",
    "    print(\"El resultado de la multiplicación es:  \", op1 * op2)    "
   ]
  }
 ],
 "metadata": {
  "kernelspec": {
   "display_name": "Python 3 (ipykernel)",
   "language": "python",
   "name": "python3"
  },
  "language_info": {
   "codemirror_mode": {
    "name": "ipython",
    "version": 3
   },
   "file_extension": ".py",
   "mimetype": "text/x-python",
   "name": "python",
   "nbconvert_exporter": "python",
   "pygments_lexer": "ipython3",
   "version": "3.11.3"
  }
 },
 "nbformat": 4,
 "nbformat_minor": 5
}
