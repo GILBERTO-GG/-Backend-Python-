{
 "cells": [
  {
   "cell_type": "code",
   "execution_count": 1,
   "id": "1e048250",
   "metadata": {},
   "outputs": [
    {
     "name": "stdout",
     "output_type": "stream",
     "text": [
      "0\n",
      "1\n",
      "2\n",
      "3\n",
      "4\n"
     ]
    }
   ],
   "source": [
    "for i in range(5):\n",
    "    print(i)"
   ]
  },
  {
   "cell_type": "code",
   "execution_count": 4,
   "id": "14d9dbe8",
   "metadata": {},
   "outputs": [
    {
     "name": "stdout",
     "output_type": "stream",
     "text": [
      "valor de la variable 0\n",
      "valor de la variable 1\n",
      "valor de la variable 2\n",
      "valor de la variable 3\n",
      "valor de la variable 4\n"
     ]
    }
   ],
   "source": [
    "for i in range(5):                                 # notación para unir textos con variables\n",
    "    print(f\"valor de la variable {i}\")"
   ]
  },
  {
   "cell_type": "code",
   "execution_count": 5,
   "id": "06f2792d",
   "metadata": {},
   "outputs": [
    {
     "name": "stdout",
     "output_type": "stream",
     "text": [
      "valor de la variable 5\n",
      "valor de la variable 6\n",
      "valor de la variable 7\n",
      "valor de la variable 8\n",
      "valor de la variable 9\n"
     ]
    }
   ],
   "source": [
    "for i in range(5,10):                                 \n",
    "    print(f\"valor de la variable {i}\")"
   ]
  },
  {
   "cell_type": "code",
   "execution_count": 6,
   "id": "825b92a1",
   "metadata": {},
   "outputs": [
    {
     "name": "stdout",
     "output_type": "stream",
     "text": [
      "valor de la variable 5\n",
      "valor de la variable 8\n",
      "valor de la variable 11\n",
      "valor de la variable 14\n",
      "valor de la variable 17\n",
      "valor de la variable 20\n",
      "valor de la variable 23\n",
      "valor de la variable 26\n",
      "valor de la variable 29\n",
      "valor de la variable 32\n",
      "valor de la variable 35\n",
      "valor de la variable 38\n",
      "valor de la variable 41\n",
      "valor de la variable 44\n",
      "valor de la variable 47\n"
     ]
    }
   ],
   "source": [
    "for i in range(5,50,3):                                 \n",
    "    print(f\"valor de la variable {i}\")"
   ]
  },
  {
   "cell_type": "code",
   "execution_count": 8,
   "id": "d02a22bb",
   "metadata": {},
   "outputs": [
    {
     "name": "stdout",
     "output_type": "stream",
     "text": [
      "Introduce tu email: gilgutgo@hotmail.com\n",
      "Email correcto\n"
     ]
    }
   ],
   "source": [
    "valido = False\n",
    "\n",
    "email=input(\"Introduce tu email: \")\n",
    "\n",
    "for i in range(len(email)):\n",
    "    \n",
    "    if email[i]==\"@\":\n",
    "        \n",
    "        valido = True\n",
    "        \n",
    "if valido:\n",
    "    \n",
    "    print(\"Email correcto\")\n",
    "    \n",
    "else: \n",
    "    print(\"Email incorrecto\")"
   ]
  }
 ],
 "metadata": {
  "kernelspec": {
   "display_name": "Python 3 (ipykernel)",
   "language": "python",
   "name": "python3"
  },
  "language_info": {
   "codemirror_mode": {
    "name": "ipython",
    "version": 3
   },
   "file_extension": ".py",
   "mimetype": "text/x-python",
   "name": "python",
   "nbconvert_exporter": "python",
   "pygments_lexer": "ipython3",
   "version": "3.11.3"
  }
 },
 "nbformat": 4,
 "nbformat_minor": 5
}
