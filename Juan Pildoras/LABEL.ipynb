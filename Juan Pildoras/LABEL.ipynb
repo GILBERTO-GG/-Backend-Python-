{
 "cells": [
  {
   "cell_type": "code",
   "execution_count": 13,
   "id": "35af97eb",
   "metadata": {},
   "outputs": [],
   "source": [
    "from tkinter import *\n",
    "\n",
    "root=Tk()\n",
    "\n",
    "miFrame=Frame(root, width=500, height=400)\n",
    "\n",
    "miFrame.pack()\n",
    "\n",
    "\n",
    "# miImagen=PhotoImage(file=\"mouse.gif\")  --------------------> poner una imágen       -\n",
    "\n",
    "Label(miFrame, text=\"Hola alumnos de Python\", fg=\"red\", font=(\"Comic Sans MS\", 18)).place(x=100, y=200)\n",
    "\n",
    "#  Label(miFrame, image=miImagen).place(x=100, y=200)\n",
    "\n",
    "\n",
    "\n",
    "\n",
    "root.mainloop()"
   ]
  }
 ],
 "metadata": {
  "kernelspec": {
   "display_name": "Python 3 (ipykernel)",
   "language": "python",
   "name": "python3"
  },
  "language_info": {
   "codemirror_mode": {
    "name": "ipython",
    "version": 3
   },
   "file_extension": ".py",
   "mimetype": "text/x-python",
   "name": "python",
   "nbconvert_exporter": "python",
   "pygments_lexer": "ipython3",
   "version": "3.11.3"
  }
 },
 "nbformat": 4,
 "nbformat_minor": 5
}
