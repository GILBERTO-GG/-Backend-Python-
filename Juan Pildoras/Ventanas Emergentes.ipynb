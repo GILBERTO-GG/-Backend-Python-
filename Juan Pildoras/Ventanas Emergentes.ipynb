{
 "cells": [
  {
   "cell_type": "markdown",
   "id": "ddf465a7",
   "metadata": {},
   "source": [
    "# Ventanas Emergentes"
   ]
  },
  {
   "cell_type": "code",
   "execution_count": null,
   "id": "3db78874",
   "metadata": {},
   "outputs": [],
   "source": [
    "--Son ventanas modales para informar, avisar ó permitir realizar tareas al usuario."
   ]
  },
  {
   "cell_type": "code",
   "execution_count": 12,
   "id": "d3c18485",
   "metadata": {},
   "outputs": [],
   "source": [
    "from tkinter import *\n",
    "from tkinter import messagebox\n",
    "\n",
    "root=Tk()\n",
    "\n",
    "\n",
    "def infoAdicional():\n",
    "    messagebox.showinfo(\"Procesador de Gilberto\", \"Procesador de textos versión: 2023\")\n",
    "    \n",
    "    \n",
    "def avisoLicencia():\n",
    "    messagebox.showwarning(\"LIcencia\", \"Producto bajo Licencia Gil\")\n",
    "    \n",
    "\n",
    "def salirAplicacion():\n",
    "    #valor = messagebox.askquestion(\"Salir\",\"¿Deseas salir de la aplicación?\" )\n",
    "    valor = messagebox.askokcancel(\"Salir\",\"¿Deseas salir de la aplicación?\" )                     \n",
    "    if valor==True:     #if valor==\"yes\":\n",
    "        root.destroy()\n",
    "    \n",
    "    \n",
    "def cerrarDocumento():    \n",
    "    valor = messagebox.askretrycancel(\"Reintentar\",\"No es posible cerrar. Documento bloqueado\" )   \n",
    "    if valor==False:     \n",
    "        root.destroy()\n",
    "\n",
    "    \n",
    "barraMenu=Menu(root)\n",
    "root.config(menu=barraMenu, width=300, height=300)\n",
    "\n",
    "archivoMenu=Menu(barraMenu, tearoff=0)\n",
    "archivoMenu.add_command(label=\"Nuevo\")\n",
    "archivoMenu.add_command(label=\"Guardar\")\n",
    "archivoMenu.add_command(label=\"Guardar como\")\n",
    "archivoMenu.add_separator()\n",
    "archivoMenu.add_command(label=\"Cerrar\", command=cerrarDocumento)\n",
    "archivoMenu.add_command(label=\"Salir\", command= salirAplicacion)\n",
    "\n",
    "\n",
    "archivoEdicion=Menu(barraMenu, tearoff=0)\n",
    "archivoEdicion.add_command(label=\"Copiar\")\n",
    "archivoEdicion.add_command(label=\"Cortar\")\n",
    "archivoEdicion.add_command(label=\"Pegar\")\n",
    "\n",
    "\n",
    "\n",
    "archivoHerramientas=Menu(barraMenu)\n",
    "\n",
    "archivoAyuda=Menu(barraMenu, tearoff=0)\n",
    "archivoAyuda.add_command(label=\"Licencia\", command= avisoLicencia)\n",
    "archivoAyuda.add_command(label=\"Acerca de..\", command=infoAdicional)\n",
    "\n",
    "\n",
    "\n",
    "barraMenu.add_cascade(label=\"Archivo\", menu=archivoMenu)\n",
    "\n",
    "barraMenu.add_cascade(label=\"Edicion\", menu=archivoEdicion)\n",
    "\n",
    "barraMenu.add_cascade(label=\"Herramientas\", menu=archivoHerramientas)\n",
    "\n",
    "barraMenu.add_cascade(label=\"Ayuda\", menu=archivoAyuda)\n",
    "\n",
    "\n",
    "\n",
    "\n",
    "\n",
    "root.mainloop()"
   ]
  }
 ],
 "metadata": {
  "kernelspec": {
   "display_name": "Python 3 (ipykernel)",
   "language": "python",
   "name": "python3"
  },
  "language_info": {
   "codemirror_mode": {
    "name": "ipython",
    "version": 3
   },
   "file_extension": ".py",
   "mimetype": "text/x-python",
   "name": "python",
   "nbconvert_exporter": "python",
   "pygments_lexer": "ipython3",
   "version": "3.11.3"
  }
 },
 "nbformat": 4,
 "nbformat_minor": 5
}
