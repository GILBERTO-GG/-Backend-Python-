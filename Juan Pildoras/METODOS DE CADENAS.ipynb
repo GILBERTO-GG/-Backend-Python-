{
 "cells": [
  {
   "cell_type": "code",
   "execution_count": 2,
   "id": "9d841b6b",
   "metadata": {},
   "outputs": [
    {
     "name": "stdout",
     "output_type": "stream",
     "text": [
      "introduce tu nombre de usuario:  gilberto\n",
      "El nombre es:   GILBERTO\n"
     ]
    }
   ],
   "source": [
    "nombreUsuario = input(\"introduce tu nombre de usuario:  \")\n",
    "\n",
    "print(\"El nombre es:  \", nombreUsuario.upper())    #upper convierte minúsculas a mayúsculas."
   ]
  },
  {
   "cell_type": "code",
   "execution_count": 3,
   "id": "add5b1c3",
   "metadata": {},
   "outputs": [
    {
     "name": "stdout",
     "output_type": "stream",
     "text": [
      "introduce tu nombre de usuario:  GILBERTO\n",
      "El nombre es:   gilberto\n"
     ]
    }
   ],
   "source": [
    "nombreUsuario = input(\"introduce tu nombre de usuario:  \")\n",
    "\n",
    "print(\"El nombre es:  \", nombreUsuario.lower())    #lower convierte mayúsculas a minúsculas."
   ]
  },
  {
   "cell_type": "code",
   "execution_count": 5,
   "id": "99be040a",
   "metadata": {},
   "outputs": [
    {
     "name": "stdout",
     "output_type": "stream",
     "text": [
      "introduce tu nombre de usuario:  GILBERTO\n",
      "El nombre es:   Gilberto\n"
     ]
    }
   ],
   "source": [
    "nombreUsuario = input(\"introduce tu nombre de usuario:  \")\n",
    "\n",
    "print(\"El nombre es:  \", nombreUsuario.capitalize())    #capitalize pone la primera letra en mayúscula"
   ]
  },
  {
   "cell_type": "code",
   "execution_count": 7,
   "id": "088cb374",
   "metadata": {},
   "outputs": [
    {
     "name": "stdout",
     "output_type": "stream",
     "text": [
      "Introduce tu edad: 39\n",
      "True\n"
     ]
    }
   ],
   "source": [
    "edad = input(\"Introduce tu edad: \")\n",
    "\n",
    "print(edad.isdigit())        # isdigit  devuelve TRUE ó FALSE dependiendo si es un dígito o no"
   ]
  },
  {
   "cell_type": "code",
   "execution_count": 14,
   "id": "de8f0895",
   "metadata": {},
   "outputs": [
    {
     "name": "stdout",
     "output_type": "stream",
     "text": [
      "Introduce tu edad: loo\n",
      "Por favor introduce un valor numérico\n",
      "Introduce tu edad: kjhgg\n",
      "Por favor introduce un valor numérico\n",
      "Introduce tu edad: hhgffff\n",
      "Por favor introduce un valor numérico\n",
      "Introduce tu edad: hhhh\n",
      "Por favor introduce un valor numérico\n",
      "Introduce tu edad: 4\n",
      "No puede pasar\n"
     ]
    }
   ],
   "source": [
    "edad = input(\"Introduce tu edad: \")\n",
    "\n",
    "while(edad.isdigit()==False):\n",
    "    \n",
    "    print(\"Por favor introduce un valor numérico\")\n",
    "    \n",
    "    edad = input(\"Introduce tu edad: \")\n",
    "\n",
    "if(int(edad)<18):\n",
    "    \n",
    "    print(\"No puede pasar\")\n",
    "    \n",
    "else:  \n",
    "    print(\"Puedes pasar\")\n"
   ]
  }
 ],
 "metadata": {
  "kernelspec": {
   "display_name": "Python 3 (ipykernel)",
   "language": "python",
   "name": "python3"
  },
  "language_info": {
   "codemirror_mode": {
    "name": "ipython",
    "version": 3
   },
   "file_extension": ".py",
   "mimetype": "text/x-python",
   "name": "python",
   "nbconvert_exporter": "python",
   "pygments_lexer": "ipython3",
   "version": "3.11.3"
  }
 },
 "nbformat": 4,
 "nbformat_minor": 5
}
