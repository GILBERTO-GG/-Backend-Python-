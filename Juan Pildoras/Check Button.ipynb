{
 "cells": [
  {
   "cell_type": "code",
   "execution_count": 8,
   "id": "88acbe4a",
   "metadata": {},
   "outputs": [],
   "source": [
    "from tkinter import *\n",
    "\n",
    "root=Tk()\n",
    "\n",
    "root.title(\"Ejemplo\")\n",
    "\n",
    "playa=IntVar()\n",
    "montagna=IntVar()\n",
    "turismoRural=IntVar()\n",
    "\n",
    "def opcionesViaje():\n",
    "    \n",
    "    opcionEscogida = \"\"\n",
    "    \n",
    "    if(playa.get()==1):\n",
    "        \n",
    "        opcionEscogida += \"playa\"\n",
    "        \n",
    "    if(montagna.get()==1):\n",
    "        \n",
    "        opcionEscogida += \"montaña\"\n",
    "        \n",
    "    if(turismoRural.get()==1):\n",
    "        \n",
    "        opcionEscogida += \"turismoRural\"   \n",
    "    \n",
    "    textoFinal.config(text=opcionEscogida)\n",
    "    \n",
    "    \n",
    "\n",
    "frame=Frame(root)\n",
    "frame.pack()\n",
    "\n",
    "Label(frame,  text=\"Elige destinos\", width=50).pack()\n",
    "\n",
    "Checkbutton(frame,  text=\"Playa\", variable=playa, onvalue=1, offvalue=0, command= opcionesViaje).pack()\n",
    "\n",
    "Checkbutton(frame,  text=\"Montaña\", variable=montagna, onvalue=1, offvalue=0, command= opcionesViaje).pack()\n",
    "\n",
    "Checkbutton(frame,  text=\"Turismo rural\",variable=turismoRural, onvalue=1, offvalue=0, command= opcionesViaje).pack()\n",
    "\n",
    "\n",
    "\n",
    "textoFinal=Label(frame)\n",
    "textoFinal.pack()\n",
    "\n",
    "\n",
    "\n",
    "root.mainloop()"
   ]
  }
 ],
 "metadata": {
  "kernelspec": {
   "display_name": "Python 3 (ipykernel)",
   "language": "python",
   "name": "python3"
  },
  "language_info": {
   "codemirror_mode": {
    "name": "ipython",
    "version": 3
   },
   "file_extension": ".py",
   "mimetype": "text/x-python",
   "name": "python",
   "nbconvert_exporter": "python",
   "pygments_lexer": "ipython3",
   "version": "3.11.3"
  }
 },
 "nbformat": 4,
 "nbformat_minor": 5
}
