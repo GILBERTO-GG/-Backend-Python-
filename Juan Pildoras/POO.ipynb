{
 "cells": [
  {
   "cell_type": "code",
   "execution_count": 6,
   "id": "ec876e83",
   "metadata": {},
   "outputs": [
    {
     "name": "stdout",
     "output_type": "stream",
     "text": [
      "El largo del coche es:   250\n",
      "El coche tiene:  4  ruedas\n",
      "El coche está parado\n"
     ]
    }
   ],
   "source": [
    "class Coche():                                 #propiedades de la clase\n",
    "    largoChasis=250\n",
    "    anchoChasis=120\n",
    "    ruedas=4\n",
    "    enmarcha=False \n",
    "\n",
    "#-----------------------------------------------------------------------------------------------------------------------    \n",
    "    \n",
    "    def arrancar(self):                        #comportamiento de la clase \n",
    "        self.enmarcha = True  \n",
    "    \n",
    "#-----------------------------------------------------------------------------------------------------------------------\n",
    "\n",
    "    def estado(self):                          #comportamiento de la clase\n",
    "        if(self.enmarcha):\n",
    "            return \"El coche está en marcha\"\n",
    "        \n",
    "        else:\n",
    "             return \"El coche está parado\"\n",
    "        \n",
    "#-------------------------------------------------------------------------------------------------------------------        \n",
    "\n",
    "miCoche=Coche()                                #instanciar una clase\n",
    "\n",
    "print(\"El largo del coche es:  \",miCoche.largoChasis)\n",
    "print(\"El coche tiene: \",miCoche.ruedas, \" ruedas\")\n",
    "#miCoche.arrancar()                        <------------------------------------checar\n",
    "\n",
    "print(miCoche.estado())\n",
    "    "
   ]
  },
  {
   "cell_type": "code",
   "execution_count": 11,
   "id": "865c5a1e",
   "metadata": {},
   "outputs": [
    {
     "name": "stdout",
     "output_type": "stream",
     "text": [
      "El coche está en marcha\n",
      "El coche tiene:  4  ruedas. Un ancho de:  120  y un largo de:  250\n",
      "--------------------A continuación creamos el segundo Objeto--------------------\n",
      "El coche está parado\n",
      "El coche tiene:  4  ruedas. Un ancho de:  120  y un largo de:  250\n"
     ]
    }
   ],
   "source": [
    "class Coche():                                 #propiedades de la clase\n",
    "    largoChasis=250\n",
    "    anchoChasis=120\n",
    "    ruedas=4\n",
    "    enmarcha=False \n",
    "\n",
    "#-----------------------------------------------------------------------------------------------------------------------    \n",
    "    \n",
    "    def arrancar(self, arrancamos):                        #comportamiento de la clase \n",
    "        self.enmarcha=arrancamos\n",
    "        \n",
    "        if(self.enmarcha):\n",
    "            return \"El coche está en marcha\"\n",
    "        \n",
    "        else:\n",
    "             return \"El coche está parado\"\n",
    "            \n",
    "            \n",
    "#-----------------------------------------------------------------------------------------------------------------------\n",
    "\n",
    "    def estado(self):                          #comportamiento de la clase\n",
    "        print(\"El coche tiene: \" , self.ruedas, \" ruedas. Un ancho de: \", self.anchoChasis, \" y un largo de: \",\n",
    "             self.largoChasis)\n",
    "        \n",
    "#-------------------------------------------------------------------------------------------------------------------        \n",
    "\n",
    "miCoche=Coche()                                #instanciar una clase\n",
    "\n",
    "print(miCoche.arrancar(True))                        \n",
    "\n",
    "miCoche.estado()\n",
    "\n",
    "print(\"--------------------A continuación creamos el segundo Objeto--------------------\")\n",
    "\n",
    "miCoche2=Coche()\n",
    "print(miCoche2.arrancar(False))\n",
    "miCoche2.estado()"
   ]
  },
  {
   "cell_type": "markdown",
   "id": "edb14acf",
   "metadata": {},
   "source": [
    "# Constructor\n",
    "--Es un método especial que le dá estado inicial a los objetos. Es una forma de especificar claramente cual va a ser el estado inicial de los objetos que pertenecen a una clase."
   ]
  },
  {
   "cell_type": "code",
   "execution_count": 15,
   "id": "0315bd1b",
   "metadata": {},
   "outputs": [
    {
     "name": "stdout",
     "output_type": "stream",
     "text": [
      "realizando chequeo interno\n",
      "El coche está en marcha\n",
      "El coche tiene:  4  ruedas. Un ancho de:  120  y un largo de:  250\n",
      "--------------------A continuación creamos el segundo Objeto--------------------\n",
      "El coche está parado\n",
      "El coche tiene:  4  ruedas. Un ancho de:  120  y un largo de:  250\n"
     ]
    }
   ],
   "source": [
    "class Coche():                                 #propiedades de la clase\n",
    "   \n",
    "\n",
    "    def __init__(self):     #------------------------------------------>  este es el CONSTRUCTOR.\n",
    "    \n",
    "    \n",
    "        self.__largoChasis=250\n",
    "        self.__anchoChasis=120\n",
    "        self.__ruedas=4    #------------------------------------------>  Aquí estás ENCAPSULANDO.\n",
    "        self.__enmarcha=False \n",
    "\n",
    "#-----------------------------------------------------------------------------------------------------------------------    \n",
    "    \n",
    "    def arrancar(self, arrancamos):                        #comportamiento de la clase \n",
    "        self.__enmarcha=arrancamos\n",
    "        \n",
    "        if(self.__enmarcha):\n",
    "            chequeo=self.chequeo_interno()\n",
    "            \n",
    "        \n",
    "        if(self.__enmarcha and chequeo):\n",
    "            return \"El coche está en marcha\"\n",
    "        \n",
    "        elif(self.__enmarcha and chequeo==False):\n",
    "            return \"Algo ha ido mal en el chequeo. No podemos arrancar\"\n",
    "        \n",
    "        else:\n",
    "             return \"El coche está parado\"\n",
    "            \n",
    "            \n",
    "#-----------------------------------------------------------------------------------------------------------------------\n",
    "\n",
    "    def estado(self):                          #comportamiento de la clase\n",
    "        print(\"El coche tiene: \" , self.__ruedas, \" ruedas. Un ancho de: \", self.__anchoChasis, \" y un largo de: \",\n",
    "             self.__largoChasis)\n",
    "        \n",
    "#-------------------------------------------------------------------------------------------------------------------        \n",
    "\n",
    "    def chequeo_interno(self):\n",
    "        \n",
    "        print(\"realizando chequeo interno\")\n",
    "        \n",
    "        self.gasolina = \"ok\"\n",
    "        self.aceite = \"ok\"\n",
    "        self.puertas = \"cerradas\" \n",
    "        \n",
    "        if (self.gasolina==\"ok\" and self.aceite==\"ok\" and self.puertas==\"cerradas\"):\n",
    "            \n",
    "            return True\n",
    "         \n",
    "        else:\n",
    "            \n",
    "            return False \n",
    "    \n",
    "#-------------------------------------------------------------------------------------------------------------------    \n",
    "\n",
    "miCoche=Coche()                                #instanciar una clase\n",
    "\n",
    "print(miCoche.arrancar(True))                        \n",
    "\n",
    "miCoche.estado()\n",
    "\n",
    "print(\"--------------------A continuación creamos el segundo Objeto--------------------\")\n",
    "\n",
    "miCoche2=Coche()\n",
    "print(miCoche2.arrancar(False))\n",
    "miCoche2.estado()"
   ]
  },
  {
   "cell_type": "code",
   "execution_count": null,
   "id": "ad8e3da0",
   "metadata": {},
   "outputs": [],
   "source": []
  }
 ],
 "metadata": {
  "kernelspec": {
   "display_name": "Python 3 (ipykernel)",
   "language": "python",
   "name": "python3"
  },
  "language_info": {
   "codemirror_mode": {
    "name": "ipython",
    "version": 3
   },
   "file_extension": ".py",
   "mimetype": "text/x-python",
   "name": "python",
   "nbconvert_exporter": "python",
   "pygments_lexer": "ipython3",
   "version": "3.11.3"
  }
 },
 "nbformat": 4,
 "nbformat_minor": 5
}
