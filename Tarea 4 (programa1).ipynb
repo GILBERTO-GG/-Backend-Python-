{
 "cells": [
  {
   "cell_type": "code",
   "execution_count": 5,
   "id": "bc8e4231",
   "metadata": {},
   "outputs": [
    {
     "name": "stdout",
     "output_type": "stream",
     "text": [
      "Ingrese un número: 40\n",
      "40 NO puede ser expresado como 2^K= 40\n"
     ]
    }
   ],
   "source": [
    "n = int(input(\"Ingrese un número: \"))\n",
    "\n",
    "k = 0\n",
    "potencia = 2 ** k\n",
    "\n",
    "while potencia <= n:\n",
    "    if potencia == n:\n",
    "        print(f\"{n} PUEDE ser expresado como 2^{k}=\",n)\n",
    "        break\n",
    "    k += 1\n",
    "    potencia = 2 ** k\n",
    "else:\n",
    "    print(f\"{n} NO puede ser expresado como 2^K=\",n)"
   ]
  }
 ],
 "metadata": {
  "kernelspec": {
   "display_name": "Python 3 (ipykernel)",
   "language": "python",
   "name": "python3"
  },
  "language_info": {
   "codemirror_mode": {
    "name": "ipython",
    "version": 3
   },
   "file_extension": ".py",
   "mimetype": "text/x-python",
   "name": "python",
   "nbconvert_exporter": "python",
   "pygments_lexer": "ipython3",
   "version": "3.11.3"
  }
 },
 "nbformat": 4,
 "nbformat_minor": 5
}
