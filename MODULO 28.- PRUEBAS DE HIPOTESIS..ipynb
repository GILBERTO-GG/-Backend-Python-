{
 "cells": [
  {
   "cell_type": "code",
   "execution_count": 1,
   "id": "c579216c",
   "metadata": {},
   "outputs": [],
   "source": [
    "import pandas as pd \n",
    "import numpy as np\n",
    "import warnings\n",
    "warnings.filterwarnings(\"ignore\")"
   ]
  },
  {
   "cell_type": "code",
   "execution_count": null,
   "id": "67754ebf",
   "metadata": {},
   "outputs": [],
   "source": [
    "NOTA: Para este ejemplo asumiremos que los datos de entrenamiento son sobre los que trabajaremos"
   ]
  },
  {
   "cell_type": "code",
   "execution_count": 2,
   "id": "d85ee42e",
   "metadata": {},
   "outputs": [
    {
     "data": {
      "text/plain": [
       "array([[3],\n",
       "       [1],\n",
       "       [8],\n",
       "       [3],\n",
       "       [5]])"
      ]
     },
     "execution_count": 2,
     "metadata": {},
     "output_type": "execute_result"
    }
   ],
   "source": [
    "Y = np.array([[3], [1], [8], [3], [5]])\n",
    "Y"
   ]
  },
  {
   "cell_type": "code",
   "execution_count": 3,
   "id": "3f69f94e",
   "metadata": {},
   "outputs": [
    {
     "data": {
      "text/plain": [
       "array([[1, 3, 5],\n",
       "       [1, 1, 4],\n",
       "       [1, 5, 6],\n",
       "       [1, 2, 4],\n",
       "       [1, 4, 6]])"
      ]
     },
     "execution_count": 3,
     "metadata": {},
     "output_type": "execute_result"
    }
   ],
   "source": [
    "X = np.array([[1,3,5], [1,1,4], [1,5,6], [1,2,4], [1,4,6]])\n",
    "X"
   ]
  },
  {
   "cell_type": "code",
   "execution_count": 4,
   "id": "5551a64c",
   "metadata": {},
   "outputs": [
    {
     "data": {
      "text/plain": [
       "array([[  5,  15,  25],\n",
       "       [ 15,  55,  81],\n",
       "       [ 25,  81, 129]])"
      ]
     },
     "execution_count": 4,
     "metadata": {},
     "output_type": "execute_result"
    }
   ],
   "source": [
    "XT_X = np.matmul(np.matrix.transpose(X), X)\n",
    "XT_X"
   ]
  },
  {
   "cell_type": "code",
   "execution_count": 5,
   "id": "c3dcbc5c",
   "metadata": {},
   "outputs": [
    {
     "data": {
      "text/plain": [
       "array([[26.7,  4.5, -8. ],\n",
       "       [ 4.5,  1. , -1.5],\n",
       "       [-8. , -1.5,  2.5]])"
      ]
     },
     "execution_count": 5,
     "metadata": {},
     "output_type": "execute_result"
    }
   ],
   "source": [
    "XT_X_inv = np.linalg.inv(XT_X)\n",
    "XT_X_inv"
   ]
  },
  {
   "cell_type": "code",
   "execution_count": 6,
   "id": "f443c312",
   "metadata": {},
   "outputs": [
    {
     "data": {
      "text/plain": [
       "array([[ 20],\n",
       "       [ 76],\n",
       "       [109]])"
      ]
     },
     "execution_count": 6,
     "metadata": {},
     "output_type": "execute_result"
    }
   ],
   "source": [
    "XT_Y = np.matmul(np.matrix.transpose(X), Y)\n",
    "XT_Y"
   ]
  },
  {
   "cell_type": "code",
   "execution_count": 7,
   "id": "18ec7f99",
   "metadata": {},
   "outputs": [
    {
     "data": {
      "text/plain": [
       "array([[ 4. ],\n",
       "       [ 2.5],\n",
       "       [-1.5]])"
      ]
     },
     "execution_count": 7,
     "metadata": {},
     "output_type": "execute_result"
    }
   ],
   "source": [
    "betas = np.matmul(XT_X_inv, XT_Y)\n",
    "betas"
   ]
  },
  {
   "cell_type": "markdown",
   "id": "8c1d2e81",
   "metadata": {},
   "source": [
    "# Cálculo de los pronósticos para Y de acuerdo a los coeficientes de regresión."
   ]
  },
  {
   "cell_type": "code",
   "execution_count": 8,
   "id": "510ab0aa",
   "metadata": {},
   "outputs": [
    {
     "data": {
      "text/plain": [
       "array([[4. ],\n",
       "       [0.5],\n",
       "       [7.5],\n",
       "       [3. ],\n",
       "       [5. ]])"
      ]
     },
     "execution_count": 8,
     "metadata": {},
     "output_type": "execute_result"
    }
   ],
   "source": [
    "Y_pred = np.matmul(X, betas)\n",
    "Y_pred"
   ]
  },
  {
   "cell_type": "markdown",
   "id": "87c17fd1",
   "metadata": {},
   "source": [
    "#  Cálculo de residuales."
   ]
  },
  {
   "cell_type": "code",
   "execution_count": 11,
   "id": "c4ae4430",
   "metadata": {},
   "outputs": [
    {
     "data": {
      "text/plain": [
       "array([[-1.00000000e+00],\n",
       "       [ 5.00000000e-01],\n",
       "       [ 5.00000000e-01],\n",
       "       [-3.73034936e-14],\n",
       "       [-6.66133815e-14]])"
      ]
     },
     "execution_count": 11,
     "metadata": {},
     "output_type": "execute_result"
    }
   ],
   "source": [
    "Resid = Y - Y_pred\n",
    "Resid"
   ]
  },
  {
   "cell_type": "markdown",
   "id": "547cc23e",
   "metadata": {},
   "source": [
    "#  Cálculo de la suma de residuales al cuadrado."
   ]
  },
  {
   "cell_type": "code",
   "execution_count": 13,
   "id": "a5d92cad",
   "metadata": {},
   "outputs": [
    {
     "data": {
      "text/plain": [
       "1.5000000000000036"
      ]
     },
     "execution_count": 13,
     "metadata": {},
     "output_type": "execute_result"
    }
   ],
   "source": [
    "RSS = float(np.matmul(np.matrix.transpose(Resid), Resid))\n",
    "RSS"
   ]
  },
  {
   "cell_type": "markdown",
   "id": "ae50eb22",
   "metadata": {},
   "source": [
    "# Cálculo de la suma total de cuadrados."
   ]
  },
  {
   "cell_type": "code",
   "execution_count": 15,
   "id": "32443721",
   "metadata": {},
   "outputs": [
    {
     "data": {
      "text/plain": [
       "28.0"
      ]
     },
     "execution_count": 15,
     "metadata": {},
     "output_type": "execute_result"
    }
   ],
   "source": [
    "TSS = float(np.matmul(np.matrix.transpose(Y), Y) - len(Y)*(Y.mean()**2))\n",
    "TSS"
   ]
  },
  {
   "cell_type": "markdown",
   "id": "279495b7",
   "metadata": {},
   "source": [
    "# Cálculo del coeficiente de determinación."
   ]
  },
  {
   "cell_type": "code",
   "execution_count": 16,
   "id": "e3b4e7f8",
   "metadata": {},
   "outputs": [
    {
     "data": {
      "text/plain": [
       "0.9464285714285713"
      ]
     },
     "execution_count": 16,
     "metadata": {},
     "output_type": "execute_result"
    }
   ],
   "source": [
    "R_cuad = float(1 - RSS/TSS)\n",
    "R_cuad"
   ]
  },
  {
   "cell_type": "markdown",
   "id": "63230b9f",
   "metadata": {},
   "source": [
    "#  Cálculo del coeficiente de determinación ajustado."
   ]
  },
  {
   "cell_type": "code",
   "execution_count": 18,
   "id": "41acd6e0",
   "metadata": {},
   "outputs": [
    {
     "data": {
      "text/plain": [
       "0.8928571428571426"
      ]
     },
     "execution_count": 18,
     "metadata": {},
     "output_type": "execute_result"
    }
   ],
   "source": [
    "RSqAj = float(1 - (RSS / (X.shape[0] - X.shape[1])) / (TSS / (X.shape[0] - 1)))\n",
    "RSqAj"
   ]
  },
  {
   "cell_type": "markdown",
   "id": "01398651",
   "metadata": {},
   "source": [
    "# Cálculo de la varianza del error de regresión"
   ]
  },
  {
   "cell_type": "code",
   "execution_count": 19,
   "id": "871fbf44",
   "metadata": {},
   "outputs": [
    {
     "data": {
      "text/plain": [
       "0.7500000000000018"
      ]
     },
     "execution_count": 19,
     "metadata": {},
     "output_type": "execute_result"
    }
   ],
   "source": [
    "s_cuad = RSS / (len(Y) - X.shape[1])\n",
    "s_cuad"
   ]
  },
  {
   "cell_type": "markdown",
   "id": "4e8c5265",
   "metadata": {},
   "source": [
    "# Desviación estándar del error de regresión."
   ]
  },
  {
   "cell_type": "code",
   "execution_count": 20,
   "id": "64817861",
   "metadata": {},
   "outputs": [
    {
     "data": {
      "text/plain": [
       "0.8660254037844397"
      ]
     },
     "execution_count": 20,
     "metadata": {},
     "output_type": "execute_result"
    }
   ],
   "source": [
    "import math\n",
    "\n",
    "s = math.sqrt(s_cuad)\n",
    "s"
   ]
  },
  {
   "cell_type": "markdown",
   "id": "5c06cf6f",
   "metadata": {},
   "source": [
    "#  Cálculo de las t´s estadísticas para cada coeficiente de regresión."
   ]
  },
  {
   "cell_type": "code",
   "execution_count": 21,
   "id": "1f1b8b79",
   "metadata": {},
   "outputs": [
    {
     "data": {
      "text/plain": [
       "[0.8938686975386521, 2.88675134594813, -1.0954451150103248]"
      ]
     },
     "execution_count": 21,
     "metadata": {},
     "output_type": "execute_result"
    }
   ],
   "source": [
    "result_t = []\n",
    "for i in range(0, X.shape[1]):\n",
    "    t = float(betas[i] / (s * math.sqrt(XT_X_inv[i][i])))\n",
    "    result_t.append(t)\n",
    "result_t    "
   ]
  },
  {
   "cell_type": "markdown",
   "id": "a5861400",
   "metadata": {},
   "source": [
    "#  Criterio 1:"
   ]
  },
  {
   "cell_type": "markdown",
   "id": "901d376b",
   "metadata": {},
   "source": [
    "# Obtener valor crítico de la t de Student de tablas."
   ]
  },
  {
   "cell_type": "code",
   "execution_count": 23,
   "id": "06daef85",
   "metadata": {},
   "outputs": [
    {
     "data": {
      "text/plain": [
       "4.3026527299112765"
      ]
     },
     "execution_count": 23,
     "metadata": {},
     "output_type": "execute_result"
    }
   ],
   "source": [
    "import scipy.stats\n",
    "\n",
    "grados_libertad = len(Y) - X.shape[1]\n",
    "\n",
    "# La t critica se obtendrá a un nivel de confianza del 95% (Alfa = 5%)\n",
    "t_critico = abs(scipy.stats.t.ppf(q = 0.025, df = grados_libertad))\n",
    "t_critico"
   ]
  },
  {
   "cell_type": "code",
   "execution_count": 24,
   "id": "70a6f24d",
   "metadata": {},
   "outputs": [
    {
     "name": "stdout",
     "output_type": "stream",
     "text": [
      "Beta 0 NO es significativa\n",
      "Beta 1 NO es significativa\n",
      "Beta 2 NO es significativa\n"
     ]
    }
   ],
   "source": [
    "for i in range(0, X.shape[1]):\n",
    "    if (abs(result_t[i]) > t_critico):\n",
    "        print(\"Beta\", i, \"es significativa\")       #-------> Aquí se rechaza H0\n",
    "    else:\n",
    "        print(\"Beta\", i, \"NO es significativa\")       #-------> Aquí NO se rechaza H0   \n",
    "     "
   ]
  },
  {
   "cell_type": "markdown",
   "id": "73f42530",
   "metadata": {},
   "source": [
    "#  Criterio 2:"
   ]
  },
  {
   "cell_type": "markdown",
   "id": "adcb55a4",
   "metadata": {},
   "source": [
    "#  Cálculo de valores p"
   ]
  },
  {
   "cell_type": "code",
   "execution_count": 25,
   "id": "1d7f98ff",
   "metadata": {},
   "outputs": [
    {
     "name": "stdout",
     "output_type": "stream",
     "text": [
      "Valor p de Beta 0 : 0.4657159826085351\n",
      "Valor p de Beta 1 : 0.10197348986612542\n",
      "Valor p de Beta 2 : 0.3876275643042082\n"
     ]
    }
   ],
   "source": [
    "for i in range(0, X.shape[1]):\n",
    "    print(\"Valor p de Beta\", i, \":\", scipy.stats.t.sf(abs(result_t[i]), df = grados_libertad) * 2)"
   ]
  },
  {
   "cell_type": "code",
   "execution_count": null,
   "id": "abbfba83",
   "metadata": {},
   "outputs": [],
   "source": [
    "Si manejamos un nivel alfa del 5%, en ninguno de los casos el valor p es menor al 5%, por lo que no podemos rechazar H0"
   ]
  },
  {
   "cell_type": "markdown",
   "id": "b0862304",
   "metadata": {},
   "source": [
    "# Criterio 3:"
   ]
  },
  {
   "cell_type": "markdown",
   "id": "f96fd9da",
   "metadata": {},
   "source": [
    "#  Cálculo de intervalos de confianza del 95% para el verdadero valor del coeficiente de cada Beta."
   ]
  },
  {
   "cell_type": "code",
   "execution_count": 27,
   "id": "4f5a0fbf",
   "metadata": {},
   "outputs": [
    {
     "name": "stdout",
     "output_type": "stream",
     "text": [
      "El valor de Beta 0 se encuentra entre:  -15.25407049943246 y 23.254070499432444\n",
      "El valor de Beta 1 se encuentra entre:  -1.2262065677656317 y 6.226206567765644\n",
      "El valor de Beta 2 se encuentra entre:  -7.391649893208971 y 4.391649893208987\n"
     ]
    }
   ],
   "source": [
    "for i in range(0, X.shape[1]):\n",
    "    print(\"El valor de Beta\", i, \"se encuentra entre: \", float(betas[i]) - t_critico * s * math.sqrt(XT_X_inv[i][i]),\n",
    "         \"y\", float((betas[i]) + t_critico * s * math.sqrt(XT_X_inv[i][i])))"
   ]
  },
  {
   "cell_type": "markdown",
   "id": "fc8dd649",
   "metadata": {},
   "source": [
    "# Conclusión:"
   ]
  },
  {
   "cell_type": "markdown",
   "id": "5eef4ae0",
   "metadata": {},
   "source": [
    "\"Ninguna de las variables regresoras (independientes) es significativamente distinta de cero\""
   ]
  },
  {
   "cell_type": "markdown",
   "id": "a4e8cb6f",
   "metadata": {},
   "source": [
    "# Comparación de resultados contra reporte automatizado."
   ]
  },
  {
   "cell_type": "code",
   "execution_count": 29,
   "id": "55922f4b",
   "metadata": {},
   "outputs": [
    {
     "name": "stdout",
     "output_type": "stream",
     "text": [
      "                            OLS Regression Results                            \n",
      "==============================================================================\n",
      "Dep. Variable:                      y   R-squared:                       0.946\n",
      "Model:                            OLS   Adj. R-squared:                  0.893\n",
      "Method:                 Least Squares   F-statistic:                     17.67\n",
      "Date:                Sun, 02 Jun 2024   Prob (F-statistic):             0.0536\n",
      "Time:                        18:52:17   Log-Likelihood:                -4.0848\n",
      "No. Observations:                   5   AIC:                             14.17\n",
      "Df Residuals:                       2   BIC:                             13.00\n",
      "Df Model:                           2                                         \n",
      "Covariance Type:            nonrobust                                         \n",
      "==============================================================================\n",
      "                 coef    std err          t      P>|t|      [0.025      0.975]\n",
      "------------------------------------------------------------------------------\n",
      "const          4.0000      4.475      0.894      0.466     -15.254      23.254\n",
      "x1             2.5000      0.866      2.887      0.102      -1.226       6.226\n",
      "x2            -1.5000      1.369     -1.095      0.388      -7.392       4.392\n",
      "==============================================================================\n",
      "Omnibus:                          nan   Durbin-Watson:                   1.667\n",
      "Prob(Omnibus):                    nan   Jarque-Bera (JB):                0.747\n",
      "Skew:                          -0.913   Prob(JB):                        0.688\n",
      "Kurtosis:                       2.500   Cond. No.                         74.5\n",
      "==============================================================================\n",
      "\n",
      "Notes:\n",
      "[1] Standard Errors assume that the covariance matrix of the errors is correctly specified.\n"
     ]
    },
    {
     "name": "stderr",
     "output_type": "stream",
     "text": [
      "C:\\Users\\gilgu\\AppData\\Local\\Programs\\Python\\Python311\\Lib\\site-packages\\statsmodels\\stats\\stattools.py:74: ValueWarning: omni_normtest is not valid with less than 8 observations; 5 samples were given.\n",
      "  warn(\"omni_normtest is not valid with less than 8 observations; %i \"\n"
     ]
    }
   ],
   "source": [
    "import statsmodels.api as sm\n",
    "\n",
    "regressor = sm.OLS(Y, X).fit()\n",
    "print(regressor.summary())"
   ]
  },
  {
   "cell_type": "code",
   "execution_count": 30,
   "id": "ddd16fae",
   "metadata": {},
   "outputs": [
    {
     "data": {
      "text/html": [
       "<div>\n",
       "<style scoped>\n",
       "    .dataframe tbody tr th:only-of-type {\n",
       "        vertical-align: middle;\n",
       "    }\n",
       "\n",
       "    .dataframe tbody tr th {\n",
       "        vertical-align: top;\n",
       "    }\n",
       "\n",
       "    .dataframe thead th {\n",
       "        text-align: right;\n",
       "    }\n",
       "</style>\n",
       "<table border=\"1\" class=\"dataframe\">\n",
       "  <thead>\n",
       "    <tr style=\"text-align: right;\">\n",
       "      <th></th>\n",
       "      <th>1</th>\n",
       "      <th>2</th>\n",
       "    </tr>\n",
       "  </thead>\n",
       "  <tbody>\n",
       "    <tr>\n",
       "      <th>1</th>\n",
       "      <td>1.000000</td>\n",
       "      <td>0.948683</td>\n",
       "    </tr>\n",
       "    <tr>\n",
       "      <th>2</th>\n",
       "      <td>0.948683</td>\n",
       "      <td>1.000000</td>\n",
       "    </tr>\n",
       "  </tbody>\n",
       "</table>\n",
       "</div>"
      ],
      "text/plain": [
       "          1         2\n",
       "1  1.000000  0.948683\n",
       "2  0.948683  1.000000"
      ]
     },
     "execution_count": 30,
     "metadata": {},
     "output_type": "execute_result"
    }
   ],
   "source": [
    "data = pd.DataFrame(X)\n",
    "data2 = data.iloc[:,1:3]\n",
    "data2.corr()"
   ]
  },
  {
   "cell_type": "code",
   "execution_count": 31,
   "id": "608eb43a",
   "metadata": {},
   "outputs": [
    {
     "data": {
      "text/plain": [
       "array([[1, 3],\n",
       "       [1, 1],\n",
       "       [1, 5],\n",
       "       [1, 2],\n",
       "       [1, 4]])"
      ]
     },
     "execution_count": 31,
     "metadata": {},
     "output_type": "execute_result"
    }
   ],
   "source": [
    "X_Nueva = np.delete(X, 2, 1)\n",
    "X_Nueva"
   ]
  },
  {
   "cell_type": "code",
   "execution_count": 32,
   "id": "7d9f85bc",
   "metadata": {},
   "outputs": [
    {
     "name": "stdout",
     "output_type": "stream",
     "text": [
      "                            OLS Regression Results                            \n",
      "==============================================================================\n",
      "Dep. Variable:                      y   R-squared:                       0.914\n",
      "Model:                            OLS   Adj. R-squared:                  0.886\n",
      "Method:                 Least Squares   F-statistic:                     32.00\n",
      "Date:                Sun, 02 Jun 2024   Prob (F-statistic):             0.0109\n",
      "Time:                        19:13:54   Log-Likelihood:                -5.2598\n",
      "No. Observations:                   5   AIC:                             14.52\n",
      "Df Residuals:                       3   BIC:                             13.74\n",
      "Df Model:                           1                                         \n",
      "Covariance Type:            nonrobust                                         \n",
      "==============================================================================\n",
      "                 coef    std err          t      P>|t|      [0.025      0.975]\n",
      "------------------------------------------------------------------------------\n",
      "const         -0.8000      0.938     -0.853      0.456      -3.785       2.185\n",
      "x1             1.6000      0.283      5.657      0.011       0.700       2.500\n",
      "==============================================================================\n",
      "Omnibus:                          nan   Durbin-Watson:                   1.367\n",
      "Prob(Omnibus):                    nan   Jarque-Bera (JB):                0.570\n",
      "Skew:                          -0.289   Prob(JB):                        0.752\n",
      "Kurtosis:                       1.450   Cond. No.                         8.37\n",
      "==============================================================================\n",
      "\n",
      "Notes:\n",
      "[1] Standard Errors assume that the covariance matrix of the errors is correctly specified.\n"
     ]
    },
    {
     "name": "stderr",
     "output_type": "stream",
     "text": [
      "C:\\Users\\gilgu\\AppData\\Local\\Programs\\Python\\Python311\\Lib\\site-packages\\statsmodels\\stats\\stattools.py:74: ValueWarning: omni_normtest is not valid with less than 8 observations; 5 samples were given.\n",
      "  warn(\"omni_normtest is not valid with less than 8 observations; %i \"\n"
     ]
    }
   ],
   "source": [
    "regressor = sm.OLS(Y, X_Nueva).fit()\n",
    "print(regressor.summary())"
   ]
  },
  {
   "cell_type": "code",
   "execution_count": null,
   "id": "97cc4fc1",
   "metadata": {},
   "outputs": [],
   "source": []
  }
 ],
 "metadata": {
  "kernelspec": {
   "display_name": "Python 3 (ipykernel)",
   "language": "python",
   "name": "python3"
  },
  "language_info": {
   "codemirror_mode": {
    "name": "ipython",
    "version": 3
   },
   "file_extension": ".py",
   "mimetype": "text/x-python",
   "name": "python",
   "nbconvert_exporter": "python",
   "pygments_lexer": "ipython3",
   "version": "3.11.3"
  }
 },
 "nbformat": 4,
 "nbformat_minor": 5
}
