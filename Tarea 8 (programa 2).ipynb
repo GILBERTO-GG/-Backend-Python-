{
 "cells": [
  {
   "cell_type": "code",
   "execution_count": 26,
   "id": "5ee49756",
   "metadata": {},
   "outputs": [
    {
     "name": "stdout",
     "output_type": "stream",
     "text": [
      "Valores en grados Fahrenheit:\n",
      "[ 0.   12.   45.21 34.   99.91 32.  ]\n",
      "Valores en grados Centigrados:\n",
      "[-17.78 -11.11   7.34   1.11  37.73   0.  ]\n"
     ]
    }
   ],
   "source": [
    "import numpy as np\n",
    "\n",
    "def fahrenheit_centigrados(fahrenheit_arr):\n",
    "    centigrados_arr = (fahrenheit_arr - 32) * 5/9\n",
    "    return centigrados_arr\n",
    "\n",
    "# Ejemplo de uso\n",
    "fahrenheit_valores = np.array([0, 12, 45.21, 34, 99.91, 32])\n",
    "centigrados_valores = fahrenheit_centigrados(fahrenheit_valores)\n",
    "\n",
    "# Redondear los valores a dos decimales\n",
    "centigrados_valores = np.round(centigrados_valores, 2)\n",
    "\n",
    "print(\"Valores en grados Fahrenheit:\")\n",
    "print(fahrenheit_valores)\n",
    "print(\"Valores en grados Centigrados:\")\n",
    "print(centigrados_valores)\n",
    "\n"
   ]
  }
 ],
 "metadata": {
  "kernelspec": {
   "display_name": "Python 3 (ipykernel)",
   "language": "python",
   "name": "python3"
  },
  "language_info": {
   "codemirror_mode": {
    "name": "ipython",
    "version": 3
   },
   "file_extension": ".py",
   "mimetype": "text/x-python",
   "name": "python",
   "nbconvert_exporter": "python",
   "pygments_lexer": "ipython3",
   "version": "3.11.3"
  }
 },
 "nbformat": 4,
 "nbformat_minor": 5
}
