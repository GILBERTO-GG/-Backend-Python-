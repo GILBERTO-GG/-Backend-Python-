{
 "cells": [
  {
   "cell_type": "code",
   "execution_count": 2,
   "id": "da872337",
   "metadata": {},
   "outputs": [
    {
     "name": "stdout",
     "output_type": "stream",
     "text": [
      "Arreglo original: [12 13 14 15 16 17 18 19 20]\n",
      "Arreglo invertido: [20 19 18 17 16 15 14 13 12]\n"
     ]
    }
   ],
   "source": [
    "import numpy as np\n",
    "\n",
    "def invert_array(arr):    #----> acepta un arreglo como entrada  \n",
    "    return arr[::-1]      #---->devuelve el arreglo invertido utilizando la técnica de indexación [::-1]\n",
    "\n",
    "# Ejemplo de uso\n",
    "if __name__ == \"__main__\":\n",
    "    # Arreglo de ejemplo\n",
    "    original_array = np.array([12, 13, 14, 15, 16, 17, 18, 19, 20])\n",
    "\n",
    "    # Invertir el arreglo\n",
    "    inverted_array = invert_array(original_array)\n",
    "\n",
    "    print(\"Arreglo original:\", original_array)\n",
    "    print(\"Arreglo invertido:\", inverted_array)\n"
   ]
  }
 ],
 "metadata": {
  "kernelspec": {
   "display_name": "Python 3 (ipykernel)",
   "language": "python",
   "name": "python3"
  },
  "language_info": {
   "codemirror_mode": {
    "name": "ipython",
    "version": 3
   },
   "file_extension": ".py",
   "mimetype": "text/x-python",
   "name": "python",
   "nbconvert_exporter": "python",
   "pygments_lexer": "ipython3",
   "version": "3.11.3"
  }
 },
 "nbformat": 4,
 "nbformat_minor": 5
}
