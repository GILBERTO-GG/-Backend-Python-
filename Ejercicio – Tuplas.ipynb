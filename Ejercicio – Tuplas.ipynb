{
 "cells": [
  {
   "cell_type": "code",
   "execution_count": 2,
   "id": "22498e02",
   "metadata": {},
   "outputs": [
    {
     "name": "stdout",
     "output_type": "stream",
     "text": [
      "Lista de Reproducción\n",
      "\n",
      "Ingresa la palabra que te gustaría\n",
      "Ejemplo: 'rock', y obtendrás un playlist de canciones o artistas que incluyan la palabra rock\n",
      "opera\n",
      "(('Ópera', 'Aklipe44'), ('Opéra', 'Emmanuel Santarromana'), ('Opera', 'Gabry Ponte'), ('Opera', 'D Savage'), ('Opera', 'Ballarak'), (\"L'Opéra\", 'Bertrand Belin'), ('Opéra', 'Le Lij'), ('Opera', 'Surf Curse'), ('Différent (feat. J9ueve)', 'Opera'), ('Opera House', 'Cigarettes After Sex'), (\"L'Opéra (Live à l'Olympia)\", 'Bertrand Belin'), ('Opera2', 'Vitas'), ('Operaz', 'Chinese Man'), ('Opera', 'Lifeples'), ('Opará', 'Gaby Amarantos'), ('Opera', 'D Savage'), ('Opera', 'ZOO'), ('O Peru', 'Arnaldo Antunes'), ('Opera', 'Shantic Souh'), ('The Opera', 'R.Kelly'), ('Opera', 'Kaden Lamb'), ('Comeback', 'Thabigtony'), ('Opra', 'Royville'), ('Ópera do Morro', 'Bezerra Da Silva'), ('Ópera de Meias', 'VMZ'))\n"
     ]
    }
   ],
   "source": [
    "import requests\n",
    "\n",
    "print(\"Lista de Reproducción\\n\")\n",
    "print(\"Ingresa la palabra que te gustaría\")\n",
    "print(\"Ejemplo: 'rock', y obtendrás un playlist de canciones o artistas que incluyan la palabra rock\")\n",
    "word_to_search = input()\n",
    "\n",
    "url = \"https://deezerdevs-deezer.p.rapidapi.com/search\"\n",
    "querystring = {\"q\": word_to_search}\n",
    "headers = {\n",
    "    \"X-RapidAPI-Key\": \"3ed98f551fmshe4e6260228c4eadp13db17jsn8c893e1194da\",\n",
    "    \"X-RapidAPI-Host\": \"deezerdevs-deezer.p.rapidapi.com\"\n",
    "}\n",
    "\n",
    "response = requests.request(\"GET\", url, headers=headers, params=querystring).json()\n",
    "\n",
    "playlist = []\n",
    "\n",
    "for element in response['data']:\n",
    "    playlist.append((element['title'], element['artist']['name']))\n",
    "\n",
    "print(tuple(playlist))"
   ]
  }
 ],
 "metadata": {
  "kernelspec": {
   "display_name": "Python 3 (ipykernel)",
   "language": "python",
   "name": "python3"
  },
  "language_info": {
   "codemirror_mode": {
    "name": "ipython",
    "version": 3
   },
   "file_extension": ".py",
   "mimetype": "text/x-python",
   "name": "python",
   "nbconvert_exporter": "python",
   "pygments_lexer": "ipython3",
   "version": "3.11.3"
  }
 },
 "nbformat": 4,
 "nbformat_minor": 5
}
