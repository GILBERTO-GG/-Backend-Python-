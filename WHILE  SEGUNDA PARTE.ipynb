{
 "cells": [
  {
   "cell_type": "code",
   "execution_count": 5,
   "id": "fd4b7f35",
   "metadata": {},
   "outputs": [
    {
     "name": "stdout",
     "output_type": "stream",
     "text": [
      "Captura el valor de n:  101\n",
      "La suma es:   5151\n"
     ]
    }
   ],
   "source": [
    "n = int(input(\"Captura el valor de n:  \"))\n",
    "\n",
    "suma = 0\n",
    "\n",
    "i = 1\n",
    "\n",
    "while i <= n:\n",
    "    \n",
    "    suma = suma + i \n",
    "    \n",
    "    i+=1\n",
    "    \n",
    "print(\"La suma es:  \", suma)    "
   ]
  },
  {
   "cell_type": "code",
   "execution_count": 1,
   "id": "1743bac3",
   "metadata": {},
   "outputs": [
    {
     "name": "stdout",
     "output_type": "stream",
     "text": [
      "c\n",
      "b\n",
      "a\n"
     ]
    },
    {
     "data": {
      "text/plain": [
       "[]"
      ]
     },
     "execution_count": 1,
     "metadata": {},
     "output_type": "execute_result"
    }
   ],
   "source": [
    "lista = [\"a\",\"b\",\"c\"]\n",
    "\n",
    "while lista:\n",
    "    print(lista.pop(-1))\n",
    "lista    \n",
    "    \n",
    "    "
   ]
  },
  {
   "cell_type": "code",
   "execution_count": 2,
   "id": "69e614e7",
   "metadata": {},
   "outputs": [
    {
     "name": "stdout",
     "output_type": "stream",
     "text": [
      "4\n",
      "3\n",
      "2\n",
      "1\n",
      "0\n"
     ]
    }
   ],
   "source": [
    "n = 5\n",
    "while n > 0:  n -= 1; print(n)"
   ]
  },
  {
   "cell_type": "code",
   "execution_count": 3,
   "id": "5867779e",
   "metadata": {},
   "outputs": [
    {
     "name": "stdout",
     "output_type": "stream",
     "text": [
      "El número de valores pares es:   4\n",
      "El número de valores impares es:   5\n"
     ]
    }
   ],
   "source": [
    "#  pares e impares\n",
    "\n",
    "numeros = (1,2,3,4,5,6,7,8,9)\n",
    "\n",
    "valores = len(numeros)\n",
    "\n",
    "pares = 0\n",
    "impares = 0\n",
    "contador = 1\n",
    "\n",
    "while contador <= valores:\n",
    "    \n",
    "    if numeros[contador - 1] % 2 == 0:\n",
    "        pares += 1\n",
    "    else:\n",
    "        impares += 1\n",
    "    contador += 1\n",
    "    \n",
    "print(\"El número de valores pares es:  \", pares)    \n",
    "print(\"El número de valores impares es:  \", impares)"
   ]
  },
  {
   "cell_type": "code",
   "execution_count": 5,
   "id": "561426b1",
   "metadata": {},
   "outputs": [
    {
     "name": "stdout",
     "output_type": "stream",
     "text": [
      "0\n",
      "1\n",
      "1\n",
      "2\n",
      "3\n",
      "5\n",
      "8\n",
      "13\n",
      "21\n",
      "34\n"
     ]
    }
   ],
   "source": [
    "x, y = 0, 1\n",
    "print(x)\n",
    "print(y)\n",
    "\n",
    "while x + y < 50:\n",
    "    \n",
    "    x = x + y\n",
    "    \n",
    "    print(x)\n",
    "    \n",
    "    y = x + y\n",
    "    \n",
    "    print(y)\n",
    "    "
   ]
  },
  {
   "cell_type": "code",
   "execution_count": 7,
   "id": "8b8e7b65",
   "metadata": {},
   "outputs": [
    {
     "name": "stdout",
     "output_type": "stream",
     "text": [
      "0\n",
      "1\n",
      "1\n",
      "2\n",
      "3\n",
      "5\n",
      "8\n",
      "13\n",
      "21\n",
      "34\n"
     ]
    }
   ],
   "source": [
    "x, y = 0, 1\n",
    "print(x)\n",
    "while y < 50:\n",
    "    print(y)\n",
    "    x, y = y, x + y \n",
    "\n"
   ]
  }
 ],
 "metadata": {
  "kernelspec": {
   "display_name": "Python 3 (ipykernel)",
   "language": "python",
   "name": "python3"
  },
  "language_info": {
   "codemirror_mode": {
    "name": "ipython",
    "version": 3
   },
   "file_extension": ".py",
   "mimetype": "text/x-python",
   "name": "python",
   "nbconvert_exporter": "python",
   "pygments_lexer": "ipython3",
   "version": "3.11.3"
  }
 },
 "nbformat": 4,
 "nbformat_minor": 5
}
