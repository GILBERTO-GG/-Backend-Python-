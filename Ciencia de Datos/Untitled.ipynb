{
 "cells": [
  {
   "cell_type": "code",
   "execution_count": 6,
   "id": "95134d10",
   "metadata": {},
   "outputs": [
    {
     "name": "stdout",
     "output_type": "stream",
     "text": [
      "8 puede ser expresado como 2^[8, 32, 40] = 8\n",
      "32 puede ser expresado como 2^[8, 32, 40] = 32\n",
      "40 no puede ser expresado como 2^K = 40\n"
     ]
    }
   ],
   "source": [
    "def es_potencia_de_dos(n):\n",
    "    k = 0\n",
    "    while 2 ** k <= n:\n",
    "        if 2 ** k == n:\n",
    "            return True\n",
    "        k += 1\n",
    "    return False\n",
    "\n",
    "# Pruebas de ejemplo\n",
    "numeros = [8, 32, 40]\n",
    "\n",
    "for num in numeros:\n",
    "    if es_potencia_de_dos(num):\n",
    "        print(f\"{num} puede ser expresado como 2^{numeros} =\",  num)\n",
    "    else:\n",
    "        print(f\"{num} no puede ser expresado como 2^K =\",num)"
   ]
  }
 ],
 "metadata": {
  "kernelspec": {
   "display_name": "Python 3 (ipykernel)",
   "language": "python",
   "name": "python3"
  },
  "language_info": {
   "codemirror_mode": {
    "name": "ipython",
    "version": 3
   },
   "file_extension": ".py",
   "mimetype": "text/x-python",
   "name": "python",
   "nbconvert_exporter": "python",
   "pygments_lexer": "ipython3",
   "version": "3.11.3"
  }
 },
 "nbformat": 4,
 "nbformat_minor": 5
}
