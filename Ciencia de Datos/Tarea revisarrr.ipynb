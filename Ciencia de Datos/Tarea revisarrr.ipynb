{
 "cells": [
  {
   "cell_type": "code",
   "execution_count": 37,
   "id": "96d19a7c",
   "metadata": {},
   "outputs": [
    {
     "name": "stdout",
     "output_type": "stream",
     "text": [
      "Programa que calcula el total a pagar a un trabajador de acuerdo a las horas trabajadas\n",
      "\n",
      "\n",
      " ----------------------------------------------------------------------------------\n",
      "----------------------------------------------------------------------------------\n",
      "----------------------------------------------------------------------------------\n",
      "Introduce el total de horas trabajadas de la semana:  -6\n",
      "Introduce tu tarifa de pago:  -2\n",
      "\n",
      "Horas trabajadas en la semana:   -6\n",
      "Tarifa de pago:  -2\n",
      "El Monto a pagar es:   12\n"
     ]
    }
   ],
   "source": [
    "print(\"Programa que calcula el total a pagar a un trabajador de acuerdo a las horas trabajadas\")\n",
    "\n",
    "print(\"\\n\\n ----------------------------------------------------------------------------------\")\n",
    "print(\"----------------------------------------------------------------------------------\")\n",
    "print(\"----------------------------------------------------------------------------------\")\n",
    "\n",
    "monto_pagar=0\n",
    "tarifa_extra = 0\n",
    "horas_extra = 0\n",
    "\n",
    "horas_laboradas = int(input(\"Introduce el total de horas trabajadas de la semana:  \"))\n",
    "tarifa_pago = int(input(\"Introduce tu tarifa de pago:  \"))\n",
    "\n",
    "print(\"\\nHoras trabajadas en la semana:  \", horas_laboradas)\n",
    "print(\"Tarifa de pago: \", tarifa_pago)\n",
    "\n",
    "if:\n",
    "    horas_laboradas < 0 or tarifa_por_hora < 0       #d\n",
    "    print(\"Parámetros incorrectos\")  \n",
    "\n",
    "else:\n",
    "\n",
    "    if horas_laboradas <= 40:                              #a\n",
    "    monto_pagar = horas_laboradas * tarifa_pago\n",
    "\n",
    "    elif  horas_laboradas > 40 and horas_laboradas <= 50:                  #b\n",
    "          horas_extra = horas_laboradas - 40\n",
    "        tarifa_extra = tarifa_pago * 1.10\n",
    "         monto_pagar = (40 * tarifa_pago) + (horas_extra * tarifa_extra)\n",
    "    \n",
    "    elif  horas_laboradas >  50:                            #c\n",
    "          horas_extra = horas_laboradas - 50\n",
    "        tarifa_extra = tarifa_pago * 1.20\n",
    "          monto_pagar = (40 * tarifa_pago) + (10 * tarifa_pago * 1.10) + (horas_extra * tarifa_extra)  \n",
    "        \n",
    "    \n",
    "print(\"El Monto a pagar es:  \", monto_pagar)    "
   ]
  },
  {
   "cell_type": "code",
   "execution_count": null,
   "id": "797e0217",
   "metadata": {},
   "outputs": [],
   "source": []
  },
  {
   "cell_type": "code",
   "execution_count": null,
   "id": "ea1097f5",
   "metadata": {},
   "outputs": [],
   "source": []
  }
 ],
 "metadata": {
  "kernelspec": {
   "display_name": "Python 3 (ipykernel)",
   "language": "python",
   "name": "python3"
  },
  "language_info": {
   "codemirror_mode": {
    "name": "ipython",
    "version": 3
   },
   "file_extension": ".py",
   "mimetype": "text/x-python",
   "name": "python",
   "nbconvert_exporter": "python",
   "pygments_lexer": "ipython3",
   "version": "3.11.3"
  }
 },
 "nbformat": 4,
 "nbformat_minor": 5
}
