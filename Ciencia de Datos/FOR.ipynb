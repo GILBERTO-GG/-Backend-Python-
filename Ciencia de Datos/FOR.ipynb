{
 "cells": [
  {
   "cell_type": "code",
   "execution_count": 1,
   "id": "ee2f6936",
   "metadata": {},
   "outputs": [
    {
     "name": "stdout",
     "output_type": "stream",
     "text": [
      "La suma es:  48\n"
     ]
    }
   ],
   "source": [
    "numeros = [6,5,3,8,4,2,5,4,11]\n",
    "\n",
    "suma = 0\n",
    "\n",
    "for valor in numeros:\n",
    "    \n",
    "    suma = suma + valor\n",
    "    \n",
    "print(\"La suma es: \", suma)    "
   ]
  },
  {
   "cell_type": "code",
   "execution_count": 2,
   "id": "be8dd2d1",
   "metadata": {},
   "outputs": [
    {
     "name": "stdout",
     "output_type": "stream",
     "text": [
      "La suma es 48\n"
     ]
    }
   ],
   "source": [
    "numeros = [6,5,3,8,4,2,5,4,11]\n",
    "\n",
    "suma = 0\n",
    "\n",
    "for valor in numeros:\n",
    "    \n",
    "    suma = suma + valor\n",
    "    \n",
    "print(f\"La suma es {suma}\") "
   ]
  },
  {
   "cell_type": "code",
   "execution_count": 3,
   "id": "c71589ac",
   "metadata": {},
   "outputs": [
    {
     "name": "stdout",
     "output_type": "stream",
     "text": [
      "manzana\n",
      "fresa\n",
      "cereza\n"
     ]
    }
   ],
   "source": [
    "frutas = [\"manzana\", \"fresa\", \"cereza\"]\n",
    "for fruta in frutas:\n",
    "    print(fruta)"
   ]
  },
  {
   "cell_type": "code",
   "execution_count": 4,
   "id": "d0d38694",
   "metadata": {},
   "outputs": [
    {
     "name": "stdout",
     "output_type": "stream",
     "text": [
      "p\n",
      "l\n",
      "á\n",
      "t\n",
      "a\n",
      "n\n",
      "o\n"
     ]
    }
   ],
   "source": [
    "for letra in \"plátano\":\n",
    "    print(letra)"
   ]
  },
  {
   "cell_type": "code",
   "execution_count": 7,
   "id": "4f3a1427",
   "metadata": {},
   "outputs": [
    {
     "name": "stdout",
     "output_type": "stream",
     "text": [
      "5\n",
      "7\n",
      "11\n",
      "13\n",
      "Total:  36\n"
     ]
    }
   ],
   "source": [
    "total = 0\n",
    "for i in 5, 7, 11, 13:\n",
    "    print(i)\n",
    "    total = total + i\n",
    "print(\"Total: \", total)"
   ]
  },
  {
   "cell_type": "code",
   "execution_count": 8,
   "id": "ba639b46",
   "metadata": {},
   "outputs": [
    {
     "name": "stdout",
     "output_type": "stream",
     "text": [
      "0\n",
      "1\n",
      "2\n",
      "3\n",
      "4\n",
      "5\n"
     ]
    }
   ],
   "source": [
    "for x in range(6):\n",
    "    print(x)"
   ]
  },
  {
   "cell_type": "code",
   "execution_count": 9,
   "id": "4607281b",
   "metadata": {},
   "outputs": [
    {
     "name": "stdout",
     "output_type": "stream",
     "text": [
      "2\n",
      "3\n",
      "4\n",
      "5\n",
      "6\n",
      "7\n",
      "8\n",
      "9\n"
     ]
    }
   ],
   "source": [
    "for x in range(2,10):\n",
    "    print(x)"
   ]
  },
  {
   "cell_type": "code",
   "execution_count": 13,
   "id": "a579f0cd",
   "metadata": {},
   "outputs": [
    {
     "name": "stdout",
     "output_type": "stream",
     "text": [
      "2\n",
      "5\n",
      "8\n"
     ]
    }
   ],
   "source": [
    "for x in range(2,10,3):\n",
    "    print(x)"
   ]
  },
  {
   "cell_type": "code",
   "execution_count": 14,
   "id": "f2e811ac",
   "metadata": {},
   "outputs": [
    {
     "name": "stdout",
     "output_type": "stream",
     "text": [
      "0\n",
      "1\n",
      "2\n",
      "3\n",
      "4\n",
      "5\n",
      "proceso terminado\n"
     ]
    }
   ],
   "source": [
    "for x in range(6):\n",
    "    print(x)\n",
    "else:\n",
    "    print(\"proceso terminado\")"
   ]
  },
  {
   "cell_type": "code",
   "execution_count": 15,
   "id": "7bb5d173",
   "metadata": {},
   "outputs": [
    {
     "name": "stdout",
     "output_type": "stream",
     "text": [
      "Número más grande:  74\n"
     ]
    }
   ],
   "source": [
    "mas_grande = -1\n",
    "\n",
    "for numero in [9, 41,12, 3, 74, 15]:\n",
    "    if numero > mas_grande:\n",
    "        mas_grande = numero\n",
    "print(\"Número más grande: \", mas_grande)        \n",
    "    "
   ]
  },
  {
   "cell_type": "code",
   "execution_count": 16,
   "id": "419a541b",
   "metadata": {},
   "outputs": [
    {
     "name": "stdout",
     "output_type": "stream",
     "text": [
      "manzana\n",
      "fresa\n"
     ]
    }
   ],
   "source": [
    "frutas = [\"manzana\", \"fresa\", \"cereza\"]\n",
    "for fruta in frutas:\n",
    "    print(fruta)\n",
    "    if fruta == \"fresa\":\n",
    "        break"
   ]
  },
  {
   "cell_type": "code",
   "execution_count": 18,
   "id": "fa03c989",
   "metadata": {},
   "outputs": [
    {
     "name": "stdout",
     "output_type": "stream",
     "text": [
      "0\n",
      "1\n",
      "2\n"
     ]
    }
   ],
   "source": [
    "for x in range(6):\n",
    "    if x == 3: break\n",
    "    print(x)\n",
    "else:\n",
    "    print(\"Proceso terminado\")"
   ]
  },
  {
   "cell_type": "code",
   "execution_count": 21,
   "id": "3acc61d8",
   "metadata": {},
   "outputs": [
    {
     "name": "stdout",
     "output_type": "stream",
     "text": [
      "Nombre del estudiante:  José\n",
      "Calificación:  85\n"
     ]
    }
   ],
   "source": [
    "nombre = input(\"Nombre del estudiante:  \")\n",
    "datos = {\"José\" : 85, \"Angela\" : 92, \"Miguel\" : 75, \"Ana\" : 98}\n",
    "\n",
    "for estudiante in datos:\n",
    "    if estudiante == nombre:\n",
    "        print(\"Calificación: \", datos[estudiante])\n",
    "        break\n",
    "else:\n",
    "    print(\"No se encontró al estudiante solicitado\")"
   ]
  },
  {
   "cell_type": "code",
   "execution_count": 22,
   "id": "33e35b9a",
   "metadata": {},
   "outputs": [
    {
     "name": "stdout",
     "output_type": "stream",
     "text": [
      "manzana roja\n",
      "manzana grande\n",
      "manzana deliciosa\n",
      "fresa roja\n",
      "fresa grande\n",
      "fresa deliciosa\n",
      "cereza roja\n",
      "cereza grande\n",
      "cereza deliciosa\n"
     ]
    }
   ],
   "source": [
    "frutas = [\"manzana\", \"fresa\", \"cereza\"]\n",
    "adjetivos = [\"roja\", \"grande\", \"deliciosa\"]\n",
    "\n",
    "for fruta in frutas:\n",
    "    for tipo in adjetivos:\n",
    "        print(fruta, tipo)"
   ]
  },
  {
   "cell_type": "code",
   "execution_count": 23,
   "id": "7cb23678",
   "metadata": {},
   "outputs": [
    {
     "name": "stdout",
     "output_type": "stream",
     "text": [
      "40\n",
      "30\n",
      "20\n",
      "10\n"
     ]
    }
   ],
   "source": [
    "lista = [10, 20, 30, 40]\n",
    "for numero in reversed(lista):\n",
    "    print(numero)"
   ]
  },
  {
   "cell_type": "code",
   "execution_count": 30,
   "id": "9e517cca",
   "metadata": {},
   "outputs": [
    {
     "name": "stdout",
     "output_type": "stream",
     "text": [
      "Dame el número de tablas a calcular:  3\n",
      "Tabla de multiplicar del:  1\n",
      "1 2 3 4 5 6 7 8 9 10 \n",
      "\n",
      "Tabla de multiplicar del:  2\n",
      "2 4 6 8 10 12 14 16 18 20 \n",
      "\n",
      "Tabla de multiplicar del:  3\n",
      "3 6 9 12 15 18 21 24 27 30 \n",
      "\n"
     ]
    }
   ],
   "source": [
    "tablas = int(input(\"Dame el número de tablas a calcular:  \"))\n",
    "\n",
    "for i in range(1, tablas + 1):\n",
    "\n",
    "    print(\"Tabla de multiplicar del: \",i)\n",
    "    contador = 1\n",
    "    \n",
    "    while contador < 11:\n",
    "        print(i * contador, end = ' ')\n",
    "        contador += 1\n",
    "    print(\"\\n\")  \n",
    "        "
   ]
  }
 ],
 "metadata": {
  "kernelspec": {
   "display_name": "Python 3 (ipykernel)",
   "language": "python",
   "name": "python3"
  },
  "language_info": {
   "codemirror_mode": {
    "name": "ipython",
    "version": 3
   },
   "file_extension": ".py",
   "mimetype": "text/x-python",
   "name": "python",
   "nbconvert_exporter": "python",
   "pygments_lexer": "ipython3",
   "version": "3.11.3"
  }
 },
 "nbformat": 4,
 "nbformat_minor": 5
}
