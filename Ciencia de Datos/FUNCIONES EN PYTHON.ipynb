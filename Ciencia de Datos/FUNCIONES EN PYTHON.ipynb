{
 "cells": [
  {
   "cell_type": "markdown",
   "id": "6adad4aa",
   "metadata": {},
   "source": [
    "# ¿Qué es una Función?"
   ]
  },
  {
   "cell_type": "code",
   "execution_count": null,
   "id": "ea0198a5",
   "metadata": {},
   "outputs": [],
   "source": [
    "--Una función representa una subrutina que dado uno ó más parámetros de entrada devuelve un resultado como salida.\n",
    "--La creación de funciones en Python tiene un doble proposito:\n",
    "    \n",
    "    --Dividir y organizar el código en partes más sencillas.\n",
    "    --Encapsular el código que se repite a lo largo de un programa para ser reutilizado."
   ]
  },
  {
   "cell_type": "code",
   "execution_count": 1,
   "id": "d38f5c13",
   "metadata": {},
   "outputs": [
    {
     "name": "stdout",
     "output_type": "stream",
     "text": [
      "Hola\n"
     ]
    }
   ],
   "source": [
    "def saludo ():\n",
    "    print(\"Hola\")\n",
    "    \n",
    "saludo()    "
   ]
  },
  {
   "cell_type": "code",
   "execution_count": 2,
   "id": "8dde5a67",
   "metadata": {},
   "outputs": [
    {
     "name": "stdout",
     "output_type": "stream",
     "text": [
      "Hola: Gilberto\n"
     ]
    }
   ],
   "source": [
    "def saludo_nombre(nombre):\n",
    "    print(\"Hola: \" + nombre)\n",
    "    \n",
    "saludo_nombre(\"Gilberto\")    "
   ]
  },
  {
   "cell_type": "code",
   "execution_count": 3,
   "id": "6722de8c",
   "metadata": {},
   "outputs": [
    {
     "name": "stdout",
     "output_type": "stream",
     "text": [
      "12.5664\n"
     ]
    }
   ],
   "source": [
    "# Calcular el Área de un círculo\n",
    "\n",
    "def  area_circulo(radio):\n",
    "    area = 3.1416 * radio ** 2\n",
    "    return area\n",
    "\n",
    "mi_area = area_circulo(2)\n",
    "print(mi_area)"
   ]
  },
  {
   "cell_type": "code",
   "execution_count": 4,
   "id": "9337f762",
   "metadata": {},
   "outputs": [
    {
     "data": {
      "text/plain": [
       "8"
      ]
     },
     "execution_count": 4,
     "metadata": {},
     "output_type": "execute_result"
    }
   ],
   "source": [
    "def producto(x1, x2):\n",
    "    return x1 * x2  \n",
    "\n",
    "producto(2,4)"
   ]
  },
  {
   "cell_type": "code",
   "execution_count": 6,
   "id": "97da74d8",
   "metadata": {},
   "outputs": [
    {
     "name": "stdout",
     "output_type": "stream",
     "text": [
      "5\n"
     ]
    }
   ],
   "source": [
    "# Función con valores predeterminados\n",
    "\n",
    "def suma(a, b=3):\n",
    "    return a + b\n",
    "\n",
    "resultado = suma(2)\n",
    "print(resultado)"
   ]
  },
  {
   "cell_type": "code",
   "execution_count": 8,
   "id": "8a994cb6",
   "metadata": {},
   "outputs": [
    {
     "name": "stdout",
     "output_type": "stream",
     "text": [
      "20\n"
     ]
    }
   ],
   "source": [
    "def duplica(numero):\n",
    "    x = numero * 2\n",
    "    return x\n",
    "\n",
    "print(duplica(10))"
   ]
  },
  {
   "cell_type": "code",
   "execution_count": 9,
   "id": "457e85fd",
   "metadata": {},
   "outputs": [
    {
     "name": "stdout",
     "output_type": "stream",
     "text": [
      "Mi mejor amigo es: Rodrigo\n"
     ]
    }
   ],
   "source": [
    "def mi_funcion(*amigos):\n",
    "    print(\"Mi mejor amigo es: \" + amigos[2])\n",
    "    \n",
    "mi_funcion(\"Pedro\", \"José\", \"Rodrigo\", \"Tadeo\")    "
   ]
  },
  {
   "cell_type": "code",
   "execution_count": 10,
   "id": "e1dfd7f9",
   "metadata": {},
   "outputs": [
    {
     "name": "stdout",
     "output_type": "stream",
     "text": [
      "El niño más joven es: Tadeo\n"
     ]
    }
   ],
   "source": [
    "def chicos(chico1, chico2, chico3):\n",
    "    print(\"El niño más joven es: \" + chico3)\n",
    "    \n",
    "chicos(chico3 = \"Tadeo\", chico1 = \"Juan\", chico2 = \"Armando\")"
   ]
  },
  {
   "cell_type": "code",
   "execution_count": 11,
   "id": "9d7e078a",
   "metadata": {},
   "outputs": [
    {
     "name": "stdout",
     "output_type": "stream",
     "text": [
      "El apellido es: Suárez\n"
     ]
    }
   ],
   "source": [
    "def apellido(**chico): \n",
    "    print(\"El apellido es: \" + chico[\"apellido\"])\n",
    "\n",
    "apellido(npila = \"Juan\", apellido = \"Suárez\", edad = 15)    \n"
   ]
  },
  {
   "cell_type": "code",
   "execution_count": 12,
   "id": "f1ae6ac2",
   "metadata": {},
   "outputs": [
    {
     "name": "stdout",
     "output_type": "stream",
     "text": [
      "Soy de: Argentina\n",
      "Soy de: México\n"
     ]
    }
   ],
   "source": [
    "def pais(country = \"México\"):\n",
    "    print(\"Soy de: \" + country)\n",
    "    \n",
    "pais(\"Argentina\")\n",
    "pais()"
   ]
  },
  {
   "cell_type": "code",
   "execution_count": 16,
   "id": "59ff87a3",
   "metadata": {},
   "outputs": [],
   "source": [
    "def funcion():\n",
    "    pass\n",
    "\n",
    "funcion()"
   ]
  },
  {
   "cell_type": "code",
   "execution_count": 17,
   "id": "15728939",
   "metadata": {},
   "outputs": [
    {
     "name": "stdout",
     "output_type": "stream",
     "text": [
      "manzana\n",
      "fresa\n",
      "sandía\n"
     ]
    }
   ],
   "source": [
    "# Pase de listas en Funciones\n",
    "\n",
    "def lista_comida(comida):\n",
    "    for x in comida:\n",
    "        print(x)\n",
    "        \n",
    "frutas = [\"manzana\", \"fresa\", \"sandía\"]\n",
    "lista_comida(frutas)"
   ]
  },
  {
   "cell_type": "code",
   "execution_count": 20,
   "id": "2633f080",
   "metadata": {},
   "outputs": [
    {
     "data": {
      "text/plain": [
       "[12, 24, 36, 48, 60, 72, 84, 96, 108, 120]"
      ]
     },
     "execution_count": 20,
     "metadata": {},
     "output_type": "execute_result"
    }
   ],
   "source": [
    "def tabla_del(numero):\n",
    "    resultados = []\n",
    "    for i in range(1,11):\n",
    "        resultados.append(numero * i)\n",
    "    return resultados   \n",
    "\n",
    "tabla_del(12)"
   ]
  },
  {
   "cell_type": "code",
   "execution_count": 22,
   "id": "29281869",
   "metadata": {},
   "outputs": [
    {
     "name": "stdout",
     "output_type": "stream",
     "text": [
      "[1, 2, 3, 4, 5, 6, 7, 8, 9, 10]\n",
      "[2, 4, 6, 8, 10, 12, 14, 16, 18, 20]\n",
      "[3, 6, 9, 12, 15, 18, 21, 24, 27, 30]\n",
      "[4, 8, 12, 16, 20, 24, 28, 32, 36, 40]\n",
      "[5, 10, 15, 20, 25, 30, 35, 40, 45, 50]\n",
      "[6, 12, 18, 24, 30, 36, 42, 48, 54, 60]\n",
      "[7, 14, 21, 28, 35, 42, 49, 56, 63, 70]\n",
      "[8, 16, 24, 32, 40, 48, 56, 64, 72, 80]\n",
      "[9, 18, 27, 36, 45, 54, 63, 72, 81, 90]\n",
      "[10, 20, 30, 40, 50, 60, 70, 80, 90, 100]\n"
     ]
    }
   ],
   "source": [
    "def tabla_del(numero):\n",
    "    resultados = []\n",
    "    for i in range(1,11):\n",
    "        resultados.append(numero * i)\n",
    "    return resultados   \n",
    "\n",
    "for valor in range(1,11):\n",
    "    print(tabla_del(valor))"
   ]
  },
  {
   "cell_type": "code",
   "execution_count": 24,
   "id": "146654dd",
   "metadata": {},
   "outputs": [
    {
     "name": "stdout",
     "output_type": "stream",
     "text": [
      "True\n"
     ]
    }
   ],
   "source": [
    "def Palindromo(cadena):\n",
    "    izquierda = 0\n",
    "    derecha = len(cadena) - 1 \n",
    "    \n",
    "    while derecha >= izquierda:\n",
    "        if not (cadena[izquierda] == cadena[derecha]):\n",
    "            return False\n",
    "        izquierda += 1\n",
    "        derecha -= 1\n",
    "    return True   \n",
    "\n",
    "print(Palindromo(\"rayar\"))\n",
    "        \n",
    "        "
   ]
  },
  {
   "cell_type": "code",
   "execution_count": 28,
   "id": "40f5e4ff",
   "metadata": {},
   "outputs": [
    {
     "name": "stdout",
     "output_type": "stream",
     "text": [
      "True\n"
     ]
    }
   ],
   "source": [
    "#  Versión 2 del programa anterior:\n",
    "\n",
    "def Palindromo2(cadena):\n",
    "    izquierda = 0\n",
    "    derecha = len(cadena) - 1 \n",
    "    \n",
    "    while derecha >= izquierda:\n",
    "        if not (cadena[izquierda].lower() == cadena[derecha].lower()):\n",
    "            return False\n",
    "        izquierda += 1\n",
    "        derecha -= 1\n",
    "    return True   \n",
    "\n",
    "print(Palindromo2(\"Rayar\"))"
   ]
  },
  {
   "cell_type": "markdown",
   "id": "c7dbaee8",
   "metadata": {},
   "source": [
    "# Funciones Lambda"
   ]
  },
  {
   "cell_type": "code",
   "execution_count": null,
   "id": "8869e398",
   "metadata": {},
   "outputs": [],
   "source": [
    "--Las expresiones lambda en Python son una forma corta de declarar funciones pequeñas y anónimas (no es necesario\n",
    "  proporcionar un nombre para las funciones lambda).\n",
    "--Las funciones lambda se comportan como funciones normales declaradas con la palabra clave def.\n",
    "\n",
    "\n",
    "       nombre_función = lambda x: función de x"
   ]
  },
  {
   "cell_type": "code",
   "execution_count": 29,
   "id": "eee188a1",
   "metadata": {},
   "outputs": [
    {
     "name": "stdout",
     "output_type": "stream",
     "text": [
      "4\n"
     ]
    }
   ],
   "source": [
    "# Función tradicional\n",
    "\n",
    "def cuadrado(x):\n",
    "    return x **2\n",
    "print(cuadrado(2))"
   ]
  },
  {
   "cell_type": "code",
   "execution_count": 30,
   "id": "810f138f",
   "metadata": {},
   "outputs": [
    {
     "name": "stdout",
     "output_type": "stream",
     "text": [
      "4\n"
     ]
    }
   ],
   "source": [
    "cuadrado = lambda x: x ** 2\n",
    "print(cuadrado(2))"
   ]
  },
  {
   "cell_type": "code",
   "execution_count": 31,
   "id": "a4ef1c0a",
   "metadata": {},
   "outputs": [
    {
     "data": {
      "text/plain": [
       "5"
      ]
     },
     "execution_count": 31,
     "metadata": {},
     "output_type": "execute_result"
    }
   ],
   "source": [
    "suma = lambda x, y: x + y\n",
    "suma(2,3)"
   ]
  },
  {
   "cell_type": "code",
   "execution_count": 32,
   "id": "b84dba11",
   "metadata": {},
   "outputs": [
    {
     "data": {
      "text/plain": [
       "5"
      ]
     },
     "execution_count": 32,
     "metadata": {},
     "output_type": "execute_result"
    }
   ],
   "source": [
    "(lambda x, y: x + y)(2,3)                   #  ---------------------> FUNCION ANONIMA"
   ]
  },
  {
   "cell_type": "code",
   "execution_count": 33,
   "id": "872dafe9",
   "metadata": {},
   "outputs": [
    {
     "name": "stdout",
     "output_type": "stream",
     "text": [
      "El doble del número 15 es:   30\n"
     ]
    }
   ],
   "source": [
    "def Calcula(n):\n",
    "    return lambda x: x * n\n",
    "\n",
    "resultado = Calcula(2)\n",
    "print(\"El doble del número 15 es:  \", resultado(15))"
   ]
  },
  {
   "cell_type": "code",
   "execution_count": 34,
   "id": "5e98930a",
   "metadata": {},
   "outputs": [
    {
     "name": "stdout",
     "output_type": "stream",
     "text": [
      "True\n"
     ]
    }
   ],
   "source": [
    "Inicia_con = lambda texto, x: True if x.startswith(texto) else False\n",
    "print(Inicia_con('P','Python'))"
   ]
  },
  {
   "cell_type": "code",
   "execution_count": null,
   "id": "c87afde1",
   "metadata": {},
   "outputs": [],
   "source": []
  }
 ],
 "metadata": {
  "kernelspec": {
   "display_name": "Python 3 (ipykernel)",
   "language": "python",
   "name": "python3"
  },
  "language_info": {
   "codemirror_mode": {
    "name": "ipython",
    "version": 3
   },
   "file_extension": ".py",
   "mimetype": "text/x-python",
   "name": "python",
   "nbconvert_exporter": "python",
   "pygments_lexer": "ipython3",
   "version": "3.11.3"
  }
 },
 "nbformat": 4,
 "nbformat_minor": 5
}
