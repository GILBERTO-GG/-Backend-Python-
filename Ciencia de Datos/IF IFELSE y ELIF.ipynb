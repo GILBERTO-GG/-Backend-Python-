{
 "cells": [
  {
   "cell_type": "code",
   "execution_count": 1,
   "id": "e2f3df83",
   "metadata": {},
   "outputs": [
    {
     "name": "stdout",
     "output_type": "stream",
     "text": [
      "b es mayor que a\n"
     ]
    }
   ],
   "source": [
    "a = 33\n",
    "b = 200\n",
    "if b > a: \n",
    "    print(\"b es mayor que a\")"
   ]
  },
  {
   "cell_type": "code",
   "execution_count": 2,
   "id": "7d689a1a",
   "metadata": {},
   "outputs": [
    {
     "name": "stdout",
     "output_type": "stream",
     "text": [
      "1\n",
      "2\n",
      "3\n"
     ]
    }
   ],
   "source": [
    "if \"f\" in \"food\":\n",
    "    print(\"1\")\n",
    "    print(\"2\")\n",
    "    print(\"3\")"
   ]
  },
  {
   "cell_type": "code",
   "execution_count": 3,
   "id": "b2e27452",
   "metadata": {},
   "outputs": [
    {
     "name": "stdout",
     "output_type": "stream",
     "text": [
      "1\n",
      "2\n",
      "3\n"
     ]
    }
   ],
   "source": [
    "if \"f\" in \"food\":  print(\"1\"); print(\"2\"); print(\"3\")     # Alternativa de ejecución en un solo renglón"
   ]
  },
  {
   "cell_type": "code",
   "execution_count": 4,
   "id": "f7afeb81",
   "metadata": {},
   "outputs": [
    {
     "name": "stdout",
     "output_type": "stream",
     "text": [
      "i es mayor que 11\n"
     ]
    }
   ],
   "source": [
    "i = 15 \n",
    "if i > 11: print(\"i es mayor que 11\")"
   ]
  },
  {
   "cell_type": "code",
   "execution_count": 5,
   "id": "7112ee6d",
   "metadata": {},
   "outputs": [
    {
     "name": "stdout",
     "output_type": "stream",
     "text": [
      "Ambas condiciones son verdaderas\n"
     ]
    }
   ],
   "source": [
    "a = 200\n",
    "b = 33\n",
    "c = 500\n",
    "if a > b and c > a:\n",
    "    print(\"Ambas condiciones son verdaderas\")"
   ]
  },
  {
   "cell_type": "code",
   "execution_count": 6,
   "id": "5f89e7f2",
   "metadata": {},
   "outputs": [
    {
     "name": "stdout",
     "output_type": "stream",
     "text": [
      "Al menos una de las condiciones es verdadera\n"
     ]
    }
   ],
   "source": [
    "a = 200\n",
    "b = 33\n",
    "c = 500\n",
    "if a > b or c > a:\n",
    "    print(\"Al menos una de las condiciones es verdadera\")"
   ]
  },
  {
   "cell_type": "code",
   "execution_count": 7,
   "id": "f4d45dd1",
   "metadata": {},
   "outputs": [
    {
     "name": "stdout",
     "output_type": "stream",
     "text": [
      "Pequeño\n",
      "Fin\n"
     ]
    }
   ],
   "source": [
    "x = 5\n",
    "if x < 10:\n",
    "    print(\"Pequeño\")\n",
    "if x > 20:\n",
    "    print(\"Grande\")\n",
    "print(\"Fin\")    "
   ]
  },
  {
   "cell_type": "code",
   "execution_count": 8,
   "id": "24d645be",
   "metadata": {},
   "outputs": [
    {
     "name": "stdout",
     "output_type": "stream",
     "text": [
      "Igual a 5\n",
      "Mayor que 4\n",
      "Mayor o igual a 5\n",
      "Menor a 6\n",
      "Menor o igual a 5\n",
      "Diferente de 6\n"
     ]
    }
   ],
   "source": [
    "x = 5\n",
    "if x == 5:\n",
    "    print(\"Igual a 5\")\n",
    "if x > 4:\n",
    "    print(\"Mayor que 4\")\n",
    "if x >= 5:\n",
    "    print(\"Mayor o igual a 5\")\n",
    "if x < 6:  print(\"Menor a 6\")\n",
    "    \n",
    "if x <= 5: print(\"Menor o igual a 5\")    \n",
    "if x != 6: print(\"Diferente de 6\")    "
   ]
  },
  {
   "cell_type": "code",
   "execution_count": 10,
   "id": "9dae6ef1",
   "metadata": {},
   "outputs": [
    {
     "name": "stdout",
     "output_type": "stream",
     "text": [
      "Dame un número:  0\n",
      "Proceso terminado\n"
     ]
    }
   ],
   "source": [
    "x = input(\"Dame un número:  \")\n",
    "\n",
    "if float(x) > 1:\n",
    "    print(\"Mayor a uno\")\n",
    "    if float(x) < 100:\n",
    "        print(\"Menor a 100\")\n",
    "        \n",
    "print(\"Proceso terminado\")        "
   ]
  },
  {
   "cell_type": "code",
   "execution_count": 11,
   "id": "3297b3d8",
   "metadata": {},
   "outputs": [
    {
     "name": "stdout",
     "output_type": "stream",
     "text": [
      "Más grande\n",
      "Fin\n"
     ]
    }
   ],
   "source": [
    "x = 4\n",
    "if x > 2:\n",
    "    print(\"Más grande\")\n",
    "else:\n",
    "    print(\"Más pequeño\")\n",
    "print(\"Fin\")    "
   ]
  },
  {
   "cell_type": "code",
   "execution_count": 14,
   "id": "4f8a50b1",
   "metadata": {},
   "outputs": [
    {
     "name": "stdout",
     "output_type": "stream",
     "text": [
      "Dame un número:   1\n",
      "x =  1.0\n",
      "Pequeño\n",
      "\n",
      "Fin\n"
     ]
    }
   ],
   "source": [
    "x = float(input(\"Dame un número:   \"))\n",
    "\n",
    "if x < 2:\n",
    "    print(\"x = \", x)\n",
    "    print(\"Pequeño\")\n",
    "elif x < 10:\n",
    "    print(\"x = \", x)\n",
    "    print(\"Mediano\")\n",
    "else: \n",
    "    print(\"x = \", x)\n",
    "    print(\"Grande\")\n",
    "print(\"\\nFin\")    "
   ]
  },
  {
   "cell_type": "code",
   "execution_count": 15,
   "id": "3825f7ed",
   "metadata": {},
   "outputs": [
    {
     "name": "stdout",
     "output_type": "stream",
     "text": [
      "B\n"
     ]
    }
   ],
   "source": [
    "a = 3\n",
    "b = 5\n",
    "print(\"A\") if a > b else print(\"B\")"
   ]
  },
  {
   "cell_type": "code",
   "execution_count": 16,
   "id": "a3673a2c",
   "metadata": {},
   "outputs": [
    {
     "name": "stdout",
     "output_type": "stream",
     "text": [
      "B es mayor\n"
     ]
    }
   ],
   "source": [
    "a = 3\n",
    "b = 5\n",
    "print(\"A es mayor\") if a > b else print(\"=\") if a == b else print(\"B es mayor\")"
   ]
  },
  {
   "cell_type": "code",
   "execution_count": 17,
   "id": "8ef15779",
   "metadata": {},
   "outputs": [],
   "source": [
    "a = 33\n",
    "b = 200\n",
    "\n",
    "if b > a:\n",
    "    pass"
   ]
  },
  {
   "cell_type": "markdown",
   "id": "dc41a6eb",
   "metadata": {},
   "source": [
    "# try  y  except\n",
    "--Se utilizan cuando al intentar realizar una acción en caso de algún error se da una puerta de salida alternativa."
   ]
  },
  {
   "cell_type": "code",
   "execution_count": 19,
   "id": "be86932c",
   "metadata": {},
   "outputs": [
    {
     "name": "stdout",
     "output_type": "stream",
     "text": [
      "123\n"
     ]
    }
   ],
   "source": [
    "cadena1 = \"123\"\n",
    "entero = int(cadena1)\n",
    "print(entero)"
   ]
  },
  {
   "cell_type": "code",
   "execution_count": 22,
   "id": "5d068f78",
   "metadata": {},
   "outputs": [
    {
     "name": "stdout",
     "output_type": "stream",
     "text": [
      "Dame un entero positivo:  pablo\n",
      "Valor incorrecto\n"
     ]
    }
   ],
   "source": [
    "cadena = input(\"Dame un entero positivo:  \")\n",
    "try:\n",
    "    entero = int(cadena)\n",
    "except: \n",
    "    entero = -1\n",
    "    \n",
    "if entero > 0:\n",
    "    print(\"Valor correcto\")\n",
    "else:\n",
    "    print(\"Valor incorrecto\")"
   ]
  },
  {
   "cell_type": "markdown",
   "id": "94591001",
   "metadata": {},
   "source": [
    "# Usos avanzados de if"
   ]
  },
  {
   "cell_type": "code",
   "execution_count": 25,
   "id": "66e8b26d",
   "metadata": {},
   "outputs": [
    {
     "name": "stdout",
     "output_type": "stream",
     "text": [
      "Vamos a la playa\n"
     ]
    }
   ],
   "source": [
    "lluvia = False\n",
    "print(\"Vamos a\", \"la playa\" if not lluvia else \"la biblioteca\")"
   ]
  },
  {
   "cell_type": "code",
   "execution_count": 31,
   "id": "c05d4e2e",
   "metadata": {},
   "outputs": [
    {
     "data": {
      "text/plain": [
       "42"
      ]
     },
     "execution_count": 31,
     "metadata": {},
     "output_type": "execute_result"
    }
   ],
   "source": [
    "x = y = 40\n",
    "z = x + 1 if x > y else y + 2    \n",
    "z"
   ]
  },
  {
   "cell_type": "code",
   "execution_count": 33,
   "id": "8e8e5f24",
   "metadata": {},
   "outputs": [
    {
     "data": {
      "text/plain": [
       "'mno'"
      ]
     },
     "execution_count": 33,
     "metadata": {},
     "output_type": "execute_result"
    }
   ],
   "source": [
    "x = 3\n",
    "s = (\"abc\" if(x == 1) else\n",
    "     \"def\" if (x == 2) else\n",
    "     \"ghi\" if (x == 4) else\n",
    "     \"mno\")\n",
    "s"
   ]
  },
  {
   "cell_type": "code",
   "execution_count": 34,
   "id": "06f6937f",
   "metadata": {},
   "outputs": [
    {
     "data": {
      "text/plain": [
       "'No'"
      ]
     },
     "execution_count": 34,
     "metadata": {},
     "output_type": "execute_result"
    }
   ],
   "source": [
    "\"Sí\" if (\"jkl\" in [\"abc\",\"def\",\"ghi\"]) else \"No\""
   ]
  }
 ],
 "metadata": {
  "kernelspec": {
   "display_name": "Python 3 (ipykernel)",
   "language": "python",
   "name": "python3"
  },
  "language_info": {
   "codemirror_mode": {
    "name": "ipython",
    "version": 3
   },
   "file_extension": ".py",
   "mimetype": "text/x-python",
   "name": "python",
   "nbconvert_exporter": "python",
   "pygments_lexer": "ipython3",
   "version": "3.11.3"
  }
 },
 "nbformat": 4,
 "nbformat_minor": 5
}
