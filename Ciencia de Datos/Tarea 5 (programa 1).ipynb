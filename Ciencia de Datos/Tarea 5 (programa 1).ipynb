{
 "cells": [
  {
   "cell_type": "code",
   "execution_count": 5,
   "id": "160b7b97",
   "metadata": {},
   "outputs": [
    {
     "name": "stdout",
     "output_type": "stream",
     "text": [
      "La cadena original invertida es:   cba321\n"
     ]
    }
   ],
   "source": [
    "#Este programa invierte una cadena de caracteres dada.\n",
    "\n",
    "def Invierte_cadena(cadena):        #la función toma una cadena como argumento\n",
    "    invertida = cadena[::-1]        # [::-1] se utiliza para invertir la cadena\n",
    "    return invertida\n",
    "\n",
    "# Ejemplo de uso\n",
    "cadena_original = \"123abc\"\n",
    "cadena_invertida = Invierte_cadena(cadena_original)\n",
    "print(\"La cadena original invertida es:  \",cadena_invertida)\n",
    "\n"
   ]
  }
 ],
 "metadata": {
  "kernelspec": {
   "display_name": "Python 3 (ipykernel)",
   "language": "python",
   "name": "python3"
  },
  "language_info": {
   "codemirror_mode": {
    "name": "ipython",
    "version": 3
   },
   "file_extension": ".py",
   "mimetype": "text/x-python",
   "name": "python",
   "nbconvert_exporter": "python",
   "pygments_lexer": "ipython3",
   "version": "3.11.3"
  }
 },
 "nbformat": 4,
 "nbformat_minor": 5
}
