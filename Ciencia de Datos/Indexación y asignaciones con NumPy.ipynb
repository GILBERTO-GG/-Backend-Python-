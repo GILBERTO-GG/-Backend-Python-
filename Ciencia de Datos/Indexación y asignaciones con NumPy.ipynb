{
 "cells": [
  {
   "cell_type": "markdown",
   "id": "392394a0",
   "metadata": {},
   "source": [
    "# Indexación de un solo elemento"
   ]
  },
  {
   "cell_type": "code",
   "execution_count": 1,
   "id": "4244f87f",
   "metadata": {},
   "outputs": [
    {
     "data": {
      "text/plain": [
       "array([0, 1, 2, 3, 4, 5, 6, 7, 8, 9])"
      ]
     },
     "execution_count": 1,
     "metadata": {},
     "output_type": "execute_result"
    }
   ],
   "source": [
    "import numpy as np\n",
    "\n",
    "x = np.arange(10)\n",
    "x"
   ]
  },
  {
   "cell_type": "markdown",
   "id": "ea3c6fce",
   "metadata": {},
   "source": [
    "# Extracción de elementos de forma ascendente"
   ]
  },
  {
   "cell_type": "code",
   "execution_count": 2,
   "id": "aa919953",
   "metadata": {},
   "outputs": [
    {
     "data": {
      "text/plain": [
       "2"
      ]
     },
     "execution_count": 2,
     "metadata": {},
     "output_type": "execute_result"
    }
   ],
   "source": [
    "x[2]"
   ]
  },
  {
   "cell_type": "markdown",
   "id": "94b33ab7",
   "metadata": {},
   "source": [
    "# Extracción de elementos de forma descendente"
   ]
  },
  {
   "cell_type": "code",
   "execution_count": 3,
   "id": "a1d271c2",
   "metadata": {},
   "outputs": [
    {
     "data": {
      "text/plain": [
       "8"
      ]
     },
     "execution_count": 3,
     "metadata": {},
     "output_type": "execute_result"
    }
   ],
   "source": [
    "x[-2]"
   ]
  },
  {
   "cell_type": "markdown",
   "id": "1831d200",
   "metadata": {},
   "source": [
    "# Conversión del arreglo a formato bidimensional"
   ]
  },
  {
   "cell_type": "code",
   "execution_count": 4,
   "id": "6cd4e88f",
   "metadata": {},
   "outputs": [
    {
     "data": {
      "text/plain": [
       "array([[0, 1, 2, 3, 4],\n",
       "       [5, 6, 7, 8, 9]])"
      ]
     },
     "execution_count": 4,
     "metadata": {},
     "output_type": "execute_result"
    }
   ],
   "source": [
    "x.shape = (2,5)\n",
    "x"
   ]
  },
  {
   "cell_type": "markdown",
   "id": "dacd02ce",
   "metadata": {},
   "source": [
    "# Extracción del elemento con índice 1 en renglón e índice 3 en columna"
   ]
  },
  {
   "cell_type": "code",
   "execution_count": 5,
   "id": "f1ed1dfc",
   "metadata": {},
   "outputs": [
    {
     "data": {
      "text/plain": [
       "8"
      ]
     },
     "execution_count": 5,
     "metadata": {},
     "output_type": "execute_result"
    }
   ],
   "source": [
    "x[1,3]"
   ]
  },
  {
   "cell_type": "markdown",
   "id": "1804e3a4",
   "metadata": {},
   "source": [
    "# Alternativa de extracción del elemento con índice 1 en renglón e índice 3 en columna"
   ]
  },
  {
   "cell_type": "code",
   "execution_count": 6,
   "id": "1b946651",
   "metadata": {},
   "outputs": [
    {
     "data": {
      "text/plain": [
       "8"
      ]
     },
     "execution_count": 6,
     "metadata": {},
     "output_type": "execute_result"
    }
   ],
   "source": [
    "x[1][3]"
   ]
  },
  {
   "cell_type": "markdown",
   "id": "1bd70179",
   "metadata": {},
   "source": [
    "# Extracción del elemento con índice 1 en renglón y primer elemento en forma descendente"
   ]
  },
  {
   "cell_type": "code",
   "execution_count": 7,
   "id": "129d5fe5",
   "metadata": {},
   "outputs": [
    {
     "data": {
      "text/plain": [
       "9"
      ]
     },
     "execution_count": 7,
     "metadata": {},
     "output_type": "execute_result"
    }
   ],
   "source": [
    "x[1,-1]    "
   ]
  },
  {
   "cell_type": "markdown",
   "id": "22a71142",
   "metadata": {},
   "source": [
    "# Extracción del renglón completo con índice 0 (al no especificar índice de columna)"
   ]
  },
  {
   "cell_type": "code",
   "execution_count": 8,
   "id": "f5a46149",
   "metadata": {},
   "outputs": [
    {
     "data": {
      "text/plain": [
       "array([0, 1, 2, 3, 4])"
      ]
     },
     "execution_count": 8,
     "metadata": {},
     "output_type": "execute_result"
    }
   ],
   "source": [
    "x[0]"
   ]
  },
  {
   "cell_type": "markdown",
   "id": "1539453a",
   "metadata": {},
   "source": [
    "# Cortes en arreglos"
   ]
  },
  {
   "cell_type": "code",
   "execution_count": 9,
   "id": "f5312a3a",
   "metadata": {},
   "outputs": [
    {
     "data": {
      "text/plain": [
       "array([1, 3, 5])"
      ]
     },
     "execution_count": 9,
     "metadata": {},
     "output_type": "execute_result"
    }
   ],
   "source": [
    "x = np.array([0,1,2,3,4,5,6,7,8,9])\n",
    "x[1:7:2]    #--------------------------------> Formato:   \"start : stop: step\""
   ]
  },
  {
   "cell_type": "markdown",
   "id": "56881b58",
   "metadata": {},
   "source": [
    "# Corte del arreglo de adelante hacia atrás, considerando dos elementos."
   ]
  },
  {
   "cell_type": "code",
   "execution_count": 10,
   "id": "3b79750f",
   "metadata": {},
   "outputs": [
    {
     "data": {
      "text/plain": [
       "array([8, 9])"
      ]
     },
     "execution_count": 10,
     "metadata": {},
     "output_type": "execute_result"
    }
   ],
   "source": [
    "x[-2:10]"
   ]
  },
  {
   "cell_type": "markdown",
   "id": "e614ac09",
   "metadata": {},
   "source": [
    "# Corte del arreglo de adelante hacia atrás, iniciando tres posiciones a partir del final y retrocediendo hasta tener como límite el número 3"
   ]
  },
  {
   "cell_type": "code",
   "execution_count": 11,
   "id": "444c981f",
   "metadata": {},
   "outputs": [
    {
     "data": {
      "text/plain": [
       "array([7, 6, 5, 4])"
      ]
     },
     "execution_count": 11,
     "metadata": {},
     "output_type": "execute_result"
    }
   ],
   "source": [
    "x[-3:3:-1]"
   ]
  },
  {
   "cell_type": "markdown",
   "id": "dbbe6925",
   "metadata": {},
   "source": [
    "# Definición de un nuevo arreglo"
   ]
  },
  {
   "cell_type": "markdown",
   "id": "efd7afbe",
   "metadata": {},
   "source": [
    "# Creación de un arreglo en forma descendente  (del 10 al 1(sin incluirlo)) con decrementos de"
   ]
  },
  {
   "cell_type": "code",
   "execution_count": 12,
   "id": "e657e84d",
   "metadata": {},
   "outputs": [
    {
     "data": {
      "text/plain": [
       "array([10,  9,  8,  7,  6,  5,  4,  3,  2])"
      ]
     },
     "execution_count": 12,
     "metadata": {},
     "output_type": "execute_result"
    }
   ],
   "source": [
    "x = np.arange(10, 1, -1)\n",
    "x"
   ]
  },
  {
   "cell_type": "markdown",
   "id": "d3893514",
   "metadata": {},
   "source": [
    "# Extracción de elementos específicos del arreglo"
   ]
  },
  {
   "cell_type": "markdown",
   "id": "1a7f76eb",
   "metadata": {},
   "source": [
    "# Extracción de elementos con índices  3, 3, 1, 8"
   ]
  },
  {
   "cell_type": "code",
   "execution_count": 13,
   "id": "8c56f41c",
   "metadata": {},
   "outputs": [
    {
     "data": {
      "text/plain": [
       "array([7, 7, 9, 2])"
      ]
     },
     "execution_count": 13,
     "metadata": {},
     "output_type": "execute_result"
    }
   ],
   "source": [
    "x[np.array([3, 3, 1, 8])]      #----------------------->   array([10,  9,  8,  7,  6,  5,  4,  3,  2])"
   ]
  },
  {
   "cell_type": "markdown",
   "id": "735907fb",
   "metadata": {},
   "source": [
    "# Extracción de elementos con índice 3,3, -3 (descendente) y 8"
   ]
  },
  {
   "cell_type": "code",
   "execution_count": 14,
   "id": "3afb03d9",
   "metadata": {},
   "outputs": [
    {
     "data": {
      "text/plain": [
       "array([7, 7, 4, 2])"
      ]
     },
     "execution_count": 14,
     "metadata": {},
     "output_type": "execute_result"
    }
   ],
   "source": [
    "x[np.array([3, 3, -3, 8])] "
   ]
  },
  {
   "cell_type": "markdown",
   "id": "7e8e6d11",
   "metadata": {},
   "source": [
    "# Extracción basada en pares"
   ]
  },
  {
   "cell_type": "code",
   "execution_count": 15,
   "id": "4a77a86b",
   "metadata": {},
   "outputs": [
    {
     "data": {
      "text/plain": [
       "array([[ 0,  1,  2,  3,  4,  5,  6],\n",
       "       [ 7,  8,  9, 10, 11, 12, 13],\n",
       "       [14, 15, 16, 17, 18, 19, 20],\n",
       "       [21, 22, 23, 24, 25, 26, 27],\n",
       "       [28, 29, 30, 31, 32, 33, 34]])"
      ]
     },
     "execution_count": 15,
     "metadata": {},
     "output_type": "execute_result"
    }
   ],
   "source": [
    "y = np.arange(35).reshape(5,7)\n",
    "y"
   ]
  },
  {
   "cell_type": "markdown",
   "id": "11dff0c0",
   "metadata": {},
   "source": [
    "# Extracción de coordenadas (0,0), (2,1) y (4,2)"
   ]
  },
  {
   "cell_type": "code",
   "execution_count": 17,
   "id": "b4073223",
   "metadata": {},
   "outputs": [
    {
     "data": {
      "text/plain": [
       "array([ 0, 15, 30])"
      ]
     },
     "execution_count": 17,
     "metadata": {},
     "output_type": "execute_result"
    }
   ],
   "source": [
    "y[np.array([0, 2, 4]), np.array([0, 1, 2])]"
   ]
  },
  {
   "cell_type": "markdown",
   "id": "2e3c9f36",
   "metadata": {},
   "source": [
    "# Unión de arreglos"
   ]
  },
  {
   "cell_type": "markdown",
   "id": "497b8885",
   "metadata": {},
   "source": [
    "# Concatenación de vectores"
   ]
  },
  {
   "cell_type": "code",
   "execution_count": 18,
   "id": "d531e4e0",
   "metadata": {},
   "outputs": [
    {
     "data": {
      "text/plain": [
       "array([1, 2, 3, 4, 5, 6])"
      ]
     },
     "execution_count": 18,
     "metadata": {},
     "output_type": "execute_result"
    }
   ],
   "source": [
    "arr = np.concatenate(([1, 2, 3],[4,5,6]))\n",
    "arr"
   ]
  },
  {
   "cell_type": "markdown",
   "id": "aa7595eb",
   "metadata": {},
   "source": [
    "# Apilado vertical de vectores"
   ]
  },
  {
   "cell_type": "code",
   "execution_count": 19,
   "id": "a6c26aea",
   "metadata": {},
   "outputs": [
    {
     "data": {
      "text/plain": [
       "array([[1, 2, 3],\n",
       "       [4, 5, 6]])"
      ]
     },
     "execution_count": 19,
     "metadata": {},
     "output_type": "execute_result"
    }
   ],
   "source": [
    "np.stack(([1,2,3], [4,5,6]))"
   ]
  },
  {
   "cell_type": "markdown",
   "id": "339d2d21",
   "metadata": {},
   "source": [
    "# Concatenación de matrices"
   ]
  },
  {
   "cell_type": "code",
   "execution_count": 20,
   "id": "6fcfda01",
   "metadata": {},
   "outputs": [
    {
     "data": {
      "text/plain": [
       "array([[1, 2, 3],\n",
       "       [4, 5, 6],\n",
       "       [1, 1, 1],\n",
       "       [2, 2, 2]])"
      ]
     },
     "execution_count": 20,
     "metadata": {},
     "output_type": "execute_result"
    }
   ],
   "source": [
    "mat_1 = np.array([[1, 2, 3],[4, 5, 6]])\n",
    "mat_2 = np.array([[1, 1, 1],[2, 2, 2]])\n",
    "np.concatenate((mat_1, mat_2), axis = 0)"
   ]
  },
  {
   "cell_type": "code",
   "execution_count": 21,
   "id": "473ad26f",
   "metadata": {},
   "outputs": [
    {
     "data": {
      "text/plain": [
       "array([[1, 2, 3, 1, 1, 1],\n",
       "       [4, 5, 6, 2, 2, 2]])"
      ]
     },
     "execution_count": 21,
     "metadata": {},
     "output_type": "execute_result"
    }
   ],
   "source": [
    "np.concatenate((mat_1, mat_2), axis = 1)"
   ]
  },
  {
   "cell_type": "code",
   "execution_count": 22,
   "id": "f35357d9",
   "metadata": {},
   "outputs": [
    {
     "data": {
      "text/plain": [
       "array([1, 2, 3, 4, 5, 6, 1, 1, 1, 2, 2, 2])"
      ]
     },
     "execution_count": 22,
     "metadata": {},
     "output_type": "execute_result"
    }
   ],
   "source": [
    "np.concatenate((mat_1, mat_2), axis = None)"
   ]
  }
 ],
 "metadata": {
  "kernelspec": {
   "display_name": "Python 3 (ipykernel)",
   "language": "python",
   "name": "python3"
  },
  "language_info": {
   "codemirror_mode": {
    "name": "ipython",
    "version": 3
   },
   "file_extension": ".py",
   "mimetype": "text/x-python",
   "name": "python",
   "nbconvert_exporter": "python",
   "pygments_lexer": "ipython3",
   "version": "3.11.3"
  }
 },
 "nbformat": 4,
 "nbformat_minor": 5
}
