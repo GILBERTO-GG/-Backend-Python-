{
 "cells": [
  {
   "cell_type": "markdown",
   "id": "7d011731",
   "metadata": {},
   "source": [
    "# NumPy en el ecosistema de Python"
   ]
  },
  {
   "cell_type": "code",
   "execution_count": null,
   "id": "51fdbea6",
   "metadata": {},
   "outputs": [],
   "source": [
    "--El elemento primordial de trabajo en NumPy es el arreglo."
   ]
  },
  {
   "cell_type": "code",
   "execution_count": 1,
   "id": "7e5c4089",
   "metadata": {},
   "outputs": [],
   "source": [
    "import numpy as np"
   ]
  },
  {
   "cell_type": "markdown",
   "id": "5c92c37c",
   "metadata": {},
   "source": [
    "# Creación de un arreglo a partir de una lista"
   ]
  },
  {
   "cell_type": "code",
   "execution_count": 2,
   "id": "8669aa59",
   "metadata": {},
   "outputs": [
    {
     "data": {
      "text/plain": [
       "array([1, 2, 3, 4, 5])"
      ]
     },
     "execution_count": 2,
     "metadata": {},
     "output_type": "execute_result"
    }
   ],
   "source": [
    "lista1 = [1, 2, 3, 4, 5]\n",
    "arreglo1 = np.array(lista1)\n",
    "arreglo1"
   ]
  },
  {
   "cell_type": "code",
   "execution_count": 3,
   "id": "2f85b860",
   "metadata": {},
   "outputs": [
    {
     "data": {
      "text/plain": [
       "numpy.ndarray"
      ]
     },
     "execution_count": 3,
     "metadata": {},
     "output_type": "execute_result"
    }
   ],
   "source": [
    "type(arreglo1)"
   ]
  },
  {
   "cell_type": "markdown",
   "id": "c903637c",
   "metadata": {},
   "source": [
    "# Creación de un arreglo a partir de una lista de listas"
   ]
  },
  {
   "cell_type": "code",
   "execution_count": 4,
   "id": "3d849a43",
   "metadata": {},
   "outputs": [
    {
     "data": {
      "text/plain": [
       "array([[1, 2, 3],\n",
       "       [4, 5, 6],\n",
       "       [7, 8, 9]])"
      ]
     },
     "execution_count": 4,
     "metadata": {},
     "output_type": "execute_result"
    }
   ],
   "source": [
    "lista2 = [[1,2,3], \n",
    "          [4,5,6],\n",
    "          [7,8,9]]\n",
    "arreglo2 = np.array(lista2)\n",
    "arreglo2"
   ]
  },
  {
   "cell_type": "markdown",
   "id": "20dbec1b",
   "metadata": {},
   "source": [
    "# Las listas pueden contener diversos tipos de datos"
   ]
  },
  {
   "cell_type": "code",
   "execution_count": 5,
   "id": "1351f25e",
   "metadata": {},
   "outputs": [
    {
     "data": {
      "text/plain": [
       "['a', True, 1]"
      ]
     },
     "execution_count": 5,
     "metadata": {},
     "output_type": "execute_result"
    }
   ],
   "source": [
    "lista = [\"a\", True, 1]\n",
    "lista"
   ]
  },
  {
   "cell_type": "markdown",
   "id": "c82f5c9c",
   "metadata": {},
   "source": [
    "# Los arreglos solo pueden tener un mismo tipo de datos"
   ]
  },
  {
   "cell_type": "markdown",
   "id": "0925d5e1",
   "metadata": {},
   "source": [
    "# Usan menos espacio en memoria"
   ]
  },
  {
   "cell_type": "code",
   "execution_count": 6,
   "id": "a3c8c15f",
   "metadata": {},
   "outputs": [
    {
     "data": {
      "text/plain": [
       "array(['a', 'True', '1'], dtype='<U11')"
      ]
     },
     "execution_count": 6,
     "metadata": {},
     "output_type": "execute_result"
    }
   ],
   "source": [
    "arreglo = np.array(lista)\n",
    "arreglo    #-----------------------------------> solo se almacenan textos"
   ]
  },
  {
   "cell_type": "markdown",
   "id": "4dcb44cd",
   "metadata": {},
   "source": [
    "# Creación de arreglos con ceros"
   ]
  },
  {
   "cell_type": "code",
   "execution_count": 7,
   "id": "b3b01c9e",
   "metadata": {},
   "outputs": [
    {
     "data": {
      "text/plain": [
       "array([[0., 0., 0., 0.],\n",
       "       [0., 0., 0., 0.],\n",
       "       [0., 0., 0., 0.],\n",
       "       [0., 0., 0., 0.],\n",
       "       [0., 0., 0., 0.]])"
      ]
     },
     "execution_count": 7,
     "metadata": {},
     "output_type": "execute_result"
    }
   ],
   "source": [
    "arreglo3 = np.zeros((5,4))\n",
    "arreglo3"
   ]
  },
  {
   "cell_type": "markdown",
   "id": "82ec259f",
   "metadata": {},
   "source": [
    "# Creación de arreglos con números aleatorios uniformes entre 0 y 1"
   ]
  },
  {
   "cell_type": "code",
   "execution_count": 8,
   "id": "c6f92f0a",
   "metadata": {},
   "outputs": [
    {
     "data": {
      "text/plain": [
       "array([[0.19709758, 0.42723501],\n",
       "       [0.87927268, 0.3436093 ],\n",
       "       [0.44411397, 0.80956288]])"
      ]
     },
     "execution_count": 8,
     "metadata": {},
     "output_type": "execute_result"
    }
   ],
   "source": [
    "np.random.random((3,2))"
   ]
  },
  {
   "cell_type": "markdown",
   "id": "c880e0cc",
   "metadata": {},
   "source": [
    "# Creación de arreglos en un rango"
   ]
  },
  {
   "cell_type": "code",
   "execution_count": 9,
   "id": "3de0a2da",
   "metadata": {},
   "outputs": [
    {
     "data": {
      "text/plain": [
       "array([-2, -1,  0,  1,  2,  3,  4,  5,  6])"
      ]
     },
     "execution_count": 9,
     "metadata": {},
     "output_type": "execute_result"
    }
   ],
   "source": [
    "np.arange(-2,7)"
   ]
  },
  {
   "cell_type": "code",
   "execution_count": 10,
   "id": "b193ca25",
   "metadata": {},
   "outputs": [
    {
     "data": {
      "text/plain": [
       "array([0, 1, 2, 3, 4])"
      ]
     },
     "execution_count": 10,
     "metadata": {},
     "output_type": "execute_result"
    }
   ],
   "source": [
    "np.arange(5)"
   ]
  },
  {
   "cell_type": "markdown",
   "id": "a41f60bb",
   "metadata": {},
   "source": [
    "# Creación de un arreglo con NumPy"
   ]
  },
  {
   "cell_type": "markdown",
   "id": "66bf9d7d",
   "metadata": {},
   "source": [
    "# ejercicio:   Mediante el uso de la librería NumPy desarrolle un código en Python que sea capaz de crear el arreglo Tri-dimensional siguiente:"
   ]
  },
  {
   "cell_type": "code",
   "execution_count": 15,
   "id": "19b1e3c2",
   "metadata": {},
   "outputs": [
    {
     "data": {
      "text/plain": [
       "array([[[1, 2],\n",
       "        [5, 7]],\n",
       "\n",
       "       [[8, 9],\n",
       "        [5, 7]],\n",
       "\n",
       "       [[1, 2],\n",
       "        [5, 7]]])"
      ]
     },
     "execution_count": 15,
     "metadata": {},
     "output_type": "execute_result"
    }
   ],
   "source": [
    "arreglo1 = np.array([[1,2],\n",
    "                     [5,7]])\n",
    "arreglo2 = np.array([[8,9],\n",
    "                     [5,7]]) \n",
    "arreglo3 = np.array([[1,2],\n",
    "                     [5,7]]) \n",
    "\n",
    "arreglo_3D = np.array([arreglo1, arreglo2, arreglo3])\n",
    "arreglo_3D"
   ]
  },
  {
   "cell_type": "code",
   "execution_count": 16,
   "id": "6f8fad1a",
   "metadata": {},
   "outputs": [
    {
     "data": {
      "text/plain": [
       "array([[[1, 2],\n",
       "        [5, 7]],\n",
       "\n",
       "       [[8, 9],\n",
       "        [5, 7]],\n",
       "\n",
       "       [[1, 2],\n",
       "        [5, 7]]])"
      ]
     },
     "execution_count": 16,
     "metadata": {},
     "output_type": "execute_result"
    }
   ],
   "source": [
    "arreglo_3D = np.array([arreglo1, arreglo2, arreglo3])\n",
    "arreglo_3D"
   ]
  },
  {
   "cell_type": "code",
   "execution_count": 17,
   "id": "6f17e1ad",
   "metadata": {},
   "outputs": [
    {
     "data": {
      "text/plain": [
       "array([[0., 0., 0., 0.],\n",
       "       [0., 0., 0., 0.],\n",
       "       [0., 0., 0., 0.],\n",
       "       [0., 0., 0., 0.],\n",
       "       [0., 0., 0., 0.]])"
      ]
     },
     "execution_count": 17,
     "metadata": {},
     "output_type": "execute_result"
    }
   ],
   "source": [
    "arreglo3 = np.zeros((5,4))\n",
    "arreglo3"
   ]
  },
  {
   "cell_type": "code",
   "execution_count": 18,
   "id": "87ee1a07",
   "metadata": {},
   "outputs": [
    {
     "data": {
      "text/plain": [
       "(5, 4)"
      ]
     },
     "execution_count": 18,
     "metadata": {},
     "output_type": "execute_result"
    }
   ],
   "source": [
    "arreglo3.shape   #-----------------------> nos dice el tamaño del arreglo."
   ]
  },
  {
   "cell_type": "markdown",
   "id": "da68e5a7",
   "metadata": {},
   "source": [
    "# conversión de un arreglo multi-dimensional a uni-dimensional"
   ]
  },
  {
   "cell_type": "code",
   "execution_count": 19,
   "id": "071c088b",
   "metadata": {},
   "outputs": [
    {
     "data": {
      "text/plain": [
       "array([[1, 2, 3],\n",
       "       [4, 5, 6],\n",
       "       [7, 8, 9]])"
      ]
     },
     "execution_count": 19,
     "metadata": {},
     "output_type": "execute_result"
    }
   ],
   "source": [
    "lista2 = [[1,2,3],\n",
    "          [4,5,6],\n",
    "          [7,8,9]]\n",
    "\n",
    "arreglo2 = np.array(lista2)\n",
    "arreglo2  "
   ]
  },
  {
   "cell_type": "code",
   "execution_count": 20,
   "id": "e8ec6f6a",
   "metadata": {},
   "outputs": [
    {
     "data": {
      "text/plain": [
       "array([1, 2, 3, 4, 5, 6, 7, 8, 9])"
      ]
     },
     "execution_count": 20,
     "metadata": {},
     "output_type": "execute_result"
    }
   ],
   "source": [
    "arreglo2.flatten()"
   ]
  },
  {
   "cell_type": "markdown",
   "id": "715241ff",
   "metadata": {},
   "source": [
    "# cambio de dimensión de un arreglo"
   ]
  },
  {
   "cell_type": "code",
   "execution_count": 21,
   "id": "aad94cd1",
   "metadata": {},
   "outputs": [
    {
     "data": {
      "text/plain": [
       "array([[1, 2, 3],\n",
       "       [4, 5, 6]])"
      ]
     },
     "execution_count": 21,
     "metadata": {},
     "output_type": "execute_result"
    }
   ],
   "source": [
    "arreglo = np.array([[1,2],\n",
    "                    [3,4],\n",
    "                    [5,6]])\n",
    "\n",
    "arreglo.reshape(2,3)"
   ]
  },
  {
   "cell_type": "markdown",
   "id": "69586bf5",
   "metadata": {},
   "source": [
    "# ejemplo de ERROR  al momento de cambiar la dimensión"
   ]
  },
  {
   "cell_type": "code",
   "execution_count": 22,
   "id": "0e97ac76",
   "metadata": {},
   "outputs": [
    {
     "ename": "ValueError",
     "evalue": "cannot reshape array of size 6 into shape (3,3)",
     "output_type": "error",
     "traceback": [
      "\u001b[1;31m---------------------------------------------------------------------------\u001b[0m",
      "\u001b[1;31mValueError\u001b[0m                                Traceback (most recent call last)",
      "Cell \u001b[1;32mIn[22], line 1\u001b[0m\n\u001b[1;32m----> 1\u001b[0m \u001b[43marreglo\u001b[49m\u001b[38;5;241;43m.\u001b[39;49m\u001b[43mreshape\u001b[49m\u001b[43m(\u001b[49m\u001b[38;5;241;43m3\u001b[39;49m\u001b[43m,\u001b[49m\u001b[38;5;241;43m3\u001b[39;49m\u001b[43m)\u001b[49m\n",
      "\u001b[1;31mValueError\u001b[0m: cannot reshape array of size 6 into shape (3,3)"
     ]
    }
   ],
   "source": [
    "arreglo.reshape(3,3)"
   ]
  },
  {
   "cell_type": "code",
   "execution_count": null,
   "id": "b9a0e88f",
   "metadata": {},
   "outputs": [],
   "source": [
    "--Una matriz tiene 2 dimensiones(es un arreglo BIDIMENSIONAL).\n",
    "--Un TENSOR tiene 3 o más dimensiones."
   ]
  },
  {
   "cell_type": "markdown",
   "id": "2c58e492",
   "metadata": {},
   "source": [
    "# El atributo dtype"
   ]
  },
  {
   "cell_type": "code",
   "execution_count": null,
   "id": "4e3eaa2a",
   "metadata": {},
   "outputs": [],
   "source": [
    "determina que tipo de arreglo vamos a guardar"
   ]
  },
  {
   "cell_type": "code",
   "execution_count": 23,
   "id": "ce4db37a",
   "metadata": {},
   "outputs": [
    {
     "data": {
      "text/plain": [
       "dtype('float64')"
      ]
     },
     "execution_count": 23,
     "metadata": {},
     "output_type": "execute_result"
    }
   ],
   "source": [
    "np.array([1.25, 2.43, 200.88]).dtype"
   ]
  },
  {
   "cell_type": "code",
   "execution_count": 24,
   "id": "8a8500cc",
   "metadata": {},
   "outputs": [
    {
     "data": {
      "text/plain": [
       "dtype('int32')"
      ]
     },
     "execution_count": 24,
     "metadata": {},
     "output_type": "execute_result"
    }
   ],
   "source": [
    "arreglo_int = np.array([[1,2,3], [4,5,6]])\n",
    "arreglo_int.dtype"
   ]
  },
  {
   "cell_type": "code",
   "execution_count": 25,
   "id": "2ca93a43",
   "metadata": {},
   "outputs": [
    {
     "data": {
      "text/plain": [
       "dtype('<U12')"
      ]
     },
     "execution_count": 25,
     "metadata": {},
     "output_type": "execute_result"
    }
   ],
   "source": [
    "arreglo_string = np.array([\"Introducción\", \"a\", \"la\", \"programación\"])\n",
    "arreglo_string.dtype"
   ]
  },
  {
   "cell_type": "markdown",
   "id": "21419827",
   "metadata": {},
   "source": [
    "# Uso de dtype como argumento"
   ]
  },
  {
   "cell_type": "code",
   "execution_count": 26,
   "id": "0609db03",
   "metadata": {},
   "outputs": [
    {
     "data": {
      "text/plain": [
       "dtype('float32')"
      ]
     },
     "execution_count": 26,
     "metadata": {},
     "output_type": "execute_result"
    }
   ],
   "source": [
    "arreglo = np.array([1.25, 2.43, 200.88], dtype = np.float32)     #------->  Mismo arreglo de arriba\n",
    "arreglo.dtype                                                    #-----> aloja menos memoria"
   ]
  },
  {
   "cell_type": "markdown",
   "id": "8cf15e83",
   "metadata": {},
   "source": [
    "# Cambio de tipo de arreglo "
   ]
  },
  {
   "cell_type": "code",
   "execution_count": 27,
   "id": "196abd8f",
   "metadata": {},
   "outputs": [
    {
     "data": {
      "text/plain": [
       "dtype('bool')"
      ]
     },
     "execution_count": 27,
     "metadata": {},
     "output_type": "execute_result"
    }
   ],
   "source": [
    "arreglo_booleano = np.array([[True, False]], dtype = np.bool_)\n",
    "arreglo_booleano.dtype"
   ]
  },
  {
   "cell_type": "code",
   "execution_count": 28,
   "id": "9f6c69f0",
   "metadata": {},
   "outputs": [
    {
     "data": {
      "text/plain": [
       "array([[1, 0]])"
      ]
     },
     "execution_count": 28,
     "metadata": {},
     "output_type": "execute_result"
    }
   ],
   "source": [
    "arreglo = arreglo_booleano.astype(np.int32)\n",
    "arreglo"
   ]
  },
  {
   "cell_type": "markdown",
   "id": "dc647555",
   "metadata": {},
   "source": [
    "# Homologación del tipo por jerarquía"
   ]
  },
  {
   "cell_type": "code",
   "execution_count": 29,
   "id": "a4214c47",
   "metadata": {},
   "outputs": [
    {
     "data": {
      "text/plain": [
       "dtype('float64')"
      ]
     },
     "execution_count": 29,
     "metadata": {},
     "output_type": "execute_result"
    }
   ],
   "source": [
    "np.array([0, 50, 50.8]).dtype"
   ]
  },
  {
   "cell_type": "code",
   "execution_count": 30,
   "id": "2d8a2190",
   "metadata": {},
   "outputs": [
    {
     "data": {
      "text/plain": [
       "array([ 0, 42])"
      ]
     },
     "execution_count": 30,
     "metadata": {},
     "output_type": "execute_result"
    }
   ],
   "source": [
    "np.array([False, 42])"
   ]
  },
  {
   "cell_type": "markdown",
   "id": "d5936702",
   "metadata": {},
   "source": [
    "# Operaciones con arreglos en NumPy"
   ]
  },
  {
   "cell_type": "markdown",
   "id": "604068bc",
   "metadata": {},
   "source": [
    "# ejercicio.-  Considere los datos siguientes:  que corresponden a estadísticas de accidentes en una empresa para tres áreas durante cuatro años:"
   ]
  },
  {
   "cell_type": "code",
   "execution_count": null,
   "id": "49d664cd",
   "metadata": {},
   "outputs": [],
   "source": [
    "import numpy as np\n",
    "accidentes = np.array([[0,1,1],\n",
    "                      [1,0,1],\n",
    "                      [1,3,2],\n",
    "                      [2,2,0]])\n"
   ]
  },
  {
   "cell_type": "markdown",
   "id": "f67afe0d",
   "metadata": {},
   "source": [
    "# a) determine el número total de accidentes durante los cuatro años:"
   ]
  },
  {
   "cell_type": "code",
   "execution_count": 2,
   "id": "b37a507a",
   "metadata": {},
   "outputs": [
    {
     "data": {
      "text/plain": [
       "14"
      ]
     },
     "execution_count": 2,
     "metadata": {},
     "output_type": "execute_result"
    }
   ],
   "source": [
    "import numpy as np\n",
    "accidentes = np.array([[0,1,1],\n",
    "                      [1,0,1],\n",
    "                      [1,3,2],\n",
    "                      [2,2,0]])\n",
    "\n",
    "accidentes.sum()"
   ]
  },
  {
   "cell_type": "markdown",
   "id": "acacb825",
   "metadata": {},
   "source": [
    "# b) determine el número total de accidentes por área (por columna)"
   ]
  },
  {
   "cell_type": "code",
   "execution_count": 3,
   "id": "2d5dfb24",
   "metadata": {},
   "outputs": [
    {
     "data": {
      "text/plain": [
       "array([4, 6, 4])"
      ]
     },
     "execution_count": 3,
     "metadata": {},
     "output_type": "execute_result"
    }
   ],
   "source": [
    "accid_areas = accidentes.sum(axis = 0)\n",
    "accid_areas"
   ]
  },
  {
   "cell_type": "code",
   "execution_count": 4,
   "id": "c5085352",
   "metadata": {},
   "outputs": [
    {
     "name": "stdout",
     "output_type": "stream",
     "text": [
      "Los accidentes del área 1:  4\n",
      "Los accidentes del área 2:  6\n",
      "Los accidentes del área 3:  4\n"
     ]
    }
   ],
   "source": [
    "print(\"Los accidentes del área 1: \", accid_areas[0])\n",
    "print(\"Los accidentes del área 2: \", accid_areas[1])\n",
    "print(\"Los accidentes del área 3: \", accid_areas[2])"
   ]
  },
  {
   "cell_type": "markdown",
   "id": "0b172a37",
   "metadata": {},
   "source": [
    "# c) determine el número total de accidentes por año (por renglón)"
   ]
  },
  {
   "cell_type": "code",
   "execution_count": 5,
   "id": "93787a97",
   "metadata": {},
   "outputs": [
    {
     "data": {
      "text/plain": [
       "array([2, 2, 6, 4])"
      ]
     },
     "execution_count": 5,
     "metadata": {},
     "output_type": "execute_result"
    }
   ],
   "source": [
    "accid_anios = accidentes.sum(axis = 1)\n",
    "accid_anios"
   ]
  },
  {
   "cell_type": "markdown",
   "id": "066e9ee2",
   "metadata": {},
   "source": [
    "# Conservación de dimensiones"
   ]
  },
  {
   "cell_type": "code",
   "execution_count": 6,
   "id": "d9b40afa",
   "metadata": {},
   "outputs": [
    {
     "data": {
      "text/plain": [
       "array([[2],\n",
       "       [2],\n",
       "       [6],\n",
       "       [4]])"
      ]
     },
     "execution_count": 6,
     "metadata": {},
     "output_type": "execute_result"
    }
   ],
   "source": [
    "accid_anios = accidentes.sum(axis = 1, keepdims = True)\n",
    "accid_anios"
   ]
  },
  {
   "cell_type": "code",
   "execution_count": 8,
   "id": "22852cda",
   "metadata": {},
   "outputs": [
    {
     "name": "stdout",
     "output_type": "stream",
     "text": [
      "Los accidentes del año 1:  [2]\n",
      "Los accidentes del año 2:  [2]\n",
      "Los accidentes del año 3:  [6]\n",
      "Los accidentes del año 4:  [4]\n"
     ]
    }
   ],
   "source": [
    "print(\"Los accidentes del año 1: \", accid_anios[0])\n",
    "print(\"Los accidentes del año 2: \", accid_anios[1])\n",
    "print(\"Los accidentes del año 3: \", accid_anios[2])\n",
    "print(\"Los accidentes del año 4: \", accid_anios[3])"
   ]
  },
  {
   "cell_type": "markdown",
   "id": "963f9d59",
   "metadata": {},
   "source": [
    "# d) determine el número máximo y mínimo de accidentes por área y año"
   ]
  },
  {
   "cell_type": "code",
   "execution_count": 9,
   "id": "1cd54891",
   "metadata": {},
   "outputs": [
    {
     "name": "stdout",
     "output_type": "stream",
     "text": [
      "Máximo de accidentes: 3\n",
      "Mínimo de accidentes: 0\n"
     ]
    }
   ],
   "source": [
    "maximo = accidentes.max()\n",
    "minimo = accidentes.min()\n",
    "\n",
    "print(f\"Máximo de accidentes: {maximo}\")\n",
    "print(f\"Mínimo de accidentes: {minimo}\")"
   ]
  },
  {
   "cell_type": "markdown",
   "id": "017d41da",
   "metadata": {},
   "source": [
    "# e) determine el número promedio de accidentes por área y año"
   ]
  },
  {
   "cell_type": "code",
   "execution_count": 10,
   "id": "b33c8fc4",
   "metadata": {},
   "outputs": [
    {
     "name": "stdout",
     "output_type": "stream",
     "text": [
      "Promedio de accidentes: 1.1666666666666667\n"
     ]
    }
   ],
   "source": [
    "promedio = accidentes.mean()\n",
    "print(f\"Promedio de accidentes: {promedio}\")"
   ]
  },
  {
   "cell_type": "markdown",
   "id": "b8c53a04",
   "metadata": {},
   "source": [
    "# Operaciones vectorizadas"
   ]
  },
  {
   "cell_type": "code",
   "execution_count": null,
   "id": "7631015e",
   "metadata": {},
   "outputs": [],
   "source": [
    "--Incluyen funciones tales como: \"sum\", \"min\" y \"max\"\n",
    "--Permiten realizar operaciones más rápidamente (en comparación a su equivalente mediante ciclos en Python)  \n",
    "--Están soportadas por el lenguaje C."
   ]
  },
  {
   "cell_type": "markdown",
   "id": "9b93faa8",
   "metadata": {},
   "source": [
    "# ejercicio:   Determine la suma descrita en la imágen de abajo mediante:"
   ]
  },
  {
   "cell_type": "markdown",
   "id": "fca58b37",
   "metadata": {},
   "source": [
    "# a)Un ciclo en Python"
   ]
  },
  {
   "cell_type": "markdown",
   "id": "44852ece",
   "metadata": {},
   "source": [
    "# b) Una función vectorizada de NumPy"
   ]
  },
  {
   "cell_type": "code",
   "execution_count": 11,
   "id": "a9469572",
   "metadata": {},
   "outputs": [
    {
     "name": "stdout",
     "output_type": "stream",
     "text": [
      "2\n",
      "3\n",
      "1\n"
     ]
    }
   ],
   "source": [
    "arreglo = np.array([[1,2,3],\n",
    "                    [4,5,6]])\n",
    "\n",
    "dimensiones = arreglo.shape\n",
    "\n",
    "print(dimensiones[0])    #------->Renglones\n",
    "print(dimensiones[1])    #------->Columnas\n",
    "print(arreglo[0][0])"
   ]
  },
  {
   "cell_type": "markdown",
   "id": "4610280b",
   "metadata": {},
   "source": [
    "# Inciso a)"
   ]
  },
  {
   "cell_type": "code",
   "execution_count": 12,
   "id": "3426a7b5",
   "metadata": {},
   "outputs": [
    {
     "name": "stdout",
     "output_type": "stream",
     "text": [
      "[[3. 3. 3.]\n",
      " [3. 3. 3.]]\n",
      "Tiempo total de ejecución (segs.) 0.0\n"
     ]
    }
   ],
   "source": [
    "import time\n",
    "inicio = time.time()\n",
    "\n",
    "arreglo_final = np.zeros((2,3))\n",
    "for renglon in range(dimensiones[0]):\n",
    "    for columna in range(dimensiones[1]):\n",
    "        arreglo_final[renglon][columna] = arreglo_final[renglon][columna] + 3\n",
    "        \n",
    "print(arreglo_final)\n",
    "\n",
    "fin = time.time()\n",
    "print(\"Tiempo total de ejecución (segs.)\", fin - inicio)"
   ]
  },
  {
   "cell_type": "code",
   "execution_count": 13,
   "id": "233289c3",
   "metadata": {},
   "outputs": [
    {
     "name": "stdout",
     "output_type": "stream",
     "text": [
      "[[4. 5. 6.]\n",
      " [7. 8. 9.]]\n",
      "Tiempo total de ejecución (segs.) 0.0009386539459228516\n"
     ]
    }
   ],
   "source": [
    "import time\n",
    "inicio = time.time()\n",
    "\n",
    "arreglo_final = np.zeros((2,3))\n",
    "for renglon in range(dimensiones[0]):\n",
    "    for columna in range(dimensiones[1]):\n",
    "        arreglo_final[renglon][columna] = arreglo[renglon][columna] + 3\n",
    "        \n",
    "print(arreglo_final)\n",
    "\n",
    "fin = time.time()\n",
    "print(\"Tiempo total de ejecución (segs.)\", fin - inicio)"
   ]
  },
  {
   "cell_type": "markdown",
   "id": "5a1337e7",
   "metadata": {},
   "source": [
    "# inciso b"
   ]
  },
  {
   "cell_type": "code",
   "execution_count": 14,
   "id": "1ec88fde",
   "metadata": {},
   "outputs": [
    {
     "name": "stdout",
     "output_type": "stream",
     "text": [
      "[[4 5 6]\n",
      " [7 8 9]]\n",
      "Tiempo total de ejecución (segs.) 0.0010077953338623047\n"
     ]
    }
   ],
   "source": [
    "import time\n",
    "inicio = time.time()\n",
    "\n",
    "arreglo_final = arreglo + 3\n",
    "print(arreglo_final)\n",
    "\n",
    "fin = time.time()\n",
    "print(\"Tiempo total de ejecución (segs.)\", fin - inicio)"
   ]
  },
  {
   "cell_type": "markdown",
   "id": "0c02bf53",
   "metadata": {},
   "source": [
    "# Transmisión en NumPy (\"Broadcasting\")"
   ]
  },
  {
   "cell_type": "markdown",
   "id": "e90f43b5",
   "metadata": {},
   "source": [
    "# Reglas de compatibilidad para operaciones entre arreglos:"
   ]
  },
  {
   "cell_type": "code",
   "execution_count": null,
   "id": "dd433b5a",
   "metadata": {},
   "outputs": [],
   "source": [
    "--Uno de ellos tiene longitud de 1\n",
    "--Son de longitudes iguales"
   ]
  },
  {
   "cell_type": "markdown",
   "id": "2fd98657",
   "metadata": {},
   "source": [
    "# Multiplicación por un escalar"
   ]
  },
  {
   "cell_type": "code",
   "execution_count": 15,
   "id": "2a6e81e2",
   "metadata": {},
   "outputs": [
    {
     "data": {
      "text/plain": [
       "array([[ 3,  6,  9],\n",
       "       [12, 15, 18]])"
      ]
     },
     "execution_count": 15,
     "metadata": {},
     "output_type": "execute_result"
    }
   ],
   "source": [
    "arreglo_prod = arreglo * 3 \n",
    "arreglo_prod"
   ]
  },
  {
   "cell_type": "markdown",
   "id": "e912eac8",
   "metadata": {},
   "source": [
    "# Adición de dos arreglos"
   ]
  },
  {
   "cell_type": "code",
   "execution_count": 16,
   "id": "b8850ec0",
   "metadata": {},
   "outputs": [
    {
     "data": {
      "text/plain": [
       "array([[ 8, 10, 12],\n",
       "       [14, 16, 18]])"
      ]
     },
     "execution_count": 16,
     "metadata": {},
     "output_type": "execute_result"
    }
   ],
   "source": [
    "arreglo1 = np.array([[1,2,3],\n",
    "                     [4,5,6]])\n",
    "\n",
    "arreglo2 = np.array([[7,8,9],\n",
    "                     [10,11,12]])\n",
    "\n",
    "arreglo3 = arreglo1 + arreglo2\n",
    "arreglo3"
   ]
  },
  {
   "cell_type": "markdown",
   "id": "785f24f1",
   "metadata": {},
   "source": [
    "# Evaluación de condiciones"
   ]
  },
  {
   "cell_type": "code",
   "execution_count": 17,
   "id": "02a07b31",
   "metadata": {},
   "outputs": [
    {
     "data": {
      "text/plain": [
       "array([[False, False,  True],\n",
       "       [ True,  True,  True]])"
      ]
     },
     "execution_count": 17,
     "metadata": {},
     "output_type": "execute_result"
    }
   ],
   "source": [
    "arreglo1 =np.array([[1,2,3],\n",
    "                    [4,5,6]])\n",
    "\n",
    "arreglo1 > 2"
   ]
  },
  {
   "cell_type": "markdown",
   "id": "1fb7d80d",
   "metadata": {},
   "source": [
    "# Las funciones de Python no están vectorizadas de origen"
   ]
  },
  {
   "cell_type": "code",
   "execution_count": 18,
   "id": "76787a19",
   "metadata": {},
   "outputs": [
    {
     "data": {
      "text/plain": [
       "False"
      ]
     },
     "execution_count": 18,
     "metadata": {},
     "output_type": "execute_result"
    }
   ],
   "source": [
    "arreglo = np.array([\"NumPy\", \"maneja\", \"vectorización\"])\n",
    "len(arreglo) > 5                            #----------------->"
   ]
  },
  {
   "cell_type": "markdown",
   "id": "5b3389e5",
   "metadata": {},
   "source": [
    "# Transformación para vectorización de la función \"len\""
   ]
  },
  {
   "cell_type": "code",
   "execution_count": 19,
   "id": "823fece9",
   "metadata": {},
   "outputs": [
    {
     "data": {
      "text/plain": [
       "array([ True,  True,  True])"
      ]
     },
     "execution_count": 19,
     "metadata": {},
     "output_type": "execute_result"
    }
   ],
   "source": [
    "len_vectorizada = np.vectorize(len)\n",
    "len_vectorizada(arreglo) > 2"
   ]
  },
  {
   "cell_type": "code",
   "execution_count": 20,
   "id": "3969b311",
   "metadata": {},
   "outputs": [
    {
     "data": {
      "text/plain": [
       "array([False,  True,  True])"
      ]
     },
     "execution_count": 20,
     "metadata": {},
     "output_type": "execute_result"
    }
   ],
   "source": [
    "len_vectorizada = np.vectorize(len)\n",
    "len_vectorizada(arreglo) > 5"
   ]
  },
  {
   "cell_type": "markdown",
   "id": "5f7576aa",
   "metadata": {},
   "source": [
    "# Broadcasting de renglones"
   ]
  },
  {
   "cell_type": "code",
   "execution_count": 21,
   "id": "0e25079d",
   "metadata": {},
   "outputs": [
    {
     "data": {
      "text/plain": [
       "array([[0, 1, 2, 3, 4],\n",
       "       [5, 6, 7, 8, 9]])"
      ]
     },
     "execution_count": 21,
     "metadata": {},
     "output_type": "execute_result"
    }
   ],
   "source": [
    "arreglo = np.arange(10).reshape((2,5))\n",
    "arreglo"
   ]
  },
  {
   "cell_type": "code",
   "execution_count": 22,
   "id": "0a8ed283",
   "metadata": {},
   "outputs": [
    {
     "data": {
      "text/plain": [
       "array([[ 0,  2,  4,  6,  8],\n",
       "       [ 5,  7,  9, 11, 13]])"
      ]
     },
     "execution_count": 22,
     "metadata": {},
     "output_type": "execute_result"
    }
   ],
   "source": [
    "arreglo + np.array([0,1,2,3,4])"
   ]
  },
  {
   "cell_type": "markdown",
   "id": "789adcfe",
   "metadata": {},
   "source": [
    "# Broadcasting de columnas"
   ]
  },
  {
   "cell_type": "code",
   "execution_count": 23,
   "id": "5816b384",
   "metadata": {},
   "outputs": [
    {
     "data": {
      "text/plain": [
       "array([[ 0,  1,  2,  3,  4],\n",
       "       [ 6,  7,  8,  9, 10]])"
      ]
     },
     "execution_count": 23,
     "metadata": {},
     "output_type": "execute_result"
    }
   ],
   "source": [
    "arreglo = np.arange(10).reshape((2,5))\n",
    "arreglo + np.array([0,1]).reshape((2,1))"
   ]
  },
  {
   "cell_type": "markdown",
   "id": "af196e3b",
   "metadata": {},
   "source": [
    "# Error cuando no se cumplen las reglas de compatibilidad"
   ]
  },
  {
   "cell_type": "code",
   "execution_count": 24,
   "id": "9557ac5e",
   "metadata": {},
   "outputs": [
    {
     "ename": "ValueError",
     "evalue": "operands could not be broadcast together with shapes (2,5) (2,) ",
     "output_type": "error",
     "traceback": [
      "\u001b[1;31m---------------------------------------------------------------------------\u001b[0m",
      "\u001b[1;31mValueError\u001b[0m                                Traceback (most recent call last)",
      "Cell \u001b[1;32mIn[24], line 1\u001b[0m\n\u001b[1;32m----> 1\u001b[0m \u001b[43marreglo\u001b[49m\u001b[43m \u001b[49m\u001b[38;5;241;43m+\u001b[39;49m\u001b[43m \u001b[49m\u001b[43mnp\u001b[49m\u001b[38;5;241;43m.\u001b[39;49m\u001b[43marray\u001b[49m\u001b[43m(\u001b[49m\u001b[43m[\u001b[49m\u001b[38;5;241;43m0\u001b[39;49m\u001b[43m,\u001b[49m\u001b[38;5;241;43m1\u001b[39;49m\u001b[43m]\u001b[49m\u001b[43m)\u001b[49m\n",
      "\u001b[1;31mValueError\u001b[0m: operands could not be broadcast together with shapes (2,5) (2,) "
     ]
    }
   ],
   "source": [
    "arreglo + np.array([0,1])"
   ]
  },
  {
   "cell_type": "markdown",
   "id": "f48c9979",
   "metadata": {},
   "source": [
    "# Volteo a un arreglo"
   ]
  },
  {
   "cell_type": "code",
   "execution_count": 25,
   "id": "b4d3d85b",
   "metadata": {},
   "outputs": [
    {
     "data": {
      "text/plain": [
       "array([[4.3, 4.2, 4.1],\n",
       "       [2.3, 2.2, 2.1],\n",
       "       [1.3, 1.2, 1.1]])"
      ]
     },
     "execution_count": 25,
     "metadata": {},
     "output_type": "execute_result"
    }
   ],
   "source": [
    "arreglo = np.array([[1.1, 1.2, 1.3],\n",
    "                    [2.1, 2.2, 2.3],\n",
    "                    [4.1, 4.2, 4.3]])\n",
    "\n",
    "np.flip(arreglo)"
   ]
  },
  {
   "cell_type": "markdown",
   "id": "7461f41a",
   "metadata": {},
   "source": [
    "# Transposición de un arreglo"
   ]
  },
  {
   "cell_type": "code",
   "execution_count": 26,
   "id": "2b6de3c7",
   "metadata": {},
   "outputs": [
    {
     "data": {
      "text/plain": [
       "array([[1.1, 2.1, 4.1],\n",
       "       [1.2, 2.2, 4.2],\n",
       "       [1.3, 2.3, 4.3]])"
      ]
     },
     "execution_count": 26,
     "metadata": {},
     "output_type": "execute_result"
    }
   ],
   "source": [
    "arreglo = np.array([[1.1, 1.2, 1.3],\n",
    "                    [2.1, 2.2, 2.3],\n",
    "                    [4.1, 4.2, 4.3]])\n",
    "\n",
    "np.transpose(arreglo)"
   ]
  },
  {
   "cell_type": "markdown",
   "id": "940a8314",
   "metadata": {},
   "source": [
    "# ejercicio 1"
   ]
  },
  {
   "cell_type": "code",
   "execution_count": 27,
   "id": "721a40c4",
   "metadata": {},
   "outputs": [
    {
     "data": {
      "text/plain": [
       "array([[ 5, 10],\n",
       "       [30, 40]])"
      ]
     },
     "execution_count": 27,
     "metadata": {},
     "output_type": "execute_result"
    }
   ],
   "source": [
    "np.array([[1,2], [3,4]]) * np.array([[5], [10]])"
   ]
  },
  {
   "cell_type": "markdown",
   "id": "08a018e1",
   "metadata": {},
   "source": [
    "# ejercicio 2"
   ]
  },
  {
   "cell_type": "code",
   "execution_count": 29,
   "id": "b69610b6",
   "metadata": {},
   "outputs": [
    {
     "data": {
      "text/plain": [
       "array([[-4, -8],\n",
       "       [-2, -6]])"
      ]
     },
     "execution_count": 29,
     "metadata": {},
     "output_type": "execute_result"
    }
   ],
   "source": [
    "np.array([[1,2], [3,4]]) - np.array([[5, 10]])"
   ]
  }
 ],
 "metadata": {
  "kernelspec": {
   "display_name": "Python 3 (ipykernel)",
   "language": "python",
   "name": "python3"
  },
  "language_info": {
   "codemirror_mode": {
    "name": "ipython",
    "version": 3
   },
   "file_extension": ".py",
   "mimetype": "text/x-python",
   "name": "python",
   "nbconvert_exporter": "python",
   "pygments_lexer": "ipython3",
   "version": "3.11.3"
  }
 },
 "nbformat": 4,
 "nbformat_minor": 5
}
