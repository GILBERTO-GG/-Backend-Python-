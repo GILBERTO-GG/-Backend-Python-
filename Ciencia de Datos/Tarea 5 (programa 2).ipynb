{
 "cells": [
  {
   "cell_type": "code",
   "execution_count": 1,
   "id": "37f47e42",
   "metadata": {},
   "outputs": [
    {
     "name": "stdout",
     "output_type": "stream",
     "text": [
      "True\n",
      "False\n",
      "True\n",
      "False\n"
     ]
    }
   ],
   "source": [
    "# este programa comprueba si un número es primo ó no.\n",
    "\n",
    "def prueba_primo(numero):\n",
    "    if numero <= 1:              # números menores o iguales a 1 no son primos.\n",
    "        return False\n",
    "    for i in range(2, int(numero ** 0.5) + 1):       \"\"\" se itera desde 2 hasta la raíz cuadrada del número \n",
    "                                                        (redondeado hacia arriba) más 1. Esto se debe a que si un número\n",
    "                                                         no es primo, al menos uno de sus factores estará en el rango \n",
    "                                                         de 2 a la raíz cuadrada del número.\"\"\"\n",
    "        \n",
    "        \n",
    "        if numero % i == 0:\n",
    "            return False\n",
    "    return True\n",
    "\n",
    "print(prueba_primo(7))  # Salida: True\n",
    "print(prueba_primo(12))  # Salida: False\n",
    "print(prueba_primo(23))  # Salida: True\n",
    "print(prueba_primo(1))  # Salida: False"
   ]
  }
 ],
 "metadata": {
  "kernelspec": {
   "display_name": "Python 3 (ipykernel)",
   "language": "python",
   "name": "python3"
  },
  "language_info": {
   "codemirror_mode": {
    "name": "ipython",
    "version": 3
   },
   "file_extension": ".py",
   "mimetype": "text/x-python",
   "name": "python",
   "nbconvert_exporter": "python",
   "pygments_lexer": "ipython3",
   "version": "3.11.3"
  }
 },
 "nbformat": 4,
 "nbformat_minor": 5
}
