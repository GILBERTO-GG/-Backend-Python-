{
 "cells": [
  {
   "cell_type": "code",
   "execution_count": 5,
   "id": "5f58dad1",
   "metadata": {},
   "outputs": [
    {
     "name": "stdout",
     "output_type": "stream",
     "text": [
      "Ingresa por favor un número entero positivo: 7.5\n",
      "Error de captura\n"
     ]
    }
   ],
   "source": [
    "numero = float(input(\"Ingresa por favor un número entero positivo: \"))\n",
    "\n",
    "if numero < 0 or numero != int(numero):\n",
    "    print(\"Error de captura\")\n",
    "else:\n",
    "    factorial = 1\n",
    "    for i in range(1, int(numero) + 1):\n",
    "        factorial *= i\n",
    "    print(f\"El factorial de {int(numero)} es: {factorial}\")"
   ]
  }
 ],
 "metadata": {
  "kernelspec": {
   "display_name": "Python 3 (ipykernel)",
   "language": "python",
   "name": "python3"
  },
  "language_info": {
   "codemirror_mode": {
    "name": "ipython",
    "version": 3
   },
   "file_extension": ".py",
   "mimetype": "text/x-python",
   "name": "python",
   "nbconvert_exporter": "python",
   "pygments_lexer": "ipython3",
   "version": "3.11.3"
  }
 },
 "nbformat": 4,
 "nbformat_minor": 5
}
