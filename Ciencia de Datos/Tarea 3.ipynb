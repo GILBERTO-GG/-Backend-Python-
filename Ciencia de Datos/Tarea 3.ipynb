{
 "cells": [
  {
   "cell_type": "code",
   "execution_count": 9,
   "id": "65c54365",
   "metadata": {},
   "outputs": [
    {
     "name": "stdout",
     "output_type": "stream",
     "text": [
      "Programa que calcula el total a pagar a un trabajador de acuerdo a las horas trabajadas\n",
      "\n",
      "\n",
      " ----------------------------------------------------------------------------------\n",
      "----------------------------------------------------------------------------------\n",
      "----------------------------------------------------------------------------------\n",
      "Ingrese el número de horas trabajadas:  -55\n",
      "Ingrese la tarifa de pago por hora:  -5\n",
      "Parámetros incorrectos\n"
     ]
    }
   ],
   "source": [
    "print(\"Programa que calcula el total a pagar a un trabajador de acuerdo a las horas trabajadas\")\n",
    "\n",
    "print(\"\\n\\n ----------------------------------------------------------------------------------\")\n",
    "print(\"----------------------------------------------------------------------------------\")\n",
    "print(\"----------------------------------------------------------------------------------\")\n",
    "\n",
    "\n",
    "#  Se solicita al usuario los valores de horas laboradas y tarifa por hora\n",
    "horas_laboradas = float(input(\"Ingrese el número de horas trabajadas:  \"))\n",
    "tarifa_por_hora = float(input(\"Ingrese la tarifa de pago por hora:  \"))\n",
    "\n",
    "\n",
    "\n",
    "if horas_laboradas < 0 or tarifa_por_hora < 0:             #-------> inciso d\n",
    "    print(\"Parámetros incorrectos\")\n",
    "    \n",
    "else:\n",
    "    \n",
    "    \n",
    "    if horas_laboradas <= 40:                               #-------> inciso a\n",
    "        monto_pagar = horas_laboradas * tarifa_por_hora\n",
    "        \n",
    "    elif horas_laboradas <= 50:                             #-------> inciso b\n",
    "        horas_extra = horas_laboradas - 40\n",
    "        tarifa_extra = tarifa_por_hora * 1.10\n",
    "        monto_pagar = (40 * tarifa_por_hora) + (horas_extra * tarifa_extra)\n",
    "        \n",
    "    elif horas_laboradas > 50:                              #-------> inciso c\n",
    "        horas_extra = horas_laboradas - 50\n",
    "        tarifa_extra = tarifa_por_hora * 1.20\n",
    "        monto_pagar = (40 * tarifa_por_hora) + (10 * tarifa_por_hora * 1.10) + (horas_extra * tarifa_extra)\n",
    "\n",
    "    \n",
    "    print(\"El Monto a pagar es:  \", monto_pagar)           # imprimimos el resultado"
   ]
  },
  {
   "cell_type": "code",
   "execution_count": null,
   "id": "900fa907",
   "metadata": {},
   "outputs": [],
   "source": []
  }
 ],
 "metadata": {
  "kernelspec": {
   "display_name": "Python 3 (ipykernel)",
   "language": "python",
   "name": "python3"
  },
  "language_info": {
   "codemirror_mode": {
    "name": "ipython",
    "version": 3
   },
   "file_extension": ".py",
   "mimetype": "text/x-python",
   "name": "python",
   "nbconvert_exporter": "python",
   "pygments_lexer": "ipython3",
   "version": "3.11.3"
  }
 },
 "nbformat": 4,
 "nbformat_minor": 5
}
