{
 "cells": [
  {
   "cell_type": "markdown",
   "id": "7f5175b6",
   "metadata": {},
   "source": [
    "# Operaciones estadísticas más comúnes"
   ]
  },
  {
   "cell_type": "markdown",
   "id": "15474588",
   "metadata": {},
   "source": [
    "# Tendencia central y dispersión"
   ]
  },
  {
   "cell_type": "code",
   "execution_count": null,
   "id": "e02a9f61",
   "metadata": {},
   "outputs": [],
   "source": [
    "--SUMA         sum()\n",
    "--MEDIA        mean()\n",
    "--MEDIANA      median()\n",
    "--MINIMO       min()\n",
    "--MAXIMO       max()\n",
    "--VARIANZA     var()\n",
    "--DESVIACION   std() \n",
    "  ESTANDAR\n",
    "--CUANTIL      quantile()"
   ]
  },
  {
   "cell_type": "markdown",
   "id": "47d795ab",
   "metadata": {},
   "source": [
    "# Acumulación"
   ]
  },
  {
   "cell_type": "code",
   "execution_count": null,
   "id": "564763a1",
   "metadata": {},
   "outputs": [],
   "source": [
    "--SUMA       cumsum()\n",
    "--MAXIMO     cummax()\n",
    "--MINIMO     cummin()\n",
    "--PRODUCTO   cumprod()"
   ]
  },
  {
   "cell_type": "code",
   "execution_count": 2,
   "id": "89cab995",
   "metadata": {},
   "outputs": [
    {
     "data": {
      "text/plain": [
       "array([['Bella', 'Labrador', 'Café', '56', '24', '2013-07-01'],\n",
       "       ['Charlie', 'Poodle', 'Negro', '43', '24', '2016-09-16'],\n",
       "       ['Lucy', 'Chow Chow', 'Café', '46', '24', '2014-08-25'],\n",
       "       ['Cooper', 'Schnauzer', 'Gris', '49', '17', '2011-12-11'],\n",
       "       ['Bernie', 'San Bernardo', 'Blanco', '77', '74', '2018-02-27'],\n",
       "       ['Max', 'Chow Chow', 'Blanco', '45', '28', '2019-03-27'],\n",
       "       ['Reed', 'Schnauzer', 'Negro', '45', '15', '2017-09-18']],\n",
       "      dtype='<U12')"
      ]
     },
     "execution_count": 2,
     "metadata": {},
     "output_type": "execute_result"
    }
   ],
   "source": [
    "import numpy as np\n",
    "import pandas as pd\n",
    "\n",
    "arreglo = np.array([['Bella', 'Labrador', 'Café', 56, 24,  '2013-07-01'],\n",
    "                   ['Charlie', 'Poodle', 'Negro', 43, 24,  '2016-09-16'],\n",
    "                   ['Lucy', 'Chow Chow', 'Café', 46, 24,  '2014-08-25' ],\n",
    "                   ['Cooper', 'Schnauzer', 'Gris', 49, 17, '2011-12-11'],\n",
    "                   ['Bernie','San Bernardo','Blanco',77,74,'2018-02-27'],\n",
    "                   ['Max', 'Chow Chow' ,'Blanco' , 45, 28, '2019-03-27'],\n",
    "                   ['Reed', 'Schnauzer', 'Negro', 45, 15,  '2017-09-18']])\n",
    "arreglo"
   ]
  },
  {
   "cell_type": "code",
   "execution_count": 4,
   "id": "c94448eb",
   "metadata": {},
   "outputs": [
    {
     "data": {
      "text/html": [
       "<div>\n",
       "<style scoped>\n",
       "    .dataframe tbody tr th:only-of-type {\n",
       "        vertical-align: middle;\n",
       "    }\n",
       "\n",
       "    .dataframe tbody tr th {\n",
       "        vertical-align: top;\n",
       "    }\n",
       "\n",
       "    .dataframe thead th {\n",
       "        text-align: right;\n",
       "    }\n",
       "</style>\n",
       "<table border=\"1\" class=\"dataframe\">\n",
       "  <thead>\n",
       "    <tr style=\"text-align: right;\">\n",
       "      <th></th>\n",
       "      <th>Nombre</th>\n",
       "      <th>Raza</th>\n",
       "      <th>Color</th>\n",
       "      <th>Altura_cm</th>\n",
       "      <th>Peso_kg</th>\n",
       "      <th>Fecha_Nac</th>\n",
       "    </tr>\n",
       "  </thead>\n",
       "  <tbody>\n",
       "    <tr>\n",
       "      <th>0</th>\n",
       "      <td>Bella</td>\n",
       "      <td>Labrador</td>\n",
       "      <td>Café</td>\n",
       "      <td>56</td>\n",
       "      <td>24</td>\n",
       "      <td>2013-07-01</td>\n",
       "    </tr>\n",
       "    <tr>\n",
       "      <th>1</th>\n",
       "      <td>Charlie</td>\n",
       "      <td>Poodle</td>\n",
       "      <td>Negro</td>\n",
       "      <td>43</td>\n",
       "      <td>24</td>\n",
       "      <td>2016-09-16</td>\n",
       "    </tr>\n",
       "    <tr>\n",
       "      <th>2</th>\n",
       "      <td>Lucy</td>\n",
       "      <td>Chow Chow</td>\n",
       "      <td>Café</td>\n",
       "      <td>46</td>\n",
       "      <td>24</td>\n",
       "      <td>2014-08-25</td>\n",
       "    </tr>\n",
       "    <tr>\n",
       "      <th>3</th>\n",
       "      <td>Cooper</td>\n",
       "      <td>Schnauzer</td>\n",
       "      <td>Gris</td>\n",
       "      <td>49</td>\n",
       "      <td>17</td>\n",
       "      <td>2011-12-11</td>\n",
       "    </tr>\n",
       "    <tr>\n",
       "      <th>4</th>\n",
       "      <td>Bernie</td>\n",
       "      <td>San Bernardo</td>\n",
       "      <td>Blanco</td>\n",
       "      <td>77</td>\n",
       "      <td>74</td>\n",
       "      <td>2018-02-27</td>\n",
       "    </tr>\n",
       "    <tr>\n",
       "      <th>5</th>\n",
       "      <td>Max</td>\n",
       "      <td>Chow Chow</td>\n",
       "      <td>Blanco</td>\n",
       "      <td>45</td>\n",
       "      <td>28</td>\n",
       "      <td>2019-03-27</td>\n",
       "    </tr>\n",
       "    <tr>\n",
       "      <th>6</th>\n",
       "      <td>Reed</td>\n",
       "      <td>Schnauzer</td>\n",
       "      <td>Negro</td>\n",
       "      <td>45</td>\n",
       "      <td>15</td>\n",
       "      <td>2017-09-18</td>\n",
       "    </tr>\n",
       "  </tbody>\n",
       "</table>\n",
       "</div>"
      ],
      "text/plain": [
       "    Nombre          Raza   Color  Altura_cm  Peso_kg   Fecha_Nac\n",
       "0    Bella      Labrador    Café         56       24  2013-07-01\n",
       "1  Charlie        Poodle   Negro         43       24  2016-09-16\n",
       "2     Lucy     Chow Chow    Café         46       24  2014-08-25\n",
       "3   Cooper     Schnauzer    Gris         49       17  2011-12-11\n",
       "4   Bernie  San Bernardo  Blanco         77       74  2018-02-27\n",
       "5      Max     Chow Chow  Blanco         45       28  2019-03-27\n",
       "6     Reed     Schnauzer   Negro         45       15  2017-09-18"
      ]
     },
     "execution_count": 4,
     "metadata": {},
     "output_type": "execute_result"
    }
   ],
   "source": [
    "df = pd.DataFrame(data = arreglo, columns=['Nombre', 'Raza', 'Color', 'Altura_cm', 'Peso_kg', 'Fecha_Nac'])\n",
    "df['Altura_cm'] = df['Altura_cm'].astype(int)\n",
    "df['Peso_kg'] = df['Peso_kg'].astype(int)\n",
    "df"
   ]
  },
  {
   "cell_type": "markdown",
   "id": "532728eb",
   "metadata": {},
   "source": [
    "# Cálculo de la media"
   ]
  },
  {
   "cell_type": "code",
   "execution_count": 5,
   "id": "4d5b1dca",
   "metadata": {},
   "outputs": [
    {
     "data": {
      "text/plain": [
       "29.428571428571427"
      ]
     },
     "execution_count": 5,
     "metadata": {},
     "output_type": "execute_result"
    }
   ],
   "source": [
    "df['Peso_kg'].mean()"
   ]
  },
  {
   "cell_type": "markdown",
   "id": "f2d0b712",
   "metadata": {},
   "source": [
    "# Cálculo de la feha de nacimiento mas antigua"
   ]
  },
  {
   "cell_type": "code",
   "execution_count": 6,
   "id": "abba9ff0",
   "metadata": {},
   "outputs": [
    {
     "data": {
      "text/plain": [
       "'2011-12-11'"
      ]
     },
     "execution_count": 6,
     "metadata": {},
     "output_type": "execute_result"
    }
   ],
   "source": [
    "df['Fecha_Nac'].min()"
   ]
  },
  {
   "cell_type": "markdown",
   "id": "44a6c289",
   "metadata": {},
   "source": [
    "# Función de agregación estadística"
   ]
  },
  {
   "cell_type": "code",
   "execution_count": 7,
   "id": "3dbf2a51",
   "metadata": {},
   "outputs": [
    {
     "data": {
      "text/plain": [
       "54.60000000000001"
      ]
     },
     "execution_count": 7,
     "metadata": {},
     "output_type": "execute_result"
    }
   ],
   "source": [
    "def percentil80(columna):\n",
    "    return columna.quantile(0.80)\n",
    "\n",
    "df['Altura_cm'].agg(percentil80)"
   ]
  },
  {
   "cell_type": "markdown",
   "id": "71f5e63a",
   "metadata": {},
   "source": [
    "# Agrupación estadística en varias columnas"
   ]
  },
  {
   "cell_type": "code",
   "execution_count": 8,
   "id": "e558f1cd",
   "metadata": {},
   "outputs": [
    {
     "data": {
      "text/plain": [
       "Altura_cm    54.6\n",
       "Peso_kg      27.2\n",
       "dtype: float64"
      ]
     },
     "execution_count": 8,
     "metadata": {},
     "output_type": "execute_result"
    }
   ],
   "source": [
    "df[['Altura_cm', \"Peso_kg\"]].agg(percentil80)"
   ]
  },
  {
   "cell_type": "markdown",
   "id": "671d33ad",
   "metadata": {},
   "source": [
    "# Aplicación de estadísticas múltiples"
   ]
  },
  {
   "cell_type": "code",
   "execution_count": 9,
   "id": "c002afe4",
   "metadata": {},
   "outputs": [
    {
     "data": {
      "text/plain": [
       "percentil80    54.6\n",
       "percentil90    64.4\n",
       "Name: Altura_cm, dtype: float64"
      ]
     },
     "execution_count": 9,
     "metadata": {},
     "output_type": "execute_result"
    }
   ],
   "source": [
    "def percentil90(columna):\n",
    "    return columna.quantile(0.90)\n",
    "\n",
    "df['Altura_cm'].agg([percentil80, percentil90])"
   ]
  },
  {
   "cell_type": "code",
   "execution_count": 10,
   "id": "ed4a15ec",
   "metadata": {},
   "outputs": [
    {
     "data": {
      "text/plain": [
       "0    56\n",
       "1    43\n",
       "2    46\n",
       "3    49\n",
       "4    77\n",
       "5    45\n",
       "6    45\n",
       "Name: Altura_cm, dtype: int32"
      ]
     },
     "execution_count": 10,
     "metadata": {},
     "output_type": "execute_result"
    }
   ],
   "source": [
    "df['Altura_cm']"
   ]
  },
  {
   "cell_type": "markdown",
   "id": "adb45420",
   "metadata": {},
   "source": [
    "# cumsum"
   ]
  },
  {
   "cell_type": "code",
   "execution_count": 11,
   "id": "a3004359",
   "metadata": {},
   "outputs": [
    {
     "data": {
      "text/plain": [
       "0     56\n",
       "1     99\n",
       "2    145\n",
       "3    194\n",
       "4    271\n",
       "5    316\n",
       "6    361\n",
       "Name: Altura_cm, dtype: int32"
      ]
     },
     "execution_count": 11,
     "metadata": {},
     "output_type": "execute_result"
    }
   ],
   "source": [
    "df['Altura_cm'].cumsum()         # vamos acumulando de manera progresiva cada una de las alturas \n",
    "                                 #suma las alturas anteriores"
   ]
  },
  {
   "cell_type": "markdown",
   "id": "a02ab4ff",
   "metadata": {},
   "source": [
    "# cummin()"
   ]
  },
  {
   "cell_type": "code",
   "execution_count": 12,
   "id": "22897975",
   "metadata": {},
   "outputs": [
    {
     "data": {
      "text/plain": [
       "0    56\n",
       "1    43\n",
       "2    43\n",
       "3    43\n",
       "4    43\n",
       "5    43\n",
       "6    43\n",
       "Name: Altura_cm, dtype: int32"
      ]
     },
     "execution_count": 12,
     "metadata": {},
     "output_type": "execute_result"
    }
   ],
   "source": [
    "df['Altura_cm'].cummin()         # arroja el valor mínimo cuando lo encuentra y ya no lo cambia"
   ]
  },
  {
   "cell_type": "markdown",
   "id": "d0adf33e",
   "metadata": {},
   "source": [
    "# value_counts()"
   ]
  },
  {
   "cell_type": "markdown",
   "id": "d99ba5d8",
   "metadata": {},
   "source": [
    "# Conteo de perros por raza"
   ]
  },
  {
   "cell_type": "code",
   "execution_count": 13,
   "id": "ad2f9e51",
   "metadata": {},
   "outputs": [
    {
     "data": {
      "text/plain": [
       "Raza\n",
       "Chow Chow       2\n",
       "Schnauzer       2\n",
       "Labrador        1\n",
       "Poodle          1\n",
       "San Bernardo    1\n",
       "Name: count, dtype: int64"
      ]
     },
     "execution_count": 13,
     "metadata": {},
     "output_type": "execute_result"
    }
   ],
   "source": [
    "df['Raza'].value_counts()               # contamos la cantidad de perros por raza"
   ]
  },
  {
   "cell_type": "markdown",
   "id": "a41e058c",
   "metadata": {},
   "source": [
    "# Proporción de perros por raza"
   ]
  },
  {
   "cell_type": "code",
   "execution_count": 14,
   "id": "3164f14d",
   "metadata": {},
   "outputs": [
    {
     "data": {
      "text/plain": [
       "Raza\n",
       "Chow Chow       0.285714\n",
       "Schnauzer       0.285714\n",
       "Labrador        0.142857\n",
       "Poodle          0.142857\n",
       "San Bernardo    0.142857\n",
       "Name: proportion, dtype: float64"
      ]
     },
     "execution_count": 14,
     "metadata": {},
     "output_type": "execute_result"
    }
   ],
   "source": [
    "df['Raza'].value_counts(normalize=True)      #porcentaje relativo con respecto al total\n",
    "                                             #frecuencia relativa(dividir la frecuencia entre el total)"
   ]
  },
  {
   "cell_type": "markdown",
   "id": "89e7a1de",
   "metadata": {},
   "source": [
    "# Resúmen por grupo"
   ]
  },
  {
   "cell_type": "code",
   "execution_count": 15,
   "id": "79f556dd",
   "metadata": {},
   "outputs": [
    {
     "name": "stdout",
     "output_type": "stream",
     "text": [
      "51.0\n",
      "24.0\n",
      "17.0\n",
      "19.5\n"
     ]
    }
   ],
   "source": [
    "print(df[df['Color'] == 'Blanco']['Peso_kg'].mean())\n",
    "print(df[df['Color'] == 'Café']['Peso_kg'].mean())\n",
    "print(df[df['Color'] == 'Gris']['Peso_kg'].mean())\n",
    "print(df[df['Color'] == 'Negro']['Peso_kg'].mean())"
   ]
  },
  {
   "cell_type": "code",
   "execution_count": 16,
   "id": "fb4237b3",
   "metadata": {},
   "outputs": [
    {
     "data": {
      "text/plain": [
       "Color\n",
       "Blanco    51.0\n",
       "Café      24.0\n",
       "Gris      17.0\n",
       "Negro     19.5\n",
       "Name: Peso_kg, dtype: float64"
      ]
     },
     "execution_count": 16,
     "metadata": {},
     "output_type": "execute_result"
    }
   ],
   "source": [
    "# Hacer lo anterior pero de una manera más práctica\n",
    "# Resúmen por grupo:  MEJOR OPCIÓN\n",
    "\n",
    "df.groupby('Color')['Peso_kg'].mean()"
   ]
  },
  {
   "cell_type": "markdown",
   "id": "36c299e3",
   "metadata": {},
   "source": [
    "# Agrupación por color en base a diversas estadísticas"
   ]
  },
  {
   "cell_type": "code",
   "execution_count": 17,
   "id": "efa16453",
   "metadata": {},
   "outputs": [
    {
     "data": {
      "text/html": [
       "<div>\n",
       "<style scoped>\n",
       "    .dataframe tbody tr th:only-of-type {\n",
       "        vertical-align: middle;\n",
       "    }\n",
       "\n",
       "    .dataframe tbody tr th {\n",
       "        vertical-align: top;\n",
       "    }\n",
       "\n",
       "    .dataframe thead th {\n",
       "        text-align: right;\n",
       "    }\n",
       "</style>\n",
       "<table border=\"1\" class=\"dataframe\">\n",
       "  <thead>\n",
       "    <tr style=\"text-align: right;\">\n",
       "      <th></th>\n",
       "      <th>min</th>\n",
       "      <th>max</th>\n",
       "      <th>sum</th>\n",
       "    </tr>\n",
       "    <tr>\n",
       "      <th>Color</th>\n",
       "      <th></th>\n",
       "      <th></th>\n",
       "      <th></th>\n",
       "    </tr>\n",
       "  </thead>\n",
       "  <tbody>\n",
       "    <tr>\n",
       "      <th>Blanco</th>\n",
       "      <td>28</td>\n",
       "      <td>74</td>\n",
       "      <td>102</td>\n",
       "    </tr>\n",
       "    <tr>\n",
       "      <th>Café</th>\n",
       "      <td>24</td>\n",
       "      <td>24</td>\n",
       "      <td>48</td>\n",
       "    </tr>\n",
       "    <tr>\n",
       "      <th>Gris</th>\n",
       "      <td>17</td>\n",
       "      <td>17</td>\n",
       "      <td>17</td>\n",
       "    </tr>\n",
       "    <tr>\n",
       "      <th>Negro</th>\n",
       "      <td>15</td>\n",
       "      <td>24</td>\n",
       "      <td>39</td>\n",
       "    </tr>\n",
       "  </tbody>\n",
       "</table>\n",
       "</div>"
      ],
      "text/plain": [
       "        min  max  sum\n",
       "Color                \n",
       "Blanco   28   74  102\n",
       "Café     24   24   48\n",
       "Gris     17   17   17\n",
       "Negro    15   24   39"
      ]
     },
     "execution_count": 17,
     "metadata": {},
     "output_type": "execute_result"
    }
   ],
   "source": [
    "df.groupby('Color')['Peso_kg'].agg([min,max,sum])"
   ]
  },
  {
   "cell_type": "markdown",
   "id": "125eb6a0",
   "metadata": {},
   "source": [
    "# Agrupación por color y raza en base a la media del peso"
   ]
  },
  {
   "cell_type": "code",
   "execution_count": 18,
   "id": "b83f12f8",
   "metadata": {},
   "outputs": [
    {
     "data": {
      "text/plain": [
       "Color   Raza        \n",
       "Blanco  Chow Chow       28.0\n",
       "        San Bernardo    74.0\n",
       "Café    Chow Chow       24.0\n",
       "        Labrador        24.0\n",
       "Gris    Schnauzer       17.0\n",
       "Negro   Poodle          24.0\n",
       "        Schnauzer       15.0\n",
       "Name: Peso_kg, dtype: float64"
      ]
     },
     "execution_count": 18,
     "metadata": {},
     "output_type": "execute_result"
    }
   ],
   "source": [
    "df.groupby(['Color', 'Raza'])['Peso_kg'].mean()"
   ]
  },
  {
   "cell_type": "markdown",
   "id": "fa6a4ca2",
   "metadata": {},
   "source": [
    "# Uso de tablas pivote"
   ]
  },
  {
   "cell_type": "code",
   "execution_count": 19,
   "id": "3e7dbb54",
   "metadata": {},
   "outputs": [
    {
     "data": {
      "text/html": [
       "<div>\n",
       "<style scoped>\n",
       "    .dataframe tbody tr th:only-of-type {\n",
       "        vertical-align: middle;\n",
       "    }\n",
       "\n",
       "    .dataframe tbody tr th {\n",
       "        vertical-align: top;\n",
       "    }\n",
       "\n",
       "    .dataframe thead tr th {\n",
       "        text-align: left;\n",
       "    }\n",
       "\n",
       "    .dataframe thead tr:last-of-type th {\n",
       "        text-align: right;\n",
       "    }\n",
       "</style>\n",
       "<table border=\"1\" class=\"dataframe\">\n",
       "  <thead>\n",
       "    <tr>\n",
       "      <th></th>\n",
       "      <th>mean</th>\n",
       "      <th>median</th>\n",
       "    </tr>\n",
       "    <tr>\n",
       "      <th></th>\n",
       "      <th>Peso_kg</th>\n",
       "      <th>Peso_kg</th>\n",
       "    </tr>\n",
       "    <tr>\n",
       "      <th>Color</th>\n",
       "      <th></th>\n",
       "      <th></th>\n",
       "    </tr>\n",
       "  </thead>\n",
       "  <tbody>\n",
       "    <tr>\n",
       "      <th>Blanco</th>\n",
       "      <td>51.0</td>\n",
       "      <td>51.0</td>\n",
       "    </tr>\n",
       "    <tr>\n",
       "      <th>Café</th>\n",
       "      <td>24.0</td>\n",
       "      <td>24.0</td>\n",
       "    </tr>\n",
       "    <tr>\n",
       "      <th>Gris</th>\n",
       "      <td>17.0</td>\n",
       "      <td>17.0</td>\n",
       "    </tr>\n",
       "    <tr>\n",
       "      <th>Negro</th>\n",
       "      <td>19.5</td>\n",
       "      <td>19.5</td>\n",
       "    </tr>\n",
       "  </tbody>\n",
       "</table>\n",
       "</div>"
      ],
      "text/plain": [
       "          mean  median\n",
       "       Peso_kg Peso_kg\n",
       "Color                 \n",
       "Blanco    51.0    51.0\n",
       "Café      24.0    24.0\n",
       "Gris      17.0    17.0\n",
       "Negro     19.5    19.5"
      ]
     },
     "execution_count": 19,
     "metadata": {},
     "output_type": "execute_result"
    }
   ],
   "source": [
    "df.pivot_table(values = \"Peso_kg\", index = \"Color\", aggfunc = [np.mean, np.median])"
   ]
  },
  {
   "cell_type": "markdown",
   "id": "0e813684",
   "metadata": {},
   "source": [
    "# Obtención de promedios para dos variables"
   ]
  },
  {
   "cell_type": "code",
   "execution_count": 20,
   "id": "7816abae",
   "metadata": {},
   "outputs": [
    {
     "data": {
      "text/html": [
       "<div>\n",
       "<style scoped>\n",
       "    .dataframe tbody tr th:only-of-type {\n",
       "        vertical-align: middle;\n",
       "    }\n",
       "\n",
       "    .dataframe tbody tr th {\n",
       "        vertical-align: top;\n",
       "    }\n",
       "\n",
       "    .dataframe thead th {\n",
       "        text-align: right;\n",
       "    }\n",
       "</style>\n",
       "<table border=\"1\" class=\"dataframe\">\n",
       "  <thead>\n",
       "    <tr style=\"text-align: right;\">\n",
       "      <th>Raza</th>\n",
       "      <th>Chow Chow</th>\n",
       "      <th>Labrador</th>\n",
       "      <th>Poodle</th>\n",
       "      <th>San Bernardo</th>\n",
       "      <th>Schnauzer</th>\n",
       "    </tr>\n",
       "    <tr>\n",
       "      <th>Color</th>\n",
       "      <th></th>\n",
       "      <th></th>\n",
       "      <th></th>\n",
       "      <th></th>\n",
       "      <th></th>\n",
       "    </tr>\n",
       "  </thead>\n",
       "  <tbody>\n",
       "    <tr>\n",
       "      <th>Blanco</th>\n",
       "      <td>28.0</td>\n",
       "      <td>NaN</td>\n",
       "      <td>NaN</td>\n",
       "      <td>74.0</td>\n",
       "      <td>NaN</td>\n",
       "    </tr>\n",
       "    <tr>\n",
       "      <th>Café</th>\n",
       "      <td>24.0</td>\n",
       "      <td>24.0</td>\n",
       "      <td>NaN</td>\n",
       "      <td>NaN</td>\n",
       "      <td>NaN</td>\n",
       "    </tr>\n",
       "    <tr>\n",
       "      <th>Gris</th>\n",
       "      <td>NaN</td>\n",
       "      <td>NaN</td>\n",
       "      <td>NaN</td>\n",
       "      <td>NaN</td>\n",
       "      <td>17.0</td>\n",
       "    </tr>\n",
       "    <tr>\n",
       "      <th>Negro</th>\n",
       "      <td>NaN</td>\n",
       "      <td>NaN</td>\n",
       "      <td>24.0</td>\n",
       "      <td>NaN</td>\n",
       "      <td>15.0</td>\n",
       "    </tr>\n",
       "  </tbody>\n",
       "</table>\n",
       "</div>"
      ],
      "text/plain": [
       "Raza    Chow Chow  Labrador  Poodle  San Bernardo  Schnauzer\n",
       "Color                                                       \n",
       "Blanco       28.0       NaN     NaN          74.0        NaN\n",
       "Café         24.0      24.0     NaN           NaN        NaN\n",
       "Gris          NaN       NaN     NaN           NaN       17.0\n",
       "Negro         NaN       NaN    24.0           NaN       15.0"
      ]
     },
     "execution_count": 20,
     "metadata": {},
     "output_type": "execute_result"
    }
   ],
   "source": [
    "df.pivot_table(values = \"Peso_kg\", index = \"Color\", columns = \"Raza\")       # Media se toma por omisión"
   ]
  },
  {
   "cell_type": "markdown",
   "id": "4c11e30a",
   "metadata": {},
   "source": [
    "# Obtención de promedios para dos variables (Mejora 1):"
   ]
  },
  {
   "cell_type": "code",
   "execution_count": 21,
   "id": "21cc24a1",
   "metadata": {},
   "outputs": [
    {
     "data": {
      "text/html": [
       "<div>\n",
       "<style scoped>\n",
       "    .dataframe tbody tr th:only-of-type {\n",
       "        vertical-align: middle;\n",
       "    }\n",
       "\n",
       "    .dataframe tbody tr th {\n",
       "        vertical-align: top;\n",
       "    }\n",
       "\n",
       "    .dataframe thead th {\n",
       "        text-align: right;\n",
       "    }\n",
       "</style>\n",
       "<table border=\"1\" class=\"dataframe\">\n",
       "  <thead>\n",
       "    <tr style=\"text-align: right;\">\n",
       "      <th>Raza</th>\n",
       "      <th>Chow Chow</th>\n",
       "      <th>Labrador</th>\n",
       "      <th>Poodle</th>\n",
       "      <th>San Bernardo</th>\n",
       "      <th>Schnauzer</th>\n",
       "    </tr>\n",
       "    <tr>\n",
       "      <th>Color</th>\n",
       "      <th></th>\n",
       "      <th></th>\n",
       "      <th></th>\n",
       "      <th></th>\n",
       "      <th></th>\n",
       "    </tr>\n",
       "  </thead>\n",
       "  <tbody>\n",
       "    <tr>\n",
       "      <th>Blanco</th>\n",
       "      <td>28</td>\n",
       "      <td>0</td>\n",
       "      <td>0</td>\n",
       "      <td>74</td>\n",
       "      <td>0</td>\n",
       "    </tr>\n",
       "    <tr>\n",
       "      <th>Café</th>\n",
       "      <td>24</td>\n",
       "      <td>24</td>\n",
       "      <td>0</td>\n",
       "      <td>0</td>\n",
       "      <td>0</td>\n",
       "    </tr>\n",
       "    <tr>\n",
       "      <th>Gris</th>\n",
       "      <td>0</td>\n",
       "      <td>0</td>\n",
       "      <td>0</td>\n",
       "      <td>0</td>\n",
       "      <td>17</td>\n",
       "    </tr>\n",
       "    <tr>\n",
       "      <th>Negro</th>\n",
       "      <td>0</td>\n",
       "      <td>0</td>\n",
       "      <td>24</td>\n",
       "      <td>0</td>\n",
       "      <td>15</td>\n",
       "    </tr>\n",
       "  </tbody>\n",
       "</table>\n",
       "</div>"
      ],
      "text/plain": [
       "Raza    Chow Chow  Labrador  Poodle  San Bernardo  Schnauzer\n",
       "Color                                                       \n",
       "Blanco         28         0       0            74          0\n",
       "Café           24        24       0             0          0\n",
       "Gris            0         0       0             0         17\n",
       "Negro           0         0      24             0         15"
      ]
     },
     "execution_count": 21,
     "metadata": {},
     "output_type": "execute_result"
    }
   ],
   "source": [
    "df.pivot_table(values = \"Peso_kg\", index = \"Color\", columns = \"Raza\", fill_value = 0)  # quita los NaN\n",
    "                                                                                       #los reemplaza con cero´s."
   ]
  },
  {
   "cell_type": "markdown",
   "id": "def4967c",
   "metadata": {},
   "source": [
    "# Obtención de promedios para dos variables (Mejora 2)"
   ]
  },
  {
   "cell_type": "code",
   "execution_count": 22,
   "id": "d3c45c64",
   "metadata": {},
   "outputs": [
    {
     "data": {
      "text/html": [
       "<div>\n",
       "<style scoped>\n",
       "    .dataframe tbody tr th:only-of-type {\n",
       "        vertical-align: middle;\n",
       "    }\n",
       "\n",
       "    .dataframe tbody tr th {\n",
       "        vertical-align: top;\n",
       "    }\n",
       "\n",
       "    .dataframe thead th {\n",
       "        text-align: right;\n",
       "    }\n",
       "</style>\n",
       "<table border=\"1\" class=\"dataframe\">\n",
       "  <thead>\n",
       "    <tr style=\"text-align: right;\">\n",
       "      <th>Raza</th>\n",
       "      <th>Chow Chow</th>\n",
       "      <th>Labrador</th>\n",
       "      <th>Poodle</th>\n",
       "      <th>San Bernardo</th>\n",
       "      <th>Schnauzer</th>\n",
       "      <th>All</th>\n",
       "    </tr>\n",
       "    <tr>\n",
       "      <th>Color</th>\n",
       "      <th></th>\n",
       "      <th></th>\n",
       "      <th></th>\n",
       "      <th></th>\n",
       "      <th></th>\n",
       "      <th></th>\n",
       "    </tr>\n",
       "  </thead>\n",
       "  <tbody>\n",
       "    <tr>\n",
       "      <th>Blanco</th>\n",
       "      <td>28</td>\n",
       "      <td>0</td>\n",
       "      <td>0</td>\n",
       "      <td>74</td>\n",
       "      <td>0</td>\n",
       "      <td>51.000000</td>\n",
       "    </tr>\n",
       "    <tr>\n",
       "      <th>Café</th>\n",
       "      <td>24</td>\n",
       "      <td>24</td>\n",
       "      <td>0</td>\n",
       "      <td>0</td>\n",
       "      <td>0</td>\n",
       "      <td>24.000000</td>\n",
       "    </tr>\n",
       "    <tr>\n",
       "      <th>Gris</th>\n",
       "      <td>0</td>\n",
       "      <td>0</td>\n",
       "      <td>0</td>\n",
       "      <td>0</td>\n",
       "      <td>17</td>\n",
       "      <td>17.000000</td>\n",
       "    </tr>\n",
       "    <tr>\n",
       "      <th>Negro</th>\n",
       "      <td>0</td>\n",
       "      <td>0</td>\n",
       "      <td>24</td>\n",
       "      <td>0</td>\n",
       "      <td>15</td>\n",
       "      <td>19.500000</td>\n",
       "    </tr>\n",
       "    <tr>\n",
       "      <th>All</th>\n",
       "      <td>26</td>\n",
       "      <td>24</td>\n",
       "      <td>24</td>\n",
       "      <td>74</td>\n",
       "      <td>16</td>\n",
       "      <td>29.428571</td>\n",
       "    </tr>\n",
       "  </tbody>\n",
       "</table>\n",
       "</div>"
      ],
      "text/plain": [
       "Raza    Chow Chow  Labrador  Poodle  San Bernardo  Schnauzer        All\n",
       "Color                                                                  \n",
       "Blanco         28         0       0            74          0  51.000000\n",
       "Café           24        24       0             0          0  24.000000\n",
       "Gris            0         0       0             0         17  17.000000\n",
       "Negro           0         0      24             0         15  19.500000\n",
       "All            26        24      24            74         16  29.428571"
      ]
     },
     "execution_count": 22,
     "metadata": {},
     "output_type": "execute_result"
    }
   ],
   "source": [
    "df.pivot_table(values = \"Peso_kg\", index = \"Color\", columns = \"Raza\", fill_value = 0, margins = True, aggfunc = np.mean)"
   ]
  },
  {
   "cell_type": "markdown",
   "id": "d9ac51ea",
   "metadata": {},
   "source": [
    "# Cerré el programa y tuve que definir otra vez todo."
   ]
  },
  {
   "cell_type": "code",
   "execution_count": 3,
   "id": "590e2740",
   "metadata": {},
   "outputs": [
    {
     "data": {
      "text/plain": [
       "array([['Bella', 'Labrador', 'Café', '56', '24', '2013-07-01'],\n",
       "       ['Charlie', 'Poodle', 'Negro', '43', '24', '2016-09-16'],\n",
       "       ['Lucy', 'Chow Chow', 'Café', '46', '24', '2014-08-25'],\n",
       "       ['Cooper', 'Schnauzer', 'Gris', '49', '17', '2011-12-11'],\n",
       "       ['Bernie', 'San Bernardo', 'Blanco', '77', '74', '2018-02-27'],\n",
       "       ['Max', 'Chow Chow', 'Blanco', '45', '28', '2019-03-27'],\n",
       "       ['Reed', 'Schnauzer', 'Negro', '45', '15', '2017-09-18']],\n",
       "      dtype='<U12')"
      ]
     },
     "execution_count": 3,
     "metadata": {},
     "output_type": "execute_result"
    }
   ],
   "source": [
    "import numpy as np\n",
    "import pandas as pd\n",
    "\n",
    "arreglo = np.array([['Bella', 'Labrador', 'Café', 56, 24,  '2013-07-01'],\n",
    "                   ['Charlie', 'Poodle', 'Negro', 43, 24,  '2016-09-16'],\n",
    "                   ['Lucy', 'Chow Chow', 'Café', 46, 24,  '2014-08-25' ],\n",
    "                   ['Cooper', 'Schnauzer', 'Gris', 49, 17, '2011-12-11'],\n",
    "                   ['Bernie','San Bernardo','Blanco',77,74,'2018-02-27'],\n",
    "                   ['Max', 'Chow Chow' ,'Blanco' , 45, 28, '2019-03-27'],\n",
    "                   ['Reed', 'Schnauzer', 'Negro', 45, 15,  '2017-09-18']])\n",
    "arreglo"
   ]
  },
  {
   "cell_type": "code",
   "execution_count": 4,
   "id": "c62f4831",
   "metadata": {},
   "outputs": [
    {
     "data": {
      "text/html": [
       "<div>\n",
       "<style scoped>\n",
       "    .dataframe tbody tr th:only-of-type {\n",
       "        vertical-align: middle;\n",
       "    }\n",
       "\n",
       "    .dataframe tbody tr th {\n",
       "        vertical-align: top;\n",
       "    }\n",
       "\n",
       "    .dataframe thead th {\n",
       "        text-align: right;\n",
       "    }\n",
       "</style>\n",
       "<table border=\"1\" class=\"dataframe\">\n",
       "  <thead>\n",
       "    <tr style=\"text-align: right;\">\n",
       "      <th></th>\n",
       "      <th>Nombre</th>\n",
       "      <th>Raza</th>\n",
       "      <th>Color</th>\n",
       "      <th>Altura_cm</th>\n",
       "      <th>Peso_kg</th>\n",
       "      <th>Fecha_Nac</th>\n",
       "    </tr>\n",
       "  </thead>\n",
       "  <tbody>\n",
       "    <tr>\n",
       "      <th>0</th>\n",
       "      <td>Bella</td>\n",
       "      <td>Labrador</td>\n",
       "      <td>Café</td>\n",
       "      <td>56</td>\n",
       "      <td>24</td>\n",
       "      <td>2013-07-01</td>\n",
       "    </tr>\n",
       "    <tr>\n",
       "      <th>1</th>\n",
       "      <td>Charlie</td>\n",
       "      <td>Poodle</td>\n",
       "      <td>Negro</td>\n",
       "      <td>43</td>\n",
       "      <td>24</td>\n",
       "      <td>2016-09-16</td>\n",
       "    </tr>\n",
       "    <tr>\n",
       "      <th>2</th>\n",
       "      <td>Lucy</td>\n",
       "      <td>Chow Chow</td>\n",
       "      <td>Café</td>\n",
       "      <td>46</td>\n",
       "      <td>24</td>\n",
       "      <td>2014-08-25</td>\n",
       "    </tr>\n",
       "    <tr>\n",
       "      <th>3</th>\n",
       "      <td>Cooper</td>\n",
       "      <td>Schnauzer</td>\n",
       "      <td>Gris</td>\n",
       "      <td>49</td>\n",
       "      <td>17</td>\n",
       "      <td>2011-12-11</td>\n",
       "    </tr>\n",
       "    <tr>\n",
       "      <th>4</th>\n",
       "      <td>Bernie</td>\n",
       "      <td>San Bernardo</td>\n",
       "      <td>Blanco</td>\n",
       "      <td>77</td>\n",
       "      <td>74</td>\n",
       "      <td>2018-02-27</td>\n",
       "    </tr>\n",
       "    <tr>\n",
       "      <th>5</th>\n",
       "      <td>Max</td>\n",
       "      <td>Chow Chow</td>\n",
       "      <td>Blanco</td>\n",
       "      <td>45</td>\n",
       "      <td>28</td>\n",
       "      <td>2019-03-27</td>\n",
       "    </tr>\n",
       "    <tr>\n",
       "      <th>6</th>\n",
       "      <td>Reed</td>\n",
       "      <td>Schnauzer</td>\n",
       "      <td>Negro</td>\n",
       "      <td>45</td>\n",
       "      <td>15</td>\n",
       "      <td>2017-09-18</td>\n",
       "    </tr>\n",
       "  </tbody>\n",
       "</table>\n",
       "</div>"
      ],
      "text/plain": [
       "    Nombre          Raza   Color  Altura_cm  Peso_kg   Fecha_Nac\n",
       "0    Bella      Labrador    Café         56       24  2013-07-01\n",
       "1  Charlie        Poodle   Negro         43       24  2016-09-16\n",
       "2     Lucy     Chow Chow    Café         46       24  2014-08-25\n",
       "3   Cooper     Schnauzer    Gris         49       17  2011-12-11\n",
       "4   Bernie  San Bernardo  Blanco         77       74  2018-02-27\n",
       "5      Max     Chow Chow  Blanco         45       28  2019-03-27\n",
       "6     Reed     Schnauzer   Negro         45       15  2017-09-18"
      ]
     },
     "execution_count": 4,
     "metadata": {},
     "output_type": "execute_result"
    }
   ],
   "source": [
    "df = pd.DataFrame(data = arreglo, columns=['Nombre', 'Raza', 'Color', 'Altura_cm', 'Peso_kg', 'Fecha_Nac'])\n",
    "df['Altura_cm'] = df['Altura_cm'].astype(int)\n",
    "df['Peso_kg'] = df['Peso_kg'].astype(int)\n",
    "df"
   ]
  },
  {
   "cell_type": "markdown",
   "id": "bf27cbce",
   "metadata": {},
   "source": [
    "# Obtención de medias para dos variables"
   ]
  },
  {
   "cell_type": "code",
   "execution_count": 5,
   "id": "a648ca63",
   "metadata": {},
   "outputs": [
    {
     "data": {
      "text/html": [
       "<div>\n",
       "<style scoped>\n",
       "    .dataframe tbody tr th:only-of-type {\n",
       "        vertical-align: middle;\n",
       "    }\n",
       "\n",
       "    .dataframe tbody tr th {\n",
       "        vertical-align: top;\n",
       "    }\n",
       "\n",
       "    .dataframe thead th {\n",
       "        text-align: right;\n",
       "    }\n",
       "</style>\n",
       "<table border=\"1\" class=\"dataframe\">\n",
       "  <thead>\n",
       "    <tr style=\"text-align: right;\">\n",
       "      <th>Raza</th>\n",
       "      <th>Chow Chow</th>\n",
       "      <th>Labrador</th>\n",
       "      <th>Poodle</th>\n",
       "      <th>San Bernardo</th>\n",
       "      <th>Schnauzer</th>\n",
       "      <th>All</th>\n",
       "    </tr>\n",
       "    <tr>\n",
       "      <th>Color</th>\n",
       "      <th></th>\n",
       "      <th></th>\n",
       "      <th></th>\n",
       "      <th></th>\n",
       "      <th></th>\n",
       "      <th></th>\n",
       "    </tr>\n",
       "  </thead>\n",
       "  <tbody>\n",
       "    <tr>\n",
       "      <th>Blanco</th>\n",
       "      <td>28</td>\n",
       "      <td>0</td>\n",
       "      <td>0</td>\n",
       "      <td>74</td>\n",
       "      <td>0</td>\n",
       "      <td>51.0</td>\n",
       "    </tr>\n",
       "    <tr>\n",
       "      <th>Café</th>\n",
       "      <td>24</td>\n",
       "      <td>24</td>\n",
       "      <td>0</td>\n",
       "      <td>0</td>\n",
       "      <td>0</td>\n",
       "      <td>24.0</td>\n",
       "    </tr>\n",
       "    <tr>\n",
       "      <th>Gris</th>\n",
       "      <td>0</td>\n",
       "      <td>0</td>\n",
       "      <td>0</td>\n",
       "      <td>0</td>\n",
       "      <td>17</td>\n",
       "      <td>17.0</td>\n",
       "    </tr>\n",
       "    <tr>\n",
       "      <th>Negro</th>\n",
       "      <td>0</td>\n",
       "      <td>0</td>\n",
       "      <td>24</td>\n",
       "      <td>0</td>\n",
       "      <td>15</td>\n",
       "      <td>19.5</td>\n",
       "    </tr>\n",
       "    <tr>\n",
       "      <th>All</th>\n",
       "      <td>26</td>\n",
       "      <td>24</td>\n",
       "      <td>24</td>\n",
       "      <td>74</td>\n",
       "      <td>16</td>\n",
       "      <td>24.0</td>\n",
       "    </tr>\n",
       "  </tbody>\n",
       "</table>\n",
       "</div>"
      ],
      "text/plain": [
       "Raza    Chow Chow  Labrador  Poodle  San Bernardo  Schnauzer   All\n",
       "Color                                                             \n",
       "Blanco         28         0       0            74          0  51.0\n",
       "Café           24        24       0             0          0  24.0\n",
       "Gris            0         0       0             0         17  17.0\n",
       "Negro           0         0      24             0         15  19.5\n",
       "All            26        24      24            74         16  24.0"
      ]
     },
     "execution_count": 5,
     "metadata": {},
     "output_type": "execute_result"
    }
   ],
   "source": [
    "df.pivot_table(values = \"Peso_kg\", index = \"Color\", columns = \"Raza\", fill_value = 0, margins = True, aggfunc = np.median)"
   ]
  },
  {
   "cell_type": "markdown",
   "id": "17d045e8",
   "metadata": {},
   "source": [
    "# Extracción e indexación de DataFrames."
   ]
  },
  {
   "cell_type": "markdown",
   "id": "a31c0a27",
   "metadata": {},
   "source": [
    "# Asignación de índices"
   ]
  },
  {
   "cell_type": "markdown",
   "id": "a31071dd",
   "metadata": {},
   "source": [
    "# **Considere la base de datos de mascotas caninas utilizada hasta el momento. Asigne como índices los nombres de cada perro."
   ]
  },
  {
   "cell_type": "markdown",
   "id": "e4943cd8",
   "metadata": {},
   "source": [
    "# Información sobre columnas del DataFrame"
   ]
  },
  {
   "cell_type": "code",
   "execution_count": 6,
   "id": "a6573b53",
   "metadata": {},
   "outputs": [
    {
     "data": {
      "text/plain": [
       "Index(['Nombre', 'Raza', 'Color', 'Altura_cm', 'Peso_kg', 'Fecha_Nac'], dtype='object')"
      ]
     },
     "execution_count": 6,
     "metadata": {},
     "output_type": "execute_result"
    }
   ],
   "source": [
    "df.columns"
   ]
  },
  {
   "cell_type": "markdown",
   "id": "48d5abf2",
   "metadata": {},
   "source": [
    "# Información sobre los renglones del DataFrame"
   ]
  },
  {
   "cell_type": "code",
   "execution_count": 7,
   "id": "706b5f72",
   "metadata": {},
   "outputs": [
    {
     "data": {
      "text/plain": [
       "RangeIndex(start=0, stop=7, step=1)"
      ]
     },
     "execution_count": 7,
     "metadata": {},
     "output_type": "execute_result"
    }
   ],
   "source": [
    "df.index"
   ]
  },
  {
   "cell_type": "markdown",
   "id": "a80ce108",
   "metadata": {},
   "source": [
    "# Para establecer una columna como índices (títulos de renglón)"
   ]
  },
  {
   "cell_type": "code",
   "execution_count": 8,
   "id": "d6d46143",
   "metadata": {},
   "outputs": [
    {
     "data": {
      "text/html": [
       "<div>\n",
       "<style scoped>\n",
       "    .dataframe tbody tr th:only-of-type {\n",
       "        vertical-align: middle;\n",
       "    }\n",
       "\n",
       "    .dataframe tbody tr th {\n",
       "        vertical-align: top;\n",
       "    }\n",
       "\n",
       "    .dataframe thead th {\n",
       "        text-align: right;\n",
       "    }\n",
       "</style>\n",
       "<table border=\"1\" class=\"dataframe\">\n",
       "  <thead>\n",
       "    <tr style=\"text-align: right;\">\n",
       "      <th></th>\n",
       "      <th>Raza</th>\n",
       "      <th>Color</th>\n",
       "      <th>Altura_cm</th>\n",
       "      <th>Peso_kg</th>\n",
       "      <th>Fecha_Nac</th>\n",
       "    </tr>\n",
       "    <tr>\n",
       "      <th>Nombre</th>\n",
       "      <th></th>\n",
       "      <th></th>\n",
       "      <th></th>\n",
       "      <th></th>\n",
       "      <th></th>\n",
       "    </tr>\n",
       "  </thead>\n",
       "  <tbody>\n",
       "    <tr>\n",
       "      <th>Bella</th>\n",
       "      <td>Labrador</td>\n",
       "      <td>Café</td>\n",
       "      <td>56</td>\n",
       "      <td>24</td>\n",
       "      <td>2013-07-01</td>\n",
       "    </tr>\n",
       "    <tr>\n",
       "      <th>Charlie</th>\n",
       "      <td>Poodle</td>\n",
       "      <td>Negro</td>\n",
       "      <td>43</td>\n",
       "      <td>24</td>\n",
       "      <td>2016-09-16</td>\n",
       "    </tr>\n",
       "    <tr>\n",
       "      <th>Lucy</th>\n",
       "      <td>Chow Chow</td>\n",
       "      <td>Café</td>\n",
       "      <td>46</td>\n",
       "      <td>24</td>\n",
       "      <td>2014-08-25</td>\n",
       "    </tr>\n",
       "    <tr>\n",
       "      <th>Cooper</th>\n",
       "      <td>Schnauzer</td>\n",
       "      <td>Gris</td>\n",
       "      <td>49</td>\n",
       "      <td>17</td>\n",
       "      <td>2011-12-11</td>\n",
       "    </tr>\n",
       "    <tr>\n",
       "      <th>Bernie</th>\n",
       "      <td>San Bernardo</td>\n",
       "      <td>Blanco</td>\n",
       "      <td>77</td>\n",
       "      <td>74</td>\n",
       "      <td>2018-02-27</td>\n",
       "    </tr>\n",
       "    <tr>\n",
       "      <th>Max</th>\n",
       "      <td>Chow Chow</td>\n",
       "      <td>Blanco</td>\n",
       "      <td>45</td>\n",
       "      <td>28</td>\n",
       "      <td>2019-03-27</td>\n",
       "    </tr>\n",
       "    <tr>\n",
       "      <th>Reed</th>\n",
       "      <td>Schnauzer</td>\n",
       "      <td>Negro</td>\n",
       "      <td>45</td>\n",
       "      <td>15</td>\n",
       "      <td>2017-09-18</td>\n",
       "    </tr>\n",
       "  </tbody>\n",
       "</table>\n",
       "</div>"
      ],
      "text/plain": [
       "                 Raza   Color  Altura_cm  Peso_kg   Fecha_Nac\n",
       "Nombre                                                       \n",
       "Bella        Labrador    Café         56       24  2013-07-01\n",
       "Charlie        Poodle   Negro         43       24  2016-09-16\n",
       "Lucy        Chow Chow    Café         46       24  2014-08-25\n",
       "Cooper      Schnauzer    Gris         49       17  2011-12-11\n",
       "Bernie   San Bernardo  Blanco         77       74  2018-02-27\n",
       "Max         Chow Chow  Blanco         45       28  2019-03-27\n",
       "Reed        Schnauzer   Negro         45       15  2017-09-18"
      ]
     },
     "execution_count": 8,
     "metadata": {},
     "output_type": "execute_result"
    }
   ],
   "source": [
    "df_ind = df.set_index(\"Nombre\")\n",
    "df_ind"
   ]
  },
  {
   "cell_type": "markdown",
   "id": "a1f8e983",
   "metadata": {},
   "source": [
    "# Para deshacer la asignación de índices"
   ]
  },
  {
   "cell_type": "code",
   "execution_count": 9,
   "id": "cf371d06",
   "metadata": {},
   "outputs": [
    {
     "data": {
      "text/html": [
       "<div>\n",
       "<style scoped>\n",
       "    .dataframe tbody tr th:only-of-type {\n",
       "        vertical-align: middle;\n",
       "    }\n",
       "\n",
       "    .dataframe tbody tr th {\n",
       "        vertical-align: top;\n",
       "    }\n",
       "\n",
       "    .dataframe thead th {\n",
       "        text-align: right;\n",
       "    }\n",
       "</style>\n",
       "<table border=\"1\" class=\"dataframe\">\n",
       "  <thead>\n",
       "    <tr style=\"text-align: right;\">\n",
       "      <th></th>\n",
       "      <th>Nombre</th>\n",
       "      <th>Raza</th>\n",
       "      <th>Color</th>\n",
       "      <th>Altura_cm</th>\n",
       "      <th>Peso_kg</th>\n",
       "      <th>Fecha_Nac</th>\n",
       "    </tr>\n",
       "  </thead>\n",
       "  <tbody>\n",
       "    <tr>\n",
       "      <th>0</th>\n",
       "      <td>Bella</td>\n",
       "      <td>Labrador</td>\n",
       "      <td>Café</td>\n",
       "      <td>56</td>\n",
       "      <td>24</td>\n",
       "      <td>2013-07-01</td>\n",
       "    </tr>\n",
       "    <tr>\n",
       "      <th>1</th>\n",
       "      <td>Charlie</td>\n",
       "      <td>Poodle</td>\n",
       "      <td>Negro</td>\n",
       "      <td>43</td>\n",
       "      <td>24</td>\n",
       "      <td>2016-09-16</td>\n",
       "    </tr>\n",
       "    <tr>\n",
       "      <th>2</th>\n",
       "      <td>Lucy</td>\n",
       "      <td>Chow Chow</td>\n",
       "      <td>Café</td>\n",
       "      <td>46</td>\n",
       "      <td>24</td>\n",
       "      <td>2014-08-25</td>\n",
       "    </tr>\n",
       "    <tr>\n",
       "      <th>3</th>\n",
       "      <td>Cooper</td>\n",
       "      <td>Schnauzer</td>\n",
       "      <td>Gris</td>\n",
       "      <td>49</td>\n",
       "      <td>17</td>\n",
       "      <td>2011-12-11</td>\n",
       "    </tr>\n",
       "    <tr>\n",
       "      <th>4</th>\n",
       "      <td>Bernie</td>\n",
       "      <td>San Bernardo</td>\n",
       "      <td>Blanco</td>\n",
       "      <td>77</td>\n",
       "      <td>74</td>\n",
       "      <td>2018-02-27</td>\n",
       "    </tr>\n",
       "    <tr>\n",
       "      <th>5</th>\n",
       "      <td>Max</td>\n",
       "      <td>Chow Chow</td>\n",
       "      <td>Blanco</td>\n",
       "      <td>45</td>\n",
       "      <td>28</td>\n",
       "      <td>2019-03-27</td>\n",
       "    </tr>\n",
       "    <tr>\n",
       "      <th>6</th>\n",
       "      <td>Reed</td>\n",
       "      <td>Schnauzer</td>\n",
       "      <td>Negro</td>\n",
       "      <td>45</td>\n",
       "      <td>15</td>\n",
       "      <td>2017-09-18</td>\n",
       "    </tr>\n",
       "  </tbody>\n",
       "</table>\n",
       "</div>"
      ],
      "text/plain": [
       "    Nombre          Raza   Color  Altura_cm  Peso_kg   Fecha_Nac\n",
       "0    Bella      Labrador    Café         56       24  2013-07-01\n",
       "1  Charlie        Poodle   Negro         43       24  2016-09-16\n",
       "2     Lucy     Chow Chow    Café         46       24  2014-08-25\n",
       "3   Cooper     Schnauzer    Gris         49       17  2011-12-11\n",
       "4   Bernie  San Bernardo  Blanco         77       74  2018-02-27\n",
       "5      Max     Chow Chow  Blanco         45       28  2019-03-27\n",
       "6     Reed     Schnauzer   Negro         45       15  2017-09-18"
      ]
     },
     "execution_count": 9,
     "metadata": {},
     "output_type": "execute_result"
    }
   ],
   "source": [
    "df_ind = df_ind.reset_index()\n",
    "df_ind"
   ]
  },
  {
   "cell_type": "markdown",
   "id": "a67a04d2",
   "metadata": {},
   "source": [
    "# Para remover índices y columna con información de índices"
   ]
  },
  {
   "cell_type": "code",
   "execution_count": 10,
   "id": "bab61834",
   "metadata": {},
   "outputs": [
    {
     "data": {
      "text/html": [
       "<div>\n",
       "<style scoped>\n",
       "    .dataframe tbody tr th:only-of-type {\n",
       "        vertical-align: middle;\n",
       "    }\n",
       "\n",
       "    .dataframe tbody tr th {\n",
       "        vertical-align: top;\n",
       "    }\n",
       "\n",
       "    .dataframe thead th {\n",
       "        text-align: right;\n",
       "    }\n",
       "</style>\n",
       "<table border=\"1\" class=\"dataframe\">\n",
       "  <thead>\n",
       "    <tr style=\"text-align: right;\">\n",
       "      <th></th>\n",
       "      <th>Raza</th>\n",
       "      <th>Color</th>\n",
       "      <th>Altura_cm</th>\n",
       "      <th>Peso_kg</th>\n",
       "      <th>Fecha_Nac</th>\n",
       "    </tr>\n",
       "  </thead>\n",
       "  <tbody>\n",
       "    <tr>\n",
       "      <th>0</th>\n",
       "      <td>Labrador</td>\n",
       "      <td>Café</td>\n",
       "      <td>56</td>\n",
       "      <td>24</td>\n",
       "      <td>2013-07-01</td>\n",
       "    </tr>\n",
       "    <tr>\n",
       "      <th>1</th>\n",
       "      <td>Poodle</td>\n",
       "      <td>Negro</td>\n",
       "      <td>43</td>\n",
       "      <td>24</td>\n",
       "      <td>2016-09-16</td>\n",
       "    </tr>\n",
       "    <tr>\n",
       "      <th>2</th>\n",
       "      <td>Chow Chow</td>\n",
       "      <td>Café</td>\n",
       "      <td>46</td>\n",
       "      <td>24</td>\n",
       "      <td>2014-08-25</td>\n",
       "    </tr>\n",
       "    <tr>\n",
       "      <th>3</th>\n",
       "      <td>Schnauzer</td>\n",
       "      <td>Gris</td>\n",
       "      <td>49</td>\n",
       "      <td>17</td>\n",
       "      <td>2011-12-11</td>\n",
       "    </tr>\n",
       "    <tr>\n",
       "      <th>4</th>\n",
       "      <td>San Bernardo</td>\n",
       "      <td>Blanco</td>\n",
       "      <td>77</td>\n",
       "      <td>74</td>\n",
       "      <td>2018-02-27</td>\n",
       "    </tr>\n",
       "    <tr>\n",
       "      <th>5</th>\n",
       "      <td>Chow Chow</td>\n",
       "      <td>Blanco</td>\n",
       "      <td>45</td>\n",
       "      <td>28</td>\n",
       "      <td>2019-03-27</td>\n",
       "    </tr>\n",
       "    <tr>\n",
       "      <th>6</th>\n",
       "      <td>Schnauzer</td>\n",
       "      <td>Negro</td>\n",
       "      <td>45</td>\n",
       "      <td>15</td>\n",
       "      <td>2017-09-18</td>\n",
       "    </tr>\n",
       "  </tbody>\n",
       "</table>\n",
       "</div>"
      ],
      "text/plain": [
       "           Raza   Color  Altura_cm  Peso_kg   Fecha_Nac\n",
       "0      Labrador    Café         56       24  2013-07-01\n",
       "1        Poodle   Negro         43       24  2016-09-16\n",
       "2     Chow Chow    Café         46       24  2014-08-25\n",
       "3     Schnauzer    Gris         49       17  2011-12-11\n",
       "4  San Bernardo  Blanco         77       74  2018-02-27\n",
       "5     Chow Chow  Blanco         45       28  2019-03-27\n",
       "6     Schnauzer   Negro         45       15  2017-09-18"
      ]
     },
     "execution_count": 10,
     "metadata": {},
     "output_type": "execute_result"
    }
   ],
   "source": [
    "df_ind = df.set_index(\"Nombre\")\n",
    "\n",
    "df_ind = df_ind.reset_index(drop=True)\n",
    "df_ind"
   ]
  },
  {
   "cell_type": "markdown",
   "id": "80ada2d2",
   "metadata": {},
   "source": [
    "# Ventajas de usar índices"
   ]
  },
  {
   "cell_type": "markdown",
   "id": "07eab640",
   "metadata": {},
   "source": [
    "# Opción 1.- Búsqueda de nombres en base original"
   ]
  },
  {
   "cell_type": "code",
   "execution_count": 11,
   "id": "b8e97469",
   "metadata": {},
   "outputs": [
    {
     "data": {
      "text/html": [
       "<div>\n",
       "<style scoped>\n",
       "    .dataframe tbody tr th:only-of-type {\n",
       "        vertical-align: middle;\n",
       "    }\n",
       "\n",
       "    .dataframe tbody tr th {\n",
       "        vertical-align: top;\n",
       "    }\n",
       "\n",
       "    .dataframe thead th {\n",
       "        text-align: right;\n",
       "    }\n",
       "</style>\n",
       "<table border=\"1\" class=\"dataframe\">\n",
       "  <thead>\n",
       "    <tr style=\"text-align: right;\">\n",
       "      <th></th>\n",
       "      <th>Nombre</th>\n",
       "      <th>Raza</th>\n",
       "      <th>Color</th>\n",
       "      <th>Altura_cm</th>\n",
       "      <th>Peso_kg</th>\n",
       "      <th>Fecha_Nac</th>\n",
       "    </tr>\n",
       "  </thead>\n",
       "  <tbody>\n",
       "    <tr>\n",
       "      <th>4</th>\n",
       "      <td>Bernie</td>\n",
       "      <td>San Bernardo</td>\n",
       "      <td>Blanco</td>\n",
       "      <td>77</td>\n",
       "      <td>74</td>\n",
       "      <td>2018-02-27</td>\n",
       "    </tr>\n",
       "    <tr>\n",
       "      <th>5</th>\n",
       "      <td>Max</td>\n",
       "      <td>Chow Chow</td>\n",
       "      <td>Blanco</td>\n",
       "      <td>45</td>\n",
       "      <td>28</td>\n",
       "      <td>2019-03-27</td>\n",
       "    </tr>\n",
       "  </tbody>\n",
       "</table>\n",
       "</div>"
      ],
      "text/plain": [
       "   Nombre          Raza   Color  Altura_cm  Peso_kg   Fecha_Nac\n",
       "4  Bernie  San Bernardo  Blanco         77       74  2018-02-27\n",
       "5     Max     Chow Chow  Blanco         45       28  2019-03-27"
      ]
     },
     "execution_count": 11,
     "metadata": {},
     "output_type": "execute_result"
    }
   ],
   "source": [
    "df[df[\"Nombre\"].isin([\"Bernie\",\"Max\"])]"
   ]
  },
  {
   "cell_type": "markdown",
   "id": "d51ad75c",
   "metadata": {},
   "source": [
    "# Opción 2.- Búsqueda de nombres en base con índices de nombres"
   ]
  },
  {
   "cell_type": "code",
   "execution_count": 12,
   "id": "f03023fe",
   "metadata": {},
   "outputs": [
    {
     "data": {
      "text/html": [
       "<div>\n",
       "<style scoped>\n",
       "    .dataframe tbody tr th:only-of-type {\n",
       "        vertical-align: middle;\n",
       "    }\n",
       "\n",
       "    .dataframe tbody tr th {\n",
       "        vertical-align: top;\n",
       "    }\n",
       "\n",
       "    .dataframe thead th {\n",
       "        text-align: right;\n",
       "    }\n",
       "</style>\n",
       "<table border=\"1\" class=\"dataframe\">\n",
       "  <thead>\n",
       "    <tr style=\"text-align: right;\">\n",
       "      <th></th>\n",
       "      <th>Raza</th>\n",
       "      <th>Color</th>\n",
       "      <th>Altura_cm</th>\n",
       "      <th>Peso_kg</th>\n",
       "      <th>Fecha_Nac</th>\n",
       "    </tr>\n",
       "    <tr>\n",
       "      <th>Nombre</th>\n",
       "      <th></th>\n",
       "      <th></th>\n",
       "      <th></th>\n",
       "      <th></th>\n",
       "      <th></th>\n",
       "    </tr>\n",
       "  </thead>\n",
       "  <tbody>\n",
       "    <tr>\n",
       "      <th>Bernie</th>\n",
       "      <td>San Bernardo</td>\n",
       "      <td>Blanco</td>\n",
       "      <td>77</td>\n",
       "      <td>74</td>\n",
       "      <td>2018-02-27</td>\n",
       "    </tr>\n",
       "    <tr>\n",
       "      <th>Max</th>\n",
       "      <td>Chow Chow</td>\n",
       "      <td>Blanco</td>\n",
       "      <td>45</td>\n",
       "      <td>28</td>\n",
       "      <td>2019-03-27</td>\n",
       "    </tr>\n",
       "  </tbody>\n",
       "</table>\n",
       "</div>"
      ],
      "text/plain": [
       "                Raza   Color  Altura_cm  Peso_kg   Fecha_Nac\n",
       "Nombre                                                      \n",
       "Bernie  San Bernardo  Blanco         77       74  2018-02-27\n",
       "Max        Chow Chow  Blanco         45       28  2019-03-27"
      ]
     },
     "execution_count": 12,
     "metadata": {},
     "output_type": "execute_result"
    }
   ],
   "source": [
    "df_ind = df.set_index(\"Nombre\")\n",
    "df_ind.loc[[\"Bernie\", \"Max\"]]"
   ]
  },
  {
   "cell_type": "markdown",
   "id": "2d749696",
   "metadata": {},
   "source": [
    "# Generación de índices múltiples (Índices jerárquicos)"
   ]
  },
  {
   "cell_type": "code",
   "execution_count": 13,
   "id": "f4f20a6c",
   "metadata": {},
   "outputs": [
    {
     "data": {
      "text/html": [
       "<div>\n",
       "<style scoped>\n",
       "    .dataframe tbody tr th:only-of-type {\n",
       "        vertical-align: middle;\n",
       "    }\n",
       "\n",
       "    .dataframe tbody tr th {\n",
       "        vertical-align: top;\n",
       "    }\n",
       "\n",
       "    .dataframe thead th {\n",
       "        text-align: right;\n",
       "    }\n",
       "</style>\n",
       "<table border=\"1\" class=\"dataframe\">\n",
       "  <thead>\n",
       "    <tr style=\"text-align: right;\">\n",
       "      <th></th>\n",
       "      <th></th>\n",
       "      <th>Nombre</th>\n",
       "      <th>Altura_cm</th>\n",
       "      <th>Peso_kg</th>\n",
       "      <th>Fecha_Nac</th>\n",
       "    </tr>\n",
       "    <tr>\n",
       "      <th>Raza</th>\n",
       "      <th>Color</th>\n",
       "      <th></th>\n",
       "      <th></th>\n",
       "      <th></th>\n",
       "      <th></th>\n",
       "    </tr>\n",
       "  </thead>\n",
       "  <tbody>\n",
       "    <tr>\n",
       "      <th>Labrador</th>\n",
       "      <th>Café</th>\n",
       "      <td>Bella</td>\n",
       "      <td>56</td>\n",
       "      <td>24</td>\n",
       "      <td>2013-07-01</td>\n",
       "    </tr>\n",
       "    <tr>\n",
       "      <th>Poodle</th>\n",
       "      <th>Negro</th>\n",
       "      <td>Charlie</td>\n",
       "      <td>43</td>\n",
       "      <td>24</td>\n",
       "      <td>2016-09-16</td>\n",
       "    </tr>\n",
       "    <tr>\n",
       "      <th>Chow Chow</th>\n",
       "      <th>Café</th>\n",
       "      <td>Lucy</td>\n",
       "      <td>46</td>\n",
       "      <td>24</td>\n",
       "      <td>2014-08-25</td>\n",
       "    </tr>\n",
       "    <tr>\n",
       "      <th>Schnauzer</th>\n",
       "      <th>Gris</th>\n",
       "      <td>Cooper</td>\n",
       "      <td>49</td>\n",
       "      <td>17</td>\n",
       "      <td>2011-12-11</td>\n",
       "    </tr>\n",
       "    <tr>\n",
       "      <th>San Bernardo</th>\n",
       "      <th>Blanco</th>\n",
       "      <td>Bernie</td>\n",
       "      <td>77</td>\n",
       "      <td>74</td>\n",
       "      <td>2018-02-27</td>\n",
       "    </tr>\n",
       "    <tr>\n",
       "      <th>Chow Chow</th>\n",
       "      <th>Blanco</th>\n",
       "      <td>Max</td>\n",
       "      <td>45</td>\n",
       "      <td>28</td>\n",
       "      <td>2019-03-27</td>\n",
       "    </tr>\n",
       "    <tr>\n",
       "      <th>Schnauzer</th>\n",
       "      <th>Negro</th>\n",
       "      <td>Reed</td>\n",
       "      <td>45</td>\n",
       "      <td>15</td>\n",
       "      <td>2017-09-18</td>\n",
       "    </tr>\n",
       "  </tbody>\n",
       "</table>\n",
       "</div>"
      ],
      "text/plain": [
       "                      Nombre  Altura_cm  Peso_kg   Fecha_Nac\n",
       "Raza         Color                                          \n",
       "Labrador     Café      Bella         56       24  2013-07-01\n",
       "Poodle       Negro   Charlie         43       24  2016-09-16\n",
       "Chow Chow    Café       Lucy         46       24  2014-08-25\n",
       "Schnauzer    Gris     Cooper         49       17  2011-12-11\n",
       "San Bernardo Blanco   Bernie         77       74  2018-02-27\n",
       "Chow Chow    Blanco      Max         45       28  2019-03-27\n",
       "Schnauzer    Negro      Reed         45       15  2017-09-18"
      ]
     },
     "execution_count": 13,
     "metadata": {},
     "output_type": "execute_result"
    }
   ],
   "source": [
    "df_ind2 = df.set_index([\"Raza\",\"Color\"])\n",
    "df_ind2"
   ]
  },
  {
   "cell_type": "markdown",
   "id": "9787b933",
   "metadata": {},
   "source": [
    "# Consulta sobre una característica"
   ]
  },
  {
   "cell_type": "code",
   "execution_count": 14,
   "id": "924bf4e4",
   "metadata": {},
   "outputs": [
    {
     "data": {
      "text/html": [
       "<div>\n",
       "<style scoped>\n",
       "    .dataframe tbody tr th:only-of-type {\n",
       "        vertical-align: middle;\n",
       "    }\n",
       "\n",
       "    .dataframe tbody tr th {\n",
       "        vertical-align: top;\n",
       "    }\n",
       "\n",
       "    .dataframe thead th {\n",
       "        text-align: right;\n",
       "    }\n",
       "</style>\n",
       "<table border=\"1\" class=\"dataframe\">\n",
       "  <thead>\n",
       "    <tr style=\"text-align: right;\">\n",
       "      <th></th>\n",
       "      <th></th>\n",
       "      <th>Nombre</th>\n",
       "      <th>Altura_cm</th>\n",
       "      <th>Peso_kg</th>\n",
       "      <th>Fecha_Nac</th>\n",
       "    </tr>\n",
       "    <tr>\n",
       "      <th>Raza</th>\n",
       "      <th>Color</th>\n",
       "      <th></th>\n",
       "      <th></th>\n",
       "      <th></th>\n",
       "      <th></th>\n",
       "    </tr>\n",
       "  </thead>\n",
       "  <tbody>\n",
       "    <tr>\n",
       "      <th rowspan=\"2\" valign=\"top\">Schnauzer</th>\n",
       "      <th>Gris</th>\n",
       "      <td>Cooper</td>\n",
       "      <td>49</td>\n",
       "      <td>17</td>\n",
       "      <td>2011-12-11</td>\n",
       "    </tr>\n",
       "    <tr>\n",
       "      <th>Negro</th>\n",
       "      <td>Reed</td>\n",
       "      <td>45</td>\n",
       "      <td>15</td>\n",
       "      <td>2017-09-18</td>\n",
       "    </tr>\n",
       "    <tr>\n",
       "      <th>Poodle</th>\n",
       "      <th>Negro</th>\n",
       "      <td>Charlie</td>\n",
       "      <td>43</td>\n",
       "      <td>24</td>\n",
       "      <td>2016-09-16</td>\n",
       "    </tr>\n",
       "  </tbody>\n",
       "</table>\n",
       "</div>"
      ],
      "text/plain": [
       "                  Nombre  Altura_cm  Peso_kg   Fecha_Nac\n",
       "Raza      Color                                         \n",
       "Schnauzer Gris    Cooper         49       17  2011-12-11\n",
       "          Negro     Reed         45       15  2017-09-18\n",
       "Poodle    Negro  Charlie         43       24  2016-09-16"
      ]
     },
     "execution_count": 14,
     "metadata": {},
     "output_type": "execute_result"
    }
   ],
   "source": [
    "df_ind2.loc[[\"Schnauzer\", \"Poodle\"]]"
   ]
  },
  {
   "cell_type": "markdown",
   "id": "7b7d2099",
   "metadata": {},
   "source": [
    "# Consulta sobre dos características (con tuplas)"
   ]
  },
  {
   "cell_type": "code",
   "execution_count": 15,
   "id": "094b37ce",
   "metadata": {},
   "outputs": [
    {
     "data": {
      "text/html": [
       "<div>\n",
       "<style scoped>\n",
       "    .dataframe tbody tr th:only-of-type {\n",
       "        vertical-align: middle;\n",
       "    }\n",
       "\n",
       "    .dataframe tbody tr th {\n",
       "        vertical-align: top;\n",
       "    }\n",
       "\n",
       "    .dataframe thead th {\n",
       "        text-align: right;\n",
       "    }\n",
       "</style>\n",
       "<table border=\"1\" class=\"dataframe\">\n",
       "  <thead>\n",
       "    <tr style=\"text-align: right;\">\n",
       "      <th></th>\n",
       "      <th></th>\n",
       "      <th>Nombre</th>\n",
       "      <th>Altura_cm</th>\n",
       "      <th>Peso_kg</th>\n",
       "      <th>Fecha_Nac</th>\n",
       "    </tr>\n",
       "    <tr>\n",
       "      <th>Raza</th>\n",
       "      <th>Color</th>\n",
       "      <th></th>\n",
       "      <th></th>\n",
       "      <th></th>\n",
       "      <th></th>\n",
       "    </tr>\n",
       "  </thead>\n",
       "  <tbody>\n",
       "    <tr>\n",
       "      <th>Schnauzer</th>\n",
       "      <th>Gris</th>\n",
       "      <td>Cooper</td>\n",
       "      <td>49</td>\n",
       "      <td>17</td>\n",
       "      <td>2011-12-11</td>\n",
       "    </tr>\n",
       "    <tr>\n",
       "      <th>Poodle</th>\n",
       "      <th>Negro</th>\n",
       "      <td>Charlie</td>\n",
       "      <td>43</td>\n",
       "      <td>24</td>\n",
       "      <td>2016-09-16</td>\n",
       "    </tr>\n",
       "  </tbody>\n",
       "</table>\n",
       "</div>"
      ],
      "text/plain": [
       "                  Nombre  Altura_cm  Peso_kg   Fecha_Nac\n",
       "Raza      Color                                         \n",
       "Schnauzer Gris    Cooper         49       17  2011-12-11\n",
       "Poodle    Negro  Charlie         43       24  2016-09-16"
      ]
     },
     "execution_count": 15,
     "metadata": {},
     "output_type": "execute_result"
    }
   ],
   "source": [
    "df_ind2.loc[[(\"Schnauzer\", \"Gris\"), (\"Poodle\", \"Negro\")]]"
   ]
  },
  {
   "cell_type": "markdown",
   "id": "e27f4a09",
   "metadata": {},
   "source": [
    "# Ordenamiento por primer índice de referencia"
   ]
  },
  {
   "cell_type": "code",
   "execution_count": 16,
   "id": "49d1a465",
   "metadata": {},
   "outputs": [
    {
     "data": {
      "text/html": [
       "<div>\n",
       "<style scoped>\n",
       "    .dataframe tbody tr th:only-of-type {\n",
       "        vertical-align: middle;\n",
       "    }\n",
       "\n",
       "    .dataframe tbody tr th {\n",
       "        vertical-align: top;\n",
       "    }\n",
       "\n",
       "    .dataframe thead th {\n",
       "        text-align: right;\n",
       "    }\n",
       "</style>\n",
       "<table border=\"1\" class=\"dataframe\">\n",
       "  <thead>\n",
       "    <tr style=\"text-align: right;\">\n",
       "      <th></th>\n",
       "      <th></th>\n",
       "      <th>Nombre</th>\n",
       "      <th>Altura_cm</th>\n",
       "      <th>Peso_kg</th>\n",
       "      <th>Fecha_Nac</th>\n",
       "    </tr>\n",
       "    <tr>\n",
       "      <th>Raza</th>\n",
       "      <th>Color</th>\n",
       "      <th></th>\n",
       "      <th></th>\n",
       "      <th></th>\n",
       "      <th></th>\n",
       "    </tr>\n",
       "  </thead>\n",
       "  <tbody>\n",
       "    <tr>\n",
       "      <th rowspan=\"2\" valign=\"top\">Chow Chow</th>\n",
       "      <th>Blanco</th>\n",
       "      <td>Max</td>\n",
       "      <td>45</td>\n",
       "      <td>28</td>\n",
       "      <td>2019-03-27</td>\n",
       "    </tr>\n",
       "    <tr>\n",
       "      <th>Café</th>\n",
       "      <td>Lucy</td>\n",
       "      <td>46</td>\n",
       "      <td>24</td>\n",
       "      <td>2014-08-25</td>\n",
       "    </tr>\n",
       "    <tr>\n",
       "      <th>Labrador</th>\n",
       "      <th>Café</th>\n",
       "      <td>Bella</td>\n",
       "      <td>56</td>\n",
       "      <td>24</td>\n",
       "      <td>2013-07-01</td>\n",
       "    </tr>\n",
       "    <tr>\n",
       "      <th>Poodle</th>\n",
       "      <th>Negro</th>\n",
       "      <td>Charlie</td>\n",
       "      <td>43</td>\n",
       "      <td>24</td>\n",
       "      <td>2016-09-16</td>\n",
       "    </tr>\n",
       "    <tr>\n",
       "      <th>San Bernardo</th>\n",
       "      <th>Blanco</th>\n",
       "      <td>Bernie</td>\n",
       "      <td>77</td>\n",
       "      <td>74</td>\n",
       "      <td>2018-02-27</td>\n",
       "    </tr>\n",
       "    <tr>\n",
       "      <th rowspan=\"2\" valign=\"top\">Schnauzer</th>\n",
       "      <th>Gris</th>\n",
       "      <td>Cooper</td>\n",
       "      <td>49</td>\n",
       "      <td>17</td>\n",
       "      <td>2011-12-11</td>\n",
       "    </tr>\n",
       "    <tr>\n",
       "      <th>Negro</th>\n",
       "      <td>Reed</td>\n",
       "      <td>45</td>\n",
       "      <td>15</td>\n",
       "      <td>2017-09-18</td>\n",
       "    </tr>\n",
       "  </tbody>\n",
       "</table>\n",
       "</div>"
      ],
      "text/plain": [
       "                      Nombre  Altura_cm  Peso_kg   Fecha_Nac\n",
       "Raza         Color                                          \n",
       "Chow Chow    Blanco      Max         45       28  2019-03-27\n",
       "             Café       Lucy         46       24  2014-08-25\n",
       "Labrador     Café      Bella         56       24  2013-07-01\n",
       "Poodle       Negro   Charlie         43       24  2016-09-16\n",
       "San Bernardo Blanco   Bernie         77       74  2018-02-27\n",
       "Schnauzer    Gris     Cooper         49       17  2011-12-11\n",
       "             Negro      Reed         45       15  2017-09-18"
      ]
     },
     "execution_count": 16,
     "metadata": {},
     "output_type": "execute_result"
    }
   ],
   "source": [
    "df_ind2.sort_index()"
   ]
  },
  {
   "cell_type": "markdown",
   "id": "9d0be79c",
   "metadata": {},
   "source": [
    "# Ordenamiento por más de un índice"
   ]
  },
  {
   "cell_type": "code",
   "execution_count": 17,
   "id": "ebfacb57",
   "metadata": {},
   "outputs": [
    {
     "data": {
      "text/html": [
       "<div>\n",
       "<style scoped>\n",
       "    .dataframe tbody tr th:only-of-type {\n",
       "        vertical-align: middle;\n",
       "    }\n",
       "\n",
       "    .dataframe tbody tr th {\n",
       "        vertical-align: top;\n",
       "    }\n",
       "\n",
       "    .dataframe thead th {\n",
       "        text-align: right;\n",
       "    }\n",
       "</style>\n",
       "<table border=\"1\" class=\"dataframe\">\n",
       "  <thead>\n",
       "    <tr style=\"text-align: right;\">\n",
       "      <th></th>\n",
       "      <th></th>\n",
       "      <th>Nombre</th>\n",
       "      <th>Altura_cm</th>\n",
       "      <th>Peso_kg</th>\n",
       "      <th>Fecha_Nac</th>\n",
       "    </tr>\n",
       "    <tr>\n",
       "      <th>Raza</th>\n",
       "      <th>Color</th>\n",
       "      <th></th>\n",
       "      <th></th>\n",
       "      <th></th>\n",
       "      <th></th>\n",
       "    </tr>\n",
       "  </thead>\n",
       "  <tbody>\n",
       "    <tr>\n",
       "      <th>San Bernardo</th>\n",
       "      <th>Blanco</th>\n",
       "      <td>Bernie</td>\n",
       "      <td>77</td>\n",
       "      <td>74</td>\n",
       "      <td>2018-02-27</td>\n",
       "    </tr>\n",
       "    <tr>\n",
       "      <th>Chow Chow</th>\n",
       "      <th>Blanco</th>\n",
       "      <td>Max</td>\n",
       "      <td>45</td>\n",
       "      <td>28</td>\n",
       "      <td>2019-03-27</td>\n",
       "    </tr>\n",
       "    <tr>\n",
       "      <th>Labrador</th>\n",
       "      <th>Café</th>\n",
       "      <td>Bella</td>\n",
       "      <td>56</td>\n",
       "      <td>24</td>\n",
       "      <td>2013-07-01</td>\n",
       "    </tr>\n",
       "    <tr>\n",
       "      <th>Chow Chow</th>\n",
       "      <th>Café</th>\n",
       "      <td>Lucy</td>\n",
       "      <td>46</td>\n",
       "      <td>24</td>\n",
       "      <td>2014-08-25</td>\n",
       "    </tr>\n",
       "    <tr>\n",
       "      <th rowspan=\"2\" valign=\"top\">Schnauzer</th>\n",
       "      <th>Gris</th>\n",
       "      <td>Cooper</td>\n",
       "      <td>49</td>\n",
       "      <td>17</td>\n",
       "      <td>2011-12-11</td>\n",
       "    </tr>\n",
       "    <tr>\n",
       "      <th>Negro</th>\n",
       "      <td>Reed</td>\n",
       "      <td>45</td>\n",
       "      <td>15</td>\n",
       "      <td>2017-09-18</td>\n",
       "    </tr>\n",
       "    <tr>\n",
       "      <th>Poodle</th>\n",
       "      <th>Negro</th>\n",
       "      <td>Charlie</td>\n",
       "      <td>43</td>\n",
       "      <td>24</td>\n",
       "      <td>2016-09-16</td>\n",
       "    </tr>\n",
       "  </tbody>\n",
       "</table>\n",
       "</div>"
      ],
      "text/plain": [
       "                      Nombre  Altura_cm  Peso_kg   Fecha_Nac\n",
       "Raza         Color                                          \n",
       "San Bernardo Blanco   Bernie         77       74  2018-02-27\n",
       "Chow Chow    Blanco      Max         45       28  2019-03-27\n",
       "Labrador     Café      Bella         56       24  2013-07-01\n",
       "Chow Chow    Café       Lucy         46       24  2014-08-25\n",
       "Schnauzer    Gris     Cooper         49       17  2011-12-11\n",
       "             Negro      Reed         45       15  2017-09-18\n",
       "Poodle       Negro   Charlie         43       24  2016-09-16"
      ]
     },
     "execution_count": 17,
     "metadata": {},
     "output_type": "execute_result"
    }
   ],
   "source": [
    "df_ind2.sort_index(level= [\"Color\", \"Raza\"], ascending = [True, False])"
   ]
  },
  {
   "cell_type": "markdown",
   "id": "ccf43175",
   "metadata": {},
   "source": [
    "# Cortes en un DataFrame (Slicing)"
   ]
  },
  {
   "cell_type": "markdown",
   "id": "8bcc9d31",
   "metadata": {},
   "source": [
    "# Ejercicio:   considere la base de datos de mascotas utilizada hasta el momento, extraiga de ella los primeros 3 elementos."
   ]
  },
  {
   "cell_type": "code",
   "execution_count": 18,
   "id": "8cbb1d9e",
   "metadata": {},
   "outputs": [
    {
     "data": {
      "text/html": [
       "<div>\n",
       "<style scoped>\n",
       "    .dataframe tbody tr th:only-of-type {\n",
       "        vertical-align: middle;\n",
       "    }\n",
       "\n",
       "    .dataframe tbody tr th {\n",
       "        vertical-align: top;\n",
       "    }\n",
       "\n",
       "    .dataframe thead th {\n",
       "        text-align: right;\n",
       "    }\n",
       "</style>\n",
       "<table border=\"1\" class=\"dataframe\">\n",
       "  <thead>\n",
       "    <tr style=\"text-align: right;\">\n",
       "      <th></th>\n",
       "      <th>Nombre</th>\n",
       "      <th>Raza</th>\n",
       "      <th>Color</th>\n",
       "      <th>Altura_cm</th>\n",
       "      <th>Peso_kg</th>\n",
       "      <th>Fecha_Nac</th>\n",
       "    </tr>\n",
       "  </thead>\n",
       "  <tbody>\n",
       "    <tr>\n",
       "      <th>0</th>\n",
       "      <td>Bella</td>\n",
       "      <td>Labrador</td>\n",
       "      <td>Café</td>\n",
       "      <td>56</td>\n",
       "      <td>24</td>\n",
       "      <td>2013-07-01</td>\n",
       "    </tr>\n",
       "    <tr>\n",
       "      <th>1</th>\n",
       "      <td>Charlie</td>\n",
       "      <td>Poodle</td>\n",
       "      <td>Negro</td>\n",
       "      <td>43</td>\n",
       "      <td>24</td>\n",
       "      <td>2016-09-16</td>\n",
       "    </tr>\n",
       "    <tr>\n",
       "      <th>2</th>\n",
       "      <td>Lucy</td>\n",
       "      <td>Chow Chow</td>\n",
       "      <td>Café</td>\n",
       "      <td>46</td>\n",
       "      <td>24</td>\n",
       "      <td>2014-08-25</td>\n",
       "    </tr>\n",
       "  </tbody>\n",
       "</table>\n",
       "</div>"
      ],
      "text/plain": [
       "    Nombre       Raza  Color  Altura_cm  Peso_kg   Fecha_Nac\n",
       "0    Bella   Labrador   Café         56       24  2013-07-01\n",
       "1  Charlie     Poodle  Negro         43       24  2016-09-16\n",
       "2     Lucy  Chow Chow   Café         46       24  2014-08-25"
      ]
     },
     "execution_count": 18,
     "metadata": {},
     "output_type": "execute_result"
    }
   ],
   "source": [
    "#Extracción de los primeros 3 registros\n",
    "\n",
    "df[:3]                # --------------------> df[0:3]"
   ]
  },
  {
   "cell_type": "code",
   "execution_count": 19,
   "id": "17fa1c51",
   "metadata": {},
   "outputs": [
    {
     "data": {
      "text/html": [
       "<div>\n",
       "<style scoped>\n",
       "    .dataframe tbody tr th:only-of-type {\n",
       "        vertical-align: middle;\n",
       "    }\n",
       "\n",
       "    .dataframe tbody tr th {\n",
       "        vertical-align: top;\n",
       "    }\n",
       "\n",
       "    .dataframe thead th {\n",
       "        text-align: right;\n",
       "    }\n",
       "</style>\n",
       "<table border=\"1\" class=\"dataframe\">\n",
       "  <thead>\n",
       "    <tr style=\"text-align: right;\">\n",
       "      <th></th>\n",
       "      <th>Nombre</th>\n",
       "      <th>Raza</th>\n",
       "      <th>Color</th>\n",
       "      <th>Altura_cm</th>\n",
       "      <th>Peso_kg</th>\n",
       "      <th>Fecha_Nac</th>\n",
       "    </tr>\n",
       "  </thead>\n",
       "  <tbody>\n",
       "    <tr>\n",
       "      <th>2</th>\n",
       "      <td>Lucy</td>\n",
       "      <td>Chow Chow</td>\n",
       "      <td>Café</td>\n",
       "      <td>46</td>\n",
       "      <td>24</td>\n",
       "      <td>2014-08-25</td>\n",
       "    </tr>\n",
       "    <tr>\n",
       "      <th>3</th>\n",
       "      <td>Cooper</td>\n",
       "      <td>Schnauzer</td>\n",
       "      <td>Gris</td>\n",
       "      <td>49</td>\n",
       "      <td>17</td>\n",
       "      <td>2011-12-11</td>\n",
       "    </tr>\n",
       "    <tr>\n",
       "      <th>4</th>\n",
       "      <td>Bernie</td>\n",
       "      <td>San Bernardo</td>\n",
       "      <td>Blanco</td>\n",
       "      <td>77</td>\n",
       "      <td>74</td>\n",
       "      <td>2018-02-27</td>\n",
       "    </tr>\n",
       "  </tbody>\n",
       "</table>\n",
       "</div>"
      ],
      "text/plain": [
       "   Nombre          Raza   Color  Altura_cm  Peso_kg   Fecha_Nac\n",
       "2    Lucy     Chow Chow    Café         46       24  2014-08-25\n",
       "3  Cooper     Schnauzer    Gris         49       17  2011-12-11\n",
       "4  Bernie  San Bernardo  Blanco         77       74  2018-02-27"
      ]
     },
     "execution_count": 19,
     "metadata": {},
     "output_type": "execute_result"
    }
   ],
   "source": [
    "#Extracción de los registros de índice 2 al 4\n",
    "\n",
    "df[2:5]"
   ]
  },
  {
   "cell_type": "markdown",
   "id": "64410088",
   "metadata": {},
   "source": [
    "# Manera alternativa de extraer a todo el DataFrame"
   ]
  },
  {
   "cell_type": "code",
   "execution_count": 20,
   "id": "44852005",
   "metadata": {},
   "outputs": [
    {
     "data": {
      "text/html": [
       "<div>\n",
       "<style scoped>\n",
       "    .dataframe tbody tr th:only-of-type {\n",
       "        vertical-align: middle;\n",
       "    }\n",
       "\n",
       "    .dataframe tbody tr th {\n",
       "        vertical-align: top;\n",
       "    }\n",
       "\n",
       "    .dataframe thead th {\n",
       "        text-align: right;\n",
       "    }\n",
       "</style>\n",
       "<table border=\"1\" class=\"dataframe\">\n",
       "  <thead>\n",
       "    <tr style=\"text-align: right;\">\n",
       "      <th></th>\n",
       "      <th>Nombre</th>\n",
       "      <th>Raza</th>\n",
       "      <th>Color</th>\n",
       "      <th>Altura_cm</th>\n",
       "      <th>Peso_kg</th>\n",
       "      <th>Fecha_Nac</th>\n",
       "    </tr>\n",
       "  </thead>\n",
       "  <tbody>\n",
       "    <tr>\n",
       "      <th>0</th>\n",
       "      <td>Bella</td>\n",
       "      <td>Labrador</td>\n",
       "      <td>Café</td>\n",
       "      <td>56</td>\n",
       "      <td>24</td>\n",
       "      <td>2013-07-01</td>\n",
       "    </tr>\n",
       "    <tr>\n",
       "      <th>1</th>\n",
       "      <td>Charlie</td>\n",
       "      <td>Poodle</td>\n",
       "      <td>Negro</td>\n",
       "      <td>43</td>\n",
       "      <td>24</td>\n",
       "      <td>2016-09-16</td>\n",
       "    </tr>\n",
       "    <tr>\n",
       "      <th>2</th>\n",
       "      <td>Lucy</td>\n",
       "      <td>Chow Chow</td>\n",
       "      <td>Café</td>\n",
       "      <td>46</td>\n",
       "      <td>24</td>\n",
       "      <td>2014-08-25</td>\n",
       "    </tr>\n",
       "    <tr>\n",
       "      <th>3</th>\n",
       "      <td>Cooper</td>\n",
       "      <td>Schnauzer</td>\n",
       "      <td>Gris</td>\n",
       "      <td>49</td>\n",
       "      <td>17</td>\n",
       "      <td>2011-12-11</td>\n",
       "    </tr>\n",
       "    <tr>\n",
       "      <th>4</th>\n",
       "      <td>Bernie</td>\n",
       "      <td>San Bernardo</td>\n",
       "      <td>Blanco</td>\n",
       "      <td>77</td>\n",
       "      <td>74</td>\n",
       "      <td>2018-02-27</td>\n",
       "    </tr>\n",
       "    <tr>\n",
       "      <th>5</th>\n",
       "      <td>Max</td>\n",
       "      <td>Chow Chow</td>\n",
       "      <td>Blanco</td>\n",
       "      <td>45</td>\n",
       "      <td>28</td>\n",
       "      <td>2019-03-27</td>\n",
       "    </tr>\n",
       "    <tr>\n",
       "      <th>6</th>\n",
       "      <td>Reed</td>\n",
       "      <td>Schnauzer</td>\n",
       "      <td>Negro</td>\n",
       "      <td>45</td>\n",
       "      <td>15</td>\n",
       "      <td>2017-09-18</td>\n",
       "    </tr>\n",
       "  </tbody>\n",
       "</table>\n",
       "</div>"
      ],
      "text/plain": [
       "    Nombre          Raza   Color  Altura_cm  Peso_kg   Fecha_Nac\n",
       "0    Bella      Labrador    Café         56       24  2013-07-01\n",
       "1  Charlie        Poodle   Negro         43       24  2016-09-16\n",
       "2     Lucy     Chow Chow    Café         46       24  2014-08-25\n",
       "3   Cooper     Schnauzer    Gris         49       17  2011-12-11\n",
       "4   Bernie  San Bernardo  Blanco         77       74  2018-02-27\n",
       "5      Max     Chow Chow  Blanco         45       28  2019-03-27\n",
       "6     Reed     Schnauzer   Negro         45       15  2017-09-18"
      ]
     },
     "execution_count": 20,
     "metadata": {},
     "output_type": "execute_result"
    }
   ],
   "source": [
    "df[:]"
   ]
  },
  {
   "cell_type": "markdown",
   "id": "7d4d40f2",
   "metadata": {},
   "source": [
    "# Extracción de DataFrames con índices jerárquicos"
   ]
  },
  {
   "cell_type": "code",
   "execution_count": 21,
   "id": "7ef1c744",
   "metadata": {},
   "outputs": [
    {
     "data": {
      "text/html": [
       "<div>\n",
       "<style scoped>\n",
       "    .dataframe tbody tr th:only-of-type {\n",
       "        vertical-align: middle;\n",
       "    }\n",
       "\n",
       "    .dataframe tbody tr th {\n",
       "        vertical-align: top;\n",
       "    }\n",
       "\n",
       "    .dataframe thead th {\n",
       "        text-align: right;\n",
       "    }\n",
       "</style>\n",
       "<table border=\"1\" class=\"dataframe\">\n",
       "  <thead>\n",
       "    <tr style=\"text-align: right;\">\n",
       "      <th></th>\n",
       "      <th></th>\n",
       "      <th>Nombre</th>\n",
       "      <th>Altura_cm</th>\n",
       "      <th>Peso_kg</th>\n",
       "      <th>Fecha_Nac</th>\n",
       "    </tr>\n",
       "    <tr>\n",
       "      <th>Raza</th>\n",
       "      <th>Color</th>\n",
       "      <th></th>\n",
       "      <th></th>\n",
       "      <th></th>\n",
       "      <th></th>\n",
       "    </tr>\n",
       "  </thead>\n",
       "  <tbody>\n",
       "    <tr>\n",
       "      <th>Labrador</th>\n",
       "      <th>Café</th>\n",
       "      <td>Bella</td>\n",
       "      <td>56</td>\n",
       "      <td>24</td>\n",
       "      <td>2013-07-01</td>\n",
       "    </tr>\n",
       "    <tr>\n",
       "      <th>Poodle</th>\n",
       "      <th>Negro</th>\n",
       "      <td>Charlie</td>\n",
       "      <td>43</td>\n",
       "      <td>24</td>\n",
       "      <td>2016-09-16</td>\n",
       "    </tr>\n",
       "    <tr>\n",
       "      <th>Chow Chow</th>\n",
       "      <th>Café</th>\n",
       "      <td>Lucy</td>\n",
       "      <td>46</td>\n",
       "      <td>24</td>\n",
       "      <td>2014-08-25</td>\n",
       "    </tr>\n",
       "    <tr>\n",
       "      <th>Schnauzer</th>\n",
       "      <th>Gris</th>\n",
       "      <td>Cooper</td>\n",
       "      <td>49</td>\n",
       "      <td>17</td>\n",
       "      <td>2011-12-11</td>\n",
       "    </tr>\n",
       "    <tr>\n",
       "      <th>San Bernardo</th>\n",
       "      <th>Blanco</th>\n",
       "      <td>Bernie</td>\n",
       "      <td>77</td>\n",
       "      <td>74</td>\n",
       "      <td>2018-02-27</td>\n",
       "    </tr>\n",
       "    <tr>\n",
       "      <th>Chow Chow</th>\n",
       "      <th>Blanco</th>\n",
       "      <td>Max</td>\n",
       "      <td>45</td>\n",
       "      <td>28</td>\n",
       "      <td>2019-03-27</td>\n",
       "    </tr>\n",
       "    <tr>\n",
       "      <th>Schnauzer</th>\n",
       "      <th>Negro</th>\n",
       "      <td>Reed</td>\n",
       "      <td>45</td>\n",
       "      <td>15</td>\n",
       "      <td>2017-09-18</td>\n",
       "    </tr>\n",
       "  </tbody>\n",
       "</table>\n",
       "</div>"
      ],
      "text/plain": [
       "                      Nombre  Altura_cm  Peso_kg   Fecha_Nac\n",
       "Raza         Color                                          \n",
       "Labrador     Café      Bella         56       24  2013-07-01\n",
       "Poodle       Negro   Charlie         43       24  2016-09-16\n",
       "Chow Chow    Café       Lucy         46       24  2014-08-25\n",
       "Schnauzer    Gris     Cooper         49       17  2011-12-11\n",
       "San Bernardo Blanco   Bernie         77       74  2018-02-27\n",
       "Chow Chow    Blanco      Max         45       28  2019-03-27\n",
       "Schnauzer    Negro      Reed         45       15  2017-09-18"
      ]
     },
     "execution_count": 21,
     "metadata": {},
     "output_type": "execute_result"
    }
   ],
   "source": [
    "df_ind2 = df.set_index([\"Raza\", \"Color\"])\n",
    "df_ind2"
   ]
  },
  {
   "cell_type": "markdown",
   "id": "8da97f51",
   "metadata": {},
   "source": [
    "# Error común por falta de ordenamiento"
   ]
  },
  {
   "cell_type": "code",
   "execution_count": 22,
   "id": "9fa5a901",
   "metadata": {},
   "outputs": [
    {
     "ename": "UnsortedIndexError",
     "evalue": "'Key length (1) was greater than MultiIndex lexsort depth (0)'",
     "output_type": "error",
     "traceback": [
      "\u001b[1;31m---------------------------------------------------------------------------\u001b[0m",
      "\u001b[1;31mUnsortedIndexError\u001b[0m                        Traceback (most recent call last)",
      "Cell \u001b[1;32mIn[22], line 1\u001b[0m\n\u001b[1;32m----> 1\u001b[0m \u001b[43mdf_ind2\u001b[49m\u001b[38;5;241;43m.\u001b[39;49m\u001b[43mloc\u001b[49m\u001b[43m[\u001b[49m\u001b[38;5;124;43m\"\u001b[39;49m\u001b[38;5;124;43mLabrador\u001b[39;49m\u001b[38;5;124;43m\"\u001b[39;49m\u001b[43m:\u001b[49m\u001b[38;5;124;43m\"\u001b[39;49m\u001b[38;5;124;43mChow Chow\u001b[39;49m\u001b[38;5;124;43m\"\u001b[39;49m\u001b[43m]\u001b[49m\n",
      "File \u001b[1;32m~\\AppData\\Local\\Programs\\Python\\Python311\\Lib\\site-packages\\pandas\\core\\indexing.py:1103\u001b[0m, in \u001b[0;36m_LocationIndexer.__getitem__\u001b[1;34m(self, key)\u001b[0m\n\u001b[0;32m   1100\u001b[0m axis \u001b[38;5;241m=\u001b[39m \u001b[38;5;28mself\u001b[39m\u001b[38;5;241m.\u001b[39maxis \u001b[38;5;129;01mor\u001b[39;00m \u001b[38;5;241m0\u001b[39m\n\u001b[0;32m   1102\u001b[0m maybe_callable \u001b[38;5;241m=\u001b[39m com\u001b[38;5;241m.\u001b[39mapply_if_callable(key, \u001b[38;5;28mself\u001b[39m\u001b[38;5;241m.\u001b[39mobj)\n\u001b[1;32m-> 1103\u001b[0m \u001b[38;5;28;01mreturn\u001b[39;00m \u001b[38;5;28;43mself\u001b[39;49m\u001b[38;5;241;43m.\u001b[39;49m\u001b[43m_getitem_axis\u001b[49m\u001b[43m(\u001b[49m\u001b[43mmaybe_callable\u001b[49m\u001b[43m,\u001b[49m\u001b[43m \u001b[49m\u001b[43maxis\u001b[49m\u001b[38;5;241;43m=\u001b[39;49m\u001b[43maxis\u001b[49m\u001b[43m)\u001b[49m\n",
      "File \u001b[1;32m~\\AppData\\Local\\Programs\\Python\\Python311\\Lib\\site-packages\\pandas\\core\\indexing.py:1323\u001b[0m, in \u001b[0;36m_LocIndexer._getitem_axis\u001b[1;34m(self, key, axis)\u001b[0m\n\u001b[0;32m   1321\u001b[0m \u001b[38;5;28;01mif\u001b[39;00m \u001b[38;5;28misinstance\u001b[39m(key, \u001b[38;5;28mslice\u001b[39m):\n\u001b[0;32m   1322\u001b[0m     \u001b[38;5;28mself\u001b[39m\u001b[38;5;241m.\u001b[39m_validate_key(key, axis)\n\u001b[1;32m-> 1323\u001b[0m     \u001b[38;5;28;01mreturn\u001b[39;00m \u001b[38;5;28;43mself\u001b[39;49m\u001b[38;5;241;43m.\u001b[39;49m\u001b[43m_get_slice_axis\u001b[49m\u001b[43m(\u001b[49m\u001b[43mkey\u001b[49m\u001b[43m,\u001b[49m\u001b[43m \u001b[49m\u001b[43maxis\u001b[49m\u001b[38;5;241;43m=\u001b[39;49m\u001b[43maxis\u001b[49m\u001b[43m)\u001b[49m\n\u001b[0;32m   1324\u001b[0m \u001b[38;5;28;01melif\u001b[39;00m com\u001b[38;5;241m.\u001b[39mis_bool_indexer(key):\n\u001b[0;32m   1325\u001b[0m     \u001b[38;5;28;01mreturn\u001b[39;00m \u001b[38;5;28mself\u001b[39m\u001b[38;5;241m.\u001b[39m_getbool_axis(key, axis\u001b[38;5;241m=\u001b[39maxis)\n",
      "File \u001b[1;32m~\\AppData\\Local\\Programs\\Python\\Python311\\Lib\\site-packages\\pandas\\core\\indexing.py:1355\u001b[0m, in \u001b[0;36m_LocIndexer._get_slice_axis\u001b[1;34m(self, slice_obj, axis)\u001b[0m\n\u001b[0;32m   1352\u001b[0m     \u001b[38;5;28;01mreturn\u001b[39;00m obj\u001b[38;5;241m.\u001b[39mcopy(deep\u001b[38;5;241m=\u001b[39m\u001b[38;5;28;01mFalse\u001b[39;00m)\n\u001b[0;32m   1354\u001b[0m labels \u001b[38;5;241m=\u001b[39m obj\u001b[38;5;241m.\u001b[39m_get_axis(axis)\n\u001b[1;32m-> 1355\u001b[0m indexer \u001b[38;5;241m=\u001b[39m \u001b[43mlabels\u001b[49m\u001b[38;5;241;43m.\u001b[39;49m\u001b[43mslice_indexer\u001b[49m\u001b[43m(\u001b[49m\u001b[43mslice_obj\u001b[49m\u001b[38;5;241;43m.\u001b[39;49m\u001b[43mstart\u001b[49m\u001b[43m,\u001b[49m\u001b[43m \u001b[49m\u001b[43mslice_obj\u001b[49m\u001b[38;5;241;43m.\u001b[39;49m\u001b[43mstop\u001b[49m\u001b[43m,\u001b[49m\u001b[43m \u001b[49m\u001b[43mslice_obj\u001b[49m\u001b[38;5;241;43m.\u001b[39;49m\u001b[43mstep\u001b[49m\u001b[43m)\u001b[49m\n\u001b[0;32m   1357\u001b[0m \u001b[38;5;28;01mif\u001b[39;00m \u001b[38;5;28misinstance\u001b[39m(indexer, \u001b[38;5;28mslice\u001b[39m):\n\u001b[0;32m   1358\u001b[0m     \u001b[38;5;28;01mreturn\u001b[39;00m \u001b[38;5;28mself\u001b[39m\u001b[38;5;241m.\u001b[39mobj\u001b[38;5;241m.\u001b[39m_slice(indexer, axis\u001b[38;5;241m=\u001b[39maxis)\n",
      "File \u001b[1;32m~\\AppData\\Local\\Programs\\Python\\Python311\\Lib\\site-packages\\pandas\\core\\indexes\\base.py:6341\u001b[0m, in \u001b[0;36mIndex.slice_indexer\u001b[1;34m(self, start, end, step)\u001b[0m\n\u001b[0;32m   6297\u001b[0m \u001b[38;5;28;01mdef\u001b[39;00m \u001b[38;5;21mslice_indexer\u001b[39m(\n\u001b[0;32m   6298\u001b[0m     \u001b[38;5;28mself\u001b[39m,\n\u001b[0;32m   6299\u001b[0m     start: Hashable \u001b[38;5;241m|\u001b[39m \u001b[38;5;28;01mNone\u001b[39;00m \u001b[38;5;241m=\u001b[39m \u001b[38;5;28;01mNone\u001b[39;00m,\n\u001b[0;32m   6300\u001b[0m     end: Hashable \u001b[38;5;241m|\u001b[39m \u001b[38;5;28;01mNone\u001b[39;00m \u001b[38;5;241m=\u001b[39m \u001b[38;5;28;01mNone\u001b[39;00m,\n\u001b[0;32m   6301\u001b[0m     step: \u001b[38;5;28mint\u001b[39m \u001b[38;5;241m|\u001b[39m \u001b[38;5;28;01mNone\u001b[39;00m \u001b[38;5;241m=\u001b[39m \u001b[38;5;28;01mNone\u001b[39;00m,\n\u001b[0;32m   6302\u001b[0m ) \u001b[38;5;241m-\u001b[39m\u001b[38;5;241m>\u001b[39m \u001b[38;5;28mslice\u001b[39m:\n\u001b[0;32m   6303\u001b[0m \u001b[38;5;250m    \u001b[39m\u001b[38;5;124;03m\"\"\"\u001b[39;00m\n\u001b[0;32m   6304\u001b[0m \u001b[38;5;124;03m    Compute the slice indexer for input labels and step.\u001b[39;00m\n\u001b[0;32m   6305\u001b[0m \n\u001b[1;32m   (...)\u001b[0m\n\u001b[0;32m   6339\u001b[0m \u001b[38;5;124;03m    slice(1, 3, None)\u001b[39;00m\n\u001b[0;32m   6340\u001b[0m \u001b[38;5;124;03m    \"\"\"\u001b[39;00m\n\u001b[1;32m-> 6341\u001b[0m     start_slice, end_slice \u001b[38;5;241m=\u001b[39m \u001b[38;5;28;43mself\u001b[39;49m\u001b[38;5;241;43m.\u001b[39;49m\u001b[43mslice_locs\u001b[49m\u001b[43m(\u001b[49m\u001b[43mstart\u001b[49m\u001b[43m,\u001b[49m\u001b[43m \u001b[49m\u001b[43mend\u001b[49m\u001b[43m,\u001b[49m\u001b[43m \u001b[49m\u001b[43mstep\u001b[49m\u001b[38;5;241;43m=\u001b[39;49m\u001b[43mstep\u001b[49m\u001b[43m)\u001b[49m\n\u001b[0;32m   6343\u001b[0m     \u001b[38;5;66;03m# return a slice\u001b[39;00m\n\u001b[0;32m   6344\u001b[0m     \u001b[38;5;28;01mif\u001b[39;00m \u001b[38;5;129;01mnot\u001b[39;00m is_scalar(start_slice):\n",
      "File \u001b[1;32m~\\AppData\\Local\\Programs\\Python\\Python311\\Lib\\site-packages\\pandas\\core\\indexes\\multi.py:2677\u001b[0m, in \u001b[0;36mMultiIndex.slice_locs\u001b[1;34m(self, start, end, step)\u001b[0m\n\u001b[0;32m   2625\u001b[0m \u001b[38;5;250m\u001b[39m\u001b[38;5;124;03m\"\"\"\u001b[39;00m\n\u001b[0;32m   2626\u001b[0m \u001b[38;5;124;03mFor an ordered MultiIndex, compute the slice locations for input\u001b[39;00m\n\u001b[0;32m   2627\u001b[0m \u001b[38;5;124;03mlabels.\u001b[39;00m\n\u001b[1;32m   (...)\u001b[0m\n\u001b[0;32m   2673\u001b[0m \u001b[38;5;124;03m                      sequence of such.\u001b[39;00m\n\u001b[0;32m   2674\u001b[0m \u001b[38;5;124;03m\"\"\"\u001b[39;00m\n\u001b[0;32m   2675\u001b[0m \u001b[38;5;66;03m# This function adds nothing to its parent implementation (the magic\u001b[39;00m\n\u001b[0;32m   2676\u001b[0m \u001b[38;5;66;03m# happens in get_slice_bound method), but it adds meaningful doc.\u001b[39;00m\n\u001b[1;32m-> 2677\u001b[0m \u001b[38;5;28;01mreturn\u001b[39;00m \u001b[38;5;28;43msuper\u001b[39;49m\u001b[43m(\u001b[49m\u001b[43m)\u001b[49m\u001b[38;5;241;43m.\u001b[39;49m\u001b[43mslice_locs\u001b[49m\u001b[43m(\u001b[49m\u001b[43mstart\u001b[49m\u001b[43m,\u001b[49m\u001b[43m \u001b[49m\u001b[43mend\u001b[49m\u001b[43m,\u001b[49m\u001b[43m \u001b[49m\u001b[43mstep\u001b[49m\u001b[43m)\u001b[49m\n",
      "File \u001b[1;32m~\\AppData\\Local\\Programs\\Python\\Python311\\Lib\\site-packages\\pandas\\core\\indexes\\base.py:6534\u001b[0m, in \u001b[0;36mIndex.slice_locs\u001b[1;34m(self, start, end, step)\u001b[0m\n\u001b[0;32m   6532\u001b[0m start_slice \u001b[38;5;241m=\u001b[39m \u001b[38;5;28;01mNone\u001b[39;00m\n\u001b[0;32m   6533\u001b[0m \u001b[38;5;28;01mif\u001b[39;00m start \u001b[38;5;129;01mis\u001b[39;00m \u001b[38;5;129;01mnot\u001b[39;00m \u001b[38;5;28;01mNone\u001b[39;00m:\n\u001b[1;32m-> 6534\u001b[0m     start_slice \u001b[38;5;241m=\u001b[39m \u001b[38;5;28;43mself\u001b[39;49m\u001b[38;5;241;43m.\u001b[39;49m\u001b[43mget_slice_bound\u001b[49m\u001b[43m(\u001b[49m\u001b[43mstart\u001b[49m\u001b[43m,\u001b[49m\u001b[43m \u001b[49m\u001b[38;5;124;43m\"\u001b[39;49m\u001b[38;5;124;43mleft\u001b[39;49m\u001b[38;5;124;43m\"\u001b[39;49m\u001b[43m)\u001b[49m\n\u001b[0;32m   6535\u001b[0m \u001b[38;5;28;01mif\u001b[39;00m start_slice \u001b[38;5;129;01mis\u001b[39;00m \u001b[38;5;28;01mNone\u001b[39;00m:\n\u001b[0;32m   6536\u001b[0m     start_slice \u001b[38;5;241m=\u001b[39m \u001b[38;5;241m0\u001b[39m\n",
      "File \u001b[1;32m~\\AppData\\Local\\Programs\\Python\\Python311\\Lib\\site-packages\\pandas\\core\\indexes\\multi.py:2621\u001b[0m, in \u001b[0;36mMultiIndex.get_slice_bound\u001b[1;34m(self, label, side)\u001b[0m\n\u001b[0;32m   2619\u001b[0m \u001b[38;5;28;01mif\u001b[39;00m \u001b[38;5;129;01mnot\u001b[39;00m \u001b[38;5;28misinstance\u001b[39m(label, \u001b[38;5;28mtuple\u001b[39m):\n\u001b[0;32m   2620\u001b[0m     label \u001b[38;5;241m=\u001b[39m (label,)\n\u001b[1;32m-> 2621\u001b[0m \u001b[38;5;28;01mreturn\u001b[39;00m \u001b[38;5;28;43mself\u001b[39;49m\u001b[38;5;241;43m.\u001b[39;49m\u001b[43m_partial_tup_index\u001b[49m\u001b[43m(\u001b[49m\u001b[43mlabel\u001b[49m\u001b[43m,\u001b[49m\u001b[43m \u001b[49m\u001b[43mside\u001b[49m\u001b[38;5;241;43m=\u001b[39;49m\u001b[43mside\u001b[49m\u001b[43m)\u001b[49m\n",
      "File \u001b[1;32m~\\AppData\\Local\\Programs\\Python\\Python311\\Lib\\site-packages\\pandas\\core\\indexes\\multi.py:2681\u001b[0m, in \u001b[0;36mMultiIndex._partial_tup_index\u001b[1;34m(self, tup, side)\u001b[0m\n\u001b[0;32m   2679\u001b[0m \u001b[38;5;28;01mdef\u001b[39;00m \u001b[38;5;21m_partial_tup_index\u001b[39m(\u001b[38;5;28mself\u001b[39m, tup: \u001b[38;5;28mtuple\u001b[39m, side: Literal[\u001b[38;5;124m\"\u001b[39m\u001b[38;5;124mleft\u001b[39m\u001b[38;5;124m\"\u001b[39m, \u001b[38;5;124m\"\u001b[39m\u001b[38;5;124mright\u001b[39m\u001b[38;5;124m\"\u001b[39m] \u001b[38;5;241m=\u001b[39m \u001b[38;5;124m\"\u001b[39m\u001b[38;5;124mleft\u001b[39m\u001b[38;5;124m\"\u001b[39m):\n\u001b[0;32m   2680\u001b[0m     \u001b[38;5;28;01mif\u001b[39;00m \u001b[38;5;28mlen\u001b[39m(tup) \u001b[38;5;241m>\u001b[39m \u001b[38;5;28mself\u001b[39m\u001b[38;5;241m.\u001b[39m_lexsort_depth:\n\u001b[1;32m-> 2681\u001b[0m         \u001b[38;5;28;01mraise\u001b[39;00m UnsortedIndexError(\n\u001b[0;32m   2682\u001b[0m             \u001b[38;5;124mf\u001b[39m\u001b[38;5;124m\"\u001b[39m\u001b[38;5;124mKey length (\u001b[39m\u001b[38;5;132;01m{\u001b[39;00m\u001b[38;5;28mlen\u001b[39m(tup)\u001b[38;5;132;01m}\u001b[39;00m\u001b[38;5;124m) was greater than MultiIndex lexsort depth \u001b[39m\u001b[38;5;124m\"\u001b[39m\n\u001b[0;32m   2683\u001b[0m             \u001b[38;5;124mf\u001b[39m\u001b[38;5;124m\"\u001b[39m\u001b[38;5;124m(\u001b[39m\u001b[38;5;132;01m{\u001b[39;00m\u001b[38;5;28mself\u001b[39m\u001b[38;5;241m.\u001b[39m_lexsort_depth\u001b[38;5;132;01m}\u001b[39;00m\u001b[38;5;124m)\u001b[39m\u001b[38;5;124m\"\u001b[39m\n\u001b[0;32m   2684\u001b[0m         )\n\u001b[0;32m   2686\u001b[0m     n \u001b[38;5;241m=\u001b[39m \u001b[38;5;28mlen\u001b[39m(tup)\n\u001b[0;32m   2687\u001b[0m     start, end \u001b[38;5;241m=\u001b[39m \u001b[38;5;241m0\u001b[39m, \u001b[38;5;28mlen\u001b[39m(\u001b[38;5;28mself\u001b[39m)\n",
      "\u001b[1;31mUnsortedIndexError\u001b[0m: 'Key length (1) was greater than MultiIndex lexsort depth (0)'"
     ]
    }
   ],
   "source": [
    "df_ind2.loc[\"Labrador\":\"Chow Chow\"]      #escribir nombres sin fijarnos en el orden"
   ]
  },
  {
   "cell_type": "code",
   "execution_count": 23,
   "id": "1228352d",
   "metadata": {},
   "outputs": [
    {
     "data": {
      "text/html": [
       "<div>\n",
       "<style scoped>\n",
       "    .dataframe tbody tr th:only-of-type {\n",
       "        vertical-align: middle;\n",
       "    }\n",
       "\n",
       "    .dataframe tbody tr th {\n",
       "        vertical-align: top;\n",
       "    }\n",
       "\n",
       "    .dataframe thead th {\n",
       "        text-align: right;\n",
       "    }\n",
       "</style>\n",
       "<table border=\"1\" class=\"dataframe\">\n",
       "  <thead>\n",
       "    <tr style=\"text-align: right;\">\n",
       "      <th></th>\n",
       "      <th></th>\n",
       "      <th>Nombre</th>\n",
       "      <th>Altura_cm</th>\n",
       "      <th>Peso_kg</th>\n",
       "      <th>Fecha_Nac</th>\n",
       "    </tr>\n",
       "    <tr>\n",
       "      <th>Raza</th>\n",
       "      <th>Color</th>\n",
       "      <th></th>\n",
       "      <th></th>\n",
       "      <th></th>\n",
       "      <th></th>\n",
       "    </tr>\n",
       "  </thead>\n",
       "  <tbody>\n",
       "    <tr>\n",
       "      <th rowspan=\"2\" valign=\"top\">Chow Chow</th>\n",
       "      <th>Blanco</th>\n",
       "      <td>Max</td>\n",
       "      <td>45</td>\n",
       "      <td>28</td>\n",
       "      <td>2019-03-27</td>\n",
       "    </tr>\n",
       "    <tr>\n",
       "      <th>Café</th>\n",
       "      <td>Lucy</td>\n",
       "      <td>46</td>\n",
       "      <td>24</td>\n",
       "      <td>2014-08-25</td>\n",
       "    </tr>\n",
       "    <tr>\n",
       "      <th>Labrador</th>\n",
       "      <th>Café</th>\n",
       "      <td>Bella</td>\n",
       "      <td>56</td>\n",
       "      <td>24</td>\n",
       "      <td>2013-07-01</td>\n",
       "    </tr>\n",
       "    <tr>\n",
       "      <th>Poodle</th>\n",
       "      <th>Negro</th>\n",
       "      <td>Charlie</td>\n",
       "      <td>43</td>\n",
       "      <td>24</td>\n",
       "      <td>2016-09-16</td>\n",
       "    </tr>\n",
       "    <tr>\n",
       "      <th>San Bernardo</th>\n",
       "      <th>Blanco</th>\n",
       "      <td>Bernie</td>\n",
       "      <td>77</td>\n",
       "      <td>74</td>\n",
       "      <td>2018-02-27</td>\n",
       "    </tr>\n",
       "    <tr>\n",
       "      <th rowspan=\"2\" valign=\"top\">Schnauzer</th>\n",
       "      <th>Gris</th>\n",
       "      <td>Cooper</td>\n",
       "      <td>49</td>\n",
       "      <td>17</td>\n",
       "      <td>2011-12-11</td>\n",
       "    </tr>\n",
       "    <tr>\n",
       "      <th>Negro</th>\n",
       "      <td>Reed</td>\n",
       "      <td>45</td>\n",
       "      <td>15</td>\n",
       "      <td>2017-09-18</td>\n",
       "    </tr>\n",
       "  </tbody>\n",
       "</table>\n",
       "</div>"
      ],
      "text/plain": [
       "                      Nombre  Altura_cm  Peso_kg   Fecha_Nac\n",
       "Raza         Color                                          \n",
       "Chow Chow    Blanco      Max         45       28  2019-03-27\n",
       "             Café       Lucy         46       24  2014-08-25\n",
       "Labrador     Café      Bella         56       24  2013-07-01\n",
       "Poodle       Negro   Charlie         43       24  2016-09-16\n",
       "San Bernardo Blanco   Bernie         77       74  2018-02-27\n",
       "Schnauzer    Gris     Cooper         49       17  2011-12-11\n",
       "             Negro      Reed         45       15  2017-09-18"
      ]
     },
     "execution_count": 23,
     "metadata": {},
     "output_type": "execute_result"
    }
   ],
   "source": [
    "df_ind2 = df_ind2.sort_index(level=\"Raza\", ascending = True)     # primero va chow chow y luego labrador\n",
    "df_ind2"
   ]
  },
  {
   "cell_type": "markdown",
   "id": "66ce538e",
   "metadata": {},
   "source": [
    "# Extracción correcta"
   ]
  },
  {
   "cell_type": "code",
   "execution_count": 24,
   "id": "6c9a29a3",
   "metadata": {},
   "outputs": [
    {
     "data": {
      "text/html": [
       "<div>\n",
       "<style scoped>\n",
       "    .dataframe tbody tr th:only-of-type {\n",
       "        vertical-align: middle;\n",
       "    }\n",
       "\n",
       "    .dataframe tbody tr th {\n",
       "        vertical-align: top;\n",
       "    }\n",
       "\n",
       "    .dataframe thead th {\n",
       "        text-align: right;\n",
       "    }\n",
       "</style>\n",
       "<table border=\"1\" class=\"dataframe\">\n",
       "  <thead>\n",
       "    <tr style=\"text-align: right;\">\n",
       "      <th></th>\n",
       "      <th></th>\n",
       "      <th>Nombre</th>\n",
       "      <th>Altura_cm</th>\n",
       "      <th>Peso_kg</th>\n",
       "      <th>Fecha_Nac</th>\n",
       "    </tr>\n",
       "    <tr>\n",
       "      <th>Raza</th>\n",
       "      <th>Color</th>\n",
       "      <th></th>\n",
       "      <th></th>\n",
       "      <th></th>\n",
       "      <th></th>\n",
       "    </tr>\n",
       "  </thead>\n",
       "  <tbody>\n",
       "    <tr>\n",
       "      <th rowspan=\"2\" valign=\"top\">Chow Chow</th>\n",
       "      <th>Blanco</th>\n",
       "      <td>Max</td>\n",
       "      <td>45</td>\n",
       "      <td>28</td>\n",
       "      <td>2019-03-27</td>\n",
       "    </tr>\n",
       "    <tr>\n",
       "      <th>Café</th>\n",
       "      <td>Lucy</td>\n",
       "      <td>46</td>\n",
       "      <td>24</td>\n",
       "      <td>2014-08-25</td>\n",
       "    </tr>\n",
       "    <tr>\n",
       "      <th>Labrador</th>\n",
       "      <th>Café</th>\n",
       "      <td>Bella</td>\n",
       "      <td>56</td>\n",
       "      <td>24</td>\n",
       "      <td>2013-07-01</td>\n",
       "    </tr>\n",
       "  </tbody>\n",
       "</table>\n",
       "</div>"
      ],
      "text/plain": [
       "                 Nombre  Altura_cm  Peso_kg   Fecha_Nac\n",
       "Raza      Color                                        \n",
       "Chow Chow Blanco    Max         45       28  2019-03-27\n",
       "          Café     Lucy         46       24  2014-08-25\n",
       "Labrador  Café    Bella         56       24  2013-07-01"
      ]
     },
     "execution_count": 24,
     "metadata": {},
     "output_type": "execute_result"
    }
   ],
   "source": [
    "df_ind2.loc[\"Chow Chow\":\"Labrador\"] "
   ]
  },
  {
   "cell_type": "markdown",
   "id": "9ae0118e",
   "metadata": {},
   "source": [
    "# Para cortar partes de un DataFrame con índices múltiples usamos tuplas"
   ]
  },
  {
   "cell_type": "code",
   "execution_count": 25,
   "id": "03fb6406",
   "metadata": {},
   "outputs": [
    {
     "data": {
      "text/html": [
       "<div>\n",
       "<style scoped>\n",
       "    .dataframe tbody tr th:only-of-type {\n",
       "        vertical-align: middle;\n",
       "    }\n",
       "\n",
       "    .dataframe tbody tr th {\n",
       "        vertical-align: top;\n",
       "    }\n",
       "\n",
       "    .dataframe thead th {\n",
       "        text-align: right;\n",
       "    }\n",
       "</style>\n",
       "<table border=\"1\" class=\"dataframe\">\n",
       "  <thead>\n",
       "    <tr style=\"text-align: right;\">\n",
       "      <th></th>\n",
       "      <th></th>\n",
       "      <th>Nombre</th>\n",
       "      <th>Altura_cm</th>\n",
       "      <th>Peso_kg</th>\n",
       "      <th>Fecha_Nac</th>\n",
       "    </tr>\n",
       "    <tr>\n",
       "      <th>Raza</th>\n",
       "      <th>Color</th>\n",
       "      <th></th>\n",
       "      <th></th>\n",
       "      <th></th>\n",
       "      <th></th>\n",
       "    </tr>\n",
       "  </thead>\n",
       "  <tbody>\n",
       "    <tr>\n",
       "      <th>Chow Chow</th>\n",
       "      <th>Café</th>\n",
       "      <td>Lucy</td>\n",
       "      <td>46</td>\n",
       "      <td>24</td>\n",
       "      <td>2014-08-25</td>\n",
       "    </tr>\n",
       "    <tr>\n",
       "      <th>Labrador</th>\n",
       "      <th>Café</th>\n",
       "      <td>Bella</td>\n",
       "      <td>56</td>\n",
       "      <td>24</td>\n",
       "      <td>2013-07-01</td>\n",
       "    </tr>\n",
       "    <tr>\n",
       "      <th>Poodle</th>\n",
       "      <th>Negro</th>\n",
       "      <td>Charlie</td>\n",
       "      <td>43</td>\n",
       "      <td>24</td>\n",
       "      <td>2016-09-16</td>\n",
       "    </tr>\n",
       "    <tr>\n",
       "      <th>San Bernardo</th>\n",
       "      <th>Blanco</th>\n",
       "      <td>Bernie</td>\n",
       "      <td>77</td>\n",
       "      <td>74</td>\n",
       "      <td>2018-02-27</td>\n",
       "    </tr>\n",
       "    <tr>\n",
       "      <th>Schnauzer</th>\n",
       "      <th>Gris</th>\n",
       "      <td>Cooper</td>\n",
       "      <td>49</td>\n",
       "      <td>17</td>\n",
       "      <td>2011-12-11</td>\n",
       "    </tr>\n",
       "  </tbody>\n",
       "</table>\n",
       "</div>"
      ],
      "text/plain": [
       "                      Nombre  Altura_cm  Peso_kg   Fecha_Nac\n",
       "Raza         Color                                          \n",
       "Chow Chow    Café       Lucy         46       24  2014-08-25\n",
       "Labrador     Café      Bella         56       24  2013-07-01\n",
       "Poodle       Negro   Charlie         43       24  2016-09-16\n",
       "San Bernardo Blanco   Bernie         77       74  2018-02-27\n",
       "Schnauzer    Gris     Cooper         49       17  2011-12-11"
      ]
     },
     "execution_count": 25,
     "metadata": {},
     "output_type": "execute_result"
    }
   ],
   "source": [
    "df_ind2.loc[(\"Chow Chow\", \"Café\"):(\"Schnauzer\",\"Gris\")]"
   ]
  },
  {
   "cell_type": "markdown",
   "id": "99446d9c",
   "metadata": {},
   "source": [
    "# Corte de columnas en DataFrame"
   ]
  },
  {
   "cell_type": "code",
   "execution_count": 26,
   "id": "27a17776",
   "metadata": {},
   "outputs": [
    {
     "data": {
      "text/html": [
       "<div>\n",
       "<style scoped>\n",
       "    .dataframe tbody tr th:only-of-type {\n",
       "        vertical-align: middle;\n",
       "    }\n",
       "\n",
       "    .dataframe tbody tr th {\n",
       "        vertical-align: top;\n",
       "    }\n",
       "\n",
       "    .dataframe thead th {\n",
       "        text-align: right;\n",
       "    }\n",
       "</style>\n",
       "<table border=\"1\" class=\"dataframe\">\n",
       "  <thead>\n",
       "    <tr style=\"text-align: right;\">\n",
       "      <th></th>\n",
       "      <th></th>\n",
       "      <th>Nombre</th>\n",
       "      <th>Altura_cm</th>\n",
       "      <th>Peso_kg</th>\n",
       "    </tr>\n",
       "    <tr>\n",
       "      <th>Raza</th>\n",
       "      <th>Color</th>\n",
       "      <th></th>\n",
       "      <th></th>\n",
       "      <th></th>\n",
       "    </tr>\n",
       "  </thead>\n",
       "  <tbody>\n",
       "    <tr>\n",
       "      <th rowspan=\"2\" valign=\"top\">Chow Chow</th>\n",
       "      <th>Blanco</th>\n",
       "      <td>Max</td>\n",
       "      <td>45</td>\n",
       "      <td>28</td>\n",
       "    </tr>\n",
       "    <tr>\n",
       "      <th>Café</th>\n",
       "      <td>Lucy</td>\n",
       "      <td>46</td>\n",
       "      <td>24</td>\n",
       "    </tr>\n",
       "    <tr>\n",
       "      <th>Labrador</th>\n",
       "      <th>Café</th>\n",
       "      <td>Bella</td>\n",
       "      <td>56</td>\n",
       "      <td>24</td>\n",
       "    </tr>\n",
       "    <tr>\n",
       "      <th>Poodle</th>\n",
       "      <th>Negro</th>\n",
       "      <td>Charlie</td>\n",
       "      <td>43</td>\n",
       "      <td>24</td>\n",
       "    </tr>\n",
       "    <tr>\n",
       "      <th>San Bernardo</th>\n",
       "      <th>Blanco</th>\n",
       "      <td>Bernie</td>\n",
       "      <td>77</td>\n",
       "      <td>74</td>\n",
       "    </tr>\n",
       "    <tr>\n",
       "      <th rowspan=\"2\" valign=\"top\">Schnauzer</th>\n",
       "      <th>Gris</th>\n",
       "      <td>Cooper</td>\n",
       "      <td>49</td>\n",
       "      <td>17</td>\n",
       "    </tr>\n",
       "    <tr>\n",
       "      <th>Negro</th>\n",
       "      <td>Reed</td>\n",
       "      <td>45</td>\n",
       "      <td>15</td>\n",
       "    </tr>\n",
       "  </tbody>\n",
       "</table>\n",
       "</div>"
      ],
      "text/plain": [
       "                      Nombre  Altura_cm  Peso_kg\n",
       "Raza         Color                              \n",
       "Chow Chow    Blanco      Max         45       28\n",
       "             Café       Lucy         46       24\n",
       "Labrador     Café      Bella         56       24\n",
       "Poodle       Negro   Charlie         43       24\n",
       "San Bernardo Blanco   Bernie         77       74\n",
       "Schnauzer    Gris     Cooper         49       17\n",
       "             Negro      Reed         45       15"
      ]
     },
     "execution_count": 26,
     "metadata": {},
     "output_type": "execute_result"
    }
   ],
   "source": [
    "df_ind3 = df_ind2.loc[:,\"Nombre\":\"Peso_kg\"]\n",
    "df_ind3"
   ]
  },
  {
   "cell_type": "markdown",
   "id": "fb981c3c",
   "metadata": {},
   "source": [
    "# Extracción simultánea de renglones y columnas"
   ]
  },
  {
   "cell_type": "code",
   "execution_count": 27,
   "id": "e19248bb",
   "metadata": {},
   "outputs": [
    {
     "data": {
      "text/html": [
       "<div>\n",
       "<style scoped>\n",
       "    .dataframe tbody tr th:only-of-type {\n",
       "        vertical-align: middle;\n",
       "    }\n",
       "\n",
       "    .dataframe tbody tr th {\n",
       "        vertical-align: top;\n",
       "    }\n",
       "\n",
       "    .dataframe thead th {\n",
       "        text-align: right;\n",
       "    }\n",
       "</style>\n",
       "<table border=\"1\" class=\"dataframe\">\n",
       "  <thead>\n",
       "    <tr style=\"text-align: right;\">\n",
       "      <th></th>\n",
       "      <th></th>\n",
       "      <th>Nombre</th>\n",
       "      <th>Altura_cm</th>\n",
       "      <th>Peso_kg</th>\n",
       "    </tr>\n",
       "    <tr>\n",
       "      <th>Raza</th>\n",
       "      <th>Color</th>\n",
       "      <th></th>\n",
       "      <th></th>\n",
       "      <th></th>\n",
       "    </tr>\n",
       "  </thead>\n",
       "  <tbody>\n",
       "    <tr>\n",
       "      <th>Chow Chow</th>\n",
       "      <th>Café</th>\n",
       "      <td>Lucy</td>\n",
       "      <td>46</td>\n",
       "      <td>24</td>\n",
       "    </tr>\n",
       "    <tr>\n",
       "      <th>Labrador</th>\n",
       "      <th>Café</th>\n",
       "      <td>Bella</td>\n",
       "      <td>56</td>\n",
       "      <td>24</td>\n",
       "    </tr>\n",
       "    <tr>\n",
       "      <th>Poodle</th>\n",
       "      <th>Negro</th>\n",
       "      <td>Charlie</td>\n",
       "      <td>43</td>\n",
       "      <td>24</td>\n",
       "    </tr>\n",
       "    <tr>\n",
       "      <th>San Bernardo</th>\n",
       "      <th>Blanco</th>\n",
       "      <td>Bernie</td>\n",
       "      <td>77</td>\n",
       "      <td>74</td>\n",
       "    </tr>\n",
       "    <tr>\n",
       "      <th>Schnauzer</th>\n",
       "      <th>Gris</th>\n",
       "      <td>Cooper</td>\n",
       "      <td>49</td>\n",
       "      <td>17</td>\n",
       "    </tr>\n",
       "  </tbody>\n",
       "</table>\n",
       "</div>"
      ],
      "text/plain": [
       "                      Nombre  Altura_cm  Peso_kg\n",
       "Raza         Color                              \n",
       "Chow Chow    Café       Lucy         46       24\n",
       "Labrador     Café      Bella         56       24\n",
       "Poodle       Negro   Charlie         43       24\n",
       "San Bernardo Blanco   Bernie         77       74\n",
       "Schnauzer    Gris     Cooper         49       17"
      ]
     },
     "execution_count": 27,
     "metadata": {},
     "output_type": "execute_result"
    }
   ],
   "source": [
    "df_ind4 = df_ind2.loc[(\"Chow Chow\", \"Café\"):(\"Schnauzer\",\"Gris\"),\"Nombre\":\"Peso_kg\"]\n",
    "df_ind4"
   ]
  },
  {
   "cell_type": "markdown",
   "id": "af412b56",
   "metadata": {},
   "source": [
    "# Extracción simultánea de renglones y columnas"
   ]
  },
  {
   "cell_type": "markdown",
   "id": "6c094348",
   "metadata": {},
   "source": [
    "# Opción alternativa por número de renglón y número de columna"
   ]
  },
  {
   "cell_type": "code",
   "execution_count": 28,
   "id": "e92a2e01",
   "metadata": {},
   "outputs": [
    {
     "data": {
      "text/html": [
       "<div>\n",
       "<style scoped>\n",
       "    .dataframe tbody tr th:only-of-type {\n",
       "        vertical-align: middle;\n",
       "    }\n",
       "\n",
       "    .dataframe tbody tr th {\n",
       "        vertical-align: top;\n",
       "    }\n",
       "\n",
       "    .dataframe thead th {\n",
       "        text-align: right;\n",
       "    }\n",
       "</style>\n",
       "<table border=\"1\" class=\"dataframe\">\n",
       "  <thead>\n",
       "    <tr style=\"text-align: right;\">\n",
       "      <th></th>\n",
       "      <th></th>\n",
       "      <th>Nombre</th>\n",
       "    </tr>\n",
       "    <tr>\n",
       "      <th>Raza</th>\n",
       "      <th>Color</th>\n",
       "      <th></th>\n",
       "    </tr>\n",
       "  </thead>\n",
       "  <tbody>\n",
       "    <tr>\n",
       "      <th>Labrador</th>\n",
       "      <th>Café</th>\n",
       "      <td>Bella</td>\n",
       "    </tr>\n",
       "    <tr>\n",
       "      <th>Poodle</th>\n",
       "      <th>Negro</th>\n",
       "      <td>Charlie</td>\n",
       "    </tr>\n",
       "  </tbody>\n",
       "</table>\n",
       "</div>"
      ],
      "text/plain": [
       "                 Nombre\n",
       "Raza     Color         \n",
       "Labrador Café     Bella\n",
       "Poodle   Negro  Charlie"
      ]
     },
     "execution_count": 28,
     "metadata": {},
     "output_type": "execute_result"
    }
   ],
   "source": [
    "df_ind4.iloc[1:3,0:1]"
   ]
  },
  {
   "cell_type": "markdown",
   "id": "f7f1c3a5",
   "metadata": {},
   "source": [
    "# Ejercicio.-   Mediante el uso de una tabla pivote sobre el DataFrame de mascotas, extraiga los registros donde la raza de la mascota es: \"Labrador\", \"Poodle\" y \"San Bernardo\""
   ]
  },
  {
   "cell_type": "markdown",
   "id": "908bdbd2",
   "metadata": {},
   "source": [
    "# Creación de la tabla pivote"
   ]
  },
  {
   "cell_type": "code",
   "execution_count": 29,
   "id": "4b256f85",
   "metadata": {},
   "outputs": [
    {
     "data": {
      "text/html": [
       "<div>\n",
       "<style scoped>\n",
       "    .dataframe tbody tr th:only-of-type {\n",
       "        vertical-align: middle;\n",
       "    }\n",
       "\n",
       "    .dataframe tbody tr th {\n",
       "        vertical-align: top;\n",
       "    }\n",
       "\n",
       "    .dataframe thead th {\n",
       "        text-align: right;\n",
       "    }\n",
       "</style>\n",
       "<table border=\"1\" class=\"dataframe\">\n",
       "  <thead>\n",
       "    <tr style=\"text-align: right;\">\n",
       "      <th>Color</th>\n",
       "      <th>Blanco</th>\n",
       "      <th>Café</th>\n",
       "      <th>Gris</th>\n",
       "      <th>Negro</th>\n",
       "    </tr>\n",
       "    <tr>\n",
       "      <th>Raza</th>\n",
       "      <th></th>\n",
       "      <th></th>\n",
       "      <th></th>\n",
       "      <th></th>\n",
       "    </tr>\n",
       "  </thead>\n",
       "  <tbody>\n",
       "    <tr>\n",
       "      <th>Chow Chow</th>\n",
       "      <td>45.0</td>\n",
       "      <td>46.0</td>\n",
       "      <td>NaN</td>\n",
       "      <td>NaN</td>\n",
       "    </tr>\n",
       "    <tr>\n",
       "      <th>Labrador</th>\n",
       "      <td>NaN</td>\n",
       "      <td>56.0</td>\n",
       "      <td>NaN</td>\n",
       "      <td>NaN</td>\n",
       "    </tr>\n",
       "    <tr>\n",
       "      <th>Poodle</th>\n",
       "      <td>NaN</td>\n",
       "      <td>NaN</td>\n",
       "      <td>NaN</td>\n",
       "      <td>43.0</td>\n",
       "    </tr>\n",
       "    <tr>\n",
       "      <th>San Bernardo</th>\n",
       "      <td>77.0</td>\n",
       "      <td>NaN</td>\n",
       "      <td>NaN</td>\n",
       "      <td>NaN</td>\n",
       "    </tr>\n",
       "    <tr>\n",
       "      <th>Schnauzer</th>\n",
       "      <td>NaN</td>\n",
       "      <td>NaN</td>\n",
       "      <td>49.0</td>\n",
       "      <td>45.0</td>\n",
       "    </tr>\n",
       "  </tbody>\n",
       "</table>\n",
       "</div>"
      ],
      "text/plain": [
       "Color         Blanco  Café  Gris  Negro\n",
       "Raza                                   \n",
       "Chow Chow       45.0  46.0   NaN    NaN\n",
       "Labrador         NaN  56.0   NaN    NaN\n",
       "Poodle           NaN   NaN   NaN   43.0\n",
       "San Bernardo    77.0   NaN   NaN    NaN\n",
       "Schnauzer        NaN   NaN  49.0   45.0"
      ]
     },
     "execution_count": 29,
     "metadata": {},
     "output_type": "execute_result"
    }
   ],
   "source": [
    "df_altura_por_raza_color = df.pivot_table(\"Altura_cm\",index = \"Raza\", columns = \"Color\")\n",
    "df_altura_por_raza_color"
   ]
  },
  {
   "cell_type": "markdown",
   "id": "1c4fb138",
   "metadata": {},
   "source": [
    "# extracción de registros"
   ]
  },
  {
   "cell_type": "code",
   "execution_count": 30,
   "id": "1e2b03fb",
   "metadata": {},
   "outputs": [
    {
     "data": {
      "text/html": [
       "<div>\n",
       "<style scoped>\n",
       "    .dataframe tbody tr th:only-of-type {\n",
       "        vertical-align: middle;\n",
       "    }\n",
       "\n",
       "    .dataframe tbody tr th {\n",
       "        vertical-align: top;\n",
       "    }\n",
       "\n",
       "    .dataframe thead th {\n",
       "        text-align: right;\n",
       "    }\n",
       "</style>\n",
       "<table border=\"1\" class=\"dataframe\">\n",
       "  <thead>\n",
       "    <tr style=\"text-align: right;\">\n",
       "      <th>Color</th>\n",
       "      <th>Blanco</th>\n",
       "      <th>Café</th>\n",
       "      <th>Gris</th>\n",
       "      <th>Negro</th>\n",
       "    </tr>\n",
       "    <tr>\n",
       "      <th>Raza</th>\n",
       "      <th></th>\n",
       "      <th></th>\n",
       "      <th></th>\n",
       "      <th></th>\n",
       "    </tr>\n",
       "  </thead>\n",
       "  <tbody>\n",
       "    <tr>\n",
       "      <th>Labrador</th>\n",
       "      <td>NaN</td>\n",
       "      <td>56.0</td>\n",
       "      <td>NaN</td>\n",
       "      <td>NaN</td>\n",
       "    </tr>\n",
       "    <tr>\n",
       "      <th>Poodle</th>\n",
       "      <td>NaN</td>\n",
       "      <td>NaN</td>\n",
       "      <td>NaN</td>\n",
       "      <td>43.0</td>\n",
       "    </tr>\n",
       "    <tr>\n",
       "      <th>San Bernardo</th>\n",
       "      <td>77.0</td>\n",
       "      <td>NaN</td>\n",
       "      <td>NaN</td>\n",
       "      <td>NaN</td>\n",
       "    </tr>\n",
       "  </tbody>\n",
       "</table>\n",
       "</div>"
      ],
      "text/plain": [
       "Color         Blanco  Café  Gris  Negro\n",
       "Raza                                   \n",
       "Labrador         NaN  56.0   NaN    NaN\n",
       "Poodle           NaN   NaN   NaN   43.0\n",
       "San Bernardo    77.0   NaN   NaN    NaN"
      ]
     },
     "execution_count": 30,
     "metadata": {},
     "output_type": "execute_result"
    }
   ],
   "source": [
    "df_altura_por_raza_color.loc[\"Labrador\":\"San Bernardo\"]"
   ]
  },
  {
   "cell_type": "markdown",
   "id": "f7304f51",
   "metadata": {},
   "source": [
    "# Cálculo de promedios para TODOS los renglones (por columna)"
   ]
  },
  {
   "cell_type": "code",
   "execution_count": 31,
   "id": "ef5c9b1d",
   "metadata": {},
   "outputs": [
    {
     "data": {
      "text/plain": [
       "Color\n",
       "Blanco    61.0\n",
       "Café      51.0\n",
       "Gris      49.0\n",
       "Negro     44.0\n",
       "dtype: float64"
      ]
     },
     "execution_count": 31,
     "metadata": {},
     "output_type": "execute_result"
    }
   ],
   "source": [
    "df_altura_por_raza_color.mean(axis = \"index\")"
   ]
  },
  {
   "cell_type": "markdown",
   "id": "dfd3034a",
   "metadata": {},
   "source": [
    "# Cálculo de promedios para TODAS las columnas (por renglón)"
   ]
  },
  {
   "cell_type": "code",
   "execution_count": 32,
   "id": "5899689a",
   "metadata": {},
   "outputs": [
    {
     "data": {
      "text/plain": [
       "Raza\n",
       "Chow Chow       45.5\n",
       "Labrador        56.0\n",
       "Poodle          43.0\n",
       "San Bernardo    77.0\n",
       "Schnauzer       47.0\n",
       "dtype: float64"
      ]
     },
     "execution_count": 32,
     "metadata": {},
     "output_type": "execute_result"
    }
   ],
   "source": [
    "df_altura_por_raza_color.mean(axis = \"columns\")"
   ]
  }
 ],
 "metadata": {
  "kernelspec": {
   "display_name": "Python 3 (ipykernel)",
   "language": "python",
   "name": "python3"
  },
  "language_info": {
   "codemirror_mode": {
    "name": "ipython",
    "version": 3
   },
   "file_extension": ".py",
   "mimetype": "text/x-python",
   "name": "python",
   "nbconvert_exporter": "python",
   "pygments_lexer": "ipython3",
   "version": "3.11.3"
  }
 },
 "nbformat": 4,
 "nbformat_minor": 5
}
