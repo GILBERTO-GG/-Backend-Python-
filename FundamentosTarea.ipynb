{
 "cells": [
  {
   "cell_type": "code",
   "execution_count": 1,
   "id": "55f643fb",
   "metadata": {},
   "outputs": [
    {
     "name": "stdout",
     "output_type": "stream",
     "text": [
      "Programa que pide al usuario ingresar datos de tipo entero, float y cadena\n",
      "----------------------------------------------------------------------------\n",
      "Ingresa un dato entero:  39\n",
      "Ingresa un dato flotante:  3.58\n",
      "Ingresa una cadena de texto:  Hola como estás\n",
      "El número entero que ingresaste es el:   39\n",
      "<class 'int'>\n",
      "El número flotante que ingresaste es el:   3.58\n",
      "<class 'float'>\n",
      "La cadena de texto que ingresaste es:   Hola como estás\n",
      "<class 'str'>\n"
     ]
    }
   ],
   "source": [
    "print(\"Programa que pide al usuario ingresar datos de tipo entero, float y cadena\")\n",
    "print(\"----------------------------------------------------------------------------\")\n",
    "entero = int(input(\"Ingresa un dato entero:  \"))\n",
    "flotante = float(input(\"Ingresa un dato flotante:  \"))\n",
    "cadenatexto = input(\"Ingresa una cadena de texto:  \")\n",
    "print(\"El número entero que ingresaste es el:  \", entero)\n",
    "print(type(entero))\n",
    "print(\"El número flotante que ingresaste es el:  \", flotante)\n",
    "print(type(flotante))\n",
    "print(\"La cadena de texto que ingresaste es:  \", cadenatexto)\n",
    "print(type(cadenatexto))"
   ]
  }
 ],
 "metadata": {
  "kernelspec": {
   "display_name": "Python 3 (ipykernel)",
   "language": "python",
   "name": "python3"
  },
  "language_info": {
   "codemirror_mode": {
    "name": "ipython",
    "version": 3
   },
   "file_extension": ".py",
   "mimetype": "text/x-python",
   "name": "python",
   "nbconvert_exporter": "python",
   "pygments_lexer": "ipython3",
   "version": "3.11.3"
  }
 },
 "nbformat": 4,
 "nbformat_minor": 5
}
