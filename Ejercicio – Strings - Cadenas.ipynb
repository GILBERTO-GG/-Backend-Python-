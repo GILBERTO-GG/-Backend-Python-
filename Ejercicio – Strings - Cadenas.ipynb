{
 "cells": [
  {
   "cell_type": "code",
   "execution_count": 15,
   "id": "fd4b00de",
   "metadata": {},
   "outputs": [
    {
     "name": "stdout",
     "output_type": "stream",
     "text": [
      "Analizador de sentimientos\n",
      "\n",
      "my_string:  Este es un product muy bueno, excelente, maravilloso \n",
      "score: 3 \n",
      "resultado: Positivo\n"
     ]
    }
   ],
   "source": [
    "my_string = \"\"\" Este es un product muy bueno, excelente, maravilloso \"\"\" \n",
    "positive_words = [\"bueno\", \"excelente\", \"maravilloso\"]\n",
    "negative_words = [\"defectuoso\", \"malo\", \"horrible\",\"terrible\", \"pésimo\"] \n",
    "\n",
    "score = 0\n",
    "for positive_word in positive_words:    \n",
    "    score = score + my_string.count(positive_word)    \n",
    "    \n",
    "for negative_word in negative_words:    \n",
    "    score = score - my_string.count(negative_word)   \n",
    "    \n",
    "if score == 0:    \n",
    "    result = \"Neutro\" \n",
    "\n",
    "if score > 0:    \n",
    "    result = \"Positivo\" \n",
    "    \n",
    "if score < 0:    \n",
    "    result = \"Negativo\"    \n",
    "    \n",
    "print(\"Analizador de sentimientos\\n\") \n",
    "\n",
    "print(\"my_string: {}\\nscore: {} \\nresultado: {}\".format(my_string, score, result))\n",
    "\n",
    "\n",
    "\n",
    "\n",
    "\"\"\"Este código es un ejemplo simple de un analizador de sentimientos que busca palabras positivas y negativas en una \n",
    "   cadena de texto (my_string) y calcula un puntaje basado en la presencia de esas palabras. Aquí está la explicación \n",
    "   paso a paso:\n",
    "\n",
    "1.-Se define una cadena de texto (my_string) que contiene un comentario o descripción. En este caso, la cadena es: \n",
    "   \"Este es un producto muy bueno, excelente, maravilloso\". Esta es la entrada que se analizará.\n",
    "\n",
    "2.-Se definen dos listas de palabras: positive_words (palabras positivas) y negative_words (palabras negativas). \n",
    "   En este caso, la lista positive_words contiene las palabras \"bueno\", \"excelente\" y \"maravilloso\", mientras que la\n",
    "   lista negative_words contiene las palabras \"defectuoso\", \"malo\" y \"horrible\".\n",
    "\n",
    "3.-Se inicializa una variable llamada score con un valor de 0. Esta variable se utiliza para llevar la cuenta de las \n",
    "   palabras positivas y negativas encontradas en la cadena my_string.\n",
    "\n",
    "4.-Se realiza un bucle for que recorre cada palabra en la lista positive_words. Dentro del bucle, se utiliza el \n",
    "   método count() de la cadena my_string para contar cuántas veces aparece esa palabra en my_string, y ese valor se suma \n",
    "   al score.\n",
    "\n",
    "5.-Se realiza un bucle for similar para recorrer cada palabra en la lista negative_words. Dentro del bucle, se \n",
    "   utiliza el método count() de la cadena my_string para contar cuántas veces aparece esa palabra en my_string, \n",
    "   y ese valor se resta al score.\n",
    "\n",
    "6.-Después de los bucles for, se realizan comparaciones para determinar si el score es positivo, negativo o neutro.\n",
    "\n",
    "7.-Si el score es igual a 0, significa que no se encontraron palabras positivas ni negativas, por lo tanto, \n",
    "   el result se establece en \"Neutro\".\n",
    "\n",
    "8.-Si el score es mayor que 0, significa que se encontraron más palabras positivas que negativas, por lo tanto, \n",
    "   el result se establece en \"Positivo\".\n",
    "\n",
    "9.-Si el score es menor que 0, significa que se encontraron más palabras negativas que positivas, por lo tanto, \n",
    "   el result se establece en \"Negativo\".\n",
    "\n",
    "10.-Por último, se imprime el resultado del análisis de sentimientos, mostrando la cadena my_string, el score calculado\n",
    "    y el result.\n",
    "\n",
    "  En resumen, este código analiza un texto en busca de palabras positivas y negativas, cuenta la cantidad de ocurrencias \n",
    "  de cada tipo de palabra y genera un resultado (positivo, negativo o neutro) en función del balance entre las palabras \n",
    "  encontradas.\"\"\""
   ]
  }
 ],
 "metadata": {
  "kernelspec": {
   "display_name": "Python 3 (ipykernel)",
   "language": "python",
   "name": "python3"
  },
  "language_info": {
   "codemirror_mode": {
    "name": "ipython",
    "version": 3
   },
   "file_extension": ".py",
   "mimetype": "text/x-python",
   "name": "python",
   "nbconvert_exporter": "python",
   "pygments_lexer": "ipython3",
   "version": "3.11.3"
  }
 },
 "nbformat": 4,
 "nbformat_minor": 5
}
