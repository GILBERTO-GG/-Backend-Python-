{
 "cells": [
  {
   "cell_type": "markdown",
   "id": "40c3f46c",
   "metadata": {},
   "source": [
    "# Tipos de Enteros"
   ]
  },
  {
   "cell_type": "code",
   "execution_count": null,
   "id": "2837c962",
   "metadata": {},
   "outputs": [],
   "source": [
    "--Forma Decimal\n",
    "--Forma Binaria\n",
    "--Forma Octal\n",
    "--Forma Hexadecimal"
   ]
  },
  {
   "cell_type": "markdown",
   "id": "9ccd73a7",
   "metadata": {},
   "source": [
    "# Forma Decimal"
   ]
  },
  {
   "cell_type": "code",
   "execution_count": 1,
   "id": "cc29f3c7",
   "metadata": {},
   "outputs": [
    {
     "name": "stdout",
     "output_type": "stream",
     "text": [
      "El valor de my_decimal_number es:   55\n"
     ]
    }
   ],
   "source": [
    "my_decimal_number = 55\n",
    "print(\"El valor de my_decimal_number es:  \", my_decimal_number)"
   ]
  },
  {
   "cell_type": "markdown",
   "id": "dd4cdd65",
   "metadata": {},
   "source": [
    "# Forma Binaria"
   ]
  },
  {
   "cell_type": "markdown",
   "id": "fc9447d5",
   "metadata": {},
   "source": [
    "--Código organizado en bytes\n",
    "--Lenguaje binario\n",
    "--Lenguaje de las máquinas (1 y 0)\n",
    "\n",
    "##Valor Base:  2\n",
    "\n",
    "--Solamente acepta dos dígitos (1 y 0)\n",
    "--Usamos el prefijo '0b' ó '0B'  "
   ]
  },
  {
   "cell_type": "code",
   "execution_count": 4,
   "id": "f355b397",
   "metadata": {},
   "outputs": [
    {
     "name": "stdout",
     "output_type": "stream",
     "text": [
      "El valor de my_decimal_number es:   3\n"
     ]
    }
   ],
   "source": [
    "my_binary_number = 0b11\n",
    "print(\"El valor de my_binary_number es:  \", my_binary_number)"
   ]
  },
  {
   "cell_type": "markdown",
   "id": "11fb9d8c",
   "metadata": {},
   "source": [
    "# Forma Octal"
   ]
  },
  {
   "cell_type": "code",
   "execution_count": null,
   "id": "cdfc65cb",
   "metadata": {},
   "outputs": [],
   "source": [
    "Valor Base: 8\n",
    "    \n",
    "--Solamente acepta dígitos del 0 al 7\n",
    "--Usamos el prefijo '0o' ó '0O' "
   ]
  },
  {
   "cell_type": "code",
   "execution_count": 5,
   "id": "5f585ff7",
   "metadata": {},
   "outputs": [
    {
     "name": "stdout",
     "output_type": "stream",
     "text": [
      "El valor de my_octal_number es:   15\n"
     ]
    }
   ],
   "source": [
    "my_octal_number = 0o17\n",
    "print(\"El valor de my_octal_number es:  \", my_octal_number)"
   ]
  },
  {
   "cell_type": "markdown",
   "id": "625e58a8",
   "metadata": {},
   "source": [
    "# Forma Hexadecimal"
   ]
  },
  {
   "cell_type": "markdown",
   "id": "1e3991d8",
   "metadata": {},
   "source": [
    "#Valor Base:  16\n",
    "    \n",
    "--Acepta dígitos del 0 al 9\n",
    "--Acepta letras de la 'a/A' a la 'f/F'\n",
    "--Usamos el prefijo '0x' ó '0X'\n",
    "-0\n",
    "-1\n",
    "-2\n",
    "-3\n",
    "-4\n",
    "-5\n",
    "-6\n",
    "-7\n",
    "-8\n",
    "-9\n",
    "-A=10\n",
    "-B=11\n",
    "-C=12\n",
    "-D=13\n",
    "-E=14\n",
    "-F=15"
   ]
  },
  {
   "cell_type": "code",
   "execution_count": 7,
   "id": "e206ea8f",
   "metadata": {},
   "outputs": [
    {
     "name": "stdout",
     "output_type": "stream",
     "text": [
      "El valor de my_hex_number es:   23\n"
     ]
    }
   ],
   "source": [
    "my_hex_number = 0x17\n",
    "print(\"El valor de my_hex_number es:  \", my_hex_number)"
   ]
  },
  {
   "cell_type": "code",
   "execution_count": 8,
   "id": "00028102",
   "metadata": {},
   "outputs": [
    {
     "name": "stdout",
     "output_type": "stream",
     "text": [
      "El valor de my_hex_number es:   28\n"
     ]
    }
   ],
   "source": [
    "my_hex_number = 0x1C\n",
    "print(\"El valor de my_hex_number es:  \", my_hex_number)"
   ]
  }
 ],
 "metadata": {
  "kernelspec": {
   "display_name": "Python 3 (ipykernel)",
   "language": "python",
   "name": "python3"
  },
  "language_info": {
   "codemirror_mode": {
    "name": "ipython",
    "version": 3
   },
   "file_extension": ".py",
   "mimetype": "text/x-python",
   "name": "python",
   "nbconvert_exporter": "python",
   "pygments_lexer": "ipython3",
   "version": "3.11.3"
  }
 },
 "nbformat": 4,
 "nbformat_minor": 5
}
