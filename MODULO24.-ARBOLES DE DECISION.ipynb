{
 "cells": [
  {
   "cell_type": "code",
   "execution_count": 1,
   "id": "bfa86bf3",
   "metadata": {},
   "outputs": [],
   "source": [
    "import pandas as pd \n",
    "from sklearn.tree import DecisionTreeClassifier\n",
    "from sklearn.model_selection import train_test_split\n",
    "from sklearn import metrics\n",
    "import matplotlib.pyplot as plat\n",
    "import warnings\n",
    "warnings.filterwarnings(\"ignore\")\n",
    "\n",
    "import os\n",
    "os.chdir(\"/Users/gilgu/OneDrive/Escritorio\")"
   ]
  },
  {
   "cell_type": "markdown",
   "id": "61e33330",
   "metadata": {},
   "source": [
    "# Ejemplo 1"
   ]
  },
  {
   "cell_type": "code",
   "execution_count": 2,
   "id": "241b61ac",
   "metadata": {},
   "outputs": [
    {
     "data": {
      "text/html": [
       "<div>\n",
       "<style scoped>\n",
       "    .dataframe tbody tr th:only-of-type {\n",
       "        vertical-align: middle;\n",
       "    }\n",
       "\n",
       "    .dataframe tbody tr th {\n",
       "        vertical-align: top;\n",
       "    }\n",
       "\n",
       "    .dataframe thead th {\n",
       "        text-align: right;\n",
       "    }\n",
       "</style>\n",
       "<table border=\"1\" class=\"dataframe\">\n",
       "  <thead>\n",
       "    <tr style=\"text-align: right;\">\n",
       "      <th></th>\n",
       "      <th>ID</th>\n",
       "      <th>Reembolso</th>\n",
       "      <th>EdoCivil</th>\n",
       "      <th>Ingresos</th>\n",
       "      <th>Fraude</th>\n",
       "    </tr>\n",
       "  </thead>\n",
       "  <tbody>\n",
       "    <tr>\n",
       "      <th>0</th>\n",
       "      <td>1</td>\n",
       "      <td>Sí</td>\n",
       "      <td>Soltero</td>\n",
       "      <td>125000</td>\n",
       "      <td>No</td>\n",
       "    </tr>\n",
       "    <tr>\n",
       "      <th>1</th>\n",
       "      <td>2</td>\n",
       "      <td>No</td>\n",
       "      <td>Casado</td>\n",
       "      <td>100000</td>\n",
       "      <td>No</td>\n",
       "    </tr>\n",
       "    <tr>\n",
       "      <th>2</th>\n",
       "      <td>3</td>\n",
       "      <td>No</td>\n",
       "      <td>Soltero</td>\n",
       "      <td>70000</td>\n",
       "      <td>No</td>\n",
       "    </tr>\n",
       "    <tr>\n",
       "      <th>3</th>\n",
       "      <td>4</td>\n",
       "      <td>Sí</td>\n",
       "      <td>Casado</td>\n",
       "      <td>120000</td>\n",
       "      <td>No</td>\n",
       "    </tr>\n",
       "    <tr>\n",
       "      <th>4</th>\n",
       "      <td>5</td>\n",
       "      <td>No</td>\n",
       "      <td>Divorciado</td>\n",
       "      <td>95000</td>\n",
       "      <td>Sí</td>\n",
       "    </tr>\n",
       "  </tbody>\n",
       "</table>\n",
       "</div>"
      ],
      "text/plain": [
       "   ID Reembolso    EdoCivil  Ingresos Fraude\n",
       "0   1        Sí     Soltero    125000     No\n",
       "1   2        No      Casado    100000     No\n",
       "2   3        No     Soltero     70000     No\n",
       "3   4        Sí      Casado    120000     No\n",
       "4   5        No  Divorciado     95000     Sí"
      ]
     },
     "execution_count": 2,
     "metadata": {},
     "output_type": "execute_result"
    }
   ],
   "source": [
    "fraudes = pd.read_csv(\"Fraude.csv\")\n",
    "fraudes.head()"
   ]
  },
  {
   "cell_type": "markdown",
   "id": "810755e5",
   "metadata": {},
   "source": [
    "# División de quienes serán la matrix X de variables predictoras y el vector y de la variable que se presenta en esta situación:"
   ]
  },
  {
   "cell_type": "markdown",
   "id": "1bebb9c8",
   "metadata": {},
   "source": [
    "# Columnas que se van a utilizar:"
   ]
  },
  {
   "cell_type": "code",
   "execution_count": 3,
   "id": "20d1bd54",
   "metadata": {},
   "outputs": [],
   "source": [
    "feature_cols = [\"Reembolso\", \"EdoCivil\", \"Ingresos\"]\n",
    "X = fraudes[feature_cols].values      #<----- para prevenir un texto enmascarado como número, que lo convierta a número.\n",
    "y = fraudes.Fraude"
   ]
  },
  {
   "cell_type": "markdown",
   "id": "eb77fce0",
   "metadata": {},
   "source": [
    "# Codificar las variables predictoras "
   ]
  },
  {
   "cell_type": "code",
   "execution_count": null,
   "id": "09f44e5d",
   "metadata": {},
   "outputs": [],
   "source": [
    "#Eliminar textos por que necesitamos números para hacer predicciones."
   ]
  },
  {
   "cell_type": "code",
   "execution_count": 4,
   "id": "e3920bd5",
   "metadata": {},
   "outputs": [],
   "source": [
    "from sklearn import preprocessing\n",
    "\n",
    "Cod_Reembolso = preprocessing.LabelEncoder()     #va a hacer la codificación de etiquetas\n",
    "Cod_Reembolso.fit([\"Sí\", \"No\"])\n",
    "X[:,0] = Cod_Reembolso.transform(X[:,0])\n",
    "\n",
    "Cod_EdoCivil = preprocessing.LabelEncoder()\n",
    "Cod_EdoCivil.fit([\"Soltero\", \"Casado\", \"Divorciado\"])\n",
    "X[:,1] = Cod_EdoCivil.transform(X[:,1])"
   ]
  },
  {
   "cell_type": "code",
   "execution_count": 5,
   "id": "bf66cf1b",
   "metadata": {},
   "outputs": [
    {
     "data": {
      "text/plain": [
       "array([[1, 2, 125000],\n",
       "       [0, 0, 100000],\n",
       "       [0, 2, 70000],\n",
       "       [1, 0, 120000],\n",
       "       [0, 1, 95000]], dtype=object)"
      ]
     },
     "execution_count": 5,
     "metadata": {},
     "output_type": "execute_result"
    }
   ],
   "source": [
    "X[0:5] "
   ]
  },
  {
   "cell_type": "code",
   "execution_count": 6,
   "id": "8243f2a9",
   "metadata": {},
   "outputs": [
    {
     "data": {
      "text/plain": [
       "0    No\n",
       "1    No\n",
       "2    No\n",
       "3    No\n",
       "4    Sí\n",
       "Name: Fraude, dtype: object"
      ]
     },
     "execution_count": 6,
     "metadata": {},
     "output_type": "execute_result"
    }
   ],
   "source": [
    "y[0:5]"
   ]
  },
  {
   "cell_type": "markdown",
   "id": "52dd8421",
   "metadata": {},
   "source": [
    "# Creación de grupos de entrenamiento y prueba."
   ]
  },
  {
   "cell_type": "code",
   "execution_count": null,
   "id": "4150df6d",
   "metadata": {},
   "outputs": [],
   "source": [
    "#¿Qué porcentaje asignar a una base tan pequeña?"
   ]
  },
  {
   "cell_type": "code",
   "execution_count": 7,
   "id": "a1d3889e",
   "metadata": {},
   "outputs": [],
   "source": [
    "X_train, X_test, y_train, y_test = train_test_split(X, y, test_size = 0.3, random_state = 1)"
   ]
  },
  {
   "cell_type": "markdown",
   "id": "0b1b0499",
   "metadata": {},
   "source": [
    "# Crear objeto de clasificación del árbol de decisión:"
   ]
  },
  {
   "cell_type": "code",
   "execution_count": 8,
   "id": "6e127c83",
   "metadata": {},
   "outputs": [],
   "source": [
    "clf = DecisionTreeClassifier()\n",
    "\n",
    "# Aplicación del algoritmo de árboles de decisión a los grupos de entrenamiento\n",
    "\n",
    "clf = clf.fit(X_train, y_train)\n",
    "\n",
    "# Predicción de la respuesta para el grupo de prueba\n",
    "\n",
    "y_pred = clf.predict(X_test)"
   ]
  },
  {
   "cell_type": "code",
   "execution_count": 9,
   "id": "29c5ed18",
   "metadata": {},
   "outputs": [
    {
     "data": {
      "text/plain": [
       "array([[0, 2, 70000],\n",
       "       [0, 2, 90000],\n",
       "       [1, 1, 220000]], dtype=object)"
      ]
     },
     "execution_count": 9,
     "metadata": {},
     "output_type": "execute_result"
    }
   ],
   "source": [
    "X_test                    #<---- cuales fueron los datos de prueba"
   ]
  },
  {
   "cell_type": "code",
   "execution_count": 10,
   "id": "6cb74f90",
   "metadata": {},
   "outputs": [
    {
     "data": {
      "text/plain": [
       "array(['Sí', 'Sí', 'No'], dtype=object)"
      ]
     },
     "execution_count": 10,
     "metadata": {},
     "output_type": "execute_result"
    }
   ],
   "source": [
    "y_pred         #<----    que fué lo que predijo para cada uno de ellos"
   ]
  },
  {
   "cell_type": "code",
   "execution_count": 11,
   "id": "989fecca",
   "metadata": {},
   "outputs": [
    {
     "data": {
      "text/plain": [
       "2    No\n",
       "9    Sí\n",
       "6    No\n",
       "Name: Fraude, dtype: object"
      ]
     },
     "execution_count": 11,
     "metadata": {},
     "output_type": "execute_result"
    }
   ],
   "source": [
    "y_test          # cuales eran los valores reales"
   ]
  },
  {
   "cell_type": "markdown",
   "id": "4e4fd0d0",
   "metadata": {},
   "source": [
    "# Matriz de Confusión"
   ]
  },
  {
   "cell_type": "code",
   "execution_count": 12,
   "id": "24db5594",
   "metadata": {},
   "outputs": [
    {
     "data": {
      "text/plain": [
       "array([[1, 1],\n",
       "       [0, 1]], dtype=int64)"
      ]
     },
     "execution_count": 12,
     "metadata": {},
     "output_type": "execute_result"
    }
   ],
   "source": [
    "from sklearn.metrics import confusion_matrix\n",
    "cm = confusion_matrix(y_test, y_pred)\n",
    "cm"
   ]
  },
  {
   "cell_type": "markdown",
   "id": "5fc28ae9",
   "metadata": {},
   "source": [
    "# Estadísticas de desempeño"
   ]
  },
  {
   "cell_type": "code",
   "execution_count": 13,
   "id": "94997d95",
   "metadata": {},
   "outputs": [
    {
     "name": "stdout",
     "output_type": "stream",
     "text": [
      "              precision    recall  f1-score   support\n",
      "\n",
      "          No       1.00      0.50      0.67         2\n",
      "          Sí       0.50      1.00      0.67         1\n",
      "\n",
      "    accuracy                           0.67         3\n",
      "   macro avg       0.75      0.75      0.67         3\n",
      "weighted avg       0.83      0.67      0.67         3\n",
      "\n"
     ]
    }
   ],
   "source": [
    "from sklearn.metrics import classification_report\n",
    "print(classification_report(y_test, y_pred))"
   ]
  },
  {
   "cell_type": "markdown",
   "id": "d2cd0aed",
   "metadata": {},
   "source": [
    "# Instalación de Bibliotecas necesarias para graficar el árbol de decisión"
   ]
  },
  {
   "cell_type": "code",
   "execution_count": 17,
   "id": "850df4f0",
   "metadata": {},
   "outputs": [
    {
     "name": "stdout",
     "output_type": "stream",
     "text": [
      "Collecting graphviz\n",
      "  Downloading graphviz-0.20.1-py3-none-any.whl.metadata (12 kB)\n",
      "Downloading graphviz-0.20.1-py3-none-any.whl (47 kB)\n",
      "   ---------------------------------------- 0.0/47.0 kB ? eta -:--:--\n",
      "   ---------------------------------- ----- 41.0/47.0 kB 991.0 kB/s eta 0:00:01\n",
      "   ---------------------------------------- 47.0/47.0 kB 584.1 kB/s eta 0:00:00\n",
      "Installing collected packages: graphviz\n",
      "Successfully installed graphviz-0.20.1\n",
      "Collecting pydotplus\n",
      "  Downloading pydotplus-2.0.2.tar.gz (278 kB)\n",
      "     ---------------------------------------- 0.0/278.7 kB ? eta -:--:--\n",
      "     ----- ------------------------------- 41.0/278.7 kB 960.0 kB/s eta 0:00:01\n",
      "     -------------------------- ----------- 194.6/278.7 kB 2.0 MB/s eta 0:00:01\n",
      "     -------------------------------------- 278.7/278.7 kB 2.1 MB/s eta 0:00:00\n",
      "  Installing build dependencies: started\n",
      "  Installing build dependencies: finished with status 'done'\n",
      "  Getting requirements to build wheel: started\n",
      "  Getting requirements to build wheel: finished with status 'done'\n",
      "  Installing backend dependencies: started\n",
      "  Installing backend dependencies: finished with status 'done'\n",
      "  Preparing metadata (pyproject.toml): started\n",
      "  Preparing metadata (pyproject.toml): finished with status 'done'\n",
      "Requirement already satisfied: pyparsing>=2.0.1 in c:\\users\\gilgu\\appdata\\local\\programs\\python\\python311\\lib\\site-packages (from pydotplus) (3.0.9)\n",
      "Building wheels for collected packages: pydotplus\n",
      "  Building wheel for pydotplus (pyproject.toml): started\n",
      "  Building wheel for pydotplus (pyproject.toml): finished with status 'done'\n",
      "  Created wheel for pydotplus: filename=pydotplus-2.0.2-py3-none-any.whl size=24575 sha256=e9ca45729ab4611822ca5d511425d00b7e84a586f4a53773847bf90db1baa9bc\n",
      "  Stored in directory: c:\\users\\gilgu\\appdata\\local\\pip\\cache\\wheels\\bd\\ce\\e8\\ff9d9c699514922f57caa22fbd55b0a32761114b4c4acc9e03\n",
      "Successfully built pydotplus\n",
      "Installing collected packages: pydotplus\n",
      "Successfully installed pydotplus-2.0.2\n"
     ]
    }
   ],
   "source": [
    "!pip install graphviz\n",
    "!pip install pydotplus"
   ]
  },
  {
   "cell_type": "code",
   "execution_count": 14,
   "id": "20abecc9",
   "metadata": {},
   "outputs": [],
   "source": [
    "from sklearn import tree\n",
    "import graphviz\n",
    "import pydotplus\n",
    "from PIL import Image "
   ]
  },
  {
   "cell_type": "markdown",
   "id": "fde66ce5",
   "metadata": {},
   "source": [
    "# Creación de información para el árbol (reglas de decisión)"
   ]
  },
  {
   "cell_type": "code",
   "execution_count": 15,
   "id": "4162e6b6",
   "metadata": {},
   "outputs": [],
   "source": [
    "dot_data = tree.export_graphviz(clf, out_file=None, feature_names = feature_cols, class_names = [\"No fraude\", \"Fraude\"])\n",
    "\n",
    "#Creación de la gráfica del árbol \n",
    "\n",
    "graph = pydotplus.graph_from_dot_data(dot_data)"
   ]
  },
  {
   "cell_type": "markdown",
   "id": "af2d061c",
   "metadata": {},
   "source": [
    "# Creación del árbol en formato PDF"
   ]
  },
  {
   "cell_type": "code",
   "execution_count": 17,
   "id": "9836b02b",
   "metadata": {},
   "outputs": [],
   "source": [
    "graph.write_pdf(\"fraudes.pdf\")\n",
    "\n",
    "# Creación del árbol en formato PNG\n",
    "\n",
    "graph.write_png(\"fraudes.png\")\n",
    "\n",
    "image = Image.open(\"fraudes.png\")\n",
    "image.show()"
   ]
  },
  {
   "cell_type": "markdown",
   "id": "5fe0cdb3",
   "metadata": {},
   "source": [
    "# Ejemplo 2"
   ]
  },
  {
   "cell_type": "code",
   "execution_count": 20,
   "id": "3fbc9402",
   "metadata": {},
   "outputs": [
    {
     "data": {
      "text/html": [
       "<div>\n",
       "<style scoped>\n",
       "    .dataframe tbody tr th:only-of-type {\n",
       "        vertical-align: middle;\n",
       "    }\n",
       "\n",
       "    .dataframe tbody tr th {\n",
       "        vertical-align: top;\n",
       "    }\n",
       "\n",
       "    .dataframe thead th {\n",
       "        text-align: right;\n",
       "    }\n",
       "</style>\n",
       "<table border=\"1\" class=\"dataframe\">\n",
       "  <thead>\n",
       "    <tr style=\"text-align: right;\">\n",
       "      <th></th>\n",
       "      <th>Pregnancies</th>\n",
       "      <th>Glucose</th>\n",
       "      <th>BloodPressure</th>\n",
       "      <th>SkinThickness</th>\n",
       "      <th>Insulin</th>\n",
       "      <th>BMI</th>\n",
       "      <th>DiabetesPedigreeFunction</th>\n",
       "      <th>Age</th>\n",
       "      <th>Outcome</th>\n",
       "    </tr>\n",
       "  </thead>\n",
       "  <tbody>\n",
       "    <tr>\n",
       "      <th>0</th>\n",
       "      <td>6</td>\n",
       "      <td>148</td>\n",
       "      <td>72</td>\n",
       "      <td>35</td>\n",
       "      <td>0</td>\n",
       "      <td>33.6</td>\n",
       "      <td>0.627</td>\n",
       "      <td>50</td>\n",
       "      <td>1</td>\n",
       "    </tr>\n",
       "    <tr>\n",
       "      <th>1</th>\n",
       "      <td>1</td>\n",
       "      <td>85</td>\n",
       "      <td>66</td>\n",
       "      <td>29</td>\n",
       "      <td>0</td>\n",
       "      <td>26.6</td>\n",
       "      <td>0.351</td>\n",
       "      <td>31</td>\n",
       "      <td>0</td>\n",
       "    </tr>\n",
       "    <tr>\n",
       "      <th>2</th>\n",
       "      <td>8</td>\n",
       "      <td>183</td>\n",
       "      <td>64</td>\n",
       "      <td>0</td>\n",
       "      <td>0</td>\n",
       "      <td>23.3</td>\n",
       "      <td>0.672</td>\n",
       "      <td>32</td>\n",
       "      <td>1</td>\n",
       "    </tr>\n",
       "    <tr>\n",
       "      <th>3</th>\n",
       "      <td>1</td>\n",
       "      <td>89</td>\n",
       "      <td>66</td>\n",
       "      <td>23</td>\n",
       "      <td>94</td>\n",
       "      <td>28.1</td>\n",
       "      <td>0.167</td>\n",
       "      <td>21</td>\n",
       "      <td>0</td>\n",
       "    </tr>\n",
       "    <tr>\n",
       "      <th>4</th>\n",
       "      <td>0</td>\n",
       "      <td>137</td>\n",
       "      <td>40</td>\n",
       "      <td>35</td>\n",
       "      <td>168</td>\n",
       "      <td>43.1</td>\n",
       "      <td>2.288</td>\n",
       "      <td>33</td>\n",
       "      <td>1</td>\n",
       "    </tr>\n",
       "  </tbody>\n",
       "</table>\n",
       "</div>"
      ],
      "text/plain": [
       "   Pregnancies  Glucose  BloodPressure  SkinThickness  Insulin   BMI  \\\n",
       "0            6      148             72             35        0  33.6   \n",
       "1            1       85             66             29        0  26.6   \n",
       "2            8      183             64              0        0  23.3   \n",
       "3            1       89             66             23       94  28.1   \n",
       "4            0      137             40             35      168  43.1   \n",
       "\n",
       "   DiabetesPedigreeFunction  Age  Outcome  \n",
       "0                     0.627   50        1  \n",
       "1                     0.351   31        0  \n",
       "2                     0.672   32        1  \n",
       "3                     0.167   21        0  \n",
       "4                     2.288   33        1  "
      ]
     },
     "execution_count": 20,
     "metadata": {},
     "output_type": "execute_result"
    }
   ],
   "source": [
    "pima = pd.read_csv(\"diabetes.csv\")\n",
    "pima.head()"
   ]
  },
  {
   "cell_type": "code",
   "execution_count": 19,
   "id": "0162fe6a",
   "metadata": {},
   "outputs": [],
   "source": [
    "col_names = [\"pregnant\", \"glucose\", \"bp\", \"skin\", \"insulin\", \"bmi\", \"pedigree\", \"age\", \"label\"]"
   ]
  },
  {
   "cell_type": "code",
   "execution_count": 21,
   "id": "975ab7b8",
   "metadata": {},
   "outputs": [
    {
     "data": {
      "text/html": [
       "<div>\n",
       "<style scoped>\n",
       "    .dataframe tbody tr th:only-of-type {\n",
       "        vertical-align: middle;\n",
       "    }\n",
       "\n",
       "    .dataframe tbody tr th {\n",
       "        vertical-align: top;\n",
       "    }\n",
       "\n",
       "    .dataframe thead th {\n",
       "        text-align: right;\n",
       "    }\n",
       "</style>\n",
       "<table border=\"1\" class=\"dataframe\">\n",
       "  <thead>\n",
       "    <tr style=\"text-align: right;\">\n",
       "      <th></th>\n",
       "      <th>pregnant</th>\n",
       "      <th>glucose</th>\n",
       "      <th>bp</th>\n",
       "      <th>skin</th>\n",
       "      <th>insulin</th>\n",
       "      <th>bmi</th>\n",
       "      <th>pedigree</th>\n",
       "      <th>age</th>\n",
       "      <th>label</th>\n",
       "    </tr>\n",
       "  </thead>\n",
       "  <tbody>\n",
       "    <tr>\n",
       "      <th>0</th>\n",
       "      <td>Pregnancies</td>\n",
       "      <td>Glucose</td>\n",
       "      <td>BloodPressure</td>\n",
       "      <td>SkinThickness</td>\n",
       "      <td>Insulin</td>\n",
       "      <td>BMI</td>\n",
       "      <td>DiabetesPedigreeFunction</td>\n",
       "      <td>Age</td>\n",
       "      <td>Outcome</td>\n",
       "    </tr>\n",
       "    <tr>\n",
       "      <th>1</th>\n",
       "      <td>6</td>\n",
       "      <td>148</td>\n",
       "      <td>72</td>\n",
       "      <td>35</td>\n",
       "      <td>0</td>\n",
       "      <td>33.6</td>\n",
       "      <td>0.627</td>\n",
       "      <td>50</td>\n",
       "      <td>1</td>\n",
       "    </tr>\n",
       "    <tr>\n",
       "      <th>2</th>\n",
       "      <td>1</td>\n",
       "      <td>85</td>\n",
       "      <td>66</td>\n",
       "      <td>29</td>\n",
       "      <td>0</td>\n",
       "      <td>26.6</td>\n",
       "      <td>0.351</td>\n",
       "      <td>31</td>\n",
       "      <td>0</td>\n",
       "    </tr>\n",
       "    <tr>\n",
       "      <th>3</th>\n",
       "      <td>8</td>\n",
       "      <td>183</td>\n",
       "      <td>64</td>\n",
       "      <td>0</td>\n",
       "      <td>0</td>\n",
       "      <td>23.3</td>\n",
       "      <td>0.672</td>\n",
       "      <td>32</td>\n",
       "      <td>1</td>\n",
       "    </tr>\n",
       "    <tr>\n",
       "      <th>4</th>\n",
       "      <td>1</td>\n",
       "      <td>89</td>\n",
       "      <td>66</td>\n",
       "      <td>23</td>\n",
       "      <td>94</td>\n",
       "      <td>28.1</td>\n",
       "      <td>0.167</td>\n",
       "      <td>21</td>\n",
       "      <td>0</td>\n",
       "    </tr>\n",
       "  </tbody>\n",
       "</table>\n",
       "</div>"
      ],
      "text/plain": [
       "      pregnant  glucose             bp           skin  insulin   bmi  \\\n",
       "0  Pregnancies  Glucose  BloodPressure  SkinThickness  Insulin   BMI   \n",
       "1            6      148             72             35        0  33.6   \n",
       "2            1       85             66             29        0  26.6   \n",
       "3            8      183             64              0        0  23.3   \n",
       "4            1       89             66             23       94  28.1   \n",
       "\n",
       "                   pedigree  age    label  \n",
       "0  DiabetesPedigreeFunction  Age  Outcome  \n",
       "1                     0.627   50        1  \n",
       "2                     0.351   31        0  \n",
       "3                     0.672   32        1  \n",
       "4                     0.167   21        0  "
      ]
     },
     "execution_count": 21,
     "metadata": {},
     "output_type": "execute_result"
    }
   ],
   "source": [
    "pima = pd.read_csv(\"diabetes.csv\", header=None, names = col_names)\n",
    "pima.head()"
   ]
  },
  {
   "cell_type": "code",
   "execution_count": 22,
   "id": "80b9c136",
   "metadata": {},
   "outputs": [
    {
     "data": {
      "text/html": [
       "<div>\n",
       "<style scoped>\n",
       "    .dataframe tbody tr th:only-of-type {\n",
       "        vertical-align: middle;\n",
       "    }\n",
       "\n",
       "    .dataframe tbody tr th {\n",
       "        vertical-align: top;\n",
       "    }\n",
       "\n",
       "    .dataframe thead th {\n",
       "        text-align: right;\n",
       "    }\n",
       "</style>\n",
       "<table border=\"1\" class=\"dataframe\">\n",
       "  <thead>\n",
       "    <tr style=\"text-align: right;\">\n",
       "      <th></th>\n",
       "      <th>pregnant</th>\n",
       "      <th>glucose</th>\n",
       "      <th>bp</th>\n",
       "      <th>skin</th>\n",
       "      <th>insulin</th>\n",
       "      <th>bmi</th>\n",
       "      <th>pedigree</th>\n",
       "      <th>age</th>\n",
       "      <th>label</th>\n",
       "    </tr>\n",
       "  </thead>\n",
       "  <tbody>\n",
       "    <tr>\n",
       "      <th>1</th>\n",
       "      <td>6</td>\n",
       "      <td>148</td>\n",
       "      <td>72</td>\n",
       "      <td>35</td>\n",
       "      <td>0</td>\n",
       "      <td>33.6</td>\n",
       "      <td>0.627</td>\n",
       "      <td>50</td>\n",
       "      <td>1</td>\n",
       "    </tr>\n",
       "    <tr>\n",
       "      <th>2</th>\n",
       "      <td>1</td>\n",
       "      <td>85</td>\n",
       "      <td>66</td>\n",
       "      <td>29</td>\n",
       "      <td>0</td>\n",
       "      <td>26.6</td>\n",
       "      <td>0.351</td>\n",
       "      <td>31</td>\n",
       "      <td>0</td>\n",
       "    </tr>\n",
       "    <tr>\n",
       "      <th>3</th>\n",
       "      <td>8</td>\n",
       "      <td>183</td>\n",
       "      <td>64</td>\n",
       "      <td>0</td>\n",
       "      <td>0</td>\n",
       "      <td>23.3</td>\n",
       "      <td>0.672</td>\n",
       "      <td>32</td>\n",
       "      <td>1</td>\n",
       "    </tr>\n",
       "    <tr>\n",
       "      <th>4</th>\n",
       "      <td>1</td>\n",
       "      <td>89</td>\n",
       "      <td>66</td>\n",
       "      <td>23</td>\n",
       "      <td>94</td>\n",
       "      <td>28.1</td>\n",
       "      <td>0.167</td>\n",
       "      <td>21</td>\n",
       "      <td>0</td>\n",
       "    </tr>\n",
       "    <tr>\n",
       "      <th>5</th>\n",
       "      <td>0</td>\n",
       "      <td>137</td>\n",
       "      <td>40</td>\n",
       "      <td>35</td>\n",
       "      <td>168</td>\n",
       "      <td>43.1</td>\n",
       "      <td>2.288</td>\n",
       "      <td>33</td>\n",
       "      <td>1</td>\n",
       "    </tr>\n",
       "    <tr>\n",
       "      <th>...</th>\n",
       "      <td>...</td>\n",
       "      <td>...</td>\n",
       "      <td>...</td>\n",
       "      <td>...</td>\n",
       "      <td>...</td>\n",
       "      <td>...</td>\n",
       "      <td>...</td>\n",
       "      <td>...</td>\n",
       "      <td>...</td>\n",
       "    </tr>\n",
       "    <tr>\n",
       "      <th>764</th>\n",
       "      <td>10</td>\n",
       "      <td>101</td>\n",
       "      <td>76</td>\n",
       "      <td>48</td>\n",
       "      <td>180</td>\n",
       "      <td>32.9</td>\n",
       "      <td>0.171</td>\n",
       "      <td>63</td>\n",
       "      <td>0</td>\n",
       "    </tr>\n",
       "    <tr>\n",
       "      <th>765</th>\n",
       "      <td>2</td>\n",
       "      <td>122</td>\n",
       "      <td>70</td>\n",
       "      <td>27</td>\n",
       "      <td>0</td>\n",
       "      <td>36.8</td>\n",
       "      <td>0.34</td>\n",
       "      <td>27</td>\n",
       "      <td>0</td>\n",
       "    </tr>\n",
       "    <tr>\n",
       "      <th>766</th>\n",
       "      <td>5</td>\n",
       "      <td>121</td>\n",
       "      <td>72</td>\n",
       "      <td>23</td>\n",
       "      <td>112</td>\n",
       "      <td>26.2</td>\n",
       "      <td>0.245</td>\n",
       "      <td>30</td>\n",
       "      <td>0</td>\n",
       "    </tr>\n",
       "    <tr>\n",
       "      <th>767</th>\n",
       "      <td>1</td>\n",
       "      <td>126</td>\n",
       "      <td>60</td>\n",
       "      <td>0</td>\n",
       "      <td>0</td>\n",
       "      <td>30.1</td>\n",
       "      <td>0.349</td>\n",
       "      <td>47</td>\n",
       "      <td>1</td>\n",
       "    </tr>\n",
       "    <tr>\n",
       "      <th>768</th>\n",
       "      <td>1</td>\n",
       "      <td>93</td>\n",
       "      <td>70</td>\n",
       "      <td>31</td>\n",
       "      <td>0</td>\n",
       "      <td>30.4</td>\n",
       "      <td>0.315</td>\n",
       "      <td>23</td>\n",
       "      <td>0</td>\n",
       "    </tr>\n",
       "  </tbody>\n",
       "</table>\n",
       "<p>768 rows × 9 columns</p>\n",
       "</div>"
      ],
      "text/plain": [
       "    pregnant glucose  bp skin insulin   bmi pedigree age label\n",
       "1          6     148  72   35       0  33.6    0.627  50     1\n",
       "2          1      85  66   29       0  26.6    0.351  31     0\n",
       "3          8     183  64    0       0  23.3    0.672  32     1\n",
       "4          1      89  66   23      94  28.1    0.167  21     0\n",
       "5          0     137  40   35     168  43.1    2.288  33     1\n",
       "..       ...     ...  ..  ...     ...   ...      ...  ..   ...\n",
       "764       10     101  76   48     180  32.9    0.171  63     0\n",
       "765        2     122  70   27       0  36.8     0.34  27     0\n",
       "766        5     121  72   23     112  26.2    0.245  30     0\n",
       "767        1     126  60    0       0  30.1    0.349  47     1\n",
       "768        1      93  70   31       0  30.4    0.315  23     0\n",
       "\n",
       "[768 rows x 9 columns]"
      ]
     },
     "execution_count": 22,
     "metadata": {},
     "output_type": "execute_result"
    }
   ],
   "source": [
    "df = pima.iloc[1:,:]\n",
    "df"
   ]
  },
  {
   "cell_type": "markdown",
   "id": "b727f275",
   "metadata": {},
   "source": [
    "# Selección de características"
   ]
  },
  {
   "cell_type": "code",
   "execution_count": 23,
   "id": "914c2429",
   "metadata": {},
   "outputs": [],
   "source": [
    "feature_cols = ['pregnant', 'insulin', 'bmi', 'age', 'glucose', 'bp', 'pedigree']\n",
    "X = df[feature_cols]\n",
    "y = df.label"
   ]
  },
  {
   "cell_type": "code",
   "execution_count": 24,
   "id": "3e4e2aa5",
   "metadata": {},
   "outputs": [
    {
     "data": {
      "text/html": [
       "<div>\n",
       "<style scoped>\n",
       "    .dataframe tbody tr th:only-of-type {\n",
       "        vertical-align: middle;\n",
       "    }\n",
       "\n",
       "    .dataframe tbody tr th {\n",
       "        vertical-align: top;\n",
       "    }\n",
       "\n",
       "    .dataframe thead th {\n",
       "        text-align: right;\n",
       "    }\n",
       "</style>\n",
       "<table border=\"1\" class=\"dataframe\">\n",
       "  <thead>\n",
       "    <tr style=\"text-align: right;\">\n",
       "      <th></th>\n",
       "      <th>pregnant</th>\n",
       "      <th>insulin</th>\n",
       "      <th>bmi</th>\n",
       "      <th>age</th>\n",
       "      <th>glucose</th>\n",
       "      <th>bp</th>\n",
       "      <th>pedigree</th>\n",
       "    </tr>\n",
       "  </thead>\n",
       "  <tbody>\n",
       "    <tr>\n",
       "      <th>1</th>\n",
       "      <td>6</td>\n",
       "      <td>0</td>\n",
       "      <td>33.6</td>\n",
       "      <td>50</td>\n",
       "      <td>148</td>\n",
       "      <td>72</td>\n",
       "      <td>0.627</td>\n",
       "    </tr>\n",
       "    <tr>\n",
       "      <th>2</th>\n",
       "      <td>1</td>\n",
       "      <td>0</td>\n",
       "      <td>26.6</td>\n",
       "      <td>31</td>\n",
       "      <td>85</td>\n",
       "      <td>66</td>\n",
       "      <td>0.351</td>\n",
       "    </tr>\n",
       "    <tr>\n",
       "      <th>3</th>\n",
       "      <td>8</td>\n",
       "      <td>0</td>\n",
       "      <td>23.3</td>\n",
       "      <td>32</td>\n",
       "      <td>183</td>\n",
       "      <td>64</td>\n",
       "      <td>0.672</td>\n",
       "    </tr>\n",
       "    <tr>\n",
       "      <th>4</th>\n",
       "      <td>1</td>\n",
       "      <td>94</td>\n",
       "      <td>28.1</td>\n",
       "      <td>21</td>\n",
       "      <td>89</td>\n",
       "      <td>66</td>\n",
       "      <td>0.167</td>\n",
       "    </tr>\n",
       "    <tr>\n",
       "      <th>5</th>\n",
       "      <td>0</td>\n",
       "      <td>168</td>\n",
       "      <td>43.1</td>\n",
       "      <td>33</td>\n",
       "      <td>137</td>\n",
       "      <td>40</td>\n",
       "      <td>2.288</td>\n",
       "    </tr>\n",
       "    <tr>\n",
       "      <th>...</th>\n",
       "      <td>...</td>\n",
       "      <td>...</td>\n",
       "      <td>...</td>\n",
       "      <td>...</td>\n",
       "      <td>...</td>\n",
       "      <td>...</td>\n",
       "      <td>...</td>\n",
       "    </tr>\n",
       "    <tr>\n",
       "      <th>764</th>\n",
       "      <td>10</td>\n",
       "      <td>180</td>\n",
       "      <td>32.9</td>\n",
       "      <td>63</td>\n",
       "      <td>101</td>\n",
       "      <td>76</td>\n",
       "      <td>0.171</td>\n",
       "    </tr>\n",
       "    <tr>\n",
       "      <th>765</th>\n",
       "      <td>2</td>\n",
       "      <td>0</td>\n",
       "      <td>36.8</td>\n",
       "      <td>27</td>\n",
       "      <td>122</td>\n",
       "      <td>70</td>\n",
       "      <td>0.34</td>\n",
       "    </tr>\n",
       "    <tr>\n",
       "      <th>766</th>\n",
       "      <td>5</td>\n",
       "      <td>112</td>\n",
       "      <td>26.2</td>\n",
       "      <td>30</td>\n",
       "      <td>121</td>\n",
       "      <td>72</td>\n",
       "      <td>0.245</td>\n",
       "    </tr>\n",
       "    <tr>\n",
       "      <th>767</th>\n",
       "      <td>1</td>\n",
       "      <td>0</td>\n",
       "      <td>30.1</td>\n",
       "      <td>47</td>\n",
       "      <td>126</td>\n",
       "      <td>60</td>\n",
       "      <td>0.349</td>\n",
       "    </tr>\n",
       "    <tr>\n",
       "      <th>768</th>\n",
       "      <td>1</td>\n",
       "      <td>0</td>\n",
       "      <td>30.4</td>\n",
       "      <td>23</td>\n",
       "      <td>93</td>\n",
       "      <td>70</td>\n",
       "      <td>0.315</td>\n",
       "    </tr>\n",
       "  </tbody>\n",
       "</table>\n",
       "<p>768 rows × 7 columns</p>\n",
       "</div>"
      ],
      "text/plain": [
       "    pregnant insulin   bmi age glucose  bp pedigree\n",
       "1          6       0  33.6  50     148  72    0.627\n",
       "2          1       0  26.6  31      85  66    0.351\n",
       "3          8       0  23.3  32     183  64    0.672\n",
       "4          1      94  28.1  21      89  66    0.167\n",
       "5          0     168  43.1  33     137  40    2.288\n",
       "..       ...     ...   ...  ..     ...  ..      ...\n",
       "764       10     180  32.9  63     101  76    0.171\n",
       "765        2       0  36.8  27     122  70     0.34\n",
       "766        5     112  26.2  30     121  72    0.245\n",
       "767        1       0  30.1  47     126  60    0.349\n",
       "768        1       0  30.4  23      93  70    0.315\n",
       "\n",
       "[768 rows x 7 columns]"
      ]
     },
     "execution_count": 24,
     "metadata": {},
     "output_type": "execute_result"
    }
   ],
   "source": [
    "X"
   ]
  },
  {
   "cell_type": "code",
   "execution_count": 25,
   "id": "1ed1fc9a",
   "metadata": {},
   "outputs": [
    {
     "data": {
      "text/plain": [
       "1      1\n",
       "2      0\n",
       "3      1\n",
       "4      0\n",
       "5      1\n",
       "      ..\n",
       "764    0\n",
       "765    0\n",
       "766    0\n",
       "767    1\n",
       "768    0\n",
       "Name: label, Length: 768, dtype: object"
      ]
     },
     "execution_count": 25,
     "metadata": {},
     "output_type": "execute_result"
    }
   ],
   "source": [
    "y"
   ]
  },
  {
   "cell_type": "markdown",
   "id": "5b7d9d09",
   "metadata": {},
   "source": [
    "# Creación de grupos de entrenamiento y prueba."
   ]
  },
  {
   "cell_type": "code",
   "execution_count": 26,
   "id": "f077b569",
   "metadata": {},
   "outputs": [],
   "source": [
    "X_train, X_test, y_train, y_test = train_test_split(X, y, test_size = 0.2, random_state = 1)"
   ]
  },
  {
   "cell_type": "code",
   "execution_count": 27,
   "id": "47dda1c1",
   "metadata": {},
   "outputs": [],
   "source": [
    "# Crear objeto de clasificación del árbol de decisión:\n",
    "\n",
    "clf = DecisionTreeClassifier(criterion = \"gini\")\n",
    "\n",
    "# Aplicación del algoritmo de árboles de decisión a los grupos de entrenamiento\n",
    "\n",
    "clf = clf.fit(X_train, y_train)\n",
    "\n",
    "# Predicción de la respuesta para el grupo de prueba\n",
    "\n",
    "y_pred = clf.predict(X_test)"
   ]
  },
  {
   "cell_type": "markdown",
   "id": "e36337e9",
   "metadata": {},
   "source": [
    "# Matriz de  confusión"
   ]
  },
  {
   "cell_type": "code",
   "execution_count": 28,
   "id": "49fc64fa",
   "metadata": {},
   "outputs": [
    {
     "data": {
      "text/plain": [
       "array([[83, 16],\n",
       "       [25, 30]], dtype=int64)"
      ]
     },
     "execution_count": 28,
     "metadata": {},
     "output_type": "execute_result"
    }
   ],
   "source": [
    "from sklearn.metrics import confusion_matrix\n",
    "cm = confusion_matrix(y_test, y_pred)\n",
    "cm"
   ]
  },
  {
   "cell_type": "markdown",
   "id": "a9013028",
   "metadata": {},
   "source": [
    "# Estadísticas de desempeño"
   ]
  },
  {
   "cell_type": "code",
   "execution_count": 29,
   "id": "c2241796",
   "metadata": {},
   "outputs": [
    {
     "name": "stdout",
     "output_type": "stream",
     "text": [
      "              precision    recall  f1-score   support\n",
      "\n",
      "           0       0.77      0.84      0.80        99\n",
      "           1       0.65      0.55      0.59        55\n",
      "\n",
      "    accuracy                           0.73       154\n",
      "   macro avg       0.71      0.69      0.70       154\n",
      "weighted avg       0.73      0.73      0.73       154\n",
      "\n"
     ]
    }
   ],
   "source": [
    "from sklearn.metrics import classification_report\n",
    "print(classification_report(y_test, y_pred))"
   ]
  },
  {
   "cell_type": "markdown",
   "id": "7dad372a",
   "metadata": {},
   "source": [
    "# Creación de información para el árbol (reglas de decisión)"
   ]
  },
  {
   "cell_type": "code",
   "execution_count": 30,
   "id": "448bd673",
   "metadata": {},
   "outputs": [],
   "source": [
    "dot_data = tree.export_graphviz(clf, out_file=None, feature_names = feature_cols, class_names = [\"Normal\", \"Diabetes\"])\n",
    "\n",
    "#Creación de la gráfica del árbol \n",
    "\n",
    "graph = pydotplus.graph_from_dot_data(dot_data)"
   ]
  },
  {
   "cell_type": "code",
   "execution_count": 31,
   "id": "84047838",
   "metadata": {},
   "outputs": [],
   "source": [
    "#Creación del árbol en formato PDF\n",
    "\n",
    "graph.write_pdf(\"diabetes.pdf\")\n",
    "\n",
    "# Creación del árbol en formato PNG\n",
    "\n",
    "graph.write_png(\"diabetes.png\")\n",
    "\n",
    "image = Image.open(\"diabetes.png\")\n",
    "image.show()"
   ]
  },
  {
   "cell_type": "markdown",
   "id": "192dfe37",
   "metadata": {},
   "source": [
    "# Optimización del desempeño del árbol de decisión."
   ]
  },
  {
   "cell_type": "code",
   "execution_count": 32,
   "id": "1f1e826f",
   "metadata": {},
   "outputs": [],
   "source": [
    "# Crear objeto de clasificación del árbol de decisión:\n",
    "\n",
    "clf = DecisionTreeClassifier(criterion = \"entropy\", max_depth = 3)\n",
    "\n",
    "# Aplicación del algoritmo de árboles de decisión a los grupos de entrenamiento\n",
    "\n",
    "clf = clf.fit(X_train, y_train)\n",
    "\n",
    "# Predicción de la respuesta para el grupo de prueba\n",
    "\n",
    "y_pred = clf.predict(X_test)"
   ]
  },
  {
   "cell_type": "markdown",
   "id": "6537c5b2",
   "metadata": {},
   "source": [
    "# Estadísticas de desempeño"
   ]
  },
  {
   "cell_type": "code",
   "execution_count": 33,
   "id": "9b072f75",
   "metadata": {},
   "outputs": [
    {
     "name": "stdout",
     "output_type": "stream",
     "text": [
      "              precision    recall  f1-score   support\n",
      "\n",
      "           0       0.81      0.89      0.85        99\n",
      "           1       0.76      0.64      0.69        55\n",
      "\n",
      "    accuracy                           0.80       154\n",
      "   macro avg       0.79      0.76      0.77       154\n",
      "weighted avg       0.80      0.80      0.79       154\n",
      "\n"
     ]
    }
   ],
   "source": [
    "from sklearn.metrics import classification_report\n",
    "print(classification_report(y_test, y_pred))"
   ]
  },
  {
   "cell_type": "code",
   "execution_count": 34,
   "id": "58de681f",
   "metadata": {},
   "outputs": [],
   "source": [
    "# Crear objeto de clasificación del árbol de decisión:\n",
    "\n",
    "clf = DecisionTreeClassifier(criterion = \"entropy\", max_depth = 5)\n",
    "\n",
    "# Aplicación del algoritmo de árboles de decisión a los grupos de entrenamiento\n",
    "\n",
    "clf = clf.fit(X_train, y_train)\n",
    "\n",
    "# Predicción de la respuesta para el grupo de prueba\n",
    "\n",
    "y_pred = clf.predict(X_test)"
   ]
  },
  {
   "cell_type": "code",
   "execution_count": 35,
   "id": "57eff903",
   "metadata": {},
   "outputs": [
    {
     "name": "stdout",
     "output_type": "stream",
     "text": [
      "              precision    recall  f1-score   support\n",
      "\n",
      "           0       0.85      0.81      0.83        99\n",
      "           1       0.68      0.75      0.71        55\n",
      "\n",
      "    accuracy                           0.79       154\n",
      "   macro avg       0.77      0.78      0.77       154\n",
      "weighted avg       0.79      0.79      0.79       154\n",
      "\n"
     ]
    }
   ],
   "source": [
    "from sklearn.metrics import classification_report\n",
    "print(classification_report(y_test, y_pred))"
   ]
  },
  {
   "cell_type": "code",
   "execution_count": 40,
   "id": "a3720124",
   "metadata": {},
   "outputs": [],
   "source": [
    "#Creación de información para el árbol (reglas de decisión)\n",
    "\n",
    "dot_data = tree.export_graphviz(clf, out_file=None, feature_names = feature_cols, class_names = [\"Normal\", \"Diabetes\"])\n",
    "\n",
    "#Creación de la gráfica del árbol \n",
    "\n",
    "graph = pydotplus.graph_from_dot_data(dot_data)"
   ]
  },
  {
   "cell_type": "code",
   "execution_count": 42,
   "id": "a1b784b3",
   "metadata": {},
   "outputs": [],
   "source": [
    "#Creación del árbol en formato PDF\n",
    "\n",
    "graph.write_pdf(\"diabetes.pdf\")\n",
    "\n",
    "# Creación del árbol en formato PNG\n",
    "\n",
    "graph.write_png(\"diabetes.png\")\n",
    "\n",
    "image = Image.open(\"diabetes.png\")\n",
    "image.show()"
   ]
  },
  {
   "cell_type": "markdown",
   "id": "a8c32d36",
   "metadata": {},
   "source": [
    "# Este árbol se puede mejorar:"
   ]
  },
  {
   "cell_type": "markdown",
   "id": "4405e709",
   "metadata": {},
   "source": [
    "# Adición de colores al árbol de decisión:"
   ]
  },
  {
   "cell_type": "code",
   "execution_count": 50,
   "id": "73b81265",
   "metadata": {},
   "outputs": [],
   "source": [
    "from six import StringIO\n",
    "from IPython.display import Image\n",
    "from sklearn.tree import export_graphviz\n",
    "from io import StringIO"
   ]
  },
  {
   "cell_type": "code",
   "execution_count": 52,
   "id": "6f999719",
   "metadata": {},
   "outputs": [],
   "source": [
    "dot_data = StringIO()\n",
    "export_graphviz(clf, out_file = dot_data, filled = True, rounded = True, special_characters = True,\n",
    "                feature_names = feature_cols, class_names = [\"Normal\", \"Diabetes\"])\n",
    "graph = pydotplus.graph_from_dot_data(dot_data.getvalue())"
   ]
  },
  {
   "cell_type": "markdown",
   "id": "1c89ca07",
   "metadata": {},
   "source": [
    "# Creación del archivo PNG"
   ]
  },
  {
   "cell_type": "code",
   "execution_count": 53,
   "id": "782c7add",
   "metadata": {},
   "outputs": [],
   "source": [
    "from PIL import Image\n",
    "\n",
    "graph.write_png(\"Diabetes.png\")\n",
    "image = Image.open(\"Diabetes.png\")\n",
    "image.show()"
   ]
  },
  {
   "cell_type": "code",
   "execution_count": null,
   "id": "bd8930ab",
   "metadata": {},
   "outputs": [],
   "source": []
  }
 ],
 "metadata": {
  "kernelspec": {
   "display_name": "Python 3 (ipykernel)",
   "language": "python",
   "name": "python3"
  },
  "language_info": {
   "codemirror_mode": {
    "name": "ipython",
    "version": 3
   },
   "file_extension": ".py",
   "mimetype": "text/x-python",
   "name": "python",
   "nbconvert_exporter": "python",
   "pygments_lexer": "ipython3",
   "version": "3.11.3"
  }
 },
 "nbformat": 4,
 "nbformat_minor": 5
}
